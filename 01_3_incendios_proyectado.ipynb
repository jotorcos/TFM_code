{
 "cells": [
  {
   "cell_type": "code",
   "execution_count": 5,
   "metadata": {},
   "outputs": [],
   "source": [
    "import geopandas as gpd\n",
    "from shapely.geometry import Point, Polygon"
   ]
  },
  {
   "cell_type": "code",
   "execution_count": 3,
   "metadata": {},
   "outputs": [],
   "source": [
    "incendios_93_19 = gpd.read_file('data/incendios_93_19_clean.geojson')"
   ]
  },
  {
   "cell_type": "code",
   "execution_count": 12,
   "metadata": {},
   "outputs": [],
   "source": [
    "incendios_93_19_projected = incendios_93_19.to_crs('ETRS89')"
   ]
  },
  {
   "cell_type": "code",
   "execution_count": 27,
   "metadata": {},
   "outputs": [],
   "source": [
    "# Exportamos\n",
    "incendios_93_19_projected.to_file('data/incendios_93_19_clean_ETRS89.geojson', driver='GeoJSON')"
   ]
  },
  {
   "cell_type": "code",
   "execution_count": 28,
   "metadata": {},
   "outputs": [],
   "source": [
    "incendios_93_19_projected = gpd.read_file('data/incendios_93_19_clean_ETRS89.geojson')"
   ]
  },
  {
   "cell_type": "code",
   "execution_count": 29,
   "metadata": {},
   "outputs": [
    {
     "data": {
      "text/plain": [
       "0        MULTIPOLYGON (((718893.44130 4414482.45690, 71...\n",
       "1        POLYGON ((732056.72330 4300121.52840, 732036.9...\n",
       "2        MULTIPOLYGON (((689853.49000 4385254.77000, 68...\n",
       "3        POLYGON ((766382.39560 4496474.43080, 766457.5...\n",
       "4        MULTIPOLYGON (((749014.90070 4494873.59640, 74...\n",
       "                               ...                        \n",
       "10266    POLYGON ((692184.44760 4321169.60190, 692184.5...\n",
       "10267    POLYGON ((692114.87000 4321188.08370, 692120.1...\n",
       "10268    POLYGON ((751051.13980 4460605.56180, 751058.2...\n",
       "10269    POLYGON ((706529.40080 4401412.82680, 706537.9...\n",
       "10270    POLYGON ((718288.91460 4431031.66370, 718290.3...\n",
       "Name: geometry, Length: 10271, dtype: geometry"
      ]
     },
     "execution_count": 29,
     "metadata": {},
     "output_type": "execute_result"
    }
   ],
   "source": [
    "incendios_93_19_projected.geometry"
   ]
  },
  {
   "cell_type": "code",
   "execution_count": 30,
   "metadata": {},
   "outputs": [],
   "source": [
    "geo_46250_sample_df = gpd.read_file('data/geo_46250_df.geojson')"
   ]
  },
  {
   "cell_type": "code",
   "execution_count": 31,
   "metadata": {},
   "outputs": [
    {
     "data": {
      "text/html": [
       "<div>\n",
       "<style scoped>\n",
       "    .dataframe tbody tr th:only-of-type {\n",
       "        vertical-align: middle;\n",
       "    }\n",
       "\n",
       "    .dataframe tbody tr th {\n",
       "        vertical-align: top;\n",
       "    }\n",
       "\n",
       "    .dataframe thead th {\n",
       "        text-align: right;\n",
       "    }\n",
       "</style>\n",
       "<table border=\"1\" class=\"dataframe\">\n",
       "  <thead>\n",
       "    <tr style=\"text-align: right;\">\n",
       "      <th></th>\n",
       "      <th>et_id</th>\n",
       "      <th>numparte</th>\n",
       "      <th>anyo</th>\n",
       "      <th>c_a</th>\n",
       "      <th>ccaa_nom</th>\n",
       "      <th>prov</th>\n",
       "      <th>prov_nom</th>\n",
       "      <th>comarca</th>\n",
       "      <th>com_nom</th>\n",
       "      <th>com_codicv</th>\n",
       "      <th>...</th>\n",
       "      <th>observ</th>\n",
       "      <th>supcar_ha</th>\n",
       "      <th>shape_Leng</th>\n",
       "      <th>shape_Area</th>\n",
       "      <th>date</th>\n",
       "      <th>geometry</th>\n",
       "      <th>index_right</th>\n",
       "      <th>altitud</th>\n",
       "      <th>pendiente</th>\n",
       "      <th>orientacion</th>\n",
       "    </tr>\n",
       "  </thead>\n",
       "  <tbody>\n",
       "  </tbody>\n",
       "</table>\n",
       "<p>0 rows × 149 columns</p>\n",
       "</div>"
      ],
      "text/plain": [
       "Empty GeoDataFrame\n",
       "Columns: [et_id, numparte, anyo, c_a, ccaa_nom, prov, prov_nom, comarca, com_nom, com_codicv, c_muni, codmun, nom_mun, e_m, paraje, hoja, cuad, huso, x, y, f_detec, f_det_amd, h_detec, f_pm_ter, h_pm_ter, fpm_aeext, hpm_aeext, fpbrighel, hpbrighel, fcontrol, hcontrol, fextinc, hextinc, detecpor, detecp_txt, vigfij, inijunta, inijun_txt, t_causa, t_caus_txt, g_causa, g_caus_txt, causas, motivac, motiv_txt, dtormenta, causante, causan_txt, ncausant, gcc, causa_txt, clasedia, cdia_txt, estacion, hora, dulluvia, tempmax, h_relat, v_viento, d_viento, mod_com, mod_co_txt, p_ign, ind_pel, ind_pe_txt, tip_fuego, t_fueg_txt, medio, medio_txt, d_apie, tecnicos, agentes_f, cuadybrig, bomberos, volun_org, operciv, guarcivil, f_ejercit, autobomba, buldozzer, tractores, otros, avianfnum, avianfdes, avicarnum, avicardes, helextnum, helextbt, helextdes, heltranum, heltrabt, heltrades, aercoonum, retard, retard_txt, ataque, ataque_txt, tatacindi, tataci_txt, muertos, ...]\n",
       "Index: []\n",
       "\n",
       "[0 rows x 149 columns]"
      ]
     },
     "execution_count": 31,
     "metadata": {},
     "output_type": "execute_result"
    }
   ],
   "source": [
    "points_within = gpd.sjoin(incendios_93_19_projected, geo_46250_sample_df, predicate='within')\n",
    "points_within"
   ]
  }
 ],
 "metadata": {
  "kernelspec": {
   "display_name": "TFM_env",
   "language": "python",
   "name": "python3"
  },
  "language_info": {
   "codemirror_mode": {
    "name": "ipython",
    "version": 3
   },
   "file_extension": ".py",
   "mimetype": "text/x-python",
   "name": "python",
   "nbconvert_exporter": "python",
   "pygments_lexer": "ipython3",
   "version": "3.8.15"
  },
  "orig_nbformat": 4
 },
 "nbformat": 4,
 "nbformat_minor": 2
}
