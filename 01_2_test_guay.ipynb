{
 "cells": [
  {
   "cell_type": "code",
   "execution_count": null,
   "metadata": {},
   "outputs": [],
   "source": [
    "!pip3 install raster2xyz"
   ]
  },
  {
   "cell_type": "code",
   "execution_count": 5,
   "metadata": {},
   "outputs": [],
   "source": [
    "import pandas as pd\n",
    "import geopandas as gpd\n",
    "import cdsapi\n",
    "import xarray as xr\n",
    "from urllib.request import urlopen\n",
    "import datetime\n",
    "import random\n",
    "import cdsapi\n",
    "import rasterio\n",
    "from rasterio import features\n",
    "from raster2xyz.raster2xyz import Raster2xyz\n",
    "from shapely.geometry import Point"
   ]
  },
  {
   "cell_type": "code",
   "execution_count": 7,
   "metadata": {},
   "outputs": [],
   "source": [
    "# Specify the paths to the GeoTIFF files\n",
    "elevation_file = \"data/46250_cartografia_tridimensional/MDT_municipio/MDT_46250.tif\"\n",
    "slope_file = \"data/46250_cartografia_tridimensional/pendiente_municipio/pendiente_46250.tif\"\n",
    "orientation_file = \"data/46250_cartografia_tridimensional/orientacion_municipio/orientacion_46250.tif\""
   ]
  },
  {
   "cell_type": "code",
   "execution_count": 8,
   "metadata": {},
   "outputs": [
    {
     "name": "stderr",
     "output_type": "stream",
     "text": [
      "[2023-05-19 03:31:25 - INFO] - Getting geotransform and data...\n",
      "[2023-05-19 03:31:25 - INFO] - Getting XYZ data...\n",
      "[2023-05-19 03:31:25 - INFO] - Getting geotransformed coordinates...\n",
      "[2023-05-19 03:31:26 - INFO] - Building XYZ data...\n",
      "[2023-05-19 03:32:02 - INFO] - New XYZ (csv file) created...\n",
      "[2023-05-19 03:32:02 - INFO] - Getting geotransform and data...\n",
      "[2023-05-19 03:32:02 - INFO] - Getting XYZ data...\n",
      "[2023-05-19 03:32:02 - INFO] - Getting geotransformed coordinates...\n",
      "[2023-05-19 03:32:02 - INFO] - Building XYZ data...\n",
      "[2023-05-19 03:32:39 - INFO] - New XYZ (csv file) created...\n",
      "[2023-05-19 03:32:39 - INFO] - Getting geotransform and data...\n",
      "[2023-05-19 03:32:39 - INFO] - Getting XYZ data...\n",
      "[2023-05-19 03:32:39 - INFO] - Getting geotransformed coordinates...\n",
      "[2023-05-19 03:32:39 - INFO] - Building XYZ data...\n",
      "[2023-05-19 03:33:15 - INFO] - New XYZ (csv file) created...\n"
     ]
    }
   ],
   "source": [
    "# Altitud\n",
    "\n",
    "elevation_csv = \"altitud_46250.csv\"\n",
    "rtxyz = Raster2xyz()\n",
    "rtxyz.translate(elevation_file, elevation_csv)\n",
    "\n",
    "# Pendiente\n",
    "\n",
    "slope_csv = \"pendiente_46250.csv\"\n",
    "rtxyz = Raster2xyz()\n",
    "rtxyz.translate(slope_file, slope_csv)\n",
    "\n",
    "# Orientacion\n",
    "\n",
    "orientation_csv = \"orientacion_46250.csv\"\n",
    "rtxyz = Raster2xyz()\n",
    "rtxyz.translate(orientation_file, orientation_csv)"
   ]
  },
  {
   "cell_type": "code",
   "execution_count": 9,
   "metadata": {},
   "outputs": [],
   "source": [
    "elevation_46250_df = pd.read_csv(elevation_csv)\n",
    "slope_46250_df = pd.read_csv(slope_csv)\n",
    "orientation_46250_df = pd.read_csv(orientation_csv)"
   ]
  },
  {
   "cell_type": "code",
   "execution_count": 10,
   "metadata": {},
   "outputs": [],
   "source": [
    "elevation_46250_df['altitud'] = elevation_46250_df['z']\n",
    "slope_46250_df['pendiente'] = slope_46250_df['z']\n",
    "orientation_46250_df['orientacion'] = orientation_46250_df['z']"
   ]
  },
  {
   "cell_type": "code",
   "execution_count": 11,
   "metadata": {},
   "outputs": [],
   "source": [
    "elevation_46250_df.drop('z', axis=1, inplace=True)\n",
    "slope_46250_df.drop('z', axis=1, inplace=True)\n",
    "orientation_46250_df.drop('z', axis=1, inplace=True)"
   ]
  },
  {
   "cell_type": "code",
   "execution_count": 12,
   "metadata": {},
   "outputs": [],
   "source": [
    "raster_46250_df = elevation_46250_df\n",
    "raster_46250_df['pendiente'] = slope_46250_df['pendiente']\n",
    "raster_46250_df['orientacion'] = orientation_46250_df['orientacion']"
   ]
  },
  {
   "cell_type": "code",
   "execution_count": 13,
   "metadata": {},
   "outputs": [
    {
     "data": {
      "text/html": [
       "<div>\n",
       "<style scoped>\n",
       "    .dataframe tbody tr th:only-of-type {\n",
       "        vertical-align: middle;\n",
       "    }\n",
       "\n",
       "    .dataframe tbody tr th {\n",
       "        vertical-align: top;\n",
       "    }\n",
       "\n",
       "    .dataframe thead th {\n",
       "        text-align: right;\n",
       "    }\n",
       "</style>\n",
       "<table border=\"1\" class=\"dataframe\">\n",
       "  <thead>\n",
       "    <tr style=\"text-align: right;\">\n",
       "      <th></th>\n",
       "      <th>x</th>\n",
       "      <th>y</th>\n",
       "      <th>altitud</th>\n",
       "      <th>pendiente</th>\n",
       "      <th>orientacion</th>\n",
       "    </tr>\n",
       "  </thead>\n",
       "  <tbody>\n",
       "    <tr>\n",
       "      <th>0</th>\n",
       "      <td>720570.98787</td>\n",
       "      <td>4.383051e+06</td>\n",
       "      <td>89.174750</td>\n",
       "      <td>1.378359</td>\n",
       "      <td>275.82956</td>\n",
       "    </tr>\n",
       "    <tr>\n",
       "      <th>1</th>\n",
       "      <td>720575.98787</td>\n",
       "      <td>4.383051e+06</td>\n",
       "      <td>89.207504</td>\n",
       "      <td>0.551836</td>\n",
       "      <td>246.71716</td>\n",
       "    </tr>\n",
       "    <tr>\n",
       "      <th>2</th>\n",
       "      <td>720580.98787</td>\n",
       "      <td>4.383051e+06</td>\n",
       "      <td>89.230750</td>\n",
       "      <td>0.567502</td>\n",
       "      <td>240.71945</td>\n",
       "    </tr>\n",
       "    <tr>\n",
       "      <th>3</th>\n",
       "      <td>720585.98787</td>\n",
       "      <td>4.383051e+06</td>\n",
       "      <td>89.259510</td>\n",
       "      <td>0.726370</td>\n",
       "      <td>235.51875</td>\n",
       "    </tr>\n",
       "    <tr>\n",
       "      <th>4</th>\n",
       "      <td>720590.98787</td>\n",
       "      <td>4.383051e+06</td>\n",
       "      <td>89.273254</td>\n",
       "      <td>0.732560</td>\n",
       "      <td>240.39131</td>\n",
       "    </tr>\n",
       "    <tr>\n",
       "      <th>...</th>\n",
       "      <td>...</td>\n",
       "      <td>...</td>\n",
       "      <td>...</td>\n",
       "      <td>...</td>\n",
       "      <td>...</td>\n",
       "    </tr>\n",
       "    <tr>\n",
       "      <th>18697913</th>\n",
       "      <td>735240.98787</td>\n",
       "      <td>4.351246e+06</td>\n",
       "      <td>0.369000</td>\n",
       "      <td>17.187475</td>\n",
       "      <td>224.62874</td>\n",
       "    </tr>\n",
       "    <tr>\n",
       "      <th>18697914</th>\n",
       "      <td>735245.98787</td>\n",
       "      <td>4.351246e+06</td>\n",
       "      <td>1.202750</td>\n",
       "      <td>26.141370</td>\n",
       "      <td>217.88748</td>\n",
       "    </tr>\n",
       "    <tr>\n",
       "      <th>18697915</th>\n",
       "      <td>735250.98787</td>\n",
       "      <td>4.351246e+06</td>\n",
       "      <td>2.135000</td>\n",
       "      <td>24.151955</td>\n",
       "      <td>191.34540</td>\n",
       "    </tr>\n",
       "    <tr>\n",
       "      <th>18697916</th>\n",
       "      <td>735255.98787</td>\n",
       "      <td>4.351246e+06</td>\n",
       "      <td>1.942750</td>\n",
       "      <td>22.868624</td>\n",
       "      <td>139.16132</td>\n",
       "    </tr>\n",
       "    <tr>\n",
       "      <th>18697917</th>\n",
       "      <td>735260.98787</td>\n",
       "      <td>4.351246e+06</td>\n",
       "      <td>0.697555</td>\n",
       "      <td>19.345718</td>\n",
       "      <td>111.41465</td>\n",
       "    </tr>\n",
       "  </tbody>\n",
       "</table>\n",
       "<p>18697918 rows × 5 columns</p>\n",
       "</div>"
      ],
      "text/plain": [
       "                     x             y    altitud  pendiente  orientacion\n",
       "0         720570.98787  4.383051e+06  89.174750   1.378359    275.82956\n",
       "1         720575.98787  4.383051e+06  89.207504   0.551836    246.71716\n",
       "2         720580.98787  4.383051e+06  89.230750   0.567502    240.71945\n",
       "3         720585.98787  4.383051e+06  89.259510   0.726370    235.51875\n",
       "4         720590.98787  4.383051e+06  89.273254   0.732560    240.39131\n",
       "...                ...           ...        ...        ...          ...\n",
       "18697913  735240.98787  4.351246e+06   0.369000  17.187475    224.62874\n",
       "18697914  735245.98787  4.351246e+06   1.202750  26.141370    217.88748\n",
       "18697915  735250.98787  4.351246e+06   2.135000  24.151955    191.34540\n",
       "18697916  735255.98787  4.351246e+06   1.942750  22.868624    139.16132\n",
       "18697917  735260.98787  4.351246e+06   0.697555  19.345718    111.41465\n",
       "\n",
       "[18697918 rows x 5 columns]"
      ]
     },
     "execution_count": 13,
     "metadata": {},
     "output_type": "execute_result"
    }
   ],
   "source": [
    "raster_46250_df"
   ]
  },
  {
   "cell_type": "code",
   "execution_count": 14,
   "metadata": {},
   "outputs": [],
   "source": [
    "\n",
    "# Create a geometry column from x and y coordinates\n",
    "geometry_46250 = [Point(x, y) for x, y in zip(raster_46250_df['x'], raster_46250_df['y'])]"
   ]
  },
  {
   "cell_type": "code",
   "execution_count": 15,
   "metadata": {},
   "outputs": [
    {
     "name": "stdout",
     "output_type": "stream",
     "text": [
      "              x             y    altitud  pendiente  orientacion  \\\n",
      "0  720570.98787  4.383051e+06  89.174750   1.378359    275.82956   \n",
      "1  720575.98787  4.383051e+06  89.207504   0.551836    246.71716   \n",
      "2  720580.98787  4.383051e+06  89.230750   0.567502    240.71945   \n",
      "3  720585.98787  4.383051e+06  89.259510   0.726370    235.51875   \n",
      "4  720590.98787  4.383051e+06  89.273254   0.732560    240.39131   \n",
      "\n",
      "                             geometry  \n",
      "0  POINT (720570.98787 4383050.61543)  \n",
      "1  POINT (720575.98787 4383050.61543)  \n",
      "2  POINT (720580.98787 4383050.61543)  \n",
      "3  POINT (720585.98787 4383050.61543)  \n",
      "4  POINT (720590.98787 4383050.61543)  \n"
     ]
    }
   ],
   "source": [
    "# Create a GeoDataFrame from the dataframe\n",
    "geo_46250_df = gpd.GeoDataFrame(raster_46250_df, geometry=geometry_46250)\n",
    "\n",
    "# Set the coordinate reference system (CRS) if available\n",
    "geo_46250_df.crs = 'ETRS89'  # Replace with the appropriate CRS code\n",
    "\n",
    "# Print the GeoDataFrame\n",
    "print(geo_46250_df.head())"
   ]
  },
  {
   "cell_type": "code",
   "execution_count": 16,
   "metadata": {},
   "outputs": [],
   "source": [
    "geo_46250_df.drop(['x', 'y'], axis=1, inplace=True)"
   ]
  },
  {
   "cell_type": "code",
   "execution_count": 17,
   "metadata": {},
   "outputs": [
    {
     "data": {
      "text/html": [
       "<div>\n",
       "<style scoped>\n",
       "    .dataframe tbody tr th:only-of-type {\n",
       "        vertical-align: middle;\n",
       "    }\n",
       "\n",
       "    .dataframe tbody tr th {\n",
       "        vertical-align: top;\n",
       "    }\n",
       "\n",
       "    .dataframe thead th {\n",
       "        text-align: right;\n",
       "    }\n",
       "</style>\n",
       "<table border=\"1\" class=\"dataframe\">\n",
       "  <thead>\n",
       "    <tr style=\"text-align: right;\">\n",
       "      <th></th>\n",
       "      <th>altitud</th>\n",
       "      <th>pendiente</th>\n",
       "      <th>orientacion</th>\n",
       "      <th>geometry</th>\n",
       "    </tr>\n",
       "  </thead>\n",
       "  <tbody>\n",
       "    <tr>\n",
       "      <th>0</th>\n",
       "      <td>89.174750</td>\n",
       "      <td>1.378359</td>\n",
       "      <td>275.82956</td>\n",
       "      <td>POINT (720570.98787 4383050.61543)</td>\n",
       "    </tr>\n",
       "    <tr>\n",
       "      <th>1</th>\n",
       "      <td>89.207504</td>\n",
       "      <td>0.551836</td>\n",
       "      <td>246.71716</td>\n",
       "      <td>POINT (720575.98787 4383050.61543)</td>\n",
       "    </tr>\n",
       "    <tr>\n",
       "      <th>2</th>\n",
       "      <td>89.230750</td>\n",
       "      <td>0.567502</td>\n",
       "      <td>240.71945</td>\n",
       "      <td>POINT (720580.98787 4383050.61543)</td>\n",
       "    </tr>\n",
       "    <tr>\n",
       "      <th>3</th>\n",
       "      <td>89.259510</td>\n",
       "      <td>0.726370</td>\n",
       "      <td>235.51875</td>\n",
       "      <td>POINT (720585.98787 4383050.61543)</td>\n",
       "    </tr>\n",
       "    <tr>\n",
       "      <th>4</th>\n",
       "      <td>89.273254</td>\n",
       "      <td>0.732560</td>\n",
       "      <td>240.39131</td>\n",
       "      <td>POINT (720590.98787 4383050.61543)</td>\n",
       "    </tr>\n",
       "    <tr>\n",
       "      <th>...</th>\n",
       "      <td>...</td>\n",
       "      <td>...</td>\n",
       "      <td>...</td>\n",
       "      <td>...</td>\n",
       "    </tr>\n",
       "    <tr>\n",
       "      <th>18697913</th>\n",
       "      <td>0.369000</td>\n",
       "      <td>17.187475</td>\n",
       "      <td>224.62874</td>\n",
       "      <td>POINT (735240.98787 4351245.61543)</td>\n",
       "    </tr>\n",
       "    <tr>\n",
       "      <th>18697914</th>\n",
       "      <td>1.202750</td>\n",
       "      <td>26.141370</td>\n",
       "      <td>217.88748</td>\n",
       "      <td>POINT (735245.98787 4351245.61543)</td>\n",
       "    </tr>\n",
       "    <tr>\n",
       "      <th>18697915</th>\n",
       "      <td>2.135000</td>\n",
       "      <td>24.151955</td>\n",
       "      <td>191.34540</td>\n",
       "      <td>POINT (735250.98787 4351245.61543)</td>\n",
       "    </tr>\n",
       "    <tr>\n",
       "      <th>18697916</th>\n",
       "      <td>1.942750</td>\n",
       "      <td>22.868624</td>\n",
       "      <td>139.16132</td>\n",
       "      <td>POINT (735255.98787 4351245.61543)</td>\n",
       "    </tr>\n",
       "    <tr>\n",
       "      <th>18697917</th>\n",
       "      <td>0.697555</td>\n",
       "      <td>19.345718</td>\n",
       "      <td>111.41465</td>\n",
       "      <td>POINT (735260.98787 4351245.61543)</td>\n",
       "    </tr>\n",
       "  </tbody>\n",
       "</table>\n",
       "<p>18697918 rows × 4 columns</p>\n",
       "</div>"
      ],
      "text/plain": [
       "            altitud  pendiente  orientacion  \\\n",
       "0         89.174750   1.378359    275.82956   \n",
       "1         89.207504   0.551836    246.71716   \n",
       "2         89.230750   0.567502    240.71945   \n",
       "3         89.259510   0.726370    235.51875   \n",
       "4         89.273254   0.732560    240.39131   \n",
       "...             ...        ...          ...   \n",
       "18697913   0.369000  17.187475    224.62874   \n",
       "18697914   1.202750  26.141370    217.88748   \n",
       "18697915   2.135000  24.151955    191.34540   \n",
       "18697916   1.942750  22.868624    139.16132   \n",
       "18697917   0.697555  19.345718    111.41465   \n",
       "\n",
       "                                    geometry  \n",
       "0         POINT (720570.98787 4383050.61543)  \n",
       "1         POINT (720575.98787 4383050.61543)  \n",
       "2         POINT (720580.98787 4383050.61543)  \n",
       "3         POINT (720585.98787 4383050.61543)  \n",
       "4         POINT (720590.98787 4383050.61543)  \n",
       "...                                      ...  \n",
       "18697913  POINT (735240.98787 4351245.61543)  \n",
       "18697914  POINT (735245.98787 4351245.61543)  \n",
       "18697915  POINT (735250.98787 4351245.61543)  \n",
       "18697916  POINT (735255.98787 4351245.61543)  \n",
       "18697917  POINT (735260.98787 4351245.61543)  \n",
       "\n",
       "[18697918 rows x 4 columns]"
      ]
     },
     "execution_count": 17,
     "metadata": {},
     "output_type": "execute_result"
    }
   ],
   "source": [
    "geo_46250_df"
   ]
  },
  {
   "cell_type": "code",
   "execution_count": 18,
   "metadata": {},
   "outputs": [],
   "source": [
    "geo_46250_df_cleaned = geo_46250_df.loc[geo_46250_df['altitud'] > 0]"
   ]
  },
  {
   "cell_type": "code",
   "execution_count": 19,
   "metadata": {},
   "outputs": [],
   "source": [
    "geo_46250_sample_df = geo_46250_df_cleaned.sample(100000)"
   ]
  },
  {
   "cell_type": "code",
   "execution_count": 20,
   "metadata": {},
   "outputs": [],
   "source": [
    "geo_46250_sample_df.to_file('data/geo_46250_df.geojson', driver='GeoJSON')"
   ]
  }
 ],
 "metadata": {
  "kernelspec": {
   "display_name": "TFM_env",
   "language": "python",
   "name": "python3"
  },
  "language_info": {
   "codemirror_mode": {
    "name": "ipython",
    "version": 3
   },
   "file_extension": ".py",
   "mimetype": "text/x-python",
   "name": "python",
   "nbconvert_exporter": "python",
   "pygments_lexer": "ipython3",
   "version": "3.8.15"
  },
  "orig_nbformat": 4
 },
 "nbformat": 4,
 "nbformat_minor": 2
}
