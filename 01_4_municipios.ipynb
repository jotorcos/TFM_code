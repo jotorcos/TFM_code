{
 "cells": [
  {
   "cell_type": "code",
   "execution_count": null,
   "metadata": {},
   "outputs": [],
   "source": [
    "!pip3 install raster2xyz"
   ]
  },
  {
   "cell_type": "code",
   "execution_count": 1,
   "metadata": {},
   "outputs": [],
   "source": [
    "import pandas as pd\n",
    "import geopandas as gpd\n",
    "import cdsapi\n",
    "import xarray as xr\n",
    "from urllib.request import urlopen\n",
    "import datetime\n",
    "import random\n",
    "import cdsapi\n",
    "import rasterio\n",
    "from rasterio import features\n",
    "from raster2xyz.raster2xyz import Raster2xyz\n",
    "from shapely.geometry import Point"
   ]
  },
  {
   "cell_type": "code",
   "execution_count": 13,
   "metadata": {},
   "outputs": [],
   "source": [
    "# Specify the paths to the GeoTIFF files\n",
    "elevation_file = \"data/municipios/cartografia_tridimensional/03102_cartografia_tridimensional/MDT_municipio/MDT_03102.tif\"\n",
    "slope_file = \"data/municipios/cartografia_tridimensional/03102_cartografia_tridimensional/pendiente_municipio/pendiente_03102.tif\"\n",
    "orientation_file = \"data/municipios/cartografia_tridimensional/03102_cartografia_tridimensional/orientacion_municipio/orientacion_03102.tif\""
   ]
  },
  {
   "cell_type": "code",
   "execution_count": 16,
   "metadata": {},
   "outputs": [
    {
     "name": "stderr",
     "output_type": "stream",
     "text": [
      "[2023-05-19 04:52:36 - INFO] - Getting geotransform and data...\n",
      "[2023-05-19 04:52:36 - INFO] - Getting XYZ data...\n",
      "[2023-05-19 04:52:36 - INFO] - Getting geotransformed coordinates...\n",
      "[2023-05-19 04:52:36 - INFO] - Building XYZ data...\n",
      "[2023-05-19 04:52:44 - INFO] - New XYZ (csv file) created...\n",
      "[2023-05-19 04:52:44 - INFO] - Getting geotransform and data...\n",
      "[2023-05-19 04:52:44 - INFO] - Getting XYZ data...\n",
      "[2023-05-19 04:52:44 - INFO] - Getting geotransformed coordinates...\n",
      "[2023-05-19 04:52:44 - INFO] - Building XYZ data...\n",
      "[2023-05-19 04:52:52 - INFO] - New XYZ (csv file) created...\n",
      "[2023-05-19 04:52:52 - INFO] - Getting geotransform and data...\n",
      "[2023-05-19 04:52:52 - INFO] - Getting XYZ data...\n",
      "[2023-05-19 04:52:52 - INFO] - Getting geotransformed coordinates...\n",
      "[2023-05-19 04:52:52 - INFO] - Building XYZ data...\n",
      "[2023-05-19 04:52:59 - INFO] - New XYZ (csv file) created...\n"
     ]
    }
   ],
   "source": [
    "# Altitud\n",
    "\n",
    "elevation_csv = \"data/municipios/datos_generados/03102/altitud_03102.csv\"\n",
    "rtxyz = Raster2xyz()\n",
    "rtxyz.translate(elevation_file, elevation_csv)\n",
    "\n",
    "# Pendiente\n",
    "\n",
    "slope_csv = \"data/municipios/datos_generados/03102/pendiente_03102.csv\"\n",
    "rtxyz = Raster2xyz()\n",
    "rtxyz.translate(slope_file, slope_csv)\n",
    "\n",
    "# Orientacion\n",
    "\n",
    "orientation_csv = \"data/municipios/datos_generados/03102/orientacion_03102.csv\"\n",
    "rtxyz = Raster2xyz()\n",
    "rtxyz.translate(orientation_file, orientation_csv)"
   ]
  },
  {
   "cell_type": "code",
   "execution_count": 17,
   "metadata": {},
   "outputs": [],
   "source": [
    "elevation_03102_df = pd.read_csv(elevation_csv)\n",
    "slope_03102_df = pd.read_csv(slope_csv)\n",
    "orientation_03102_df = pd.read_csv(orientation_csv)"
   ]
  },
  {
   "cell_type": "code",
   "execution_count": 18,
   "metadata": {},
   "outputs": [],
   "source": [
    "elevation_03102_df['altitud'] = elevation_03102_df['z']\n",
    "slope_03102_df['pendiente'] = slope_03102_df['z']\n",
    "orientation_03102_df['orientacion'] = orientation_03102_df['z']"
   ]
  },
  {
   "cell_type": "code",
   "execution_count": 19,
   "metadata": {},
   "outputs": [],
   "source": [
    "elevation_03102_df.drop('z', axis=1, inplace=True)\n",
    "slope_03102_df.drop('z', axis=1, inplace=True)\n",
    "orientation_03102_df.drop('z', axis=1, inplace=True)"
   ]
  },
  {
   "cell_type": "code",
   "execution_count": 20,
   "metadata": {},
   "outputs": [],
   "source": [
    "raster_03102_df = elevation_03102_df\n",
    "raster_03102_df['pendiente'] = slope_03102_df['pendiente']\n",
    "raster_03102_df['orientacion'] = orientation_03102_df['orientacion']"
   ]
  },
  {
   "cell_type": "code",
   "execution_count": 21,
   "metadata": {},
   "outputs": [
    {
     "data": {
      "text/html": [
       "<div>\n",
       "<style scoped>\n",
       "    .dataframe tbody tr th:only-of-type {\n",
       "        vertical-align: middle;\n",
       "    }\n",
       "\n",
       "    .dataframe tbody tr th {\n",
       "        vertical-align: top;\n",
       "    }\n",
       "\n",
       "    .dataframe thead th {\n",
       "        text-align: right;\n",
       "    }\n",
       "</style>\n",
       "<table border=\"1\" class=\"dataframe\">\n",
       "  <thead>\n",
       "    <tr style=\"text-align: right;\">\n",
       "      <th></th>\n",
       "      <th>x</th>\n",
       "      <th>y</th>\n",
       "      <th>altitud</th>\n",
       "      <th>pendiente</th>\n",
       "      <th>orientacion</th>\n",
       "    </tr>\n",
       "  </thead>\n",
       "  <tbody>\n",
       "    <tr>\n",
       "      <th>0</th>\n",
       "      <td>746798.870135</td>\n",
       "      <td>4.308172e+06</td>\n",
       "      <td>425.26700</td>\n",
       "      <td>27.389078</td>\n",
       "      <td>115.62827</td>\n",
       "    </tr>\n",
       "    <tr>\n",
       "      <th>1</th>\n",
       "      <td>746803.870135</td>\n",
       "      <td>4.308172e+06</td>\n",
       "      <td>423.99326</td>\n",
       "      <td>30.299067</td>\n",
       "      <td>114.12234</td>\n",
       "    </tr>\n",
       "    <tr>\n",
       "      <th>2</th>\n",
       "      <td>746808.870135</td>\n",
       "      <td>4.308172e+06</td>\n",
       "      <td>422.49823</td>\n",
       "      <td>33.705704</td>\n",
       "      <td>111.60547</td>\n",
       "    </tr>\n",
       "    <tr>\n",
       "      <th>3</th>\n",
       "      <td>746813.870135</td>\n",
       "      <td>4.308172e+06</td>\n",
       "      <td>420.87625</td>\n",
       "      <td>35.246620</td>\n",
       "      <td>109.49768</td>\n",
       "    </tr>\n",
       "    <tr>\n",
       "      <th>4</th>\n",
       "      <td>746818.870135</td>\n",
       "      <td>4.308172e+06</td>\n",
       "      <td>419.19073</td>\n",
       "      <td>37.483860</td>\n",
       "      <td>109.14037</td>\n",
       "    </tr>\n",
       "    <tr>\n",
       "      <th>...</th>\n",
       "      <td>...</td>\n",
       "      <td>...</td>\n",
       "      <td>...</td>\n",
       "      <td>...</td>\n",
       "      <td>...</td>\n",
       "    </tr>\n",
       "    <tr>\n",
       "      <th>3902323</th>\n",
       "      <td>756733.870135</td>\n",
       "      <td>4.298382e+06</td>\n",
       "      <td>90.00375</td>\n",
       "      <td>10.575702</td>\n",
       "      <td>72.93383</td>\n",
       "    </tr>\n",
       "    <tr>\n",
       "      <th>3902324</th>\n",
       "      <td>756738.870135</td>\n",
       "      <td>4.298382e+06</td>\n",
       "      <td>89.24925</td>\n",
       "      <td>14.328173</td>\n",
       "      <td>80.29402</td>\n",
       "    </tr>\n",
       "    <tr>\n",
       "      <th>3902325</th>\n",
       "      <td>756743.870135</td>\n",
       "      <td>4.298382e+06</td>\n",
       "      <td>88.55600</td>\n",
       "      <td>5.111823</td>\n",
       "      <td>83.11841</td>\n",
       "    </tr>\n",
       "    <tr>\n",
       "      <th>3902326</th>\n",
       "      <td>756748.870135</td>\n",
       "      <td>4.298382e+06</td>\n",
       "      <td>88.75925</td>\n",
       "      <td>8.438879</td>\n",
       "      <td>264.53876</td>\n",
       "    </tr>\n",
       "    <tr>\n",
       "      <th>3902327</th>\n",
       "      <td>756753.870135</td>\n",
       "      <td>4.298382e+06</td>\n",
       "      <td>89.44200</td>\n",
       "      <td>10.195264</td>\n",
       "      <td>267.13210</td>\n",
       "    </tr>\n",
       "  </tbody>\n",
       "</table>\n",
       "<p>3902328 rows × 5 columns</p>\n",
       "</div>"
      ],
      "text/plain": [
       "                     x             y    altitud  pendiente  orientacion\n",
       "0        746798.870135  4.308172e+06  425.26700  27.389078    115.62827\n",
       "1        746803.870135  4.308172e+06  423.99326  30.299067    114.12234\n",
       "2        746808.870135  4.308172e+06  422.49823  33.705704    111.60547\n",
       "3        746813.870135  4.308172e+06  420.87625  35.246620    109.49768\n",
       "4        746818.870135  4.308172e+06  419.19073  37.483860    109.14037\n",
       "...                ...           ...        ...        ...          ...\n",
       "3902323  756733.870135  4.298382e+06   90.00375  10.575702     72.93383\n",
       "3902324  756738.870135  4.298382e+06   89.24925  14.328173     80.29402\n",
       "3902325  756743.870135  4.298382e+06   88.55600   5.111823     83.11841\n",
       "3902326  756748.870135  4.298382e+06   88.75925   8.438879    264.53876\n",
       "3902327  756753.870135  4.298382e+06   89.44200  10.195264    267.13210\n",
       "\n",
       "[3902328 rows x 5 columns]"
      ]
     },
     "execution_count": 21,
     "metadata": {},
     "output_type": "execute_result"
    }
   ],
   "source": [
    "raster_03102_df"
   ]
  },
  {
   "cell_type": "code",
   "execution_count": 22,
   "metadata": {},
   "outputs": [],
   "source": [
    "\n",
    "# Create a geometry column from x and y coordinates\n",
    "geometry_03102 = [Point(x, y) for x, y in zip(raster_03102_df['x'], raster_03102_df['y'])]"
   ]
  },
  {
   "cell_type": "code",
   "execution_count": 23,
   "metadata": {},
   "outputs": [
    {
     "name": "stdout",
     "output_type": "stream",
     "text": [
      "               x             y    altitud  pendiente  orientacion  \\\n",
      "0  746798.870135  4.308172e+06  425.26700  27.389078    115.62827   \n",
      "1  746803.870135  4.308172e+06  423.99326  30.299067    114.12234   \n",
      "2  746808.870135  4.308172e+06  422.49823  33.705704    111.60547   \n",
      "3  746813.870135  4.308172e+06  420.87625  35.246620    109.49768   \n",
      "4  746818.870135  4.308172e+06  419.19073  37.483860    109.14037   \n",
      "\n",
      "                             geometry  \n",
      "0  POINT (746798.87013 4308172.17479)  \n",
      "1  POINT (746803.87013 4308172.17479)  \n",
      "2  POINT (746808.87013 4308172.17479)  \n",
      "3  POINT (746813.87013 4308172.17479)  \n",
      "4  POINT (746818.87013 4308172.17479)  \n"
     ]
    }
   ],
   "source": [
    "# Create a GeoDataFrame from the dataframe\n",
    "geo_03102_df = gpd.GeoDataFrame(raster_03102_df, geometry=geometry_03102)\n",
    "\n",
    "# Set the coordinate reference system (CRS) if available\n",
    "geo_03102_df.crs = 'ETRS89'  # Replace with the appropriate CRS code\n",
    "\n",
    "# Print the GeoDataFrame\n",
    "print(geo_03102_df.head())"
   ]
  },
  {
   "cell_type": "code",
   "execution_count": 24,
   "metadata": {},
   "outputs": [],
   "source": [
    "geo_03102_df.drop(['x', 'y'], axis=1, inplace=True)"
   ]
  },
  {
   "cell_type": "code",
   "execution_count": 25,
   "metadata": {},
   "outputs": [
    {
     "data": {
      "text/html": [
       "<div>\n",
       "<style scoped>\n",
       "    .dataframe tbody tr th:only-of-type {\n",
       "        vertical-align: middle;\n",
       "    }\n",
       "\n",
       "    .dataframe tbody tr th {\n",
       "        vertical-align: top;\n",
       "    }\n",
       "\n",
       "    .dataframe thead th {\n",
       "        text-align: right;\n",
       "    }\n",
       "</style>\n",
       "<table border=\"1\" class=\"dataframe\">\n",
       "  <thead>\n",
       "    <tr style=\"text-align: right;\">\n",
       "      <th></th>\n",
       "      <th>altitud</th>\n",
       "      <th>pendiente</th>\n",
       "      <th>orientacion</th>\n",
       "      <th>geometry</th>\n",
       "    </tr>\n",
       "  </thead>\n",
       "  <tbody>\n",
       "    <tr>\n",
       "      <th>0</th>\n",
       "      <td>425.26700</td>\n",
       "      <td>27.389078</td>\n",
       "      <td>115.62827</td>\n",
       "      <td>POINT (746798.87013 4308172.17479)</td>\n",
       "    </tr>\n",
       "    <tr>\n",
       "      <th>1</th>\n",
       "      <td>423.99326</td>\n",
       "      <td>30.299067</td>\n",
       "      <td>114.12234</td>\n",
       "      <td>POINT (746803.87013 4308172.17479)</td>\n",
       "    </tr>\n",
       "    <tr>\n",
       "      <th>2</th>\n",
       "      <td>422.49823</td>\n",
       "      <td>33.705704</td>\n",
       "      <td>111.60547</td>\n",
       "      <td>POINT (746808.87013 4308172.17479)</td>\n",
       "    </tr>\n",
       "    <tr>\n",
       "      <th>3</th>\n",
       "      <td>420.87625</td>\n",
       "      <td>35.246620</td>\n",
       "      <td>109.49768</td>\n",
       "      <td>POINT (746813.87013 4308172.17479)</td>\n",
       "    </tr>\n",
       "    <tr>\n",
       "      <th>4</th>\n",
       "      <td>419.19073</td>\n",
       "      <td>37.483860</td>\n",
       "      <td>109.14037</td>\n",
       "      <td>POINT (746818.87013 4308172.17479)</td>\n",
       "    </tr>\n",
       "    <tr>\n",
       "      <th>...</th>\n",
       "      <td>...</td>\n",
       "      <td>...</td>\n",
       "      <td>...</td>\n",
       "      <td>...</td>\n",
       "    </tr>\n",
       "    <tr>\n",
       "      <th>3902323</th>\n",
       "      <td>90.00375</td>\n",
       "      <td>10.575702</td>\n",
       "      <td>72.93383</td>\n",
       "      <td>POINT (756733.87013 4298382.17479)</td>\n",
       "    </tr>\n",
       "    <tr>\n",
       "      <th>3902324</th>\n",
       "      <td>89.24925</td>\n",
       "      <td>14.328173</td>\n",
       "      <td>80.29402</td>\n",
       "      <td>POINT (756738.87013 4298382.17479)</td>\n",
       "    </tr>\n",
       "    <tr>\n",
       "      <th>3902325</th>\n",
       "      <td>88.55600</td>\n",
       "      <td>5.111823</td>\n",
       "      <td>83.11841</td>\n",
       "      <td>POINT (756743.87013 4298382.17479)</td>\n",
       "    </tr>\n",
       "    <tr>\n",
       "      <th>3902326</th>\n",
       "      <td>88.75925</td>\n",
       "      <td>8.438879</td>\n",
       "      <td>264.53876</td>\n",
       "      <td>POINT (756748.87013 4298382.17479)</td>\n",
       "    </tr>\n",
       "    <tr>\n",
       "      <th>3902327</th>\n",
       "      <td>89.44200</td>\n",
       "      <td>10.195264</td>\n",
       "      <td>267.13210</td>\n",
       "      <td>POINT (756753.87013 4298382.17479)</td>\n",
       "    </tr>\n",
       "  </tbody>\n",
       "</table>\n",
       "<p>3902328 rows × 4 columns</p>\n",
       "</div>"
      ],
      "text/plain": [
       "           altitud  pendiente  orientacion                            geometry\n",
       "0        425.26700  27.389078    115.62827  POINT (746798.87013 4308172.17479)\n",
       "1        423.99326  30.299067    114.12234  POINT (746803.87013 4308172.17479)\n",
       "2        422.49823  33.705704    111.60547  POINT (746808.87013 4308172.17479)\n",
       "3        420.87625  35.246620    109.49768  POINT (746813.87013 4308172.17479)\n",
       "4        419.19073  37.483860    109.14037  POINT (746818.87013 4308172.17479)\n",
       "...            ...        ...          ...                                 ...\n",
       "3902323   90.00375  10.575702     72.93383  POINT (756733.87013 4298382.17479)\n",
       "3902324   89.24925  14.328173     80.29402  POINT (756738.87013 4298382.17479)\n",
       "3902325   88.55600   5.111823     83.11841  POINT (756743.87013 4298382.17479)\n",
       "3902326   88.75925   8.438879    264.53876  POINT (756748.87013 4298382.17479)\n",
       "3902327   89.44200  10.195264    267.13210  POINT (756753.87013 4298382.17479)\n",
       "\n",
       "[3902328 rows x 4 columns]"
      ]
     },
     "execution_count": 25,
     "metadata": {},
     "output_type": "execute_result"
    }
   ],
   "source": [
    "geo_03102_df"
   ]
  },
  {
   "cell_type": "code",
   "execution_count": 26,
   "metadata": {},
   "outputs": [],
   "source": [
    "geo_03102_df_cleaned = geo_03102_df.loc[geo_03102_df['altitud'] > 0]"
   ]
  },
  {
   "cell_type": "code",
   "execution_count": 27,
   "metadata": {},
   "outputs": [],
   "source": [
    "geo_03102_sample_df = geo_03102_df_cleaned.sample(100000)"
   ]
  },
  {
   "cell_type": "code",
   "execution_count": 30,
   "metadata": {},
   "outputs": [],
   "source": [
    "geo_03102_sample_df.to_file('data/municipios/datos_generados/03102/geo_03102_df.geojson', driver='GeoJSON')"
   ]
  }
 ],
 "metadata": {
  "kernelspec": {
   "display_name": "TFM_env",
   "language": "python",
   "name": "python3"
  },
  "language_info": {
   "codemirror_mode": {
    "name": "ipython",
    "version": 3
   },
   "file_extension": ".py",
   "mimetype": "text/x-python",
   "name": "python",
   "nbconvert_exporter": "python",
   "pygments_lexer": "ipython3",
   "version": "3.8.15"
  },
  "orig_nbformat": 4
 },
 "nbformat": 4,
 "nbformat_minor": 2
}
