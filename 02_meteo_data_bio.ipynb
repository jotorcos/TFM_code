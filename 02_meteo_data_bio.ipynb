{
 "cells": [
  {
   "cell_type": "code",
   "execution_count": 9,
   "metadata": {},
   "outputs": [],
   "source": [
    "import pandas as pd\n",
    "import geopandas as gpd\n",
    "import cdsapi\n",
    "import xarray as xr\n",
    "from urllib.request import urlopen\n",
    "import datetime\n",
    "import random"
   ]
  },
  {
   "cell_type": "code",
   "execution_count": 10,
   "metadata": {},
   "outputs": [],
   "source": [
    "c = cdsapi.Client()"
   ]
  },
  {
   "cell_type": "code",
   "execution_count": 58,
   "metadata": {},
   "outputs": [
    {
     "data": {
      "text/html": [
       "<div>\n",
       "<style scoped>\n",
       "    .dataframe tbody tr th:only-of-type {\n",
       "        vertical-align: middle;\n",
       "    }\n",
       "\n",
       "    .dataframe tbody tr th {\n",
       "        vertical-align: top;\n",
       "    }\n",
       "\n",
       "    .dataframe thead th {\n",
       "        text-align: right;\n",
       "    }\n",
       "</style>\n",
       "<table border=\"1\" class=\"dataframe\">\n",
       "  <thead>\n",
       "    <tr style=\"text-align: right;\">\n",
       "      <th></th>\n",
       "      <th>altitud</th>\n",
       "      <th>pendiente</th>\n",
       "      <th>orientacion</th>\n",
       "      <th>is_fire</th>\n",
       "      <th>date</th>\n",
       "      <th>TIPOBOSQUE</th>\n",
       "      <th>n_CLAIFN</th>\n",
       "      <th>UsoIFN</th>\n",
       "      <th>n_CLAMFE</th>\n",
       "      <th>UsoMFE</th>\n",
       "      <th>geometry</th>\n",
       "    </tr>\n",
       "  </thead>\n",
       "  <tbody>\n",
       "    <tr>\n",
       "      <th>0</th>\n",
       "      <td>644.62350</td>\n",
       "      <td>53.724090</td>\n",
       "      <td>30.371418</td>\n",
       "      <td>False</td>\n",
       "      <td>NaT</td>\n",
       "      <td>-</td>\n",
       "      <td>141</td>\n",
       "      <td>Monte desarbolado. Matorral</td>\n",
       "      <td>140</td>\n",
       "      <td>Desarbolado</td>\n",
       "      <td>POINT (750538.87013 4298747.17479)</td>\n",
       "    </tr>\n",
       "    <tr>\n",
       "      <th>1</th>\n",
       "      <td>462.58950</td>\n",
       "      <td>48.272960</td>\n",
       "      <td>178.964360</td>\n",
       "      <td>True</td>\n",
       "      <td>2015-05-14</td>\n",
       "      <td>-</td>\n",
       "      <td>141</td>\n",
       "      <td>Monte desarbolado. Matorral</td>\n",
       "      <td>140</td>\n",
       "      <td>Desarbolado</td>\n",
       "      <td>POINT (750413.87013 4299652.17479)</td>\n",
       "    </tr>\n",
       "    <tr>\n",
       "      <th>2</th>\n",
       "      <td>388.61575</td>\n",
       "      <td>59.145134</td>\n",
       "      <td>272.722630</td>\n",
       "      <td>True</td>\n",
       "      <td>2015-05-14</td>\n",
       "      <td>-</td>\n",
       "      <td>141</td>\n",
       "      <td>Monte desarbolado. Matorral</td>\n",
       "      <td>140</td>\n",
       "      <td>Desarbolado</td>\n",
       "      <td>POINT (747393.87013 4301007.17479)</td>\n",
       "    </tr>\n",
       "    <tr>\n",
       "      <th>3</th>\n",
       "      <td>186.00400</td>\n",
       "      <td>64.174590</td>\n",
       "      <td>110.825650</td>\n",
       "      <td>False</td>\n",
       "      <td>NaT</td>\n",
       "      <td>-</td>\n",
       "      <td>141</td>\n",
       "      <td>Monte desarbolado. Matorral</td>\n",
       "      <td>140</td>\n",
       "      <td>Desarbolado</td>\n",
       "      <td>POINT (752063.87013 4301087.17479)</td>\n",
       "    </tr>\n",
       "    <tr>\n",
       "      <th>4</th>\n",
       "      <td>430.73900</td>\n",
       "      <td>65.798060</td>\n",
       "      <td>46.656640</td>\n",
       "      <td>False</td>\n",
       "      <td>NaT</td>\n",
       "      <td>-</td>\n",
       "      <td>141</td>\n",
       "      <td>Monte desarbolado. Matorral</td>\n",
       "      <td>140</td>\n",
       "      <td>Desarbolado</td>\n",
       "      <td>POINT (752583.87013 4299042.17479)</td>\n",
       "    </tr>\n",
       "    <tr>\n",
       "      <th>...</th>\n",
       "      <td>...</td>\n",
       "      <td>...</td>\n",
       "      <td>...</td>\n",
       "      <td>...</td>\n",
       "      <td>...</td>\n",
       "      <td>...</td>\n",
       "      <td>...</td>\n",
       "      <td>...</td>\n",
       "      <td>...</td>\n",
       "      <td>...</td>\n",
       "      <td>...</td>\n",
       "    </tr>\n",
       "    <tr>\n",
       "      <th>102662</th>\n",
       "      <td>133.49701</td>\n",
       "      <td>59.942820</td>\n",
       "      <td>29.433777</td>\n",
       "      <td>False</td>\n",
       "      <td>NaT</td>\n",
       "      <td>Masas mixtas</td>\n",
       "      <td>111</td>\n",
       "      <td>Monte arbolado. Bosque</td>\n",
       "      <td>110</td>\n",
       "      <td>Arbolado</td>\n",
       "      <td>POINT (748928.87013 4302777.17479)</td>\n",
       "    </tr>\n",
       "    <tr>\n",
       "      <th>102663</th>\n",
       "      <td>112.43375</td>\n",
       "      <td>32.661343</td>\n",
       "      <td>91.326584</td>\n",
       "      <td>False</td>\n",
       "      <td>NaT</td>\n",
       "      <td>Coníferas</td>\n",
       "      <td>111</td>\n",
       "      <td>Monte arbolado. Bosque</td>\n",
       "      <td>110</td>\n",
       "      <td>Arbolado</td>\n",
       "      <td>POINT (746883.87013 4306112.17479)</td>\n",
       "    </tr>\n",
       "    <tr>\n",
       "      <th>102664</th>\n",
       "      <td>105.72275</td>\n",
       "      <td>46.806534</td>\n",
       "      <td>99.408905</td>\n",
       "      <td>False</td>\n",
       "      <td>NaT</td>\n",
       "      <td>Coníferas</td>\n",
       "      <td>111</td>\n",
       "      <td>Monte arbolado. Bosque</td>\n",
       "      <td>110</td>\n",
       "      <td>Arbolado</td>\n",
       "      <td>POINT (746913.87013 4306232.17479)</td>\n",
       "    </tr>\n",
       "    <tr>\n",
       "      <th>102665</th>\n",
       "      <td>112.69425</td>\n",
       "      <td>33.522152</td>\n",
       "      <td>92.198970</td>\n",
       "      <td>False</td>\n",
       "      <td>NaT</td>\n",
       "      <td>Coníferas</td>\n",
       "      <td>111</td>\n",
       "      <td>Monte arbolado. Bosque</td>\n",
       "      <td>110</td>\n",
       "      <td>Arbolado</td>\n",
       "      <td>POINT (746883.87013 4306087.17479)</td>\n",
       "    </tr>\n",
       "    <tr>\n",
       "      <th>102666</th>\n",
       "      <td>132.16624</td>\n",
       "      <td>147.765210</td>\n",
       "      <td>183.652590</td>\n",
       "      <td>False</td>\n",
       "      <td>NaT</td>\n",
       "      <td>-</td>\n",
       "      <td>300</td>\n",
       "      <td>Artificial</td>\n",
       "      <td>300</td>\n",
       "      <td>Artificial</td>\n",
       "      <td>POINT (746813.87013 4306967.17479)</td>\n",
       "    </tr>\n",
       "  </tbody>\n",
       "</table>\n",
       "<p>102667 rows × 11 columns</p>\n",
       "</div>"
      ],
      "text/plain": [
       "          altitud   pendiente  orientacion  is_fire       date    TIPOBOSQUE  \\\n",
       "0       644.62350   53.724090    30.371418    False        NaT             -   \n",
       "1       462.58950   48.272960   178.964360     True 2015-05-14             -   \n",
       "2       388.61575   59.145134   272.722630     True 2015-05-14             -   \n",
       "3       186.00400   64.174590   110.825650    False        NaT             -   \n",
       "4       430.73900   65.798060    46.656640    False        NaT             -   \n",
       "...           ...         ...          ...      ...        ...           ...   \n",
       "102662  133.49701   59.942820    29.433777    False        NaT  Masas mixtas   \n",
       "102663  112.43375   32.661343    91.326584    False        NaT     Coníferas   \n",
       "102664  105.72275   46.806534    99.408905    False        NaT     Coníferas   \n",
       "102665  112.69425   33.522152    92.198970    False        NaT     Coníferas   \n",
       "102666  132.16624  147.765210   183.652590    False        NaT             -   \n",
       "\n",
       "        n_CLAIFN                       UsoIFN  n_CLAMFE       UsoMFE  \\\n",
       "0            141  Monte desarbolado. Matorral       140  Desarbolado   \n",
       "1            141  Monte desarbolado. Matorral       140  Desarbolado   \n",
       "2            141  Monte desarbolado. Matorral       140  Desarbolado   \n",
       "3            141  Monte desarbolado. Matorral       140  Desarbolado   \n",
       "4            141  Monte desarbolado. Matorral       140  Desarbolado   \n",
       "...          ...                          ...       ...          ...   \n",
       "102662       111       Monte arbolado. Bosque       110     Arbolado   \n",
       "102663       111       Monte arbolado. Bosque       110     Arbolado   \n",
       "102664       111       Monte arbolado. Bosque       110     Arbolado   \n",
       "102665       111       Monte arbolado. Bosque       110     Arbolado   \n",
       "102666       300                   Artificial       300   Artificial   \n",
       "\n",
       "                                  geometry  \n",
       "0       POINT (750538.87013 4298747.17479)  \n",
       "1       POINT (750413.87013 4299652.17479)  \n",
       "2       POINT (747393.87013 4301007.17479)  \n",
       "3       POINT (752063.87013 4301087.17479)  \n",
       "4       POINT (752583.87013 4299042.17479)  \n",
       "...                                    ...  \n",
       "102662  POINT (748928.87013 4302777.17479)  \n",
       "102663  POINT (746883.87013 4306112.17479)  \n",
       "102664  POINT (746913.87013 4306232.17479)  \n",
       "102665  POINT (746883.87013 4306087.17479)  \n",
       "102666  POINT (746813.87013 4306967.17479)  \n",
       "\n",
       "[102667 rows x 11 columns]"
      ]
     },
     "execution_count": 58,
     "metadata": {},
     "output_type": "execute_result"
    }
   ],
   "source": [
    "points_df = gpd.read_file(\"data/points_tridimensional_biodiversidad.geojson\")\n",
    "points_df.set_crs(4326, allow_override=True, inplace=True)\n",
    "points_df = points_df[['altitud', 'pendiente', 'orientacion', 'is_fire', 'date','TIPOBOSQUE', 'n_CLAIFN', 'UsoIFN', 'n_CLAMFE', 'UsoMFE', 'geometry']]\n",
    "points_df"
   ]
  },
  {
   "cell_type": "code",
   "execution_count": 13,
   "metadata": {},
   "outputs": [],
   "source": [
    "# Generate random date times for non-fire points\n",
    "start = datetime.datetime(year=1993, month=1, day=1)\n",
    "end = datetime.datetime(year=2019, month=12, day=31)\n",
    "\n",
    "r_dates =  points_df[\"date\"] .isnull()\n",
    "dates_list = [start + datetime.timedelta(seconds=random.randint(0, int((end - start).total_seconds()))) for x in r_dates if x is True]\n",
    "points_df.loc[r_dates, \"date\"] = dates_list\n"
   ]
  },
  {
   "cell_type": "code",
   "execution_count": 14,
   "metadata": {},
   "outputs": [
    {
     "data": {
      "text/html": [
       "<div>\n",
       "<style scoped>\n",
       "    .dataframe tbody tr th:only-of-type {\n",
       "        vertical-align: middle;\n",
       "    }\n",
       "\n",
       "    .dataframe tbody tr th {\n",
       "        vertical-align: top;\n",
       "    }\n",
       "\n",
       "    .dataframe thead th {\n",
       "        text-align: right;\n",
       "    }\n",
       "</style>\n",
       "<table border=\"1\" class=\"dataframe\">\n",
       "  <thead>\n",
       "    <tr style=\"text-align: right;\">\n",
       "      <th></th>\n",
       "      <th>altitud</th>\n",
       "      <th>pendiente</th>\n",
       "      <th>orientacion</th>\n",
       "      <th>is_fire</th>\n",
       "      <th>date</th>\n",
       "      <th>TIPOBOSQUE</th>\n",
       "      <th>n_CLAIFN</th>\n",
       "      <th>UsoIFN</th>\n",
       "      <th>n_CLAMFE</th>\n",
       "      <th>UsoMFE</th>\n",
       "      <th>geometry</th>\n",
       "    </tr>\n",
       "  </thead>\n",
       "  <tbody>\n",
       "    <tr>\n",
       "      <th>0</th>\n",
       "      <td>644.62350</td>\n",
       "      <td>53.724090</td>\n",
       "      <td>30.371418</td>\n",
       "      <td>False</td>\n",
       "      <td>2009-10-04 10:22:30</td>\n",
       "      <td>-</td>\n",
       "      <td>141</td>\n",
       "      <td>Monte desarbolado. Matorral</td>\n",
       "      <td>140</td>\n",
       "      <td>Desarbolado</td>\n",
       "      <td>POINT (750538.870 4298747.175)</td>\n",
       "    </tr>\n",
       "    <tr>\n",
       "      <th>1</th>\n",
       "      <td>462.58950</td>\n",
       "      <td>48.272960</td>\n",
       "      <td>178.964360</td>\n",
       "      <td>True</td>\n",
       "      <td>2015-05-14 00:00:00</td>\n",
       "      <td>-</td>\n",
       "      <td>141</td>\n",
       "      <td>Monte desarbolado. Matorral</td>\n",
       "      <td>140</td>\n",
       "      <td>Desarbolado</td>\n",
       "      <td>POINT (750413.870 4299652.175)</td>\n",
       "    </tr>\n",
       "    <tr>\n",
       "      <th>2</th>\n",
       "      <td>388.61575</td>\n",
       "      <td>59.145134</td>\n",
       "      <td>272.722630</td>\n",
       "      <td>True</td>\n",
       "      <td>2015-05-14 00:00:00</td>\n",
       "      <td>-</td>\n",
       "      <td>141</td>\n",
       "      <td>Monte desarbolado. Matorral</td>\n",
       "      <td>140</td>\n",
       "      <td>Desarbolado</td>\n",
       "      <td>POINT (747393.870 4301007.175)</td>\n",
       "    </tr>\n",
       "    <tr>\n",
       "      <th>3</th>\n",
       "      <td>186.00400</td>\n",
       "      <td>64.174590</td>\n",
       "      <td>110.825650</td>\n",
       "      <td>False</td>\n",
       "      <td>2009-04-14 11:05:03</td>\n",
       "      <td>-</td>\n",
       "      <td>141</td>\n",
       "      <td>Monte desarbolado. Matorral</td>\n",
       "      <td>140</td>\n",
       "      <td>Desarbolado</td>\n",
       "      <td>POINT (752063.870 4301087.175)</td>\n",
       "    </tr>\n",
       "    <tr>\n",
       "      <th>4</th>\n",
       "      <td>430.73900</td>\n",
       "      <td>65.798060</td>\n",
       "      <td>46.656640</td>\n",
       "      <td>False</td>\n",
       "      <td>2014-11-22 05:32:56</td>\n",
       "      <td>-</td>\n",
       "      <td>141</td>\n",
       "      <td>Monte desarbolado. Matorral</td>\n",
       "      <td>140</td>\n",
       "      <td>Desarbolado</td>\n",
       "      <td>POINT (752583.870 4299042.175)</td>\n",
       "    </tr>\n",
       "    <tr>\n",
       "      <th>...</th>\n",
       "      <td>...</td>\n",
       "      <td>...</td>\n",
       "      <td>...</td>\n",
       "      <td>...</td>\n",
       "      <td>...</td>\n",
       "      <td>...</td>\n",
       "      <td>...</td>\n",
       "      <td>...</td>\n",
       "      <td>...</td>\n",
       "      <td>...</td>\n",
       "      <td>...</td>\n",
       "    </tr>\n",
       "    <tr>\n",
       "      <th>102662</th>\n",
       "      <td>133.49701</td>\n",
       "      <td>59.942820</td>\n",
       "      <td>29.433777</td>\n",
       "      <td>False</td>\n",
       "      <td>2006-12-08 07:18:53</td>\n",
       "      <td>Masas mixtas</td>\n",
       "      <td>111</td>\n",
       "      <td>Monte arbolado. Bosque</td>\n",
       "      <td>110</td>\n",
       "      <td>Arbolado</td>\n",
       "      <td>POINT (748928.870 4302777.175)</td>\n",
       "    </tr>\n",
       "    <tr>\n",
       "      <th>102663</th>\n",
       "      <td>112.43375</td>\n",
       "      <td>32.661343</td>\n",
       "      <td>91.326584</td>\n",
       "      <td>False</td>\n",
       "      <td>2015-09-22 10:27:53</td>\n",
       "      <td>Coníferas</td>\n",
       "      <td>111</td>\n",
       "      <td>Monte arbolado. Bosque</td>\n",
       "      <td>110</td>\n",
       "      <td>Arbolado</td>\n",
       "      <td>POINT (746883.870 4306112.175)</td>\n",
       "    </tr>\n",
       "    <tr>\n",
       "      <th>102664</th>\n",
       "      <td>105.72275</td>\n",
       "      <td>46.806534</td>\n",
       "      <td>99.408905</td>\n",
       "      <td>False</td>\n",
       "      <td>1995-05-18 12:16:28</td>\n",
       "      <td>Coníferas</td>\n",
       "      <td>111</td>\n",
       "      <td>Monte arbolado. Bosque</td>\n",
       "      <td>110</td>\n",
       "      <td>Arbolado</td>\n",
       "      <td>POINT (746913.870 4306232.175)</td>\n",
       "    </tr>\n",
       "    <tr>\n",
       "      <th>102665</th>\n",
       "      <td>112.69425</td>\n",
       "      <td>33.522152</td>\n",
       "      <td>92.198970</td>\n",
       "      <td>False</td>\n",
       "      <td>2006-12-27 16:47:24</td>\n",
       "      <td>Coníferas</td>\n",
       "      <td>111</td>\n",
       "      <td>Monte arbolado. Bosque</td>\n",
       "      <td>110</td>\n",
       "      <td>Arbolado</td>\n",
       "      <td>POINT (746883.870 4306087.175)</td>\n",
       "    </tr>\n",
       "    <tr>\n",
       "      <th>102666</th>\n",
       "      <td>132.16624</td>\n",
       "      <td>147.765210</td>\n",
       "      <td>183.652590</td>\n",
       "      <td>False</td>\n",
       "      <td>2019-10-26 23:28:48</td>\n",
       "      <td>-</td>\n",
       "      <td>300</td>\n",
       "      <td>Artificial</td>\n",
       "      <td>300</td>\n",
       "      <td>Artificial</td>\n",
       "      <td>POINT (746813.870 4306967.175)</td>\n",
       "    </tr>\n",
       "  </tbody>\n",
       "</table>\n",
       "<p>102667 rows × 11 columns</p>\n",
       "</div>"
      ],
      "text/plain": [
       "          altitud   pendiente  orientacion  is_fire                date  \\\n",
       "0       644.62350   53.724090    30.371418    False 2009-10-04 10:22:30   \n",
       "1       462.58950   48.272960   178.964360     True 2015-05-14 00:00:00   \n",
       "2       388.61575   59.145134   272.722630     True 2015-05-14 00:00:00   \n",
       "3       186.00400   64.174590   110.825650    False 2009-04-14 11:05:03   \n",
       "4       430.73900   65.798060    46.656640    False 2014-11-22 05:32:56   \n",
       "...           ...         ...          ...      ...                 ...   \n",
       "102662  133.49701   59.942820    29.433777    False 2006-12-08 07:18:53   \n",
       "102663  112.43375   32.661343    91.326584    False 2015-09-22 10:27:53   \n",
       "102664  105.72275   46.806534    99.408905    False 1995-05-18 12:16:28   \n",
       "102665  112.69425   33.522152    92.198970    False 2006-12-27 16:47:24   \n",
       "102666  132.16624  147.765210   183.652590    False 2019-10-26 23:28:48   \n",
       "\n",
       "          TIPOBOSQUE  n_CLAIFN                       UsoIFN  n_CLAMFE  \\\n",
       "0                  -       141  Monte desarbolado. Matorral       140   \n",
       "1                  -       141  Monte desarbolado. Matorral       140   \n",
       "2                  -       141  Monte desarbolado. Matorral       140   \n",
       "3                  -       141  Monte desarbolado. Matorral       140   \n",
       "4                  -       141  Monte desarbolado. Matorral       140   \n",
       "...              ...       ...                          ...       ...   \n",
       "102662  Masas mixtas       111       Monte arbolado. Bosque       110   \n",
       "102663     Coníferas       111       Monte arbolado. Bosque       110   \n",
       "102664     Coníferas       111       Monte arbolado. Bosque       110   \n",
       "102665     Coníferas       111       Monte arbolado. Bosque       110   \n",
       "102666             -       300                   Artificial       300   \n",
       "\n",
       "             UsoMFE                        geometry  \n",
       "0       Desarbolado  POINT (750538.870 4298747.175)  \n",
       "1       Desarbolado  POINT (750413.870 4299652.175)  \n",
       "2       Desarbolado  POINT (747393.870 4301007.175)  \n",
       "3       Desarbolado  POINT (752063.870 4301087.175)  \n",
       "4       Desarbolado  POINT (752583.870 4299042.175)  \n",
       "...             ...                             ...  \n",
       "102662     Arbolado  POINT (748928.870 4302777.175)  \n",
       "102663     Arbolado  POINT (746883.870 4306112.175)  \n",
       "102664     Arbolado  POINT (746913.870 4306232.175)  \n",
       "102665     Arbolado  POINT (746883.870 4306087.175)  \n",
       "102666   Artificial  POINT (746813.870 4306967.175)  \n",
       "\n",
       "[102667 rows x 11 columns]"
      ]
     },
     "execution_count": 14,
     "metadata": {},
     "output_type": "execute_result"
    }
   ],
   "source": [
    "points_df"
   ]
  },
  {
   "cell_type": "code",
   "execution_count": 19,
   "metadata": {},
   "outputs": [],
   "source": [
    "points_df_head_100 = points_df.head(100)"
   ]
  },
  {
   "cell_type": "code",
   "execution_count": 20,
   "metadata": {},
   "outputs": [
    {
     "data": {
      "text/html": [
       "<div>\n",
       "<style scoped>\n",
       "    .dataframe tbody tr th:only-of-type {\n",
       "        vertical-align: middle;\n",
       "    }\n",
       "\n",
       "    .dataframe tbody tr th {\n",
       "        vertical-align: top;\n",
       "    }\n",
       "\n",
       "    .dataframe thead th {\n",
       "        text-align: right;\n",
       "    }\n",
       "</style>\n",
       "<table border=\"1\" class=\"dataframe\">\n",
       "  <thead>\n",
       "    <tr style=\"text-align: right;\">\n",
       "      <th></th>\n",
       "      <th>altitud</th>\n",
       "      <th>pendiente</th>\n",
       "      <th>orientacion</th>\n",
       "      <th>is_fire</th>\n",
       "      <th>date</th>\n",
       "      <th>TIPOBOSQUE</th>\n",
       "      <th>n_CLAIFN</th>\n",
       "      <th>UsoIFN</th>\n",
       "      <th>n_CLAMFE</th>\n",
       "      <th>UsoMFE</th>\n",
       "      <th>geometry</th>\n",
       "    </tr>\n",
       "  </thead>\n",
       "  <tbody>\n",
       "    <tr>\n",
       "      <th>0</th>\n",
       "      <td>644.62350</td>\n",
       "      <td>53.724090</td>\n",
       "      <td>30.371418</td>\n",
       "      <td>False</td>\n",
       "      <td>2009-10-04 10:22:30</td>\n",
       "      <td>-</td>\n",
       "      <td>141</td>\n",
       "      <td>Monte desarbolado. Matorral</td>\n",
       "      <td>140</td>\n",
       "      <td>Desarbolado</td>\n",
       "      <td>POINT (750538.870 4298747.175)</td>\n",
       "    </tr>\n",
       "    <tr>\n",
       "      <th>1</th>\n",
       "      <td>462.58950</td>\n",
       "      <td>48.272960</td>\n",
       "      <td>178.964360</td>\n",
       "      <td>True</td>\n",
       "      <td>2015-05-14 00:00:00</td>\n",
       "      <td>-</td>\n",
       "      <td>141</td>\n",
       "      <td>Monte desarbolado. Matorral</td>\n",
       "      <td>140</td>\n",
       "      <td>Desarbolado</td>\n",
       "      <td>POINT (750413.870 4299652.175)</td>\n",
       "    </tr>\n",
       "    <tr>\n",
       "      <th>2</th>\n",
       "      <td>388.61575</td>\n",
       "      <td>59.145134</td>\n",
       "      <td>272.722630</td>\n",
       "      <td>True</td>\n",
       "      <td>2015-05-14 00:00:00</td>\n",
       "      <td>-</td>\n",
       "      <td>141</td>\n",
       "      <td>Monte desarbolado. Matorral</td>\n",
       "      <td>140</td>\n",
       "      <td>Desarbolado</td>\n",
       "      <td>POINT (747393.870 4301007.175)</td>\n",
       "    </tr>\n",
       "    <tr>\n",
       "      <th>3</th>\n",
       "      <td>186.00400</td>\n",
       "      <td>64.174590</td>\n",
       "      <td>110.825650</td>\n",
       "      <td>False</td>\n",
       "      <td>2009-04-14 11:05:03</td>\n",
       "      <td>-</td>\n",
       "      <td>141</td>\n",
       "      <td>Monte desarbolado. Matorral</td>\n",
       "      <td>140</td>\n",
       "      <td>Desarbolado</td>\n",
       "      <td>POINT (752063.870 4301087.175)</td>\n",
       "    </tr>\n",
       "    <tr>\n",
       "      <th>4</th>\n",
       "      <td>430.73900</td>\n",
       "      <td>65.798060</td>\n",
       "      <td>46.656640</td>\n",
       "      <td>False</td>\n",
       "      <td>2014-11-22 05:32:56</td>\n",
       "      <td>-</td>\n",
       "      <td>141</td>\n",
       "      <td>Monte desarbolado. Matorral</td>\n",
       "      <td>140</td>\n",
       "      <td>Desarbolado</td>\n",
       "      <td>POINT (752583.870 4299042.175)</td>\n",
       "    </tr>\n",
       "    <tr>\n",
       "      <th>...</th>\n",
       "      <td>...</td>\n",
       "      <td>...</td>\n",
       "      <td>...</td>\n",
       "      <td>...</td>\n",
       "      <td>...</td>\n",
       "      <td>...</td>\n",
       "      <td>...</td>\n",
       "      <td>...</td>\n",
       "      <td>...</td>\n",
       "      <td>...</td>\n",
       "      <td>...</td>\n",
       "    </tr>\n",
       "    <tr>\n",
       "      <th>95</th>\n",
       "      <td>317.08398</td>\n",
       "      <td>74.482660</td>\n",
       "      <td>335.153320</td>\n",
       "      <td>True</td>\n",
       "      <td>2015-05-14 00:00:00</td>\n",
       "      <td>-</td>\n",
       "      <td>141</td>\n",
       "      <td>Monte desarbolado. Matorral</td>\n",
       "      <td>140</td>\n",
       "      <td>Desarbolado</td>\n",
       "      <td>POINT (751458.870 4300787.175)</td>\n",
       "    </tr>\n",
       "    <tr>\n",
       "      <th>96</th>\n",
       "      <td>417.35750</td>\n",
       "      <td>22.101006</td>\n",
       "      <td>266.454960</td>\n",
       "      <td>True</td>\n",
       "      <td>2015-05-14 00:00:00</td>\n",
       "      <td>-</td>\n",
       "      <td>141</td>\n",
       "      <td>Monte desarbolado. Matorral</td>\n",
       "      <td>140</td>\n",
       "      <td>Desarbolado</td>\n",
       "      <td>POINT (750568.870 4300032.175)</td>\n",
       "    </tr>\n",
       "    <tr>\n",
       "      <th>97</th>\n",
       "      <td>501.00073</td>\n",
       "      <td>25.450514</td>\n",
       "      <td>251.064040</td>\n",
       "      <td>True</td>\n",
       "      <td>2015-05-14 00:00:00</td>\n",
       "      <td>-</td>\n",
       "      <td>141</td>\n",
       "      <td>Monte desarbolado. Matorral</td>\n",
       "      <td>140</td>\n",
       "      <td>Desarbolado</td>\n",
       "      <td>POINT (750783.870 4299432.175)</td>\n",
       "    </tr>\n",
       "    <tr>\n",
       "      <th>98</th>\n",
       "      <td>347.52050</td>\n",
       "      <td>12.218469</td>\n",
       "      <td>26.134975</td>\n",
       "      <td>True</td>\n",
       "      <td>2015-05-14 00:00:00</td>\n",
       "      <td>-</td>\n",
       "      <td>141</td>\n",
       "      <td>Monte desarbolado. Matorral</td>\n",
       "      <td>140</td>\n",
       "      <td>Desarbolado</td>\n",
       "      <td>POINT (749198.870 4300952.175)</td>\n",
       "    </tr>\n",
       "    <tr>\n",
       "      <th>99</th>\n",
       "      <td>347.52050</td>\n",
       "      <td>12.218469</td>\n",
       "      <td>26.134975</td>\n",
       "      <td>True</td>\n",
       "      <td>1993-10-04 00:00:00</td>\n",
       "      <td>-</td>\n",
       "      <td>141</td>\n",
       "      <td>Monte desarbolado. Matorral</td>\n",
       "      <td>140</td>\n",
       "      <td>Desarbolado</td>\n",
       "      <td>POINT (749198.870 4300952.175)</td>\n",
       "    </tr>\n",
       "  </tbody>\n",
       "</table>\n",
       "<p>100 rows × 11 columns</p>\n",
       "</div>"
      ],
      "text/plain": [
       "      altitud  pendiente  orientacion  is_fire                date TIPOBOSQUE  \\\n",
       "0   644.62350  53.724090    30.371418    False 2009-10-04 10:22:30          -   \n",
       "1   462.58950  48.272960   178.964360     True 2015-05-14 00:00:00          -   \n",
       "2   388.61575  59.145134   272.722630     True 2015-05-14 00:00:00          -   \n",
       "3   186.00400  64.174590   110.825650    False 2009-04-14 11:05:03          -   \n",
       "4   430.73900  65.798060    46.656640    False 2014-11-22 05:32:56          -   \n",
       "..        ...        ...          ...      ...                 ...        ...   \n",
       "95  317.08398  74.482660   335.153320     True 2015-05-14 00:00:00          -   \n",
       "96  417.35750  22.101006   266.454960     True 2015-05-14 00:00:00          -   \n",
       "97  501.00073  25.450514   251.064040     True 2015-05-14 00:00:00          -   \n",
       "98  347.52050  12.218469    26.134975     True 2015-05-14 00:00:00          -   \n",
       "99  347.52050  12.218469    26.134975     True 1993-10-04 00:00:00          -   \n",
       "\n",
       "    n_CLAIFN                       UsoIFN  n_CLAMFE       UsoMFE  \\\n",
       "0        141  Monte desarbolado. Matorral       140  Desarbolado   \n",
       "1        141  Monte desarbolado. Matorral       140  Desarbolado   \n",
       "2        141  Monte desarbolado. Matorral       140  Desarbolado   \n",
       "3        141  Monte desarbolado. Matorral       140  Desarbolado   \n",
       "4        141  Monte desarbolado. Matorral       140  Desarbolado   \n",
       "..       ...                          ...       ...          ...   \n",
       "95       141  Monte desarbolado. Matorral       140  Desarbolado   \n",
       "96       141  Monte desarbolado. Matorral       140  Desarbolado   \n",
       "97       141  Monte desarbolado. Matorral       140  Desarbolado   \n",
       "98       141  Monte desarbolado. Matorral       140  Desarbolado   \n",
       "99       141  Monte desarbolado. Matorral       140  Desarbolado   \n",
       "\n",
       "                          geometry  \n",
       "0   POINT (750538.870 4298747.175)  \n",
       "1   POINT (750413.870 4299652.175)  \n",
       "2   POINT (747393.870 4301007.175)  \n",
       "3   POINT (752063.870 4301087.175)  \n",
       "4   POINT (752583.870 4299042.175)  \n",
       "..                             ...  \n",
       "95  POINT (751458.870 4300787.175)  \n",
       "96  POINT (750568.870 4300032.175)  \n",
       "97  POINT (750783.870 4299432.175)  \n",
       "98  POINT (749198.870 4300952.175)  \n",
       "99  POINT (749198.870 4300952.175)  \n",
       "\n",
       "[100 rows x 11 columns]"
      ]
     },
     "execution_count": 20,
     "metadata": {},
     "output_type": "execute_result"
    }
   ],
   "source": [
    "points_df_head_100"
   ]
  },
  {
   "cell_type": "code",
   "execution_count": 60,
   "metadata": {},
   "outputs": [],
   "source": [
    "points_df_head_sample_100 = points_df.sample(100)"
   ]
  },
  {
   "cell_type": "code",
   "execution_count": 62,
   "metadata": {},
   "outputs": [
    {
     "data": {
      "text/plain": [
       "array([141, 200, 140, 111, 500, 300, 121])"
      ]
     },
     "execution_count": 62,
     "metadata": {},
     "output_type": "execute_result"
    }
   ],
   "source": [
    "points_df_head_sample_100['n_CLAIFN'].unique()"
   ]
  },
  {
   "cell_type": "code",
   "execution_count": 64,
   "metadata": {},
   "outputs": [
    {
     "data": {
      "text/plain": [
       "13"
      ]
     },
     "execution_count": 64,
     "metadata": {},
     "output_type": "execute_result"
    }
   ],
   "source": [
    "len(points_df_head_sample_100[points_df_head_sample_100['is_fire'] == True])"
   ]
  },
  {
   "cell_type": "code",
   "execution_count": 67,
   "metadata": {},
   "outputs": [
    {
     "data": {
      "text/html": [
       "<div>\n",
       "<style scoped>\n",
       "    .dataframe tbody tr th:only-of-type {\n",
       "        vertical-align: middle;\n",
       "    }\n",
       "\n",
       "    .dataframe tbody tr th {\n",
       "        vertical-align: top;\n",
       "    }\n",
       "\n",
       "    .dataframe thead th {\n",
       "        text-align: right;\n",
       "    }\n",
       "</style>\n",
       "<table border=\"1\" class=\"dataframe\">\n",
       "  <thead>\n",
       "    <tr style=\"text-align: right;\">\n",
       "      <th></th>\n",
       "      <th>altitud</th>\n",
       "      <th>pendiente</th>\n",
       "      <th>orientacion</th>\n",
       "      <th>is_fire</th>\n",
       "      <th>date</th>\n",
       "      <th>TIPOBOSQUE</th>\n",
       "      <th>n_CLAIFN</th>\n",
       "      <th>UsoIFN</th>\n",
       "      <th>n_CLAMFE</th>\n",
       "      <th>UsoMFE</th>\n",
       "      <th>geometry</th>\n",
       "    </tr>\n",
       "  </thead>\n",
       "  <tbody>\n",
       "    <tr>\n",
       "      <th>12769</th>\n",
       "      <td>330.32776</td>\n",
       "      <td>61.884880</td>\n",
       "      <td>325.470640</td>\n",
       "      <td>True</td>\n",
       "      <td>2015-05-14</td>\n",
       "      <td>-</td>\n",
       "      <td>141</td>\n",
       "      <td>Monte desarbolado. Matorral</td>\n",
       "      <td>140</td>\n",
       "      <td>Desarbolado</td>\n",
       "      <td>POINT (747198.87013 4302522.17479)</td>\n",
       "    </tr>\n",
       "    <tr>\n",
       "      <th>53313</th>\n",
       "      <td>118.69500</td>\n",
       "      <td>20.878986</td>\n",
       "      <td>126.744110</td>\n",
       "      <td>False</td>\n",
       "      <td>NaT</td>\n",
       "      <td>-</td>\n",
       "      <td>200</td>\n",
       "      <td>Agrícola</td>\n",
       "      <td>200</td>\n",
       "      <td>Cultivos</td>\n",
       "      <td>POINT (755668.87013 4301767.17479)</td>\n",
       "    </tr>\n",
       "    <tr>\n",
       "      <th>16593</th>\n",
       "      <td>40.67875</td>\n",
       "      <td>2.922518</td>\n",
       "      <td>0.073288</td>\n",
       "      <td>False</td>\n",
       "      <td>NaT</td>\n",
       "      <td>-</td>\n",
       "      <td>200</td>\n",
       "      <td>Agrícola</td>\n",
       "      <td>200</td>\n",
       "      <td>Cultivos</td>\n",
       "      <td>POINT (750313.87013 4304187.17479)</td>\n",
       "    </tr>\n",
       "    <tr>\n",
       "      <th>13788</th>\n",
       "      <td>549.39825</td>\n",
       "      <td>24.581156</td>\n",
       "      <td>14.562103</td>\n",
       "      <td>True</td>\n",
       "      <td>2015-05-14</td>\n",
       "      <td>-</td>\n",
       "      <td>141</td>\n",
       "      <td>Monte desarbolado. Matorral</td>\n",
       "      <td>140</td>\n",
       "      <td>Desarbolado</td>\n",
       "      <td>POINT (747168.87013 4300427.17479)</td>\n",
       "    </tr>\n",
       "    <tr>\n",
       "      <th>58945</th>\n",
       "      <td>1.25500</td>\n",
       "      <td>0.226567</td>\n",
       "      <td>5.223167</td>\n",
       "      <td>False</td>\n",
       "      <td>NaT</td>\n",
       "      <td>-</td>\n",
       "      <td>200</td>\n",
       "      <td>Agrícola</td>\n",
       "      <td>200</td>\n",
       "      <td>Cultivos</td>\n",
       "      <td>POINT (754923.87013 4307192.17479)</td>\n",
       "    </tr>\n",
       "    <tr>\n",
       "      <th>...</th>\n",
       "      <td>...</td>\n",
       "      <td>...</td>\n",
       "      <td>...</td>\n",
       "      <td>...</td>\n",
       "      <td>...</td>\n",
       "      <td>...</td>\n",
       "      <td>...</td>\n",
       "      <td>...</td>\n",
       "      <td>...</td>\n",
       "      <td>...</td>\n",
       "      <td>...</td>\n",
       "    </tr>\n",
       "    <tr>\n",
       "      <th>27664</th>\n",
       "      <td>97.77600</td>\n",
       "      <td>31.619638</td>\n",
       "      <td>69.991980</td>\n",
       "      <td>False</td>\n",
       "      <td>NaT</td>\n",
       "      <td>-</td>\n",
       "      <td>200</td>\n",
       "      <td>Agrícola</td>\n",
       "      <td>200</td>\n",
       "      <td>Cultivos</td>\n",
       "      <td>POINT (748518.87013 4304392.17479)</td>\n",
       "    </tr>\n",
       "    <tr>\n",
       "      <th>80210</th>\n",
       "      <td>194.28600</td>\n",
       "      <td>84.342640</td>\n",
       "      <td>354.169000</td>\n",
       "      <td>False</td>\n",
       "      <td>NaT</td>\n",
       "      <td>-</td>\n",
       "      <td>141</td>\n",
       "      <td>Monte desarbolado. Matorral</td>\n",
       "      <td>140</td>\n",
       "      <td>Desarbolado</td>\n",
       "      <td>POINT (749183.87013 4306312.17479)</td>\n",
       "    </tr>\n",
       "    <tr>\n",
       "      <th>96462</th>\n",
       "      <td>145.60776</td>\n",
       "      <td>26.872421</td>\n",
       "      <td>344.359380</td>\n",
       "      <td>False</td>\n",
       "      <td>NaT</td>\n",
       "      <td>-</td>\n",
       "      <td>200</td>\n",
       "      <td>Agrícola</td>\n",
       "      <td>200</td>\n",
       "      <td>Cultivos</td>\n",
       "      <td>POINT (747178.87013 4307307.17479)</td>\n",
       "    </tr>\n",
       "    <tr>\n",
       "      <th>63265</th>\n",
       "      <td>1.45575</td>\n",
       "      <td>1.689961</td>\n",
       "      <td>338.454380</td>\n",
       "      <td>False</td>\n",
       "      <td>NaT</td>\n",
       "      <td>-</td>\n",
       "      <td>200</td>\n",
       "      <td>Agrícola</td>\n",
       "      <td>200</td>\n",
       "      <td>Cultivos</td>\n",
       "      <td>POINT (755258.87013 4307647.17479)</td>\n",
       "    </tr>\n",
       "    <tr>\n",
       "      <th>59004</th>\n",
       "      <td>1.24925</td>\n",
       "      <td>1.199504</td>\n",
       "      <td>260.341370</td>\n",
       "      <td>False</td>\n",
       "      <td>NaT</td>\n",
       "      <td>-</td>\n",
       "      <td>200</td>\n",
       "      <td>Agrícola</td>\n",
       "      <td>200</td>\n",
       "      <td>Cultivos</td>\n",
       "      <td>POINT (755103.87013 4306777.17479)</td>\n",
       "    </tr>\n",
       "  </tbody>\n",
       "</table>\n",
       "<p>100 rows × 11 columns</p>\n",
       "</div>"
      ],
      "text/plain": [
       "         altitud  pendiente  orientacion  is_fire       date TIPOBOSQUE  \\\n",
       "12769  330.32776  61.884880   325.470640     True 2015-05-14          -   \n",
       "53313  118.69500  20.878986   126.744110    False        NaT          -   \n",
       "16593   40.67875   2.922518     0.073288    False        NaT          -   \n",
       "13788  549.39825  24.581156    14.562103     True 2015-05-14          -   \n",
       "58945    1.25500   0.226567     5.223167    False        NaT          -   \n",
       "...          ...        ...          ...      ...        ...        ...   \n",
       "27664   97.77600  31.619638    69.991980    False        NaT          -   \n",
       "80210  194.28600  84.342640   354.169000    False        NaT          -   \n",
       "96462  145.60776  26.872421   344.359380    False        NaT          -   \n",
       "63265    1.45575   1.689961   338.454380    False        NaT          -   \n",
       "59004    1.24925   1.199504   260.341370    False        NaT          -   \n",
       "\n",
       "       n_CLAIFN                       UsoIFN  n_CLAMFE       UsoMFE  \\\n",
       "12769       141  Monte desarbolado. Matorral       140  Desarbolado   \n",
       "53313       200                     Agrícola       200     Cultivos   \n",
       "16593       200                     Agrícola       200     Cultivos   \n",
       "13788       141  Monte desarbolado. Matorral       140  Desarbolado   \n",
       "58945       200                     Agrícola       200     Cultivos   \n",
       "...         ...                          ...       ...          ...   \n",
       "27664       200                     Agrícola       200     Cultivos   \n",
       "80210       141  Monte desarbolado. Matorral       140  Desarbolado   \n",
       "96462       200                     Agrícola       200     Cultivos   \n",
       "63265       200                     Agrícola       200     Cultivos   \n",
       "59004       200                     Agrícola       200     Cultivos   \n",
       "\n",
       "                                 geometry  \n",
       "12769  POINT (747198.87013 4302522.17479)  \n",
       "53313  POINT (755668.87013 4301767.17479)  \n",
       "16593  POINT (750313.87013 4304187.17479)  \n",
       "13788  POINT (747168.87013 4300427.17479)  \n",
       "58945  POINT (754923.87013 4307192.17479)  \n",
       "...                                   ...  \n",
       "27664  POINT (748518.87013 4304392.17479)  \n",
       "80210  POINT (749183.87013 4306312.17479)  \n",
       "96462  POINT (747178.87013 4307307.17479)  \n",
       "63265  POINT (755258.87013 4307647.17479)  \n",
       "59004  POINT (755103.87013 4306777.17479)  \n",
       "\n",
       "[100 rows x 11 columns]"
      ]
     },
     "execution_count": 67,
     "metadata": {},
     "output_type": "execute_result"
    }
   ],
   "source": [
    "points_df_head_sample_100"
   ]
  },
  {
   "cell_type": "code",
   "execution_count": null,
   "metadata": {},
   "outputs": [],
   "source": [
    "points_df_head_sample_100.points_from_xy(['x'], df['y'], df['z'])"
   ]
  },
  {
   "cell_type": "code",
   "execution_count": 66,
   "metadata": {},
   "outputs": [
    {
     "data": {
      "text/plain": [
       "<Geographic 2D CRS: EPSG:4326>\n",
       "Name: WGS 84\n",
       "Axis Info [ellipsoidal]:\n",
       "- Lat[north]: Geodetic latitude (degree)\n",
       "- Lon[east]: Geodetic longitude (degree)\n",
       "Area of Use:\n",
       "- name: World.\n",
       "- bounds: (-180.0, -90.0, 180.0, 90.0)\n",
       "Datum: World Geodetic System 1984\n",
       "- Ellipsoid: WGS 84\n",
       "- Prime Meridian: Greenwich"
      ]
     },
     "execution_count": 66,
     "metadata": {},
     "output_type": "execute_result"
    }
   ],
   "source": [
    "points_df_head_sample_100.crs"
   ]
  },
  {
   "cell_type": "code",
   "execution_count": 25,
   "metadata": {},
   "outputs": [
    {
     "name": "stderr",
     "output_type": "stream",
     "text": [
      "/opt/homebrew/anaconda3/envs/TFM_env/lib/python3.8/site-packages/geopandas/geodataframe.py:1443: SettingWithCopyWarning: \n",
      "A value is trying to be set on a copy of a slice from a DataFrame.\n",
      "Try using .loc[row_indexer,col_indexer] = value instead\n",
      "\n",
      "See the caveats in the documentation: https://pandas.pydata.org/pandas-docs/stable/user_guide/indexing.html#returning-a-view-versus-a-copy\n",
      "  super().__setitem__(key, value)\n"
     ]
    },
    {
     "name": "stdout",
     "output_type": "stream",
     "text": [
      "0\n"
     ]
    },
    {
     "name": "stderr",
     "output_type": "stream",
     "text": [
      "2023-05-22 12:52:24,688 INFO Welcome to the CDS\n",
      "2023-05-22 12:52:24,688 INFO Sending request to https://cds.climate.copernicus.eu/api/v2/resources/reanalysis-era5-pressure-levels\n",
      "2023-05-22 12:52:24,771 INFO Request is queued\n",
      "2023-05-22 12:52:27,390 INFO Request is running\n",
      "2023-05-22 12:52:33,183 INFO Request is completed\n",
      "2023-05-22 12:52:33,776 INFO Welcome to the CDS\n",
      "2023-05-22 12:52:33,776 INFO Sending request to https://cds.climate.copernicus.eu/api/v2/resources/reanalysis-era5-pressure-levels\n"
     ]
    },
    {
     "name": "stdout",
     "output_type": "stream",
     "text": [
      "1\n"
     ]
    },
    {
     "name": "stderr",
     "output_type": "stream",
     "text": [
      "2023-05-22 12:52:34,256 INFO Welcome to the CDS\n",
      "2023-05-22 12:52:34,257 INFO Sending request to https://cds.climate.copernicus.eu/api/v2/resources/reanalysis-era5-pressure-levels\n"
     ]
    },
    {
     "name": "stdout",
     "output_type": "stream",
     "text": [
      "2\n"
     ]
    },
    {
     "name": "stderr",
     "output_type": "stream",
     "text": [
      "2023-05-22 12:52:34,767 INFO Welcome to the CDS\n",
      "2023-05-22 12:52:34,768 INFO Sending request to https://cds.climate.copernicus.eu/api/v2/resources/reanalysis-era5-pressure-levels\n",
      "2023-05-22 12:52:34,863 INFO Request is queued\n"
     ]
    },
    {
     "name": "stdout",
     "output_type": "stream",
     "text": [
      "3\n"
     ]
    },
    {
     "name": "stderr",
     "output_type": "stream",
     "text": [
      "2023-05-22 12:53:50,288 INFO Request is completed\n",
      "2023-05-22 12:53:50,735 INFO Welcome to the CDS\n",
      "2023-05-22 12:53:50,736 INFO Sending request to https://cds.climate.copernicus.eu/api/v2/resources/reanalysis-era5-pressure-levels\n"
     ]
    },
    {
     "name": "stdout",
     "output_type": "stream",
     "text": [
      "4\n"
     ]
    },
    {
     "name": "stderr",
     "output_type": "stream",
     "text": [
      "2023-05-22 12:53:50,856 INFO Request is queued\n",
      "2023-05-22 12:54:40,605 INFO Request is completed\n",
      "2023-05-22 12:54:41,036 INFO Welcome to the CDS\n",
      "2023-05-22 12:54:41,037 INFO Sending request to https://cds.climate.copernicus.eu/api/v2/resources/reanalysis-era5-pressure-levels\n",
      "2023-05-22 12:54:41,142 INFO Request is queued\n"
     ]
    },
    {
     "name": "stdout",
     "output_type": "stream",
     "text": [
      "5\n"
     ]
    },
    {
     "name": "stderr",
     "output_type": "stream",
     "text": [
      "2023-05-22 12:56:35,094 INFO Request is completed\n",
      "2023-05-22 12:56:35,530 INFO Welcome to the CDS\n",
      "2023-05-22 12:56:35,530 INFO Sending request to https://cds.climate.copernicus.eu/api/v2/resources/reanalysis-era5-pressure-levels\n"
     ]
    },
    {
     "name": "stdout",
     "output_type": "stream",
     "text": [
      "6\n"
     ]
    },
    {
     "name": "stderr",
     "output_type": "stream",
     "text": [
      "2023-05-22 12:56:35,709 INFO Request is queued\n",
      "2023-05-22 12:56:38,350 INFO Request is running\n",
      "2023-05-22 12:56:44,159 INFO Request is completed\n",
      "2023-05-22 12:56:44,477 INFO Welcome to the CDS\n",
      "2023-05-22 12:56:44,477 INFO Sending request to https://cds.climate.copernicus.eu/api/v2/resources/reanalysis-era5-pressure-levels\n",
      "2023-05-22 12:56:44,569 INFO Request is queued\n"
     ]
    },
    {
     "name": "stdout",
     "output_type": "stream",
     "text": [
      "7\n"
     ]
    },
    {
     "name": "stderr",
     "output_type": "stream",
     "text": [
      "2023-05-22 12:56:49,499 INFO Request is running\n",
      "2023-05-22 12:56:58,068 INFO Request is completed\n",
      "2023-05-22 12:56:58,388 INFO Welcome to the CDS\n",
      "2023-05-22 12:56:58,388 INFO Sending request to https://cds.climate.copernicus.eu/api/v2/resources/reanalysis-era5-pressure-levels\n"
     ]
    },
    {
     "name": "stdout",
     "output_type": "stream",
     "text": [
      "8\n"
     ]
    },
    {
     "name": "stderr",
     "output_type": "stream",
     "text": [
      "2023-05-22 12:56:58,898 INFO Welcome to the CDS\n",
      "2023-05-22 12:56:58,898 INFO Sending request to https://cds.climate.copernicus.eu/api/v2/resources/reanalysis-era5-pressure-levels\n",
      "2023-05-22 12:56:59,018 INFO Request is queued\n"
     ]
    },
    {
     "name": "stdout",
     "output_type": "stream",
     "text": [
      "9\n"
     ]
    },
    {
     "name": "stderr",
     "output_type": "stream",
     "text": [
      "2023-05-22 12:57:00,109 INFO Request is running\n",
      "2023-05-22 12:57:07,420 INFO Request is completed\n",
      "2023-05-22 12:57:07,817 INFO Welcome to the CDS\n",
      "2023-05-22 12:57:07,819 INFO Sending request to https://cds.climate.copernicus.eu/api/v2/resources/reanalysis-era5-pressure-levels\n",
      "2023-05-22 12:57:07,881 INFO Request is queued\n"
     ]
    },
    {
     "name": "stdout",
     "output_type": "stream",
     "text": [
      "10\n"
     ]
    },
    {
     "name": "stderr",
     "output_type": "stream",
     "text": [
      "2023-05-22 12:57:12,815 INFO Request is running\n",
      "2023-05-22 12:57:21,369 INFO Request is completed\n",
      "2023-05-22 12:57:24,744 INFO Welcome to the CDS\n",
      "2023-05-22 12:57:24,745 INFO Sending request to https://cds.climate.copernicus.eu/api/v2/resources/reanalysis-era5-pressure-levels\n"
     ]
    },
    {
     "name": "stdout",
     "output_type": "stream",
     "text": [
      "11\n"
     ]
    },
    {
     "name": "stderr",
     "output_type": "stream",
     "text": [
      "2023-05-22 12:57:25,295 INFO Welcome to the CDS\n",
      "2023-05-22 12:57:25,297 INFO Sending request to https://cds.climate.copernicus.eu/api/v2/resources/reanalysis-era5-pressure-levels\n"
     ]
    },
    {
     "name": "stdout",
     "output_type": "stream",
     "text": [
      "12\n"
     ]
    },
    {
     "name": "stderr",
     "output_type": "stream",
     "text": [
      "2023-05-22 12:57:25,834 INFO Welcome to the CDS\n",
      "2023-05-22 12:57:25,834 INFO Sending request to https://cds.climate.copernicus.eu/api/v2/resources/reanalysis-era5-pressure-levels\n",
      "2023-05-22 12:57:25,920 INFO Request is queued\n"
     ]
    },
    {
     "name": "stdout",
     "output_type": "stream",
     "text": [
      "13\n"
     ]
    },
    {
     "name": "stderr",
     "output_type": "stream",
     "text": [
      "2023-05-22 12:57:39,393 INFO Request is running\n",
      "2023-05-22 12:57:47,052 INFO Request is completed\n",
      "2023-05-22 12:57:47,452 INFO Welcome to the CDS\n",
      "2023-05-22 12:57:47,452 INFO Sending request to https://cds.climate.copernicus.eu/api/v2/resources/reanalysis-era5-pressure-levels\n",
      "2023-05-22 12:57:47,553 INFO Request is queued\n"
     ]
    },
    {
     "name": "stdout",
     "output_type": "stream",
     "text": [
      "14\n"
     ]
    },
    {
     "name": "stderr",
     "output_type": "stream",
     "text": [
      "2023-05-22 12:59:03,240 INFO Request is completed\n",
      "2023-05-22 12:59:03,675 INFO Welcome to the CDS\n",
      "2023-05-22 12:59:03,676 INFO Sending request to https://cds.climate.copernicus.eu/api/v2/resources/reanalysis-era5-pressure-levels\n",
      "2023-05-22 12:59:03,754 INFO Request is queued\n"
     ]
    },
    {
     "name": "stdout",
     "output_type": "stream",
     "text": [
      "15\n"
     ]
    },
    {
     "name": "stderr",
     "output_type": "stream",
     "text": [
      "2023-05-22 13:00:57,934 INFO Request is completed\n",
      "2023-05-22 13:00:58,359 INFO Welcome to the CDS\n",
      "2023-05-22 13:00:58,360 INFO Sending request to https://cds.climate.copernicus.eu/api/v2/resources/reanalysis-era5-pressure-levels\n"
     ]
    },
    {
     "name": "stdout",
     "output_type": "stream",
     "text": [
      "16\n"
     ]
    },
    {
     "name": "stderr",
     "output_type": "stream",
     "text": [
      "2023-05-22 13:00:58,546 INFO Request is queued\n",
      "2023-05-22 13:01:06,955 INFO Request is running\n",
      "2023-05-22 13:01:12,089 INFO Request is completed\n",
      "2023-05-22 13:01:12,433 INFO Welcome to the CDS\n",
      "2023-05-22 13:01:12,434 INFO Sending request to https://cds.climate.copernicus.eu/api/v2/resources/reanalysis-era5-pressure-levels\n",
      "2023-05-22 13:01:12,526 INFO Request is queued\n"
     ]
    },
    {
     "name": "stdout",
     "output_type": "stream",
     "text": [
      "17\n"
     ]
    },
    {
     "name": "stderr",
     "output_type": "stream",
     "text": [
      "2023-05-22 13:01:26,069 INFO Request is running\n",
      "2023-05-22 13:01:33,757 INFO Request is completed\n",
      "2023-05-22 13:01:34,193 INFO Welcome to the CDS\n",
      "2023-05-22 13:01:34,194 INFO Sending request to https://cds.climate.copernicus.eu/api/v2/resources/reanalysis-era5-pressure-levels\n"
     ]
    },
    {
     "name": "stdout",
     "output_type": "stream",
     "text": [
      "18\n"
     ]
    },
    {
     "name": "stderr",
     "output_type": "stream",
     "text": [
      "2023-05-22 13:01:34,725 INFO Request is queued\n",
      "2023-05-22 13:01:35,787 INFO Request is running\n",
      "2023-05-22 13:01:43,103 INFO Request is completed\n",
      "2023-05-22 13:01:43,406 INFO Welcome to the CDS\n",
      "2023-05-22 13:01:43,407 INFO Sending request to https://cds.climate.copernicus.eu/api/v2/resources/reanalysis-era5-pressure-levels\n",
      "2023-05-22 13:01:43,478 INFO Request is queued\n"
     ]
    },
    {
     "name": "stdout",
     "output_type": "stream",
     "text": [
      "19\n"
     ]
    },
    {
     "name": "stderr",
     "output_type": "stream",
     "text": [
      "2023-05-22 13:01:46,101 INFO Request is running\n",
      "2023-05-22 13:01:51,888 INFO Request is completed\n",
      "2023-05-22 13:01:52,307 INFO Welcome to the CDS\n",
      "2023-05-22 13:01:52,307 INFO Sending request to https://cds.climate.copernicus.eu/api/v2/resources/reanalysis-era5-pressure-levels\n"
     ]
    },
    {
     "name": "stdout",
     "output_type": "stream",
     "text": [
      "20\n"
     ]
    },
    {
     "name": "stderr",
     "output_type": "stream",
     "text": [
      "2023-05-22 13:01:52,973 INFO Welcome to the CDS\n",
      "2023-05-22 13:01:52,986 INFO Sending request to https://cds.climate.copernicus.eu/api/v2/resources/reanalysis-era5-pressure-levels\n",
      "2023-05-22 13:01:53,084 INFO Request is queued\n"
     ]
    },
    {
     "name": "stdout",
     "output_type": "stream",
     "text": [
      "21\n"
     ]
    },
    {
     "name": "stderr",
     "output_type": "stream",
     "text": [
      "2023-05-22 13:01:55,699 INFO Request is running\n",
      "2023-05-22 13:02:01,451 INFO Request is completed\n",
      "2023-05-22 13:02:01,882 INFO Welcome to the CDS\n",
      "2023-05-22 13:02:01,883 INFO Sending request to https://cds.climate.copernicus.eu/api/v2/resources/reanalysis-era5-pressure-levels\n",
      "2023-05-22 13:02:02,010 INFO Request is queued\n"
     ]
    },
    {
     "name": "stdout",
     "output_type": "stream",
     "text": [
      "22\n"
     ]
    },
    {
     "name": "stderr",
     "output_type": "stream",
     "text": [
      "2023-05-22 13:02:04,645 INFO Request is running\n",
      "2023-05-22 13:02:10,403 INFO Request is completed\n"
     ]
    },
    {
     "name": "stdout",
     "output_type": "stream",
     "text": [
      "23\n"
     ]
    },
    {
     "name": "stderr",
     "output_type": "stream",
     "text": [
      "2023-05-22 13:02:10,920 INFO Welcome to the CDS\n",
      "2023-05-22 13:02:10,921 INFO Sending request to https://cds.climate.copernicus.eu/api/v2/resources/reanalysis-era5-pressure-levels\n",
      "2023-05-22 13:02:11,796 INFO Request is queued\n",
      "2023-05-22 13:02:16,766 INFO Request is running\n",
      "2023-05-22 13:02:25,337 INFO Request is completed\n",
      "2023-05-22 13:02:25,728 INFO Welcome to the CDS\n",
      "2023-05-22 13:02:25,729 INFO Sending request to https://cds.climate.copernicus.eu/api/v2/resources/reanalysis-era5-pressure-levels\n",
      "2023-05-22 13:02:25,825 INFO Request is queued\n"
     ]
    },
    {
     "name": "stdout",
     "output_type": "stream",
     "text": [
      "24\n"
     ]
    },
    {
     "name": "stderr",
     "output_type": "stream",
     "text": [
      "2023-05-22 13:02:26,888 INFO Request is running\n",
      "2023-05-22 13:02:34,215 INFO Request is completed\n",
      "2023-05-22 13:02:34,654 INFO Welcome to the CDS\n",
      "2023-05-22 13:02:34,655 INFO Sending request to https://cds.climate.copernicus.eu/api/v2/resources/reanalysis-era5-pressure-levels\n"
     ]
    },
    {
     "name": "stdout",
     "output_type": "stream",
     "text": [
      "25\n"
     ]
    },
    {
     "name": "stderr",
     "output_type": "stream",
     "text": [
      "2023-05-22 13:02:35,128 INFO Welcome to the CDS\n",
      "2023-05-22 13:02:35,134 INFO Sending request to https://cds.climate.copernicus.eu/api/v2/resources/reanalysis-era5-pressure-levels\n"
     ]
    },
    {
     "name": "stdout",
     "output_type": "stream",
     "text": [
      "26\n"
     ]
    },
    {
     "name": "stderr",
     "output_type": "stream",
     "text": [
      "2023-05-22 13:02:35,675 INFO Welcome to the CDS\n",
      "2023-05-22 13:02:35,675 INFO Sending request to https://cds.climate.copernicus.eu/api/v2/resources/reanalysis-era5-pressure-levels\n",
      "2023-05-22 13:02:35,744 INFO Request is queued\n"
     ]
    },
    {
     "name": "stdout",
     "output_type": "stream",
     "text": [
      "27\n"
     ]
    },
    {
     "name": "stderr",
     "output_type": "stream",
     "text": [
      "2023-05-22 13:02:44,136 INFO Request is running\n",
      "2023-05-22 13:02:49,272 INFO Request is completed\n",
      "2023-05-22 13:02:49,596 INFO Welcome to the CDS\n",
      "2023-05-22 13:02:49,596 INFO Sending request to https://cds.climate.copernicus.eu/api/v2/resources/reanalysis-era5-pressure-levels\n"
     ]
    },
    {
     "name": "stdout",
     "output_type": "stream",
     "text": [
      "28\n"
     ]
    },
    {
     "name": "stderr",
     "output_type": "stream",
     "text": [
      "2023-05-22 13:02:50,063 INFO Welcome to the CDS\n",
      "2023-05-22 13:02:50,064 INFO Sending request to https://cds.climate.copernicus.eu/api/v2/resources/reanalysis-era5-pressure-levels\n"
     ]
    },
    {
     "name": "stdout",
     "output_type": "stream",
     "text": [
      "29\n"
     ]
    },
    {
     "name": "stderr",
     "output_type": "stream",
     "text": [
      "2023-05-22 13:02:50,523 INFO Welcome to the CDS\n",
      "2023-05-22 13:02:50,526 INFO Sending request to https://cds.climate.copernicus.eu/api/v2/resources/reanalysis-era5-pressure-levels\n",
      "2023-05-22 13:02:50,643 INFO Request is queued\n"
     ]
    },
    {
     "name": "stdout",
     "output_type": "stream",
     "text": [
      "30\n"
     ]
    },
    {
     "name": "stderr",
     "output_type": "stream",
     "text": [
      "2023-05-22 13:02:51,699 INFO Request is running\n",
      "2023-05-22 13:02:59,033 INFO Request is completed\n",
      "2023-05-22 13:02:59,353 INFO Welcome to the CDS\n",
      "2023-05-22 13:02:59,356 INFO Sending request to https://cds.climate.copernicus.eu/api/v2/resources/reanalysis-era5-pressure-levels\n"
     ]
    },
    {
     "name": "stdout",
     "output_type": "stream",
     "text": [
      "31\n"
     ]
    },
    {
     "name": "stderr",
     "output_type": "stream",
     "text": [
      "2023-05-22 13:02:59,518 INFO Request is queued\n",
      "2023-05-22 13:03:00,580 INFO Request is running\n",
      "2023-05-22 13:03:07,904 INFO Request is completed\n",
      "2023-05-22 13:03:08,376 INFO Welcome to the CDS\n",
      "2023-05-22 13:03:08,377 INFO Sending request to https://cds.climate.copernicus.eu/api/v2/resources/reanalysis-era5-pressure-levels\n"
     ]
    },
    {
     "name": "stdout",
     "output_type": "stream",
     "text": [
      "32\n"
     ]
    },
    {
     "name": "stderr",
     "output_type": "stream",
     "text": [
      "2023-05-22 13:03:08,471 INFO Request is queued\n",
      "2023-05-22 13:03:09,542 INFO Request is running\n",
      "2023-05-22 13:03:16,849 INFO Request is completed\n",
      "2023-05-22 13:03:17,236 INFO Welcome to the CDS\n",
      "2023-05-22 13:03:17,240 INFO Sending request to https://cds.climate.copernicus.eu/api/v2/resources/reanalysis-era5-pressure-levels\n"
     ]
    },
    {
     "name": "stdout",
     "output_type": "stream",
     "text": [
      "33\n"
     ]
    },
    {
     "name": "stderr",
     "output_type": "stream",
     "text": [
      "2023-05-22 13:03:17,661 INFO Welcome to the CDS\n",
      "2023-05-22 13:03:17,662 INFO Sending request to https://cds.climate.copernicus.eu/api/v2/resources/reanalysis-era5-pressure-levels\n"
     ]
    },
    {
     "name": "stdout",
     "output_type": "stream",
     "text": [
      "34\n"
     ]
    },
    {
     "name": "stderr",
     "output_type": "stream",
     "text": [
      "2023-05-22 13:03:18,271 INFO Welcome to the CDS\n",
      "2023-05-22 13:03:18,272 INFO Sending request to https://cds.climate.copernicus.eu/api/v2/resources/reanalysis-era5-pressure-levels\n",
      "2023-05-22 13:03:18,353 INFO Request is queued\n"
     ]
    },
    {
     "name": "stdout",
     "output_type": "stream",
     "text": [
      "35\n"
     ]
    },
    {
     "name": "stderr",
     "output_type": "stream",
     "text": [
      "2023-05-22 13:03:19,429 INFO Request is running\n",
      "2023-05-22 13:03:26,738 INFO Request is completed\n",
      "2023-05-22 13:03:27,075 INFO Welcome to the CDS\n",
      "2023-05-22 13:03:27,076 INFO Sending request to https://cds.climate.copernicus.eu/api/v2/resources/reanalysis-era5-pressure-levels\n"
     ]
    },
    {
     "name": "stdout",
     "output_type": "stream",
     "text": [
      "36\n"
     ]
    },
    {
     "name": "stderr",
     "output_type": "stream",
     "text": [
      "2023-05-22 13:03:27,638 INFO Welcome to the CDS\n",
      "2023-05-22 13:03:27,640 INFO Sending request to https://cds.climate.copernicus.eu/api/v2/resources/reanalysis-era5-pressure-levels\n"
     ]
    },
    {
     "name": "stdout",
     "output_type": "stream",
     "text": [
      "37\n"
     ]
    },
    {
     "name": "stderr",
     "output_type": "stream",
     "text": [
      "2023-05-22 13:03:28,079 INFO Welcome to the CDS\n",
      "2023-05-22 13:03:28,081 INFO Sending request to https://cds.climate.copernicus.eu/api/v2/resources/reanalysis-era5-pressure-levels\n"
     ]
    },
    {
     "name": "stdout",
     "output_type": "stream",
     "text": [
      "38\n"
     ]
    },
    {
     "name": "stderr",
     "output_type": "stream",
     "text": [
      "2023-05-22 13:03:28,283 INFO Request is queued\n",
      "2023-05-22 13:03:29,359 INFO Request is running\n",
      "2023-05-22 13:03:36,691 INFO Request is completed\n",
      "2023-05-22 13:03:37,013 INFO Welcome to the CDS\n",
      "2023-05-22 13:03:37,014 INFO Sending request to https://cds.climate.copernicus.eu/api/v2/resources/reanalysis-era5-pressure-levels\n"
     ]
    },
    {
     "name": "stdout",
     "output_type": "stream",
     "text": [
      "39\n"
     ]
    },
    {
     "name": "stderr",
     "output_type": "stream",
     "text": [
      "2023-05-22 13:03:37,631 INFO Welcome to the CDS\n",
      "2023-05-22 13:03:37,632 INFO Sending request to https://cds.climate.copernicus.eu/api/v2/resources/reanalysis-era5-pressure-levels\n"
     ]
    },
    {
     "name": "stdout",
     "output_type": "stream",
     "text": [
      "40\n"
     ]
    },
    {
     "name": "stderr",
     "output_type": "stream",
     "text": [
      "2023-05-22 13:03:37,866 INFO Request is queued\n",
      "2023-05-22 13:03:38,930 INFO Request is running\n",
      "2023-05-22 13:03:46,256 INFO Request is completed\n",
      "2023-05-22 13:03:46,606 INFO Welcome to the CDS\n",
      "2023-05-22 13:03:46,607 INFO Sending request to https://cds.climate.copernicus.eu/api/v2/resources/reanalysis-era5-pressure-levels\n"
     ]
    },
    {
     "name": "stdout",
     "output_type": "stream",
     "text": [
      "41\n"
     ]
    },
    {
     "name": "stderr",
     "output_type": "stream",
     "text": [
      "2023-05-22 13:03:46,811 INFO Request is queued\n",
      "2023-05-22 13:03:51,755 INFO Request is running\n",
      "2023-05-22 13:04:00,322 INFO Request is completed\n",
      "2023-05-22 13:04:00,640 INFO Welcome to the CDS\n",
      "2023-05-22 13:04:00,641 INFO Sending request to https://cds.climate.copernicus.eu/api/v2/resources/reanalysis-era5-pressure-levels\n",
      "2023-05-22 13:04:00,767 INFO Request is queued\n"
     ]
    },
    {
     "name": "stdout",
     "output_type": "stream",
     "text": [
      "42\n"
     ]
    },
    {
     "name": "stderr",
     "output_type": "stream",
     "text": [
      "2023-05-22 13:04:03,383 INFO Request is running\n",
      "2023-05-22 13:04:14,283 INFO Request is completed\n",
      "2023-05-22 13:04:14,672 INFO Welcome to the CDS\n",
      "2023-05-22 13:04:14,680 INFO Sending request to https://cds.climate.copernicus.eu/api/v2/resources/reanalysis-era5-pressure-levels\n"
     ]
    },
    {
     "name": "stdout",
     "output_type": "stream",
     "text": [
      "43\n"
     ]
    },
    {
     "name": "stderr",
     "output_type": "stream",
     "text": [
      "2023-05-22 13:04:15,230 INFO Welcome to the CDS\n",
      "2023-05-22 13:04:15,235 INFO Sending request to https://cds.climate.copernicus.eu/api/v2/resources/reanalysis-era5-pressure-levels\n",
      "2023-05-22 13:04:15,307 INFO Request is queued\n"
     ]
    },
    {
     "name": "stdout",
     "output_type": "stream",
     "text": [
      "44\n"
     ]
    },
    {
     "name": "stderr",
     "output_type": "stream",
     "text": [
      "2023-05-22 13:04:16,376 INFO Request is running\n",
      "2023-05-22 13:04:23,693 INFO Request is completed\n",
      "2023-05-22 13:04:24,013 INFO Welcome to the CDS\n",
      "2023-05-22 13:04:24,014 INFO Sending request to https://cds.climate.copernicus.eu/api/v2/resources/reanalysis-era5-pressure-levels\n"
     ]
    },
    {
     "name": "stdout",
     "output_type": "stream",
     "text": [
      "45\n"
     ]
    },
    {
     "name": "stderr",
     "output_type": "stream",
     "text": [
      "2023-05-22 13:04:24,584 INFO Welcome to the CDS\n",
      "2023-05-22 13:04:24,586 INFO Sending request to https://cds.climate.copernicus.eu/api/v2/resources/reanalysis-era5-pressure-levels\n"
     ]
    },
    {
     "name": "stdout",
     "output_type": "stream",
     "text": [
      "46\n"
     ]
    },
    {
     "name": "stderr",
     "output_type": "stream",
     "text": [
      "2023-05-22 13:04:25,126 INFO Welcome to the CDS\n",
      "2023-05-22 13:04:25,129 INFO Sending request to https://cds.climate.copernicus.eu/api/v2/resources/reanalysis-era5-pressure-levels\n"
     ]
    },
    {
     "name": "stdout",
     "output_type": "stream",
     "text": [
      "47\n"
     ]
    },
    {
     "name": "stderr",
     "output_type": "stream",
     "text": [
      "2023-05-22 13:04:25,295 INFO Request is queued\n",
      "2023-05-22 13:04:27,937 INFO Request is running\n",
      "2023-05-22 13:04:33,702 INFO Request is completed\n",
      "2023-05-22 13:04:34,035 INFO Welcome to the CDS\n",
      "2023-05-22 13:04:34,036 INFO Sending request to https://cds.climate.copernicus.eu/api/v2/resources/reanalysis-era5-pressure-levels\n"
     ]
    },
    {
     "name": "stdout",
     "output_type": "stream",
     "text": [
      "48\n"
     ]
    },
    {
     "name": "stderr",
     "output_type": "stream",
     "text": [
      "2023-05-22 13:04:34,339 INFO Request is queued\n",
      "2023-05-22 13:04:39,291 INFO Request is running\n",
      "2023-05-22 13:04:47,857 INFO Request is completed\n",
      "2023-05-22 13:04:48,175 INFO Welcome to the CDS\n",
      "2023-05-22 13:04:48,176 INFO Sending request to https://cds.climate.copernicus.eu/api/v2/resources/reanalysis-era5-pressure-levels\n",
      "2023-05-22 13:04:48,262 INFO Request is queued\n"
     ]
    },
    {
     "name": "stdout",
     "output_type": "stream",
     "text": [
      "49\n"
     ]
    },
    {
     "name": "stderr",
     "output_type": "stream",
     "text": [
      "2023-05-22 13:04:53,230 INFO Request is running\n",
      "2023-05-22 13:05:01,790 INFO Request is completed\n",
      "2023-05-22 13:05:02,125 INFO Welcome to the CDS\n",
      "2023-05-22 13:05:02,125 INFO Sending request to https://cds.climate.copernicus.eu/api/v2/resources/reanalysis-era5-pressure-levels\n",
      "2023-05-22 13:05:02,181 INFO Request is queued\n"
     ]
    },
    {
     "name": "stdout",
     "output_type": "stream",
     "text": [
      "50\n"
     ]
    },
    {
     "name": "stderr",
     "output_type": "stream",
     "text": [
      "2023-05-22 13:05:04,975 INFO Request is running\n",
      "2023-05-22 13:05:15,857 INFO Request is completed\n",
      "2023-05-22 13:05:16,187 INFO Welcome to the CDS\n",
      "2023-05-22 13:05:16,188 INFO Sending request to https://cds.climate.copernicus.eu/api/v2/resources/reanalysis-era5-pressure-levels\n"
     ]
    },
    {
     "name": "stdout",
     "output_type": "stream",
     "text": [
      "51\n"
     ]
    },
    {
     "name": "stderr",
     "output_type": "stream",
     "text": [
      "2023-05-22 13:05:16,373 INFO Request is queued\n",
      "2023-05-22 13:05:19,016 INFO Request is running\n",
      "2023-05-22 13:05:24,780 INFO Request is completed\n",
      "2023-05-22 13:05:25,096 INFO Welcome to the CDS\n",
      "2023-05-22 13:05:25,097 INFO Sending request to https://cds.climate.copernicus.eu/api/v2/resources/reanalysis-era5-pressure-levels\n"
     ]
    },
    {
     "name": "stdout",
     "output_type": "stream",
     "text": [
      "52\n"
     ]
    },
    {
     "name": "stderr",
     "output_type": "stream",
     "text": [
      "2023-05-22 13:05:25,319 INFO Request is queued\n",
      "2023-05-22 13:05:26,381 INFO Request is running\n",
      "2023-05-22 13:05:33,765 INFO Request is completed\n",
      "2023-05-22 13:05:34,113 INFO Welcome to the CDS\n",
      "2023-05-22 13:05:34,114 INFO Sending request to https://cds.climate.copernicus.eu/api/v2/resources/reanalysis-era5-pressure-levels\n"
     ]
    },
    {
     "name": "stdout",
     "output_type": "stream",
     "text": [
      "53\n"
     ]
    },
    {
     "name": "stderr",
     "output_type": "stream",
     "text": [
      "2023-05-22 13:05:34,609 INFO Welcome to the CDS\n",
      "2023-05-22 13:05:34,610 INFO Sending request to https://cds.climate.copernicus.eu/api/v2/resources/reanalysis-era5-pressure-levels\n"
     ]
    },
    {
     "name": "stdout",
     "output_type": "stream",
     "text": [
      "54\n"
     ]
    },
    {
     "name": "stderr",
     "output_type": "stream",
     "text": [
      "2023-05-22 13:05:35,082 INFO Welcome to the CDS\n",
      "2023-05-22 13:05:35,082 INFO Sending request to https://cds.climate.copernicus.eu/api/v2/resources/reanalysis-era5-pressure-levels\n"
     ]
    },
    {
     "name": "stdout",
     "output_type": "stream",
     "text": [
      "55\n"
     ]
    },
    {
     "name": "stderr",
     "output_type": "stream",
     "text": [
      "2023-05-22 13:05:35,317 INFO Request is queued\n",
      "2023-05-22 13:05:37,949 INFO Request is running\n",
      "2023-05-22 13:05:43,717 INFO Request is completed\n",
      "2023-05-22 13:05:44,089 INFO Welcome to the CDS\n",
      "2023-05-22 13:05:44,091 INFO Sending request to https://cds.climate.copernicus.eu/api/v2/resources/reanalysis-era5-pressure-levels\n"
     ]
    },
    {
     "name": "stdout",
     "output_type": "stream",
     "text": [
      "56\n"
     ]
    },
    {
     "name": "stderr",
     "output_type": "stream",
     "text": [
      "2023-05-22 13:05:44,709 INFO Welcome to the CDS\n",
      "2023-05-22 13:05:44,710 INFO Sending request to https://cds.climate.copernicus.eu/api/v2/resources/reanalysis-era5-pressure-levels\n",
      "2023-05-22 13:05:44,837 INFO Request is queued\n"
     ]
    },
    {
     "name": "stdout",
     "output_type": "stream",
     "text": [
      "57\n"
     ]
    },
    {
     "name": "stderr",
     "output_type": "stream",
     "text": [
      "2023-05-22 13:05:49,775 INFO Request is running\n",
      "2023-05-22 13:05:58,348 INFO Request is completed\n",
      "2023-05-22 13:05:58,680 INFO Welcome to the CDS\n",
      "2023-05-22 13:05:58,680 INFO Sending request to https://cds.climate.copernicus.eu/api/v2/resources/reanalysis-era5-pressure-levels\n"
     ]
    },
    {
     "name": "stdout",
     "output_type": "stream",
     "text": [
      "58\n"
     ]
    },
    {
     "name": "stderr",
     "output_type": "stream",
     "text": [
      "2023-05-22 13:05:59,224 INFO Welcome to the CDS\n",
      "2023-05-22 13:05:59,225 INFO Sending request to https://cds.climate.copernicus.eu/api/v2/resources/reanalysis-era5-pressure-levels\n"
     ]
    },
    {
     "name": "stdout",
     "output_type": "stream",
     "text": [
      "59\n"
     ]
    },
    {
     "name": "stderr",
     "output_type": "stream",
     "text": [
      "2023-05-22 13:06:00,191 INFO Welcome to the CDS\n",
      "2023-05-22 13:06:00,194 INFO Sending request to https://cds.climate.copernicus.eu/api/v2/resources/reanalysis-era5-pressure-levels\n"
     ]
    },
    {
     "name": "stdout",
     "output_type": "stream",
     "text": [
      "60\n"
     ]
    },
    {
     "name": "stderr",
     "output_type": "stream",
     "text": [
      "2023-05-22 13:06:00,778 INFO Welcome to the CDS\n",
      "2023-05-22 13:06:00,779 INFO Sending request to https://cds.climate.copernicus.eu/api/v2/resources/reanalysis-era5-pressure-levels\n"
     ]
    },
    {
     "name": "stdout",
     "output_type": "stream",
     "text": [
      "61\n"
     ]
    },
    {
     "name": "stderr",
     "output_type": "stream",
     "text": [
      "2023-05-22 13:06:01,353 INFO Welcome to the CDS\n",
      "2023-05-22 13:06:01,358 INFO Sending request to https://cds.climate.copernicus.eu/api/v2/resources/reanalysis-era5-pressure-levels\n",
      "2023-05-22 13:06:01,491 INFO Request is queued\n"
     ]
    },
    {
     "name": "stdout",
     "output_type": "stream",
     "text": [
      "62\n"
     ]
    },
    {
     "name": "stderr",
     "output_type": "stream",
     "text": [
      "2023-05-22 13:06:02,550 INFO Request is running\n",
      "2023-05-22 13:06:09,864 INFO Request is completed\n",
      "2023-05-22 13:06:10,301 INFO Welcome to the CDS\n",
      "2023-05-22 13:06:10,302 INFO Sending request to https://cds.climate.copernicus.eu/api/v2/resources/reanalysis-era5-pressure-levels\n"
     ]
    },
    {
     "name": "stdout",
     "output_type": "stream",
     "text": [
      "63\n"
     ]
    },
    {
     "name": "stderr",
     "output_type": "stream",
     "text": [
      "2023-05-22 13:06:10,945 INFO Welcome to the CDS\n",
      "2023-05-22 13:06:10,947 INFO Sending request to https://cds.climate.copernicus.eu/api/v2/resources/reanalysis-era5-pressure-levels\n",
      "2023-05-22 13:06:11,067 INFO Request is queued\n"
     ]
    },
    {
     "name": "stdout",
     "output_type": "stream",
     "text": [
      "64\n"
     ]
    },
    {
     "name": "stderr",
     "output_type": "stream",
     "text": [
      "2023-05-22 13:06:13,731 INFO Request is running\n",
      "2023-05-22 13:06:24,645 INFO Request is completed\n",
      "2023-05-22 13:06:25,032 INFO Welcome to the CDS\n",
      "2023-05-22 13:06:25,038 INFO Sending request to https://cds.climate.copernicus.eu/api/v2/resources/reanalysis-era5-pressure-levels\n"
     ]
    },
    {
     "name": "stdout",
     "output_type": "stream",
     "text": [
      "65\n"
     ]
    },
    {
     "name": "stderr",
     "output_type": "stream",
     "text": [
      "2023-05-22 13:06:25,198 INFO Request is queued\n",
      "2023-05-22 13:06:38,763 INFO Request is running\n",
      "2023-05-22 13:06:46,437 INFO Request is completed\n",
      "2023-05-22 13:06:46,760 INFO Welcome to the CDS\n",
      "2023-05-22 13:06:46,762 INFO Sending request to https://cds.climate.copernicus.eu/api/v2/resources/reanalysis-era5-pressure-levels\n",
      "2023-05-22 13:06:46,822 INFO Request is queued\n"
     ]
    },
    {
     "name": "stdout",
     "output_type": "stream",
     "text": [
      "66\n"
     ]
    },
    {
     "name": "stderr",
     "output_type": "stream",
     "text": [
      "2023-05-22 13:06:49,455 INFO Request is running\n",
      "2023-05-22 13:07:00,343 INFO Request is completed\n",
      "2023-05-22 13:07:00,674 INFO Welcome to the CDS\n",
      "2023-05-22 13:07:00,675 INFO Sending request to https://cds.climate.copernicus.eu/api/v2/resources/reanalysis-era5-pressure-levels\n",
      "2023-05-22 13:07:00,758 INFO Request is queued\n"
     ]
    },
    {
     "name": "stdout",
     "output_type": "stream",
     "text": [
      "67\n"
     ]
    },
    {
     "name": "stderr",
     "output_type": "stream",
     "text": [
      "2023-05-22 13:07:03,395 INFO Request is running\n",
      "2023-05-22 13:07:14,269 INFO Request is completed\n",
      "2023-05-22 13:07:14,597 INFO Welcome to the CDS\n",
      "2023-05-22 13:07:14,598 INFO Sending request to https://cds.climate.copernicus.eu/api/v2/resources/reanalysis-era5-pressure-levels\n"
     ]
    },
    {
     "name": "stdout",
     "output_type": "stream",
     "text": [
      "68\n"
     ]
    },
    {
     "name": "stderr",
     "output_type": "stream",
     "text": [
      "2023-05-22 13:07:14,876 INFO Request is queued\n",
      "2023-05-22 13:07:19,854 INFO Request is running\n",
      "2023-05-22 13:07:28,436 INFO Request is completed\n",
      "2023-05-22 13:07:28,774 INFO Welcome to the CDS\n",
      "2023-05-22 13:07:28,775 INFO Sending request to https://cds.climate.copernicus.eu/api/v2/resources/reanalysis-era5-pressure-levels\n"
     ]
    },
    {
     "name": "stdout",
     "output_type": "stream",
     "text": [
      "69\n"
     ]
    },
    {
     "name": "stderr",
     "output_type": "stream",
     "text": [
      "2023-05-22 13:07:28,980 INFO Request is queued\n",
      "2023-05-22 13:07:30,058 INFO Request is running\n",
      "2023-05-22 13:07:37,419 INFO Request is completed\n",
      "2023-05-22 13:07:37,751 INFO Welcome to the CDS\n",
      "2023-05-22 13:07:37,752 INFO Sending request to https://cds.climate.copernicus.eu/api/v2/resources/reanalysis-era5-pressure-levels\n"
     ]
    },
    {
     "name": "stdout",
     "output_type": "stream",
     "text": [
      "70\n"
     ]
    },
    {
     "name": "stderr",
     "output_type": "stream",
     "text": [
      "2023-05-22 13:07:37,921 INFO Request is queued\n",
      "2023-05-22 13:07:39,001 INFO Request is running\n",
      "2023-05-22 13:07:42,910 INFO Request is completed\n",
      "2023-05-22 13:07:43,254 INFO Welcome to the CDS\n",
      "2023-05-22 13:07:43,255 INFO Sending request to https://cds.climate.copernicus.eu/api/v2/resources/reanalysis-era5-pressure-levels\n"
     ]
    },
    {
     "name": "stdout",
     "output_type": "stream",
     "text": [
      "71\n"
     ]
    },
    {
     "name": "stderr",
     "output_type": "stream",
     "text": [
      "2023-05-22 13:07:43,728 INFO Welcome to the CDS\n",
      "2023-05-22 13:07:43,729 INFO Sending request to https://cds.climate.copernicus.eu/api/v2/resources/reanalysis-era5-pressure-levels\n",
      "2023-05-22 13:07:43,833 INFO Request is queued\n"
     ]
    },
    {
     "name": "stdout",
     "output_type": "stream",
     "text": [
      "72\n"
     ]
    },
    {
     "name": "stderr",
     "output_type": "stream",
     "text": [
      "2023-05-22 13:07:44,909 INFO Request is running\n",
      "2023-05-22 13:07:52,264 INFO Request is completed\n",
      "2023-05-22 13:07:52,605 INFO Welcome to the CDS\n",
      "2023-05-22 13:07:52,606 INFO Sending request to https://cds.climate.copernicus.eu/api/v2/resources/reanalysis-era5-pressure-levels\n"
     ]
    },
    {
     "name": "stdout",
     "output_type": "stream",
     "text": [
      "73\n"
     ]
    },
    {
     "name": "stderr",
     "output_type": "stream",
     "text": [
      "2023-05-22 13:07:52,783 INFO Request is queued\n",
      "2023-05-22 13:07:53,854 INFO Request is running\n",
      "2023-05-22 13:08:01,218 INFO Request is completed\n",
      "2023-05-22 13:08:01,537 INFO Welcome to the CDS\n",
      "2023-05-22 13:08:01,538 INFO Sending request to https://cds.climate.copernicus.eu/api/v2/resources/reanalysis-era5-pressure-levels\n"
     ]
    },
    {
     "name": "stdout",
     "output_type": "stream",
     "text": [
      "74\n"
     ]
    },
    {
     "name": "stderr",
     "output_type": "stream",
     "text": [
      "2023-05-22 13:08:02,015 INFO Welcome to the CDS\n",
      "2023-05-22 13:08:02,016 INFO Sending request to https://cds.climate.copernicus.eu/api/v2/resources/reanalysis-era5-pressure-levels\n"
     ]
    },
    {
     "name": "stdout",
     "output_type": "stream",
     "text": [
      "75\n"
     ]
    },
    {
     "name": "stderr",
     "output_type": "stream",
     "text": [
      "2023-05-22 13:08:02,482 INFO Welcome to the CDS\n",
      "2023-05-22 13:08:02,488 INFO Sending request to https://cds.climate.copernicus.eu/api/v2/resources/reanalysis-era5-pressure-levels\n",
      "2023-05-22 13:08:02,596 INFO Request is queued\n"
     ]
    },
    {
     "name": "stdout",
     "output_type": "stream",
     "text": [
      "76\n"
     ]
    },
    {
     "name": "stderr",
     "output_type": "stream",
     "text": [
      "2023-05-22 13:08:07,575 INFO Request is running\n",
      "2023-05-22 13:08:16,167 INFO Request is completed\n",
      "2023-05-22 13:08:16,519 INFO Welcome to the CDS\n",
      "2023-05-22 13:08:16,520 INFO Sending request to https://cds.climate.copernicus.eu/api/v2/resources/reanalysis-era5-pressure-levels\n",
      "2023-05-22 13:08:16,655 INFO Request is queued\n"
     ]
    },
    {
     "name": "stdout",
     "output_type": "stream",
     "text": [
      "77\n"
     ]
    },
    {
     "name": "stderr",
     "output_type": "stream",
     "text": [
      "2023-05-22 13:08:17,729 INFO Request is running\n",
      "2023-05-22 13:08:25,085 INFO Request is completed\n",
      "2023-05-22 13:08:25,416 INFO Welcome to the CDS\n",
      "2023-05-22 13:08:25,416 INFO Sending request to https://cds.climate.copernicus.eu/api/v2/resources/reanalysis-era5-pressure-levels\n"
     ]
    },
    {
     "name": "stdout",
     "output_type": "stream",
     "text": [
      "78\n"
     ]
    },
    {
     "name": "stderr",
     "output_type": "stream",
     "text": [
      "2023-05-22 13:08:26,074 INFO Welcome to the CDS\n",
      "2023-05-22 13:08:26,076 INFO Sending request to https://cds.climate.copernicus.eu/api/v2/resources/reanalysis-era5-pressure-levels\n",
      "2023-05-22 13:08:26,171 INFO Request is queued\n"
     ]
    },
    {
     "name": "stdout",
     "output_type": "stream",
     "text": [
      "79\n"
     ]
    },
    {
     "name": "stderr",
     "output_type": "stream",
     "text": [
      "2023-05-22 13:08:27,251 INFO Request is running\n",
      "2023-05-22 13:08:34,590 INFO Request is completed\n",
      "2023-05-22 13:08:34,949 INFO Welcome to the CDS\n",
      "2023-05-22 13:08:34,950 INFO Sending request to https://cds.climate.copernicus.eu/api/v2/resources/reanalysis-era5-pressure-levels\n"
     ]
    },
    {
     "name": "stdout",
     "output_type": "stream",
     "text": [
      "80\n"
     ]
    },
    {
     "name": "stderr",
     "output_type": "stream",
     "text": [
      "2023-05-22 13:08:35,460 INFO Welcome to the CDS\n",
      "2023-05-22 13:08:35,462 INFO Sending request to https://cds.climate.copernicus.eu/api/v2/resources/reanalysis-era5-pressure-levels\n",
      "2023-05-22 13:08:35,570 INFO Request is queued\n"
     ]
    },
    {
     "name": "stdout",
     "output_type": "stream",
     "text": [
      "81\n"
     ]
    },
    {
     "name": "stderr",
     "output_type": "stream",
     "text": [
      "2023-05-22 13:08:38,226 INFO Request is running\n",
      "2023-05-22 13:08:43,979 INFO Request is completed\n",
      "2023-05-22 13:08:44,331 INFO Welcome to the CDS\n",
      "2023-05-22 13:08:44,332 INFO Sending request to https://cds.climate.copernicus.eu/api/v2/resources/reanalysis-era5-pressure-levels\n"
     ]
    },
    {
     "name": "stdout",
     "output_type": "stream",
     "text": [
      "82\n"
     ]
    },
    {
     "name": "stderr",
     "output_type": "stream",
     "text": [
      "2023-05-22 13:08:44,684 INFO Request is queued\n",
      "2023-05-22 13:08:45,744 INFO Request is running\n",
      "2023-05-22 13:08:53,093 INFO Request is completed\n",
      "2023-05-22 13:08:53,429 INFO Welcome to the CDS\n",
      "2023-05-22 13:08:53,430 INFO Sending request to https://cds.climate.copernicus.eu/api/v2/resources/reanalysis-era5-pressure-levels\n",
      "2023-05-22 13:08:53,525 INFO Request is queued\n"
     ]
    },
    {
     "name": "stdout",
     "output_type": "stream",
     "text": [
      "83\n"
     ]
    },
    {
     "name": "stderr",
     "output_type": "stream",
     "text": [
      "2023-05-22 13:08:54,596 INFO Request is running\n",
      "2023-05-22 13:09:01,943 INFO Request is completed\n",
      "2023-05-22 13:09:02,302 INFO Welcome to the CDS\n",
      "2023-05-22 13:09:02,303 INFO Sending request to https://cds.climate.copernicus.eu/api/v2/resources/reanalysis-era5-pressure-levels\n"
     ]
    },
    {
     "name": "stdout",
     "output_type": "stream",
     "text": [
      "84\n"
     ]
    },
    {
     "name": "stderr",
     "output_type": "stream",
     "text": [
      "2023-05-22 13:09:02,633 INFO Request is queued\n",
      "2023-05-22 13:09:05,292 INFO Request is running\n",
      "2023-05-22 13:09:11,068 INFO Request is completed\n",
      "2023-05-22 13:09:11,451 INFO Welcome to the CDS\n",
      "2023-05-22 13:09:11,452 INFO Sending request to https://cds.climate.copernicus.eu/api/v2/resources/reanalysis-era5-pressure-levels\n"
     ]
    },
    {
     "name": "stdout",
     "output_type": "stream",
     "text": [
      "85\n"
     ]
    },
    {
     "name": "stderr",
     "output_type": "stream",
     "text": [
      "2023-05-22 13:09:12,073 INFO Welcome to the CDS\n",
      "2023-05-22 13:09:12,073 INFO Sending request to https://cds.climate.copernicus.eu/api/v2/resources/reanalysis-era5-pressure-levels\n"
     ]
    },
    {
     "name": "stdout",
     "output_type": "stream",
     "text": [
      "86\n"
     ]
    },
    {
     "name": "stderr",
     "output_type": "stream",
     "text": [
      "2023-05-22 13:09:12,230 INFO Request is queued\n",
      "2023-05-22 13:09:13,298 INFO Request is running\n",
      "2023-05-22 13:09:20,612 INFO Request is completed\n",
      "2023-05-22 13:09:20,924 INFO Welcome to the CDS\n",
      "2023-05-22 13:09:20,926 INFO Sending request to https://cds.climate.copernicus.eu/api/v2/resources/reanalysis-era5-pressure-levels\n"
     ]
    },
    {
     "name": "stdout",
     "output_type": "stream",
     "text": [
      "87\n"
     ]
    },
    {
     "name": "stderr",
     "output_type": "stream",
     "text": [
      "2023-05-22 13:09:21,368 INFO Welcome to the CDS\n",
      "2023-05-22 13:09:21,369 INFO Sending request to https://cds.climate.copernicus.eu/api/v2/resources/reanalysis-era5-pressure-levels\n"
     ]
    },
    {
     "name": "stdout",
     "output_type": "stream",
     "text": [
      "88\n"
     ]
    },
    {
     "name": "stderr",
     "output_type": "stream",
     "text": [
      "2023-05-22 13:09:21,825 INFO Welcome to the CDS\n",
      "2023-05-22 13:09:21,826 INFO Sending request to https://cds.climate.copernicus.eu/api/v2/resources/reanalysis-era5-pressure-levels\n"
     ]
    },
    {
     "name": "stdout",
     "output_type": "stream",
     "text": [
      "89\n"
     ]
    },
    {
     "name": "stderr",
     "output_type": "stream",
     "text": [
      "2023-05-22 13:09:22,290 INFO Welcome to the CDS\n",
      "2023-05-22 13:09:22,291 INFO Sending request to https://cds.climate.copernicus.eu/api/v2/resources/reanalysis-era5-pressure-levels\n",
      "2023-05-22 13:09:22,365 INFO Request is queued\n"
     ]
    },
    {
     "name": "stdout",
     "output_type": "stream",
     "text": [
      "90\n"
     ]
    },
    {
     "name": "stderr",
     "output_type": "stream",
     "text": [
      "2023-05-22 13:09:23,437 INFO Request is running\n",
      "2023-05-22 13:09:30,783 INFO Request is completed\n",
      "2023-05-22 13:09:31,085 INFO Welcome to the CDS\n",
      "2023-05-22 13:09:31,086 INFO Sending request to https://cds.climate.copernicus.eu/api/v2/resources/reanalysis-era5-pressure-levels\n"
     ]
    },
    {
     "name": "stdout",
     "output_type": "stream",
     "text": [
      "91\n"
     ]
    },
    {
     "name": "stderr",
     "output_type": "stream",
     "text": [
      "2023-05-22 13:09:31,254 INFO Request is queued\n",
      "2023-05-22 13:09:32,314 INFO Request is running\n",
      "2023-05-22 13:09:39,637 INFO Request is completed\n",
      "2023-05-22 13:09:39,941 INFO Welcome to the CDS\n",
      "2023-05-22 13:09:39,942 INFO Sending request to https://cds.climate.copernicus.eu/api/v2/resources/reanalysis-era5-pressure-levels\n"
     ]
    },
    {
     "name": "stdout",
     "output_type": "stream",
     "text": [
      "92\n"
     ]
    },
    {
     "name": "stderr",
     "output_type": "stream",
     "text": [
      "2023-05-22 13:09:40,394 INFO Welcome to the CDS\n",
      "2023-05-22 13:09:40,395 INFO Sending request to https://cds.climate.copernicus.eu/api/v2/resources/reanalysis-era5-pressure-levels\n",
      "2023-05-22 13:09:40,536 INFO Request is queued\n"
     ]
    },
    {
     "name": "stdout",
     "output_type": "stream",
     "text": [
      "93\n"
     ]
    },
    {
     "name": "stderr",
     "output_type": "stream",
     "text": [
      "2023-05-22 13:09:41,592 INFO Request is running\n",
      "2023-05-22 13:09:48,884 INFO Request is completed\n",
      "2023-05-22 13:09:49,223 INFO Welcome to the CDS\n",
      "2023-05-22 13:09:49,223 INFO Sending request to https://cds.climate.copernicus.eu/api/v2/resources/reanalysis-era5-pressure-levels\n"
     ]
    },
    {
     "name": "stdout",
     "output_type": "stream",
     "text": [
      "94\n"
     ]
    },
    {
     "name": "stderr",
     "output_type": "stream",
     "text": [
      "2023-05-22 13:09:49,853 INFO Welcome to the CDS\n",
      "2023-05-22 13:09:49,856 INFO Sending request to https://cds.climate.copernicus.eu/api/v2/resources/reanalysis-era5-pressure-levels\n"
     ]
    },
    {
     "name": "stdout",
     "output_type": "stream",
     "text": [
      "95\n"
     ]
    },
    {
     "name": "stderr",
     "output_type": "stream",
     "text": [
      "2023-05-22 13:09:50,467 INFO Welcome to the CDS\n",
      "2023-05-22 13:09:50,468 INFO Sending request to https://cds.climate.copernicus.eu/api/v2/resources/reanalysis-era5-pressure-levels\n"
     ]
    },
    {
     "name": "stdout",
     "output_type": "stream",
     "text": [
      "96\n"
     ]
    },
    {
     "name": "stderr",
     "output_type": "stream",
     "text": [
      "2023-05-22 13:09:50,988 INFO Welcome to the CDS\n",
      "2023-05-22 13:09:50,989 INFO Sending request to https://cds.climate.copernicus.eu/api/v2/resources/reanalysis-era5-pressure-levels\n"
     ]
    },
    {
     "name": "stdout",
     "output_type": "stream",
     "text": [
      "97\n"
     ]
    },
    {
     "name": "stderr",
     "output_type": "stream",
     "text": [
      "2023-05-22 13:09:51,555 INFO Welcome to the CDS\n",
      "2023-05-22 13:09:51,556 INFO Sending request to https://cds.climate.copernicus.eu/api/v2/resources/reanalysis-era5-pressure-levels\n"
     ]
    },
    {
     "name": "stdout",
     "output_type": "stream",
     "text": [
      "98\n"
     ]
    },
    {
     "name": "stderr",
     "output_type": "stream",
     "text": [
      "2023-05-22 13:09:52,019 INFO Welcome to the CDS\n",
      "2023-05-22 13:09:52,020 INFO Sending request to https://cds.climate.copernicus.eu/api/v2/resources/reanalysis-era5-pressure-levels\n"
     ]
    },
    {
     "name": "stdout",
     "output_type": "stream",
     "text": [
      "99\n"
     ]
    }
   ],
   "source": [
    "# Get meteo data\n",
    "dataset = 'reanalysis-era5-pressure-levels'\n",
    "download_flag = False\n",
    "\n",
    "points_df_head_100.to_crs(4326, inplace=True)\n",
    "\n",
    "for r in points_df_head_100.iterrows():\n",
    "    print(r[0])\n",
    "    \n",
    "    params = {\n",
    "         'format': 'netcdf',\n",
    "         'product_type': 'reanalysis',\n",
    "         'variable': ['temperature', 'u_component_of_wind', 'v_component_of_wind', 'specific_humidity', 'relative_humidity'],\n",
    "         'pressure_level':'1000',\n",
    "         'year':str(r[1][\"date\"].year),\n",
    "         'month':str(r[1][\"date\"].month),\n",
    "         'day': str(r[1][\"date\"].day),\n",
    "         'time': [str(x) for x in range(0,24)],\n",
    "         'grid': [0.25, 0.25],\n",
    "         'area': [r[1][\"geometry\"].y, r[1][\"geometry\"].x, r[1][\"geometry\"].y, r[1][\"geometry\"].x],\n",
    "         }\n",
    "     \n",
    "    # Download and load into memory    \n",
    "    fl = c.retrieve(dataset, params)\n",
    "    if download_flag:\n",
    "         fl.download(\"./output.nc\")\n",
    "         \n",
    "    with urlopen(fl.location) as f:\n",
    "         ds = xr.open_dataset(f.read())         \n",
    "    df = ds.to_dataframe()\n",
    "    # Write values of interestintopoints datafrafe\n",
    "    points_df_head_100.loc[r[0], [\"t_max\", \"u\", \"v\", 'specific_humidity', 'relative_humidity']] = df['t'].max(), df['u'].mean(), df['v'].mean(), df['q'].min(), df['r'].min()"
   ]
  },
  {
   "cell_type": "code",
   "execution_count": 26,
   "metadata": {},
   "outputs": [],
   "source": [
    "points_df_head_100.to_file('data/points_data_bio.geojson', driver='GeoJSON')"
   ]
  },
  {
   "cell_type": "code",
   "execution_count": 27,
   "metadata": {},
   "outputs": [],
   "source": [
    "points_df_head_100.to_csv(\"data/points_data_bio.csv\", index=False)"
   ]
  }
 ],
 "metadata": {
  "kernelspec": {
   "display_name": "TFM_env",
   "language": "python",
   "name": "python3"
  },
  "language_info": {
   "codemirror_mode": {
    "name": "ipython",
    "version": 3
   },
   "file_extension": ".py",
   "mimetype": "text/x-python",
   "name": "python",
   "nbconvert_exporter": "python",
   "pygments_lexer": "ipython3",
   "version": "3.8.15"
  },
  "orig_nbformat": 4
 },
 "nbformat": 4,
 "nbformat_minor": 2
}
