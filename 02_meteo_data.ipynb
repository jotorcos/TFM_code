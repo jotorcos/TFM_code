{
 "cells": [
  {
   "cell_type": "code",
   "execution_count": 1,
   "metadata": {},
   "outputs": [],
   "source": [
    "import pandas as pd\n",
    "import geopandas as gpd\n",
    "import cdsapi\n",
    "import xarray as xr\n",
    "from urllib.request import urlopen\n",
    "import datetime\n",
    "import random"
   ]
  },
  {
   "cell_type": "code",
   "execution_count": 2,
   "metadata": {},
   "outputs": [],
   "source": [
    "c = cdsapi.Client()"
   ]
  },
  {
   "cell_type": "code",
   "execution_count": 67,
   "metadata": {},
   "outputs": [
    {
     "data": {
      "text/html": [
       "<div>\n",
       "<style scoped>\n",
       "    .dataframe tbody tr th:only-of-type {\n",
       "        vertical-align: middle;\n",
       "    }\n",
       "\n",
       "    .dataframe tbody tr th {\n",
       "        vertical-align: top;\n",
       "    }\n",
       "\n",
       "    .dataframe thead th {\n",
       "        text-align: right;\n",
       "    }\n",
       "</style>\n",
       "<table border=\"1\" class=\"dataframe\">\n",
       "  <thead>\n",
       "    <tr style=\"text-align: right;\">\n",
       "      <th></th>\n",
       "      <th>altitud</th>\n",
       "      <th>pendiente</th>\n",
       "      <th>orientacion</th>\n",
       "      <th>is_fire</th>\n",
       "      <th>date</th>\n",
       "      <th>geometry</th>\n",
       "    </tr>\n",
       "  </thead>\n",
       "  <tbody>\n",
       "    <tr>\n",
       "      <th>0</th>\n",
       "      <td>644.62350</td>\n",
       "      <td>53.724090</td>\n",
       "      <td>30.371418</td>\n",
       "      <td>False</td>\n",
       "      <td>NaT</td>\n",
       "      <td>POINT (750538.870 4298747.175)</td>\n",
       "    </tr>\n",
       "    <tr>\n",
       "      <th>1</th>\n",
       "      <td>3.00000</td>\n",
       "      <td>0.351406</td>\n",
       "      <td>350.168950</td>\n",
       "      <td>False</td>\n",
       "      <td>NaT</td>\n",
       "      <td>POINT (752713.870 4306437.175)</td>\n",
       "    </tr>\n",
       "    <tr>\n",
       "      <th>2</th>\n",
       "      <td>155.06900</td>\n",
       "      <td>29.476328</td>\n",
       "      <td>135.866000</td>\n",
       "      <td>False</td>\n",
       "      <td>NaT</td>\n",
       "      <td>POINT (754363.870 4299307.175)</td>\n",
       "    </tr>\n",
       "    <tr>\n",
       "      <th>3</th>\n",
       "      <td>376.10925</td>\n",
       "      <td>5.116585</td>\n",
       "      <td>15.310265</td>\n",
       "      <td>False</td>\n",
       "      <td>NaT</td>\n",
       "      <td>POINT (747333.870 4299187.175)</td>\n",
       "    </tr>\n",
       "    <tr>\n",
       "      <th>4</th>\n",
       "      <td>10.27825</td>\n",
       "      <td>1.370338</td>\n",
       "      <td>12.806389</td>\n",
       "      <td>False</td>\n",
       "      <td>NaT</td>\n",
       "      <td>POINT (753578.870 4304332.175)</td>\n",
       "    </tr>\n",
       "    <tr>\n",
       "      <th>...</th>\n",
       "      <td>...</td>\n",
       "      <td>...</td>\n",
       "      <td>...</td>\n",
       "      <td>...</td>\n",
       "      <td>...</td>\n",
       "      <td>...</td>\n",
       "    </tr>\n",
       "    <tr>\n",
       "      <th>102662</th>\n",
       "      <td>412.71725</td>\n",
       "      <td>47.693090</td>\n",
       "      <td>282.219500</td>\n",
       "      <td>False</td>\n",
       "      <td>NaT</td>\n",
       "      <td>POINT (752368.870 4300107.175)</td>\n",
       "    </tr>\n",
       "    <tr>\n",
       "      <th>102663</th>\n",
       "      <td>38.34275</td>\n",
       "      <td>3.802766</td>\n",
       "      <td>29.704033</td>\n",
       "      <td>False</td>\n",
       "      <td>NaT</td>\n",
       "      <td>POINT (750253.870 4307967.175)</td>\n",
       "    </tr>\n",
       "    <tr>\n",
       "      <th>102664</th>\n",
       "      <td>141.42924</td>\n",
       "      <td>23.073492</td>\n",
       "      <td>27.285748</td>\n",
       "      <td>False</td>\n",
       "      <td>NaT</td>\n",
       "      <td>POINT (756628.870 4303917.175)</td>\n",
       "    </tr>\n",
       "    <tr>\n",
       "      <th>102665</th>\n",
       "      <td>85.26525</td>\n",
       "      <td>13.172064</td>\n",
       "      <td>344.150270</td>\n",
       "      <td>False</td>\n",
       "      <td>NaT</td>\n",
       "      <td>POINT (755743.870 4299122.175)</td>\n",
       "    </tr>\n",
       "    <tr>\n",
       "      <th>102666</th>\n",
       "      <td>437.15350</td>\n",
       "      <td>122.548840</td>\n",
       "      <td>332.573550</td>\n",
       "      <td>False</td>\n",
       "      <td>NaT</td>\n",
       "      <td>POINT (749203.870 4298757.175)</td>\n",
       "    </tr>\n",
       "  </tbody>\n",
       "</table>\n",
       "<p>102667 rows × 6 columns</p>\n",
       "</div>"
      ],
      "text/plain": [
       "          altitud   pendiente  orientacion  is_fire date  \\\n",
       "0       644.62350   53.724090    30.371418    False  NaT   \n",
       "1         3.00000    0.351406   350.168950    False  NaT   \n",
       "2       155.06900   29.476328   135.866000    False  NaT   \n",
       "3       376.10925    5.116585    15.310265    False  NaT   \n",
       "4        10.27825    1.370338    12.806389    False  NaT   \n",
       "...           ...         ...          ...      ...  ...   \n",
       "102662  412.71725   47.693090   282.219500    False  NaT   \n",
       "102663   38.34275    3.802766    29.704033    False  NaT   \n",
       "102664  141.42924   23.073492    27.285748    False  NaT   \n",
       "102665   85.26525   13.172064   344.150270    False  NaT   \n",
       "102666  437.15350  122.548840   332.573550    False  NaT   \n",
       "\n",
       "                              geometry  \n",
       "0       POINT (750538.870 4298747.175)  \n",
       "1       POINT (752713.870 4306437.175)  \n",
       "2       POINT (754363.870 4299307.175)  \n",
       "3       POINT (747333.870 4299187.175)  \n",
       "4       POINT (753578.870 4304332.175)  \n",
       "...                                ...  \n",
       "102662  POINT (752368.870 4300107.175)  \n",
       "102663  POINT (750253.870 4307967.175)  \n",
       "102664  POINT (756628.870 4303917.175)  \n",
       "102665  POINT (755743.870 4299122.175)  \n",
       "102666  POINT (749203.870 4298757.175)  \n",
       "\n",
       "[102667 rows x 6 columns]"
      ]
     },
     "execution_count": 67,
     "metadata": {},
     "output_type": "execute_result"
    }
   ],
   "source": [
    "points_df = gpd.read_file(\"data/points_terrain_stats.geojson\")\n",
    "points_df.set_crs(25831, allow_override=True, inplace=True)"
   ]
  },
  {
   "cell_type": "code",
   "execution_count": 68,
   "metadata": {},
   "outputs": [],
   "source": [
    "# Generate random date times for non-fire points\n",
    "start = datetime.datetime(year=1993, month=1, day=1)\n",
    "end = datetime.datetime(year=2019, month=12, day=31)\n",
    "\n",
    "r_dates =  points_df[\"date\"] .isnull()\n",
    "dates_list = [start + datetime.timedelta(seconds=random.randint(0, int((end - start).total_seconds()))) for x in r_dates if x is True]\n",
    "points_df.loc[r_dates, \"date\"] = dates_list\n"
   ]
  },
  {
   "cell_type": "code",
   "execution_count": 69,
   "metadata": {},
   "outputs": [
    {
     "data": {
      "text/html": [
       "<div>\n",
       "<style scoped>\n",
       "    .dataframe tbody tr th:only-of-type {\n",
       "        vertical-align: middle;\n",
       "    }\n",
       "\n",
       "    .dataframe tbody tr th {\n",
       "        vertical-align: top;\n",
       "    }\n",
       "\n",
       "    .dataframe thead th {\n",
       "        text-align: right;\n",
       "    }\n",
       "</style>\n",
       "<table border=\"1\" class=\"dataframe\">\n",
       "  <thead>\n",
       "    <tr style=\"text-align: right;\">\n",
       "      <th></th>\n",
       "      <th>altitud</th>\n",
       "      <th>pendiente</th>\n",
       "      <th>orientacion</th>\n",
       "      <th>is_fire</th>\n",
       "      <th>date</th>\n",
       "      <th>geometry</th>\n",
       "    </tr>\n",
       "  </thead>\n",
       "  <tbody>\n",
       "    <tr>\n",
       "      <th>0</th>\n",
       "      <td>644.62350</td>\n",
       "      <td>53.724090</td>\n",
       "      <td>30.371418</td>\n",
       "      <td>False</td>\n",
       "      <td>2004-05-03 08:28:09</td>\n",
       "      <td>POINT (750538.870 4298747.175)</td>\n",
       "    </tr>\n",
       "    <tr>\n",
       "      <th>1</th>\n",
       "      <td>3.00000</td>\n",
       "      <td>0.351406</td>\n",
       "      <td>350.168950</td>\n",
       "      <td>False</td>\n",
       "      <td>1996-05-17 18:16:51</td>\n",
       "      <td>POINT (752713.870 4306437.175)</td>\n",
       "    </tr>\n",
       "    <tr>\n",
       "      <th>2</th>\n",
       "      <td>155.06900</td>\n",
       "      <td>29.476328</td>\n",
       "      <td>135.866000</td>\n",
       "      <td>False</td>\n",
       "      <td>1996-10-11 10:30:42</td>\n",
       "      <td>POINT (754363.870 4299307.175)</td>\n",
       "    </tr>\n",
       "    <tr>\n",
       "      <th>3</th>\n",
       "      <td>376.10925</td>\n",
       "      <td>5.116585</td>\n",
       "      <td>15.310265</td>\n",
       "      <td>False</td>\n",
       "      <td>2002-11-23 16:26:18</td>\n",
       "      <td>POINT (747333.870 4299187.175)</td>\n",
       "    </tr>\n",
       "    <tr>\n",
       "      <th>4</th>\n",
       "      <td>10.27825</td>\n",
       "      <td>1.370338</td>\n",
       "      <td>12.806389</td>\n",
       "      <td>False</td>\n",
       "      <td>2007-12-09 13:29:37</td>\n",
       "      <td>POINT (753578.870 4304332.175)</td>\n",
       "    </tr>\n",
       "    <tr>\n",
       "      <th>...</th>\n",
       "      <td>...</td>\n",
       "      <td>...</td>\n",
       "      <td>...</td>\n",
       "      <td>...</td>\n",
       "      <td>...</td>\n",
       "      <td>...</td>\n",
       "    </tr>\n",
       "    <tr>\n",
       "      <th>102662</th>\n",
       "      <td>412.71725</td>\n",
       "      <td>47.693090</td>\n",
       "      <td>282.219500</td>\n",
       "      <td>False</td>\n",
       "      <td>2012-05-03 13:55:07</td>\n",
       "      <td>POINT (752368.870 4300107.175)</td>\n",
       "    </tr>\n",
       "    <tr>\n",
       "      <th>102663</th>\n",
       "      <td>38.34275</td>\n",
       "      <td>3.802766</td>\n",
       "      <td>29.704033</td>\n",
       "      <td>False</td>\n",
       "      <td>2012-08-22 08:03:17</td>\n",
       "      <td>POINT (750253.870 4307967.175)</td>\n",
       "    </tr>\n",
       "    <tr>\n",
       "      <th>102664</th>\n",
       "      <td>141.42924</td>\n",
       "      <td>23.073492</td>\n",
       "      <td>27.285748</td>\n",
       "      <td>False</td>\n",
       "      <td>2009-08-04 15:59:19</td>\n",
       "      <td>POINT (756628.870 4303917.175)</td>\n",
       "    </tr>\n",
       "    <tr>\n",
       "      <th>102665</th>\n",
       "      <td>85.26525</td>\n",
       "      <td>13.172064</td>\n",
       "      <td>344.150270</td>\n",
       "      <td>False</td>\n",
       "      <td>2005-06-28 07:48:37</td>\n",
       "      <td>POINT (755743.870 4299122.175)</td>\n",
       "    </tr>\n",
       "    <tr>\n",
       "      <th>102666</th>\n",
       "      <td>437.15350</td>\n",
       "      <td>122.548840</td>\n",
       "      <td>332.573550</td>\n",
       "      <td>False</td>\n",
       "      <td>2010-08-29 07:10:21</td>\n",
       "      <td>POINT (749203.870 4298757.175)</td>\n",
       "    </tr>\n",
       "  </tbody>\n",
       "</table>\n",
       "<p>102667 rows × 6 columns</p>\n",
       "</div>"
      ],
      "text/plain": [
       "          altitud   pendiente  orientacion  is_fire                date  \\\n",
       "0       644.62350   53.724090    30.371418    False 2004-05-03 08:28:09   \n",
       "1         3.00000    0.351406   350.168950    False 1996-05-17 18:16:51   \n",
       "2       155.06900   29.476328   135.866000    False 1996-10-11 10:30:42   \n",
       "3       376.10925    5.116585    15.310265    False 2002-11-23 16:26:18   \n",
       "4        10.27825    1.370338    12.806389    False 2007-12-09 13:29:37   \n",
       "...           ...         ...          ...      ...                 ...   \n",
       "102662  412.71725   47.693090   282.219500    False 2012-05-03 13:55:07   \n",
       "102663   38.34275    3.802766    29.704033    False 2012-08-22 08:03:17   \n",
       "102664  141.42924   23.073492    27.285748    False 2009-08-04 15:59:19   \n",
       "102665   85.26525   13.172064   344.150270    False 2005-06-28 07:48:37   \n",
       "102666  437.15350  122.548840   332.573550    False 2010-08-29 07:10:21   \n",
       "\n",
       "                              geometry  \n",
       "0       POINT (750538.870 4298747.175)  \n",
       "1       POINT (752713.870 4306437.175)  \n",
       "2       POINT (754363.870 4299307.175)  \n",
       "3       POINT (747333.870 4299187.175)  \n",
       "4       POINT (753578.870 4304332.175)  \n",
       "...                                ...  \n",
       "102662  POINT (752368.870 4300107.175)  \n",
       "102663  POINT (750253.870 4307967.175)  \n",
       "102664  POINT (756628.870 4303917.175)  \n",
       "102665  POINT (755743.870 4299122.175)  \n",
       "102666  POINT (749203.870 4298757.175)  \n",
       "\n",
       "[102667 rows x 6 columns]"
      ]
     },
     "execution_count": 69,
     "metadata": {},
     "output_type": "execute_result"
    }
   ],
   "source": [
    "points_df"
   ]
  },
  {
   "cell_type": "code",
   "execution_count": 74,
   "metadata": {},
   "outputs": [],
   "source": [
    "points_df_head_100 = points_df.head(1000)"
   ]
  },
  {
   "cell_type": "code",
   "execution_count": 75,
   "metadata": {},
   "outputs": [
    {
     "data": {
      "text/html": [
       "<div>\n",
       "<style scoped>\n",
       "    .dataframe tbody tr th:only-of-type {\n",
       "        vertical-align: middle;\n",
       "    }\n",
       "\n",
       "    .dataframe tbody tr th {\n",
       "        vertical-align: top;\n",
       "    }\n",
       "\n",
       "    .dataframe thead th {\n",
       "        text-align: right;\n",
       "    }\n",
       "</style>\n",
       "<table border=\"1\" class=\"dataframe\">\n",
       "  <thead>\n",
       "    <tr style=\"text-align: right;\">\n",
       "      <th></th>\n",
       "      <th>altitud</th>\n",
       "      <th>pendiente</th>\n",
       "      <th>orientacion</th>\n",
       "      <th>is_fire</th>\n",
       "      <th>date</th>\n",
       "      <th>geometry</th>\n",
       "      <th>t_max</th>\n",
       "      <th>u</th>\n",
       "      <th>v</th>\n",
       "      <th>specific_humidity</th>\n",
       "      <th>relative_humidity</th>\n",
       "    </tr>\n",
       "  </thead>\n",
       "  <tbody>\n",
       "    <tr>\n",
       "      <th>0</th>\n",
       "      <td>644.62350</td>\n",
       "      <td>53.724090</td>\n",
       "      <td>30.371418</td>\n",
       "      <td>False</td>\n",
       "      <td>2004-05-03 08:28:09</td>\n",
       "      <td>POINT (5.88504 38.80189)</td>\n",
       "      <td>295.681641</td>\n",
       "      <td>4.555232</td>\n",
       "      <td>6.049922</td>\n",
       "      <td>0.007946</td>\n",
       "      <td>65.691483</td>\n",
       "    </tr>\n",
       "    <tr>\n",
       "      <th>1</th>\n",
       "      <td>3.00000</td>\n",
       "      <td>0.351406</td>\n",
       "      <td>350.168950</td>\n",
       "      <td>False</td>\n",
       "      <td>1996-05-17 18:16:51</td>\n",
       "      <td>POINT (5.91288 38.87048)</td>\n",
       "      <td>290.966553</td>\n",
       "      <td>0.300633</td>\n",
       "      <td>2.195405</td>\n",
       "      <td>0.010563</td>\n",
       "      <td>85.001617</td>\n",
       "    </tr>\n",
       "    <tr>\n",
       "      <th>2</th>\n",
       "      <td>155.06900</td>\n",
       "      <td>29.476328</td>\n",
       "      <td>135.866000</td>\n",
       "      <td>False</td>\n",
       "      <td>1996-10-11 10:30:42</td>\n",
       "      <td>POINT (5.92924 38.80584)</td>\n",
       "      <td>290.274658</td>\n",
       "      <td>3.982947</td>\n",
       "      <td>-4.266265</td>\n",
       "      <td>0.008307</td>\n",
       "      <td>68.388260</td>\n",
       "    </tr>\n",
       "    <tr>\n",
       "      <th>3</th>\n",
       "      <td>376.10925</td>\n",
       "      <td>5.116585</td>\n",
       "      <td>15.310265</td>\n",
       "      <td>False</td>\n",
       "      <td>2002-11-23 16:26:18</td>\n",
       "      <td>POINT (5.84833 38.80676)</td>\n",
       "      <td>NaN</td>\n",
       "      <td>NaN</td>\n",
       "      <td>NaN</td>\n",
       "      <td>NaN</td>\n",
       "      <td>NaN</td>\n",
       "    </tr>\n",
       "    <tr>\n",
       "      <th>4</th>\n",
       "      <td>10.27825</td>\n",
       "      <td>1.370338</td>\n",
       "      <td>12.806389</td>\n",
       "      <td>False</td>\n",
       "      <td>2007-12-09 13:29:37</td>\n",
       "      <td>POINT (5.92206 38.85129)</td>\n",
       "      <td>NaN</td>\n",
       "      <td>NaN</td>\n",
       "      <td>NaN</td>\n",
       "      <td>NaN</td>\n",
       "      <td>NaN</td>\n",
       "    </tr>\n",
       "    <tr>\n",
       "      <th>...</th>\n",
       "      <td>...</td>\n",
       "      <td>...</td>\n",
       "      <td>...</td>\n",
       "      <td>...</td>\n",
       "      <td>...</td>\n",
       "      <td>...</td>\n",
       "      <td>...</td>\n",
       "      <td>...</td>\n",
       "      <td>...</td>\n",
       "      <td>...</td>\n",
       "      <td>...</td>\n",
       "    </tr>\n",
       "    <tr>\n",
       "      <th>995</th>\n",
       "      <td>417.47424</td>\n",
       "      <td>42.206154</td>\n",
       "      <td>113.979990</td>\n",
       "      <td>True</td>\n",
       "      <td>2015-05-14 00:00:00</td>\n",
       "      <td>POINT (5.89281 38.81472)</td>\n",
       "      <td>NaN</td>\n",
       "      <td>NaN</td>\n",
       "      <td>NaN</td>\n",
       "      <td>NaN</td>\n",
       "      <td>NaN</td>\n",
       "    </tr>\n",
       "    <tr>\n",
       "      <th>996</th>\n",
       "      <td>432.73200</td>\n",
       "      <td>8.514082</td>\n",
       "      <td>328.044040</td>\n",
       "      <td>True</td>\n",
       "      <td>2015-05-14 00:00:00</td>\n",
       "      <td>POINT (5.84474 38.83203)</td>\n",
       "      <td>NaN</td>\n",
       "      <td>NaN</td>\n",
       "      <td>NaN</td>\n",
       "      <td>NaN</td>\n",
       "      <td>NaN</td>\n",
       "    </tr>\n",
       "    <tr>\n",
       "      <th>997</th>\n",
       "      <td>87.75750</td>\n",
       "      <td>1.667135</td>\n",
       "      <td>298.551880</td>\n",
       "      <td>False</td>\n",
       "      <td>2002-05-24 09:16:40</td>\n",
       "      <td>POINT (5.94498 38.81058)</td>\n",
       "      <td>NaN</td>\n",
       "      <td>NaN</td>\n",
       "      <td>NaN</td>\n",
       "      <td>NaN</td>\n",
       "      <td>NaN</td>\n",
       "    </tr>\n",
       "    <tr>\n",
       "      <th>998</th>\n",
       "      <td>0.91825</td>\n",
       "      <td>1.107692</td>\n",
       "      <td>206.579530</td>\n",
       "      <td>False</td>\n",
       "      <td>2007-12-07 08:56:13</td>\n",
       "      <td>POINT (5.95252 38.86484)</td>\n",
       "      <td>NaN</td>\n",
       "      <td>NaN</td>\n",
       "      <td>NaN</td>\n",
       "      <td>NaN</td>\n",
       "      <td>NaN</td>\n",
       "    </tr>\n",
       "    <tr>\n",
       "      <th>999</th>\n",
       "      <td>172.14676</td>\n",
       "      <td>58.148064</td>\n",
       "      <td>174.633790</td>\n",
       "      <td>False</td>\n",
       "      <td>2010-03-31 23:07:25</td>\n",
       "      <td>POINT (5.85091 38.84976)</td>\n",
       "      <td>NaN</td>\n",
       "      <td>NaN</td>\n",
       "      <td>NaN</td>\n",
       "      <td>NaN</td>\n",
       "      <td>NaN</td>\n",
       "    </tr>\n",
       "  </tbody>\n",
       "</table>\n",
       "<p>1000 rows × 11 columns</p>\n",
       "</div>"
      ],
      "text/plain": [
       "       altitud  pendiente  orientacion  is_fire                date  \\\n",
       "0    644.62350  53.724090    30.371418    False 2004-05-03 08:28:09   \n",
       "1      3.00000   0.351406   350.168950    False 1996-05-17 18:16:51   \n",
       "2    155.06900  29.476328   135.866000    False 1996-10-11 10:30:42   \n",
       "3    376.10925   5.116585    15.310265    False 2002-11-23 16:26:18   \n",
       "4     10.27825   1.370338    12.806389    False 2007-12-09 13:29:37   \n",
       "..         ...        ...          ...      ...                 ...   \n",
       "995  417.47424  42.206154   113.979990     True 2015-05-14 00:00:00   \n",
       "996  432.73200   8.514082   328.044040     True 2015-05-14 00:00:00   \n",
       "997   87.75750   1.667135   298.551880    False 2002-05-24 09:16:40   \n",
       "998    0.91825   1.107692   206.579530    False 2007-12-07 08:56:13   \n",
       "999  172.14676  58.148064   174.633790    False 2010-03-31 23:07:25   \n",
       "\n",
       "                     geometry       t_max         u         v  \\\n",
       "0    POINT (5.88504 38.80189)  295.681641  4.555232  6.049922   \n",
       "1    POINT (5.91288 38.87048)  290.966553  0.300633  2.195405   \n",
       "2    POINT (5.92924 38.80584)  290.274658  3.982947 -4.266265   \n",
       "3    POINT (5.84833 38.80676)         NaN       NaN       NaN   \n",
       "4    POINT (5.92206 38.85129)         NaN       NaN       NaN   \n",
       "..                        ...         ...       ...       ...   \n",
       "995  POINT (5.89281 38.81472)         NaN       NaN       NaN   \n",
       "996  POINT (5.84474 38.83203)         NaN       NaN       NaN   \n",
       "997  POINT (5.94498 38.81058)         NaN       NaN       NaN   \n",
       "998  POINT (5.95252 38.86484)         NaN       NaN       NaN   \n",
       "999  POINT (5.85091 38.84976)         NaN       NaN       NaN   \n",
       "\n",
       "     specific_humidity  relative_humidity  \n",
       "0             0.007946          65.691483  \n",
       "1             0.010563          85.001617  \n",
       "2             0.008307          68.388260  \n",
       "3                  NaN                NaN  \n",
       "4                  NaN                NaN  \n",
       "..                 ...                ...  \n",
       "995                NaN                NaN  \n",
       "996                NaN                NaN  \n",
       "997                NaN                NaN  \n",
       "998                NaN                NaN  \n",
       "999                NaN                NaN  \n",
       "\n",
       "[1000 rows x 11 columns]"
      ]
     },
     "execution_count": 75,
     "metadata": {},
     "output_type": "execute_result"
    }
   ],
   "source": [
    "points_df_head_100"
   ]
  },
  {
   "cell_type": "code",
   "execution_count": 79,
   "metadata": {},
   "outputs": [
    {
     "data": {
      "text/plain": [
       "800"
      ]
     },
     "execution_count": 79,
     "metadata": {},
     "output_type": "execute_result"
    }
   ],
   "source": [
    "points_df_head_100 = points_df.head(1000)\n",
    "len(points_df_head_100[points_df_head_100['is_fire'] == False])"
   ]
  },
  {
   "cell_type": "code",
   "execution_count": 80,
   "metadata": {},
   "outputs": [
    {
     "name": "stdout",
     "output_type": "stream",
     "text": [
      "0\n"
     ]
    },
    {
     "name": "stderr",
     "output_type": "stream",
     "text": [
      "2023-05-19 19:16:01,481 INFO Welcome to the CDS\n",
      "2023-05-19 19:16:01,481 INFO Sending request to https://cds.climate.copernicus.eu/api/v2/resources/reanalysis-era5-pressure-levels\n",
      "2023-05-19 19:16:02,008 INFO Welcome to the CDS\n",
      "2023-05-19 19:16:02,009 INFO Sending request to https://cds.climate.copernicus.eu/api/v2/resources/reanalysis-era5-pressure-levels\n"
     ]
    },
    {
     "name": "stdout",
     "output_type": "stream",
     "text": [
      "1\n"
     ]
    },
    {
     "name": "stderr",
     "output_type": "stream",
     "text": [
      "2023-05-19 19:16:02,512 INFO Welcome to the CDS\n",
      "2023-05-19 19:16:02,513 INFO Sending request to https://cds.climate.copernicus.eu/api/v2/resources/reanalysis-era5-pressure-levels\n"
     ]
    },
    {
     "name": "stdout",
     "output_type": "stream",
     "text": [
      "2\n"
     ]
    },
    {
     "name": "stderr",
     "output_type": "stream",
     "text": [
      "2023-05-19 19:16:03,078 INFO Welcome to the CDS\n",
      "2023-05-19 19:16:03,079 INFO Sending request to https://cds.climate.copernicus.eu/api/v2/resources/reanalysis-era5-pressure-levels\n",
      "2023-05-19 19:16:03,132 INFO Request is queued\n"
     ]
    },
    {
     "name": "stdout",
     "output_type": "stream",
     "text": [
      "3\n"
     ]
    },
    {
     "name": "stderr",
     "output_type": "stream",
     "text": [
      "2023-05-19 19:16:04,184 INFO Request is running\n",
      "2023-05-19 19:16:11,509 INFO Request is completed\n",
      "2023-05-19 19:16:12,039 INFO Welcome to the CDS\n",
      "2023-05-19 19:16:12,039 INFO Sending request to https://cds.climate.copernicus.eu/api/v2/resources/reanalysis-era5-pressure-levels\n",
      "2023-05-19 19:16:12,184 INFO Request is queued\n"
     ]
    },
    {
     "name": "stdout",
     "output_type": "stream",
     "text": [
      "4\n"
     ]
    },
    {
     "name": "stderr",
     "output_type": "stream",
     "text": [
      "2023-05-19 19:16:13,238 INFO Request is running\n",
      "2023-05-19 19:16:20,545 INFO Request is completed\n"
     ]
    },
    {
     "name": "stdout",
     "output_type": "stream",
     "text": [
      "5\n"
     ]
    },
    {
     "name": "stderr",
     "output_type": "stream",
     "text": [
      "2023-05-19 19:16:21,332 INFO Welcome to the CDS\n",
      "2023-05-19 19:16:21,333 INFO Sending request to https://cds.climate.copernicus.eu/api/v2/resources/reanalysis-era5-pressure-levels\n",
      "2023-05-19 19:16:21,393 INFO Request is queued\n",
      "2023-05-19 19:16:22,454 INFO Request is running\n",
      "2023-05-19 19:16:29,755 INFO Request is completed\n",
      "2023-05-19 19:16:30,304 INFO Welcome to the CDS\n",
      "2023-05-19 19:16:30,305 INFO Sending request to https://cds.climate.copernicus.eu/api/v2/resources/reanalysis-era5-pressure-levels\n",
      "2023-05-19 19:16:30,384 INFO Request is queued\n"
     ]
    },
    {
     "name": "stdout",
     "output_type": "stream",
     "text": [
      "6\n"
     ]
    },
    {
     "name": "stderr",
     "output_type": "stream",
     "text": [
      "2023-05-19 19:16:31,439 INFO Request is running\n",
      "2023-05-19 19:16:38,742 INFO Request is completed\n",
      "2023-05-19 19:16:39,334 INFO Welcome to the CDS\n",
      "2023-05-19 19:16:39,335 INFO Sending request to https://cds.climate.copernicus.eu/api/v2/resources/reanalysis-era5-pressure-levels\n",
      "2023-05-19 19:16:39,403 INFO Request is queued\n"
     ]
    },
    {
     "name": "stdout",
     "output_type": "stream",
     "text": [
      "7\n"
     ]
    },
    {
     "name": "stderr",
     "output_type": "stream",
     "text": [
      "2023-05-19 19:16:40,470 INFO Request is running\n",
      "2023-05-19 19:16:47,772 INFO Request is completed\n",
      "2023-05-19 19:16:48,296 INFO Welcome to the CDS\n",
      "2023-05-19 19:16:48,297 INFO Sending request to https://cds.climate.copernicus.eu/api/v2/resources/reanalysis-era5-pressure-levels\n",
      "2023-05-19 19:16:48,348 INFO Request is queued\n"
     ]
    },
    {
     "name": "stdout",
     "output_type": "stream",
     "text": [
      "8\n"
     ]
    },
    {
     "name": "stderr",
     "output_type": "stream",
     "text": [
      "2023-05-19 19:16:49,425 INFO Request is running\n",
      "2023-05-19 19:16:56,735 INFO Request is completed\n",
      "2023-05-19 19:16:57,173 INFO Welcome to the CDS\n",
      "2023-05-19 19:16:57,174 INFO Sending request to https://cds.climate.copernicus.eu/api/v2/resources/reanalysis-era5-pressure-levels\n",
      "2023-05-19 19:16:57,249 INFO Request is queued\n"
     ]
    },
    {
     "name": "stdout",
     "output_type": "stream",
     "text": [
      "9\n"
     ]
    },
    {
     "name": "stderr",
     "output_type": "stream",
     "text": [
      "2023-05-19 19:16:58,300 INFO Request is running\n",
      "2023-05-19 19:17:05,639 INFO Request is completed\n",
      "2023-05-19 19:17:06,099 INFO Welcome to the CDS\n",
      "2023-05-19 19:17:06,100 INFO Sending request to https://cds.climate.copernicus.eu/api/v2/resources/reanalysis-era5-pressure-levels\n",
      "2023-05-19 19:17:06,155 INFO Request is queued\n"
     ]
    },
    {
     "name": "stdout",
     "output_type": "stream",
     "text": [
      "10\n"
     ]
    },
    {
     "name": "stderr",
     "output_type": "stream",
     "text": [
      "2023-05-19 19:17:07,215 INFO Request is running\n",
      "2023-05-19 19:17:14,514 INFO Request is completed\n",
      "2023-05-19 19:17:14,971 INFO Welcome to the CDS\n",
      "2023-05-19 19:17:14,972 INFO Sending request to https://cds.climate.copernicus.eu/api/v2/resources/reanalysis-era5-pressure-levels\n",
      "2023-05-19 19:17:15,056 INFO Request is queued\n"
     ]
    },
    {
     "name": "stdout",
     "output_type": "stream",
     "text": [
      "11\n"
     ]
    },
    {
     "name": "stderr",
     "output_type": "stream",
     "text": [
      "2023-05-19 19:17:16,116 INFO Request is running\n",
      "2023-05-19 19:17:23,473 INFO Request is completed\n",
      "2023-05-19 19:17:23,997 INFO Welcome to the CDS\n",
      "2023-05-19 19:17:23,998 INFO Sending request to https://cds.climate.copernicus.eu/api/v2/resources/reanalysis-era5-pressure-levels\n",
      "2023-05-19 19:17:24,074 INFO Request is queued\n"
     ]
    },
    {
     "name": "stdout",
     "output_type": "stream",
     "text": [
      "12\n"
     ]
    },
    {
     "name": "stderr",
     "output_type": "stream",
     "text": [
      "2023-05-19 19:17:25,171 INFO Request is running\n",
      "2023-05-19 19:17:32,495 INFO Request is completed\n",
      "2023-05-19 19:17:32,841 INFO Welcome to the CDS\n",
      "2023-05-19 19:17:32,843 INFO Sending request to https://cds.climate.copernicus.eu/api/v2/resources/reanalysis-era5-pressure-levels\n",
      "2023-05-19 19:17:32,943 INFO Request is queued\n"
     ]
    },
    {
     "name": "stdout",
     "output_type": "stream",
     "text": [
      "13\n"
     ]
    },
    {
     "name": "stderr",
     "output_type": "stream",
     "text": [
      "2023-05-19 19:17:34,004 INFO Request is running\n",
      "2023-05-19 19:17:41,317 INFO Request is completed\n",
      "2023-05-19 19:17:41,869 INFO Welcome to the CDS\n",
      "2023-05-19 19:17:41,870 INFO Sending request to https://cds.climate.copernicus.eu/api/v2/resources/reanalysis-era5-pressure-levels\n",
      "2023-05-19 19:17:41,948 INFO Request is queued\n"
     ]
    },
    {
     "name": "stdout",
     "output_type": "stream",
     "text": [
      "14\n"
     ]
    },
    {
     "name": "stderr",
     "output_type": "stream",
     "text": [
      "2023-05-19 19:17:43,004 INFO Request is running\n",
      "2023-05-19 19:17:50,309 INFO Request is completed\n",
      "2023-05-19 19:17:50,883 INFO Welcome to the CDS\n",
      "2023-05-19 19:17:50,884 INFO Sending request to https://cds.climate.copernicus.eu/api/v2/resources/reanalysis-era5-pressure-levels\n",
      "2023-05-19 19:17:50,970 INFO Request is queued\n"
     ]
    },
    {
     "name": "stdout",
     "output_type": "stream",
     "text": [
      "15\n"
     ]
    },
    {
     "name": "stderr",
     "output_type": "stream",
     "text": [
      "2023-05-19 19:17:52,043 INFO Request is running\n",
      "2023-05-19 19:17:59,385 INFO Request is completed\n"
     ]
    },
    {
     "name": "stdout",
     "output_type": "stream",
     "text": [
      "16\n"
     ]
    },
    {
     "name": "stderr",
     "output_type": "stream",
     "text": [
      "2023-05-19 19:17:59,848 INFO Welcome to the CDS\n",
      "2023-05-19 19:17:59,849 INFO Sending request to https://cds.climate.copernicus.eu/api/v2/resources/reanalysis-era5-pressure-levels\n",
      "2023-05-19 19:17:59,907 INFO Request is queued\n",
      "2023-05-19 19:18:00,974 INFO Request is running\n",
      "2023-05-19 19:18:08,320 INFO Request is completed\n",
      "2023-05-19 19:18:08,630 INFO Welcome to the CDS\n",
      "2023-05-19 19:18:08,631 INFO Sending request to https://cds.climate.copernicus.eu/api/v2/resources/reanalysis-era5-pressure-levels\n",
      "2023-05-19 19:18:08,699 INFO Request is queued\n"
     ]
    },
    {
     "name": "stdout",
     "output_type": "stream",
     "text": [
      "17\n"
     ]
    },
    {
     "name": "stderr",
     "output_type": "stream",
     "text": [
      "2023-05-19 19:18:09,759 INFO Request is running\n",
      "2023-05-19 19:18:17,088 INFO Request is completed\n",
      "2023-05-19 19:18:17,419 INFO Welcome to the CDS\n",
      "2023-05-19 19:18:17,420 INFO Sending request to https://cds.climate.copernicus.eu/api/v2/resources/reanalysis-era5-pressure-levels\n",
      "2023-05-19 19:18:17,490 INFO Request is queued\n"
     ]
    },
    {
     "name": "stdout",
     "output_type": "stream",
     "text": [
      "18\n"
     ]
    },
    {
     "name": "stderr",
     "output_type": "stream",
     "text": [
      "2023-05-19 19:18:18,557 INFO Request is running\n",
      "2023-05-19 19:18:25,871 INFO Request is completed\n",
      "2023-05-19 19:18:26,201 INFO Welcome to the CDS\n",
      "2023-05-19 19:18:26,202 INFO Sending request to https://cds.climate.copernicus.eu/api/v2/resources/reanalysis-era5-pressure-levels\n",
      "2023-05-19 19:18:26,294 INFO Request is queued\n"
     ]
    },
    {
     "name": "stdout",
     "output_type": "stream",
     "text": [
      "19\n"
     ]
    },
    {
     "name": "stderr",
     "output_type": "stream",
     "text": [
      "2023-05-19 19:18:27,352 INFO Request is running\n",
      "2023-05-19 19:18:34,666 INFO Request is completed\n",
      "2023-05-19 19:18:35,221 INFO Welcome to the CDS\n",
      "2023-05-19 19:18:35,222 INFO Sending request to https://cds.climate.copernicus.eu/api/v2/resources/reanalysis-era5-pressure-levels\n",
      "2023-05-19 19:18:35,276 INFO Request is queued\n"
     ]
    },
    {
     "name": "stdout",
     "output_type": "stream",
     "text": [
      "20\n"
     ]
    },
    {
     "name": "stderr",
     "output_type": "stream",
     "text": [
      "2023-05-19 19:18:36,334 INFO Request is running\n",
      "2023-05-19 19:18:43,638 INFO Request is completed\n",
      "2023-05-19 19:18:43,955 INFO Welcome to the CDS\n",
      "2023-05-19 19:18:43,956 INFO Sending request to https://cds.climate.copernicus.eu/api/v2/resources/reanalysis-era5-pressure-levels\n",
      "2023-05-19 19:18:44,058 INFO Request is queued\n"
     ]
    },
    {
     "name": "stdout",
     "output_type": "stream",
     "text": [
      "21\n"
     ]
    },
    {
     "name": "stderr",
     "output_type": "stream",
     "text": [
      "2023-05-19 19:18:45,119 INFO Request is running\n",
      "2023-05-19 19:18:52,428 INFO Request is completed\n",
      "2023-05-19 19:18:52,740 INFO Welcome to the CDS\n",
      "2023-05-19 19:18:52,743 INFO Sending request to https://cds.climate.copernicus.eu/api/v2/resources/reanalysis-era5-pressure-levels\n",
      "2023-05-19 19:18:52,826 INFO Request is queued\n"
     ]
    },
    {
     "name": "stdout",
     "output_type": "stream",
     "text": [
      "22\n"
     ]
    },
    {
     "name": "stderr",
     "output_type": "stream",
     "text": [
      "2023-05-19 19:18:53,882 INFO Request is running\n",
      "2023-05-19 19:19:01,192 INFO Request is completed\n",
      "2023-05-19 19:19:01,523 INFO Welcome to the CDS\n",
      "2023-05-19 19:19:01,523 INFO Sending request to https://cds.climate.copernicus.eu/api/v2/resources/reanalysis-era5-pressure-levels\n",
      "2023-05-19 19:19:01,592 INFO Request is queued\n"
     ]
    },
    {
     "name": "stdout",
     "output_type": "stream",
     "text": [
      "23\n"
     ]
    },
    {
     "name": "stderr",
     "output_type": "stream",
     "text": [
      "2023-05-19 19:19:02,652 INFO Request is running\n",
      "2023-05-19 19:19:09,959 INFO Request is completed\n",
      "2023-05-19 19:19:10,525 INFO Welcome to the CDS\n",
      "2023-05-19 19:19:10,526 INFO Sending request to https://cds.climate.copernicus.eu/api/v2/resources/reanalysis-era5-pressure-levels\n",
      "2023-05-19 19:19:10,624 INFO Request is queued\n"
     ]
    },
    {
     "name": "stdout",
     "output_type": "stream",
     "text": [
      "24\n"
     ]
    },
    {
     "name": "stderr",
     "output_type": "stream",
     "text": [
      "2023-05-19 19:19:11,691 INFO Request is running\n",
      "2023-05-19 19:19:19,033 INFO Request is completed\n",
      "2023-05-19 19:19:19,572 INFO Welcome to the CDS\n",
      "2023-05-19 19:19:19,573 INFO Sending request to https://cds.climate.copernicus.eu/api/v2/resources/reanalysis-era5-pressure-levels\n",
      "2023-05-19 19:19:19,649 INFO Request is queued\n"
     ]
    },
    {
     "name": "stdout",
     "output_type": "stream",
     "text": [
      "25\n"
     ]
    },
    {
     "name": "stderr",
     "output_type": "stream",
     "text": [
      "2023-05-19 19:19:20,715 INFO Request is running\n",
      "2023-05-19 19:19:28,028 INFO Request is completed\n",
      "2023-05-19 19:19:28,368 INFO Welcome to the CDS\n",
      "2023-05-19 19:19:28,369 INFO Sending request to https://cds.climate.copernicus.eu/api/v2/resources/reanalysis-era5-pressure-levels\n",
      "2023-05-19 19:19:28,499 INFO Request is queued\n"
     ]
    },
    {
     "name": "stdout",
     "output_type": "stream",
     "text": [
      "26\n"
     ]
    },
    {
     "name": "stderr",
     "output_type": "stream",
     "text": [
      "2023-05-19 19:19:29,556 INFO Request is running\n",
      "2023-05-19 19:19:36,912 INFO Request is completed\n",
      "2023-05-19 19:19:37,223 INFO Welcome to the CDS\n",
      "2023-05-19 19:19:37,226 INFO Sending request to https://cds.climate.copernicus.eu/api/v2/resources/reanalysis-era5-pressure-levels\n",
      "2023-05-19 19:19:37,296 INFO Request is queued\n"
     ]
    },
    {
     "name": "stdout",
     "output_type": "stream",
     "text": [
      "27\n"
     ]
    },
    {
     "name": "stderr",
     "output_type": "stream",
     "text": [
      "2023-05-19 19:19:38,367 INFO Request is running\n",
      "2023-05-19 19:19:45,689 INFO Request is completed\n",
      "2023-05-19 19:19:46,002 INFO Welcome to the CDS\n",
      "2023-05-19 19:19:46,003 INFO Sending request to https://cds.climate.copernicus.eu/api/v2/resources/reanalysis-era5-pressure-levels\n",
      "2023-05-19 19:19:46,090 INFO Request is queued\n"
     ]
    },
    {
     "name": "stdout",
     "output_type": "stream",
     "text": [
      "28\n"
     ]
    },
    {
     "name": "stderr",
     "output_type": "stream",
     "text": [
      "2023-05-19 19:19:47,157 INFO Request is running\n",
      "2023-05-19 19:19:54,469 INFO Request is completed\n",
      "2023-05-19 19:19:54,786 INFO Welcome to the CDS\n",
      "2023-05-19 19:19:54,787 INFO Sending request to https://cds.climate.copernicus.eu/api/v2/resources/reanalysis-era5-pressure-levels\n",
      "2023-05-19 19:19:54,865 INFO Request is queued\n"
     ]
    },
    {
     "name": "stdout",
     "output_type": "stream",
     "text": [
      "29\n"
     ]
    },
    {
     "name": "stderr",
     "output_type": "stream",
     "text": [
      "2023-05-19 19:19:55,928 INFO Request is running\n",
      "2023-05-19 19:20:03,234 INFO Request is completed\n",
      "2023-05-19 19:20:03,543 INFO Welcome to the CDS\n",
      "2023-05-19 19:20:03,544 INFO Sending request to https://cds.climate.copernicus.eu/api/v2/resources/reanalysis-era5-pressure-levels\n",
      "2023-05-19 19:20:03,629 INFO Request is queued\n"
     ]
    },
    {
     "name": "stdout",
     "output_type": "stream",
     "text": [
      "30\n"
     ]
    },
    {
     "name": "stderr",
     "output_type": "stream",
     "text": [
      "2023-05-19 19:20:04,846 INFO Request is running\n",
      "2023-05-19 19:20:12,160 INFO Request is completed\n",
      "2023-05-19 19:20:12,458 INFO Welcome to the CDS\n",
      "2023-05-19 19:20:12,458 INFO Sending request to https://cds.climate.copernicus.eu/api/v2/resources/reanalysis-era5-pressure-levels\n",
      "2023-05-19 19:20:12,525 INFO Request is queued\n"
     ]
    },
    {
     "name": "stdout",
     "output_type": "stream",
     "text": [
      "31\n"
     ]
    },
    {
     "name": "stderr",
     "output_type": "stream",
     "text": [
      "2023-05-19 19:20:13,584 INFO Request is running\n",
      "2023-05-19 19:20:26,033 INFO Request is completed\n",
      "2023-05-19 19:20:26,616 INFO Welcome to the CDS\n",
      "2023-05-19 19:20:26,617 INFO Sending request to https://cds.climate.copernicus.eu/api/v2/resources/reanalysis-era5-pressure-levels\n",
      "2023-05-19 19:20:26,720 INFO Request is queued\n"
     ]
    },
    {
     "name": "stdout",
     "output_type": "stream",
     "text": [
      "32\n"
     ]
    },
    {
     "name": "stderr",
     "output_type": "stream",
     "text": [
      "2023-05-19 19:20:27,780 INFO Request is running\n",
      "2023-05-19 19:20:35,099 INFO Request is completed\n",
      "2023-05-19 19:20:35,671 INFO Welcome to the CDS\n",
      "2023-05-19 19:20:35,672 INFO Sending request to https://cds.climate.copernicus.eu/api/v2/resources/reanalysis-era5-pressure-levels\n"
     ]
    },
    {
     "name": "stdout",
     "output_type": "stream",
     "text": [
      "33\n"
     ]
    },
    {
     "name": "stderr",
     "output_type": "stream",
     "text": [
      "2023-05-19 19:20:35,833 INFO Request is queued\n",
      "2023-05-19 19:20:36,891 INFO Request is running\n",
      "2023-05-19 19:20:44,197 INFO Request is completed\n",
      "2023-05-19 19:20:44,553 INFO Welcome to the CDS\n",
      "2023-05-19 19:20:44,554 INFO Sending request to https://cds.climate.copernicus.eu/api/v2/resources/reanalysis-era5-pressure-levels\n",
      "2023-05-19 19:20:44,612 INFO Request is queued\n"
     ]
    },
    {
     "name": "stdout",
     "output_type": "stream",
     "text": [
      "34\n"
     ]
    },
    {
     "name": "stderr",
     "output_type": "stream",
     "text": [
      "2023-05-19 19:20:45,678 INFO Request is running\n",
      "2023-05-19 19:20:52,987 INFO Request is completed\n",
      "2023-05-19 19:20:53,517 INFO Welcome to the CDS\n",
      "2023-05-19 19:20:53,518 INFO Sending request to https://cds.climate.copernicus.eu/api/v2/resources/reanalysis-era5-pressure-levels\n"
     ]
    },
    {
     "name": "stdout",
     "output_type": "stream",
     "text": [
      "35\n"
     ]
    },
    {
     "name": "stderr",
     "output_type": "stream",
     "text": [
      "2023-05-19 19:20:53,715 INFO Request is queued\n",
      "2023-05-19 19:20:54,779 INFO Request is running\n",
      "2023-05-19 19:21:02,087 INFO Request is completed\n",
      "2023-05-19 19:21:02,437 INFO Welcome to the CDS\n",
      "2023-05-19 19:21:02,438 INFO Sending request to https://cds.climate.copernicus.eu/api/v2/resources/reanalysis-era5-pressure-levels\n",
      "2023-05-19 19:21:02,541 INFO Request is queued\n"
     ]
    },
    {
     "name": "stdout",
     "output_type": "stream",
     "text": [
      "36\n"
     ]
    },
    {
     "name": "stderr",
     "output_type": "stream",
     "text": [
      "2023-05-19 19:21:03,605 INFO Request is running\n",
      "2023-05-19 19:21:10,929 INFO Request is completed\n",
      "2023-05-19 19:21:11,275 INFO Welcome to the CDS\n",
      "2023-05-19 19:21:11,276 INFO Sending request to https://cds.climate.copernicus.eu/api/v2/resources/reanalysis-era5-pressure-levels\n",
      "2023-05-19 19:21:11,370 INFO Request is queued\n"
     ]
    },
    {
     "name": "stdout",
     "output_type": "stream",
     "text": [
      "37\n"
     ]
    },
    {
     "name": "stderr",
     "output_type": "stream",
     "text": [
      "2023-05-19 19:21:12,439 INFO Request is running\n",
      "2023-05-19 19:21:19,744 INFO Request is completed\n",
      "2023-05-19 19:21:20,073 INFO Welcome to the CDS\n",
      "2023-05-19 19:21:20,075 INFO Sending request to https://cds.climate.copernicus.eu/api/v2/resources/reanalysis-era5-pressure-levels\n",
      "2023-05-19 19:21:20,130 INFO Request is queued\n"
     ]
    },
    {
     "name": "stdout",
     "output_type": "stream",
     "text": [
      "38\n"
     ]
    },
    {
     "name": "stderr",
     "output_type": "stream",
     "text": [
      "2023-05-19 19:21:21,204 INFO Request is running\n",
      "2023-05-19 19:21:28,507 INFO Request is completed\n",
      "2023-05-19 19:21:28,826 INFO Welcome to the CDS\n",
      "2023-05-19 19:21:28,827 INFO Sending request to https://cds.climate.copernicus.eu/api/v2/resources/reanalysis-era5-pressure-levels\n",
      "2023-05-19 19:21:28,882 INFO Request is queued\n"
     ]
    },
    {
     "name": "stdout",
     "output_type": "stream",
     "text": [
      "39\n"
     ]
    },
    {
     "name": "stderr",
     "output_type": "stream",
     "text": [
      "2023-05-19 19:21:29,943 INFO Request is running\n",
      "2023-05-19 19:21:37,287 INFO Request is completed\n",
      "2023-05-19 19:21:37,597 INFO Welcome to the CDS\n",
      "2023-05-19 19:21:37,597 INFO Sending request to https://cds.climate.copernicus.eu/api/v2/resources/reanalysis-era5-pressure-levels\n",
      "2023-05-19 19:21:37,679 INFO Request is queued\n"
     ]
    },
    {
     "name": "stdout",
     "output_type": "stream",
     "text": [
      "40\n"
     ]
    },
    {
     "name": "stderr",
     "output_type": "stream",
     "text": [
      "2023-05-19 19:21:38,748 INFO Request is running\n",
      "2023-05-19 19:21:46,071 INFO Request is completed\n",
      "2023-05-19 19:21:46,399 INFO Welcome to the CDS\n",
      "2023-05-19 19:21:46,399 INFO Sending request to https://cds.climate.copernicus.eu/api/v2/resources/reanalysis-era5-pressure-levels\n",
      "2023-05-19 19:21:46,479 INFO Request is queued\n"
     ]
    },
    {
     "name": "stdout",
     "output_type": "stream",
     "text": [
      "41\n"
     ]
    },
    {
     "name": "stderr",
     "output_type": "stream",
     "text": [
      "2023-05-19 19:21:47,541 INFO Request is running\n",
      "2023-05-19 19:21:54,868 INFO Request is completed\n",
      "2023-05-19 19:21:55,196 INFO Welcome to the CDS\n",
      "2023-05-19 19:21:55,197 INFO Sending request to https://cds.climate.copernicus.eu/api/v2/resources/reanalysis-era5-pressure-levels\n",
      "2023-05-19 19:21:55,282 INFO Request is queued\n"
     ]
    },
    {
     "name": "stdout",
     "output_type": "stream",
     "text": [
      "42\n"
     ]
    },
    {
     "name": "stderr",
     "output_type": "stream",
     "text": [
      "2023-05-19 19:21:56,341 INFO Request is running\n",
      "2023-05-19 19:22:03,653 INFO Request is completed\n",
      "2023-05-19 19:22:04,209 INFO Welcome to the CDS\n",
      "2023-05-19 19:22:04,209 INFO Sending request to https://cds.climate.copernicus.eu/api/v2/resources/reanalysis-era5-pressure-levels\n",
      "2023-05-19 19:22:04,288 INFO Request is queued\n"
     ]
    },
    {
     "name": "stdout",
     "output_type": "stream",
     "text": [
      "43\n"
     ]
    },
    {
     "name": "stderr",
     "output_type": "stream",
     "text": [
      "2023-05-19 19:22:05,355 INFO Request is running\n",
      "2023-05-19 19:22:12,666 INFO Request is completed\n",
      "2023-05-19 19:22:12,967 INFO Welcome to the CDS\n",
      "2023-05-19 19:22:12,968 INFO Sending request to https://cds.climate.copernicus.eu/api/v2/resources/reanalysis-era5-pressure-levels\n",
      "2023-05-19 19:22:13,074 INFO Request is queued\n"
     ]
    },
    {
     "name": "stdout",
     "output_type": "stream",
     "text": [
      "44\n"
     ]
    },
    {
     "name": "stderr",
     "output_type": "stream",
     "text": [
      "2023-05-19 19:22:14,136 INFO Request is running\n",
      "2023-05-19 19:22:26,744 INFO Request is completed\n",
      "2023-05-19 19:22:27,075 INFO Welcome to the CDS\n",
      "2023-05-19 19:22:27,076 INFO Sending request to https://cds.climate.copernicus.eu/api/v2/resources/reanalysis-era5-pressure-levels\n",
      "2023-05-19 19:22:27,172 INFO Request is queued\n"
     ]
    },
    {
     "name": "stdout",
     "output_type": "stream",
     "text": [
      "45\n"
     ]
    },
    {
     "name": "stderr",
     "output_type": "stream",
     "text": [
      "2023-05-19 19:22:28,234 INFO Request is running\n",
      "2023-05-19 19:22:35,548 INFO Request is completed\n",
      "2023-05-19 19:22:36,089 INFO Welcome to the CDS\n",
      "2023-05-19 19:22:36,090 INFO Sending request to https://cds.climate.copernicus.eu/api/v2/resources/reanalysis-era5-pressure-levels\n",
      "2023-05-19 19:22:36,188 INFO Request is queued\n"
     ]
    },
    {
     "name": "stdout",
     "output_type": "stream",
     "text": [
      "46\n"
     ]
    },
    {
     "name": "stderr",
     "output_type": "stream",
     "text": [
      "2023-05-19 19:22:37,248 INFO Request is running\n",
      "2023-05-19 19:22:44,548 INFO Request is completed\n",
      "2023-05-19 19:22:44,992 INFO Welcome to the CDS\n",
      "2023-05-19 19:22:44,993 INFO Sending request to https://cds.climate.copernicus.eu/api/v2/resources/reanalysis-era5-pressure-levels\n",
      "2023-05-19 19:22:45,103 INFO Request is queued\n"
     ]
    },
    {
     "name": "stdout",
     "output_type": "stream",
     "text": [
      "47\n"
     ]
    },
    {
     "name": "stderr",
     "output_type": "stream",
     "text": [
      "2023-05-19 19:22:46,177 INFO Request is running\n",
      "2023-05-19 19:22:53,506 INFO Request is completed\n",
      "2023-05-19 19:22:54,075 INFO Welcome to the CDS\n",
      "2023-05-19 19:22:54,076 INFO Sending request to https://cds.climate.copernicus.eu/api/v2/resources/reanalysis-era5-pressure-levels\n",
      "2023-05-19 19:22:54,144 INFO Request is queued\n"
     ]
    },
    {
     "name": "stdout",
     "output_type": "stream",
     "text": [
      "48\n"
     ]
    },
    {
     "name": "stderr",
     "output_type": "stream",
     "text": [
      "2023-05-19 19:22:55,206 INFO Request is running\n",
      "2023-05-19 19:23:02,548 INFO Request is completed\n",
      "2023-05-19 19:23:03,005 INFO Welcome to the CDS\n",
      "2023-05-19 19:23:03,006 INFO Sending request to https://cds.climate.copernicus.eu/api/v2/resources/reanalysis-era5-pressure-levels\n",
      "2023-05-19 19:23:03,077 INFO Request is queued\n"
     ]
    },
    {
     "name": "stdout",
     "output_type": "stream",
     "text": [
      "49\n"
     ]
    },
    {
     "name": "stderr",
     "output_type": "stream",
     "text": [
      "2023-05-19 19:23:04,149 INFO Request is running\n",
      "2023-05-19 19:23:16,589 INFO Request is completed\n",
      "2023-05-19 19:23:16,919 INFO Welcome to the CDS\n",
      "2023-05-19 19:23:16,920 INFO Sending request to https://cds.climate.copernicus.eu/api/v2/resources/reanalysis-era5-pressure-levels\n",
      "2023-05-19 19:23:17,006 INFO Request is queued\n"
     ]
    },
    {
     "name": "stdout",
     "output_type": "stream",
     "text": [
      "50\n"
     ]
    },
    {
     "name": "stderr",
     "output_type": "stream",
     "text": [
      "2023-05-19 19:23:18,068 INFO Request is running\n",
      "2023-05-19 19:23:25,402 INFO Request is completed\n",
      "2023-05-19 19:23:25,785 INFO Welcome to the CDS\n",
      "2023-05-19 19:23:25,786 INFO Sending request to https://cds.climate.copernicus.eu/api/v2/resources/reanalysis-era5-pressure-levels\n",
      "2023-05-19 19:23:25,854 INFO Request is queued\n"
     ]
    },
    {
     "name": "stdout",
     "output_type": "stream",
     "text": [
      "51\n"
     ]
    },
    {
     "name": "stderr",
     "output_type": "stream",
     "text": [
      "2023-05-19 19:23:26,925 INFO Request is running\n",
      "2023-05-19 19:23:34,247 INFO Request is completed\n",
      "2023-05-19 19:23:34,609 INFO Welcome to the CDS\n",
      "2023-05-19 19:23:34,609 INFO Sending request to https://cds.climate.copernicus.eu/api/v2/resources/reanalysis-era5-pressure-levels\n",
      "2023-05-19 19:23:34,735 INFO Request is queued\n"
     ]
    },
    {
     "name": "stdout",
     "output_type": "stream",
     "text": [
      "52\n"
     ]
    },
    {
     "name": "stderr",
     "output_type": "stream",
     "text": [
      "2023-05-19 19:23:35,808 INFO Request is running\n",
      "2023-05-19 19:23:43,129 INFO Request is completed\n",
      "2023-05-19 19:23:43,665 INFO Welcome to the CDS\n",
      "2023-05-19 19:23:43,667 INFO Sending request to https://cds.climate.copernicus.eu/api/v2/resources/reanalysis-era5-pressure-levels\n",
      "2023-05-19 19:23:43,774 INFO Request is queued\n"
     ]
    },
    {
     "name": "stdout",
     "output_type": "stream",
     "text": [
      "53\n"
     ]
    },
    {
     "name": "stderr",
     "output_type": "stream",
     "text": [
      "2023-05-19 19:23:44,850 INFO Request is running\n",
      "2023-05-19 19:23:52,169 INFO Request is completed\n",
      "2023-05-19 19:23:52,666 INFO Welcome to the CDS\n",
      "2023-05-19 19:23:52,667 INFO Sending request to https://cds.climate.copernicus.eu/api/v2/resources/reanalysis-era5-pressure-levels\n",
      "2023-05-19 19:23:52,754 INFO Request is queued\n"
     ]
    },
    {
     "name": "stdout",
     "output_type": "stream",
     "text": [
      "54\n"
     ]
    },
    {
     "name": "stderr",
     "output_type": "stream",
     "text": [
      "2023-05-19 19:23:53,821 INFO Request is running\n",
      "2023-05-19 19:24:06,257 INFO Request is completed\n",
      "2023-05-19 19:24:06,591 INFO Welcome to the CDS\n",
      "2023-05-19 19:24:06,592 INFO Sending request to https://cds.climate.copernicus.eu/api/v2/resources/reanalysis-era5-pressure-levels\n",
      "2023-05-19 19:24:06,722 INFO Request is queued\n"
     ]
    },
    {
     "name": "stdout",
     "output_type": "stream",
     "text": [
      "55\n"
     ]
    },
    {
     "name": "stderr",
     "output_type": "stream",
     "text": [
      "2023-05-19 19:24:07,786 INFO Request is running\n",
      "2023-05-19 19:24:15,111 INFO Request is completed\n",
      "2023-05-19 19:24:15,428 INFO Welcome to the CDS\n",
      "2023-05-19 19:24:15,429 INFO Sending request to https://cds.climate.copernicus.eu/api/v2/resources/reanalysis-era5-pressure-levels\n",
      "2023-05-19 19:24:15,506 INFO Request is queued\n"
     ]
    },
    {
     "name": "stdout",
     "output_type": "stream",
     "text": [
      "56\n"
     ]
    },
    {
     "name": "stderr",
     "output_type": "stream",
     "text": [
      "2023-05-19 19:24:16,579 INFO Request is running\n",
      "2023-05-19 19:24:23,894 INFO Request is completed\n",
      "2023-05-19 19:24:24,200 INFO Welcome to the CDS\n",
      "2023-05-19 19:24:24,201 INFO Sending request to https://cds.climate.copernicus.eu/api/v2/resources/reanalysis-era5-pressure-levels\n",
      "2023-05-19 19:24:24,284 INFO Request is queued\n"
     ]
    },
    {
     "name": "stdout",
     "output_type": "stream",
     "text": [
      "57\n"
     ]
    },
    {
     "name": "stderr",
     "output_type": "stream",
     "text": [
      "2023-05-19 19:24:25,357 INFO Request is running\n",
      "2023-05-19 19:24:37,814 INFO Request is completed\n",
      "2023-05-19 19:24:38,141 INFO Welcome to the CDS\n",
      "2023-05-19 19:24:38,142 INFO Sending request to https://cds.climate.copernicus.eu/api/v2/resources/reanalysis-era5-pressure-levels\n"
     ]
    },
    {
     "name": "stdout",
     "output_type": "stream",
     "text": [
      "58\n"
     ]
    },
    {
     "name": "stderr",
     "output_type": "stream",
     "text": [
      "2023-05-19 19:24:39,703 INFO Request is queued\n",
      "2023-05-19 19:24:42,332 INFO Request is running\n",
      "2023-05-19 19:24:53,209 INFO Request is completed\n",
      "2023-05-19 19:24:53,533 INFO Welcome to the CDS\n",
      "2023-05-19 19:24:53,535 INFO Sending request to https://cds.climate.copernicus.eu/api/v2/resources/reanalysis-era5-pressure-levels\n",
      "2023-05-19 19:24:53,668 INFO Request is queued\n"
     ]
    },
    {
     "name": "stdout",
     "output_type": "stream",
     "text": [
      "59\n"
     ]
    },
    {
     "name": "stderr",
     "output_type": "stream",
     "text": [
      "2023-05-19 19:24:54,738 INFO Request is running\n",
      "2023-05-19 19:25:02,051 INFO Request is completed\n",
      "2023-05-19 19:25:02,357 INFO Welcome to the CDS\n",
      "2023-05-19 19:25:02,357 INFO Sending request to https://cds.climate.copernicus.eu/api/v2/resources/reanalysis-era5-pressure-levels\n",
      "2023-05-19 19:25:02,476 INFO Request is queued\n"
     ]
    },
    {
     "name": "stdout",
     "output_type": "stream",
     "text": [
      "60\n"
     ]
    },
    {
     "name": "stderr",
     "output_type": "stream",
     "text": [
      "2023-05-19 19:25:03,543 INFO Request is running\n",
      "2023-05-19 19:25:10,860 INFO Request is completed\n",
      "2023-05-19 19:25:11,316 INFO Welcome to the CDS\n",
      "2023-05-19 19:25:11,317 INFO Sending request to https://cds.climate.copernicus.eu/api/v2/resources/reanalysis-era5-pressure-levels\n",
      "2023-05-19 19:25:11,373 INFO Request is queued\n"
     ]
    },
    {
     "name": "stdout",
     "output_type": "stream",
     "text": [
      "61\n"
     ]
    },
    {
     "name": "stderr",
     "output_type": "stream",
     "text": [
      "2023-05-19 19:25:12,426 INFO Request is running\n",
      "2023-05-19 19:25:19,742 INFO Request is completed\n",
      "2023-05-19 19:25:20,070 INFO Welcome to the CDS\n",
      "2023-05-19 19:25:20,071 INFO Sending request to https://cds.climate.copernicus.eu/api/v2/resources/reanalysis-era5-pressure-levels\n",
      "2023-05-19 19:25:20,155 INFO Request is queued\n"
     ]
    },
    {
     "name": "stdout",
     "output_type": "stream",
     "text": [
      "62\n"
     ]
    },
    {
     "name": "stderr",
     "output_type": "stream",
     "text": [
      "2023-05-19 19:25:21,220 INFO Request is running\n",
      "2023-05-19 19:25:28,539 INFO Request is completed\n",
      "2023-05-19 19:25:28,871 INFO Welcome to the CDS\n",
      "2023-05-19 19:25:28,872 INFO Sending request to https://cds.climate.copernicus.eu/api/v2/resources/reanalysis-era5-pressure-levels\n",
      "2023-05-19 19:25:28,972 INFO Request is queued\n"
     ]
    },
    {
     "name": "stdout",
     "output_type": "stream",
     "text": [
      "63\n"
     ]
    },
    {
     "name": "stderr",
     "output_type": "stream",
     "text": [
      "2023-05-19 19:25:30,038 INFO Request is running\n",
      "2023-05-19 19:25:37,385 INFO Request is completed\n",
      "2023-05-19 19:25:37,857 INFO Welcome to the CDS\n",
      "2023-05-19 19:25:37,859 INFO Sending request to https://cds.climate.copernicus.eu/api/v2/resources/reanalysis-era5-pressure-levels\n",
      "2023-05-19 19:25:37,917 INFO Request is queued\n"
     ]
    },
    {
     "name": "stdout",
     "output_type": "stream",
     "text": [
      "64\n"
     ]
    },
    {
     "name": "stderr",
     "output_type": "stream",
     "text": [
      "2023-05-19 19:25:38,982 INFO Request is running\n",
      "2023-05-19 19:25:46,302 INFO Request is completed\n",
      "2023-05-19 19:25:46,848 INFO Welcome to the CDS\n",
      "2023-05-19 19:25:46,849 INFO Sending request to https://cds.climate.copernicus.eu/api/v2/resources/reanalysis-era5-pressure-levels\n",
      "2023-05-19 19:25:46,908 INFO Request is queued\n"
     ]
    },
    {
     "name": "stdout",
     "output_type": "stream",
     "text": [
      "65\n"
     ]
    },
    {
     "name": "stderr",
     "output_type": "stream",
     "text": [
      "2023-05-19 19:25:47,985 INFO Request is running\n",
      "2023-05-19 19:25:55,308 INFO Request is completed\n",
      "2023-05-19 19:25:55,659 INFO Welcome to the CDS\n",
      "2023-05-19 19:25:55,660 INFO Sending request to https://cds.climate.copernicus.eu/api/v2/resources/reanalysis-era5-pressure-levels\n",
      "2023-05-19 19:25:55,745 INFO Request is queued\n"
     ]
    },
    {
     "name": "stdout",
     "output_type": "stream",
     "text": [
      "66\n"
     ]
    },
    {
     "name": "stderr",
     "output_type": "stream",
     "text": [
      "2023-05-19 19:25:56,805 INFO Request is running\n",
      "2023-05-19 19:26:04,112 INFO Request is completed\n",
      "2023-05-19 19:26:04,541 INFO Welcome to the CDS\n",
      "2023-05-19 19:26:04,542 INFO Sending request to https://cds.climate.copernicus.eu/api/v2/resources/reanalysis-era5-pressure-levels\n",
      "2023-05-19 19:26:04,628 INFO Request is queued\n"
     ]
    },
    {
     "name": "stdout",
     "output_type": "stream",
     "text": [
      "67\n"
     ]
    },
    {
     "name": "stderr",
     "output_type": "stream",
     "text": [
      "2023-05-19 19:26:05,693 INFO Request is running\n",
      "2023-05-19 19:26:13,016 INFO Request is completed\n",
      "2023-05-19 19:26:13,459 INFO Welcome to the CDS\n",
      "2023-05-19 19:26:13,460 INFO Sending request to https://cds.climate.copernicus.eu/api/v2/resources/reanalysis-era5-pressure-levels\n",
      "2023-05-19 19:26:13,534 INFO Request is queued\n"
     ]
    },
    {
     "name": "stdout",
     "output_type": "stream",
     "text": [
      "68\n"
     ]
    },
    {
     "name": "stderr",
     "output_type": "stream",
     "text": [
      "2023-05-19 19:26:14,604 INFO Request is running\n",
      "2023-05-19 19:26:21,942 INFO Request is completed\n",
      "2023-05-19 19:26:22,415 INFO Welcome to the CDS\n",
      "2023-05-19 19:26:22,416 INFO Sending request to https://cds.climate.copernicus.eu/api/v2/resources/reanalysis-era5-pressure-levels\n",
      "2023-05-19 19:26:22,507 INFO Request is queued\n"
     ]
    },
    {
     "name": "stdout",
     "output_type": "stream",
     "text": [
      "69\n"
     ]
    },
    {
     "name": "stderr",
     "output_type": "stream",
     "text": [
      "2023-05-19 19:26:23,567 INFO Request is running\n",
      "2023-05-19 19:26:30,905 INFO Request is completed\n",
      "2023-05-19 19:26:31,216 INFO Welcome to the CDS\n",
      "2023-05-19 19:26:31,217 INFO Sending request to https://cds.climate.copernicus.eu/api/v2/resources/reanalysis-era5-pressure-levels\n",
      "2023-05-19 19:26:31,287 INFO Request is queued\n"
     ]
    },
    {
     "name": "stdout",
     "output_type": "stream",
     "text": [
      "70\n"
     ]
    },
    {
     "name": "stderr",
     "output_type": "stream",
     "text": [
      "2023-05-19 19:26:32,380 INFO Request is running\n",
      "2023-05-19 19:26:39,703 INFO Request is completed\n",
      "2023-05-19 19:26:40,050 INFO Welcome to the CDS\n",
      "2023-05-19 19:26:40,051 INFO Sending request to https://cds.climate.copernicus.eu/api/v2/resources/reanalysis-era5-pressure-levels\n",
      "2023-05-19 19:26:40,137 INFO Request is queued\n"
     ]
    },
    {
     "name": "stdout",
     "output_type": "stream",
     "text": [
      "71\n"
     ]
    },
    {
     "name": "stderr",
     "output_type": "stream",
     "text": [
      "2023-05-19 19:26:41,211 INFO Request is running\n",
      "2023-05-19 19:26:48,552 INFO Request is completed\n",
      "2023-05-19 19:26:48,904 INFO Welcome to the CDS\n",
      "2023-05-19 19:26:48,905 INFO Sending request to https://cds.climate.copernicus.eu/api/v2/resources/reanalysis-era5-pressure-levels\n",
      "2023-05-19 19:26:49,018 INFO Request is queued\n"
     ]
    },
    {
     "name": "stdout",
     "output_type": "stream",
     "text": [
      "72\n"
     ]
    },
    {
     "name": "stderr",
     "output_type": "stream",
     "text": [
      "2023-05-19 19:26:50,226 INFO Request is running\n",
      "2023-05-19 19:26:57,531 INFO Request is completed\n",
      "2023-05-19 19:26:57,946 INFO Welcome to the CDS\n",
      "2023-05-19 19:26:57,947 INFO Sending request to https://cds.climate.copernicus.eu/api/v2/resources/reanalysis-era5-pressure-levels\n",
      "2023-05-19 19:26:58,010 INFO Request is queued\n"
     ]
    },
    {
     "name": "stdout",
     "output_type": "stream",
     "text": [
      "73\n"
     ]
    },
    {
     "name": "stderr",
     "output_type": "stream",
     "text": [
      "2023-05-19 19:26:59,069 INFO Request is running\n",
      "2023-05-19 19:27:06,402 INFO Request is completed\n",
      "2023-05-19 19:27:06,710 INFO Welcome to the CDS\n",
      "2023-05-19 19:27:06,711 INFO Sending request to https://cds.climate.copernicus.eu/api/v2/resources/reanalysis-era5-pressure-levels\n",
      "2023-05-19 19:27:06,790 INFO Request is queued\n"
     ]
    },
    {
     "name": "stdout",
     "output_type": "stream",
     "text": [
      "74\n"
     ]
    },
    {
     "name": "stderr",
     "output_type": "stream",
     "text": [
      "2023-05-19 19:27:07,865 INFO Request is running\n",
      "2023-05-19 19:27:15,193 INFO Request is completed\n",
      "2023-05-19 19:27:15,644 INFO Welcome to the CDS\n",
      "2023-05-19 19:27:15,645 INFO Sending request to https://cds.climate.copernicus.eu/api/v2/resources/reanalysis-era5-pressure-levels\n",
      "2023-05-19 19:27:15,730 INFO Request is queued\n"
     ]
    },
    {
     "name": "stdout",
     "output_type": "stream",
     "text": [
      "75\n"
     ]
    },
    {
     "name": "stderr",
     "output_type": "stream",
     "text": [
      "2023-05-19 19:27:16,795 INFO Request is running\n",
      "2023-05-19 19:27:24,110 INFO Request is completed\n",
      "2023-05-19 19:27:24,578 INFO Welcome to the CDS\n",
      "2023-05-19 19:27:24,578 INFO Sending request to https://cds.climate.copernicus.eu/api/v2/resources/reanalysis-era5-pressure-levels\n",
      "2023-05-19 19:27:24,672 INFO Request is queued\n"
     ]
    },
    {
     "name": "stdout",
     "output_type": "stream",
     "text": [
      "76\n"
     ]
    },
    {
     "name": "stderr",
     "output_type": "stream",
     "text": [
      "2023-05-19 19:27:25,740 INFO Request is running\n",
      "2023-05-19 19:27:33,135 INFO Request is completed\n",
      "2023-05-19 19:27:33,444 INFO Welcome to the CDS\n",
      "2023-05-19 19:27:33,445 INFO Sending request to https://cds.climate.copernicus.eu/api/v2/resources/reanalysis-era5-pressure-levels\n",
      "2023-05-19 19:27:33,512 INFO Request is queued\n"
     ]
    },
    {
     "name": "stdout",
     "output_type": "stream",
     "text": [
      "77\n"
     ]
    },
    {
     "name": "stderr",
     "output_type": "stream",
     "text": [
      "2023-05-19 19:27:34,586 INFO Request is running\n",
      "2023-05-19 19:27:41,909 INFO Request is completed\n",
      "2023-05-19 19:27:42,343 INFO Welcome to the CDS\n",
      "2023-05-19 19:27:42,343 INFO Sending request to https://cds.climate.copernicus.eu/api/v2/resources/reanalysis-era5-pressure-levels\n",
      "2023-05-19 19:27:42,444 INFO Request is queued\n"
     ]
    },
    {
     "name": "stdout",
     "output_type": "stream",
     "text": [
      "78\n"
     ]
    },
    {
     "name": "stderr",
     "output_type": "stream",
     "text": [
      "2023-05-19 19:27:43,501 INFO Request is running\n",
      "2023-05-19 19:27:50,824 INFO Request is completed\n",
      "2023-05-19 19:27:51,171 INFO Welcome to the CDS\n",
      "2023-05-19 19:27:51,172 INFO Sending request to https://cds.climate.copernicus.eu/api/v2/resources/reanalysis-era5-pressure-levels\n",
      "2023-05-19 19:27:51,270 INFO Request is queued\n"
     ]
    },
    {
     "name": "stdout",
     "output_type": "stream",
     "text": [
      "79\n"
     ]
    },
    {
     "name": "stderr",
     "output_type": "stream",
     "text": [
      "2023-05-19 19:27:52,327 INFO Request is running\n",
      "2023-05-19 19:27:59,637 INFO Request is completed\n",
      "2023-05-19 19:27:59,929 INFO Welcome to the CDS\n",
      "2023-05-19 19:27:59,930 INFO Sending request to https://cds.climate.copernicus.eu/api/v2/resources/reanalysis-era5-pressure-levels\n",
      "2023-05-19 19:28:00,005 INFO Request is queued\n"
     ]
    },
    {
     "name": "stdout",
     "output_type": "stream",
     "text": [
      "80\n"
     ]
    },
    {
     "name": "stderr",
     "output_type": "stream",
     "text": [
      "2023-05-19 19:28:01,071 INFO Request is running\n",
      "2023-05-19 19:28:08,394 INFO Request is completed\n",
      "2023-05-19 19:28:08,869 INFO Welcome to the CDS\n",
      "2023-05-19 19:28:08,869 INFO Sending request to https://cds.climate.copernicus.eu/api/v2/resources/reanalysis-era5-pressure-levels\n",
      "2023-05-19 19:28:08,923 INFO Request is queued\n"
     ]
    },
    {
     "name": "stdout",
     "output_type": "stream",
     "text": [
      "81\n"
     ]
    },
    {
     "name": "stderr",
     "output_type": "stream",
     "text": [
      "2023-05-19 19:28:09,979 INFO Request is running\n",
      "2023-05-19 19:28:17,306 INFO Request is completed\n",
      "2023-05-19 19:28:17,772 INFO Welcome to the CDS\n",
      "2023-05-19 19:28:17,773 INFO Sending request to https://cds.climate.copernicus.eu/api/v2/resources/reanalysis-era5-pressure-levels\n",
      "2023-05-19 19:28:17,876 INFO Request is queued\n"
     ]
    },
    {
     "name": "stdout",
     "output_type": "stream",
     "text": [
      "82\n"
     ]
    },
    {
     "name": "stderr",
     "output_type": "stream",
     "text": [
      "2023-05-19 19:28:18,942 INFO Request is running\n",
      "2023-05-19 19:28:26,280 INFO Request is completed\n",
      "2023-05-19 19:28:26,603 INFO Welcome to the CDS\n",
      "2023-05-19 19:28:26,605 INFO Sending request to https://cds.climate.copernicus.eu/api/v2/resources/reanalysis-era5-pressure-levels\n",
      "2023-05-19 19:28:26,719 INFO Request is queued\n"
     ]
    },
    {
     "name": "stdout",
     "output_type": "stream",
     "text": [
      "83\n"
     ]
    },
    {
     "name": "stderr",
     "output_type": "stream",
     "text": [
      "2023-05-19 19:28:27,783 INFO Request is running\n",
      "2023-05-19 19:28:35,220 INFO Request is completed\n",
      "2023-05-19 19:28:35,544 INFO Welcome to the CDS\n",
      "2023-05-19 19:28:35,545 INFO Sending request to https://cds.climate.copernicus.eu/api/v2/resources/reanalysis-era5-pressure-levels\n",
      "2023-05-19 19:28:35,640 INFO Request is queued\n"
     ]
    },
    {
     "name": "stdout",
     "output_type": "stream",
     "text": [
      "84\n"
     ]
    },
    {
     "name": "stderr",
     "output_type": "stream",
     "text": [
      "2023-05-19 19:28:36,697 INFO Request is running\n",
      "2023-05-19 19:28:44,007 INFO Request is completed\n",
      "2023-05-19 19:28:44,460 INFO Welcome to the CDS\n",
      "2023-05-19 19:28:44,460 INFO Sending request to https://cds.climate.copernicus.eu/api/v2/resources/reanalysis-era5-pressure-levels\n",
      "2023-05-19 19:28:44,533 INFO Request is queued\n"
     ]
    },
    {
     "name": "stdout",
     "output_type": "stream",
     "text": [
      "85\n"
     ]
    },
    {
     "name": "stderr",
     "output_type": "stream",
     "text": [
      "2023-05-19 19:28:45,606 INFO Request is running\n",
      "2023-05-19 19:28:52,901 INFO Request is completed\n",
      "2023-05-19 19:28:53,197 INFO Welcome to the CDS\n",
      "2023-05-19 19:28:53,198 INFO Sending request to https://cds.climate.copernicus.eu/api/v2/resources/reanalysis-era5-pressure-levels\n",
      "2023-05-19 19:28:53,281 INFO Request is queued\n"
     ]
    },
    {
     "name": "stdout",
     "output_type": "stream",
     "text": [
      "86\n"
     ]
    },
    {
     "name": "stderr",
     "output_type": "stream",
     "text": [
      "2023-05-19 19:28:54,352 INFO Request is running\n",
      "2023-05-19 19:29:01,820 INFO Request is completed\n",
      "2023-05-19 19:29:02,172 INFO Welcome to the CDS\n",
      "2023-05-19 19:29:02,173 INFO Sending request to https://cds.climate.copernicus.eu/api/v2/resources/reanalysis-era5-pressure-levels\n",
      "2023-05-19 19:29:02,250 INFO Request is queued\n"
     ]
    },
    {
     "name": "stdout",
     "output_type": "stream",
     "text": [
      "87\n"
     ]
    },
    {
     "name": "stderr",
     "output_type": "stream",
     "text": [
      "2023-05-19 19:29:03,313 INFO Request is running\n",
      "2023-05-19 19:29:10,647 INFO Request is completed\n",
      "2023-05-19 19:29:10,976 INFO Welcome to the CDS\n",
      "2023-05-19 19:29:10,977 INFO Sending request to https://cds.climate.copernicus.eu/api/v2/resources/reanalysis-era5-pressure-levels\n",
      "2023-05-19 19:29:11,045 INFO Request is queued\n"
     ]
    },
    {
     "name": "stdout",
     "output_type": "stream",
     "text": [
      "88\n"
     ]
    },
    {
     "name": "stderr",
     "output_type": "stream",
     "text": [
      "2023-05-19 19:29:12,113 INFO Request is running\n",
      "2023-05-19 19:29:19,430 INFO Request is completed\n",
      "2023-05-19 19:29:19,739 INFO Welcome to the CDS\n",
      "2023-05-19 19:29:19,740 INFO Sending request to https://cds.climate.copernicus.eu/api/v2/resources/reanalysis-era5-pressure-levels\n",
      "2023-05-19 19:29:19,821 INFO Request is queued\n"
     ]
    },
    {
     "name": "stdout",
     "output_type": "stream",
     "text": [
      "89\n"
     ]
    },
    {
     "name": "stderr",
     "output_type": "stream",
     "text": [
      "2023-05-19 19:29:20,888 INFO Request is running\n",
      "2023-05-19 19:29:28,203 INFO Request is completed\n",
      "2023-05-19 19:29:28,661 INFO Welcome to the CDS\n",
      "2023-05-19 19:29:28,661 INFO Sending request to https://cds.climate.copernicus.eu/api/v2/resources/reanalysis-era5-pressure-levels\n",
      "2023-05-19 19:29:28,733 INFO Request is queued\n"
     ]
    },
    {
     "name": "stdout",
     "output_type": "stream",
     "text": [
      "90\n"
     ]
    },
    {
     "name": "stderr",
     "output_type": "stream",
     "text": [
      "2023-05-19 19:29:29,832 INFO Request is running\n",
      "2023-05-19 19:29:37,147 INFO Request is completed\n",
      "2023-05-19 19:29:37,587 INFO Welcome to the CDS\n",
      "2023-05-19 19:29:37,588 INFO Sending request to https://cds.climate.copernicus.eu/api/v2/resources/reanalysis-era5-pressure-levels\n",
      "2023-05-19 19:29:37,664 INFO Request is queued\n"
     ]
    },
    {
     "name": "stdout",
     "output_type": "stream",
     "text": [
      "91\n"
     ]
    },
    {
     "name": "stderr",
     "output_type": "stream",
     "text": [
      "2023-05-19 19:29:38,728 INFO Request is running\n",
      "2023-05-19 19:29:46,046 INFO Request is completed\n",
      "2023-05-19 19:29:46,573 INFO Welcome to the CDS\n",
      "2023-05-19 19:29:46,574 INFO Sending request to https://cds.climate.copernicus.eu/api/v2/resources/reanalysis-era5-pressure-levels\n",
      "2023-05-19 19:29:46,641 INFO Request is queued\n"
     ]
    },
    {
     "name": "stdout",
     "output_type": "stream",
     "text": [
      "92\n"
     ]
    },
    {
     "name": "stderr",
     "output_type": "stream",
     "text": [
      "2023-05-19 19:29:47,720 INFO Request is running\n",
      "2023-05-19 19:29:55,045 INFO Request is completed\n",
      "2023-05-19 19:29:55,378 INFO Welcome to the CDS\n",
      "2023-05-19 19:29:55,379 INFO Sending request to https://cds.climate.copernicus.eu/api/v2/resources/reanalysis-era5-pressure-levels\n",
      "2023-05-19 19:29:55,449 INFO Request is queued\n"
     ]
    },
    {
     "name": "stdout",
     "output_type": "stream",
     "text": [
      "93\n"
     ]
    },
    {
     "name": "stderr",
     "output_type": "stream",
     "text": [
      "2023-05-19 19:29:56,542 INFO Request is running\n",
      "2023-05-19 19:30:03,902 INFO Request is completed\n",
      "2023-05-19 19:30:04,220 INFO Welcome to the CDS\n",
      "2023-05-19 19:30:04,221 INFO Sending request to https://cds.climate.copernicus.eu/api/v2/resources/reanalysis-era5-pressure-levels\n",
      "2023-05-19 19:30:04,299 INFO Request is queued\n"
     ]
    },
    {
     "name": "stdout",
     "output_type": "stream",
     "text": [
      "94\n"
     ]
    },
    {
     "name": "stderr",
     "output_type": "stream",
     "text": [
      "2023-05-19 19:30:05,358 INFO Request is running\n",
      "2023-05-19 19:30:12,668 INFO Request is completed\n",
      "2023-05-19 19:30:12,996 INFO Welcome to the CDS\n",
      "2023-05-19 19:30:12,997 INFO Sending request to https://cds.climate.copernicus.eu/api/v2/resources/reanalysis-era5-pressure-levels\n",
      "2023-05-19 19:30:13,098 INFO Request is queued\n"
     ]
    },
    {
     "name": "stdout",
     "output_type": "stream",
     "text": [
      "95\n"
     ]
    },
    {
     "name": "stderr",
     "output_type": "stream",
     "text": [
      "2023-05-19 19:30:14,158 INFO Request is running\n",
      "2023-05-19 19:30:21,477 INFO Request is completed\n",
      "2023-05-19 19:30:21,828 INFO Welcome to the CDS\n",
      "2023-05-19 19:30:21,829 INFO Sending request to https://cds.climate.copernicus.eu/api/v2/resources/reanalysis-era5-pressure-levels\n",
      "2023-05-19 19:30:21,916 INFO Request is queued\n"
     ]
    },
    {
     "name": "stdout",
     "output_type": "stream",
     "text": [
      "96\n"
     ]
    },
    {
     "name": "stderr",
     "output_type": "stream",
     "text": [
      "2023-05-19 19:30:22,979 INFO Request is running\n",
      "2023-05-19 19:30:30,317 INFO Request is completed\n",
      "2023-05-19 19:30:30,774 INFO Welcome to the CDS\n",
      "2023-05-19 19:30:30,775 INFO Sending request to https://cds.climate.copernicus.eu/api/v2/resources/reanalysis-era5-pressure-levels\n",
      "2023-05-19 19:30:30,832 INFO Request is queued\n"
     ]
    },
    {
     "name": "stdout",
     "output_type": "stream",
     "text": [
      "97\n"
     ]
    },
    {
     "name": "stderr",
     "output_type": "stream",
     "text": [
      "2023-05-19 19:30:31,896 INFO Request is running\n",
      "2023-05-19 19:30:44,334 INFO Request is completed\n",
      "2023-05-19 19:30:44,673 INFO Welcome to the CDS\n",
      "2023-05-19 19:30:44,674 INFO Sending request to https://cds.climate.copernicus.eu/api/v2/resources/reanalysis-era5-pressure-levels\n",
      "2023-05-19 19:30:44,746 INFO Request is queued\n"
     ]
    },
    {
     "name": "stdout",
     "output_type": "stream",
     "text": [
      "98\n"
     ]
    },
    {
     "name": "stderr",
     "output_type": "stream",
     "text": [
      "2023-05-19 19:30:45,809 INFO Request is running\n",
      "2023-05-19 19:32:00,251 INFO Request is completed\n",
      "2023-05-19 19:32:00,566 INFO Welcome to the CDS\n",
      "2023-05-19 19:32:00,567 INFO Sending request to https://cds.climate.copernicus.eu/api/v2/resources/reanalysis-era5-pressure-levels\n",
      "2023-05-19 19:32:00,623 INFO Request is queued\n"
     ]
    },
    {
     "name": "stdout",
     "output_type": "stream",
     "text": [
      "99\n"
     ]
    },
    {
     "name": "stderr",
     "output_type": "stream",
     "text": [
      "2023-05-19 19:32:01,693 INFO Request is running\n",
      "2023-05-19 19:32:09,017 INFO Request is completed\n"
     ]
    },
    {
     "name": "stdout",
     "output_type": "stream",
     "text": [
      "100\n"
     ]
    },
    {
     "name": "stderr",
     "output_type": "stream",
     "text": [
      "2023-05-19 19:32:09,504 INFO Welcome to the CDS\n",
      "2023-05-19 19:32:09,507 INFO Sending request to https://cds.climate.copernicus.eu/api/v2/resources/reanalysis-era5-pressure-levels\n",
      "2023-05-19 19:32:09,580 INFO Request is queued\n",
      "2023-05-19 19:32:10,651 INFO Request is running\n",
      "2023-05-19 19:32:17,977 INFO Request is completed\n",
      "2023-05-19 19:32:18,298 INFO Welcome to the CDS\n",
      "2023-05-19 19:32:18,299 INFO Sending request to https://cds.climate.copernicus.eu/api/v2/resources/reanalysis-era5-pressure-levels\n",
      "2023-05-19 19:32:18,372 INFO Request is queued\n"
     ]
    },
    {
     "name": "stdout",
     "output_type": "stream",
     "text": [
      "101\n"
     ]
    },
    {
     "name": "stderr",
     "output_type": "stream",
     "text": [
      "2023-05-19 19:32:19,427 INFO Request is running\n",
      "2023-05-19 19:32:26,764 INFO Request is completed\n",
      "2023-05-19 19:32:27,074 INFO Welcome to the CDS\n",
      "2023-05-19 19:32:27,074 INFO Sending request to https://cds.climate.copernicus.eu/api/v2/resources/reanalysis-era5-pressure-levels\n",
      "2023-05-19 19:32:27,165 INFO Request is queued\n"
     ]
    },
    {
     "name": "stdout",
     "output_type": "stream",
     "text": [
      "102\n"
     ]
    },
    {
     "name": "stderr",
     "output_type": "stream",
     "text": [
      "2023-05-19 19:32:28,239 INFO Request is running\n",
      "2023-05-19 19:32:35,568 INFO Request is completed\n",
      "2023-05-19 19:32:35,894 INFO Welcome to the CDS\n",
      "2023-05-19 19:32:35,895 INFO Sending request to https://cds.climate.copernicus.eu/api/v2/resources/reanalysis-era5-pressure-levels\n",
      "2023-05-19 19:32:35,974 INFO Request is queued\n"
     ]
    },
    {
     "name": "stdout",
     "output_type": "stream",
     "text": [
      "103\n"
     ]
    },
    {
     "name": "stderr",
     "output_type": "stream",
     "text": [
      "2023-05-19 19:32:37,041 INFO Request is running\n",
      "2023-05-19 19:32:44,349 INFO Request is completed\n",
      "2023-05-19 19:32:44,662 INFO Welcome to the CDS\n",
      "2023-05-19 19:32:44,662 INFO Sending request to https://cds.climate.copernicus.eu/api/v2/resources/reanalysis-era5-pressure-levels\n",
      "2023-05-19 19:32:44,717 INFO Request is queued\n"
     ]
    },
    {
     "name": "stdout",
     "output_type": "stream",
     "text": [
      "104\n"
     ]
    },
    {
     "name": "stderr",
     "output_type": "stream",
     "text": [
      "2023-05-19 19:32:45,785 INFO Request is running\n",
      "2023-05-19 19:32:53,149 INFO Request is completed\n",
      "2023-05-19 19:32:53,602 INFO Welcome to the CDS\n",
      "2023-05-19 19:32:53,602 INFO Sending request to https://cds.climate.copernicus.eu/api/v2/resources/reanalysis-era5-pressure-levels\n"
     ]
    },
    {
     "name": "stdout",
     "output_type": "stream",
     "text": [
      "105\n"
     ]
    },
    {
     "name": "stderr",
     "output_type": "stream",
     "text": [
      "2023-05-19 19:32:53,766 INFO Request is queued\n",
      "2023-05-19 19:32:54,824 INFO Request is running\n",
      "2023-05-19 19:33:02,136 INFO Request is completed\n",
      "2023-05-19 19:33:02,491 INFO Welcome to the CDS\n",
      "2023-05-19 19:33:02,492 INFO Sending request to https://cds.climate.copernicus.eu/api/v2/resources/reanalysis-era5-pressure-levels\n",
      "2023-05-19 19:33:02,550 INFO Request is queued\n"
     ]
    },
    {
     "name": "stdout",
     "output_type": "stream",
     "text": [
      "106\n"
     ]
    },
    {
     "name": "stderr",
     "output_type": "stream",
     "text": [
      "2023-05-19 19:33:03,630 INFO Request is running\n",
      "2023-05-19 19:33:10,960 INFO Request is completed\n",
      "2023-05-19 19:33:11,429 INFO Welcome to the CDS\n",
      "2023-05-19 19:33:11,430 INFO Sending request to https://cds.climate.copernicus.eu/api/v2/resources/reanalysis-era5-pressure-levels\n",
      "2023-05-19 19:33:11,491 INFO Request is queued\n"
     ]
    },
    {
     "name": "stdout",
     "output_type": "stream",
     "text": [
      "107\n"
     ]
    },
    {
     "name": "stderr",
     "output_type": "stream",
     "text": [
      "2023-05-19 19:33:12,557 INFO Request is running\n",
      "2023-05-19 19:33:19,866 INFO Request is completed\n",
      "2023-05-19 19:33:20,353 INFO Welcome to the CDS\n",
      "2023-05-19 19:33:20,354 INFO Sending request to https://cds.climate.copernicus.eu/api/v2/resources/reanalysis-era5-pressure-levels\n",
      "2023-05-19 19:33:20,448 INFO Request is queued\n"
     ]
    },
    {
     "name": "stdout",
     "output_type": "stream",
     "text": [
      "108\n"
     ]
    },
    {
     "name": "stderr",
     "output_type": "stream",
     "text": [
      "2023-05-19 19:33:21,507 INFO Request is running\n",
      "2023-05-19 19:33:28,846 INFO Request is completed\n",
      "2023-05-19 19:33:29,169 INFO Welcome to the CDS\n",
      "2023-05-19 19:33:29,170 INFO Sending request to https://cds.climate.copernicus.eu/api/v2/resources/reanalysis-era5-pressure-levels\n",
      "2023-05-19 19:33:29,226 INFO Request is queued\n"
     ]
    },
    {
     "name": "stdout",
     "output_type": "stream",
     "text": [
      "109\n"
     ]
    },
    {
     "name": "stderr",
     "output_type": "stream",
     "text": [
      "2023-05-19 19:33:30,316 INFO Request is running\n",
      "2023-05-19 19:33:37,646 INFO Request is completed\n",
      "2023-05-19 19:33:37,969 INFO Welcome to the CDS\n",
      "2023-05-19 19:33:37,969 INFO Sending request to https://cds.climate.copernicus.eu/api/v2/resources/reanalysis-era5-pressure-levels\n",
      "2023-05-19 19:33:38,074 INFO Request is queued\n"
     ]
    },
    {
     "name": "stdout",
     "output_type": "stream",
     "text": [
      "110\n"
     ]
    },
    {
     "name": "stderr",
     "output_type": "stream",
     "text": [
      "2023-05-19 19:33:39,128 INFO Request is running\n",
      "2023-05-19 19:33:46,475 INFO Request is completed\n",
      "2023-05-19 19:33:46,790 INFO Welcome to the CDS\n",
      "2023-05-19 19:33:46,791 INFO Sending request to https://cds.climate.copernicus.eu/api/v2/resources/reanalysis-era5-pressure-levels\n",
      "2023-05-19 19:33:46,849 INFO Request is queued\n"
     ]
    },
    {
     "name": "stdout",
     "output_type": "stream",
     "text": [
      "111\n"
     ]
    },
    {
     "name": "stderr",
     "output_type": "stream",
     "text": [
      "2023-05-19 19:33:47,918 INFO Request is running\n",
      "2023-05-19 19:33:55,263 INFO Request is completed\n",
      "2023-05-19 19:33:55,730 INFO Welcome to the CDS\n",
      "2023-05-19 19:33:55,731 INFO Sending request to https://cds.climate.copernicus.eu/api/v2/resources/reanalysis-era5-pressure-levels\n",
      "2023-05-19 19:33:55,846 INFO Request is queued\n"
     ]
    },
    {
     "name": "stdout",
     "output_type": "stream",
     "text": [
      "112\n"
     ]
    },
    {
     "name": "stderr",
     "output_type": "stream",
     "text": [
      "2023-05-19 19:33:56,910 INFO Request is running\n",
      "2023-05-19 19:34:04,237 INFO Request is completed\n",
      "2023-05-19 19:34:04,581 INFO Welcome to the CDS\n",
      "2023-05-19 19:34:04,582 INFO Sending request to https://cds.climate.copernicus.eu/api/v2/resources/reanalysis-era5-pressure-levels\n",
      "2023-05-19 19:34:04,650 INFO Request is queued\n"
     ]
    },
    {
     "name": "stdout",
     "output_type": "stream",
     "text": [
      "113\n"
     ]
    },
    {
     "name": "stderr",
     "output_type": "stream",
     "text": [
      "2023-05-19 19:34:05,719 INFO Request is running\n",
      "2023-05-19 19:34:13,038 INFO Request is completed\n",
      "2023-05-19 19:34:13,502 INFO Welcome to the CDS\n",
      "2023-05-19 19:34:13,503 INFO Sending request to https://cds.climate.copernicus.eu/api/v2/resources/reanalysis-era5-pressure-levels\n",
      "2023-05-19 19:34:13,572 INFO Request is queued\n"
     ]
    },
    {
     "name": "stdout",
     "output_type": "stream",
     "text": [
      "114\n"
     ]
    },
    {
     "name": "stderr",
     "output_type": "stream",
     "text": [
      "2023-05-19 19:34:14,789 INFO Request is running\n",
      "2023-05-19 19:34:22,117 INFO Request is completed\n",
      "2023-05-19 19:34:22,558 INFO Welcome to the CDS\n",
      "2023-05-19 19:34:22,558 INFO Sending request to https://cds.climate.copernicus.eu/api/v2/resources/reanalysis-era5-pressure-levels\n",
      "2023-05-19 19:34:22,611 INFO Request is queued\n"
     ]
    },
    {
     "name": "stdout",
     "output_type": "stream",
     "text": [
      "115\n"
     ]
    },
    {
     "name": "stderr",
     "output_type": "stream",
     "text": [
      "2023-05-19 19:34:23,664 INFO Request is running\n",
      "2023-05-19 19:34:31,008 INFO Request is completed\n",
      "2023-05-19 19:34:31,344 INFO Welcome to the CDS\n",
      "2023-05-19 19:34:31,345 INFO Sending request to https://cds.climate.copernicus.eu/api/v2/resources/reanalysis-era5-pressure-levels\n",
      "2023-05-19 19:34:31,449 INFO Request is queued\n"
     ]
    },
    {
     "name": "stdout",
     "output_type": "stream",
     "text": [
      "116\n"
     ]
    },
    {
     "name": "stderr",
     "output_type": "stream",
     "text": [
      "2023-05-19 19:34:32,506 INFO Request is running\n",
      "2023-05-19 19:34:39,827 INFO Request is completed\n",
      "2023-05-19 19:34:40,268 INFO Welcome to the CDS\n",
      "2023-05-19 19:34:40,269 INFO Sending request to https://cds.climate.copernicus.eu/api/v2/resources/reanalysis-era5-pressure-levels\n",
      "2023-05-19 19:34:40,352 INFO Request is queued\n"
     ]
    },
    {
     "name": "stdout",
     "output_type": "stream",
     "text": [
      "117\n"
     ]
    },
    {
     "name": "stderr",
     "output_type": "stream",
     "text": [
      "2023-05-19 19:34:41,417 INFO Request is running\n",
      "2023-05-19 19:34:48,725 INFO Request is completed\n",
      "2023-05-19 19:34:49,035 INFO Welcome to the CDS\n",
      "2023-05-19 19:34:49,036 INFO Sending request to https://cds.climate.copernicus.eu/api/v2/resources/reanalysis-era5-pressure-levels\n",
      "2023-05-19 19:34:49,123 INFO Request is queued\n"
     ]
    },
    {
     "name": "stdout",
     "output_type": "stream",
     "text": [
      "118\n"
     ]
    },
    {
     "name": "stderr",
     "output_type": "stream",
     "text": [
      "2023-05-19 19:34:50,182 INFO Request is running\n",
      "2023-05-19 19:34:57,508 INFO Request is completed\n",
      "2023-05-19 19:34:57,974 INFO Welcome to the CDS\n",
      "2023-05-19 19:34:57,975 INFO Sending request to https://cds.climate.copernicus.eu/api/v2/resources/reanalysis-era5-pressure-levels\n",
      "2023-05-19 19:34:58,086 INFO Request is queued\n"
     ]
    },
    {
     "name": "stdout",
     "output_type": "stream",
     "text": [
      "119\n"
     ]
    },
    {
     "name": "stderr",
     "output_type": "stream",
     "text": [
      "2023-05-19 19:34:59,137 INFO Request is running\n",
      "2023-05-19 19:35:06,440 INFO Request is completed\n",
      "2023-05-19 19:35:06,762 INFO Welcome to the CDS\n",
      "2023-05-19 19:35:06,762 INFO Sending request to https://cds.climate.copernicus.eu/api/v2/resources/reanalysis-era5-pressure-levels\n",
      "2023-05-19 19:35:06,827 INFO Request is queued\n"
     ]
    },
    {
     "name": "stdout",
     "output_type": "stream",
     "text": [
      "120\n"
     ]
    },
    {
     "name": "stderr",
     "output_type": "stream",
     "text": [
      "2023-05-19 19:35:07,878 INFO Request is running\n",
      "2023-05-19 19:35:15,190 INFO Request is completed\n",
      "2023-05-19 19:35:15,512 INFO Welcome to the CDS\n",
      "2023-05-19 19:35:15,513 INFO Sending request to https://cds.climate.copernicus.eu/api/v2/resources/reanalysis-era5-pressure-levels\n",
      "2023-05-19 19:35:15,614 INFO Request is queued\n"
     ]
    },
    {
     "name": "stdout",
     "output_type": "stream",
     "text": [
      "121\n"
     ]
    },
    {
     "name": "stderr",
     "output_type": "stream",
     "text": [
      "2023-05-19 19:35:16,681 INFO Request is running\n",
      "2023-05-19 19:35:23,994 INFO Request is completed\n",
      "2023-05-19 19:35:24,434 INFO Welcome to the CDS\n",
      "2023-05-19 19:35:24,435 INFO Sending request to https://cds.climate.copernicus.eu/api/v2/resources/reanalysis-era5-pressure-levels\n",
      "2023-05-19 19:35:24,557 INFO Request is queued\n"
     ]
    },
    {
     "name": "stdout",
     "output_type": "stream",
     "text": [
      "122\n"
     ]
    },
    {
     "name": "stderr",
     "output_type": "stream",
     "text": [
      "2023-05-19 19:35:25,631 INFO Request is running\n",
      "2023-05-19 19:35:32,955 INFO Request is completed\n",
      "2023-05-19 19:35:33,278 INFO Welcome to the CDS\n",
      "2023-05-19 19:35:33,279 INFO Sending request to https://cds.climate.copernicus.eu/api/v2/resources/reanalysis-era5-pressure-levels\n",
      "2023-05-19 19:35:33,334 INFO Request is queued\n"
     ]
    },
    {
     "name": "stdout",
     "output_type": "stream",
     "text": [
      "123\n"
     ]
    },
    {
     "name": "stderr",
     "output_type": "stream",
     "text": [
      "2023-05-19 19:35:34,397 INFO Request is running\n",
      "2023-05-19 19:35:41,711 INFO Request is completed\n",
      "2023-05-19 19:35:42,030 INFO Welcome to the CDS\n",
      "2023-05-19 19:35:42,030 INFO Sending request to https://cds.climate.copernicus.eu/api/v2/resources/reanalysis-era5-pressure-levels\n",
      "2023-05-19 19:35:42,115 INFO Request is queued\n"
     ]
    },
    {
     "name": "stdout",
     "output_type": "stream",
     "text": [
      "124\n"
     ]
    },
    {
     "name": "stderr",
     "output_type": "stream",
     "text": [
      "2023-05-19 19:35:43,177 INFO Request is running\n",
      "2023-05-19 19:35:50,491 INFO Request is completed\n",
      "2023-05-19 19:35:50,971 INFO Welcome to the CDS\n",
      "2023-05-19 19:35:50,972 INFO Sending request to https://cds.climate.copernicus.eu/api/v2/resources/reanalysis-era5-pressure-levels\n",
      "2023-05-19 19:35:51,051 INFO Request is queued\n"
     ]
    },
    {
     "name": "stdout",
     "output_type": "stream",
     "text": [
      "125\n"
     ]
    },
    {
     "name": "stderr",
     "output_type": "stream",
     "text": [
      "2023-05-19 19:35:52,126 INFO Request is running\n",
      "2023-05-19 19:35:59,439 INFO Request is completed\n",
      "2023-05-19 19:35:59,889 INFO Welcome to the CDS\n",
      "2023-05-19 19:35:59,890 INFO Sending request to https://cds.climate.copernicus.eu/api/v2/resources/reanalysis-era5-pressure-levels\n",
      "2023-05-19 19:35:59,957 INFO Request is queued\n"
     ]
    },
    {
     "name": "stdout",
     "output_type": "stream",
     "text": [
      "126\n"
     ]
    },
    {
     "name": "stderr",
     "output_type": "stream",
     "text": [
      "2023-05-19 19:36:01,015 INFO Request is running\n",
      "2023-05-19 19:36:08,323 INFO Request is completed\n",
      "2023-05-19 19:36:08,646 INFO Welcome to the CDS\n",
      "2023-05-19 19:36:08,646 INFO Sending request to https://cds.climate.copernicus.eu/api/v2/resources/reanalysis-era5-pressure-levels\n",
      "2023-05-19 19:36:08,701 INFO Request is queued\n"
     ]
    },
    {
     "name": "stdout",
     "output_type": "stream",
     "text": [
      "127\n"
     ]
    },
    {
     "name": "stderr",
     "output_type": "stream",
     "text": [
      "2023-05-19 19:36:09,765 INFO Request is running\n",
      "2023-05-19 19:36:17,055 INFO Request is completed\n",
      "2023-05-19 19:36:17,355 INFO Welcome to the CDS\n",
      "2023-05-19 19:36:17,356 INFO Sending request to https://cds.climate.copernicus.eu/api/v2/resources/reanalysis-era5-pressure-levels\n",
      "2023-05-19 19:36:17,447 INFO Request is queued\n"
     ]
    },
    {
     "name": "stdout",
     "output_type": "stream",
     "text": [
      "128\n"
     ]
    },
    {
     "name": "stderr",
     "output_type": "stream",
     "text": [
      "2023-05-19 19:36:18,505 INFO Request is running\n",
      "2023-05-19 19:36:26,044 INFO Request is completed\n",
      "2023-05-19 19:36:26,483 INFO Welcome to the CDS\n",
      "2023-05-19 19:36:26,483 INFO Sending request to https://cds.climate.copernicus.eu/api/v2/resources/reanalysis-era5-pressure-levels\n",
      "2023-05-19 19:36:26,561 INFO Request is queued\n"
     ]
    },
    {
     "name": "stdout",
     "output_type": "stream",
     "text": [
      "129\n"
     ]
    },
    {
     "name": "stderr",
     "output_type": "stream",
     "text": [
      "2023-05-19 19:36:27,619 INFO Request is running\n",
      "2023-05-19 19:36:34,941 INFO Request is completed\n",
      "2023-05-19 19:36:35,246 INFO Welcome to the CDS\n",
      "2023-05-19 19:36:35,246 INFO Sending request to https://cds.climate.copernicus.eu/api/v2/resources/reanalysis-era5-pressure-levels\n",
      "2023-05-19 19:36:35,317 INFO Request is queued\n"
     ]
    },
    {
     "name": "stdout",
     "output_type": "stream",
     "text": [
      "130\n"
     ]
    },
    {
     "name": "stderr",
     "output_type": "stream",
     "text": [
      "2023-05-19 19:36:36,388 INFO Request is running\n",
      "2023-05-19 19:36:43,706 INFO Request is completed\n",
      "2023-05-19 19:36:44,051 INFO Welcome to the CDS\n",
      "2023-05-19 19:36:44,052 INFO Sending request to https://cds.climate.copernicus.eu/api/v2/resources/reanalysis-era5-pressure-levels\n",
      "2023-05-19 19:36:44,133 INFO Request is queued\n"
     ]
    },
    {
     "name": "stdout",
     "output_type": "stream",
     "text": [
      "131\n"
     ]
    },
    {
     "name": "stderr",
     "output_type": "stream",
     "text": [
      "2023-05-19 19:36:45,190 INFO Request is running\n",
      "2023-05-19 19:36:52,491 INFO Request is completed\n",
      "2023-05-19 19:36:52,819 INFO Welcome to the CDS\n",
      "2023-05-19 19:36:52,821 INFO Sending request to https://cds.climate.copernicus.eu/api/v2/resources/reanalysis-era5-pressure-levels\n",
      "2023-05-19 19:36:52,905 INFO Request is queued\n"
     ]
    },
    {
     "name": "stdout",
     "output_type": "stream",
     "text": [
      "132\n"
     ]
    },
    {
     "name": "stderr",
     "output_type": "stream",
     "text": [
      "2023-05-19 19:36:53,972 INFO Request is running\n",
      "2023-05-19 19:37:01,277 INFO Request is completed\n",
      "2023-05-19 19:37:01,750 INFO Welcome to the CDS\n",
      "2023-05-19 19:37:01,755 INFO Sending request to https://cds.climate.copernicus.eu/api/v2/resources/reanalysis-era5-pressure-levels\n",
      "2023-05-19 19:37:01,825 INFO Request is queued\n"
     ]
    },
    {
     "name": "stdout",
     "output_type": "stream",
     "text": [
      "133\n"
     ]
    },
    {
     "name": "stderr",
     "output_type": "stream",
     "text": [
      "2023-05-19 19:37:02,889 INFO Request is running\n",
      "2023-05-19 19:37:10,225 INFO Request is completed\n",
      "2023-05-19 19:37:10,533 INFO Welcome to the CDS\n",
      "2023-05-19 19:37:10,535 INFO Sending request to https://cds.climate.copernicus.eu/api/v2/resources/reanalysis-era5-pressure-levels\n",
      "2023-05-19 19:37:10,592 INFO Request is queued\n"
     ]
    },
    {
     "name": "stdout",
     "output_type": "stream",
     "text": [
      "134\n"
     ]
    },
    {
     "name": "stderr",
     "output_type": "stream",
     "text": [
      "2023-05-19 19:37:11,646 INFO Request is running\n",
      "2023-05-19 19:37:18,988 INFO Request is completed\n",
      "2023-05-19 19:37:19,475 INFO Welcome to the CDS\n",
      "2023-05-19 19:37:19,477 INFO Sending request to https://cds.climate.copernicus.eu/api/v2/resources/reanalysis-era5-pressure-levels\n",
      "2023-05-19 19:37:19,561 INFO Request is queued\n"
     ]
    },
    {
     "name": "stdout",
     "output_type": "stream",
     "text": [
      "135\n"
     ]
    },
    {
     "name": "stderr",
     "output_type": "stream",
     "text": [
      "2023-05-19 19:37:20,627 INFO Request is running\n",
      "2023-05-19 19:37:27,951 INFO Request is completed\n",
      "2023-05-19 19:37:28,287 INFO Welcome to the CDS\n",
      "2023-05-19 19:37:28,287 INFO Sending request to https://cds.climate.copernicus.eu/api/v2/resources/reanalysis-era5-pressure-levels\n",
      "2023-05-19 19:37:28,342 INFO Request is queued\n"
     ]
    },
    {
     "name": "stdout",
     "output_type": "stream",
     "text": [
      "136\n"
     ]
    },
    {
     "name": "stderr",
     "output_type": "stream",
     "text": [
      "2023-05-19 19:37:29,405 INFO Request is running\n",
      "2023-05-19 19:37:36,729 INFO Request is completed\n",
      "2023-05-19 19:37:37,054 INFO Welcome to the CDS\n",
      "2023-05-19 19:37:37,055 INFO Sending request to https://cds.climate.copernicus.eu/api/v2/resources/reanalysis-era5-pressure-levels\n",
      "2023-05-19 19:37:37,130 INFO Request is queued\n"
     ]
    },
    {
     "name": "stdout",
     "output_type": "stream",
     "text": [
      "137\n"
     ]
    },
    {
     "name": "stderr",
     "output_type": "stream",
     "text": [
      "2023-05-19 19:37:38,197 INFO Request is running\n",
      "2023-05-19 19:37:45,523 INFO Request is completed\n",
      "2023-05-19 19:37:46,007 INFO Welcome to the CDS\n",
      "2023-05-19 19:37:46,009 INFO Sending request to https://cds.climate.copernicus.eu/api/v2/resources/reanalysis-era5-pressure-levels\n"
     ]
    },
    {
     "name": "stdout",
     "output_type": "stream",
     "text": [
      "138\n"
     ]
    },
    {
     "name": "stderr",
     "output_type": "stream",
     "text": [
      "2023-05-19 19:37:46,531 INFO Request is queued\n",
      "2023-05-19 19:37:47,604 INFO Request is running\n",
      "2023-05-19 19:37:54,924 INFO Request is completed\n",
      "2023-05-19 19:37:55,266 INFO Welcome to the CDS\n",
      "2023-05-19 19:37:55,266 INFO Sending request to https://cds.climate.copernicus.eu/api/v2/resources/reanalysis-era5-pressure-levels\n",
      "2023-05-19 19:37:55,323 INFO Request is queued\n"
     ]
    },
    {
     "name": "stdout",
     "output_type": "stream",
     "text": [
      "139\n"
     ]
    },
    {
     "name": "stderr",
     "output_type": "stream",
     "text": [
      "2023-05-19 19:37:56,394 INFO Request is running\n",
      "2023-05-19 19:38:03,706 INFO Request is completed\n",
      "2023-05-19 19:38:04,041 INFO Welcome to the CDS\n",
      "2023-05-19 19:38:04,043 INFO Sending request to https://cds.climate.copernicus.eu/api/v2/resources/reanalysis-era5-pressure-levels\n",
      "2023-05-19 19:38:04,128 INFO Request is queued\n"
     ]
    },
    {
     "name": "stdout",
     "output_type": "stream",
     "text": [
      "140\n"
     ]
    },
    {
     "name": "stderr",
     "output_type": "stream",
     "text": [
      "2023-05-19 19:38:05,204 INFO Request is running\n",
      "2023-05-19 19:38:12,514 INFO Request is completed\n",
      "2023-05-19 19:38:12,855 INFO Welcome to the CDS\n",
      "2023-05-19 19:38:12,856 INFO Sending request to https://cds.climate.copernicus.eu/api/v2/resources/reanalysis-era5-pressure-levels\n",
      "2023-05-19 19:38:12,960 INFO Request is queued\n"
     ]
    },
    {
     "name": "stdout",
     "output_type": "stream",
     "text": [
      "141\n"
     ]
    },
    {
     "name": "stderr",
     "output_type": "stream",
     "text": [
      "2023-05-19 19:38:14,029 INFO Request is running\n",
      "2023-05-19 19:38:21,362 INFO Request is completed\n",
      "2023-05-19 19:38:21,693 INFO Welcome to the CDS\n",
      "2023-05-19 19:38:21,694 INFO Sending request to https://cds.climate.copernicus.eu/api/v2/resources/reanalysis-era5-pressure-levels\n",
      "2023-05-19 19:38:21,791 INFO Request is queued\n"
     ]
    },
    {
     "name": "stdout",
     "output_type": "stream",
     "text": [
      "142\n"
     ]
    },
    {
     "name": "stderr",
     "output_type": "stream",
     "text": [
      "2023-05-19 19:38:22,863 INFO Request is running\n",
      "2023-05-19 19:38:26,746 INFO Request is completed\n"
     ]
    },
    {
     "name": "stdout",
     "output_type": "stream",
     "text": [
      "143\n"
     ]
    },
    {
     "name": "stderr",
     "output_type": "stream",
     "text": [
      "2023-05-19 19:38:27,230 INFO Welcome to the CDS\n",
      "2023-05-19 19:38:27,231 INFO Sending request to https://cds.climate.copernicus.eu/api/v2/resources/reanalysis-era5-pressure-levels\n",
      "2023-05-19 19:38:27,307 INFO Request is queued\n",
      "2023-05-19 19:38:28,374 INFO Request is running\n",
      "2023-05-19 19:38:35,713 INFO Request is completed\n",
      "2023-05-19 19:38:36,042 INFO Welcome to the CDS\n",
      "2023-05-19 19:38:36,044 INFO Sending request to https://cds.climate.copernicus.eu/api/v2/resources/reanalysis-era5-pressure-levels\n",
      "2023-05-19 19:38:36,157 INFO Request is queued\n"
     ]
    },
    {
     "name": "stdout",
     "output_type": "stream",
     "text": [
      "144\n"
     ]
    },
    {
     "name": "stderr",
     "output_type": "stream",
     "text": [
      "2023-05-19 19:38:37,225 INFO Request is running\n",
      "2023-05-19 19:38:44,555 INFO Request is completed\n",
      "2023-05-19 19:38:44,889 INFO Welcome to the CDS\n",
      "2023-05-19 19:38:44,893 INFO Sending request to https://cds.climate.copernicus.eu/api/v2/resources/reanalysis-era5-pressure-levels\n",
      "2023-05-19 19:38:44,970 INFO Request is queued\n"
     ]
    },
    {
     "name": "stdout",
     "output_type": "stream",
     "text": [
      "145\n"
     ]
    },
    {
     "name": "stderr",
     "output_type": "stream",
     "text": [
      "2023-05-19 19:38:46,044 INFO Request is running\n",
      "2023-05-19 19:38:53,377 INFO Request is completed\n",
      "2023-05-19 19:38:53,721 INFO Welcome to the CDS\n",
      "2023-05-19 19:38:53,722 INFO Sending request to https://cds.climate.copernicus.eu/api/v2/resources/reanalysis-era5-pressure-levels\n",
      "2023-05-19 19:38:53,795 INFO Request is queued\n"
     ]
    },
    {
     "name": "stdout",
     "output_type": "stream",
     "text": [
      "146\n"
     ]
    },
    {
     "name": "stderr",
     "output_type": "stream",
     "text": [
      "2023-05-19 19:38:54,865 INFO Request is running\n",
      "2023-05-19 19:39:07,331 INFO Request is completed\n",
      "2023-05-19 19:39:07,690 INFO Welcome to the CDS\n",
      "2023-05-19 19:39:07,691 INFO Sending request to https://cds.climate.copernicus.eu/api/v2/resources/reanalysis-era5-pressure-levels\n",
      "2023-05-19 19:39:07,763 INFO Request is queued\n"
     ]
    },
    {
     "name": "stdout",
     "output_type": "stream",
     "text": [
      "147\n"
     ]
    },
    {
     "name": "stderr",
     "output_type": "stream",
     "text": [
      "2023-05-19 19:39:08,829 INFO Request is running\n",
      "2023-05-19 19:39:16,160 INFO Request is completed\n",
      "2023-05-19 19:39:16,475 INFO Welcome to the CDS\n",
      "2023-05-19 19:39:16,476 INFO Sending request to https://cds.climate.copernicus.eu/api/v2/resources/reanalysis-era5-pressure-levels\n",
      "2023-05-19 19:39:16,594 INFO Request is queued\n"
     ]
    },
    {
     "name": "stdout",
     "output_type": "stream",
     "text": [
      "148\n"
     ]
    },
    {
     "name": "stderr",
     "output_type": "stream",
     "text": [
      "2023-05-19 19:39:17,678 INFO Request is running\n",
      "2023-05-19 19:39:25,000 INFO Request is completed\n",
      "2023-05-19 19:39:25,453 INFO Welcome to the CDS\n",
      "2023-05-19 19:39:25,455 INFO Sending request to https://cds.climate.copernicus.eu/api/v2/resources/reanalysis-era5-pressure-levels\n",
      "2023-05-19 19:39:25,564 INFO Request is queued\n"
     ]
    },
    {
     "name": "stdout",
     "output_type": "stream",
     "text": [
      "149\n"
     ]
    },
    {
     "name": "stderr",
     "output_type": "stream",
     "text": [
      "2023-05-19 19:39:26,630 INFO Request is running\n",
      "2023-05-19 19:39:33,972 INFO Request is completed\n",
      "2023-05-19 19:39:34,320 INFO Welcome to the CDS\n",
      "2023-05-19 19:39:34,322 INFO Sending request to https://cds.climate.copernicus.eu/api/v2/resources/reanalysis-era5-pressure-levels\n",
      "2023-05-19 19:39:34,388 INFO Request is queued\n"
     ]
    },
    {
     "name": "stdout",
     "output_type": "stream",
     "text": [
      "150\n"
     ]
    },
    {
     "name": "stderr",
     "output_type": "stream",
     "text": [
      "2023-05-19 19:39:35,463 INFO Request is running\n",
      "2023-05-19 19:39:42,804 INFO Request is completed\n",
      "2023-05-19 19:39:43,133 INFO Welcome to the CDS\n",
      "2023-05-19 19:39:43,134 INFO Sending request to https://cds.climate.copernicus.eu/api/v2/resources/reanalysis-era5-pressure-levels\n",
      "2023-05-19 19:39:43,197 INFO Request is queued\n"
     ]
    },
    {
     "name": "stdout",
     "output_type": "stream",
     "text": [
      "151\n"
     ]
    },
    {
     "name": "stderr",
     "output_type": "stream",
     "text": [
      "2023-05-19 19:39:44,265 INFO Request is running\n",
      "2023-05-19 19:39:51,594 INFO Request is completed\n",
      "2023-05-19 19:39:51,939 INFO Welcome to the CDS\n",
      "2023-05-19 19:39:51,941 INFO Sending request to https://cds.climate.copernicus.eu/api/v2/resources/reanalysis-era5-pressure-levels\n",
      "2023-05-19 19:39:52,039 INFO Request is queued\n"
     ]
    },
    {
     "name": "stdout",
     "output_type": "stream",
     "text": [
      "152\n"
     ]
    },
    {
     "name": "stderr",
     "output_type": "stream",
     "text": [
      "2023-05-19 19:39:53,107 INFO Request is running\n",
      "2023-05-19 19:40:00,461 INFO Request is completed\n",
      "2023-05-19 19:40:00,807 INFO Welcome to the CDS\n",
      "2023-05-19 19:40:00,808 INFO Sending request to https://cds.climate.copernicus.eu/api/v2/resources/reanalysis-era5-pressure-levels\n",
      "2023-05-19 19:40:00,898 INFO Request is queued\n"
     ]
    },
    {
     "name": "stdout",
     "output_type": "stream",
     "text": [
      "153\n"
     ]
    },
    {
     "name": "stderr",
     "output_type": "stream",
     "text": [
      "2023-05-19 19:40:01,973 INFO Request is running\n",
      "2023-05-19 19:40:09,300 INFO Request is completed\n",
      "2023-05-19 19:40:09,622 INFO Welcome to the CDS\n",
      "2023-05-19 19:40:09,622 INFO Sending request to https://cds.climate.copernicus.eu/api/v2/resources/reanalysis-era5-pressure-levels\n",
      "2023-05-19 19:40:09,746 INFO Request is queued\n"
     ]
    },
    {
     "name": "stdout",
     "output_type": "stream",
     "text": [
      "154\n"
     ]
    },
    {
     "name": "stderr",
     "output_type": "stream",
     "text": [
      "2023-05-19 19:40:10,813 INFO Request is running\n",
      "2023-05-19 19:40:18,128 INFO Request is completed\n",
      "2023-05-19 19:40:18,599 INFO Welcome to the CDS\n",
      "2023-05-19 19:40:18,601 INFO Sending request to https://cds.climate.copernicus.eu/api/v2/resources/reanalysis-era5-pressure-levels\n",
      "2023-05-19 19:40:18,662 INFO Request is queued\n"
     ]
    },
    {
     "name": "stdout",
     "output_type": "stream",
     "text": [
      "155\n"
     ]
    },
    {
     "name": "stderr",
     "output_type": "stream",
     "text": [
      "2023-05-19 19:40:19,728 INFO Request is running\n",
      "2023-05-19 19:40:27,066 INFO Request is completed\n",
      "2023-05-19 19:40:27,417 INFO Welcome to the CDS\n",
      "2023-05-19 19:40:27,417 INFO Sending request to https://cds.climate.copernicus.eu/api/v2/resources/reanalysis-era5-pressure-levels\n",
      "2023-05-19 19:40:27,505 INFO Request is queued\n"
     ]
    },
    {
     "name": "stdout",
     "output_type": "stream",
     "text": [
      "156\n"
     ]
    },
    {
     "name": "stderr",
     "output_type": "stream",
     "text": [
      "2023-05-19 19:40:28,574 INFO Request is running\n",
      "2023-05-19 19:40:35,919 INFO Request is completed\n",
      "2023-05-19 19:40:36,477 INFO Welcome to the CDS\n",
      "2023-05-19 19:40:36,479 INFO Sending request to https://cds.climate.copernicus.eu/api/v2/resources/reanalysis-era5-pressure-levels\n"
     ]
    },
    {
     "name": "stdout",
     "output_type": "stream",
     "text": [
      "157\n"
     ]
    },
    {
     "name": "stderr",
     "output_type": "stream",
     "text": [
      "2023-05-19 19:40:36,726 INFO Request is queued\n",
      "2023-05-19 19:40:37,795 INFO Request is running\n",
      "2023-05-19 19:40:45,148 INFO Request is completed\n",
      "2023-05-19 19:40:45,495 INFO Welcome to the CDS\n",
      "2023-05-19 19:40:45,497 INFO Sending request to https://cds.climate.copernicus.eu/api/v2/resources/reanalysis-era5-pressure-levels\n",
      "2023-05-19 19:40:45,562 INFO Request is queued\n"
     ]
    },
    {
     "name": "stdout",
     "output_type": "stream",
     "text": [
      "158\n"
     ]
    },
    {
     "name": "stderr",
     "output_type": "stream",
     "text": [
      "2023-05-19 19:40:46,632 INFO Request is running\n",
      "2023-05-19 19:40:53,952 INFO Request is completed\n",
      "2023-05-19 19:40:54,514 INFO Welcome to the CDS\n",
      "2023-05-19 19:40:54,515 INFO Sending request to https://cds.climate.copernicus.eu/api/v2/resources/reanalysis-era5-pressure-levels\n",
      "2023-05-19 19:40:54,626 INFO Request is queued\n"
     ]
    },
    {
     "name": "stdout",
     "output_type": "stream",
     "text": [
      "159\n"
     ]
    },
    {
     "name": "stderr",
     "output_type": "stream",
     "text": [
      "2023-05-19 19:40:55,693 INFO Request is running\n",
      "2023-05-19 19:41:03,152 INFO Request is completed\n",
      "2023-05-19 19:41:03,709 INFO Welcome to the CDS\n",
      "2023-05-19 19:41:03,711 INFO Sending request to https://cds.climate.copernicus.eu/api/v2/resources/reanalysis-era5-pressure-levels\n",
      "2023-05-19 19:41:03,765 INFO Request is queued\n"
     ]
    },
    {
     "name": "stdout",
     "output_type": "stream",
     "text": [
      "160\n"
     ]
    },
    {
     "name": "stderr",
     "output_type": "stream",
     "text": [
      "2023-05-19 19:41:04,836 INFO Request is running\n",
      "2023-05-19 19:41:12,159 INFO Request is completed\n",
      "2023-05-19 19:41:12,629 INFO Welcome to the CDS\n",
      "2023-05-19 19:41:12,631 INFO Sending request to https://cds.climate.copernicus.eu/api/v2/resources/reanalysis-era5-pressure-levels\n",
      "2023-05-19 19:41:12,704 INFO Request is queued\n"
     ]
    },
    {
     "name": "stdout",
     "output_type": "stream",
     "text": [
      "161\n"
     ]
    },
    {
     "name": "stderr",
     "output_type": "stream",
     "text": [
      "2023-05-19 19:41:13,776 INFO Request is running\n",
      "2023-05-19 19:41:21,109 INFO Request is completed\n",
      "2023-05-19 19:41:21,599 INFO Welcome to the CDS\n",
      "2023-05-19 19:41:21,600 INFO Sending request to https://cds.climate.copernicus.eu/api/v2/resources/reanalysis-era5-pressure-levels\n",
      "2023-05-19 19:41:21,658 INFO Request is queued\n"
     ]
    },
    {
     "name": "stdout",
     "output_type": "stream",
     "text": [
      "162\n"
     ]
    },
    {
     "name": "stderr",
     "output_type": "stream",
     "text": [
      "2023-05-19 19:41:22,716 INFO Request is running\n",
      "2023-05-19 19:41:30,050 INFO Request is completed\n",
      "2023-05-19 19:41:30,384 INFO Welcome to the CDS\n",
      "2023-05-19 19:41:30,386 INFO Sending request to https://cds.climate.copernicus.eu/api/v2/resources/reanalysis-era5-pressure-levels\n",
      "2023-05-19 19:41:30,459 INFO Request is queued\n"
     ]
    },
    {
     "name": "stdout",
     "output_type": "stream",
     "text": [
      "163\n"
     ]
    },
    {
     "name": "stderr",
     "output_type": "stream",
     "text": [
      "2023-05-19 19:41:31,534 INFO Request is running\n",
      "2023-05-19 19:41:38,876 INFO Request is completed\n",
      "2023-05-19 19:41:39,343 INFO Welcome to the CDS\n",
      "2023-05-19 19:41:39,345 INFO Sending request to https://cds.climate.copernicus.eu/api/v2/resources/reanalysis-era5-pressure-levels\n",
      "2023-05-19 19:41:39,466 INFO Request is queued\n"
     ]
    },
    {
     "name": "stdout",
     "output_type": "stream",
     "text": [
      "164\n"
     ]
    },
    {
     "name": "stderr",
     "output_type": "stream",
     "text": [
      "2023-05-19 19:41:40,528 INFO Request is running\n",
      "2023-05-19 19:41:47,859 INFO Request is completed\n",
      "2023-05-19 19:41:48,192 INFO Welcome to the CDS\n",
      "2023-05-19 19:41:48,193 INFO Sending request to https://cds.climate.copernicus.eu/api/v2/resources/reanalysis-era5-pressure-levels\n",
      "2023-05-19 19:41:48,345 INFO Request is queued\n"
     ]
    },
    {
     "name": "stdout",
     "output_type": "stream",
     "text": [
      "165\n"
     ]
    },
    {
     "name": "stderr",
     "output_type": "stream",
     "text": [
      "2023-05-19 19:41:49,412 INFO Request is running\n",
      "2023-05-19 19:41:56,768 INFO Request is completed\n",
      "2023-05-19 19:41:57,114 INFO Welcome to the CDS\n",
      "2023-05-19 19:41:57,116 INFO Sending request to https://cds.climate.copernicus.eu/api/v2/resources/reanalysis-era5-pressure-levels\n",
      "2023-05-19 19:41:57,197 INFO Request is queued\n"
     ]
    },
    {
     "name": "stdout",
     "output_type": "stream",
     "text": [
      "166\n"
     ]
    },
    {
     "name": "stderr",
     "output_type": "stream",
     "text": [
      "2023-05-19 19:41:58,261 INFO Request is running\n",
      "2023-05-19 19:42:02,135 INFO Request is completed\n",
      "2023-05-19 19:42:02,459 INFO Welcome to the CDS\n",
      "2023-05-19 19:42:02,461 INFO Sending request to https://cds.climate.copernicus.eu/api/v2/resources/reanalysis-era5-pressure-levels\n",
      "2023-05-19 19:42:02,552 INFO Request is queued\n"
     ]
    },
    {
     "name": "stdout",
     "output_type": "stream",
     "text": [
      "167\n"
     ]
    },
    {
     "name": "stderr",
     "output_type": "stream",
     "text": [
      "2023-05-19 19:42:03,612 INFO Request is running\n",
      "2023-05-19 19:42:10,951 INFO Request is completed\n",
      "2023-05-19 19:42:11,307 INFO Welcome to the CDS\n",
      "2023-05-19 19:42:11,307 INFO Sending request to https://cds.climate.copernicus.eu/api/v2/resources/reanalysis-era5-pressure-levels\n"
     ]
    },
    {
     "name": "stdout",
     "output_type": "stream",
     "text": [
      "168\n"
     ]
    },
    {
     "name": "stderr",
     "output_type": "stream",
     "text": [
      "2023-05-19 19:42:11,507 INFO Request is queued\n",
      "2023-05-19 19:42:12,574 INFO Request is running\n",
      "2023-05-19 19:42:19,898 INFO Request is completed\n",
      "2023-05-19 19:42:20,359 INFO Welcome to the CDS\n",
      "2023-05-19 19:42:20,360 INFO Sending request to https://cds.climate.copernicus.eu/api/v2/resources/reanalysis-era5-pressure-levels\n",
      "2023-05-19 19:42:20,479 INFO Request is queued\n"
     ]
    },
    {
     "name": "stdout",
     "output_type": "stream",
     "text": [
      "169\n"
     ]
    },
    {
     "name": "stderr",
     "output_type": "stream",
     "text": [
      "2023-05-19 19:42:21,544 INFO Request is running\n",
      "2023-05-19 19:42:28,846 INFO Request is completed\n",
      "2023-05-19 19:42:29,166 INFO Welcome to the CDS\n",
      "2023-05-19 19:42:29,167 INFO Sending request to https://cds.climate.copernicus.eu/api/v2/resources/reanalysis-era5-pressure-levels\n",
      "2023-05-19 19:42:29,231 INFO Request is queued\n"
     ]
    },
    {
     "name": "stdout",
     "output_type": "stream",
     "text": [
      "170\n"
     ]
    },
    {
     "name": "stderr",
     "output_type": "stream",
     "text": [
      "2023-05-19 19:42:30,283 INFO Request is running\n",
      "2023-05-19 19:42:37,568 INFO Request is completed\n",
      "2023-05-19 19:42:37,880 INFO Welcome to the CDS\n",
      "2023-05-19 19:42:37,880 INFO Sending request to https://cds.climate.copernicus.eu/api/v2/resources/reanalysis-era5-pressure-levels\n",
      "2023-05-19 19:42:37,946 INFO Request is queued\n"
     ]
    },
    {
     "name": "stdout",
     "output_type": "stream",
     "text": [
      "171\n"
     ]
    },
    {
     "name": "stderr",
     "output_type": "stream",
     "text": [
      "2023-05-19 19:42:38,998 INFO Request is running\n",
      "2023-05-19 19:42:46,488 INFO Request is completed\n",
      "2023-05-19 19:42:47,477 INFO Welcome to the CDS\n",
      "2023-05-19 19:42:47,478 INFO Sending request to https://cds.climate.copernicus.eu/api/v2/resources/reanalysis-era5-pressure-levels\n",
      "2023-05-19 19:42:47,614 INFO Request is queued\n"
     ]
    },
    {
     "name": "stdout",
     "output_type": "stream",
     "text": [
      "172\n"
     ]
    },
    {
     "name": "stderr",
     "output_type": "stream",
     "text": [
      "2023-05-19 19:42:48,673 INFO Request is running\n",
      "2023-05-19 19:42:55,994 INFO Request is completed\n",
      "2023-05-19 19:42:56,361 INFO Welcome to the CDS\n",
      "2023-05-19 19:42:56,361 INFO Sending request to https://cds.climate.copernicus.eu/api/v2/resources/reanalysis-era5-pressure-levels\n",
      "2023-05-19 19:42:56,471 INFO Request is queued\n"
     ]
    },
    {
     "name": "stdout",
     "output_type": "stream",
     "text": [
      "173\n"
     ]
    },
    {
     "name": "stderr",
     "output_type": "stream",
     "text": [
      "2023-05-19 19:42:57,527 INFO Request is running\n",
      "2023-05-19 19:43:04,847 INFO Request is completed\n",
      "2023-05-19 19:43:05,238 INFO Welcome to the CDS\n",
      "2023-05-19 19:43:05,239 INFO Sending request to https://cds.climate.copernicus.eu/api/v2/resources/reanalysis-era5-pressure-levels\n"
     ]
    },
    {
     "name": "stdout",
     "output_type": "stream",
     "text": [
      "174\n"
     ]
    },
    {
     "name": "stderr",
     "output_type": "stream",
     "text": [
      "2023-05-19 19:43:05,407 INFO Request is queued\n",
      "2023-05-19 19:43:06,468 INFO Request is running\n",
      "2023-05-19 19:43:13,804 INFO Request is completed\n",
      "2023-05-19 19:43:14,288 INFO Welcome to the CDS\n",
      "2023-05-19 19:43:14,289 INFO Sending request to https://cds.climate.copernicus.eu/api/v2/resources/reanalysis-era5-pressure-levels\n",
      "2023-05-19 19:43:14,356 INFO Request is queued\n"
     ]
    },
    {
     "name": "stdout",
     "output_type": "stream",
     "text": [
      "175\n"
     ]
    },
    {
     "name": "stderr",
     "output_type": "stream",
     "text": [
      "2023-05-19 19:43:15,431 INFO Request is running\n",
      "2023-05-19 19:43:22,778 INFO Request is completed\n",
      "2023-05-19 19:43:23,133 INFO Welcome to the CDS\n",
      "2023-05-19 19:43:23,138 INFO Sending request to https://cds.climate.copernicus.eu/api/v2/resources/reanalysis-era5-pressure-levels\n",
      "2023-05-19 19:43:23,270 INFO Request is queued\n"
     ]
    },
    {
     "name": "stdout",
     "output_type": "stream",
     "text": [
      "176\n"
     ]
    },
    {
     "name": "stderr",
     "output_type": "stream",
     "text": [
      "2023-05-19 19:43:24,346 INFO Request is running\n",
      "2023-05-19 19:43:31,674 INFO Request is completed\n",
      "2023-05-19 19:43:32,013 INFO Welcome to the CDS\n",
      "2023-05-19 19:43:32,014 INFO Sending request to https://cds.climate.copernicus.eu/api/v2/resources/reanalysis-era5-pressure-levels\n",
      "2023-05-19 19:43:32,138 INFO Request is queued\n"
     ]
    },
    {
     "name": "stdout",
     "output_type": "stream",
     "text": [
      "177\n"
     ]
    },
    {
     "name": "stderr",
     "output_type": "stream",
     "text": [
      "2023-05-19 19:43:33,204 INFO Request is running\n",
      "2023-05-19 19:43:40,532 INFO Request is completed\n",
      "2023-05-19 19:43:40,883 INFO Welcome to the CDS\n",
      "2023-05-19 19:43:40,884 INFO Sending request to https://cds.climate.copernicus.eu/api/v2/resources/reanalysis-era5-pressure-levels\n",
      "2023-05-19 19:43:41,009 INFO Request is queued\n"
     ]
    },
    {
     "name": "stdout",
     "output_type": "stream",
     "text": [
      "178\n"
     ]
    },
    {
     "name": "stderr",
     "output_type": "stream",
     "text": [
      "2023-05-19 19:43:42,084 INFO Request is running\n",
      "2023-05-19 19:43:49,417 INFO Request is completed\n",
      "2023-05-19 19:43:49,933 INFO Welcome to the CDS\n",
      "2023-05-19 19:43:49,934 INFO Sending request to https://cds.climate.copernicus.eu/api/v2/resources/reanalysis-era5-pressure-levels\n",
      "2023-05-19 19:43:50,015 INFO Request is queued\n"
     ]
    },
    {
     "name": "stdout",
     "output_type": "stream",
     "text": [
      "179\n"
     ]
    },
    {
     "name": "stderr",
     "output_type": "stream",
     "text": [
      "2023-05-19 19:43:51,089 INFO Request is running\n",
      "2023-05-19 19:43:58,427 INFO Request is completed\n",
      "2023-05-19 19:43:58,774 INFO Welcome to the CDS\n",
      "2023-05-19 19:43:58,775 INFO Sending request to https://cds.climate.copernicus.eu/api/v2/resources/reanalysis-era5-pressure-levels\n",
      "2023-05-19 19:43:58,866 INFO Request is queued\n"
     ]
    },
    {
     "name": "stdout",
     "output_type": "stream",
     "text": [
      "180\n"
     ]
    },
    {
     "name": "stderr",
     "output_type": "stream",
     "text": [
      "2023-05-19 19:43:59,961 INFO Request is running\n",
      "2023-05-19 19:44:12,410 INFO Request is completed\n",
      "2023-05-19 19:44:12,744 INFO Welcome to the CDS\n",
      "2023-05-19 19:44:12,745 INFO Sending request to https://cds.climate.copernicus.eu/api/v2/resources/reanalysis-era5-pressure-levels\n",
      "2023-05-19 19:44:12,845 INFO Request is queued\n"
     ]
    },
    {
     "name": "stdout",
     "output_type": "stream",
     "text": [
      "181\n"
     ]
    },
    {
     "name": "stderr",
     "output_type": "stream",
     "text": [
      "2023-05-19 19:44:13,921 INFO Request is running\n",
      "2023-05-19 19:44:21,253 INFO Request is completed\n",
      "2023-05-19 19:44:21,581 INFO Welcome to the CDS\n",
      "2023-05-19 19:44:21,582 INFO Sending request to https://cds.climate.copernicus.eu/api/v2/resources/reanalysis-era5-pressure-levels\n",
      "2023-05-19 19:44:21,704 INFO Request is queued\n"
     ]
    },
    {
     "name": "stdout",
     "output_type": "stream",
     "text": [
      "182\n"
     ]
    },
    {
     "name": "stderr",
     "output_type": "stream",
     "text": [
      "2023-05-19 19:44:22,776 INFO Request is running\n",
      "2023-05-19 19:44:35,232 INFO Request is completed\n",
      "2023-05-19 19:44:35,576 INFO Welcome to the CDS\n",
      "2023-05-19 19:44:35,578 INFO Sending request to https://cds.climate.copernicus.eu/api/v2/resources/reanalysis-era5-pressure-levels\n",
      "2023-05-19 19:44:35,659 INFO Request is queued\n"
     ]
    },
    {
     "name": "stdout",
     "output_type": "stream",
     "text": [
      "183\n"
     ]
    },
    {
     "name": "stderr",
     "output_type": "stream",
     "text": [
      "2023-05-19 19:44:36,727 INFO Request is running\n",
      "2023-05-19 19:44:44,061 INFO Request is completed\n",
      "2023-05-19 19:44:44,385 INFO Welcome to the CDS\n",
      "2023-05-19 19:44:44,386 INFO Sending request to https://cds.climate.copernicus.eu/api/v2/resources/reanalysis-era5-pressure-levels\n",
      "2023-05-19 19:44:44,454 INFO Request is queued\n"
     ]
    },
    {
     "name": "stdout",
     "output_type": "stream",
     "text": [
      "184\n"
     ]
    },
    {
     "name": "stderr",
     "output_type": "stream",
     "text": [
      "2023-05-19 19:44:45,520 INFO Request is running\n",
      "2023-05-19 19:44:52,837 INFO Request is completed\n",
      "2023-05-19 19:44:53,186 INFO Welcome to the CDS\n",
      "2023-05-19 19:44:53,188 INFO Sending request to https://cds.climate.copernicus.eu/api/v2/resources/reanalysis-era5-pressure-levels\n",
      "2023-05-19 19:44:53,271 INFO Request is queued\n"
     ]
    },
    {
     "name": "stdout",
     "output_type": "stream",
     "text": [
      "185\n"
     ]
    },
    {
     "name": "stderr",
     "output_type": "stream",
     "text": [
      "2023-05-19 19:44:54,338 INFO Request is running\n",
      "2023-05-19 19:45:01,823 INFO Request is completed\n",
      "2023-05-19 19:45:02,315 INFO Welcome to the CDS\n",
      "2023-05-19 19:45:02,315 INFO Sending request to https://cds.climate.copernicus.eu/api/v2/resources/reanalysis-era5-pressure-levels\n",
      "2023-05-19 19:45:02,409 INFO Request is queued\n"
     ]
    },
    {
     "name": "stdout",
     "output_type": "stream",
     "text": [
      "186\n"
     ]
    },
    {
     "name": "stderr",
     "output_type": "stream",
     "text": [
      "2023-05-19 19:45:03,476 INFO Request is running\n",
      "2023-05-19 19:45:10,806 INFO Request is completed\n",
      "2023-05-19 19:45:11,131 INFO Welcome to the CDS\n",
      "2023-05-19 19:45:11,133 INFO Sending request to https://cds.climate.copernicus.eu/api/v2/resources/reanalysis-era5-pressure-levels\n"
     ]
    },
    {
     "name": "stdout",
     "output_type": "stream",
     "text": [
      "187\n"
     ]
    },
    {
     "name": "stderr",
     "output_type": "stream",
     "text": [
      "2023-05-19 19:45:11,280 INFO Request is queued\n",
      "2023-05-19 19:45:12,342 INFO Request is running\n",
      "2023-05-19 19:45:19,674 INFO Request is completed\n",
      "2023-05-19 19:45:20,162 INFO Welcome to the CDS\n",
      "2023-05-19 19:45:20,164 INFO Sending request to https://cds.climate.copernicus.eu/api/v2/resources/reanalysis-era5-pressure-levels\n",
      "2023-05-19 19:45:20,225 INFO Request is queued\n"
     ]
    },
    {
     "name": "stdout",
     "output_type": "stream",
     "text": [
      "188\n"
     ]
    },
    {
     "name": "stderr",
     "output_type": "stream",
     "text": [
      "2023-05-19 19:45:21,289 INFO Request is running\n",
      "2023-05-19 19:45:28,616 INFO Request is completed\n",
      "2023-05-19 19:45:28,982 INFO Welcome to the CDS\n",
      "2023-05-19 19:45:28,983 INFO Sending request to https://cds.climate.copernicus.eu/api/v2/resources/reanalysis-era5-pressure-levels\n",
      "2023-05-19 19:45:29,074 INFO Request is queued\n"
     ]
    },
    {
     "name": "stdout",
     "output_type": "stream",
     "text": [
      "189\n"
     ]
    },
    {
     "name": "stderr",
     "output_type": "stream",
     "text": [
      "2023-05-19 19:45:30,145 INFO Request is running\n",
      "2023-05-19 19:45:37,450 INFO Request is completed\n",
      "2023-05-19 19:45:37,786 INFO Welcome to the CDS\n",
      "2023-05-19 19:45:37,788 INFO Sending request to https://cds.climate.copernicus.eu/api/v2/resources/reanalysis-era5-pressure-levels\n",
      "2023-05-19 19:45:37,871 INFO Request is queued\n"
     ]
    },
    {
     "name": "stdout",
     "output_type": "stream",
     "text": [
      "190\n"
     ]
    },
    {
     "name": "stderr",
     "output_type": "stream",
     "text": [
      "2023-05-19 19:45:38,936 INFO Request is running\n",
      "2023-05-19 19:45:46,263 INFO Request is completed\n",
      "2023-05-19 19:45:46,729 INFO Welcome to the CDS\n",
      "2023-05-19 19:45:46,731 INFO Sending request to https://cds.climate.copernicus.eu/api/v2/resources/reanalysis-era5-pressure-levels\n",
      "2023-05-19 19:45:46,801 INFO Request is queued\n"
     ]
    },
    {
     "name": "stdout",
     "output_type": "stream",
     "text": [
      "191\n"
     ]
    },
    {
     "name": "stderr",
     "output_type": "stream",
     "text": [
      "2023-05-19 19:45:47,868 INFO Request is running\n",
      "2023-05-19 19:45:55,189 INFO Request is completed\n",
      "2023-05-19 19:45:55,548 INFO Welcome to the CDS\n",
      "2023-05-19 19:45:55,549 INFO Sending request to https://cds.climate.copernicus.eu/api/v2/resources/reanalysis-era5-pressure-levels\n",
      "2023-05-19 19:45:55,691 INFO Request is queued\n"
     ]
    },
    {
     "name": "stdout",
     "output_type": "stream",
     "text": [
      "192\n"
     ]
    },
    {
     "name": "stderr",
     "output_type": "stream",
     "text": [
      "2023-05-19 19:45:56,760 INFO Request is running\n",
      "2023-05-19 19:46:09,807 INFO Request is completed\n",
      "2023-05-19 19:46:10,293 INFO Welcome to the CDS\n",
      "2023-05-19 19:46:10,294 INFO Sending request to https://cds.climate.copernicus.eu/api/v2/resources/reanalysis-era5-pressure-levels\n",
      "2023-05-19 19:46:10,381 INFO Request is queued\n"
     ]
    },
    {
     "name": "stdout",
     "output_type": "stream",
     "text": [
      "193\n"
     ]
    },
    {
     "name": "stderr",
     "output_type": "stream",
     "text": [
      "2023-05-19 19:46:11,440 INFO Request is running\n",
      "2023-05-19 19:46:18,767 INFO Request is completed\n",
      "2023-05-19 19:46:19,109 INFO Welcome to the CDS\n",
      "2023-05-19 19:46:19,112 INFO Sending request to https://cds.climate.copernicus.eu/api/v2/resources/reanalysis-era5-pressure-levels\n",
      "2023-05-19 19:46:19,199 INFO Request is queued\n"
     ]
    },
    {
     "name": "stdout",
     "output_type": "stream",
     "text": [
      "194\n"
     ]
    },
    {
     "name": "stderr",
     "output_type": "stream",
     "text": [
      "2023-05-19 19:46:20,257 INFO Request is running\n",
      "2023-05-19 19:46:27,582 INFO Request is completed\n",
      "2023-05-19 19:46:28,085 INFO Welcome to the CDS\n",
      "2023-05-19 19:46:28,088 INFO Sending request to https://cds.climate.copernicus.eu/api/v2/resources/reanalysis-era5-pressure-levels\n",
      "2023-05-19 19:46:28,157 INFO Request is queued\n"
     ]
    },
    {
     "name": "stdout",
     "output_type": "stream",
     "text": [
      "195\n"
     ]
    },
    {
     "name": "stderr",
     "output_type": "stream",
     "text": [
      "2023-05-19 19:46:29,223 INFO Request is running\n",
      "2023-05-19 19:46:36,545 INFO Request is completed\n",
      "2023-05-19 19:46:36,901 INFO Welcome to the CDS\n",
      "2023-05-19 19:46:36,902 INFO Sending request to https://cds.climate.copernicus.eu/api/v2/resources/reanalysis-era5-pressure-levels\n",
      "2023-05-19 19:46:36,983 INFO Request is queued\n"
     ]
    },
    {
     "name": "stdout",
     "output_type": "stream",
     "text": [
      "196\n"
     ]
    },
    {
     "name": "stderr",
     "output_type": "stream",
     "text": [
      "2023-05-19 19:46:38,050 INFO Request is running\n",
      "2023-05-19 19:46:45,373 INFO Request is completed\n",
      "2023-05-19 19:46:45,941 INFO Welcome to the CDS\n",
      "2023-05-19 19:46:45,941 INFO Sending request to https://cds.climate.copernicus.eu/api/v2/resources/reanalysis-era5-pressure-levels\n",
      "2023-05-19 19:46:46,012 INFO Request is queued\n"
     ]
    },
    {
     "name": "stdout",
     "output_type": "stream",
     "text": [
      "197\n"
     ]
    },
    {
     "name": "stderr",
     "output_type": "stream",
     "text": [
      "2023-05-19 19:46:47,081 INFO Request is running\n",
      "2023-05-19 19:46:54,421 INFO Request is completed\n",
      "2023-05-19 19:46:54,891 INFO Welcome to the CDS\n",
      "2023-05-19 19:46:54,896 INFO Sending request to https://cds.climate.copernicus.eu/api/v2/resources/reanalysis-era5-pressure-levels\n",
      "2023-05-19 19:46:55,006 INFO Request is queued\n"
     ]
    },
    {
     "name": "stdout",
     "output_type": "stream",
     "text": [
      "198\n"
     ]
    },
    {
     "name": "stderr",
     "output_type": "stream",
     "text": [
      "2023-05-19 19:46:56,074 INFO Request is running\n",
      "2023-05-19 19:47:03,381 INFO Request is completed\n",
      "2023-05-19 19:47:03,954 INFO Welcome to the CDS\n",
      "2023-05-19 19:47:03,956 INFO Sending request to https://cds.climate.copernicus.eu/api/v2/resources/reanalysis-era5-pressure-levels\n",
      "2023-05-19 19:47:04,056 INFO Request is queued\n"
     ]
    },
    {
     "name": "stdout",
     "output_type": "stream",
     "text": [
      "199\n"
     ]
    },
    {
     "name": "stderr",
     "output_type": "stream",
     "text": [
      "2023-05-19 19:47:05,122 INFO Request is running\n",
      "2023-05-19 19:47:12,605 INFO Request is completed\n",
      "2023-05-19 19:47:13,096 INFO Welcome to the CDS\n",
      "2023-05-19 19:47:13,097 INFO Sending request to https://cds.climate.copernicus.eu/api/v2/resources/reanalysis-era5-pressure-levels\n",
      "2023-05-19 19:47:13,164 INFO Request is queued\n"
     ]
    },
    {
     "name": "stdout",
     "output_type": "stream",
     "text": [
      "200\n"
     ]
    },
    {
     "name": "stderr",
     "output_type": "stream",
     "text": [
      "2023-05-19 19:47:14,230 INFO Request is running\n",
      "2023-05-19 19:47:21,574 INFO Request is completed\n",
      "2023-05-19 19:47:22,055 INFO Welcome to the CDS\n",
      "2023-05-19 19:47:22,057 INFO Sending request to https://cds.climate.copernicus.eu/api/v2/resources/reanalysis-era5-pressure-levels\n",
      "2023-05-19 19:47:22,171 INFO Request is queued\n"
     ]
    },
    {
     "name": "stdout",
     "output_type": "stream",
     "text": [
      "201\n"
     ]
    },
    {
     "name": "stderr",
     "output_type": "stream",
     "text": [
      "2023-05-19 19:47:23,239 INFO Request is running\n",
      "2023-05-19 19:47:30,570 INFO Request is completed\n",
      "2023-05-19 19:47:30,950 INFO Welcome to the CDS\n",
      "2023-05-19 19:47:30,951 INFO Sending request to https://cds.climate.copernicus.eu/api/v2/resources/reanalysis-era5-pressure-levels\n",
      "2023-05-19 19:47:31,036 INFO Request is queued\n"
     ]
    },
    {
     "name": "stdout",
     "output_type": "stream",
     "text": [
      "202\n"
     ]
    },
    {
     "name": "stderr",
     "output_type": "stream",
     "text": [
      "2023-05-19 19:47:32,104 INFO Request is running\n",
      "2023-05-19 19:47:39,426 INFO Request is completed\n",
      "2023-05-19 19:47:39,981 INFO Welcome to the CDS\n",
      "2023-05-19 19:47:39,982 INFO Sending request to https://cds.climate.copernicus.eu/api/v2/resources/reanalysis-era5-pressure-levels\n",
      "2023-05-19 19:47:40,068 INFO Request is queued\n"
     ]
    },
    {
     "name": "stdout",
     "output_type": "stream",
     "text": [
      "203\n"
     ]
    },
    {
     "name": "stderr",
     "output_type": "stream",
     "text": [
      "2023-05-19 19:47:41,135 INFO Request is running\n",
      "2023-05-19 19:47:48,500 INFO Request is completed\n",
      "2023-05-19 19:47:48,858 INFO Welcome to the CDS\n",
      "2023-05-19 19:47:48,860 INFO Sending request to https://cds.climate.copernicus.eu/api/v2/resources/reanalysis-era5-pressure-levels\n",
      "2023-05-19 19:47:48,934 INFO Request is queued\n"
     ]
    },
    {
     "name": "stdout",
     "output_type": "stream",
     "text": [
      "204\n"
     ]
    },
    {
     "name": "stderr",
     "output_type": "stream",
     "text": [
      "2023-05-19 19:47:49,999 INFO Request is running\n",
      "2023-05-19 19:47:57,319 INFO Request is completed\n",
      "2023-05-19 19:47:57,817 INFO Welcome to the CDS\n",
      "2023-05-19 19:47:57,820 INFO Sending request to https://cds.climate.copernicus.eu/api/v2/resources/reanalysis-era5-pressure-levels\n",
      "2023-05-19 19:47:57,920 INFO Request is queued\n"
     ]
    },
    {
     "name": "stdout",
     "output_type": "stream",
     "text": [
      "205\n"
     ]
    },
    {
     "name": "stderr",
     "output_type": "stream",
     "text": [
      "2023-05-19 19:47:58,985 INFO Request is running\n",
      "2023-05-19 19:48:06,311 INFO Request is completed\n",
      "2023-05-19 19:48:06,765 INFO Welcome to the CDS\n",
      "2023-05-19 19:48:06,765 INFO Sending request to https://cds.climate.copernicus.eu/api/v2/resources/reanalysis-era5-pressure-levels\n",
      "2023-05-19 19:48:06,859 INFO Request is queued\n"
     ]
    },
    {
     "name": "stdout",
     "output_type": "stream",
     "text": [
      "206\n"
     ]
    },
    {
     "name": "stderr",
     "output_type": "stream",
     "text": [
      "2023-05-19 19:48:07,934 INFO Request is running\n",
      "2023-05-19 19:48:15,266 INFO Request is completed\n",
      "2023-05-19 19:48:15,625 INFO Welcome to the CDS\n",
      "2023-05-19 19:48:15,625 INFO Sending request to https://cds.climate.copernicus.eu/api/v2/resources/reanalysis-era5-pressure-levels\n",
      "2023-05-19 19:48:15,730 INFO Request is queued\n"
     ]
    },
    {
     "name": "stdout",
     "output_type": "stream",
     "text": [
      "207\n"
     ]
    },
    {
     "name": "stderr",
     "output_type": "stream",
     "text": [
      "2023-05-19 19:48:16,802 INFO Request is running\n",
      "2023-05-19 19:48:24,134 INFO Request is completed\n",
      "2023-05-19 19:48:24,481 INFO Welcome to the CDS\n",
      "2023-05-19 19:48:24,481 INFO Sending request to https://cds.climate.copernicus.eu/api/v2/resources/reanalysis-era5-pressure-levels\n",
      "2023-05-19 19:48:24,585 INFO Request is queued\n"
     ]
    },
    {
     "name": "stdout",
     "output_type": "stream",
     "text": [
      "208\n"
     ]
    },
    {
     "name": "stderr",
     "output_type": "stream",
     "text": [
      "2023-05-19 19:48:25,658 INFO Request is running\n",
      "2023-05-19 19:48:32,992 INFO Request is completed\n",
      "2023-05-19 19:48:33,575 INFO Welcome to the CDS\n",
      "2023-05-19 19:48:33,576 INFO Sending request to https://cds.climate.copernicus.eu/api/v2/resources/reanalysis-era5-pressure-levels\n",
      "2023-05-19 19:48:33,641 INFO Request is queued\n"
     ]
    },
    {
     "name": "stdout",
     "output_type": "stream",
     "text": [
      "209\n"
     ]
    },
    {
     "name": "stderr",
     "output_type": "stream",
     "text": [
      "2023-05-19 19:48:34,717 INFO Request is running\n",
      "2023-05-19 19:48:42,049 INFO Request is completed\n",
      "2023-05-19 19:48:42,401 INFO Welcome to the CDS\n",
      "2023-05-19 19:48:42,405 INFO Sending request to https://cds.climate.copernicus.eu/api/v2/resources/reanalysis-era5-pressure-levels\n",
      "2023-05-19 19:48:42,466 INFO Request is queued\n"
     ]
    },
    {
     "name": "stdout",
     "output_type": "stream",
     "text": [
      "210\n"
     ]
    },
    {
     "name": "stderr",
     "output_type": "stream",
     "text": [
      "2023-05-19 19:48:43,541 INFO Request is running\n",
      "2023-05-19 19:48:56,077 INFO Request is completed\n",
      "2023-05-19 19:48:56,566 INFO Welcome to the CDS\n",
      "2023-05-19 19:48:56,567 INFO Sending request to https://cds.climate.copernicus.eu/api/v2/resources/reanalysis-era5-pressure-levels\n",
      "2023-05-19 19:48:56,712 INFO Request is queued\n"
     ]
    },
    {
     "name": "stdout",
     "output_type": "stream",
     "text": [
      "211\n"
     ]
    },
    {
     "name": "stderr",
     "output_type": "stream",
     "text": [
      "2023-05-19 19:48:57,778 INFO Request is running\n",
      "2023-05-19 19:49:05,123 INFO Request is completed\n",
      "2023-05-19 19:49:05,456 INFO Welcome to the CDS\n",
      "2023-05-19 19:49:05,457 INFO Sending request to https://cds.climate.copernicus.eu/api/v2/resources/reanalysis-era5-pressure-levels\n",
      "2023-05-19 19:49:05,551 INFO Request is queued\n"
     ]
    },
    {
     "name": "stdout",
     "output_type": "stream",
     "text": [
      "212\n"
     ]
    },
    {
     "name": "stderr",
     "output_type": "stream",
     "text": [
      "2023-05-19 19:49:06,615 INFO Request is running\n",
      "2023-05-19 19:49:13,924 INFO Request is completed\n",
      "2023-05-19 19:49:14,468 INFO Welcome to the CDS\n",
      "2023-05-19 19:49:14,473 INFO Sending request to https://cds.climate.copernicus.eu/api/v2/resources/reanalysis-era5-pressure-levels\n",
      "2023-05-19 19:49:14,607 INFO Request is queued\n"
     ]
    },
    {
     "name": "stdout",
     "output_type": "stream",
     "text": [
      "213\n"
     ]
    },
    {
     "name": "stderr",
     "output_type": "stream",
     "text": [
      "2023-05-19 19:49:15,683 INFO Request is running\n",
      "2023-05-19 19:49:23,039 INFO Request is completed\n",
      "2023-05-19 19:49:23,545 INFO Welcome to the CDS\n",
      "2023-05-19 19:49:23,547 INFO Sending request to https://cds.climate.copernicus.eu/api/v2/resources/reanalysis-era5-pressure-levels\n",
      "2023-05-19 19:49:23,616 INFO Request is queued\n"
     ]
    },
    {
     "name": "stdout",
     "output_type": "stream",
     "text": [
      "214\n"
     ]
    },
    {
     "name": "stderr",
     "output_type": "stream",
     "text": [
      "2023-05-19 19:49:24,680 INFO Request is running\n",
      "2023-05-19 19:49:32,008 INFO Request is completed\n",
      "2023-05-19 19:49:32,349 INFO Welcome to the CDS\n",
      "2023-05-19 19:49:32,349 INFO Sending request to https://cds.climate.copernicus.eu/api/v2/resources/reanalysis-era5-pressure-levels\n",
      "2023-05-19 19:49:32,439 INFO Request is queued\n"
     ]
    },
    {
     "name": "stdout",
     "output_type": "stream",
     "text": [
      "215\n"
     ]
    },
    {
     "name": "stderr",
     "output_type": "stream",
     "text": [
      "2023-05-19 19:49:33,507 INFO Request is running\n",
      "2023-05-19 19:49:40,857 INFO Request is completed\n",
      "2023-05-19 19:49:41,184 INFO Welcome to the CDS\n",
      "2023-05-19 19:49:41,184 INFO Sending request to https://cds.climate.copernicus.eu/api/v2/resources/reanalysis-era5-pressure-levels\n",
      "2023-05-19 19:49:41,240 INFO Request is queued\n"
     ]
    },
    {
     "name": "stdout",
     "output_type": "stream",
     "text": [
      "216\n"
     ]
    },
    {
     "name": "stderr",
     "output_type": "stream",
     "text": [
      "2023-05-19 19:49:42,301 INFO Request is running\n",
      "2023-05-19 19:49:49,625 INFO Request is completed\n",
      "2023-05-19 19:49:50,189 INFO Welcome to the CDS\n",
      "2023-05-19 19:49:50,190 INFO Sending request to https://cds.climate.copernicus.eu/api/v2/resources/reanalysis-era5-pressure-levels\n",
      "2023-05-19 19:49:50,242 INFO Request is queued\n"
     ]
    },
    {
     "name": "stdout",
     "output_type": "stream",
     "text": [
      "217\n"
     ]
    },
    {
     "name": "stderr",
     "output_type": "stream",
     "text": [
      "2023-05-19 19:49:51,307 INFO Request is running\n",
      "2023-05-19 19:50:03,771 INFO Request is completed\n",
      "2023-05-19 19:50:04,278 INFO Welcome to the CDS\n",
      "2023-05-19 19:50:04,279 INFO Sending request to https://cds.climate.copernicus.eu/api/v2/resources/reanalysis-era5-pressure-levels\n",
      "2023-05-19 19:50:04,336 INFO Request is queued\n"
     ]
    },
    {
     "name": "stdout",
     "output_type": "stream",
     "text": [
      "218\n"
     ]
    },
    {
     "name": "stderr",
     "output_type": "stream",
     "text": [
      "2023-05-19 19:50:05,405 INFO Request is running\n",
      "2023-05-19 19:50:12,735 INFO Request is completed\n",
      "2023-05-19 19:50:13,194 INFO Welcome to the CDS\n",
      "2023-05-19 19:50:13,194 INFO Sending request to https://cds.climate.copernicus.eu/api/v2/resources/reanalysis-era5-pressure-levels\n",
      "2023-05-19 19:50:13,256 INFO Request is queued\n"
     ]
    },
    {
     "name": "stdout",
     "output_type": "stream",
     "text": [
      "219\n"
     ]
    },
    {
     "name": "stderr",
     "output_type": "stream",
     "text": [
      "2023-05-19 19:50:14,311 INFO Request is running\n",
      "2023-05-19 19:50:21,642 INFO Request is completed\n",
      "2023-05-19 19:50:21,970 INFO Welcome to the CDS\n",
      "2023-05-19 19:50:21,971 INFO Sending request to https://cds.climate.copernicus.eu/api/v2/resources/reanalysis-era5-pressure-levels\n",
      "2023-05-19 19:50:22,066 INFO Request is queued\n"
     ]
    },
    {
     "name": "stdout",
     "output_type": "stream",
     "text": [
      "220\n"
     ]
    },
    {
     "name": "stderr",
     "output_type": "stream",
     "text": [
      "2023-05-19 19:50:23,135 INFO Request is running\n",
      "2023-05-19 19:50:30,460 INFO Request is completed\n",
      "2023-05-19 19:50:30,769 INFO Welcome to the CDS\n",
      "2023-05-19 19:50:30,770 INFO Sending request to https://cds.climate.copernicus.eu/api/v2/resources/reanalysis-era5-pressure-levels\n",
      "2023-05-19 19:50:30,851 INFO Request is queued\n"
     ]
    },
    {
     "name": "stdout",
     "output_type": "stream",
     "text": [
      "221\n"
     ]
    },
    {
     "name": "stderr",
     "output_type": "stream",
     "text": [
      "2023-05-19 19:50:31,911 INFO Request is running\n",
      "2023-05-19 19:50:39,239 INFO Request is completed\n",
      "2023-05-19 19:50:39,564 INFO Welcome to the CDS\n",
      "2023-05-19 19:50:39,565 INFO Sending request to https://cds.climate.copernicus.eu/api/v2/resources/reanalysis-era5-pressure-levels\n",
      "2023-05-19 19:50:39,639 INFO Request is queued\n"
     ]
    },
    {
     "name": "stdout",
     "output_type": "stream",
     "text": [
      "222\n"
     ]
    },
    {
     "name": "stderr",
     "output_type": "stream",
     "text": [
      "2023-05-19 19:50:40,700 INFO Request is running\n",
      "2023-05-19 19:50:48,038 INFO Request is completed\n",
      "2023-05-19 19:50:48,515 INFO Welcome to the CDS\n",
      "2023-05-19 19:50:48,516 INFO Sending request to https://cds.climate.copernicus.eu/api/v2/resources/reanalysis-era5-pressure-levels\n",
      "2023-05-19 19:50:48,572 INFO Request is queued\n"
     ]
    },
    {
     "name": "stdout",
     "output_type": "stream",
     "text": [
      "223\n"
     ]
    },
    {
     "name": "stderr",
     "output_type": "stream",
     "text": [
      "2023-05-19 19:50:49,637 INFO Request is running\n",
      "2023-05-19 19:50:56,963 INFO Request is completed\n",
      "2023-05-19 19:50:57,308 INFO Welcome to the CDS\n",
      "2023-05-19 19:50:57,312 INFO Sending request to https://cds.climate.copernicus.eu/api/v2/resources/reanalysis-era5-pressure-levels\n",
      "2023-05-19 19:50:57,435 INFO Request is queued\n"
     ]
    },
    {
     "name": "stdout",
     "output_type": "stream",
     "text": [
      "224\n"
     ]
    },
    {
     "name": "stderr",
     "output_type": "stream",
     "text": [
      "2023-05-19 19:50:58,506 INFO Request is running\n",
      "2023-05-19 19:51:05,840 INFO Request is completed\n",
      "2023-05-19 19:51:06,923 INFO Welcome to the CDS\n",
      "2023-05-19 19:51:06,926 INFO Sending request to https://cds.climate.copernicus.eu/api/v2/resources/reanalysis-era5-pressure-levels\n",
      "2023-05-19 19:51:06,994 INFO Request is queued\n"
     ]
    },
    {
     "name": "stdout",
     "output_type": "stream",
     "text": [
      "225\n"
     ]
    },
    {
     "name": "stderr",
     "output_type": "stream",
     "text": [
      "2023-05-19 19:51:08,071 INFO Request is running\n",
      "2023-05-19 19:51:15,403 INFO Request is completed\n",
      "2023-05-19 19:51:15,721 INFO Welcome to the CDS\n",
      "2023-05-19 19:51:15,726 INFO Sending request to https://cds.climate.copernicus.eu/api/v2/resources/reanalysis-era5-pressure-levels\n",
      "2023-05-19 19:51:15,830 INFO Request is queued\n"
     ]
    },
    {
     "name": "stdout",
     "output_type": "stream",
     "text": [
      "226\n"
     ]
    },
    {
     "name": "stderr",
     "output_type": "stream",
     "text": [
      "2023-05-19 19:51:16,903 INFO Request is running\n",
      "2023-05-19 19:51:24,223 INFO Request is completed\n",
      "2023-05-19 19:51:24,782 INFO Welcome to the CDS\n",
      "2023-05-19 19:51:24,782 INFO Sending request to https://cds.climate.copernicus.eu/api/v2/resources/reanalysis-era5-pressure-levels\n",
      "2023-05-19 19:51:24,863 INFO Request is queued\n"
     ]
    },
    {
     "name": "stdout",
     "output_type": "stream",
     "text": [
      "227\n"
     ]
    },
    {
     "name": "stderr",
     "output_type": "stream",
     "text": [
      "2023-05-19 19:51:25,931 INFO Request is running\n",
      "2023-05-19 19:51:33,248 INFO Request is completed\n"
     ]
    },
    {
     "name": "stdout",
     "output_type": "stream",
     "text": [
      "228\n"
     ]
    },
    {
     "name": "stderr",
     "output_type": "stream",
     "text": [
      "2023-05-19 19:51:33,887 INFO Welcome to the CDS\n",
      "2023-05-19 19:51:33,887 INFO Sending request to https://cds.climate.copernicus.eu/api/v2/resources/reanalysis-era5-pressure-levels\n",
      "2023-05-19 19:51:33,984 INFO Request is queued\n",
      "2023-05-19 19:51:35,063 INFO Request is running\n",
      "2023-05-19 19:51:42,416 INFO Request is completed\n",
      "2023-05-19 19:51:42,770 INFO Welcome to the CDS\n",
      "2023-05-19 19:51:42,771 INFO Sending request to https://cds.climate.copernicus.eu/api/v2/resources/reanalysis-era5-pressure-levels\n",
      "2023-05-19 19:51:42,849 INFO Request is queued\n"
     ]
    },
    {
     "name": "stdout",
     "output_type": "stream",
     "text": [
      "229\n"
     ]
    },
    {
     "name": "stderr",
     "output_type": "stream",
     "text": [
      "2023-05-19 19:51:43,930 INFO Request is running\n",
      "2023-05-19 19:51:51,263 INFO Request is completed\n",
      "2023-05-19 19:51:51,806 INFO Welcome to the CDS\n",
      "2023-05-19 19:51:51,808 INFO Sending request to https://cds.climate.copernicus.eu/api/v2/resources/reanalysis-era5-pressure-levels\n",
      "2023-05-19 19:51:51,873 INFO Request is queued\n"
     ]
    },
    {
     "name": "stdout",
     "output_type": "stream",
     "text": [
      "230\n"
     ]
    },
    {
     "name": "stderr",
     "output_type": "stream",
     "text": [
      "2023-05-19 19:51:52,947 INFO Request is running\n",
      "2023-05-19 19:52:00,276 INFO Request is completed\n",
      "2023-05-19 19:52:00,781 INFO Welcome to the CDS\n",
      "2023-05-19 19:52:00,782 INFO Sending request to https://cds.climate.copernicus.eu/api/v2/resources/reanalysis-era5-pressure-levels\n",
      "2023-05-19 19:52:00,842 INFO Request is queued\n"
     ]
    },
    {
     "name": "stdout",
     "output_type": "stream",
     "text": [
      "231\n"
     ]
    },
    {
     "name": "stderr",
     "output_type": "stream",
     "text": [
      "2023-05-19 19:52:01,917 INFO Request is running\n",
      "2023-05-19 19:52:09,246 INFO Request is completed\n",
      "2023-05-19 19:52:09,569 INFO Welcome to the CDS\n",
      "2023-05-19 19:52:09,571 INFO Sending request to https://cds.climate.copernicus.eu/api/v2/resources/reanalysis-era5-pressure-levels\n",
      "2023-05-19 19:52:09,654 INFO Request is queued\n"
     ]
    },
    {
     "name": "stdout",
     "output_type": "stream",
     "text": [
      "232\n"
     ]
    },
    {
     "name": "stderr",
     "output_type": "stream",
     "text": [
      "2023-05-19 19:52:10,731 INFO Request is running\n",
      "2023-05-19 19:52:18,073 INFO Request is completed\n",
      "2023-05-19 19:52:18,390 INFO Welcome to the CDS\n",
      "2023-05-19 19:52:18,392 INFO Sending request to https://cds.climate.copernicus.eu/api/v2/resources/reanalysis-era5-pressure-levels\n",
      "2023-05-19 19:52:18,448 INFO Request is queued\n"
     ]
    },
    {
     "name": "stdout",
     "output_type": "stream",
     "text": [
      "233\n"
     ]
    },
    {
     "name": "stderr",
     "output_type": "stream",
     "text": [
      "2023-05-19 19:52:19,529 INFO Request is running\n",
      "2023-05-19 19:52:26,871 INFO Request is completed\n",
      "2023-05-19 19:52:27,441 INFO Welcome to the CDS\n",
      "2023-05-19 19:52:27,442 INFO Sending request to https://cds.climate.copernicus.eu/api/v2/resources/reanalysis-era5-pressure-levels\n"
     ]
    },
    {
     "name": "stdout",
     "output_type": "stream",
     "text": [
      "234\n"
     ]
    },
    {
     "name": "stderr",
     "output_type": "stream",
     "text": [
      "2023-05-19 19:52:27,878 INFO Request is queued\n",
      "2023-05-19 19:52:28,952 INFO Request is running\n",
      "2023-05-19 19:52:36,288 INFO Request is completed\n",
      "2023-05-19 19:52:36,613 INFO Welcome to the CDS\n",
      "2023-05-19 19:52:36,613 INFO Sending request to https://cds.climate.copernicus.eu/api/v2/resources/reanalysis-era5-pressure-levels\n",
      "2023-05-19 19:52:36,732 INFO Request is queued\n"
     ]
    },
    {
     "name": "stdout",
     "output_type": "stream",
     "text": [
      "235\n"
     ]
    },
    {
     "name": "stderr",
     "output_type": "stream",
     "text": [
      "2023-05-19 19:52:37,796 INFO Request is running\n",
      "2023-05-19 19:52:45,129 INFO Request is completed\n",
      "2023-05-19 19:52:45,470 INFO Welcome to the CDS\n",
      "2023-05-19 19:52:45,472 INFO Sending request to https://cds.climate.copernicus.eu/api/v2/resources/reanalysis-era5-pressure-levels\n",
      "2023-05-19 19:52:45,558 INFO Request is queued\n"
     ]
    },
    {
     "name": "stdout",
     "output_type": "stream",
     "text": [
      "236\n"
     ]
    },
    {
     "name": "stderr",
     "output_type": "stream",
     "text": [
      "2023-05-19 19:52:46,629 INFO Request is running\n",
      "2023-05-19 19:52:53,973 INFO Request is completed\n",
      "2023-05-19 19:52:54,336 INFO Welcome to the CDS\n",
      "2023-05-19 19:52:54,336 INFO Sending request to https://cds.climate.copernicus.eu/api/v2/resources/reanalysis-era5-pressure-levels\n",
      "2023-05-19 19:52:54,408 INFO Request is queued\n"
     ]
    },
    {
     "name": "stdout",
     "output_type": "stream",
     "text": [
      "237\n"
     ]
    },
    {
     "name": "stderr",
     "output_type": "stream",
     "text": [
      "2023-05-19 19:52:55,473 INFO Request is running\n",
      "2023-05-19 19:53:02,806 INFO Request is completed\n",
      "2023-05-19 19:53:03,179 INFO Welcome to the CDS\n",
      "2023-05-19 19:53:03,179 INFO Sending request to https://cds.climate.copernicus.eu/api/v2/resources/reanalysis-era5-pressure-levels\n",
      "2023-05-19 19:53:03,288 INFO Request is queued\n"
     ]
    },
    {
     "name": "stdout",
     "output_type": "stream",
     "text": [
      "238\n"
     ]
    },
    {
     "name": "stderr",
     "output_type": "stream",
     "text": [
      "2023-05-19 19:53:04,352 INFO Request is running\n",
      "2023-05-19 19:53:11,689 INFO Request is completed\n",
      "2023-05-19 19:53:12,047 INFO Welcome to the CDS\n",
      "2023-05-19 19:53:12,051 INFO Sending request to https://cds.climate.copernicus.eu/api/v2/resources/reanalysis-era5-pressure-levels\n",
      "2023-05-19 19:53:12,111 INFO Request is queued\n"
     ]
    },
    {
     "name": "stdout",
     "output_type": "stream",
     "text": [
      "239\n"
     ]
    },
    {
     "name": "stderr",
     "output_type": "stream",
     "text": [
      "2023-05-19 19:53:13,179 INFO Request is running\n",
      "2023-05-19 19:53:20,521 INFO Request is completed\n",
      "2023-05-19 19:53:21,086 INFO Welcome to the CDS\n",
      "2023-05-19 19:53:21,088 INFO Sending request to https://cds.climate.copernicus.eu/api/v2/resources/reanalysis-era5-pressure-levels\n",
      "2023-05-19 19:53:21,148 INFO Request is queued\n"
     ]
    },
    {
     "name": "stdout",
     "output_type": "stream",
     "text": [
      "240\n"
     ]
    },
    {
     "name": "stderr",
     "output_type": "stream",
     "text": [
      "2023-05-19 19:53:22,226 INFO Request is running\n",
      "2023-05-19 19:53:29,553 INFO Request is completed\n",
      "2023-05-19 19:53:30,068 INFO Welcome to the CDS\n",
      "2023-05-19 19:53:30,069 INFO Sending request to https://cds.climate.copernicus.eu/api/v2/resources/reanalysis-era5-pressure-levels\n",
      "2023-05-19 19:53:30,179 INFO Request is queued\n"
     ]
    },
    {
     "name": "stdout",
     "output_type": "stream",
     "text": [
      "241\n"
     ]
    },
    {
     "name": "stderr",
     "output_type": "stream",
     "text": [
      "2023-05-19 19:53:31,254 INFO Request is running\n",
      "2023-05-19 19:53:38,581 INFO Request is completed\n",
      "2023-05-19 19:53:38,935 INFO Welcome to the CDS\n",
      "2023-05-19 19:53:38,937 INFO Sending request to https://cds.climate.copernicus.eu/api/v2/resources/reanalysis-era5-pressure-levels\n",
      "2023-05-19 19:53:39,011 INFO Request is queued\n"
     ]
    },
    {
     "name": "stdout",
     "output_type": "stream",
     "text": [
      "242\n"
     ]
    },
    {
     "name": "stderr",
     "output_type": "stream",
     "text": [
      "2023-05-19 19:53:40,288 INFO Request is running\n",
      "2023-05-19 19:53:47,630 INFO Request is completed\n",
      "2023-05-19 19:53:47,974 INFO Welcome to the CDS\n",
      "2023-05-19 19:53:47,978 INFO Sending request to https://cds.climate.copernicus.eu/api/v2/resources/reanalysis-era5-pressure-levels\n",
      "2023-05-19 19:53:48,048 INFO Request is queued\n"
     ]
    },
    {
     "name": "stdout",
     "output_type": "stream",
     "text": [
      "243\n"
     ]
    },
    {
     "name": "stderr",
     "output_type": "stream",
     "text": [
      "2023-05-19 19:53:49,120 INFO Request is running\n",
      "2023-05-19 19:53:56,469 INFO Request is completed\n",
      "2023-05-19 19:53:56,821 INFO Welcome to the CDS\n",
      "2023-05-19 19:53:56,822 INFO Sending request to https://cds.climate.copernicus.eu/api/v2/resources/reanalysis-era5-pressure-levels\n",
      "2023-05-19 19:53:56,894 INFO Request is queued\n"
     ]
    },
    {
     "name": "stdout",
     "output_type": "stream",
     "text": [
      "244\n"
     ]
    },
    {
     "name": "stderr",
     "output_type": "stream",
     "text": [
      "2023-05-19 19:53:57,972 INFO Request is running\n",
      "2023-05-19 19:54:05,324 INFO Request is completed\n",
      "2023-05-19 19:54:05,699 INFO Welcome to the CDS\n",
      "2023-05-19 19:54:05,700 INFO Sending request to https://cds.climate.copernicus.eu/api/v2/resources/reanalysis-era5-pressure-levels\n",
      "2023-05-19 19:54:05,775 INFO Request is queued\n"
     ]
    },
    {
     "name": "stdout",
     "output_type": "stream",
     "text": [
      "245\n"
     ]
    },
    {
     "name": "stderr",
     "output_type": "stream",
     "text": [
      "2023-05-19 19:54:06,849 INFO Request is running\n",
      "2023-05-19 19:54:14,192 INFO Request is completed\n",
      "2023-05-19 19:54:14,641 INFO Welcome to the CDS\n",
      "2023-05-19 19:54:14,642 INFO Sending request to https://cds.climate.copernicus.eu/api/v2/resources/reanalysis-era5-pressure-levels\n",
      "2023-05-19 19:54:14,724 INFO Request is queued\n"
     ]
    },
    {
     "name": "stdout",
     "output_type": "stream",
     "text": [
      "246\n"
     ]
    },
    {
     "name": "stderr",
     "output_type": "stream",
     "text": [
      "2023-05-19 19:54:15,798 INFO Request is running\n",
      "2023-05-19 19:54:23,124 INFO Request is completed\n",
      "2023-05-19 19:54:23,495 INFO Welcome to the CDS\n",
      "2023-05-19 19:54:23,496 INFO Sending request to https://cds.climate.copernicus.eu/api/v2/resources/reanalysis-era5-pressure-levels\n",
      "2023-05-19 19:54:23,559 INFO Request is queued\n"
     ]
    },
    {
     "name": "stdout",
     "output_type": "stream",
     "text": [
      "247\n"
     ]
    },
    {
     "name": "stderr",
     "output_type": "stream",
     "text": [
      "2023-05-19 19:54:24,624 INFO Request is running\n",
      "2023-05-19 19:54:31,964 INFO Request is completed\n",
      "2023-05-19 19:54:32,523 INFO Welcome to the CDS\n",
      "2023-05-19 19:54:32,524 INFO Sending request to https://cds.climate.copernicus.eu/api/v2/resources/reanalysis-era5-pressure-levels\n",
      "2023-05-19 19:54:32,618 INFO Request is queued\n"
     ]
    },
    {
     "name": "stdout",
     "output_type": "stream",
     "text": [
      "248\n"
     ]
    },
    {
     "name": "stderr",
     "output_type": "stream",
     "text": [
      "2023-05-19 19:54:33,689 INFO Request is running\n",
      "2023-05-19 19:54:41,039 INFO Request is completed\n",
      "2023-05-19 19:54:41,604 INFO Welcome to the CDS\n",
      "2023-05-19 19:54:41,606 INFO Sending request to https://cds.climate.copernicus.eu/api/v2/resources/reanalysis-era5-pressure-levels\n",
      "2023-05-19 19:54:41,707 INFO Request is queued\n"
     ]
    },
    {
     "name": "stdout",
     "output_type": "stream",
     "text": [
      "249\n"
     ]
    },
    {
     "name": "stderr",
     "output_type": "stream",
     "text": [
      "2023-05-19 19:54:42,781 INFO Request is running\n",
      "2023-05-19 19:54:55,259 INFO Request is completed\n",
      "2023-05-19 19:54:55,559 INFO Welcome to the CDS\n",
      "2023-05-19 19:54:55,560 INFO Sending request to https://cds.climate.copernicus.eu/api/v2/resources/reanalysis-era5-pressure-levels\n",
      "2023-05-19 19:54:55,645 INFO Request is queued\n"
     ]
    },
    {
     "name": "stdout",
     "output_type": "stream",
     "text": [
      "250\n"
     ]
    },
    {
     "name": "stderr",
     "output_type": "stream",
     "text": [
      "2023-05-19 19:54:56,729 INFO Request is running\n",
      "2023-05-19 19:55:04,057 INFO Request is completed\n",
      "2023-05-19 19:55:04,399 INFO Welcome to the CDS\n",
      "2023-05-19 19:55:04,401 INFO Sending request to https://cds.climate.copernicus.eu/api/v2/resources/reanalysis-era5-pressure-levels\n",
      "2023-05-19 19:55:04,514 INFO Request is queued\n"
     ]
    },
    {
     "name": "stdout",
     "output_type": "stream",
     "text": [
      "251\n"
     ]
    },
    {
     "name": "stderr",
     "output_type": "stream",
     "text": [
      "2023-05-19 19:55:05,595 INFO Request is running\n",
      "2023-05-19 19:55:18,110 INFO Request is completed\n",
      "2023-05-19 19:55:18,469 INFO Welcome to the CDS\n",
      "2023-05-19 19:55:18,471 INFO Sending request to https://cds.climate.copernicus.eu/api/v2/resources/reanalysis-era5-pressure-levels\n",
      "2023-05-19 19:55:18,550 INFO Request is queued\n"
     ]
    },
    {
     "name": "stdout",
     "output_type": "stream",
     "text": [
      "252\n"
     ]
    },
    {
     "name": "stderr",
     "output_type": "stream",
     "text": [
      "2023-05-19 19:55:19,612 INFO Request is running\n",
      "2023-05-19 19:55:26,968 INFO Request is completed\n",
      "2023-05-19 19:55:27,326 INFO Welcome to the CDS\n",
      "2023-05-19 19:55:27,327 INFO Sending request to https://cds.climate.copernicus.eu/api/v2/resources/reanalysis-era5-pressure-levels\n",
      "2023-05-19 19:55:27,409 INFO Request is queued\n"
     ]
    },
    {
     "name": "stdout",
     "output_type": "stream",
     "text": [
      "253\n"
     ]
    },
    {
     "name": "stderr",
     "output_type": "stream",
     "text": [
      "2023-05-19 19:55:28,486 INFO Request is running\n",
      "2023-05-19 19:55:35,827 INFO Request is completed\n",
      "2023-05-19 19:55:36,188 INFO Welcome to the CDS\n",
      "2023-05-19 19:55:36,191 INFO Sending request to https://cds.climate.copernicus.eu/api/v2/resources/reanalysis-era5-pressure-levels\n",
      "2023-05-19 19:55:36,255 INFO Request is queued\n"
     ]
    },
    {
     "name": "stdout",
     "output_type": "stream",
     "text": [
      "254\n"
     ]
    },
    {
     "name": "stderr",
     "output_type": "stream",
     "text": [
      "2023-05-19 19:55:37,312 INFO Request is running\n",
      "2023-05-19 19:55:44,668 INFO Request is completed\n",
      "2023-05-19 19:55:45,013 INFO Welcome to the CDS\n",
      "2023-05-19 19:55:45,014 INFO Sending request to https://cds.climate.copernicus.eu/api/v2/resources/reanalysis-era5-pressure-levels\n",
      "2023-05-19 19:55:45,121 INFO Request is queued\n"
     ]
    },
    {
     "name": "stdout",
     "output_type": "stream",
     "text": [
      "255\n"
     ]
    },
    {
     "name": "stderr",
     "output_type": "stream",
     "text": [
      "2023-05-19 19:55:46,194 INFO Request is running\n",
      "2023-05-19 19:55:53,535 INFO Request is completed\n",
      "2023-05-19 19:55:53,895 INFO Welcome to the CDS\n",
      "2023-05-19 19:55:53,896 INFO Sending request to https://cds.climate.copernicus.eu/api/v2/resources/reanalysis-era5-pressure-levels\n",
      "2023-05-19 19:55:54,004 INFO Request is queued\n"
     ]
    },
    {
     "name": "stdout",
     "output_type": "stream",
     "text": [
      "256\n"
     ]
    },
    {
     "name": "stderr",
     "output_type": "stream",
     "text": [
      "2023-05-19 19:55:55,235 INFO Request is running\n",
      "2023-05-19 19:56:02,569 INFO Request is completed\n",
      "2023-05-19 19:56:02,910 INFO Welcome to the CDS\n",
      "2023-05-19 19:56:02,912 INFO Sending request to https://cds.climate.copernicus.eu/api/v2/resources/reanalysis-era5-pressure-levels\n",
      "2023-05-19 19:56:02,978 INFO Request is queued\n"
     ]
    },
    {
     "name": "stdout",
     "output_type": "stream",
     "text": [
      "257\n"
     ]
    },
    {
     "name": "stderr",
     "output_type": "stream",
     "text": [
      "2023-05-19 19:56:04,060 INFO Request is running\n",
      "2023-05-19 19:56:11,397 INFO Request is completed\n",
      "2023-05-19 19:56:11,727 INFO Welcome to the CDS\n",
      "2023-05-19 19:56:11,728 INFO Sending request to https://cds.climate.copernicus.eu/api/v2/resources/reanalysis-era5-pressure-levels\n",
      "2023-05-19 19:56:11,835 INFO Request is queued\n"
     ]
    },
    {
     "name": "stdout",
     "output_type": "stream",
     "text": [
      "258\n"
     ]
    },
    {
     "name": "stderr",
     "output_type": "stream",
     "text": [
      "2023-05-19 19:56:12,904 INFO Request is running\n",
      "2023-05-19 19:56:20,439 INFO Request is completed\n",
      "2023-05-19 19:56:20,813 INFO Welcome to the CDS\n",
      "2023-05-19 19:56:20,814 INFO Sending request to https://cds.climate.copernicus.eu/api/v2/resources/reanalysis-era5-pressure-levels\n",
      "2023-05-19 19:56:20,951 INFO Request is queued\n"
     ]
    },
    {
     "name": "stdout",
     "output_type": "stream",
     "text": [
      "259\n"
     ]
    },
    {
     "name": "stderr",
     "output_type": "stream",
     "text": [
      "2023-05-19 19:56:22,014 INFO Request is running\n",
      "2023-05-19 19:56:29,363 INFO Request is completed\n",
      "2023-05-19 19:56:29,900 INFO Welcome to the CDS\n",
      "2023-05-19 19:56:29,902 INFO Sending request to https://cds.climate.copernicus.eu/api/v2/resources/reanalysis-era5-pressure-levels\n",
      "2023-05-19 19:56:29,984 INFO Request is queued\n"
     ]
    },
    {
     "name": "stdout",
     "output_type": "stream",
     "text": [
      "260\n"
     ]
    },
    {
     "name": "stderr",
     "output_type": "stream",
     "text": [
      "2023-05-19 19:56:31,060 INFO Request is running\n",
      "2023-05-19 19:56:38,394 INFO Request is completed\n",
      "2023-05-19 19:56:38,723 INFO Welcome to the CDS\n",
      "2023-05-19 19:56:38,728 INFO Sending request to https://cds.climate.copernicus.eu/api/v2/resources/reanalysis-era5-pressure-levels\n",
      "2023-05-19 19:56:38,804 INFO Request is queued\n"
     ]
    },
    {
     "name": "stdout",
     "output_type": "stream",
     "text": [
      "261\n"
     ]
    },
    {
     "name": "stderr",
     "output_type": "stream",
     "text": [
      "2023-05-19 19:56:39,864 INFO Request is running\n",
      "2023-05-19 19:56:47,210 INFO Request is completed\n",
      "2023-05-19 19:56:47,701 INFO Welcome to the CDS\n",
      "2023-05-19 19:56:47,704 INFO Sending request to https://cds.climate.copernicus.eu/api/v2/resources/reanalysis-era5-pressure-levels\n",
      "2023-05-19 19:56:47,770 INFO Request is queued\n"
     ]
    },
    {
     "name": "stdout",
     "output_type": "stream",
     "text": [
      "262\n"
     ]
    },
    {
     "name": "stderr",
     "output_type": "stream",
     "text": [
      "2023-05-19 19:56:48,853 INFO Request is running\n",
      "2023-05-19 19:56:56,189 INFO Request is completed\n",
      "2023-05-19 19:56:56,768 INFO Welcome to the CDS\n",
      "2023-05-19 19:56:56,773 INFO Sending request to https://cds.climate.copernicus.eu/api/v2/resources/reanalysis-era5-pressure-levels\n",
      "2023-05-19 19:56:56,878 INFO Request is queued\n"
     ]
    },
    {
     "name": "stdout",
     "output_type": "stream",
     "text": [
      "263\n"
     ]
    },
    {
     "name": "stderr",
     "output_type": "stream",
     "text": [
      "2023-05-19 19:56:57,944 INFO Request is running\n",
      "2023-05-19 19:57:05,283 INFO Request is completed\n",
      "2023-05-19 19:57:05,610 INFO Welcome to the CDS\n",
      "2023-05-19 19:57:05,611 INFO Sending request to https://cds.climate.copernicus.eu/api/v2/resources/reanalysis-era5-pressure-levels\n",
      "2023-05-19 19:57:05,682 INFO Request is queued\n"
     ]
    },
    {
     "name": "stdout",
     "output_type": "stream",
     "text": [
      "264\n"
     ]
    },
    {
     "name": "stderr",
     "output_type": "stream",
     "text": [
      "2023-05-19 19:57:06,745 INFO Request is running\n",
      "2023-05-19 19:57:14,087 INFO Request is completed\n",
      "2023-05-19 19:57:14,433 INFO Welcome to the CDS\n",
      "2023-05-19 19:57:14,439 INFO Sending request to https://cds.climate.copernicus.eu/api/v2/resources/reanalysis-era5-pressure-levels\n",
      "2023-05-19 19:57:14,505 INFO Request is queued\n"
     ]
    },
    {
     "name": "stdout",
     "output_type": "stream",
     "text": [
      "265\n"
     ]
    },
    {
     "name": "stderr",
     "output_type": "stream",
     "text": [
      "2023-05-19 19:57:15,589 INFO Request is running\n",
      "2023-05-19 19:57:22,919 INFO Request is completed\n",
      "2023-05-19 19:57:23,395 INFO Welcome to the CDS\n",
      "2023-05-19 19:57:23,399 INFO Sending request to https://cds.climate.copernicus.eu/api/v2/resources/reanalysis-era5-pressure-levels\n",
      "2023-05-19 19:57:23,479 INFO Request is queued\n"
     ]
    },
    {
     "name": "stdout",
     "output_type": "stream",
     "text": [
      "266\n"
     ]
    },
    {
     "name": "stderr",
     "output_type": "stream",
     "text": [
      "2023-05-19 19:57:24,559 INFO Request is running\n",
      "2023-05-19 19:57:31,879 INFO Request is completed\n",
      "2023-05-19 19:57:32,235 INFO Welcome to the CDS\n",
      "2023-05-19 19:57:32,236 INFO Sending request to https://cds.climate.copernicus.eu/api/v2/resources/reanalysis-era5-pressure-levels\n",
      "2023-05-19 19:57:32,310 INFO Request is queued\n"
     ]
    },
    {
     "name": "stdout",
     "output_type": "stream",
     "text": [
      "267\n"
     ]
    },
    {
     "name": "stderr",
     "output_type": "stream",
     "text": [
      "2023-05-19 19:57:33,375 INFO Request is running\n",
      "2023-05-19 19:57:37,261 INFO Request is completed\n",
      "2023-05-19 19:57:37,722 INFO Welcome to the CDS\n",
      "2023-05-19 19:57:37,724 INFO Sending request to https://cds.climate.copernicus.eu/api/v2/resources/reanalysis-era5-pressure-levels\n",
      "2023-05-19 19:57:37,802 INFO Request is queued\n"
     ]
    },
    {
     "name": "stdout",
     "output_type": "stream",
     "text": [
      "268\n"
     ]
    },
    {
     "name": "stderr",
     "output_type": "stream",
     "text": [
      "2023-05-19 19:57:38,882 INFO Request is running\n",
      "2023-05-19 19:57:46,234 INFO Request is completed\n",
      "2023-05-19 19:57:46,580 INFO Welcome to the CDS\n",
      "2023-05-19 19:57:46,581 INFO Sending request to https://cds.climate.copernicus.eu/api/v2/resources/reanalysis-era5-pressure-levels\n"
     ]
    },
    {
     "name": "stdout",
     "output_type": "stream",
     "text": [
      "269\n"
     ]
    },
    {
     "name": "stderr",
     "output_type": "stream",
     "text": [
      "2023-05-19 19:57:47,008 INFO Request is queued\n",
      "2023-05-19 19:57:48,082 INFO Request is running\n",
      "2023-05-19 19:57:55,436 INFO Request is completed\n",
      "2023-05-19 19:57:55,783 INFO Welcome to the CDS\n",
      "2023-05-19 19:57:55,795 INFO Sending request to https://cds.climate.copernicus.eu/api/v2/resources/reanalysis-era5-pressure-levels\n",
      "2023-05-19 19:57:55,868 INFO Request is queued\n"
     ]
    },
    {
     "name": "stdout",
     "output_type": "stream",
     "text": [
      "270\n"
     ]
    },
    {
     "name": "stderr",
     "output_type": "stream",
     "text": [
      "2023-05-19 19:57:56,941 INFO Request is running\n",
      "2023-05-19 19:58:00,843 INFO Request is completed\n",
      "2023-05-19 19:58:01,440 INFO Welcome to the CDS\n",
      "2023-05-19 19:58:01,441 INFO Sending request to https://cds.climate.copernicus.eu/api/v2/resources/reanalysis-era5-pressure-levels\n",
      "2023-05-19 19:58:01,525 INFO Request is queued\n"
     ]
    },
    {
     "name": "stdout",
     "output_type": "stream",
     "text": [
      "271\n"
     ]
    },
    {
     "name": "stderr",
     "output_type": "stream",
     "text": [
      "2023-05-19 19:58:02,667 INFO Request is running\n",
      "2023-05-19 19:58:09,996 INFO Request is completed\n",
      "2023-05-19 19:58:10,368 INFO Welcome to the CDS\n",
      "2023-05-19 19:58:10,369 INFO Sending request to https://cds.climate.copernicus.eu/api/v2/resources/reanalysis-era5-pressure-levels\n",
      "2023-05-19 19:58:10,431 INFO Request is queued\n"
     ]
    },
    {
     "name": "stdout",
     "output_type": "stream",
     "text": [
      "272\n"
     ]
    },
    {
     "name": "stderr",
     "output_type": "stream",
     "text": [
      "2023-05-19 19:58:11,500 INFO Request is running\n",
      "2023-05-19 19:58:18,821 INFO Request is completed\n",
      "2023-05-19 19:58:19,302 INFO Welcome to the CDS\n",
      "2023-05-19 19:58:19,309 INFO Sending request to https://cds.climate.copernicus.eu/api/v2/resources/reanalysis-era5-pressure-levels\n"
     ]
    },
    {
     "name": "stdout",
     "output_type": "stream",
     "text": [
      "273\n"
     ]
    },
    {
     "name": "stderr",
     "output_type": "stream",
     "text": [
      "2023-05-19 19:58:19,462 INFO Request is queued\n",
      "2023-05-19 19:58:20,521 INFO Request is running\n",
      "2023-05-19 19:58:27,860 INFO Request is completed\n",
      "2023-05-19 19:58:28,665 INFO Welcome to the CDS\n",
      "2023-05-19 19:58:28,666 INFO Sending request to https://cds.climate.copernicus.eu/api/v2/resources/reanalysis-era5-pressure-levels\n",
      "2023-05-19 19:58:28,724 INFO Request is queued\n"
     ]
    },
    {
     "name": "stdout",
     "output_type": "stream",
     "text": [
      "274\n"
     ]
    },
    {
     "name": "stderr",
     "output_type": "stream",
     "text": [
      "2023-05-19 19:58:29,792 INFO Request is running\n",
      "2023-05-19 19:58:37,137 INFO Request is completed\n",
      "2023-05-19 19:58:37,620 INFO Welcome to the CDS\n",
      "2023-05-19 19:58:37,621 INFO Sending request to https://cds.climate.copernicus.eu/api/v2/resources/reanalysis-era5-pressure-levels\n",
      "2023-05-19 19:58:37,695 INFO Request is queued\n"
     ]
    },
    {
     "name": "stdout",
     "output_type": "stream",
     "text": [
      "275\n"
     ]
    },
    {
     "name": "stderr",
     "output_type": "stream",
     "text": [
      "2023-05-19 19:58:38,764 INFO Request is running\n",
      "2023-05-19 19:58:46,091 INFO Request is completed\n",
      "2023-05-19 19:58:46,436 INFO Welcome to the CDS\n",
      "2023-05-19 19:58:46,441 INFO Sending request to https://cds.climate.copernicus.eu/api/v2/resources/reanalysis-era5-pressure-levels\n",
      "2023-05-19 19:58:46,519 INFO Request is queued\n"
     ]
    },
    {
     "name": "stdout",
     "output_type": "stream",
     "text": [
      "276\n"
     ]
    },
    {
     "name": "stderr",
     "output_type": "stream",
     "text": [
      "2023-05-19 19:58:47,619 INFO Request is running\n",
      "2023-05-19 19:58:54,953 INFO Request is completed\n",
      "2023-05-19 19:58:55,496 INFO Welcome to the CDS\n",
      "2023-05-19 19:58:55,497 INFO Sending request to https://cds.climate.copernicus.eu/api/v2/resources/reanalysis-era5-pressure-levels\n",
      "2023-05-19 19:58:55,574 INFO Request is queued\n"
     ]
    },
    {
     "name": "stdout",
     "output_type": "stream",
     "text": [
      "277\n"
     ]
    },
    {
     "name": "stderr",
     "output_type": "stream",
     "text": [
      "2023-05-19 19:58:56,656 INFO Request is running\n",
      "2023-05-19 19:59:04,011 INFO Request is completed\n",
      "2023-05-19 19:59:04,335 INFO Welcome to the CDS\n",
      "2023-05-19 19:59:04,338 INFO Sending request to https://cds.climate.copernicus.eu/api/v2/resources/reanalysis-era5-pressure-levels\n",
      "2023-05-19 19:59:04,414 INFO Request is queued\n"
     ]
    },
    {
     "name": "stdout",
     "output_type": "stream",
     "text": [
      "278\n"
     ]
    },
    {
     "name": "stderr",
     "output_type": "stream",
     "text": [
      "2023-05-19 19:59:05,483 INFO Request is running\n",
      "2023-05-19 19:59:12,831 INFO Request is completed\n",
      "2023-05-19 19:59:13,203 INFO Welcome to the CDS\n",
      "2023-05-19 19:59:13,205 INFO Sending request to https://cds.climate.copernicus.eu/api/v2/resources/reanalysis-era5-pressure-levels\n",
      "2023-05-19 19:59:13,277 INFO Request is queued\n"
     ]
    },
    {
     "name": "stdout",
     "output_type": "stream",
     "text": [
      "279\n"
     ]
    },
    {
     "name": "stderr",
     "output_type": "stream",
     "text": [
      "2023-05-19 19:59:14,341 INFO Request is running\n",
      "2023-05-19 19:59:21,682 INFO Request is completed\n",
      "2023-05-19 19:59:22,030 INFO Welcome to the CDS\n",
      "2023-05-19 19:59:22,039 INFO Sending request to https://cds.climate.copernicus.eu/api/v2/resources/reanalysis-era5-pressure-levels\n",
      "2023-05-19 19:59:22,129 INFO Request is queued\n"
     ]
    },
    {
     "name": "stdout",
     "output_type": "stream",
     "text": [
      "280\n"
     ]
    },
    {
     "name": "stderr",
     "output_type": "stream",
     "text": [
      "2023-05-19 19:59:23,187 INFO Request is running\n",
      "2023-05-19 19:59:30,520 INFO Request is completed\n",
      "2023-05-19 19:59:30,845 INFO Welcome to the CDS\n",
      "2023-05-19 19:59:30,847 INFO Sending request to https://cds.climate.copernicus.eu/api/v2/resources/reanalysis-era5-pressure-levels\n",
      "2023-05-19 19:59:30,923 INFO Request is queued\n"
     ]
    },
    {
     "name": "stdout",
     "output_type": "stream",
     "text": [
      "281\n"
     ]
    },
    {
     "name": "stderr",
     "output_type": "stream",
     "text": [
      "2023-05-19 19:59:31,986 INFO Request is running\n",
      "2023-05-19 19:59:39,330 INFO Request is completed\n",
      "2023-05-19 19:59:39,801 INFO Welcome to the CDS\n",
      "2023-05-19 19:59:39,805 INFO Sending request to https://cds.climate.copernicus.eu/api/v2/resources/reanalysis-era5-pressure-levels\n",
      "2023-05-19 19:59:39,860 INFO Request is queued\n"
     ]
    },
    {
     "name": "stdout",
     "output_type": "stream",
     "text": [
      "282\n"
     ]
    },
    {
     "name": "stderr",
     "output_type": "stream",
     "text": [
      "2023-05-19 19:59:40,936 INFO Request is running\n",
      "2023-05-19 19:59:48,391 INFO Request is completed\n",
      "2023-05-19 19:59:48,748 INFO Welcome to the CDS\n",
      "2023-05-19 19:59:48,750 INFO Sending request to https://cds.climate.copernicus.eu/api/v2/resources/reanalysis-era5-pressure-levels\n",
      "2023-05-19 19:59:48,850 INFO Request is queued\n"
     ]
    },
    {
     "name": "stdout",
     "output_type": "stream",
     "text": [
      "283\n"
     ]
    },
    {
     "name": "stderr",
     "output_type": "stream",
     "text": [
      "2023-05-19 19:59:49,919 INFO Request is running\n",
      "2023-05-19 19:59:57,257 INFO Request is completed\n",
      "2023-05-19 19:59:57,599 INFO Welcome to the CDS\n",
      "2023-05-19 19:59:57,600 INFO Sending request to https://cds.climate.copernicus.eu/api/v2/resources/reanalysis-era5-pressure-levels\n",
      "2023-05-19 19:59:57,692 INFO Request is queued\n"
     ]
    },
    {
     "name": "stdout",
     "output_type": "stream",
     "text": [
      "284\n"
     ]
    },
    {
     "name": "stderr",
     "output_type": "stream",
     "text": [
      "2023-05-19 19:59:58,770 INFO Request is running\n",
      "2023-05-19 20:00:06,153 INFO Request is completed\n",
      "2023-05-19 20:00:06,668 INFO Welcome to the CDS\n",
      "2023-05-19 20:00:06,668 INFO Sending request to https://cds.climate.copernicus.eu/api/v2/resources/reanalysis-era5-pressure-levels\n"
     ]
    },
    {
     "name": "stdout",
     "output_type": "stream",
     "text": [
      "285\n"
     ]
    },
    {
     "name": "stderr",
     "output_type": "stream",
     "text": [
      "2023-05-19 20:00:06,877 INFO Request is queued\n",
      "2023-05-19 20:00:07,936 INFO Request is running\n",
      "2023-05-19 20:00:15,262 INFO Request is completed\n",
      "2023-05-19 20:00:15,761 INFO Welcome to the CDS\n",
      "2023-05-19 20:00:15,762 INFO Sending request to https://cds.climate.copernicus.eu/api/v2/resources/reanalysis-era5-pressure-levels\n",
      "2023-05-19 20:00:15,876 INFO Request is queued\n"
     ]
    },
    {
     "name": "stdout",
     "output_type": "stream",
     "text": [
      "286\n"
     ]
    },
    {
     "name": "stderr",
     "output_type": "stream",
     "text": [
      "2023-05-19 20:00:16,944 INFO Request is running\n",
      "2023-05-19 20:00:24,272 INFO Request is completed\n",
      "2023-05-19 20:00:24,736 INFO Welcome to the CDS\n",
      "2023-05-19 20:00:24,741 INFO Sending request to https://cds.climate.copernicus.eu/api/v2/resources/reanalysis-era5-pressure-levels\n",
      "2023-05-19 20:00:24,793 INFO Request is queued\n"
     ]
    },
    {
     "name": "stdout",
     "output_type": "stream",
     "text": [
      "287\n"
     ]
    },
    {
     "name": "stderr",
     "output_type": "stream",
     "text": [
      "2023-05-19 20:00:25,861 INFO Request is running\n",
      "2023-05-19 20:00:33,183 INFO Request is completed\n",
      "2023-05-19 20:00:33,524 INFO Welcome to the CDS\n",
      "2023-05-19 20:00:33,525 INFO Sending request to https://cds.climate.copernicus.eu/api/v2/resources/reanalysis-era5-pressure-levels\n",
      "2023-05-19 20:00:33,594 INFO Request is queued\n"
     ]
    },
    {
     "name": "stdout",
     "output_type": "stream",
     "text": [
      "288\n"
     ]
    },
    {
     "name": "stderr",
     "output_type": "stream",
     "text": [
      "2023-05-19 20:00:34,669 INFO Request is running\n",
      "2023-05-19 20:00:42,000 INFO Request is completed\n",
      "2023-05-19 20:00:42,329 INFO Welcome to the CDS\n",
      "2023-05-19 20:00:42,329 INFO Sending request to https://cds.climate.copernicus.eu/api/v2/resources/reanalysis-era5-pressure-levels\n",
      "2023-05-19 20:00:42,386 INFO Request is queued\n"
     ]
    },
    {
     "name": "stdout",
     "output_type": "stream",
     "text": [
      "289\n"
     ]
    },
    {
     "name": "stderr",
     "output_type": "stream",
     "text": [
      "2023-05-19 20:00:43,457 INFO Request is running\n",
      "2023-05-19 20:00:50,803 INFO Request is completed\n",
      "2023-05-19 20:00:51,111 INFO Welcome to the CDS\n",
      "2023-05-19 20:00:51,112 INFO Sending request to https://cds.climate.copernicus.eu/api/v2/resources/reanalysis-era5-pressure-levels\n",
      "2023-05-19 20:00:51,179 INFO Request is queued\n"
     ]
    },
    {
     "name": "stdout",
     "output_type": "stream",
     "text": [
      "290\n"
     ]
    },
    {
     "name": "stderr",
     "output_type": "stream",
     "text": [
      "2023-05-19 20:00:52,241 INFO Request is running\n",
      "2023-05-19 20:00:59,565 INFO Request is completed\n",
      "2023-05-19 20:00:59,897 INFO Welcome to the CDS\n",
      "2023-05-19 20:00:59,901 INFO Sending request to https://cds.climate.copernicus.eu/api/v2/resources/reanalysis-era5-pressure-levels\n",
      "2023-05-19 20:00:59,958 INFO Request is queued\n"
     ]
    },
    {
     "name": "stdout",
     "output_type": "stream",
     "text": [
      "291\n"
     ]
    },
    {
     "name": "stderr",
     "output_type": "stream",
     "text": [
      "2023-05-19 20:01:01,036 INFO Request is running\n",
      "2023-05-19 20:01:08,342 INFO Request is completed\n",
      "2023-05-19 20:01:08,662 INFO Welcome to the CDS\n",
      "2023-05-19 20:01:08,662 INFO Sending request to https://cds.climate.copernicus.eu/api/v2/resources/reanalysis-era5-pressure-levels\n",
      "2023-05-19 20:01:08,736 INFO Request is queued\n"
     ]
    },
    {
     "name": "stdout",
     "output_type": "stream",
     "text": [
      "292\n"
     ]
    },
    {
     "name": "stderr",
     "output_type": "stream",
     "text": [
      "2023-05-19 20:01:09,811 INFO Request is running\n",
      "2023-05-19 20:01:13,693 INFO Request is completed\n",
      "2023-05-19 20:01:13,987 INFO Welcome to the CDS\n",
      "2023-05-19 20:01:13,988 INFO Sending request to https://cds.climate.copernicus.eu/api/v2/resources/reanalysis-era5-pressure-levels\n",
      "2023-05-19 20:01:14,044 INFO Request is queued\n"
     ]
    },
    {
     "name": "stdout",
     "output_type": "stream",
     "text": [
      "293\n"
     ]
    },
    {
     "name": "stderr",
     "output_type": "stream",
     "text": [
      "2023-05-19 20:01:15,120 INFO Request is running\n",
      "2023-05-19 20:01:22,483 INFO Request is completed\n",
      "2023-05-19 20:01:22,804 INFO Welcome to the CDS\n",
      "2023-05-19 20:01:22,805 INFO Sending request to https://cds.climate.copernicus.eu/api/v2/resources/reanalysis-era5-pressure-levels\n",
      "2023-05-19 20:01:22,922 INFO Request is queued\n"
     ]
    },
    {
     "name": "stdout",
     "output_type": "stream",
     "text": [
      "294\n"
     ]
    },
    {
     "name": "stderr",
     "output_type": "stream",
     "text": [
      "2023-05-19 20:01:23,991 INFO Request is running\n",
      "2023-05-19 20:01:31,322 INFO Request is completed\n",
      "2023-05-19 20:01:31,806 INFO Welcome to the CDS\n",
      "2023-05-19 20:01:31,807 INFO Sending request to https://cds.climate.copernicus.eu/api/v2/resources/reanalysis-era5-pressure-levels\n",
      "2023-05-19 20:01:31,863 INFO Request is queued\n"
     ]
    },
    {
     "name": "stdout",
     "output_type": "stream",
     "text": [
      "295\n"
     ]
    },
    {
     "name": "stderr",
     "output_type": "stream",
     "text": [
      "2023-05-19 20:01:32,935 INFO Request is running\n",
      "2023-05-19 20:01:45,386 INFO Request is completed\n",
      "2023-05-19 20:01:45,740 INFO Welcome to the CDS\n",
      "2023-05-19 20:01:45,742 INFO Sending request to https://cds.climate.copernicus.eu/api/v2/resources/reanalysis-era5-pressure-levels\n",
      "2023-05-19 20:01:45,799 INFO Request is queued\n"
     ]
    },
    {
     "name": "stdout",
     "output_type": "stream",
     "text": [
      "296\n"
     ]
    },
    {
     "name": "stderr",
     "output_type": "stream",
     "text": [
      "2023-05-19 20:01:46,867 INFO Request is running\n",
      "2023-05-19 20:01:54,194 INFO Request is completed\n",
      "2023-05-19 20:01:54,775 INFO Welcome to the CDS\n",
      "2023-05-19 20:01:54,777 INFO Sending request to https://cds.climate.copernicus.eu/api/v2/resources/reanalysis-era5-pressure-levels\n",
      "2023-05-19 20:01:54,860 INFO Request is queued\n"
     ]
    },
    {
     "name": "stdout",
     "output_type": "stream",
     "text": [
      "297\n"
     ]
    },
    {
     "name": "stderr",
     "output_type": "stream",
     "text": [
      "2023-05-19 20:01:55,923 INFO Request is running\n",
      "2023-05-19 20:02:03,244 INFO Request is completed\n",
      "2023-05-19 20:02:03,727 INFO Welcome to the CDS\n",
      "2023-05-19 20:02:03,729 INFO Sending request to https://cds.climate.copernicus.eu/api/v2/resources/reanalysis-era5-pressure-levels\n",
      "2023-05-19 20:02:03,819 INFO Request is queued\n"
     ]
    },
    {
     "name": "stdout",
     "output_type": "stream",
     "text": [
      "298\n"
     ]
    },
    {
     "name": "stderr",
     "output_type": "stream",
     "text": [
      "2023-05-19 20:02:04,892 INFO Request is running\n",
      "2023-05-19 20:02:12,222 INFO Request is completed\n",
      "2023-05-19 20:02:12,690 INFO Welcome to the CDS\n",
      "2023-05-19 20:02:12,691 INFO Sending request to https://cds.climate.copernicus.eu/api/v2/resources/reanalysis-era5-pressure-levels\n",
      "2023-05-19 20:02:12,782 INFO Request is queued\n"
     ]
    },
    {
     "name": "stdout",
     "output_type": "stream",
     "text": [
      "299\n"
     ]
    },
    {
     "name": "stderr",
     "output_type": "stream",
     "text": [
      "2023-05-19 20:02:13,853 INFO Request is running\n",
      "2023-05-19 20:02:21,366 INFO Request is completed\n",
      "2023-05-19 20:02:21,706 INFO Welcome to the CDS\n",
      "2023-05-19 20:02:21,713 INFO Sending request to https://cds.climate.copernicus.eu/api/v2/resources/reanalysis-era5-pressure-levels\n",
      "2023-05-19 20:02:21,793 INFO Request is queued\n"
     ]
    },
    {
     "name": "stdout",
     "output_type": "stream",
     "text": [
      "300\n"
     ]
    },
    {
     "name": "stderr",
     "output_type": "stream",
     "text": [
      "2023-05-19 20:02:22,867 INFO Request is running\n",
      "2023-05-19 20:02:30,214 INFO Request is completed\n",
      "2023-05-19 20:02:30,536 INFO Welcome to the CDS\n",
      "2023-05-19 20:02:30,536 INFO Sending request to https://cds.climate.copernicus.eu/api/v2/resources/reanalysis-era5-pressure-levels\n",
      "2023-05-19 20:02:30,628 INFO Request is queued\n"
     ]
    },
    {
     "name": "stdout",
     "output_type": "stream",
     "text": [
      "301\n"
     ]
    },
    {
     "name": "stderr",
     "output_type": "stream",
     "text": [
      "2023-05-19 20:02:31,704 INFO Request is running\n",
      "2023-05-19 20:02:39,071 INFO Request is completed\n",
      "2023-05-19 20:02:39,415 INFO Welcome to the CDS\n",
      "2023-05-19 20:02:39,423 INFO Sending request to https://cds.climate.copernicus.eu/api/v2/resources/reanalysis-era5-pressure-levels\n",
      "2023-05-19 20:02:39,489 INFO Request is queued\n"
     ]
    },
    {
     "name": "stdout",
     "output_type": "stream",
     "text": [
      "302\n"
     ]
    },
    {
     "name": "stderr",
     "output_type": "stream",
     "text": [
      "2023-05-19 20:02:40,570 INFO Request is running\n",
      "2023-05-19 20:02:47,915 INFO Request is completed\n",
      "2023-05-19 20:02:48,272 INFO Welcome to the CDS\n",
      "2023-05-19 20:02:48,275 INFO Sending request to https://cds.climate.copernicus.eu/api/v2/resources/reanalysis-era5-pressure-levels\n",
      "2023-05-19 20:02:48,340 INFO Request is queued\n"
     ]
    },
    {
     "name": "stdout",
     "output_type": "stream",
     "text": [
      "303\n"
     ]
    },
    {
     "name": "stderr",
     "output_type": "stream",
     "text": [
      "2023-05-19 20:02:49,410 INFO Request is running\n",
      "2023-05-19 20:02:56,762 INFO Request is completed\n",
      "2023-05-19 20:02:57,113 INFO Welcome to the CDS\n",
      "2023-05-19 20:02:57,114 INFO Sending request to https://cds.climate.copernicus.eu/api/v2/resources/reanalysis-era5-pressure-levels\n",
      "2023-05-19 20:02:57,229 INFO Request is queued\n"
     ]
    },
    {
     "name": "stdout",
     "output_type": "stream",
     "text": [
      "304\n"
     ]
    },
    {
     "name": "stderr",
     "output_type": "stream",
     "text": [
      "2023-05-19 20:02:58,302 INFO Request is running\n",
      "2023-05-19 20:03:05,639 INFO Request is completed\n",
      "2023-05-19 20:03:05,995 INFO Welcome to the CDS\n",
      "2023-05-19 20:03:05,996 INFO Sending request to https://cds.climate.copernicus.eu/api/v2/resources/reanalysis-era5-pressure-levels\n",
      "2023-05-19 20:03:06,062 INFO Request is queued\n"
     ]
    },
    {
     "name": "stdout",
     "output_type": "stream",
     "text": [
      "305\n"
     ]
    },
    {
     "name": "stderr",
     "output_type": "stream",
     "text": [
      "2023-05-19 20:03:07,137 INFO Request is running\n",
      "2023-05-19 20:03:14,474 INFO Request is completed\n",
      "2023-05-19 20:03:14,834 INFO Welcome to the CDS\n",
      "2023-05-19 20:03:14,835 INFO Sending request to https://cds.climate.copernicus.eu/api/v2/resources/reanalysis-era5-pressure-levels\n",
      "2023-05-19 20:03:14,895 INFO Request is queued\n"
     ]
    },
    {
     "name": "stdout",
     "output_type": "stream",
     "text": [
      "306\n"
     ]
    },
    {
     "name": "stderr",
     "output_type": "stream",
     "text": [
      "2023-05-19 20:03:15,960 INFO Request is running\n",
      "2023-05-19 20:03:23,285 INFO Request is completed\n",
      "2023-05-19 20:03:23,616 INFO Welcome to the CDS\n",
      "2023-05-19 20:03:23,618 INFO Sending request to https://cds.climate.copernicus.eu/api/v2/resources/reanalysis-era5-pressure-levels\n",
      "2023-05-19 20:03:23,700 INFO Request is queued\n"
     ]
    },
    {
     "name": "stdout",
     "output_type": "stream",
     "text": [
      "307\n"
     ]
    },
    {
     "name": "stderr",
     "output_type": "stream",
     "text": [
      "2023-05-19 20:03:24,775 INFO Request is running\n",
      "2023-05-19 20:03:32,118 INFO Request is completed\n",
      "2023-05-19 20:03:32,674 INFO Welcome to the CDS\n",
      "2023-05-19 20:03:32,676 INFO Sending request to https://cds.climate.copernicus.eu/api/v2/resources/reanalysis-era5-pressure-levels\n",
      "2023-05-19 20:03:32,747 INFO Request is queued\n"
     ]
    },
    {
     "name": "stdout",
     "output_type": "stream",
     "text": [
      "308\n"
     ]
    },
    {
     "name": "stderr",
     "output_type": "stream",
     "text": [
      "2023-05-19 20:03:33,825 INFO Request is running\n",
      "2023-05-19 20:03:41,192 INFO Request is completed\n",
      "2023-05-19 20:03:41,774 INFO Welcome to the CDS\n",
      "2023-05-19 20:03:41,775 INFO Sending request to https://cds.climate.copernicus.eu/api/v2/resources/reanalysis-era5-pressure-levels\n",
      "2023-05-19 20:03:41,841 INFO Request is queued\n"
     ]
    },
    {
     "name": "stdout",
     "output_type": "stream",
     "text": [
      "309\n"
     ]
    },
    {
     "name": "stderr",
     "output_type": "stream",
     "text": [
      "2023-05-19 20:03:42,917 INFO Request is running\n",
      "2023-05-19 20:03:50,273 INFO Request is completed\n",
      "2023-05-19 20:03:50,630 INFO Welcome to the CDS\n",
      "2023-05-19 20:03:50,630 INFO Sending request to https://cds.climate.copernicus.eu/api/v2/resources/reanalysis-era5-pressure-levels\n",
      "2023-05-19 20:03:50,706 INFO Request is queued\n"
     ]
    },
    {
     "name": "stdout",
     "output_type": "stream",
     "text": [
      "310\n"
     ]
    },
    {
     "name": "stderr",
     "output_type": "stream",
     "text": [
      "2023-05-19 20:03:51,774 INFO Request is running\n",
      "2023-05-19 20:03:59,115 INFO Request is completed\n",
      "2023-05-19 20:03:59,456 INFO Welcome to the CDS\n",
      "2023-05-19 20:03:59,458 INFO Sending request to https://cds.climate.copernicus.eu/api/v2/resources/reanalysis-era5-pressure-levels\n",
      "2023-05-19 20:03:59,550 INFO Request is queued\n"
     ]
    },
    {
     "name": "stdout",
     "output_type": "stream",
     "text": [
      "311\n"
     ]
    },
    {
     "name": "stderr",
     "output_type": "stream",
     "text": [
      "2023-05-19 20:04:00,616 INFO Request is running\n",
      "2023-05-19 20:04:07,954 INFO Request is completed\n",
      "2023-05-19 20:04:08,320 INFO Welcome to the CDS\n",
      "2023-05-19 20:04:08,326 INFO Sending request to https://cds.climate.copernicus.eu/api/v2/resources/reanalysis-era5-pressure-levels\n",
      "2023-05-19 20:04:08,387 INFO Request is queued\n"
     ]
    },
    {
     "name": "stdout",
     "output_type": "stream",
     "text": [
      "312\n"
     ]
    },
    {
     "name": "stderr",
     "output_type": "stream",
     "text": [
      "2023-05-19 20:04:09,470 INFO Request is running\n",
      "2023-05-19 20:04:16,814 INFO Request is completed\n",
      "2023-05-19 20:04:17,177 INFO Welcome to the CDS\n",
      "2023-05-19 20:04:17,185 INFO Sending request to https://cds.climate.copernicus.eu/api/v2/resources/reanalysis-era5-pressure-levels\n",
      "2023-05-19 20:04:17,247 INFO Request is queued\n"
     ]
    },
    {
     "name": "stdout",
     "output_type": "stream",
     "text": [
      "313\n"
     ]
    },
    {
     "name": "stderr",
     "output_type": "stream",
     "text": [
      "2023-05-19 20:04:18,321 INFO Request is running\n",
      "2023-05-19 20:04:25,835 INFO Request is completed\n",
      "2023-05-19 20:04:26,185 INFO Welcome to the CDS\n",
      "2023-05-19 20:04:26,185 INFO Sending request to https://cds.climate.copernicus.eu/api/v2/resources/reanalysis-era5-pressure-levels\n",
      "2023-05-19 20:04:26,271 INFO Request is queued\n"
     ]
    },
    {
     "name": "stdout",
     "output_type": "stream",
     "text": [
      "314\n"
     ]
    },
    {
     "name": "stderr",
     "output_type": "stream",
     "text": [
      "2023-05-19 20:04:27,339 INFO Request is running\n",
      "2023-05-19 20:04:34,682 INFO Request is completed\n",
      "2023-05-19 20:04:35,039 INFO Welcome to the CDS\n",
      "2023-05-19 20:04:35,041 INFO Sending request to https://cds.climate.copernicus.eu/api/v2/resources/reanalysis-era5-pressure-levels\n",
      "2023-05-19 20:04:35,107 INFO Request is queued\n"
     ]
    },
    {
     "name": "stdout",
     "output_type": "stream",
     "text": [
      "315\n"
     ]
    },
    {
     "name": "stderr",
     "output_type": "stream",
     "text": [
      "2023-05-19 20:04:36,181 INFO Request is running\n",
      "2023-05-19 20:04:43,529 INFO Request is completed\n",
      "2023-05-19 20:04:43,907 INFO Welcome to the CDS\n",
      "2023-05-19 20:04:43,908 INFO Sending request to https://cds.climate.copernicus.eu/api/v2/resources/reanalysis-era5-pressure-levels\n",
      "2023-05-19 20:04:43,973 INFO Request is queued\n"
     ]
    },
    {
     "name": "stdout",
     "output_type": "stream",
     "text": [
      "316\n"
     ]
    },
    {
     "name": "stderr",
     "output_type": "stream",
     "text": [
      "2023-05-19 20:04:45,043 INFO Request is running\n",
      "2023-05-19 20:04:52,381 INFO Request is completed\n",
      "2023-05-19 20:04:52,863 INFO Welcome to the CDS\n",
      "2023-05-19 20:04:52,865 INFO Sending request to https://cds.climate.copernicus.eu/api/v2/resources/reanalysis-era5-pressure-levels\n",
      "2023-05-19 20:04:52,926 INFO Request is queued\n"
     ]
    },
    {
     "name": "stdout",
     "output_type": "stream",
     "text": [
      "317\n"
     ]
    },
    {
     "name": "stderr",
     "output_type": "stream",
     "text": [
      "2023-05-19 20:04:54,001 INFO Request is running\n",
      "2023-05-19 20:05:01,341 INFO Request is completed\n",
      "2023-05-19 20:05:01,681 INFO Welcome to the CDS\n",
      "2023-05-19 20:05:01,682 INFO Sending request to https://cds.climate.copernicus.eu/api/v2/resources/reanalysis-era5-pressure-levels\n",
      "2023-05-19 20:05:01,747 INFO Request is queued\n"
     ]
    },
    {
     "name": "stdout",
     "output_type": "stream",
     "text": [
      "318\n"
     ]
    },
    {
     "name": "stderr",
     "output_type": "stream",
     "text": [
      "2023-05-19 20:05:02,815 INFO Request is running\n",
      "2023-05-19 20:05:10,164 INFO Request is completed\n",
      "2023-05-19 20:05:10,521 INFO Welcome to the CDS\n",
      "2023-05-19 20:05:10,523 INFO Sending request to https://cds.climate.copernicus.eu/api/v2/resources/reanalysis-era5-pressure-levels\n",
      "2023-05-19 20:05:10,598 INFO Request is queued\n"
     ]
    },
    {
     "name": "stdout",
     "output_type": "stream",
     "text": [
      "319\n"
     ]
    },
    {
     "name": "stderr",
     "output_type": "stream",
     "text": [
      "2023-05-19 20:05:11,674 INFO Request is running\n",
      "2023-05-19 20:05:19,018 INFO Request is completed\n",
      "2023-05-19 20:05:19,519 INFO Welcome to the CDS\n",
      "2023-05-19 20:05:19,521 INFO Sending request to https://cds.climate.copernicus.eu/api/v2/resources/reanalysis-era5-pressure-levels\n",
      "2023-05-19 20:05:19,597 INFO Request is queued\n"
     ]
    },
    {
     "name": "stdout",
     "output_type": "stream",
     "text": [
      "320\n"
     ]
    },
    {
     "name": "stderr",
     "output_type": "stream",
     "text": [
      "2023-05-19 20:05:20,673 INFO Request is running\n",
      "2023-05-19 20:05:28,013 INFO Request is completed\n",
      "2023-05-19 20:05:28,508 INFO Welcome to the CDS\n",
      "2023-05-19 20:05:28,510 INFO Sending request to https://cds.climate.copernicus.eu/api/v2/resources/reanalysis-era5-pressure-levels\n",
      "2023-05-19 20:05:28,602 INFO Request is queued\n"
     ]
    },
    {
     "name": "stdout",
     "output_type": "stream",
     "text": [
      "321\n"
     ]
    },
    {
     "name": "stderr",
     "output_type": "stream",
     "text": [
      "2023-05-19 20:05:29,674 INFO Request is running\n",
      "2023-05-19 20:05:37,009 INFO Request is completed\n",
      "2023-05-19 20:05:37,492 INFO Welcome to the CDS\n",
      "2023-05-19 20:05:37,494 INFO Sending request to https://cds.climate.copernicus.eu/api/v2/resources/reanalysis-era5-pressure-levels\n",
      "2023-05-19 20:05:37,557 INFO Request is queued\n"
     ]
    },
    {
     "name": "stdout",
     "output_type": "stream",
     "text": [
      "322\n"
     ]
    },
    {
     "name": "stderr",
     "output_type": "stream",
     "text": [
      "2023-05-19 20:05:38,636 INFO Request is running\n",
      "2023-05-19 20:05:45,969 INFO Request is completed\n",
      "2023-05-19 20:05:46,467 INFO Welcome to the CDS\n",
      "2023-05-19 20:05:46,468 INFO Sending request to https://cds.climate.copernicus.eu/api/v2/resources/reanalysis-era5-pressure-levels\n",
      "2023-05-19 20:05:46,533 INFO Request is queued\n"
     ]
    },
    {
     "name": "stdout",
     "output_type": "stream",
     "text": [
      "323\n"
     ]
    },
    {
     "name": "stderr",
     "output_type": "stream",
     "text": [
      "2023-05-19 20:05:47,612 INFO Request is running\n",
      "2023-05-19 20:05:54,963 INFO Request is completed\n",
      "2023-05-19 20:05:55,327 INFO Welcome to the CDS\n",
      "2023-05-19 20:05:55,328 INFO Sending request to https://cds.climate.copernicus.eu/api/v2/resources/reanalysis-era5-pressure-levels\n",
      "2023-05-19 20:05:55,436 INFO Request is queued\n"
     ]
    },
    {
     "name": "stdout",
     "output_type": "stream",
     "text": [
      "324\n"
     ]
    },
    {
     "name": "stderr",
     "output_type": "stream",
     "text": [
      "2023-05-19 20:05:56,507 INFO Request is running\n",
      "2023-05-19 20:06:09,126 INFO Request is completed\n",
      "2023-05-19 20:06:09,476 INFO Welcome to the CDS\n",
      "2023-05-19 20:06:09,477 INFO Sending request to https://cds.climate.copernicus.eu/api/v2/resources/reanalysis-era5-pressure-levels\n",
      "2023-05-19 20:06:09,584 INFO Request is queued\n"
     ]
    },
    {
     "name": "stdout",
     "output_type": "stream",
     "text": [
      "325\n"
     ]
    },
    {
     "name": "stderr",
     "output_type": "stream",
     "text": [
      "2023-05-19 20:06:10,649 INFO Request is running\n",
      "2023-05-19 20:06:17,997 INFO Request is completed\n",
      "2023-05-19 20:06:18,365 INFO Welcome to the CDS\n",
      "2023-05-19 20:06:18,365 INFO Sending request to https://cds.climate.copernicus.eu/api/v2/resources/reanalysis-era5-pressure-levels\n",
      "2023-05-19 20:06:18,446 INFO Request is queued\n"
     ]
    },
    {
     "name": "stdout",
     "output_type": "stream",
     "text": [
      "326\n"
     ]
    },
    {
     "name": "stderr",
     "output_type": "stream",
     "text": [
      "2023-05-19 20:06:19,511 INFO Request is running\n",
      "2023-05-19 20:06:26,851 INFO Request is completed\n",
      "2023-05-19 20:06:27,234 INFO Welcome to the CDS\n",
      "2023-05-19 20:06:27,236 INFO Sending request to https://cds.climate.copernicus.eu/api/v2/resources/reanalysis-era5-pressure-levels\n",
      "2023-05-19 20:06:27,302 INFO Request is queued\n"
     ]
    },
    {
     "name": "stdout",
     "output_type": "stream",
     "text": [
      "327\n"
     ]
    },
    {
     "name": "stderr",
     "output_type": "stream",
     "text": [
      "2023-05-19 20:06:28,376 INFO Request is running\n",
      "2023-05-19 20:06:35,759 INFO Request is completed\n",
      "2023-05-19 20:06:36,435 INFO Welcome to the CDS\n",
      "2023-05-19 20:06:36,436 INFO Sending request to https://cds.climate.copernicus.eu/api/v2/resources/reanalysis-era5-pressure-levels\n",
      "2023-05-19 20:06:36,534 INFO Request is queued\n"
     ]
    },
    {
     "name": "stdout",
     "output_type": "stream",
     "text": [
      "328\n"
     ]
    },
    {
     "name": "stderr",
     "output_type": "stream",
     "text": [
      "2023-05-19 20:06:37,609 INFO Request is running\n",
      "2023-05-19 20:06:44,956 INFO Request is completed\n",
      "2023-05-19 20:06:45,310 INFO Welcome to the CDS\n",
      "2023-05-19 20:06:45,315 INFO Sending request to https://cds.climate.copernicus.eu/api/v2/resources/reanalysis-era5-pressure-levels\n",
      "2023-05-19 20:06:45,375 INFO Request is queued\n"
     ]
    },
    {
     "name": "stdout",
     "output_type": "stream",
     "text": [
      "329\n"
     ]
    },
    {
     "name": "stderr",
     "output_type": "stream",
     "text": [
      "2023-05-19 20:06:46,450 INFO Request is running\n",
      "2023-05-19 20:06:53,792 INFO Request is completed\n",
      "2023-05-19 20:06:54,268 INFO Welcome to the CDS\n",
      "2023-05-19 20:06:54,270 INFO Sending request to https://cds.climate.copernicus.eu/api/v2/resources/reanalysis-era5-pressure-levels\n",
      "2023-05-19 20:06:54,342 INFO Request is queued\n"
     ]
    },
    {
     "name": "stdout",
     "output_type": "stream",
     "text": [
      "330\n"
     ]
    },
    {
     "name": "stderr",
     "output_type": "stream",
     "text": [
      "2023-05-19 20:06:55,422 INFO Request is running\n",
      "2023-05-19 20:07:02,759 INFO Request is completed\n",
      "2023-05-19 20:07:03,109 INFO Welcome to the CDS\n",
      "2023-05-19 20:07:03,111 INFO Sending request to https://cds.climate.copernicus.eu/api/v2/resources/reanalysis-era5-pressure-levels\n",
      "2023-05-19 20:07:03,192 INFO Request is queued\n"
     ]
    },
    {
     "name": "stdout",
     "output_type": "stream",
     "text": [
      "331\n"
     ]
    },
    {
     "name": "stderr",
     "output_type": "stream",
     "text": [
      "2023-05-19 20:07:04,258 INFO Request is running\n",
      "2023-05-19 20:07:11,620 INFO Request is completed\n",
      "2023-05-19 20:07:11,955 INFO Welcome to the CDS\n",
      "2023-05-19 20:07:11,957 INFO Sending request to https://cds.climate.copernicus.eu/api/v2/resources/reanalysis-era5-pressure-levels\n",
      "2023-05-19 20:07:12,075 INFO Request is queued\n"
     ]
    },
    {
     "name": "stdout",
     "output_type": "stream",
     "text": [
      "332\n"
     ]
    },
    {
     "name": "stderr",
     "output_type": "stream",
     "text": [
      "2023-05-19 20:07:13,142 INFO Request is running\n",
      "2023-05-19 20:07:20,487 INFO Request is completed\n",
      "2023-05-19 20:07:20,865 INFO Welcome to the CDS\n",
      "2023-05-19 20:07:20,871 INFO Sending request to https://cds.climate.copernicus.eu/api/v2/resources/reanalysis-era5-pressure-levels\n",
      "2023-05-19 20:07:20,932 INFO Request is queued\n"
     ]
    },
    {
     "name": "stdout",
     "output_type": "stream",
     "text": [
      "333\n"
     ]
    },
    {
     "name": "stderr",
     "output_type": "stream",
     "text": [
      "2023-05-19 20:07:22,003 INFO Request is running\n",
      "2023-05-19 20:07:29,341 INFO Request is completed\n",
      "2023-05-19 20:07:29,687 INFO Welcome to the CDS\n",
      "2023-05-19 20:07:29,688 INFO Sending request to https://cds.climate.copernicus.eu/api/v2/resources/reanalysis-era5-pressure-levels\n",
      "2023-05-19 20:07:29,766 INFO Request is queued\n"
     ]
    },
    {
     "name": "stdout",
     "output_type": "stream",
     "text": [
      "334\n"
     ]
    },
    {
     "name": "stderr",
     "output_type": "stream",
     "text": [
      "2023-05-19 20:07:30,852 INFO Request is running\n",
      "2023-05-19 20:07:38,205 INFO Request is completed\n",
      "2023-05-19 20:07:38,580 INFO Welcome to the CDS\n",
      "2023-05-19 20:07:38,583 INFO Sending request to https://cds.climate.copernicus.eu/api/v2/resources/reanalysis-era5-pressure-levels\n",
      "2023-05-19 20:07:38,689 INFO Request is queued\n"
     ]
    },
    {
     "name": "stdout",
     "output_type": "stream",
     "text": [
      "335\n"
     ]
    },
    {
     "name": "stderr",
     "output_type": "stream",
     "text": [
      "2023-05-19 20:07:39,759 INFO Request is running\n",
      "2023-05-19 20:07:52,240 INFO Request is completed\n",
      "2023-05-19 20:07:52,579 INFO Welcome to the CDS\n",
      "2023-05-19 20:07:52,580 INFO Sending request to https://cds.climate.copernicus.eu/api/v2/resources/reanalysis-era5-pressure-levels\n",
      "2023-05-19 20:07:52,659 INFO Request is queued\n"
     ]
    },
    {
     "name": "stdout",
     "output_type": "stream",
     "text": [
      "336\n"
     ]
    },
    {
     "name": "stderr",
     "output_type": "stream",
     "text": [
      "2023-05-19 20:07:53,731 INFO Request is running\n",
      "2023-05-19 20:08:01,071 INFO Request is completed\n",
      "2023-05-19 20:08:01,589 INFO Welcome to the CDS\n",
      "2023-05-19 20:08:01,590 INFO Sending request to https://cds.climate.copernicus.eu/api/v2/resources/reanalysis-era5-pressure-levels\n",
      "2023-05-19 20:08:01,648 INFO Request is queued\n"
     ]
    },
    {
     "name": "stdout",
     "output_type": "stream",
     "text": [
      "337\n"
     ]
    },
    {
     "name": "stderr",
     "output_type": "stream",
     "text": [
      "2023-05-19 20:08:02,726 INFO Request is running\n",
      "2023-05-19 20:08:10,074 INFO Request is completed\n",
      "2023-05-19 20:08:10,429 INFO Welcome to the CDS\n",
      "2023-05-19 20:08:10,433 INFO Sending request to https://cds.climate.copernicus.eu/api/v2/resources/reanalysis-era5-pressure-levels\n",
      "2023-05-19 20:08:10,516 INFO Request is queued\n"
     ]
    },
    {
     "name": "stdout",
     "output_type": "stream",
     "text": [
      "338\n"
     ]
    },
    {
     "name": "stderr",
     "output_type": "stream",
     "text": [
      "2023-05-19 20:08:11,592 INFO Request is running\n",
      "2023-05-19 20:08:18,944 INFO Request is completed\n",
      "2023-05-19 20:08:19,431 INFO Welcome to the CDS\n",
      "2023-05-19 20:08:19,432 INFO Sending request to https://cds.climate.copernicus.eu/api/v2/resources/reanalysis-era5-pressure-levels\n",
      "2023-05-19 20:08:19,496 INFO Request is queued\n"
     ]
    },
    {
     "name": "stdout",
     "output_type": "stream",
     "text": [
      "339\n"
     ]
    },
    {
     "name": "stderr",
     "output_type": "stream",
     "text": [
      "2023-05-19 20:08:20,572 INFO Request is running\n",
      "2023-05-19 20:08:27,915 INFO Request is completed\n",
      "2023-05-19 20:08:28,391 INFO Welcome to the CDS\n",
      "2023-05-19 20:08:28,392 INFO Sending request to https://cds.climate.copernicus.eu/api/v2/resources/reanalysis-era5-pressure-levels\n",
      "2023-05-19 20:08:28,473 INFO Request is queued\n"
     ]
    },
    {
     "name": "stdout",
     "output_type": "stream",
     "text": [
      "340\n"
     ]
    },
    {
     "name": "stderr",
     "output_type": "stream",
     "text": [
      "2023-05-19 20:08:29,558 INFO Request is running\n",
      "2023-05-19 20:08:36,889 INFO Request is completed\n",
      "2023-05-19 20:08:37,366 INFO Welcome to the CDS\n",
      "2023-05-19 20:08:37,367 INFO Sending request to https://cds.climate.copernicus.eu/api/v2/resources/reanalysis-era5-pressure-levels\n",
      "2023-05-19 20:08:37,443 INFO Request is queued\n"
     ]
    },
    {
     "name": "stdout",
     "output_type": "stream",
     "text": [
      "341\n"
     ]
    },
    {
     "name": "stderr",
     "output_type": "stream",
     "text": [
      "2023-05-19 20:08:38,517 INFO Request is running\n",
      "2023-05-19 20:08:45,858 INFO Request is completed\n"
     ]
    },
    {
     "name": "stdout",
     "output_type": "stream",
     "text": [
      "342\n"
     ]
    },
    {
     "name": "stderr",
     "output_type": "stream",
     "text": [
      "2023-05-19 20:08:46,520 INFO Welcome to the CDS\n",
      "2023-05-19 20:08:46,521 INFO Sending request to https://cds.climate.copernicus.eu/api/v2/resources/reanalysis-era5-pressure-levels\n",
      "2023-05-19 20:08:46,580 INFO Request is queued\n",
      "2023-05-19 20:08:47,657 INFO Request is running\n",
      "2023-05-19 20:08:54,982 INFO Request is completed\n",
      "2023-05-19 20:08:55,341 INFO Welcome to the CDS\n",
      "2023-05-19 20:08:55,344 INFO Sending request to https://cds.climate.copernicus.eu/api/v2/resources/reanalysis-era5-pressure-levels\n",
      "2023-05-19 20:08:55,439 INFO Request is queued\n"
     ]
    },
    {
     "name": "stdout",
     "output_type": "stream",
     "text": [
      "343\n"
     ]
    },
    {
     "name": "stderr",
     "output_type": "stream",
     "text": [
      "2023-05-19 20:08:56,506 INFO Request is running\n",
      "2023-05-19 20:09:03,839 INFO Request is completed\n",
      "2023-05-19 20:09:04,301 INFO Welcome to the CDS\n",
      "2023-05-19 20:09:04,301 INFO Sending request to https://cds.climate.copernicus.eu/api/v2/resources/reanalysis-era5-pressure-levels\n",
      "2023-05-19 20:09:04,401 INFO Request is queued\n"
     ]
    },
    {
     "name": "stdout",
     "output_type": "stream",
     "text": [
      "344\n"
     ]
    },
    {
     "name": "stderr",
     "output_type": "stream",
     "text": [
      "2023-05-19 20:09:05,471 INFO Request is running\n",
      "2023-05-19 20:09:12,800 INFO Request is completed\n",
      "2023-05-19 20:09:13,141 INFO Welcome to the CDS\n",
      "2023-05-19 20:09:13,142 INFO Sending request to https://cds.climate.copernicus.eu/api/v2/resources/reanalysis-era5-pressure-levels\n",
      "2023-05-19 20:09:13,217 INFO Request is queued\n"
     ]
    },
    {
     "name": "stdout",
     "output_type": "stream",
     "text": [
      "345\n"
     ]
    },
    {
     "name": "stderr",
     "output_type": "stream",
     "text": [
      "2023-05-19 20:09:14,291 INFO Request is running\n",
      "2023-05-19 20:09:21,641 INFO Request is completed\n",
      "2023-05-19 20:09:22,008 INFO Welcome to the CDS\n",
      "2023-05-19 20:09:22,009 INFO Sending request to https://cds.climate.copernicus.eu/api/v2/resources/reanalysis-era5-pressure-levels\n",
      "2023-05-19 20:09:22,089 INFO Request is queued\n"
     ]
    },
    {
     "name": "stdout",
     "output_type": "stream",
     "text": [
      "346\n"
     ]
    },
    {
     "name": "stderr",
     "output_type": "stream",
     "text": [
      "2023-05-19 20:09:23,158 INFO Request is running\n",
      "2023-05-19 20:09:30,498 INFO Request is completed\n",
      "2023-05-19 20:09:30,834 INFO Welcome to the CDS\n",
      "2023-05-19 20:09:30,835 INFO Sending request to https://cds.climate.copernicus.eu/api/v2/resources/reanalysis-era5-pressure-levels\n",
      "2023-05-19 20:09:30,890 INFO Request is queued\n"
     ]
    },
    {
     "name": "stdout",
     "output_type": "stream",
     "text": [
      "347\n"
     ]
    },
    {
     "name": "stderr",
     "output_type": "stream",
     "text": [
      "2023-05-19 20:09:31,964 INFO Request is running\n",
      "2023-05-19 20:09:39,280 INFO Request is completed\n",
      "2023-05-19 20:09:39,613 INFO Welcome to the CDS\n",
      "2023-05-19 20:09:39,615 INFO Sending request to https://cds.climate.copernicus.eu/api/v2/resources/reanalysis-era5-pressure-levels\n",
      "2023-05-19 20:09:39,694 INFO Request is queued\n"
     ]
    },
    {
     "name": "stdout",
     "output_type": "stream",
     "text": [
      "348\n"
     ]
    },
    {
     "name": "stderr",
     "output_type": "stream",
     "text": [
      "2023-05-19 20:09:40,758 INFO Request is running\n",
      "2023-05-19 20:09:48,106 INFO Request is completed\n",
      "2023-05-19 20:09:48,448 INFO Welcome to the CDS\n",
      "2023-05-19 20:09:48,454 INFO Sending request to https://cds.climate.copernicus.eu/api/v2/resources/reanalysis-era5-pressure-levels\n",
      "2023-05-19 20:09:48,555 INFO Request is queued\n"
     ]
    },
    {
     "name": "stdout",
     "output_type": "stream",
     "text": [
      "349\n"
     ]
    },
    {
     "name": "stderr",
     "output_type": "stream",
     "text": [
      "2023-05-19 20:09:49,630 INFO Request is running\n",
      "2023-05-19 20:09:56,964 INFO Request is completed\n",
      "2023-05-19 20:09:57,305 INFO Welcome to the CDS\n",
      "2023-05-19 20:09:57,306 INFO Sending request to https://cds.climate.copernicus.eu/api/v2/resources/reanalysis-era5-pressure-levels\n",
      "2023-05-19 20:09:57,374 INFO Request is queued\n"
     ]
    },
    {
     "name": "stdout",
     "output_type": "stream",
     "text": [
      "350\n"
     ]
    },
    {
     "name": "stderr",
     "output_type": "stream",
     "text": [
      "2023-05-19 20:09:58,447 INFO Request is running\n",
      "2023-05-19 20:10:05,771 INFO Request is completed\n",
      "2023-05-19 20:10:06,124 INFO Welcome to the CDS\n",
      "2023-05-19 20:10:06,126 INFO Sending request to https://cds.climate.copernicus.eu/api/v2/resources/reanalysis-era5-pressure-levels\n",
      "2023-05-19 20:10:06,192 INFO Request is queued\n"
     ]
    },
    {
     "name": "stdout",
     "output_type": "stream",
     "text": [
      "351\n"
     ]
    },
    {
     "name": "stderr",
     "output_type": "stream",
     "text": [
      "2023-05-19 20:10:07,253 INFO Request is running\n",
      "2023-05-19 20:10:14,594 INFO Request is completed\n",
      "2023-05-19 20:10:14,929 INFO Welcome to the CDS\n",
      "2023-05-19 20:10:14,930 INFO Sending request to https://cds.climate.copernicus.eu/api/v2/resources/reanalysis-era5-pressure-levels\n",
      "2023-05-19 20:10:14,992 INFO Request is queued\n"
     ]
    },
    {
     "name": "stdout",
     "output_type": "stream",
     "text": [
      "352\n"
     ]
    },
    {
     "name": "stderr",
     "output_type": "stream",
     "text": [
      "2023-05-19 20:10:16,065 INFO Request is running\n",
      "2023-05-19 20:10:23,397 INFO Request is completed\n",
      "2023-05-19 20:10:23,757 INFO Welcome to the CDS\n",
      "2023-05-19 20:10:23,761 INFO Sending request to https://cds.climate.copernicus.eu/api/v2/resources/reanalysis-era5-pressure-levels\n",
      "2023-05-19 20:10:23,821 INFO Request is queued\n"
     ]
    },
    {
     "name": "stdout",
     "output_type": "stream",
     "text": [
      "353\n"
     ]
    },
    {
     "name": "stderr",
     "output_type": "stream",
     "text": [
      "2023-05-19 20:10:24,890 INFO Request is running\n",
      "2023-05-19 20:10:32,214 INFO Request is completed\n",
      "2023-05-19 20:10:32,563 INFO Welcome to the CDS\n",
      "2023-05-19 20:10:32,564 INFO Sending request to https://cds.climate.copernicus.eu/api/v2/resources/reanalysis-era5-pressure-levels\n",
      "2023-05-19 20:10:32,639 INFO Request is queued\n"
     ]
    },
    {
     "name": "stdout",
     "output_type": "stream",
     "text": [
      "354\n"
     ]
    },
    {
     "name": "stderr",
     "output_type": "stream",
     "text": [
      "2023-05-19 20:10:33,705 INFO Request is running\n",
      "2023-05-19 20:10:41,039 INFO Request is completed\n",
      "2023-05-19 20:10:41,387 INFO Welcome to the CDS\n",
      "2023-05-19 20:10:41,389 INFO Sending request to https://cds.climate.copernicus.eu/api/v2/resources/reanalysis-era5-pressure-levels\n",
      "2023-05-19 20:10:41,455 INFO Request is queued\n"
     ]
    },
    {
     "name": "stdout",
     "output_type": "stream",
     "text": [
      "355\n"
     ]
    },
    {
     "name": "stderr",
     "output_type": "stream",
     "text": [
      "2023-05-19 20:10:42,528 INFO Request is running\n",
      "2023-05-19 20:10:49,856 INFO Request is completed\n",
      "2023-05-19 20:10:50,210 INFO Welcome to the CDS\n",
      "2023-05-19 20:10:50,213 INFO Sending request to https://cds.climate.copernicus.eu/api/v2/resources/reanalysis-era5-pressure-levels\n",
      "2023-05-19 20:10:50,273 INFO Request is queued\n"
     ]
    },
    {
     "name": "stdout",
     "output_type": "stream",
     "text": [
      "356\n"
     ]
    },
    {
     "name": "stderr",
     "output_type": "stream",
     "text": [
      "2023-05-19 20:10:51,498 INFO Request is running\n",
      "2023-05-19 20:10:58,830 INFO Request is completed\n",
      "2023-05-19 20:10:59,336 INFO Welcome to the CDS\n",
      "2023-05-19 20:10:59,336 INFO Sending request to https://cds.climate.copernicus.eu/api/v2/resources/reanalysis-era5-pressure-levels\n",
      "2023-05-19 20:10:59,397 INFO Request is queued\n"
     ]
    },
    {
     "name": "stdout",
     "output_type": "stream",
     "text": [
      "357\n"
     ]
    },
    {
     "name": "stderr",
     "output_type": "stream",
     "text": [
      "2023-05-19 20:11:00,462 INFO Request is running\n",
      "2023-05-19 20:11:07,790 INFO Request is completed\n",
      "2023-05-19 20:11:08,121 INFO Welcome to the CDS\n",
      "2023-05-19 20:11:08,122 INFO Sending request to https://cds.climate.copernicus.eu/api/v2/resources/reanalysis-era5-pressure-levels\n",
      "2023-05-19 20:11:08,228 INFO Request is queued\n"
     ]
    },
    {
     "name": "stdout",
     "output_type": "stream",
     "text": [
      "358\n"
     ]
    },
    {
     "name": "stderr",
     "output_type": "stream",
     "text": [
      "2023-05-19 20:11:09,302 INFO Request is running\n",
      "2023-05-19 20:11:21,802 INFO Request is completed\n",
      "2023-05-19 20:11:22,167 INFO Welcome to the CDS\n",
      "2023-05-19 20:11:22,168 INFO Sending request to https://cds.climate.copernicus.eu/api/v2/resources/reanalysis-era5-pressure-levels\n",
      "2023-05-19 20:11:22,240 INFO Request is queued\n"
     ]
    },
    {
     "name": "stdout",
     "output_type": "stream",
     "text": [
      "359\n"
     ]
    },
    {
     "name": "stderr",
     "output_type": "stream",
     "text": [
      "2023-05-19 20:11:23,300 INFO Request is running\n",
      "2023-05-19 20:11:27,257 INFO Request is completed\n",
      "2023-05-19 20:11:27,698 INFO Welcome to the CDS\n",
      "2023-05-19 20:11:27,699 INFO Sending request to https://cds.climate.copernicus.eu/api/v2/resources/reanalysis-era5-pressure-levels\n",
      "2023-05-19 20:11:27,757 INFO Request is queued\n"
     ]
    },
    {
     "name": "stdout",
     "output_type": "stream",
     "text": [
      "360\n"
     ]
    },
    {
     "name": "stderr",
     "output_type": "stream",
     "text": [
      "2023-05-19 20:11:28,818 INFO Request is running\n",
      "2023-05-19 20:11:36,143 INFO Request is completed\n",
      "2023-05-19 20:11:36,732 INFO Welcome to the CDS\n",
      "2023-05-19 20:11:36,733 INFO Sending request to https://cds.climate.copernicus.eu/api/v2/resources/reanalysis-era5-pressure-levels\n",
      "2023-05-19 20:11:36,796 INFO Request is queued\n"
     ]
    },
    {
     "name": "stdout",
     "output_type": "stream",
     "text": [
      "361\n"
     ]
    },
    {
     "name": "stderr",
     "output_type": "stream",
     "text": [
      "2023-05-19 20:11:37,870 INFO Request is running\n",
      "2023-05-19 20:11:45,221 INFO Request is completed\n",
      "2023-05-19 20:11:45,778 INFO Welcome to the CDS\n",
      "2023-05-19 20:11:45,780 INFO Sending request to https://cds.climate.copernicus.eu/api/v2/resources/reanalysis-era5-pressure-levels\n",
      "2023-05-19 20:11:45,856 INFO Request is queued\n"
     ]
    },
    {
     "name": "stdout",
     "output_type": "stream",
     "text": [
      "362\n"
     ]
    },
    {
     "name": "stderr",
     "output_type": "stream",
     "text": [
      "2023-05-19 20:11:46,922 INFO Request is running\n",
      "2023-05-19 20:11:59,386 INFO Request is completed\n",
      "2023-05-19 20:12:00,111 INFO Welcome to the CDS\n",
      "2023-05-19 20:12:00,113 INFO Sending request to https://cds.climate.copernicus.eu/api/v2/resources/reanalysis-era5-pressure-levels\n",
      "2023-05-19 20:12:00,180 INFO Request is queued\n"
     ]
    },
    {
     "name": "stdout",
     "output_type": "stream",
     "text": [
      "363\n"
     ]
    },
    {
     "name": "stderr",
     "output_type": "stream",
     "text": [
      "2023-05-19 20:12:01,245 INFO Request is running\n",
      "2023-05-19 20:12:08,587 INFO Request is completed\n",
      "2023-05-19 20:12:09,039 INFO Welcome to the CDS\n",
      "2023-05-19 20:12:09,044 INFO Sending request to https://cds.climate.copernicus.eu/api/v2/resources/reanalysis-era5-pressure-levels\n",
      "2023-05-19 20:12:09,129 INFO Request is queued\n"
     ]
    },
    {
     "name": "stdout",
     "output_type": "stream",
     "text": [
      "364\n"
     ]
    },
    {
     "name": "stderr",
     "output_type": "stream",
     "text": [
      "2023-05-19 20:12:10,211 INFO Request is running\n",
      "2023-05-19 20:12:17,551 INFO Request is completed\n",
      "2023-05-19 20:12:18,000 INFO Welcome to the CDS\n",
      "2023-05-19 20:12:18,001 INFO Sending request to https://cds.climate.copernicus.eu/api/v2/resources/reanalysis-era5-pressure-levels\n",
      "2023-05-19 20:12:18,075 INFO Request is queued\n"
     ]
    },
    {
     "name": "stdout",
     "output_type": "stream",
     "text": [
      "365\n"
     ]
    },
    {
     "name": "stderr",
     "output_type": "stream",
     "text": [
      "2023-05-19 20:12:19,169 INFO Request is running\n",
      "2023-05-19 20:12:26,644 INFO Request is completed\n",
      "2023-05-19 20:12:26,955 INFO Welcome to the CDS\n",
      "2023-05-19 20:12:26,957 INFO Sending request to https://cds.climate.copernicus.eu/api/v2/resources/reanalysis-era5-pressure-levels\n",
      "2023-05-19 20:12:27,021 INFO Request is queued\n"
     ]
    },
    {
     "name": "stdout",
     "output_type": "stream",
     "text": [
      "366\n"
     ]
    },
    {
     "name": "stderr",
     "output_type": "stream",
     "text": [
      "2023-05-19 20:12:28,093 INFO Request is running\n",
      "2023-05-19 20:12:35,417 INFO Request is completed\n",
      "2023-05-19 20:12:35,741 INFO Welcome to the CDS\n",
      "2023-05-19 20:12:35,743 INFO Sending request to https://cds.climate.copernicus.eu/api/v2/resources/reanalysis-era5-pressure-levels\n",
      "2023-05-19 20:12:35,808 INFO Request is queued\n"
     ]
    },
    {
     "name": "stdout",
     "output_type": "stream",
     "text": [
      "367\n"
     ]
    },
    {
     "name": "stderr",
     "output_type": "stream",
     "text": [
      "2023-05-19 20:12:36,882 INFO Request is running\n",
      "2023-05-19 20:12:44,232 INFO Request is completed\n",
      "2023-05-19 20:12:44,598 INFO Welcome to the CDS\n",
      "2023-05-19 20:12:44,599 INFO Sending request to https://cds.climate.copernicus.eu/api/v2/resources/reanalysis-era5-pressure-levels\n",
      "2023-05-19 20:12:44,673 INFO Request is queued\n"
     ]
    },
    {
     "name": "stdout",
     "output_type": "stream",
     "text": [
      "368\n"
     ]
    },
    {
     "name": "stderr",
     "output_type": "stream",
     "text": [
      "2023-05-19 20:12:45,741 INFO Request is running\n",
      "2023-05-19 20:12:53,085 INFO Request is completed\n",
      "2023-05-19 20:12:53,440 INFO Welcome to the CDS\n",
      "2023-05-19 20:12:53,442 INFO Sending request to https://cds.climate.copernicus.eu/api/v2/resources/reanalysis-era5-pressure-levels\n",
      "2023-05-19 20:12:53,503 INFO Request is queued\n"
     ]
    },
    {
     "name": "stdout",
     "output_type": "stream",
     "text": [
      "369\n"
     ]
    },
    {
     "name": "stderr",
     "output_type": "stream",
     "text": [
      "2023-05-19 20:12:54,573 INFO Request is running\n",
      "2023-05-19 20:13:01,915 INFO Request is completed\n",
      "2023-05-19 20:13:02,240 INFO Welcome to the CDS\n",
      "2023-05-19 20:13:02,242 INFO Sending request to https://cds.climate.copernicus.eu/api/v2/resources/reanalysis-era5-pressure-levels\n",
      "2023-05-19 20:13:02,316 INFO Request is queued\n"
     ]
    },
    {
     "name": "stdout",
     "output_type": "stream",
     "text": [
      "370\n"
     ]
    },
    {
     "name": "stderr",
     "output_type": "stream",
     "text": [
      "2023-05-19 20:13:03,391 INFO Request is running\n",
      "2023-05-19 20:13:10,914 INFO Request is completed\n",
      "2023-05-19 20:13:11,242 INFO Welcome to the CDS\n",
      "2023-05-19 20:13:11,243 INFO Sending request to https://cds.climate.copernicus.eu/api/v2/resources/reanalysis-era5-pressure-levels\n",
      "2023-05-19 20:13:11,316 INFO Request is queued\n"
     ]
    },
    {
     "name": "stdout",
     "output_type": "stream",
     "text": [
      "371\n"
     ]
    },
    {
     "name": "stderr",
     "output_type": "stream",
     "text": [
      "2023-05-19 20:13:12,391 INFO Request is running\n",
      "2023-05-19 20:13:19,742 INFO Request is completed\n",
      "2023-05-19 20:13:20,190 INFO Welcome to the CDS\n",
      "2023-05-19 20:13:20,191 INFO Sending request to https://cds.climate.copernicus.eu/api/v2/resources/reanalysis-era5-pressure-levels\n",
      "2023-05-19 20:13:20,249 INFO Request is queued\n"
     ]
    },
    {
     "name": "stdout",
     "output_type": "stream",
     "text": [
      "372\n"
     ]
    },
    {
     "name": "stderr",
     "output_type": "stream",
     "text": [
      "2023-05-19 20:13:21,324 INFO Request is running\n",
      "2023-05-19 20:13:28,673 INFO Request is completed\n",
      "2023-05-19 20:13:29,232 INFO Welcome to the CDS\n",
      "2023-05-19 20:13:29,233 INFO Sending request to https://cds.climate.copernicus.eu/api/v2/resources/reanalysis-era5-pressure-levels\n",
      "2023-05-19 20:13:29,317 INFO Request is queued\n"
     ]
    },
    {
     "name": "stdout",
     "output_type": "stream",
     "text": [
      "373\n"
     ]
    },
    {
     "name": "stderr",
     "output_type": "stream",
     "text": [
      "2023-05-19 20:13:30,379 INFO Request is running\n",
      "2023-05-19 20:13:37,737 INFO Request is completed\n",
      "2023-05-19 20:13:38,207 INFO Welcome to the CDS\n",
      "2023-05-19 20:13:38,209 INFO Sending request to https://cds.climate.copernicus.eu/api/v2/resources/reanalysis-era5-pressure-levels\n",
      "2023-05-19 20:13:38,280 INFO Request is queued\n"
     ]
    },
    {
     "name": "stdout",
     "output_type": "stream",
     "text": [
      "374\n"
     ]
    },
    {
     "name": "stderr",
     "output_type": "stream",
     "text": [
      "2023-05-19 20:13:39,358 INFO Request is running\n",
      "2023-05-19 20:13:46,707 INFO Request is completed\n",
      "2023-05-19 20:13:47,191 INFO Welcome to the CDS\n",
      "2023-05-19 20:13:47,192 INFO Sending request to https://cds.climate.copernicus.eu/api/v2/resources/reanalysis-era5-pressure-levels\n",
      "2023-05-19 20:13:47,258 INFO Request is queued\n"
     ]
    },
    {
     "name": "stdout",
     "output_type": "stream",
     "text": [
      "375\n"
     ]
    },
    {
     "name": "stderr",
     "output_type": "stream",
     "text": [
      "2023-05-19 20:13:48,332 INFO Request is running\n",
      "2023-05-19 20:13:55,679 INFO Request is completed\n",
      "2023-05-19 20:13:56,048 INFO Welcome to the CDS\n",
      "2023-05-19 20:13:56,049 INFO Sending request to https://cds.climate.copernicus.eu/api/v2/resources/reanalysis-era5-pressure-levels\n",
      "2023-05-19 20:13:56,123 INFO Request is queued\n"
     ]
    },
    {
     "name": "stdout",
     "output_type": "stream",
     "text": [
      "376\n"
     ]
    },
    {
     "name": "stderr",
     "output_type": "stream",
     "text": [
      "2023-05-19 20:13:57,186 INFO Request is running\n",
      "2023-05-19 20:14:09,665 INFO Request is completed\n",
      "2023-05-19 20:14:10,224 INFO Welcome to the CDS\n",
      "2023-05-19 20:14:10,225 INFO Sending request to https://cds.climate.copernicus.eu/api/v2/resources/reanalysis-era5-pressure-levels\n",
      "2023-05-19 20:14:10,297 INFO Request is queued\n"
     ]
    },
    {
     "name": "stdout",
     "output_type": "stream",
     "text": [
      "377\n"
     ]
    },
    {
     "name": "stderr",
     "output_type": "stream",
     "text": [
      "2023-05-19 20:14:11,381 INFO Request is running\n",
      "2023-05-19 20:14:18,733 INFO Request is completed\n",
      "2023-05-19 20:14:19,117 INFO Welcome to the CDS\n",
      "2023-05-19 20:14:19,118 INFO Sending request to https://cds.climate.copernicus.eu/api/v2/resources/reanalysis-era5-pressure-levels\n",
      "2023-05-19 20:14:19,186 INFO Request is queued\n"
     ]
    },
    {
     "name": "stdout",
     "output_type": "stream",
     "text": [
      "378\n"
     ]
    },
    {
     "name": "stderr",
     "output_type": "stream",
     "text": [
      "2023-05-19 20:14:20,264 INFO Request is running\n",
      "2023-05-19 20:14:27,628 INFO Request is completed\n",
      "2023-05-19 20:14:27,996 INFO Welcome to the CDS\n",
      "2023-05-19 20:14:27,997 INFO Sending request to https://cds.climate.copernicus.eu/api/v2/resources/reanalysis-era5-pressure-levels\n",
      "2023-05-19 20:14:28,111 INFO Request is queued\n"
     ]
    },
    {
     "name": "stdout",
     "output_type": "stream",
     "text": [
      "379\n"
     ]
    },
    {
     "name": "stderr",
     "output_type": "stream",
     "text": [
      "2023-05-19 20:14:29,184 INFO Request is running\n",
      "2023-05-19 20:14:36,509 INFO Request is completed\n",
      "2023-05-19 20:14:36,991 INFO Welcome to the CDS\n",
      "2023-05-19 20:14:36,992 INFO Sending request to https://cds.climate.copernicus.eu/api/v2/resources/reanalysis-era5-pressure-levels\n",
      "2023-05-19 20:14:37,072 INFO Request is queued\n"
     ]
    },
    {
     "name": "stdout",
     "output_type": "stream",
     "text": [
      "380\n"
     ]
    },
    {
     "name": "stderr",
     "output_type": "stream",
     "text": [
      "2023-05-19 20:14:38,140 INFO Request is running\n",
      "2023-05-19 20:14:45,489 INFO Request is completed\n",
      "2023-05-19 20:14:45,805 INFO Welcome to the CDS\n",
      "2023-05-19 20:14:45,806 INFO Sending request to https://cds.climate.copernicus.eu/api/v2/resources/reanalysis-era5-pressure-levels\n",
      "2023-05-19 20:14:45,875 INFO Request is queued\n"
     ]
    },
    {
     "name": "stdout",
     "output_type": "stream",
     "text": [
      "381\n"
     ]
    },
    {
     "name": "stderr",
     "output_type": "stream",
     "text": [
      "2023-05-19 20:14:46,935 INFO Request is running\n",
      "2023-05-19 20:14:54,237 INFO Request is completed\n",
      "2023-05-19 20:14:54,567 INFO Welcome to the CDS\n",
      "2023-05-19 20:14:54,567 INFO Sending request to https://cds.climate.copernicus.eu/api/v2/resources/reanalysis-era5-pressure-levels\n",
      "2023-05-19 20:14:54,625 INFO Request is queued\n"
     ]
    },
    {
     "name": "stdout",
     "output_type": "stream",
     "text": [
      "382\n"
     ]
    },
    {
     "name": "stderr",
     "output_type": "stream",
     "text": [
      "2023-05-19 20:14:55,682 INFO Request is running\n",
      "2023-05-19 20:15:03,017 INFO Request is completed\n",
      "2023-05-19 20:15:03,367 INFO Welcome to the CDS\n",
      "2023-05-19 20:15:03,368 INFO Sending request to https://cds.climate.copernicus.eu/api/v2/resources/reanalysis-era5-pressure-levels\n",
      "2023-05-19 20:15:03,425 INFO Request is queued\n"
     ]
    },
    {
     "name": "stdout",
     "output_type": "stream",
     "text": [
      "383\n"
     ]
    },
    {
     "name": "stderr",
     "output_type": "stream",
     "text": [
      "2023-05-19 20:15:04,487 INFO Request is running\n",
      "2023-05-19 20:15:11,799 INFO Request is completed\n",
      "2023-05-19 20:15:12,132 INFO Welcome to the CDS\n",
      "2023-05-19 20:15:12,134 INFO Sending request to https://cds.climate.copernicus.eu/api/v2/resources/reanalysis-era5-pressure-levels\n",
      "2023-05-19 20:15:12,209 INFO Request is queued\n"
     ]
    },
    {
     "name": "stdout",
     "output_type": "stream",
     "text": [
      "384\n"
     ]
    },
    {
     "name": "stderr",
     "output_type": "stream",
     "text": [
      "2023-05-19 20:15:13,276 INFO Request is running\n",
      "2023-05-19 20:15:20,745 INFO Request is completed\n",
      "2023-05-19 20:15:21,092 INFO Welcome to the CDS\n",
      "2023-05-19 20:15:21,093 INFO Sending request to https://cds.climate.copernicus.eu/api/v2/resources/reanalysis-era5-pressure-levels\n",
      "2023-05-19 20:15:21,159 INFO Request is queued\n"
     ]
    },
    {
     "name": "stdout",
     "output_type": "stream",
     "text": [
      "385\n"
     ]
    },
    {
     "name": "stderr",
     "output_type": "stream",
     "text": [
      "2023-05-19 20:15:22,223 INFO Request is running\n",
      "2023-05-19 20:15:29,531 INFO Request is completed\n",
      "2023-05-19 20:15:30,007 INFO Welcome to the CDS\n",
      "2023-05-19 20:15:30,009 INFO Sending request to https://cds.climate.copernicus.eu/api/v2/resources/reanalysis-era5-pressure-levels\n",
      "2023-05-19 20:15:30,080 INFO Request is queued\n"
     ]
    },
    {
     "name": "stdout",
     "output_type": "stream",
     "text": [
      "386\n"
     ]
    },
    {
     "name": "stderr",
     "output_type": "stream",
     "text": [
      "2023-05-19 20:15:31,146 INFO Request is running\n",
      "2023-05-19 20:15:38,450 INFO Request is completed\n",
      "2023-05-19 20:15:38,801 INFO Welcome to the CDS\n",
      "2023-05-19 20:15:38,805 INFO Sending request to https://cds.climate.copernicus.eu/api/v2/resources/reanalysis-era5-pressure-levels\n",
      "2023-05-19 20:15:38,859 INFO Request is queued\n"
     ]
    },
    {
     "name": "stdout",
     "output_type": "stream",
     "text": [
      "387\n"
     ]
    },
    {
     "name": "stderr",
     "output_type": "stream",
     "text": [
      "2023-05-19 20:15:39,917 INFO Request is running\n",
      "2023-05-19 20:15:47,244 INFO Request is completed\n",
      "2023-05-19 20:15:47,579 INFO Welcome to the CDS\n",
      "2023-05-19 20:15:47,580 INFO Sending request to https://cds.climate.copernicus.eu/api/v2/resources/reanalysis-era5-pressure-levels\n",
      "2023-05-19 20:15:47,636 INFO Request is queued\n"
     ]
    },
    {
     "name": "stdout",
     "output_type": "stream",
     "text": [
      "388\n"
     ]
    },
    {
     "name": "stderr",
     "output_type": "stream",
     "text": [
      "2023-05-19 20:15:48,703 INFO Request is running\n",
      "2023-05-19 20:15:56,027 INFO Request is completed\n",
      "2023-05-19 20:15:56,354 INFO Welcome to the CDS\n",
      "2023-05-19 20:15:56,359 INFO Sending request to https://cds.climate.copernicus.eu/api/v2/resources/reanalysis-era5-pressure-levels\n",
      "2023-05-19 20:15:56,446 INFO Request is queued\n"
     ]
    },
    {
     "name": "stdout",
     "output_type": "stream",
     "text": [
      "389\n"
     ]
    },
    {
     "name": "stderr",
     "output_type": "stream",
     "text": [
      "2023-05-19 20:15:57,510 INFO Request is running\n",
      "2023-05-19 20:16:01,385 INFO Request is completed\n",
      "2023-05-19 20:16:01,842 INFO Welcome to the CDS\n",
      "2023-05-19 20:16:01,844 INFO Sending request to https://cds.climate.copernicus.eu/api/v2/resources/reanalysis-era5-pressure-levels\n",
      "2023-05-19 20:16:01,903 INFO Request is queued\n"
     ]
    },
    {
     "name": "stdout",
     "output_type": "stream",
     "text": [
      "390\n"
     ]
    },
    {
     "name": "stderr",
     "output_type": "stream",
     "text": [
      "2023-05-19 20:16:02,970 INFO Request is running\n",
      "2023-05-19 20:16:10,301 INFO Request is completed\n",
      "2023-05-19 20:16:10,676 INFO Welcome to the CDS\n",
      "2023-05-19 20:16:10,678 INFO Sending request to https://cds.climate.copernicus.eu/api/v2/resources/reanalysis-era5-pressure-levels\n",
      "2023-05-19 20:16:10,746 INFO Request is queued\n"
     ]
    },
    {
     "name": "stdout",
     "output_type": "stream",
     "text": [
      "391\n"
     ]
    },
    {
     "name": "stderr",
     "output_type": "stream",
     "text": [
      "2023-05-19 20:16:11,811 INFO Request is running\n",
      "2023-05-19 20:16:19,143 INFO Request is completed\n",
      "2023-05-19 20:16:19,613 INFO Welcome to the CDS\n",
      "2023-05-19 20:16:19,619 INFO Sending request to https://cds.climate.copernicus.eu/api/v2/resources/reanalysis-era5-pressure-levels\n",
      "2023-05-19 20:16:19,678 INFO Request is queued\n"
     ]
    },
    {
     "name": "stdout",
     "output_type": "stream",
     "text": [
      "392\n"
     ]
    },
    {
     "name": "stderr",
     "output_type": "stream",
     "text": [
      "2023-05-19 20:16:20,743 INFO Request is running\n",
      "2023-05-19 20:16:28,071 INFO Request is completed\n",
      "2023-05-19 20:16:28,405 INFO Welcome to the CDS\n",
      "2023-05-19 20:16:28,408 INFO Sending request to https://cds.climate.copernicus.eu/api/v2/resources/reanalysis-era5-pressure-levels\n",
      "2023-05-19 20:16:28,467 INFO Request is queued\n"
     ]
    },
    {
     "name": "stdout",
     "output_type": "stream",
     "text": [
      "393\n"
     ]
    },
    {
     "name": "stderr",
     "output_type": "stream",
     "text": [
      "2023-05-19 20:16:29,526 INFO Request is running\n",
      "2023-05-19 20:16:36,837 INFO Request is completed\n",
      "2023-05-19 20:16:37,301 INFO Welcome to the CDS\n",
      "2023-05-19 20:16:37,302 INFO Sending request to https://cds.climate.copernicus.eu/api/v2/resources/reanalysis-era5-pressure-levels\n",
      "2023-05-19 20:16:37,375 INFO Request is queued\n"
     ]
    },
    {
     "name": "stdout",
     "output_type": "stream",
     "text": [
      "394\n"
     ]
    },
    {
     "name": "stderr",
     "output_type": "stream",
     "text": [
      "2023-05-19 20:16:38,437 INFO Request is running\n",
      "2023-05-19 20:16:45,770 INFO Request is completed\n",
      "2023-05-19 20:16:46,117 INFO Welcome to the CDS\n",
      "2023-05-19 20:16:46,119 INFO Sending request to https://cds.climate.copernicus.eu/api/v2/resources/reanalysis-era5-pressure-levels\n",
      "2023-05-19 20:16:46,176 INFO Request is queued\n"
     ]
    },
    {
     "name": "stdout",
     "output_type": "stream",
     "text": [
      "395\n"
     ]
    },
    {
     "name": "stderr",
     "output_type": "stream",
     "text": [
      "2023-05-19 20:16:47,244 INFO Request is running\n",
      "2023-05-19 20:16:54,561 INFO Request is completed\n",
      "2023-05-19 20:16:55,021 INFO Welcome to the CDS\n",
      "2023-05-19 20:16:55,026 INFO Sending request to https://cds.climate.copernicus.eu/api/v2/resources/reanalysis-era5-pressure-levels\n",
      "2023-05-19 20:16:55,079 INFO Request is queued\n"
     ]
    },
    {
     "name": "stdout",
     "output_type": "stream",
     "text": [
      "396\n"
     ]
    },
    {
     "name": "stderr",
     "output_type": "stream",
     "text": [
      "2023-05-19 20:16:56,144 INFO Request is running\n",
      "2023-05-19 20:17:03,451 INFO Request is completed\n",
      "2023-05-19 20:17:03,795 INFO Welcome to the CDS\n",
      "2023-05-19 20:17:03,797 INFO Sending request to https://cds.climate.copernicus.eu/api/v2/resources/reanalysis-era5-pressure-levels\n",
      "2023-05-19 20:17:03,853 INFO Request is queued\n"
     ]
    },
    {
     "name": "stdout",
     "output_type": "stream",
     "text": [
      "397\n"
     ]
    },
    {
     "name": "stderr",
     "output_type": "stream",
     "text": [
      "2023-05-19 20:17:04,919 INFO Request is running\n",
      "2023-05-19 20:17:12,235 INFO Request is completed\n",
      "2023-05-19 20:17:12,555 INFO Welcome to the CDS\n",
      "2023-05-19 20:17:12,558 INFO Sending request to https://cds.climate.copernicus.eu/api/v2/resources/reanalysis-era5-pressure-levels\n",
      "2023-05-19 20:17:12,627 INFO Request is queued\n"
     ]
    },
    {
     "name": "stdout",
     "output_type": "stream",
     "text": [
      "398\n"
     ]
    },
    {
     "name": "stderr",
     "output_type": "stream",
     "text": [
      "2023-05-19 20:17:13,693 INFO Request is running\n",
      "2023-05-19 20:17:26,135 INFO Request is completed\n",
      "2023-05-19 20:17:26,663 INFO Welcome to the CDS\n",
      "2023-05-19 20:17:26,667 INFO Sending request to https://cds.climate.copernicus.eu/api/v2/resources/reanalysis-era5-pressure-levels\n",
      "2023-05-19 20:17:26,728 INFO Request is queued\n"
     ]
    },
    {
     "name": "stdout",
     "output_type": "stream",
     "text": [
      "399\n"
     ]
    },
    {
     "name": "stderr",
     "output_type": "stream",
     "text": [
      "2023-05-19 20:17:27,796 INFO Request is running\n",
      "2023-05-19 20:17:35,118 INFO Request is completed\n",
      "2023-05-19 20:17:35,462 INFO Welcome to the CDS\n",
      "2023-05-19 20:17:35,464 INFO Sending request to https://cds.climate.copernicus.eu/api/v2/resources/reanalysis-era5-pressure-levels\n",
      "2023-05-19 20:17:35,554 INFO Request is queued\n"
     ]
    },
    {
     "name": "stdout",
     "output_type": "stream",
     "text": [
      "400\n"
     ]
    },
    {
     "name": "stderr",
     "output_type": "stream",
     "text": [
      "2023-05-19 20:17:36,616 INFO Request is running\n",
      "2023-05-19 20:17:43,937 INFO Request is completed\n",
      "2023-05-19 20:17:44,409 INFO Welcome to the CDS\n",
      "2023-05-19 20:17:44,410 INFO Sending request to https://cds.climate.copernicus.eu/api/v2/resources/reanalysis-era5-pressure-levels\n",
      "2023-05-19 20:17:44,484 INFO Request is queued\n"
     ]
    },
    {
     "name": "stdout",
     "output_type": "stream",
     "text": [
      "401\n"
     ]
    },
    {
     "name": "stderr",
     "output_type": "stream",
     "text": [
      "2023-05-19 20:17:45,552 INFO Request is running\n",
      "2023-05-19 20:17:52,876 INFO Request is completed\n",
      "2023-05-19 20:17:53,344 INFO Welcome to the CDS\n",
      "2023-05-19 20:17:53,346 INFO Sending request to https://cds.climate.copernicus.eu/api/v2/resources/reanalysis-era5-pressure-levels\n",
      "2023-05-19 20:17:53,435 INFO Request is queued\n"
     ]
    },
    {
     "name": "stdout",
     "output_type": "stream",
     "text": [
      "402\n"
     ]
    },
    {
     "name": "stderr",
     "output_type": "stream",
     "text": [
      "2023-05-19 20:17:54,502 INFO Request is running\n",
      "2023-05-19 20:18:01,818 INFO Request is completed\n",
      "2023-05-19 20:18:02,185 INFO Welcome to the CDS\n",
      "2023-05-19 20:18:02,187 INFO Sending request to https://cds.climate.copernicus.eu/api/v2/resources/reanalysis-era5-pressure-levels\n",
      "2023-05-19 20:18:02,252 INFO Request is queued\n"
     ]
    },
    {
     "name": "stdout",
     "output_type": "stream",
     "text": [
      "403\n"
     ]
    },
    {
     "name": "stderr",
     "output_type": "stream",
     "text": [
      "2023-05-19 20:18:03,319 INFO Request is running\n",
      "2023-05-19 20:18:10,636 INFO Request is completed\n",
      "2023-05-19 20:18:10,988 INFO Welcome to the CDS\n",
      "2023-05-19 20:18:10,989 INFO Sending request to https://cds.climate.copernicus.eu/api/v2/resources/reanalysis-era5-pressure-levels\n",
      "2023-05-19 20:18:11,050 INFO Request is queued\n"
     ]
    },
    {
     "name": "stdout",
     "output_type": "stream",
     "text": [
      "404\n"
     ]
    },
    {
     "name": "stderr",
     "output_type": "stream",
     "text": [
      "2023-05-19 20:18:12,119 INFO Request is running\n",
      "2023-05-19 20:18:19,429 INFO Request is completed\n",
      "2023-05-19 20:18:19,887 INFO Welcome to the CDS\n",
      "2023-05-19 20:18:19,888 INFO Sending request to https://cds.climate.copernicus.eu/api/v2/resources/reanalysis-era5-pressure-levels\n",
      "2023-05-19 20:18:19,944 INFO Request is queued\n"
     ]
    },
    {
     "name": "stdout",
     "output_type": "stream",
     "text": [
      "405\n"
     ]
    },
    {
     "name": "stderr",
     "output_type": "stream",
     "text": [
      "2023-05-19 20:18:21,013 INFO Request is running\n",
      "2023-05-19 20:18:28,329 INFO Request is completed\n",
      "2023-05-19 20:18:28,643 INFO Welcome to the CDS\n",
      "2023-05-19 20:18:28,644 INFO Sending request to https://cds.climate.copernicus.eu/api/v2/resources/reanalysis-era5-pressure-levels\n",
      "2023-05-19 20:18:28,716 INFO Request is queued\n"
     ]
    },
    {
     "name": "stdout",
     "output_type": "stream",
     "text": [
      "406\n"
     ]
    },
    {
     "name": "stderr",
     "output_type": "stream",
     "text": [
      "2023-05-19 20:18:29,784 INFO Request is running\n",
      "2023-05-19 20:18:37,095 INFO Request is completed\n",
      "2023-05-19 20:18:37,428 INFO Welcome to the CDS\n",
      "2023-05-19 20:18:37,430 INFO Sending request to https://cds.climate.copernicus.eu/api/v2/resources/reanalysis-era5-pressure-levels\n",
      "2023-05-19 20:18:37,492 INFO Request is queued\n"
     ]
    },
    {
     "name": "stdout",
     "output_type": "stream",
     "text": [
      "407\n"
     ]
    },
    {
     "name": "stderr",
     "output_type": "stream",
     "text": [
      "2023-05-19 20:18:38,563 INFO Request is running\n",
      "2023-05-19 20:18:46,009 INFO Request is completed\n",
      "2023-05-19 20:18:46,338 INFO Welcome to the CDS\n",
      "2023-05-19 20:18:46,340 INFO Sending request to https://cds.climate.copernicus.eu/api/v2/resources/reanalysis-era5-pressure-levels\n",
      "2023-05-19 20:18:46,438 INFO Request is queued\n"
     ]
    },
    {
     "name": "stdout",
     "output_type": "stream",
     "text": [
      "408\n"
     ]
    },
    {
     "name": "stderr",
     "output_type": "stream",
     "text": [
      "2023-05-19 20:18:47,505 INFO Request is running\n",
      "2023-05-19 20:18:54,836 INFO Request is completed\n",
      "2023-05-19 20:18:55,161 INFO Welcome to the CDS\n",
      "2023-05-19 20:18:55,163 INFO Sending request to https://cds.climate.copernicus.eu/api/v2/resources/reanalysis-era5-pressure-levels\n",
      "2023-05-19 20:18:55,224 INFO Request is queued\n"
     ]
    },
    {
     "name": "stdout",
     "output_type": "stream",
     "text": [
      "409\n"
     ]
    },
    {
     "name": "stderr",
     "output_type": "stream",
     "text": [
      "2023-05-19 20:18:56,286 INFO Request is running\n",
      "2023-05-19 20:19:03,600 INFO Request is completed\n",
      "2023-05-19 20:19:04,186 INFO Welcome to the CDS\n",
      "2023-05-19 20:19:04,188 INFO Sending request to https://cds.climate.copernicus.eu/api/v2/resources/reanalysis-era5-pressure-levels\n",
      "2023-05-19 20:19:04,252 INFO Request is queued\n"
     ]
    },
    {
     "name": "stdout",
     "output_type": "stream",
     "text": [
      "410\n"
     ]
    },
    {
     "name": "stderr",
     "output_type": "stream",
     "text": [
      "2023-05-19 20:19:05,319 INFO Request is running\n",
      "2023-05-19 20:19:12,882 INFO Request is completed\n",
      "2023-05-19 20:19:13,465 INFO Welcome to the CDS\n",
      "2023-05-19 20:19:13,480 INFO Sending request to https://cds.climate.copernicus.eu/api/v2/resources/reanalysis-era5-pressure-levels\n",
      "2023-05-19 20:19:13,574 INFO Request is queued\n"
     ]
    },
    {
     "name": "stdout",
     "output_type": "stream",
     "text": [
      "411\n"
     ]
    },
    {
     "name": "stderr",
     "output_type": "stream",
     "text": [
      "2023-05-19 20:19:14,642 INFO Request is running\n",
      "2023-05-19 20:19:22,030 INFO Request is completed\n",
      "2023-05-19 20:19:22,523 INFO Welcome to the CDS\n",
      "2023-05-19 20:19:22,531 INFO Sending request to https://cds.climate.copernicus.eu/api/v2/resources/reanalysis-era5-pressure-levels\n",
      "2023-05-19 20:19:22,613 INFO Request is queued\n"
     ]
    },
    {
     "name": "stdout",
     "output_type": "stream",
     "text": [
      "412\n"
     ]
    },
    {
     "name": "stderr",
     "output_type": "stream",
     "text": [
      "2023-05-19 20:19:23,680 INFO Request is running\n",
      "2023-05-19 20:19:30,988 INFO Request is completed\n",
      "2023-05-19 20:19:31,326 INFO Welcome to the CDS\n",
      "2023-05-19 20:19:31,327 INFO Sending request to https://cds.climate.copernicus.eu/api/v2/resources/reanalysis-era5-pressure-levels\n"
     ]
    },
    {
     "name": "stdout",
     "output_type": "stream",
     "text": [
      "413\n"
     ]
    },
    {
     "name": "stderr",
     "output_type": "stream",
     "text": [
      "2023-05-19 20:19:31,550 INFO Request is queued\n",
      "2023-05-19 20:19:32,618 INFO Request is running\n",
      "2023-05-19 20:19:39,935 INFO Request is completed\n",
      "2023-05-19 20:19:40,498 INFO Welcome to the CDS\n",
      "2023-05-19 20:19:40,499 INFO Sending request to https://cds.climate.copernicus.eu/api/v2/resources/reanalysis-era5-pressure-levels\n",
      "2023-05-19 20:19:40,553 INFO Request is queued\n"
     ]
    },
    {
     "name": "stdout",
     "output_type": "stream",
     "text": [
      "414\n"
     ]
    },
    {
     "name": "stderr",
     "output_type": "stream",
     "text": [
      "2023-05-19 20:19:41,619 INFO Request is running\n",
      "2023-05-19 20:19:48,934 INFO Request is completed\n",
      "2023-05-19 20:19:49,269 INFO Welcome to the CDS\n",
      "2023-05-19 20:19:49,273 INFO Sending request to https://cds.climate.copernicus.eu/api/v2/resources/reanalysis-era5-pressure-levels\n",
      "2023-05-19 20:19:49,351 INFO Request is queued\n"
     ]
    },
    {
     "name": "stdout",
     "output_type": "stream",
     "text": [
      "415\n"
     ]
    },
    {
     "name": "stderr",
     "output_type": "stream",
     "text": [
      "2023-05-19 20:19:50,418 INFO Request is running\n",
      "2023-05-19 20:19:57,736 INFO Request is completed\n",
      "2023-05-19 20:19:58,068 INFO Welcome to the CDS\n",
      "2023-05-19 20:19:58,069 INFO Sending request to https://cds.climate.copernicus.eu/api/v2/resources/reanalysis-era5-pressure-levels\n",
      "2023-05-19 20:19:58,163 INFO Request is queued\n"
     ]
    },
    {
     "name": "stdout",
     "output_type": "stream",
     "text": [
      "416\n"
     ]
    },
    {
     "name": "stderr",
     "output_type": "stream",
     "text": [
      "2023-05-19 20:19:59,226 INFO Request is running\n",
      "2023-05-19 20:20:06,534 INFO Request is completed\n",
      "2023-05-19 20:20:06,867 INFO Welcome to the CDS\n",
      "2023-05-19 20:20:06,868 INFO Sending request to https://cds.climate.copernicus.eu/api/v2/resources/reanalysis-era5-pressure-levels\n",
      "2023-05-19 20:20:06,928 INFO Request is queued\n"
     ]
    },
    {
     "name": "stdout",
     "output_type": "stream",
     "text": [
      "417\n"
     ]
    },
    {
     "name": "stderr",
     "output_type": "stream",
     "text": [
      "2023-05-19 20:20:07,986 INFO Request is running\n",
      "2023-05-19 20:20:15,310 INFO Request is completed\n",
      "2023-05-19 20:20:15,784 INFO Welcome to the CDS\n",
      "2023-05-19 20:20:15,785 INFO Sending request to https://cds.climate.copernicus.eu/api/v2/resources/reanalysis-era5-pressure-levels\n",
      "2023-05-19 20:20:15,861 INFO Request is queued\n"
     ]
    },
    {
     "name": "stdout",
     "output_type": "stream",
     "text": [
      "418\n"
     ]
    },
    {
     "name": "stderr",
     "output_type": "stream",
     "text": [
      "2023-05-19 20:20:16,933 INFO Request is running\n",
      "2023-05-19 20:20:29,384 INFO Request is completed\n",
      "2023-05-19 20:20:29,851 INFO Welcome to the CDS\n",
      "2023-05-19 20:20:29,853 INFO Sending request to https://cds.climate.copernicus.eu/api/v2/resources/reanalysis-era5-pressure-levels\n",
      "2023-05-19 20:20:29,917 INFO Request is queued\n"
     ]
    },
    {
     "name": "stdout",
     "output_type": "stream",
     "text": [
      "419\n"
     ]
    },
    {
     "name": "stderr",
     "output_type": "stream",
     "text": [
      "2023-05-19 20:20:30,984 INFO Request is running\n",
      "2023-05-19 20:20:38,308 INFO Request is completed\n",
      "2023-05-19 20:20:38,635 INFO Welcome to the CDS\n",
      "2023-05-19 20:20:38,637 INFO Sending request to https://cds.climate.copernicus.eu/api/v2/resources/reanalysis-era5-pressure-levels\n",
      "2023-05-19 20:20:38,694 INFO Request is queued\n"
     ]
    },
    {
     "name": "stdout",
     "output_type": "stream",
     "text": [
      "420\n"
     ]
    },
    {
     "name": "stderr",
     "output_type": "stream",
     "text": [
      "2023-05-19 20:20:39,758 INFO Request is running\n",
      "2023-05-19 20:20:47,093 INFO Request is completed\n",
      "2023-05-19 20:20:47,434 INFO Welcome to the CDS\n",
      "2023-05-19 20:20:47,435 INFO Sending request to https://cds.climate.copernicus.eu/api/v2/resources/reanalysis-era5-pressure-levels\n",
      "2023-05-19 20:20:47,501 INFO Request is queued\n"
     ]
    },
    {
     "name": "stdout",
     "output_type": "stream",
     "text": [
      "421\n"
     ]
    },
    {
     "name": "stderr",
     "output_type": "stream",
     "text": [
      "2023-05-19 20:20:48,565 INFO Request is running\n",
      "2023-05-19 20:20:55,899 INFO Request is completed\n",
      "2023-05-19 20:20:56,222 INFO Welcome to the CDS\n",
      "2023-05-19 20:20:56,225 INFO Sending request to https://cds.climate.copernicus.eu/api/v2/resources/reanalysis-era5-pressure-levels\n",
      "2023-05-19 20:20:56,295 INFO Request is queued\n"
     ]
    },
    {
     "name": "stdout",
     "output_type": "stream",
     "text": [
      "422\n"
     ]
    },
    {
     "name": "stderr",
     "output_type": "stream",
     "text": [
      "2023-05-19 20:20:57,366 INFO Request is running\n",
      "2023-05-19 20:21:04,694 INFO Request is completed\n",
      "2023-05-19 20:21:05,045 INFO Welcome to the CDS\n",
      "2023-05-19 20:21:05,049 INFO Sending request to https://cds.climate.copernicus.eu/api/v2/resources/reanalysis-era5-pressure-levels\n",
      "2023-05-19 20:21:05,136 INFO Request is queued\n"
     ]
    },
    {
     "name": "stdout",
     "output_type": "stream",
     "text": [
      "423\n"
     ]
    },
    {
     "name": "stderr",
     "output_type": "stream",
     "text": [
      "2023-05-19 20:21:06,211 INFO Request is running\n",
      "2023-05-19 20:21:13,534 INFO Request is completed\n",
      "2023-05-19 20:21:13,875 INFO Welcome to the CDS\n",
      "2023-05-19 20:21:13,877 INFO Sending request to https://cds.climate.copernicus.eu/api/v2/resources/reanalysis-era5-pressure-levels\n",
      "2023-05-19 20:21:13,934 INFO Request is queued\n"
     ]
    },
    {
     "name": "stdout",
     "output_type": "stream",
     "text": [
      "424\n"
     ]
    },
    {
     "name": "stderr",
     "output_type": "stream",
     "text": [
      "2023-05-19 20:21:14,992 INFO Request is running\n",
      "2023-05-19 20:21:27,449 INFO Request is completed\n",
      "2023-05-19 20:21:27,896 INFO Welcome to the CDS\n",
      "2023-05-19 20:21:27,900 INFO Sending request to https://cds.climate.copernicus.eu/api/v2/resources/reanalysis-era5-pressure-levels\n",
      "2023-05-19 20:21:27,962 INFO Request is queued\n"
     ]
    },
    {
     "name": "stdout",
     "output_type": "stream",
     "text": [
      "425\n"
     ]
    },
    {
     "name": "stderr",
     "output_type": "stream",
     "text": [
      "2023-05-19 20:21:29,034 INFO Request is running\n",
      "2023-05-19 20:21:36,359 INFO Request is completed\n",
      "2023-05-19 20:21:36,910 INFO Welcome to the CDS\n",
      "2023-05-19 20:21:36,915 INFO Sending request to https://cds.climate.copernicus.eu/api/v2/resources/reanalysis-era5-pressure-levels\n",
      "2023-05-19 20:21:36,975 INFO Request is queued\n"
     ]
    },
    {
     "name": "stdout",
     "output_type": "stream",
     "text": [
      "426\n"
     ]
    },
    {
     "name": "stderr",
     "output_type": "stream",
     "text": [
      "2023-05-19 20:21:38,042 INFO Request is running\n",
      "2023-05-19 20:21:45,371 INFO Request is completed\n",
      "2023-05-19 20:21:45,914 INFO Welcome to the CDS\n",
      "2023-05-19 20:21:45,916 INFO Sending request to https://cds.climate.copernicus.eu/api/v2/resources/reanalysis-era5-pressure-levels\n"
     ]
    },
    {
     "name": "stdout",
     "output_type": "stream",
     "text": [
      "427\n"
     ]
    },
    {
     "name": "stderr",
     "output_type": "stream",
     "text": [
      "2023-05-19 20:21:46,146 INFO Request is queued\n",
      "2023-05-19 20:21:47,216 INFO Request is running\n",
      "2023-05-19 20:21:54,549 INFO Request is completed\n",
      "2023-05-19 20:21:55,130 INFO Welcome to the CDS\n",
      "2023-05-19 20:21:55,132 INFO Sending request to https://cds.climate.copernicus.eu/api/v2/resources/reanalysis-era5-pressure-levels\n",
      "2023-05-19 20:21:55,206 INFO Request is queued\n"
     ]
    },
    {
     "name": "stdout",
     "output_type": "stream",
     "text": [
      "428\n"
     ]
    },
    {
     "name": "stderr",
     "output_type": "stream",
     "text": [
      "2023-05-19 20:21:56,282 INFO Request is running\n",
      "2023-05-19 20:22:03,612 INFO Request is completed\n",
      "2023-05-19 20:22:04,164 INFO Welcome to the CDS\n",
      "2023-05-19 20:22:04,166 INFO Sending request to https://cds.climate.copernicus.eu/api/v2/resources/reanalysis-era5-pressure-levels\n",
      "2023-05-19 20:22:04,240 INFO Request is queued\n"
     ]
    },
    {
     "name": "stdout",
     "output_type": "stream",
     "text": [
      "429\n"
     ]
    },
    {
     "name": "stderr",
     "output_type": "stream",
     "text": [
      "2023-05-19 20:22:05,307 INFO Request is running\n",
      "2023-05-19 20:22:12,620 INFO Request is completed\n",
      "2023-05-19 20:22:12,938 INFO Welcome to the CDS\n",
      "2023-05-19 20:22:12,940 INFO Sending request to https://cds.climate.copernicus.eu/api/v2/resources/reanalysis-era5-pressure-levels\n",
      "2023-05-19 20:22:13,027 INFO Request is queued\n"
     ]
    },
    {
     "name": "stdout",
     "output_type": "stream",
     "text": [
      "430\n"
     ]
    },
    {
     "name": "stderr",
     "output_type": "stream",
     "text": [
      "2023-05-19 20:22:14,096 INFO Request is running\n",
      "2023-05-19 20:22:21,425 INFO Request is completed\n",
      "2023-05-19 20:22:21,745 INFO Welcome to the CDS\n",
      "2023-05-19 20:22:21,748 INFO Sending request to https://cds.climate.copernicus.eu/api/v2/resources/reanalysis-era5-pressure-levels\n",
      "2023-05-19 20:22:21,821 INFO Request is queued\n"
     ]
    },
    {
     "name": "stdout",
     "output_type": "stream",
     "text": [
      "431\n"
     ]
    },
    {
     "name": "stderr",
     "output_type": "stream",
     "text": [
      "2023-05-19 20:22:22,888 INFO Request is running\n",
      "2023-05-19 20:22:30,220 INFO Request is completed\n",
      "2023-05-19 20:22:30,541 INFO Welcome to the CDS\n",
      "2023-05-19 20:22:30,542 INFO Sending request to https://cds.climate.copernicus.eu/api/v2/resources/reanalysis-era5-pressure-levels\n",
      "2023-05-19 20:22:30,597 INFO Request is queued\n"
     ]
    },
    {
     "name": "stdout",
     "output_type": "stream",
     "text": [
      "432\n"
     ]
    },
    {
     "name": "stderr",
     "output_type": "stream",
     "text": [
      "2023-05-19 20:22:31,666 INFO Request is running\n",
      "2023-05-19 20:22:39,003 INFO Request is completed\n",
      "2023-05-19 20:22:39,338 INFO Welcome to the CDS\n",
      "2023-05-19 20:22:39,339 INFO Sending request to https://cds.climate.copernicus.eu/api/v2/resources/reanalysis-era5-pressure-levels\n",
      "2023-05-19 20:22:39,397 INFO Request is queued\n"
     ]
    },
    {
     "name": "stdout",
     "output_type": "stream",
     "text": [
      "433\n"
     ]
    },
    {
     "name": "stderr",
     "output_type": "stream",
     "text": [
      "2023-05-19 20:22:40,465 INFO Request is running\n",
      "2023-05-19 20:22:47,791 INFO Request is completed\n",
      "2023-05-19 20:22:48,138 INFO Welcome to the CDS\n",
      "2023-05-19 20:22:48,140 INFO Sending request to https://cds.climate.copernicus.eu/api/v2/resources/reanalysis-era5-pressure-levels\n",
      "2023-05-19 20:22:48,211 INFO Request is queued\n"
     ]
    },
    {
     "name": "stdout",
     "output_type": "stream",
     "text": [
      "434\n"
     ]
    },
    {
     "name": "stderr",
     "output_type": "stream",
     "text": [
      "2023-05-19 20:22:49,282 INFO Request is running\n",
      "2023-05-19 20:22:56,615 INFO Request is completed\n",
      "2023-05-19 20:22:56,953 INFO Welcome to the CDS\n",
      "2023-05-19 20:22:56,956 INFO Sending request to https://cds.climate.copernicus.eu/api/v2/resources/reanalysis-era5-pressure-levels\n",
      "2023-05-19 20:22:57,059 INFO Request is queued\n"
     ]
    },
    {
     "name": "stdout",
     "output_type": "stream",
     "text": [
      "435\n"
     ]
    },
    {
     "name": "stderr",
     "output_type": "stream",
     "text": [
      "2023-05-19 20:22:58,128 INFO Request is running\n",
      "2023-05-19 20:23:05,452 INFO Request is completed\n",
      "2023-05-19 20:23:05,787 INFO Welcome to the CDS\n",
      "2023-05-19 20:23:05,788 INFO Sending request to https://cds.climate.copernicus.eu/api/v2/resources/reanalysis-era5-pressure-levels\n",
      "2023-05-19 20:23:05,905 INFO Request is queued\n"
     ]
    },
    {
     "name": "stdout",
     "output_type": "stream",
     "text": [
      "436\n"
     ]
    },
    {
     "name": "stderr",
     "output_type": "stream",
     "text": [
      "2023-05-19 20:23:06,972 INFO Request is running\n",
      "2023-05-19 20:23:14,294 INFO Request is completed\n",
      "2023-05-19 20:23:14,644 INFO Welcome to the CDS\n",
      "2023-05-19 20:23:14,645 INFO Sending request to https://cds.climate.copernicus.eu/api/v2/resources/reanalysis-era5-pressure-levels\n",
      "2023-05-19 20:23:14,704 INFO Request is queued\n"
     ]
    },
    {
     "name": "stdout",
     "output_type": "stream",
     "text": [
      "437\n"
     ]
    },
    {
     "name": "stderr",
     "output_type": "stream",
     "text": [
      "2023-05-19 20:23:15,773 INFO Request is running\n",
      "2023-05-19 20:23:23,107 INFO Request is completed\n",
      "2023-05-19 20:23:23,466 INFO Welcome to the CDS\n",
      "2023-05-19 20:23:23,469 INFO Sending request to https://cds.climate.copernicus.eu/api/v2/resources/reanalysis-era5-pressure-levels\n",
      "2023-05-19 20:23:23,529 INFO Request is queued\n"
     ]
    },
    {
     "name": "stdout",
     "output_type": "stream",
     "text": [
      "438\n"
     ]
    },
    {
     "name": "stderr",
     "output_type": "stream",
     "text": [
      "2023-05-19 20:23:24,604 INFO Request is running\n",
      "2023-05-19 20:23:31,914 INFO Request is completed\n",
      "2023-05-19 20:23:32,464 INFO Welcome to the CDS\n",
      "2023-05-19 20:23:32,470 INFO Sending request to https://cds.climate.copernicus.eu/api/v2/resources/reanalysis-era5-pressure-levels\n",
      "2023-05-19 20:23:32,527 INFO Request is queued\n"
     ]
    },
    {
     "name": "stdout",
     "output_type": "stream",
     "text": [
      "439\n"
     ]
    },
    {
     "name": "stderr",
     "output_type": "stream",
     "text": [
      "2023-05-19 20:23:33,596 INFO Request is running\n",
      "2023-05-19 20:23:40,929 INFO Request is completed\n",
      "2023-05-19 20:23:41,268 INFO Welcome to the CDS\n",
      "2023-05-19 20:23:41,270 INFO Sending request to https://cds.climate.copernicus.eu/api/v2/resources/reanalysis-era5-pressure-levels\n",
      "2023-05-19 20:23:41,364 INFO Request is queued\n"
     ]
    },
    {
     "name": "stdout",
     "output_type": "stream",
     "text": [
      "440\n"
     ]
    },
    {
     "name": "stderr",
     "output_type": "stream",
     "text": [
      "2023-05-19 20:23:42,430 INFO Request is running\n",
      "2023-05-19 20:23:49,744 INFO Request is completed\n",
      "2023-05-19 20:23:50,050 INFO Welcome to the CDS\n",
      "2023-05-19 20:23:50,051 INFO Sending request to https://cds.climate.copernicus.eu/api/v2/resources/reanalysis-era5-pressure-levels\n",
      "2023-05-19 20:23:50,105 INFO Request is queued\n"
     ]
    },
    {
     "name": "stdout",
     "output_type": "stream",
     "text": [
      "441\n"
     ]
    },
    {
     "name": "stderr",
     "output_type": "stream",
     "text": [
      "2023-05-19 20:23:51,168 INFO Request is running\n",
      "2023-05-19 20:23:55,207 INFO Request is completed\n",
      "2023-05-19 20:23:55,757 INFO Welcome to the CDS\n",
      "2023-05-19 20:23:55,758 INFO Sending request to https://cds.climate.copernicus.eu/api/v2/resources/reanalysis-era5-pressure-levels\n",
      "2023-05-19 20:23:55,814 INFO Request is queued\n"
     ]
    },
    {
     "name": "stdout",
     "output_type": "stream",
     "text": [
      "442\n"
     ]
    },
    {
     "name": "stderr",
     "output_type": "stream",
     "text": [
      "2023-05-19 20:23:56,884 INFO Request is running\n",
      "2023-05-19 20:24:04,203 INFO Request is completed\n",
      "2023-05-19 20:24:04,641 INFO Welcome to the CDS\n",
      "2023-05-19 20:24:04,642 INFO Sending request to https://cds.climate.copernicus.eu/api/v2/resources/reanalysis-era5-pressure-levels\n",
      "2023-05-19 20:24:04,709 INFO Request is queued\n"
     ]
    },
    {
     "name": "stdout",
     "output_type": "stream",
     "text": [
      "443\n"
     ]
    },
    {
     "name": "stderr",
     "output_type": "stream",
     "text": [
      "2023-05-19 20:24:05,777 INFO Request is running\n",
      "2023-05-19 20:24:13,095 INFO Request is completed\n",
      "2023-05-19 20:24:13,656 INFO Welcome to the CDS\n",
      "2023-05-19 20:24:13,657 INFO Sending request to https://cds.climate.copernicus.eu/api/v2/resources/reanalysis-era5-pressure-levels\n",
      "2023-05-19 20:24:13,747 INFO Request is queued\n"
     ]
    },
    {
     "name": "stdout",
     "output_type": "stream",
     "text": [
      "444\n"
     ]
    },
    {
     "name": "stderr",
     "output_type": "stream",
     "text": [
      "2023-05-19 20:24:14,809 INFO Request is running\n",
      "2023-05-19 20:24:18,696 INFO Request is completed\n",
      "2023-05-19 20:24:19,168 INFO Welcome to the CDS\n",
      "2023-05-19 20:24:19,168 INFO Sending request to https://cds.climate.copernicus.eu/api/v2/resources/reanalysis-era5-pressure-levels\n",
      "2023-05-19 20:24:19,222 INFO Request is queued\n"
     ]
    },
    {
     "name": "stdout",
     "output_type": "stream",
     "text": [
      "445\n"
     ]
    },
    {
     "name": "stderr",
     "output_type": "stream",
     "text": [
      "2023-05-19 20:24:20,294 INFO Request is running\n",
      "2023-05-19 20:24:27,622 INFO Request is completed\n",
      "2023-05-19 20:24:27,963 INFO Welcome to the CDS\n",
      "2023-05-19 20:24:27,964 INFO Sending request to https://cds.climate.copernicus.eu/api/v2/resources/reanalysis-era5-pressure-levels\n",
      "2023-05-19 20:24:28,023 INFO Request is queued\n"
     ]
    },
    {
     "name": "stdout",
     "output_type": "stream",
     "text": [
      "446\n"
     ]
    },
    {
     "name": "stderr",
     "output_type": "stream",
     "text": [
      "2023-05-19 20:24:29,094 INFO Request is running\n",
      "2023-05-19 20:24:36,420 INFO Request is completed\n",
      "2023-05-19 20:24:36,787 INFO Welcome to the CDS\n",
      "2023-05-19 20:24:36,788 INFO Sending request to https://cds.climate.copernicus.eu/api/v2/resources/reanalysis-era5-pressure-levels\n",
      "2023-05-19 20:24:36,845 INFO Request is queued\n"
     ]
    },
    {
     "name": "stdout",
     "output_type": "stream",
     "text": [
      "447\n"
     ]
    },
    {
     "name": "stderr",
     "output_type": "stream",
     "text": [
      "2023-05-19 20:24:37,905 INFO Request is running\n",
      "2023-05-19 20:24:45,229 INFO Request is completed\n",
      "2023-05-19 20:24:45,790 INFO Welcome to the CDS\n",
      "2023-05-19 20:24:45,793 INFO Sending request to https://cds.climate.copernicus.eu/api/v2/resources/reanalysis-era5-pressure-levels\n",
      "2023-05-19 20:24:45,846 INFO Request is queued\n"
     ]
    },
    {
     "name": "stdout",
     "output_type": "stream",
     "text": [
      "448\n"
     ]
    },
    {
     "name": "stderr",
     "output_type": "stream",
     "text": [
      "2023-05-19 20:24:46,911 INFO Request is running\n",
      "2023-05-19 20:24:54,228 INFO Request is completed\n",
      "2023-05-19 20:24:54,563 INFO Welcome to the CDS\n",
      "2023-05-19 20:24:54,565 INFO Sending request to https://cds.climate.copernicus.eu/api/v2/resources/reanalysis-era5-pressure-levels\n",
      "2023-05-19 20:24:54,631 INFO Request is queued\n"
     ]
    },
    {
     "name": "stdout",
     "output_type": "stream",
     "text": [
      "449\n"
     ]
    },
    {
     "name": "stderr",
     "output_type": "stream",
     "text": [
      "2023-05-19 20:24:55,698 INFO Request is running\n",
      "2023-05-19 20:25:03,153 INFO Request is completed\n",
      "2023-05-19 20:25:03,642 INFO Welcome to the CDS\n",
      "2023-05-19 20:25:03,643 INFO Sending request to https://cds.climate.copernicus.eu/api/v2/resources/reanalysis-era5-pressure-levels\n",
      "2023-05-19 20:25:03,701 INFO Request is queued\n"
     ]
    },
    {
     "name": "stdout",
     "output_type": "stream",
     "text": [
      "450\n"
     ]
    },
    {
     "name": "stderr",
     "output_type": "stream",
     "text": [
      "2023-05-19 20:25:04,790 INFO Request is running\n",
      "2023-05-19 20:25:12,116 INFO Request is completed\n",
      "2023-05-19 20:25:12,674 INFO Welcome to the CDS\n",
      "2023-05-19 20:25:12,675 INFO Sending request to https://cds.climate.copernicus.eu/api/v2/resources/reanalysis-era5-pressure-levels\n",
      "2023-05-19 20:25:12,729 INFO Request is queued\n"
     ]
    },
    {
     "name": "stdout",
     "output_type": "stream",
     "text": [
      "451\n"
     ]
    },
    {
     "name": "stderr",
     "output_type": "stream",
     "text": [
      "2023-05-19 20:25:13,799 INFO Request is running\n",
      "2023-05-19 20:25:26,250 INFO Request is completed\n",
      "2023-05-19 20:25:26,593 INFO Welcome to the CDS\n",
      "2023-05-19 20:25:26,598 INFO Sending request to https://cds.climate.copernicus.eu/api/v2/resources/reanalysis-era5-pressure-levels\n",
      "2023-05-19 20:25:26,651 INFO Request is queued\n"
     ]
    },
    {
     "name": "stdout",
     "output_type": "stream",
     "text": [
      "452\n"
     ]
    },
    {
     "name": "stderr",
     "output_type": "stream",
     "text": [
      "2023-05-19 20:25:27,725 INFO Request is running\n",
      "2023-05-19 20:25:35,292 INFO Request is completed\n",
      "2023-05-19 20:25:35,623 INFO Welcome to the CDS\n",
      "2023-05-19 20:25:35,624 INFO Sending request to https://cds.climate.copernicus.eu/api/v2/resources/reanalysis-era5-pressure-levels\n",
      "2023-05-19 20:25:35,709 INFO Request is queued\n"
     ]
    },
    {
     "name": "stdout",
     "output_type": "stream",
     "text": [
      "453\n"
     ]
    },
    {
     "name": "stderr",
     "output_type": "stream",
     "text": [
      "2023-05-19 20:25:36,775 INFO Request is running\n",
      "2023-05-19 20:25:44,107 INFO Request is completed\n",
      "2023-05-19 20:25:44,424 INFO Welcome to the CDS\n",
      "2023-05-19 20:25:44,424 INFO Sending request to https://cds.climate.copernicus.eu/api/v2/resources/reanalysis-era5-pressure-levels\n",
      "2023-05-19 20:25:44,516 INFO Request is queued\n"
     ]
    },
    {
     "name": "stdout",
     "output_type": "stream",
     "text": [
      "454\n"
     ]
    },
    {
     "name": "stderr",
     "output_type": "stream",
     "text": [
      "2023-05-19 20:25:45,601 INFO Request is running\n",
      "2023-05-19 20:25:52,933 INFO Request is completed\n",
      "2023-05-19 20:25:53,247 INFO Welcome to the CDS\n",
      "2023-05-19 20:25:53,248 INFO Sending request to https://cds.climate.copernicus.eu/api/v2/resources/reanalysis-era5-pressure-levels\n",
      "2023-05-19 20:25:53,302 INFO Request is queued\n"
     ]
    },
    {
     "name": "stdout",
     "output_type": "stream",
     "text": [
      "455\n"
     ]
    },
    {
     "name": "stderr",
     "output_type": "stream",
     "text": [
      "2023-05-19 20:25:54,374 INFO Request is running\n",
      "2023-05-19 20:26:01,709 INFO Request is completed\n",
      "2023-05-19 20:26:02,864 INFO Welcome to the CDS\n",
      "2023-05-19 20:26:02,865 INFO Sending request to https://cds.climate.copernicus.eu/api/v2/resources/reanalysis-era5-pressure-levels\n",
      "2023-05-19 20:26:02,942 INFO Request is queued\n"
     ]
    },
    {
     "name": "stdout",
     "output_type": "stream",
     "text": [
      "456\n"
     ]
    },
    {
     "name": "stderr",
     "output_type": "stream",
     "text": [
      "2023-05-19 20:26:04,009 INFO Request is running\n",
      "2023-05-19 20:26:11,349 INFO Request is completed\n",
      "2023-05-19 20:26:11,710 INFO Welcome to the CDS\n",
      "2023-05-19 20:26:11,711 INFO Sending request to https://cds.climate.copernicus.eu/api/v2/resources/reanalysis-era5-pressure-levels\n",
      "2023-05-19 20:26:11,775 INFO Request is queued\n"
     ]
    },
    {
     "name": "stdout",
     "output_type": "stream",
     "text": [
      "457\n"
     ]
    },
    {
     "name": "stderr",
     "output_type": "stream",
     "text": [
      "2023-05-19 20:26:12,840 INFO Request is running\n",
      "2023-05-19 20:26:20,176 INFO Request is completed\n",
      "2023-05-19 20:26:20,707 INFO Welcome to the CDS\n",
      "2023-05-19 20:26:20,709 INFO Sending request to https://cds.climate.copernicus.eu/api/v2/resources/reanalysis-era5-pressure-levels\n",
      "2023-05-19 20:26:20,794 INFO Request is queued\n"
     ]
    },
    {
     "name": "stdout",
     "output_type": "stream",
     "text": [
      "458\n"
     ]
    },
    {
     "name": "stderr",
     "output_type": "stream",
     "text": [
      "2023-05-19 20:26:21,867 INFO Request is running\n",
      "2023-05-19 20:26:29,208 INFO Request is completed\n",
      "2023-05-19 20:26:29,550 INFO Welcome to the CDS\n",
      "2023-05-19 20:26:29,555 INFO Sending request to https://cds.climate.copernicus.eu/api/v2/resources/reanalysis-era5-pressure-levels\n",
      "2023-05-19 20:26:29,617 INFO Request is queued\n"
     ]
    },
    {
     "name": "stdout",
     "output_type": "stream",
     "text": [
      "459\n"
     ]
    },
    {
     "name": "stderr",
     "output_type": "stream",
     "text": [
      "2023-05-19 20:26:30,699 INFO Request is running\n",
      "2023-05-19 20:26:38,051 INFO Request is completed\n",
      "2023-05-19 20:26:38,541 INFO Welcome to the CDS\n",
      "2023-05-19 20:26:38,542 INFO Sending request to https://cds.climate.copernicus.eu/api/v2/resources/reanalysis-era5-pressure-levels\n",
      "2023-05-19 20:26:38,606 INFO Request is queued\n"
     ]
    },
    {
     "name": "stdout",
     "output_type": "stream",
     "text": [
      "460\n"
     ]
    },
    {
     "name": "stderr",
     "output_type": "stream",
     "text": [
      "2023-05-19 20:26:39,683 INFO Request is running\n",
      "2023-05-19 20:26:47,020 INFO Request is completed\n",
      "2023-05-19 20:26:47,369 INFO Welcome to the CDS\n",
      "2023-05-19 20:26:47,370 INFO Sending request to https://cds.climate.copernicus.eu/api/v2/resources/reanalysis-era5-pressure-levels\n",
      "2023-05-19 20:26:47,435 INFO Request is queued\n"
     ]
    },
    {
     "name": "stdout",
     "output_type": "stream",
     "text": [
      "461\n"
     ]
    },
    {
     "name": "stderr",
     "output_type": "stream",
     "text": [
      "2023-05-19 20:26:48,508 INFO Request is running\n",
      "2023-05-19 20:26:55,840 INFO Request is completed\n",
      "2023-05-19 20:26:56,180 INFO Welcome to the CDS\n",
      "2023-05-19 20:26:56,182 INFO Sending request to https://cds.climate.copernicus.eu/api/v2/resources/reanalysis-era5-pressure-levels\n",
      "2023-05-19 20:26:56,248 INFO Request is queued\n"
     ]
    },
    {
     "name": "stdout",
     "output_type": "stream",
     "text": [
      "462\n"
     ]
    },
    {
     "name": "stderr",
     "output_type": "stream",
     "text": [
      "2023-05-19 20:26:57,323 INFO Request is running\n",
      "2023-05-19 20:27:04,667 INFO Request is completed\n",
      "2023-05-19 20:27:05,043 INFO Welcome to the CDS\n",
      "2023-05-19 20:27:05,045 INFO Sending request to https://cds.climate.copernicus.eu/api/v2/resources/reanalysis-era5-pressure-levels\n",
      "2023-05-19 20:27:05,110 INFO Request is queued\n"
     ]
    },
    {
     "name": "stdout",
     "output_type": "stream",
     "text": [
      "463\n"
     ]
    },
    {
     "name": "stderr",
     "output_type": "stream",
     "text": [
      "2023-05-19 20:27:06,184 INFO Request is running\n",
      "2023-05-19 20:27:13,548 INFO Request is completed\n",
      "2023-05-19 20:27:14,016 INFO Welcome to the CDS\n",
      "2023-05-19 20:27:14,017 INFO Sending request to https://cds.climate.copernicus.eu/api/v2/resources/reanalysis-era5-pressure-levels\n",
      "2023-05-19 20:27:14,082 INFO Request is queued\n"
     ]
    },
    {
     "name": "stdout",
     "output_type": "stream",
     "text": [
      "464\n"
     ]
    },
    {
     "name": "stderr",
     "output_type": "stream",
     "text": [
      "2023-05-19 20:27:15,184 INFO Request is running\n",
      "2023-05-19 20:27:22,520 INFO Request is completed\n",
      "2023-05-19 20:27:23,069 INFO Welcome to the CDS\n",
      "2023-05-19 20:27:23,069 INFO Sending request to https://cds.climate.copernicus.eu/api/v2/resources/reanalysis-era5-pressure-levels\n",
      "2023-05-19 20:27:23,155 INFO Request is queued\n"
     ]
    },
    {
     "name": "stdout",
     "output_type": "stream",
     "text": [
      "465\n"
     ]
    },
    {
     "name": "stderr",
     "output_type": "stream",
     "text": [
      "2023-05-19 20:27:24,235 INFO Request is running\n",
      "2023-05-19 20:27:31,564 INFO Request is completed\n",
      "2023-05-19 20:27:31,896 INFO Welcome to the CDS\n",
      "2023-05-19 20:27:31,898 INFO Sending request to https://cds.climate.copernicus.eu/api/v2/resources/reanalysis-era5-pressure-levels\n",
      "2023-05-19 20:27:31,979 INFO Request is queued\n"
     ]
    },
    {
     "name": "stdout",
     "output_type": "stream",
     "text": [
      "466\n"
     ]
    },
    {
     "name": "stderr",
     "output_type": "stream",
     "text": [
      "2023-05-19 20:27:33,052 INFO Request is running\n",
      "2023-05-19 20:27:40,388 INFO Request is completed\n",
      "2023-05-19 20:27:40,952 INFO Welcome to the CDS\n",
      "2023-05-19 20:27:40,954 INFO Sending request to https://cds.climate.copernicus.eu/api/v2/resources/reanalysis-era5-pressure-levels\n",
      "2023-05-19 20:27:41,020 INFO Request is queued\n"
     ]
    },
    {
     "name": "stdout",
     "output_type": "stream",
     "text": [
      "467\n"
     ]
    },
    {
     "name": "stderr",
     "output_type": "stream",
     "text": [
      "2023-05-19 20:27:42,104 INFO Request is running\n",
      "2023-05-19 20:27:49,463 INFO Request is completed\n",
      "2023-05-19 20:27:49,811 INFO Welcome to the CDS\n",
      "2023-05-19 20:27:49,812 INFO Sending request to https://cds.climate.copernicus.eu/api/v2/resources/reanalysis-era5-pressure-levels\n",
      "2023-05-19 20:27:49,889 INFO Request is queued\n"
     ]
    },
    {
     "name": "stdout",
     "output_type": "stream",
     "text": [
      "468\n"
     ]
    },
    {
     "name": "stderr",
     "output_type": "stream",
     "text": [
      "2023-05-19 20:27:50,963 INFO Request is running\n",
      "2023-05-19 20:27:58,308 INFO Request is completed\n",
      "2023-05-19 20:27:58,644 INFO Welcome to the CDS\n",
      "2023-05-19 20:27:58,646 INFO Sending request to https://cds.climate.copernicus.eu/api/v2/resources/reanalysis-era5-pressure-levels\n",
      "2023-05-19 20:27:58,712 INFO Request is queued\n"
     ]
    },
    {
     "name": "stdout",
     "output_type": "stream",
     "text": [
      "469\n"
     ]
    },
    {
     "name": "stderr",
     "output_type": "stream",
     "text": [
      "2023-05-19 20:27:59,785 INFO Request is running\n",
      "2023-05-19 20:28:07,117 INFO Request is completed\n",
      "2023-05-19 20:28:07,475 INFO Welcome to the CDS\n",
      "2023-05-19 20:28:07,477 INFO Sending request to https://cds.climate.copernicus.eu/api/v2/resources/reanalysis-era5-pressure-levels\n"
     ]
    },
    {
     "name": "stdout",
     "output_type": "stream",
     "text": [
      "470\n"
     ]
    },
    {
     "name": "stderr",
     "output_type": "stream",
     "text": [
      "2023-05-19 20:28:07,703 INFO Request is queued\n",
      "2023-05-19 20:28:08,781 INFO Request is running\n",
      "2023-05-19 20:28:16,119 INFO Request is completed\n",
      "2023-05-19 20:28:16,490 INFO Welcome to the CDS\n",
      "2023-05-19 20:28:16,493 INFO Sending request to https://cds.climate.copernicus.eu/api/v2/resources/reanalysis-era5-pressure-levels\n",
      "2023-05-19 20:28:16,559 INFO Request is queued\n"
     ]
    },
    {
     "name": "stdout",
     "output_type": "stream",
     "text": [
      "471\n"
     ]
    },
    {
     "name": "stderr",
     "output_type": "stream",
     "text": [
      "2023-05-19 20:28:17,636 INFO Request is running\n",
      "2023-05-19 20:28:24,979 INFO Request is completed\n",
      "2023-05-19 20:28:25,321 INFO Welcome to the CDS\n",
      "2023-05-19 20:28:25,322 INFO Sending request to https://cds.climate.copernicus.eu/api/v2/resources/reanalysis-era5-pressure-levels\n",
      "2023-05-19 20:28:25,382 INFO Request is queued\n"
     ]
    },
    {
     "name": "stdout",
     "output_type": "stream",
     "text": [
      "472\n"
     ]
    },
    {
     "name": "stderr",
     "output_type": "stream",
     "text": [
      "2023-05-19 20:28:26,456 INFO Request is running\n",
      "2023-05-19 20:28:33,823 INFO Request is completed\n",
      "2023-05-19 20:28:34,458 INFO Welcome to the CDS\n",
      "2023-05-19 20:28:34,459 INFO Sending request to https://cds.climate.copernicus.eu/api/v2/resources/reanalysis-era5-pressure-levels\n",
      "2023-05-19 20:28:34,542 INFO Request is queued\n"
     ]
    },
    {
     "name": "stdout",
     "output_type": "stream",
     "text": [
      "473\n"
     ]
    },
    {
     "name": "stderr",
     "output_type": "stream",
     "text": [
      "2023-05-19 20:28:35,617 INFO Request is running\n",
      "2023-05-19 20:28:39,504 INFO Request is completed\n",
      "2023-05-19 20:28:39,964 INFO Welcome to the CDS\n",
      "2023-05-19 20:28:39,965 INFO Sending request to https://cds.climate.copernicus.eu/api/v2/resources/reanalysis-era5-pressure-levels\n",
      "2023-05-19 20:28:40,032 INFO Request is queued\n"
     ]
    },
    {
     "name": "stdout",
     "output_type": "stream",
     "text": [
      "474\n"
     ]
    },
    {
     "name": "stderr",
     "output_type": "stream",
     "text": [
      "2023-05-19 20:28:41,100 INFO Request is running\n",
      "2023-05-19 20:28:48,475 INFO Request is completed\n",
      "2023-05-19 20:28:48,936 INFO Welcome to the CDS\n",
      "2023-05-19 20:28:48,937 INFO Sending request to https://cds.climate.copernicus.eu/api/v2/resources/reanalysis-era5-pressure-levels\n",
      "2023-05-19 20:28:49,022 INFO Request is queued\n"
     ]
    },
    {
     "name": "stdout",
     "output_type": "stream",
     "text": [
      "475\n"
     ]
    },
    {
     "name": "stderr",
     "output_type": "stream",
     "text": [
      "2023-05-19 20:28:50,110 INFO Request is running\n",
      "2023-05-19 20:28:57,469 INFO Request is completed\n",
      "2023-05-19 20:28:57,835 INFO Welcome to the CDS\n",
      "2023-05-19 20:28:57,837 INFO Sending request to https://cds.climate.copernicus.eu/api/v2/resources/reanalysis-era5-pressure-levels\n",
      "2023-05-19 20:28:57,943 INFO Request is queued\n"
     ]
    },
    {
     "name": "stdout",
     "output_type": "stream",
     "text": [
      "476\n"
     ]
    },
    {
     "name": "stderr",
     "output_type": "stream",
     "text": [
      "2023-05-19 20:28:59,022 INFO Request is running\n",
      "2023-05-19 20:29:06,371 INFO Request is completed\n",
      "2023-05-19 20:29:06,927 INFO Welcome to the CDS\n",
      "2023-05-19 20:29:06,928 INFO Sending request to https://cds.climate.copernicus.eu/api/v2/resources/reanalysis-era5-pressure-levels\n",
      "2023-05-19 20:29:07,011 INFO Request is queued\n"
     ]
    },
    {
     "name": "stdout",
     "output_type": "stream",
     "text": [
      "477\n"
     ]
    },
    {
     "name": "stderr",
     "output_type": "stream",
     "text": [
      "2023-05-19 20:29:08,102 INFO Request is running\n",
      "2023-05-19 20:29:15,434 INFO Request is completed\n",
      "2023-05-19 20:29:15,760 INFO Welcome to the CDS\n",
      "2023-05-19 20:29:15,761 INFO Sending request to https://cds.climate.copernicus.eu/api/v2/resources/reanalysis-era5-pressure-levels\n",
      "2023-05-19 20:29:15,827 INFO Request is queued\n"
     ]
    },
    {
     "name": "stdout",
     "output_type": "stream",
     "text": [
      "478\n"
     ]
    },
    {
     "name": "stderr",
     "output_type": "stream",
     "text": [
      "2023-05-19 20:29:16,903 INFO Request is running\n",
      "2023-05-19 20:29:24,253 INFO Request is completed\n",
      "2023-05-19 20:29:24,734 INFO Welcome to the CDS\n",
      "2023-05-19 20:29:24,736 INFO Sending request to https://cds.climate.copernicus.eu/api/v2/resources/reanalysis-era5-pressure-levels\n",
      "2023-05-19 20:29:24,800 INFO Request is queued\n"
     ]
    },
    {
     "name": "stdout",
     "output_type": "stream",
     "text": [
      "479\n"
     ]
    },
    {
     "name": "stderr",
     "output_type": "stream",
     "text": [
      "2023-05-19 20:29:25,863 INFO Request is running\n",
      "2023-05-19 20:29:33,211 INFO Request is completed\n",
      "2023-05-19 20:29:33,569 INFO Welcome to the CDS\n",
      "2023-05-19 20:29:33,570 INFO Sending request to https://cds.climate.copernicus.eu/api/v2/resources/reanalysis-era5-pressure-levels\n",
      "2023-05-19 20:29:33,651 INFO Request is queued\n"
     ]
    },
    {
     "name": "stdout",
     "output_type": "stream",
     "text": [
      "480\n"
     ]
    },
    {
     "name": "stderr",
     "output_type": "stream",
     "text": [
      "2023-05-19 20:29:34,726 INFO Request is running\n",
      "2023-05-19 20:29:42,084 INFO Request is completed\n",
      "2023-05-19 20:29:42,433 INFO Welcome to the CDS\n",
      "2023-05-19 20:29:42,434 INFO Sending request to https://cds.climate.copernicus.eu/api/v2/resources/reanalysis-era5-pressure-levels\n",
      "2023-05-19 20:29:42,510 INFO Request is queued\n"
     ]
    },
    {
     "name": "stdout",
     "output_type": "stream",
     "text": [
      "481\n"
     ]
    },
    {
     "name": "stderr",
     "output_type": "stream",
     "text": [
      "2023-05-19 20:29:43,586 INFO Request is running\n",
      "2023-05-19 20:29:50,927 INFO Request is completed\n",
      "2023-05-19 20:29:51,305 INFO Welcome to the CDS\n",
      "2023-05-19 20:29:51,308 INFO Sending request to https://cds.climate.copernicus.eu/api/v2/resources/reanalysis-era5-pressure-levels\n",
      "2023-05-19 20:29:51,370 INFO Request is queued\n"
     ]
    },
    {
     "name": "stdout",
     "output_type": "stream",
     "text": [
      "482\n"
     ]
    },
    {
     "name": "stderr",
     "output_type": "stream",
     "text": [
      "2023-05-19 20:29:52,444 INFO Request is running\n",
      "2023-05-19 20:29:59,784 INFO Request is completed\n",
      "2023-05-19 20:30:00,192 INFO Welcome to the CDS\n",
      "2023-05-19 20:30:00,193 INFO Sending request to https://cds.climate.copernicus.eu/api/v2/resources/reanalysis-era5-pressure-levels\n",
      "2023-05-19 20:30:00,333 INFO Request is queued\n"
     ]
    },
    {
     "name": "stdout",
     "output_type": "stream",
     "text": [
      "483\n"
     ]
    },
    {
     "name": "stderr",
     "output_type": "stream",
     "text": [
      "2023-05-19 20:30:01,406 INFO Request is running\n",
      "2023-05-19 20:30:08,749 INFO Request is completed\n",
      "2023-05-19 20:30:09,081 INFO Welcome to the CDS\n",
      "2023-05-19 20:30:09,082 INFO Sending request to https://cds.climate.copernicus.eu/api/v2/resources/reanalysis-era5-pressure-levels\n",
      "2023-05-19 20:30:09,147 INFO Request is queued\n"
     ]
    },
    {
     "name": "stdout",
     "output_type": "stream",
     "text": [
      "484\n"
     ]
    },
    {
     "name": "stderr",
     "output_type": "stream",
     "text": [
      "2023-05-19 20:30:10,222 INFO Request is running\n",
      "2023-05-19 20:30:17,880 INFO Request is completed\n",
      "2023-05-19 20:30:18,391 INFO Welcome to the CDS\n",
      "2023-05-19 20:30:18,396 INFO Sending request to https://cds.climate.copernicus.eu/api/v2/resources/reanalysis-era5-pressure-levels\n",
      "2023-05-19 20:30:18,457 INFO Request is queued\n"
     ]
    },
    {
     "name": "stdout",
     "output_type": "stream",
     "text": [
      "485\n"
     ]
    },
    {
     "name": "stderr",
     "output_type": "stream",
     "text": [
      "2023-05-19 20:30:19,539 INFO Request is running\n",
      "2023-05-19 20:30:26,881 INFO Request is completed\n",
      "2023-05-19 20:30:27,219 INFO Welcome to the CDS\n",
      "2023-05-19 20:30:27,219 INFO Sending request to https://cds.climate.copernicus.eu/api/v2/resources/reanalysis-era5-pressure-levels\n",
      "2023-05-19 20:30:27,289 INFO Request is queued\n"
     ]
    },
    {
     "name": "stdout",
     "output_type": "stream",
     "text": [
      "486\n"
     ]
    },
    {
     "name": "stderr",
     "output_type": "stream",
     "text": [
      "2023-05-19 20:30:28,364 INFO Request is running\n",
      "2023-05-19 20:30:35,708 INFO Request is completed\n",
      "2023-05-19 20:30:36,175 INFO Welcome to the CDS\n",
      "2023-05-19 20:30:36,176 INFO Sending request to https://cds.climate.copernicus.eu/api/v2/resources/reanalysis-era5-pressure-levels\n"
     ]
    },
    {
     "name": "stdout",
     "output_type": "stream",
     "text": [
      "487\n"
     ]
    },
    {
     "name": "stderr",
     "output_type": "stream",
     "text": [
      "2023-05-19 20:30:36,481 INFO Request is queued\n",
      "2023-05-19 20:30:37,537 INFO Request is running\n",
      "2023-05-19 20:30:44,824 INFO Request is completed\n",
      "2023-05-19 20:30:45,119 INFO Welcome to the CDS\n",
      "2023-05-19 20:30:45,119 INFO Sending request to https://cds.climate.copernicus.eu/api/v2/resources/reanalysis-era5-pressure-levels\n",
      "2023-05-19 20:30:45,175 INFO Request is queued\n"
     ]
    },
    {
     "name": "stdout",
     "output_type": "stream",
     "text": [
      "488\n"
     ]
    },
    {
     "name": "stderr",
     "output_type": "stream",
     "text": [
      "2023-05-19 20:30:46,235 INFO Request is running\n",
      "2023-05-19 20:30:53,537 INFO Request is completed\n",
      "2023-05-19 20:30:53,862 INFO Welcome to the CDS\n",
      "2023-05-19 20:30:53,862 INFO Sending request to https://cds.climate.copernicus.eu/api/v2/resources/reanalysis-era5-pressure-levels\n",
      "2023-05-19 20:30:53,923 INFO Request is queued\n"
     ]
    },
    {
     "name": "stdout",
     "output_type": "stream",
     "text": [
      "489\n"
     ]
    },
    {
     "name": "stderr",
     "output_type": "stream",
     "text": [
      "2023-05-19 20:30:54,982 INFO Request is running\n",
      "2023-05-19 20:31:02,288 INFO Request is completed\n",
      "2023-05-19 20:31:02,833 INFO Welcome to the CDS\n",
      "2023-05-19 20:31:02,834 INFO Sending request to https://cds.climate.copernicus.eu/api/v2/resources/reanalysis-era5-pressure-levels\n",
      "2023-05-19 20:31:02,899 INFO Request is queued\n"
     ]
    },
    {
     "name": "stdout",
     "output_type": "stream",
     "text": [
      "490\n"
     ]
    },
    {
     "name": "stderr",
     "output_type": "stream",
     "text": [
      "2023-05-19 20:31:03,957 INFO Request is running\n",
      "2023-05-19 20:31:11,271 INFO Request is completed\n"
     ]
    },
    {
     "name": "stdout",
     "output_type": "stream",
     "text": [
      "491\n"
     ]
    },
    {
     "name": "stderr",
     "output_type": "stream",
     "text": [
      "2023-05-19 20:31:11,848 INFO Welcome to the CDS\n",
      "2023-05-19 20:31:11,848 INFO Sending request to https://cds.climate.copernicus.eu/api/v2/resources/reanalysis-era5-pressure-levels\n",
      "2023-05-19 20:31:11,901 INFO Request is queued\n",
      "2023-05-19 20:31:12,997 INFO Request is running\n",
      "2023-05-19 20:31:20,457 INFO Request is completed\n",
      "2023-05-19 20:31:20,790 INFO Welcome to the CDS\n",
      "2023-05-19 20:31:20,792 INFO Sending request to https://cds.climate.copernicus.eu/api/v2/resources/reanalysis-era5-pressure-levels\n",
      "2023-05-19 20:31:20,865 INFO Request is queued\n"
     ]
    },
    {
     "name": "stdout",
     "output_type": "stream",
     "text": [
      "492\n"
     ]
    },
    {
     "name": "stderr",
     "output_type": "stream",
     "text": [
      "2023-05-19 20:31:21,938 INFO Request is running\n",
      "2023-05-19 20:31:29,259 INFO Request is completed\n",
      "2023-05-19 20:31:29,591 INFO Welcome to the CDS\n",
      "2023-05-19 20:31:29,592 INFO Sending request to https://cds.climate.copernicus.eu/api/v2/resources/reanalysis-era5-pressure-levels\n",
      "2023-05-19 20:31:29,671 INFO Request is queued\n"
     ]
    },
    {
     "name": "stdout",
     "output_type": "stream",
     "text": [
      "493\n"
     ]
    },
    {
     "name": "stderr",
     "output_type": "stream",
     "text": [
      "2023-05-19 20:31:30,745 INFO Request is running\n",
      "2023-05-19 20:31:38,065 INFO Request is completed\n",
      "2023-05-19 20:31:38,555 INFO Welcome to the CDS\n",
      "2023-05-19 20:31:38,556 INFO Sending request to https://cds.climate.copernicus.eu/api/v2/resources/reanalysis-era5-pressure-levels\n",
      "2023-05-19 20:31:38,621 INFO Request is queued\n"
     ]
    },
    {
     "name": "stdout",
     "output_type": "stream",
     "text": [
      "494\n"
     ]
    },
    {
     "name": "stderr",
     "output_type": "stream",
     "text": [
      "2023-05-19 20:31:39,695 INFO Request is running\n",
      "2023-05-19 20:31:47,013 INFO Request is completed\n",
      "2023-05-19 20:31:47,371 INFO Welcome to the CDS\n",
      "2023-05-19 20:31:47,373 INFO Sending request to https://cds.climate.copernicus.eu/api/v2/resources/reanalysis-era5-pressure-levels\n",
      "2023-05-19 20:31:47,447 INFO Request is queued\n"
     ]
    },
    {
     "name": "stdout",
     "output_type": "stream",
     "text": [
      "495\n"
     ]
    },
    {
     "name": "stderr",
     "output_type": "stream",
     "text": [
      "2023-05-19 20:31:48,514 INFO Request is running\n",
      "2023-05-19 20:31:55,848 INFO Request is completed\n",
      "2023-05-19 20:31:56,212 INFO Welcome to the CDS\n",
      "2023-05-19 20:31:56,214 INFO Sending request to https://cds.climate.copernicus.eu/api/v2/resources/reanalysis-era5-pressure-levels\n",
      "2023-05-19 20:31:56,291 INFO Request is queued\n"
     ]
    },
    {
     "name": "stdout",
     "output_type": "stream",
     "text": [
      "496\n"
     ]
    },
    {
     "name": "stderr",
     "output_type": "stream",
     "text": [
      "2023-05-19 20:31:57,382 INFO Request is running\n",
      "2023-05-19 20:32:04,731 INFO Request is completed\n",
      "2023-05-19 20:32:05,089 INFO Welcome to the CDS\n",
      "2023-05-19 20:32:05,091 INFO Sending request to https://cds.climate.copernicus.eu/api/v2/resources/reanalysis-era5-pressure-levels\n",
      "2023-05-19 20:32:05,153 INFO Request is queued\n"
     ]
    },
    {
     "name": "stdout",
     "output_type": "stream",
     "text": [
      "497\n"
     ]
    },
    {
     "name": "stderr",
     "output_type": "stream",
     "text": [
      "2023-05-19 20:32:06,214 INFO Request is running\n",
      "2023-05-19 20:32:13,540 INFO Request is completed\n",
      "2023-05-19 20:32:14,082 INFO Welcome to the CDS\n",
      "2023-05-19 20:32:14,083 INFO Sending request to https://cds.climate.copernicus.eu/api/v2/resources/reanalysis-era5-pressure-levels\n",
      "2023-05-19 20:32:14,147 INFO Request is queued\n"
     ]
    },
    {
     "name": "stdout",
     "output_type": "stream",
     "text": [
      "498\n"
     ]
    },
    {
     "name": "stderr",
     "output_type": "stream",
     "text": [
      "2023-05-19 20:32:15,214 INFO Request is running\n",
      "2023-05-19 20:32:22,541 INFO Request is completed\n",
      "2023-05-19 20:32:23,197 INFO Welcome to the CDS\n",
      "2023-05-19 20:32:23,197 INFO Sending request to https://cds.climate.copernicus.eu/api/v2/resources/reanalysis-era5-pressure-levels\n",
      "2023-05-19 20:32:23,263 INFO Request is queued\n"
     ]
    },
    {
     "name": "stdout",
     "output_type": "stream",
     "text": [
      "499\n"
     ]
    },
    {
     "name": "stderr",
     "output_type": "stream",
     "text": [
      "2023-05-19 20:32:24,330 INFO Request is running\n",
      "2023-05-19 20:32:31,654 INFO Request is completed\n",
      "2023-05-19 20:32:31,990 INFO Welcome to the CDS\n",
      "2023-05-19 20:32:31,998 INFO Sending request to https://cds.climate.copernicus.eu/api/v2/resources/reanalysis-era5-pressure-levels\n",
      "2023-05-19 20:32:32,112 INFO Request is queued\n"
     ]
    },
    {
     "name": "stdout",
     "output_type": "stream",
     "text": [
      "500\n"
     ]
    },
    {
     "name": "stderr",
     "output_type": "stream",
     "text": [
      "2023-05-19 20:32:33,172 INFO Request is running\n",
      "2023-05-19 20:32:40,479 INFO Request is completed\n",
      "2023-05-19 20:32:40,816 INFO Welcome to the CDS\n",
      "2023-05-19 20:32:40,822 INFO Sending request to https://cds.climate.copernicus.eu/api/v2/resources/reanalysis-era5-pressure-levels\n",
      "2023-05-19 20:32:40,906 INFO Request is queued\n"
     ]
    },
    {
     "name": "stdout",
     "output_type": "stream",
     "text": [
      "501\n"
     ]
    },
    {
     "name": "stderr",
     "output_type": "stream",
     "text": [
      "2023-05-19 20:32:41,972 INFO Request is running\n",
      "2023-05-19 20:32:49,316 INFO Request is completed\n",
      "2023-05-19 20:32:49,786 INFO Welcome to the CDS\n",
      "2023-05-19 20:32:49,788 INFO Sending request to https://cds.climate.copernicus.eu/api/v2/resources/reanalysis-era5-pressure-levels\n",
      "2023-05-19 20:32:49,847 INFO Request is queued\n"
     ]
    },
    {
     "name": "stdout",
     "output_type": "stream",
     "text": [
      "502\n"
     ]
    },
    {
     "name": "stderr",
     "output_type": "stream",
     "text": [
      "2023-05-19 20:32:50,913 INFO Request is running\n",
      "2023-05-19 20:33:03,356 INFO Request is completed\n",
      "2023-05-19 20:33:03,899 INFO Welcome to the CDS\n",
      "2023-05-19 20:33:03,904 INFO Sending request to https://cds.climate.copernicus.eu/api/v2/resources/reanalysis-era5-pressure-levels\n",
      "2023-05-19 20:33:03,971 INFO Request is queued\n"
     ]
    },
    {
     "name": "stdout",
     "output_type": "stream",
     "text": [
      "503\n"
     ]
    },
    {
     "name": "stderr",
     "output_type": "stream",
     "text": [
      "2023-05-19 20:33:05,040 INFO Request is running\n",
      "2023-05-19 20:33:12,351 INFO Request is completed\n",
      "2023-05-19 20:33:12,796 INFO Welcome to the CDS\n",
      "2023-05-19 20:33:12,797 INFO Sending request to https://cds.climate.copernicus.eu/api/v2/resources/reanalysis-era5-pressure-levels\n",
      "2023-05-19 20:33:12,850 INFO Request is queued\n"
     ]
    },
    {
     "name": "stdout",
     "output_type": "stream",
     "text": [
      "504\n"
     ]
    },
    {
     "name": "stderr",
     "output_type": "stream",
     "text": [
      "2023-05-19 20:33:13,914 INFO Request is running\n",
      "2023-05-19 20:33:26,348 INFO Request is completed\n",
      "2023-05-19 20:33:26,682 INFO Welcome to the CDS\n",
      "2023-05-19 20:33:26,688 INFO Sending request to https://cds.climate.copernicus.eu/api/v2/resources/reanalysis-era5-pressure-levels\n",
      "2023-05-19 20:33:26,760 INFO Request is queued\n"
     ]
    },
    {
     "name": "stdout",
     "output_type": "stream",
     "text": [
      "505\n"
     ]
    },
    {
     "name": "stderr",
     "output_type": "stream",
     "text": [
      "2023-05-19 20:33:27,823 INFO Request is running\n",
      "2023-05-19 20:33:40,263 INFO Request is completed\n",
      "2023-05-19 20:33:40,605 INFO Welcome to the CDS\n",
      "2023-05-19 20:33:40,606 INFO Sending request to https://cds.climate.copernicus.eu/api/v2/resources/reanalysis-era5-pressure-levels\n",
      "2023-05-19 20:33:40,665 INFO Request is queued\n"
     ]
    },
    {
     "name": "stdout",
     "output_type": "stream",
     "text": [
      "506\n"
     ]
    },
    {
     "name": "stderr",
     "output_type": "stream",
     "text": [
      "2023-05-19 20:33:41,730 INFO Request is running\n",
      "2023-05-19 20:33:49,039 INFO Request is completed\n",
      "2023-05-19 20:33:49,361 INFO Welcome to the CDS\n",
      "2023-05-19 20:33:49,362 INFO Sending request to https://cds.climate.copernicus.eu/api/v2/resources/reanalysis-era5-pressure-levels\n"
     ]
    },
    {
     "name": "stdout",
     "output_type": "stream",
     "text": [
      "507\n"
     ]
    },
    {
     "name": "stderr",
     "output_type": "stream",
     "text": [
      "2023-05-19 20:33:49,740 INFO Request is queued\n",
      "2023-05-19 20:33:50,803 INFO Request is running\n",
      "2023-05-19 20:33:58,112 INFO Request is completed\n",
      "2023-05-19 20:33:58,447 INFO Welcome to the CDS\n",
      "2023-05-19 20:33:58,449 INFO Sending request to https://cds.climate.copernicus.eu/api/v2/resources/reanalysis-era5-pressure-levels\n",
      "2023-05-19 20:33:58,505 INFO Request is queued\n"
     ]
    },
    {
     "name": "stdout",
     "output_type": "stream",
     "text": [
      "508\n"
     ]
    },
    {
     "name": "stderr",
     "output_type": "stream",
     "text": [
      "2023-05-19 20:33:59,572 INFO Request is running\n",
      "2023-05-19 20:34:06,877 INFO Request is completed\n",
      "2023-05-19 20:34:07,203 INFO Welcome to the CDS\n",
      "2023-05-19 20:34:07,204 INFO Sending request to https://cds.climate.copernicus.eu/api/v2/resources/reanalysis-era5-pressure-levels\n",
      "2023-05-19 20:34:07,279 INFO Request is queued\n"
     ]
    },
    {
     "name": "stdout",
     "output_type": "stream",
     "text": [
      "509\n"
     ]
    },
    {
     "name": "stderr",
     "output_type": "stream",
     "text": [
      "2023-05-19 20:34:08,338 INFO Request is running\n",
      "2023-05-19 20:34:15,654 INFO Request is completed\n",
      "2023-05-19 20:34:15,983 INFO Welcome to the CDS\n",
      "2023-05-19 20:34:15,984 INFO Sending request to https://cds.climate.copernicus.eu/api/v2/resources/reanalysis-era5-pressure-levels\n",
      "2023-05-19 20:34:16,044 INFO Request is queued\n"
     ]
    },
    {
     "name": "stdout",
     "output_type": "stream",
     "text": [
      "510\n"
     ]
    },
    {
     "name": "stderr",
     "output_type": "stream",
     "text": [
      "2023-05-19 20:34:17,104 INFO Request is running\n",
      "2023-05-19 20:34:24,430 INFO Request is completed\n",
      "2023-05-19 20:34:24,752 INFO Welcome to the CDS\n",
      "2023-05-19 20:34:24,754 INFO Sending request to https://cds.climate.copernicus.eu/api/v2/resources/reanalysis-era5-pressure-levels\n",
      "2023-05-19 20:34:24,811 INFO Request is queued\n"
     ]
    },
    {
     "name": "stdout",
     "output_type": "stream",
     "text": [
      "511\n"
     ]
    },
    {
     "name": "stderr",
     "output_type": "stream",
     "text": [
      "2023-05-19 20:34:25,870 INFO Request is running\n",
      "2023-05-19 20:34:33,182 INFO Request is completed\n",
      "2023-05-19 20:34:33,513 INFO Welcome to the CDS\n",
      "2023-05-19 20:34:33,518 INFO Sending request to https://cds.climate.copernicus.eu/api/v2/resources/reanalysis-era5-pressure-levels\n",
      "2023-05-19 20:34:33,573 INFO Request is queued\n"
     ]
    },
    {
     "name": "stdout",
     "output_type": "stream",
     "text": [
      "512\n"
     ]
    },
    {
     "name": "stderr",
     "output_type": "stream",
     "text": [
      "2023-05-19 20:34:34,633 INFO Request is running\n",
      "2023-05-19 20:34:42,101 INFO Request is completed\n",
      "2023-05-19 20:34:42,442 INFO Welcome to the CDS\n",
      "2023-05-19 20:34:42,443 INFO Sending request to https://cds.climate.copernicus.eu/api/v2/resources/reanalysis-era5-pressure-levels\n",
      "2023-05-19 20:34:42,507 INFO Request is queued\n"
     ]
    },
    {
     "name": "stdout",
     "output_type": "stream",
     "text": [
      "513\n"
     ]
    },
    {
     "name": "stderr",
     "output_type": "stream",
     "text": [
      "2023-05-19 20:34:43,575 INFO Request is running\n",
      "2023-05-19 20:34:50,890 INFO Request is completed\n",
      "2023-05-19 20:34:51,227 INFO Welcome to the CDS\n",
      "2023-05-19 20:34:51,228 INFO Sending request to https://cds.climate.copernicus.eu/api/v2/resources/reanalysis-era5-pressure-levels\n",
      "2023-05-19 20:34:51,336 INFO Request is queued\n"
     ]
    },
    {
     "name": "stdout",
     "output_type": "stream",
     "text": [
      "514\n"
     ]
    },
    {
     "name": "stderr",
     "output_type": "stream",
     "text": [
      "2023-05-19 20:34:52,397 INFO Request is running\n",
      "2023-05-19 20:35:04,839 INFO Request is completed\n",
      "2023-05-19 20:35:05,171 INFO Welcome to the CDS\n",
      "2023-05-19 20:35:05,172 INFO Sending request to https://cds.climate.copernicus.eu/api/v2/resources/reanalysis-era5-pressure-levels\n",
      "2023-05-19 20:35:05,230 INFO Request is queued\n"
     ]
    },
    {
     "name": "stdout",
     "output_type": "stream",
     "text": [
      "515\n"
     ]
    },
    {
     "name": "stderr",
     "output_type": "stream",
     "text": [
      "2023-05-19 20:35:06,288 INFO Request is running\n",
      "2023-05-19 20:35:13,594 INFO Request is completed\n",
      "2023-05-19 20:35:13,937 INFO Welcome to the CDS\n",
      "2023-05-19 20:35:13,939 INFO Sending request to https://cds.climate.copernicus.eu/api/v2/resources/reanalysis-era5-pressure-levels\n",
      "2023-05-19 20:35:14,015 INFO Request is queued\n"
     ]
    },
    {
     "name": "stdout",
     "output_type": "stream",
     "text": [
      "516\n"
     ]
    },
    {
     "name": "stderr",
     "output_type": "stream",
     "text": [
      "2023-05-19 20:35:15,077 INFO Request is running\n",
      "2023-05-19 20:35:22,387 INFO Request is completed\n",
      "2023-05-19 20:35:22,745 INFO Welcome to the CDS\n",
      "2023-05-19 20:35:22,746 INFO Sending request to https://cds.climate.copernicus.eu/api/v2/resources/reanalysis-era5-pressure-levels\n",
      "2023-05-19 20:35:22,814 INFO Request is queued\n"
     ]
    },
    {
     "name": "stdout",
     "output_type": "stream",
     "text": [
      "517\n"
     ]
    },
    {
     "name": "stderr",
     "output_type": "stream",
     "text": [
      "2023-05-19 20:35:23,881 INFO Request is running\n",
      "2023-05-19 20:35:31,189 INFO Request is completed\n",
      "2023-05-19 20:35:31,730 INFO Welcome to the CDS\n",
      "2023-05-19 20:35:31,735 INFO Sending request to https://cds.climate.copernicus.eu/api/v2/resources/reanalysis-era5-pressure-levels\n",
      "2023-05-19 20:35:31,788 INFO Request is queued\n"
     ]
    },
    {
     "name": "stdout",
     "output_type": "stream",
     "text": [
      "518\n"
     ]
    },
    {
     "name": "stderr",
     "output_type": "stream",
     "text": [
      "2023-05-19 20:35:32,888 INFO Request is running\n",
      "2023-05-19 20:35:40,206 INFO Request is completed\n",
      "2023-05-19 20:35:40,548 INFO Welcome to the CDS\n",
      "2023-05-19 20:35:40,549 INFO Sending request to https://cds.climate.copernicus.eu/api/v2/resources/reanalysis-era5-pressure-levels\n",
      "2023-05-19 20:35:40,603 INFO Request is queued\n"
     ]
    },
    {
     "name": "stdout",
     "output_type": "stream",
     "text": [
      "519\n"
     ]
    },
    {
     "name": "stderr",
     "output_type": "stream",
     "text": [
      "2023-05-19 20:35:41,661 INFO Request is running\n",
      "2023-05-19 20:35:54,096 INFO Request is completed\n",
      "2023-05-19 20:35:54,546 INFO Welcome to the CDS\n",
      "2023-05-19 20:35:54,547 INFO Sending request to https://cds.climate.copernicus.eu/api/v2/resources/reanalysis-era5-pressure-levels\n",
      "2023-05-19 20:35:54,605 INFO Request is queued\n"
     ]
    },
    {
     "name": "stdout",
     "output_type": "stream",
     "text": [
      "520\n"
     ]
    },
    {
     "name": "stderr",
     "output_type": "stream",
     "text": [
      "2023-05-19 20:35:55,669 INFO Request is running\n",
      "2023-05-19 20:36:02,983 INFO Request is completed\n",
      "2023-05-19 20:36:03,321 INFO Welcome to the CDS\n",
      "2023-05-19 20:36:03,322 INFO Sending request to https://cds.climate.copernicus.eu/api/v2/resources/reanalysis-era5-pressure-levels\n",
      "2023-05-19 20:36:03,384 INFO Request is queued\n"
     ]
    },
    {
     "name": "stdout",
     "output_type": "stream",
     "text": [
      "521\n"
     ]
    },
    {
     "name": "stderr",
     "output_type": "stream",
     "text": [
      "2023-05-19 20:36:04,446 INFO Request is running\n",
      "2023-05-19 20:36:11,762 INFO Request is completed\n",
      "2023-05-19 20:36:12,226 INFO Welcome to the CDS\n",
      "2023-05-19 20:36:12,228 INFO Sending request to https://cds.climate.copernicus.eu/api/v2/resources/reanalysis-era5-pressure-levels\n",
      "2023-05-19 20:36:12,288 INFO Request is queued\n"
     ]
    },
    {
     "name": "stdout",
     "output_type": "stream",
     "text": [
      "522\n"
     ]
    },
    {
     "name": "stderr",
     "output_type": "stream",
     "text": [
      "2023-05-19 20:36:13,363 INFO Request is running\n",
      "2023-05-19 20:36:20,695 INFO Request is completed\n",
      "2023-05-19 20:36:21,190 INFO Welcome to the CDS\n",
      "2023-05-19 20:36:21,194 INFO Sending request to https://cds.climate.copernicus.eu/api/v2/resources/reanalysis-era5-pressure-levels\n",
      "2023-05-19 20:36:21,263 INFO Request is queued\n"
     ]
    },
    {
     "name": "stdout",
     "output_type": "stream",
     "text": [
      "523\n"
     ]
    },
    {
     "name": "stderr",
     "output_type": "stream",
     "text": [
      "2023-05-19 20:36:22,354 INFO Request is running\n",
      "2023-05-19 20:36:29,665 INFO Request is completed\n",
      "2023-05-19 20:36:29,988 INFO Welcome to the CDS\n",
      "2023-05-19 20:36:29,989 INFO Sending request to https://cds.climate.copernicus.eu/api/v2/resources/reanalysis-era5-pressure-levels\n",
      "2023-05-19 20:36:30,051 INFO Request is queued\n"
     ]
    },
    {
     "name": "stdout",
     "output_type": "stream",
     "text": [
      "524\n"
     ]
    },
    {
     "name": "stderr",
     "output_type": "stream",
     "text": [
      "2023-05-19 20:36:31,112 INFO Request is running\n",
      "2023-05-19 20:36:38,437 INFO Request is completed\n",
      "2023-05-19 20:36:38,763 INFO Welcome to the CDS\n",
      "2023-05-19 20:36:38,765 INFO Sending request to https://cds.climate.copernicus.eu/api/v2/resources/reanalysis-era5-pressure-levels\n",
      "2023-05-19 20:36:38,819 INFO Request is queued\n"
     ]
    },
    {
     "name": "stdout",
     "output_type": "stream",
     "text": [
      "525\n"
     ]
    },
    {
     "name": "stderr",
     "output_type": "stream",
     "text": [
      "2023-05-19 20:36:39,876 INFO Request is running\n",
      "2023-05-19 20:36:47,194 INFO Request is completed\n",
      "2023-05-19 20:36:47,519 INFO Welcome to the CDS\n",
      "2023-05-19 20:36:47,520 INFO Sending request to https://cds.climate.copernicus.eu/api/v2/resources/reanalysis-era5-pressure-levels\n",
      "2023-05-19 20:36:47,578 INFO Request is queued\n"
     ]
    },
    {
     "name": "stdout",
     "output_type": "stream",
     "text": [
      "526\n"
     ]
    },
    {
     "name": "stderr",
     "output_type": "stream",
     "text": [
      "2023-05-19 20:36:48,645 INFO Request is running\n",
      "2023-05-19 20:36:56,170 INFO Request is completed\n",
      "2023-05-19 20:36:56,637 INFO Welcome to the CDS\n",
      "2023-05-19 20:36:56,638 INFO Sending request to https://cds.climate.copernicus.eu/api/v2/resources/reanalysis-era5-pressure-levels\n",
      "2023-05-19 20:36:56,704 INFO Request is queued\n"
     ]
    },
    {
     "name": "stdout",
     "output_type": "stream",
     "text": [
      "527\n"
     ]
    },
    {
     "name": "stderr",
     "output_type": "stream",
     "text": [
      "2023-05-19 20:36:57,778 INFO Request is running\n",
      "2023-05-19 20:37:05,133 INFO Request is completed\n",
      "2023-05-19 20:37:05,633 INFO Welcome to the CDS\n",
      "2023-05-19 20:37:05,634 INFO Sending request to https://cds.climate.copernicus.eu/api/v2/resources/reanalysis-era5-pressure-levels\n",
      "2023-05-19 20:37:05,716 INFO Request is queued\n"
     ]
    },
    {
     "name": "stdout",
     "output_type": "stream",
     "text": [
      "528\n"
     ]
    },
    {
     "name": "stderr",
     "output_type": "stream",
     "text": [
      "2023-05-19 20:37:06,788 INFO Request is running\n",
      "2023-05-19 20:37:14,132 INFO Request is completed\n",
      "2023-05-19 20:37:14,607 INFO Welcome to the CDS\n",
      "2023-05-19 20:37:14,609 INFO Sending request to https://cds.climate.copernicus.eu/api/v2/resources/reanalysis-era5-pressure-levels\n",
      "2023-05-19 20:37:14,674 INFO Request is queued\n"
     ]
    },
    {
     "name": "stdout",
     "output_type": "stream",
     "text": [
      "529\n"
     ]
    },
    {
     "name": "stderr",
     "output_type": "stream",
     "text": [
      "2023-05-19 20:37:15,748 INFO Request is running\n",
      "2023-05-19 20:37:23,094 INFO Request is completed\n",
      "2023-05-19 20:37:23,583 INFO Welcome to the CDS\n",
      "2023-05-19 20:37:23,584 INFO Sending request to https://cds.climate.copernicus.eu/api/v2/resources/reanalysis-era5-pressure-levels\n",
      "2023-05-19 20:37:23,644 INFO Request is queued\n"
     ]
    },
    {
     "name": "stdout",
     "output_type": "stream",
     "text": [
      "530\n"
     ]
    },
    {
     "name": "stderr",
     "output_type": "stream",
     "text": [
      "2023-05-19 20:37:24,726 INFO Request is running\n",
      "2023-05-19 20:37:32,060 INFO Request is completed\n",
      "2023-05-19 20:37:32,650 INFO Welcome to the CDS\n",
      "2023-05-19 20:37:32,651 INFO Sending request to https://cds.climate.copernicus.eu/api/v2/resources/reanalysis-era5-pressure-levels\n",
      "2023-05-19 20:37:32,741 INFO Request is queued\n"
     ]
    },
    {
     "name": "stdout",
     "output_type": "stream",
     "text": [
      "531\n"
     ]
    },
    {
     "name": "stderr",
     "output_type": "stream",
     "text": [
      "2023-05-19 20:37:33,813 INFO Request is running\n",
      "2023-05-19 20:37:37,849 INFO Request is completed\n",
      "2023-05-19 20:37:38,414 INFO Welcome to the CDS\n",
      "2023-05-19 20:37:38,414 INFO Sending request to https://cds.climate.copernicus.eu/api/v2/resources/reanalysis-era5-pressure-levels\n",
      "2023-05-19 20:37:38,475 INFO Request is queued\n"
     ]
    },
    {
     "name": "stdout",
     "output_type": "stream",
     "text": [
      "532\n"
     ]
    },
    {
     "name": "stderr",
     "output_type": "stream",
     "text": [
      "2023-05-19 20:37:39,553 INFO Request is running\n",
      "2023-05-19 20:37:46,926 INFO Request is completed\n",
      "2023-05-19 20:37:47,423 INFO Welcome to the CDS\n",
      "2023-05-19 20:37:47,425 INFO Sending request to https://cds.climate.copernicus.eu/api/v2/resources/reanalysis-era5-pressure-levels\n",
      "2023-05-19 20:37:47,507 INFO Request is queued\n"
     ]
    },
    {
     "name": "stdout",
     "output_type": "stream",
     "text": [
      "533\n"
     ]
    },
    {
     "name": "stderr",
     "output_type": "stream",
     "text": [
      "2023-05-19 20:37:48,583 INFO Request is running\n",
      "2023-05-19 20:37:55,932 INFO Request is completed\n",
      "2023-05-19 20:37:56,275 INFO Welcome to the CDS\n",
      "2023-05-19 20:37:56,276 INFO Sending request to https://cds.climate.copernicus.eu/api/v2/resources/reanalysis-era5-pressure-levels\n",
      "2023-05-19 20:37:56,343 INFO Request is queued\n"
     ]
    },
    {
     "name": "stdout",
     "output_type": "stream",
     "text": [
      "534\n"
     ]
    },
    {
     "name": "stderr",
     "output_type": "stream",
     "text": [
      "2023-05-19 20:37:57,424 INFO Request is running\n",
      "2023-05-19 20:38:04,754 INFO Request is completed\n",
      "2023-05-19 20:38:05,096 INFO Welcome to the CDS\n",
      "2023-05-19 20:38:05,098 INFO Sending request to https://cds.climate.copernicus.eu/api/v2/resources/reanalysis-era5-pressure-levels\n",
      "2023-05-19 20:38:05,188 INFO Request is queued\n"
     ]
    },
    {
     "name": "stdout",
     "output_type": "stream",
     "text": [
      "535\n"
     ]
    },
    {
     "name": "stderr",
     "output_type": "stream",
     "text": [
      "2023-05-19 20:38:06,271 INFO Request is running\n",
      "2023-05-19 20:38:13,613 INFO Request is completed\n",
      "2023-05-19 20:38:13,940 INFO Welcome to the CDS\n",
      "2023-05-19 20:38:13,942 INFO Sending request to https://cds.climate.copernicus.eu/api/v2/resources/reanalysis-era5-pressure-levels\n",
      "2023-05-19 20:38:14,011 INFO Request is queued\n"
     ]
    },
    {
     "name": "stdout",
     "output_type": "stream",
     "text": [
      "536\n"
     ]
    },
    {
     "name": "stderr",
     "output_type": "stream",
     "text": [
      "2023-05-19 20:38:15,081 INFO Request is running\n",
      "2023-05-19 20:38:22,420 INFO Request is completed\n",
      "2023-05-19 20:38:22,878 INFO Welcome to the CDS\n",
      "2023-05-19 20:38:22,879 INFO Sending request to https://cds.climate.copernicus.eu/api/v2/resources/reanalysis-era5-pressure-levels\n",
      "2023-05-19 20:38:22,972 INFO Request is queued\n"
     ]
    },
    {
     "name": "stdout",
     "output_type": "stream",
     "text": [
      "537\n"
     ]
    },
    {
     "name": "stderr",
     "output_type": "stream",
     "text": [
      "2023-05-19 20:38:24,053 INFO Request is running\n",
      "2023-05-19 20:38:31,410 INFO Request is completed\n",
      "2023-05-19 20:38:31,761 INFO Welcome to the CDS\n",
      "2023-05-19 20:38:31,766 INFO Sending request to https://cds.climate.copernicus.eu/api/v2/resources/reanalysis-era5-pressure-levels\n",
      "2023-05-19 20:38:31,875 INFO Request is queued\n"
     ]
    },
    {
     "name": "stdout",
     "output_type": "stream",
     "text": [
      "538\n"
     ]
    },
    {
     "name": "stderr",
     "output_type": "stream",
     "text": [
      "2023-05-19 20:38:32,967 INFO Request is running\n",
      "2023-05-19 20:38:40,321 INFO Request is completed\n",
      "2023-05-19 20:38:40,688 INFO Welcome to the CDS\n",
      "2023-05-19 20:38:40,689 INFO Sending request to https://cds.climate.copernicus.eu/api/v2/resources/reanalysis-era5-pressure-levels\n",
      "2023-05-19 20:38:40,811 INFO Request is queued\n"
     ]
    },
    {
     "name": "stdout",
     "output_type": "stream",
     "text": [
      "539\n"
     ]
    },
    {
     "name": "stderr",
     "output_type": "stream",
     "text": [
      "2023-05-19 20:38:41,888 INFO Request is running\n",
      "2023-05-19 20:38:49,246 INFO Request is completed\n",
      "2023-05-19 20:38:49,604 INFO Welcome to the CDS\n",
      "2023-05-19 20:38:49,605 INFO Sending request to https://cds.climate.copernicus.eu/api/v2/resources/reanalysis-era5-pressure-levels\n",
      "2023-05-19 20:38:49,669 INFO Request is queued\n"
     ]
    },
    {
     "name": "stdout",
     "output_type": "stream",
     "text": [
      "540\n"
     ]
    },
    {
     "name": "stderr",
     "output_type": "stream",
     "text": [
      "2023-05-19 20:38:50,752 INFO Request is running\n",
      "2023-05-19 20:38:58,154 INFO Request is completed\n",
      "2023-05-19 20:38:58,536 INFO Welcome to the CDS\n",
      "2023-05-19 20:38:58,537 INFO Sending request to https://cds.climate.copernicus.eu/api/v2/resources/reanalysis-era5-pressure-levels\n"
     ]
    },
    {
     "name": "stdout",
     "output_type": "stream",
     "text": [
      "541\n"
     ]
    },
    {
     "name": "stderr",
     "output_type": "stream",
     "text": [
      "2023-05-19 20:38:58,752 INFO Request is queued\n",
      "2023-05-19 20:38:59,821 INFO Request is running\n",
      "2023-05-19 20:39:07,163 INFO Request is completed\n",
      "2023-05-19 20:39:07,669 INFO Welcome to the CDS\n",
      "2023-05-19 20:39:07,670 INFO Sending request to https://cds.climate.copernicus.eu/api/v2/resources/reanalysis-era5-pressure-levels\n",
      "2023-05-19 20:39:07,739 INFO Request is queued\n"
     ]
    },
    {
     "name": "stdout",
     "output_type": "stream",
     "text": [
      "542\n"
     ]
    },
    {
     "name": "stderr",
     "output_type": "stream",
     "text": [
      "2023-05-19 20:39:08,811 INFO Request is running\n",
      "2023-05-19 20:39:16,145 INFO Request is completed\n",
      "2023-05-19 20:39:16,636 INFO Welcome to the CDS\n",
      "2023-05-19 20:39:16,637 INFO Sending request to https://cds.climate.copernicus.eu/api/v2/resources/reanalysis-era5-pressure-levels\n",
      "2023-05-19 20:39:16,704 INFO Request is queued\n"
     ]
    },
    {
     "name": "stdout",
     "output_type": "stream",
     "text": [
      "543\n"
     ]
    },
    {
     "name": "stderr",
     "output_type": "stream",
     "text": [
      "2023-05-19 20:39:17,776 INFO Request is running\n",
      "2023-05-19 20:39:25,110 INFO Request is completed\n",
      "2023-05-19 20:39:25,496 INFO Welcome to the CDS\n",
      "2023-05-19 20:39:25,502 INFO Sending request to https://cds.climate.copernicus.eu/api/v2/resources/reanalysis-era5-pressure-levels\n",
      "2023-05-19 20:39:25,585 INFO Request is queued\n"
     ]
    },
    {
     "name": "stdout",
     "output_type": "stream",
     "text": [
      "544\n"
     ]
    },
    {
     "name": "stderr",
     "output_type": "stream",
     "text": [
      "2023-05-19 20:39:26,658 INFO Request is running\n",
      "2023-05-19 20:39:34,030 INFO Request is completed\n",
      "2023-05-19 20:39:34,520 INFO Welcome to the CDS\n",
      "2023-05-19 20:39:34,522 INFO Sending request to https://cds.climate.copernicus.eu/api/v2/resources/reanalysis-era5-pressure-levels\n",
      "2023-05-19 20:39:34,588 INFO Request is queued\n"
     ]
    },
    {
     "name": "stdout",
     "output_type": "stream",
     "text": [
      "545\n"
     ]
    },
    {
     "name": "stderr",
     "output_type": "stream",
     "text": [
      "2023-05-19 20:39:35,662 INFO Request is running\n",
      "2023-05-19 20:39:43,010 INFO Request is completed\n",
      "2023-05-19 20:39:43,511 INFO Welcome to the CDS\n",
      "2023-05-19 20:39:43,512 INFO Sending request to https://cds.climate.copernicus.eu/api/v2/resources/reanalysis-era5-pressure-levels\n",
      "2023-05-19 20:39:43,577 INFO Request is queued\n"
     ]
    },
    {
     "name": "stdout",
     "output_type": "stream",
     "text": [
      "546\n"
     ]
    },
    {
     "name": "stderr",
     "output_type": "stream",
     "text": [
      "2023-05-19 20:39:44,653 INFO Request is running\n",
      "2023-05-19 20:39:51,994 INFO Request is completed\n",
      "2023-05-19 20:39:52,309 INFO Welcome to the CDS\n",
      "2023-05-19 20:39:52,310 INFO Sending request to https://cds.climate.copernicus.eu/api/v2/resources/reanalysis-era5-pressure-levels\n",
      "2023-05-19 20:39:52,393 INFO Request is queued\n"
     ]
    },
    {
     "name": "stdout",
     "output_type": "stream",
     "text": [
      "547\n"
     ]
    },
    {
     "name": "stderr",
     "output_type": "stream",
     "text": [
      "2023-05-19 20:39:53,468 INFO Request is running\n",
      "2023-05-19 20:40:00,818 INFO Request is completed\n",
      "2023-05-19 20:40:01,161 INFO Welcome to the CDS\n",
      "2023-05-19 20:40:01,162 INFO Sending request to https://cds.climate.copernicus.eu/api/v2/resources/reanalysis-era5-pressure-levels\n",
      "2023-05-19 20:40:01,246 INFO Request is queued\n"
     ]
    },
    {
     "name": "stdout",
     "output_type": "stream",
     "text": [
      "548\n"
     ]
    },
    {
     "name": "stderr",
     "output_type": "stream",
     "text": [
      "2023-05-19 20:40:02,327 INFO Request is running\n",
      "2023-05-19 20:40:09,654 INFO Request is completed\n",
      "2023-05-19 20:40:10,020 INFO Welcome to the CDS\n",
      "2023-05-19 20:40:10,021 INFO Sending request to https://cds.climate.copernicus.eu/api/v2/resources/reanalysis-era5-pressure-levels\n",
      "2023-05-19 20:40:10,086 INFO Request is queued\n"
     ]
    },
    {
     "name": "stdout",
     "output_type": "stream",
     "text": [
      "549\n"
     ]
    },
    {
     "name": "stderr",
     "output_type": "stream",
     "text": [
      "2023-05-19 20:40:11,159 INFO Request is running\n",
      "2023-05-19 20:40:18,536 INFO Request is completed\n",
      "2023-05-19 20:40:18,877 INFO Welcome to the CDS\n",
      "2023-05-19 20:40:18,878 INFO Sending request to https://cds.climate.copernicus.eu/api/v2/resources/reanalysis-era5-pressure-levels\n",
      "2023-05-19 20:40:18,952 INFO Request is queued\n"
     ]
    },
    {
     "name": "stdout",
     "output_type": "stream",
     "text": [
      "550\n"
     ]
    },
    {
     "name": "stderr",
     "output_type": "stream",
     "text": [
      "2023-05-19 20:40:20,027 INFO Request is running\n",
      "2023-05-19 20:40:27,365 INFO Request is completed\n",
      "2023-05-19 20:40:27,699 INFO Welcome to the CDS\n",
      "2023-05-19 20:40:27,700 INFO Sending request to https://cds.climate.copernicus.eu/api/v2/resources/reanalysis-era5-pressure-levels\n",
      "2023-05-19 20:40:27,767 INFO Request is queued\n"
     ]
    },
    {
     "name": "stdout",
     "output_type": "stream",
     "text": [
      "551\n"
     ]
    },
    {
     "name": "stderr",
     "output_type": "stream",
     "text": [
      "2023-05-19 20:40:28,845 INFO Request is running\n",
      "2023-05-19 20:40:36,188 INFO Request is completed\n",
      "2023-05-19 20:40:36,524 INFO Welcome to the CDS\n",
      "2023-05-19 20:40:36,525 INFO Sending request to https://cds.climate.copernicus.eu/api/v2/resources/reanalysis-era5-pressure-levels\n",
      "2023-05-19 20:40:36,599 INFO Request is queued\n"
     ]
    },
    {
     "name": "stdout",
     "output_type": "stream",
     "text": [
      "552\n"
     ]
    },
    {
     "name": "stderr",
     "output_type": "stream",
     "text": [
      "2023-05-19 20:40:37,675 INFO Request is running\n",
      "2023-05-19 20:40:44,998 INFO Request is completed\n",
      "2023-05-19 20:40:45,338 INFO Welcome to the CDS\n",
      "2023-05-19 20:40:45,339 INFO Sending request to https://cds.climate.copernicus.eu/api/v2/resources/reanalysis-era5-pressure-levels\n",
      "2023-05-19 20:40:45,430 INFO Request is queued\n"
     ]
    },
    {
     "name": "stdout",
     "output_type": "stream",
     "text": [
      "553\n"
     ]
    },
    {
     "name": "stderr",
     "output_type": "stream",
     "text": [
      "2023-05-19 20:40:46,498 INFO Request is running\n",
      "2023-05-19 20:40:53,839 INFO Request is completed\n",
      "2023-05-19 20:40:54,152 INFO Welcome to the CDS\n",
      "2023-05-19 20:40:54,154 INFO Sending request to https://cds.climate.copernicus.eu/api/v2/resources/reanalysis-era5-pressure-levels\n",
      "2023-05-19 20:40:54,214 INFO Request is queued\n"
     ]
    },
    {
     "name": "stdout",
     "output_type": "stream",
     "text": [
      "554\n"
     ]
    },
    {
     "name": "stderr",
     "output_type": "stream",
     "text": [
      "2023-05-19 20:40:55,282 INFO Request is running\n",
      "2023-05-19 20:41:02,624 INFO Request is completed\n",
      "2023-05-19 20:41:03,119 INFO Welcome to the CDS\n",
      "2023-05-19 20:41:03,120 INFO Sending request to https://cds.climate.copernicus.eu/api/v2/resources/reanalysis-era5-pressure-levels\n",
      "2023-05-19 20:41:03,184 INFO Request is queued\n"
     ]
    },
    {
     "name": "stdout",
     "output_type": "stream",
     "text": [
      "555\n"
     ]
    },
    {
     "name": "stderr",
     "output_type": "stream",
     "text": [
      "2023-05-19 20:41:04,272 INFO Request is running\n",
      "2023-05-19 20:41:11,819 INFO Request is completed\n",
      "2023-05-19 20:41:12,318 INFO Welcome to the CDS\n",
      "2023-05-19 20:41:12,320 INFO Sending request to https://cds.climate.copernicus.eu/api/v2/resources/reanalysis-era5-pressure-levels\n",
      "2023-05-19 20:41:12,379 INFO Request is queued\n"
     ]
    },
    {
     "name": "stdout",
     "output_type": "stream",
     "text": [
      "556\n"
     ]
    },
    {
     "name": "stderr",
     "output_type": "stream",
     "text": [
      "2023-05-19 20:41:13,468 INFO Request is running\n",
      "2023-05-19 20:41:20,805 INFO Request is completed\n",
      "2023-05-19 20:41:21,150 INFO Welcome to the CDS\n",
      "2023-05-19 20:41:21,151 INFO Sending request to https://cds.climate.copernicus.eu/api/v2/resources/reanalysis-era5-pressure-levels\n",
      "2023-05-19 20:41:21,211 INFO Request is queued\n"
     ]
    },
    {
     "name": "stdout",
     "output_type": "stream",
     "text": [
      "557\n"
     ]
    },
    {
     "name": "stderr",
     "output_type": "stream",
     "text": [
      "2023-05-19 20:41:22,284 INFO Request is running\n",
      "2023-05-19 20:41:29,637 INFO Request is completed\n",
      "2023-05-19 20:41:29,994 INFO Welcome to the CDS\n",
      "2023-05-19 20:41:29,995 INFO Sending request to https://cds.climate.copernicus.eu/api/v2/resources/reanalysis-era5-pressure-levels\n",
      "2023-05-19 20:41:30,059 INFO Request is queued\n"
     ]
    },
    {
     "name": "stdout",
     "output_type": "stream",
     "text": [
      "558\n"
     ]
    },
    {
     "name": "stderr",
     "output_type": "stream",
     "text": [
      "2023-05-19 20:41:31,126 INFO Request is running\n",
      "2023-05-19 20:41:38,470 INFO Request is completed\n",
      "2023-05-19 20:41:38,807 INFO Welcome to the CDS\n",
      "2023-05-19 20:41:38,809 INFO Sending request to https://cds.climate.copernicus.eu/api/v2/resources/reanalysis-era5-pressure-levels\n",
      "2023-05-19 20:41:38,886 INFO Request is queued\n"
     ]
    },
    {
     "name": "stdout",
     "output_type": "stream",
     "text": [
      "559\n"
     ]
    },
    {
     "name": "stderr",
     "output_type": "stream",
     "text": [
      "2023-05-19 20:41:39,952 INFO Request is running\n",
      "2023-05-19 20:41:47,278 INFO Request is completed\n",
      "2023-05-19 20:41:47,603 INFO Welcome to the CDS\n",
      "2023-05-19 20:41:47,604 INFO Sending request to https://cds.climate.copernicus.eu/api/v2/resources/reanalysis-era5-pressure-levels\n",
      "2023-05-19 20:41:47,668 INFO Request is queued\n"
     ]
    },
    {
     "name": "stdout",
     "output_type": "stream",
     "text": [
      "560\n"
     ]
    },
    {
     "name": "stderr",
     "output_type": "stream",
     "text": [
      "2023-05-19 20:41:48,745 INFO Request is running\n",
      "2023-05-19 20:41:56,078 INFO Request is completed\n",
      "2023-05-19 20:41:56,426 INFO Welcome to the CDS\n",
      "2023-05-19 20:41:56,429 INFO Sending request to https://cds.climate.copernicus.eu/api/v2/resources/reanalysis-era5-pressure-levels\n",
      "2023-05-19 20:41:56,501 INFO Request is queued\n"
     ]
    },
    {
     "name": "stdout",
     "output_type": "stream",
     "text": [
      "561\n"
     ]
    },
    {
     "name": "stderr",
     "output_type": "stream",
     "text": [
      "2023-05-19 20:41:57,571 INFO Request is running\n",
      "2023-05-19 20:42:04,930 INFO Request is completed\n",
      "2023-05-19 20:42:05,274 INFO Welcome to the CDS\n",
      "2023-05-19 20:42:05,277 INFO Sending request to https://cds.climate.copernicus.eu/api/v2/resources/reanalysis-era5-pressure-levels\n",
      "2023-05-19 20:42:05,337 INFO Request is queued\n"
     ]
    },
    {
     "name": "stdout",
     "output_type": "stream",
     "text": [
      "562\n"
     ]
    },
    {
     "name": "stderr",
     "output_type": "stream",
     "text": [
      "2023-05-19 20:42:06,410 INFO Request is running\n",
      "2023-05-19 20:42:13,783 INFO Request is completed\n",
      "2023-05-19 20:42:14,131 INFO Welcome to the CDS\n",
      "2023-05-19 20:42:14,132 INFO Sending request to https://cds.climate.copernicus.eu/api/v2/resources/reanalysis-era5-pressure-levels\n",
      "2023-05-19 20:42:14,197 INFO Request is queued\n"
     ]
    },
    {
     "name": "stdout",
     "output_type": "stream",
     "text": [
      "563\n"
     ]
    },
    {
     "name": "stderr",
     "output_type": "stream",
     "text": [
      "2023-05-19 20:42:15,267 INFO Request is running\n",
      "2023-05-19 20:42:27,746 INFO Request is completed\n",
      "2023-05-19 20:42:28,228 INFO Welcome to the CDS\n",
      "2023-05-19 20:42:28,229 INFO Sending request to https://cds.climate.copernicus.eu/api/v2/resources/reanalysis-era5-pressure-levels\n",
      "2023-05-19 20:42:28,287 INFO Request is queued\n"
     ]
    },
    {
     "name": "stdout",
     "output_type": "stream",
     "text": [
      "564\n"
     ]
    },
    {
     "name": "stderr",
     "output_type": "stream",
     "text": [
      "2023-05-19 20:42:29,353 INFO Request is running\n",
      "2023-05-19 20:42:36,697 INFO Request is completed\n",
      "2023-05-19 20:42:37,040 INFO Welcome to the CDS\n",
      "2023-05-19 20:42:37,042 INFO Sending request to https://cds.climate.copernicus.eu/api/v2/resources/reanalysis-era5-pressure-levels\n",
      "2023-05-19 20:42:37,150 INFO Request is queued\n"
     ]
    },
    {
     "name": "stdout",
     "output_type": "stream",
     "text": [
      "565\n"
     ]
    },
    {
     "name": "stderr",
     "output_type": "stream",
     "text": [
      "2023-05-19 20:42:38,224 INFO Request is running\n",
      "2023-05-19 20:42:45,589 INFO Request is completed\n",
      "2023-05-19 20:42:45,931 INFO Welcome to the CDS\n",
      "2023-05-19 20:42:45,932 INFO Sending request to https://cds.climate.copernicus.eu/api/v2/resources/reanalysis-era5-pressure-levels\n",
      "2023-05-19 20:42:46,015 INFO Request is queued\n"
     ]
    },
    {
     "name": "stdout",
     "output_type": "stream",
     "text": [
      "566\n"
     ]
    },
    {
     "name": "stderr",
     "output_type": "stream",
     "text": [
      "2023-05-19 20:42:47,081 INFO Request is running\n",
      "2023-05-19 20:42:54,402 INFO Request is completed\n",
      "2023-05-19 20:42:54,715 INFO Welcome to the CDS\n",
      "2023-05-19 20:42:54,717 INFO Sending request to https://cds.climate.copernicus.eu/api/v2/resources/reanalysis-era5-pressure-levels\n",
      "2023-05-19 20:42:54,798 INFO Request is queued\n"
     ]
    },
    {
     "name": "stdout",
     "output_type": "stream",
     "text": [
      "567\n"
     ]
    },
    {
     "name": "stderr",
     "output_type": "stream",
     "text": [
      "2023-05-19 20:42:55,866 INFO Request is running\n",
      "2023-05-19 20:43:03,201 INFO Request is completed\n",
      "2023-05-19 20:43:03,556 INFO Welcome to the CDS\n",
      "2023-05-19 20:43:03,557 INFO Sending request to https://cds.climate.copernicus.eu/api/v2/resources/reanalysis-era5-pressure-levels\n",
      "2023-05-19 20:43:03,633 INFO Request is queued\n"
     ]
    },
    {
     "name": "stdout",
     "output_type": "stream",
     "text": [
      "568\n"
     ]
    },
    {
     "name": "stderr",
     "output_type": "stream",
     "text": [
      "2023-05-19 20:43:04,704 INFO Request is running\n",
      "2023-05-19 20:43:12,053 INFO Request is completed\n",
      "2023-05-19 20:43:12,413 INFO Welcome to the CDS\n",
      "2023-05-19 20:43:12,414 INFO Sending request to https://cds.climate.copernicus.eu/api/v2/resources/reanalysis-era5-pressure-levels\n",
      "2023-05-19 20:43:12,538 INFO Request is queued\n"
     ]
    },
    {
     "name": "stdout",
     "output_type": "stream",
     "text": [
      "569\n"
     ]
    },
    {
     "name": "stderr",
     "output_type": "stream",
     "text": [
      "2023-05-19 20:43:13,603 INFO Request is running\n",
      "2023-05-19 20:43:21,096 INFO Request is completed\n",
      "2023-05-19 20:43:21,436 INFO Welcome to the CDS\n",
      "2023-05-19 20:43:21,437 INFO Sending request to https://cds.climate.copernicus.eu/api/v2/resources/reanalysis-era5-pressure-levels\n",
      "2023-05-19 20:43:21,512 INFO Request is queued\n"
     ]
    },
    {
     "name": "stdout",
     "output_type": "stream",
     "text": [
      "570\n"
     ]
    },
    {
     "name": "stderr",
     "output_type": "stream",
     "text": [
      "2023-05-19 20:43:22,588 INFO Request is running\n",
      "2023-05-19 20:43:29,933 INFO Request is completed\n",
      "2023-05-19 20:43:30,317 INFO Welcome to the CDS\n",
      "2023-05-19 20:43:30,318 INFO Sending request to https://cds.climate.copernicus.eu/api/v2/resources/reanalysis-era5-pressure-levels\n",
      "2023-05-19 20:43:30,402 INFO Request is queued\n"
     ]
    },
    {
     "name": "stdout",
     "output_type": "stream",
     "text": [
      "571\n"
     ]
    },
    {
     "name": "stderr",
     "output_type": "stream",
     "text": [
      "2023-05-19 20:43:31,487 INFO Request is running\n",
      "2023-05-19 20:43:38,817 INFO Request is completed\n",
      "2023-05-19 20:43:39,166 INFO Welcome to the CDS\n",
      "2023-05-19 20:43:39,168 INFO Sending request to https://cds.climate.copernicus.eu/api/v2/resources/reanalysis-era5-pressure-levels\n",
      "2023-05-19 20:43:39,226 INFO Request is queued\n"
     ]
    },
    {
     "name": "stdout",
     "output_type": "stream",
     "text": [
      "572\n"
     ]
    },
    {
     "name": "stderr",
     "output_type": "stream",
     "text": [
      "2023-05-19 20:43:40,315 INFO Request is running\n",
      "2023-05-19 20:43:47,641 INFO Request is completed\n",
      "2023-05-19 20:43:47,970 INFO Welcome to the CDS\n",
      "2023-05-19 20:43:47,971 INFO Sending request to https://cds.climate.copernicus.eu/api/v2/resources/reanalysis-era5-pressure-levels\n",
      "2023-05-19 20:43:48,077 INFO Request is queued\n"
     ]
    },
    {
     "name": "stdout",
     "output_type": "stream",
     "text": [
      "573\n"
     ]
    },
    {
     "name": "stderr",
     "output_type": "stream",
     "text": [
      "2023-05-19 20:43:49,155 INFO Request is running\n",
      "2023-05-19 20:43:56,630 INFO Request is completed\n",
      "2023-05-19 20:43:57,096 INFO Welcome to the CDS\n",
      "2023-05-19 20:43:57,097 INFO Sending request to https://cds.climate.copernicus.eu/api/v2/resources/reanalysis-era5-pressure-levels\n",
      "2023-05-19 20:43:57,155 INFO Request is queued\n"
     ]
    },
    {
     "name": "stdout",
     "output_type": "stream",
     "text": [
      "574\n"
     ]
    },
    {
     "name": "stderr",
     "output_type": "stream",
     "text": [
      "2023-05-19 20:43:58,235 INFO Request is running\n",
      "2023-05-19 20:44:05,576 INFO Request is completed\n",
      "2023-05-19 20:44:05,952 INFO Welcome to the CDS\n",
      "2023-05-19 20:44:05,953 INFO Sending request to https://cds.climate.copernicus.eu/api/v2/resources/reanalysis-era5-pressure-levels\n",
      "2023-05-19 20:44:06,012 INFO Request is queued\n"
     ]
    },
    {
     "name": "stdout",
     "output_type": "stream",
     "text": [
      "575\n"
     ]
    },
    {
     "name": "stderr",
     "output_type": "stream",
     "text": [
      "2023-05-19 20:44:07,093 INFO Request is running\n",
      "2023-05-19 20:44:14,429 INFO Request is completed\n",
      "2023-05-19 20:44:14,924 INFO Welcome to the CDS\n",
      "2023-05-19 20:44:14,930 INFO Sending request to https://cds.climate.copernicus.eu/api/v2/resources/reanalysis-era5-pressure-levels\n",
      "2023-05-19 20:44:14,995 INFO Request is queued\n"
     ]
    },
    {
     "name": "stdout",
     "output_type": "stream",
     "text": [
      "576\n"
     ]
    },
    {
     "name": "stderr",
     "output_type": "stream",
     "text": [
      "2023-05-19 20:44:16,070 INFO Request is running\n",
      "2023-05-19 20:44:23,405 INFO Request is completed\n",
      "2023-05-19 20:44:23,897 INFO Welcome to the CDS\n",
      "2023-05-19 20:44:23,907 INFO Sending request to https://cds.climate.copernicus.eu/api/v2/resources/reanalysis-era5-pressure-levels\n",
      "2023-05-19 20:44:23,987 INFO Request is queued\n"
     ]
    },
    {
     "name": "stdout",
     "output_type": "stream",
     "text": [
      "577\n"
     ]
    },
    {
     "name": "stderr",
     "output_type": "stream",
     "text": [
      "2023-05-19 20:44:25,066 INFO Request is running\n",
      "2023-05-19 20:44:32,404 INFO Request is completed\n",
      "2023-05-19 20:44:32,877 INFO Welcome to the CDS\n",
      "2023-05-19 20:44:32,880 INFO Sending request to https://cds.climate.copernicus.eu/api/v2/resources/reanalysis-era5-pressure-levels\n",
      "2023-05-19 20:44:32,939 INFO Request is queued\n"
     ]
    },
    {
     "name": "stdout",
     "output_type": "stream",
     "text": [
      "578\n"
     ]
    },
    {
     "name": "stderr",
     "output_type": "stream",
     "text": [
      "2023-05-19 20:44:34,010 INFO Request is running\n",
      "2023-05-19 20:44:41,342 INFO Request is completed\n",
      "2023-05-19 20:44:41,691 INFO Welcome to the CDS\n",
      "2023-05-19 20:44:41,697 INFO Sending request to https://cds.climate.copernicus.eu/api/v2/resources/reanalysis-era5-pressure-levels\n",
      "2023-05-19 20:44:41,765 INFO Request is queued\n"
     ]
    },
    {
     "name": "stdout",
     "output_type": "stream",
     "text": [
      "579\n"
     ]
    },
    {
     "name": "stderr",
     "output_type": "stream",
     "text": [
      "2023-05-19 20:44:42,834 INFO Request is running\n",
      "2023-05-19 20:44:50,171 INFO Request is completed\n",
      "2023-05-19 20:44:50,512 INFO Welcome to the CDS\n",
      "2023-05-19 20:44:50,514 INFO Sending request to https://cds.climate.copernicus.eu/api/v2/resources/reanalysis-era5-pressure-levels\n",
      "2023-05-19 20:44:50,579 INFO Request is queued\n"
     ]
    },
    {
     "name": "stdout",
     "output_type": "stream",
     "text": [
      "580\n"
     ]
    },
    {
     "name": "stderr",
     "output_type": "stream",
     "text": [
      "2023-05-19 20:44:51,653 INFO Request is running\n",
      "2023-05-19 20:44:58,991 INFO Request is completed\n",
      "2023-05-19 20:44:59,332 INFO Welcome to the CDS\n",
      "2023-05-19 20:44:59,334 INFO Sending request to https://cds.climate.copernicus.eu/api/v2/resources/reanalysis-era5-pressure-levels\n",
      "2023-05-19 20:44:59,407 INFO Request is queued\n"
     ]
    },
    {
     "name": "stdout",
     "output_type": "stream",
     "text": [
      "581\n"
     ]
    },
    {
     "name": "stderr",
     "output_type": "stream",
     "text": [
      "2023-05-19 20:45:00,472 INFO Request is running\n",
      "2023-05-19 20:45:07,821 INFO Request is completed\n",
      "2023-05-19 20:45:08,154 INFO Welcome to the CDS\n",
      "2023-05-19 20:45:08,155 INFO Sending request to https://cds.climate.copernicus.eu/api/v2/resources/reanalysis-era5-pressure-levels\n",
      "2023-05-19 20:45:08,227 INFO Request is queued\n"
     ]
    },
    {
     "name": "stdout",
     "output_type": "stream",
     "text": [
      "582\n"
     ]
    },
    {
     "name": "stderr",
     "output_type": "stream",
     "text": [
      "2023-05-19 20:45:09,303 INFO Request is running\n",
      "2023-05-19 20:45:21,778 INFO Request is completed\n",
      "2023-05-19 20:45:22,119 INFO Welcome to the CDS\n",
      "2023-05-19 20:45:22,123 INFO Sending request to https://cds.climate.copernicus.eu/api/v2/resources/reanalysis-era5-pressure-levels\n",
      "2023-05-19 20:45:22,184 INFO Request is queued\n"
     ]
    },
    {
     "name": "stdout",
     "output_type": "stream",
     "text": [
      "583\n"
     ]
    },
    {
     "name": "stderr",
     "output_type": "stream",
     "text": [
      "2023-05-19 20:45:23,258 INFO Request is running\n",
      "2023-05-19 20:45:30,758 INFO Request is completed\n",
      "2023-05-19 20:45:31,317 INFO Welcome to the CDS\n",
      "2023-05-19 20:45:31,318 INFO Sending request to https://cds.climate.copernicus.eu/api/v2/resources/reanalysis-era5-pressure-levels\n",
      "2023-05-19 20:45:31,383 INFO Request is queued\n"
     ]
    },
    {
     "name": "stdout",
     "output_type": "stream",
     "text": [
      "584\n"
     ]
    },
    {
     "name": "stderr",
     "output_type": "stream",
     "text": [
      "2023-05-19 20:45:32,456 INFO Request is running\n",
      "2023-05-19 20:45:39,781 INFO Request is completed\n",
      "2023-05-19 20:45:40,241 INFO Welcome to the CDS\n",
      "2023-05-19 20:45:40,244 INFO Sending request to https://cds.climate.copernicus.eu/api/v2/resources/reanalysis-era5-pressure-levels\n",
      "2023-05-19 20:45:40,319 INFO Request is queued\n"
     ]
    },
    {
     "name": "stdout",
     "output_type": "stream",
     "text": [
      "585\n"
     ]
    },
    {
     "name": "stderr",
     "output_type": "stream",
     "text": [
      "2023-05-19 20:45:41,392 INFO Request is running\n",
      "2023-05-19 20:45:48,718 INFO Request is completed\n",
      "2023-05-19 20:45:49,067 INFO Welcome to the CDS\n",
      "2023-05-19 20:45:49,069 INFO Sending request to https://cds.climate.copernicus.eu/api/v2/resources/reanalysis-era5-pressure-levels\n",
      "2023-05-19 20:45:49,138 INFO Request is queued\n"
     ]
    },
    {
     "name": "stdout",
     "output_type": "stream",
     "text": [
      "586\n"
     ]
    },
    {
     "name": "stderr",
     "output_type": "stream",
     "text": [
      "2023-05-19 20:45:50,218 INFO Request is running\n",
      "2023-05-19 20:45:57,569 INFO Request is completed\n",
      "2023-05-19 20:45:57,930 INFO Welcome to the CDS\n",
      "2023-05-19 20:45:57,932 INFO Sending request to https://cds.climate.copernicus.eu/api/v2/resources/reanalysis-era5-pressure-levels\n",
      "2023-05-19 20:45:57,993 INFO Request is queued\n"
     ]
    },
    {
     "name": "stdout",
     "output_type": "stream",
     "text": [
      "587\n"
     ]
    },
    {
     "name": "stderr",
     "output_type": "stream",
     "text": [
      "2023-05-19 20:45:59,061 INFO Request is running\n",
      "2023-05-19 20:46:19,448 INFO Request is completed\n",
      "2023-05-19 20:46:19,914 INFO Welcome to the CDS\n",
      "2023-05-19 20:46:19,917 INFO Sending request to https://cds.climate.copernicus.eu/api/v2/resources/reanalysis-era5-pressure-levels\n",
      "2023-05-19 20:46:19,980 INFO Request is queued\n"
     ]
    },
    {
     "name": "stdout",
     "output_type": "stream",
     "text": [
      "588\n"
     ]
    },
    {
     "name": "stderr",
     "output_type": "stream",
     "text": [
      "2023-05-19 20:46:21,048 INFO Request is running\n",
      "2023-05-19 20:46:28,363 INFO Request is completed\n",
      "2023-05-19 20:46:28,717 INFO Welcome to the CDS\n",
      "2023-05-19 20:46:28,718 INFO Sending request to https://cds.climate.copernicus.eu/api/v2/resources/reanalysis-era5-pressure-levels\n",
      "2023-05-19 20:46:28,798 INFO Request is queued\n"
     ]
    },
    {
     "name": "stdout",
     "output_type": "stream",
     "text": [
      "589\n"
     ]
    },
    {
     "name": "stderr",
     "output_type": "stream",
     "text": [
      "2023-05-19 20:46:29,868 INFO Request is running\n",
      "2023-05-19 20:46:37,201 INFO Request is completed\n",
      "2023-05-19 20:46:37,691 INFO Welcome to the CDS\n",
      "2023-05-19 20:46:37,694 INFO Sending request to https://cds.climate.copernicus.eu/api/v2/resources/reanalysis-era5-pressure-levels\n",
      "2023-05-19 20:46:37,758 INFO Request is queued\n"
     ]
    },
    {
     "name": "stdout",
     "output_type": "stream",
     "text": [
      "590\n"
     ]
    },
    {
     "name": "stderr",
     "output_type": "stream",
     "text": [
      "2023-05-19 20:46:38,836 INFO Request is running\n",
      "2023-05-19 20:46:46,173 INFO Request is completed\n",
      "2023-05-19 20:46:46,638 INFO Welcome to the CDS\n",
      "2023-05-19 20:46:46,640 INFO Sending request to https://cds.climate.copernicus.eu/api/v2/resources/reanalysis-era5-pressure-levels\n",
      "2023-05-19 20:46:46,701 INFO Request is queued\n"
     ]
    },
    {
     "name": "stdout",
     "output_type": "stream",
     "text": [
      "591\n"
     ]
    },
    {
     "name": "stderr",
     "output_type": "stream",
     "text": [
      "2023-05-19 20:46:47,774 INFO Request is running\n",
      "2023-05-19 20:46:55,100 INFO Request is completed\n",
      "2023-05-19 20:46:55,440 INFO Welcome to the CDS\n",
      "2023-05-19 20:46:55,441 INFO Sending request to https://cds.climate.copernicus.eu/api/v2/resources/reanalysis-era5-pressure-levels\n",
      "2023-05-19 20:46:55,508 INFO Request is queued\n"
     ]
    },
    {
     "name": "stdout",
     "output_type": "stream",
     "text": [
      "592\n"
     ]
    },
    {
     "name": "stderr",
     "output_type": "stream",
     "text": [
      "2023-05-19 20:46:56,581 INFO Request is running\n",
      "2023-05-19 20:47:03,949 INFO Request is completed\n",
      "2023-05-19 20:47:04,335 INFO Welcome to the CDS\n",
      "2023-05-19 20:47:04,336 INFO Sending request to https://cds.climate.copernicus.eu/api/v2/resources/reanalysis-era5-pressure-levels\n",
      "2023-05-19 20:47:04,429 INFO Request is queued\n"
     ]
    },
    {
     "name": "stdout",
     "output_type": "stream",
     "text": [
      "593\n"
     ]
    },
    {
     "name": "stderr",
     "output_type": "stream",
     "text": [
      "2023-05-19 20:47:05,503 INFO Request is running\n",
      "2023-05-19 20:47:12,838 INFO Request is completed\n",
      "2023-05-19 20:47:13,169 INFO Welcome to the CDS\n",
      "2023-05-19 20:47:13,171 INFO Sending request to https://cds.climate.copernicus.eu/api/v2/resources/reanalysis-era5-pressure-levels\n",
      "2023-05-19 20:47:13,253 INFO Request is queued\n"
     ]
    },
    {
     "name": "stdout",
     "output_type": "stream",
     "text": [
      "594\n"
     ]
    },
    {
     "name": "stderr",
     "output_type": "stream",
     "text": [
      "2023-05-19 20:47:14,321 INFO Request is running\n",
      "2023-05-19 20:47:21,684 INFO Request is completed\n",
      "2023-05-19 20:47:22,168 INFO Welcome to the CDS\n",
      "2023-05-19 20:47:22,174 INFO Sending request to https://cds.climate.copernicus.eu/api/v2/resources/reanalysis-era5-pressure-levels\n",
      "2023-05-19 20:47:22,240 INFO Request is queued\n"
     ]
    },
    {
     "name": "stdout",
     "output_type": "stream",
     "text": [
      "595\n"
     ]
    },
    {
     "name": "stderr",
     "output_type": "stream",
     "text": [
      "2023-05-19 20:47:23,317 INFO Request is running\n",
      "2023-05-19 20:47:30,649 INFO Request is completed\n",
      "2023-05-19 20:47:31,211 INFO Welcome to the CDS\n",
      "2023-05-19 20:47:31,216 INFO Sending request to https://cds.climate.copernicus.eu/api/v2/resources/reanalysis-era5-pressure-levels\n",
      "2023-05-19 20:47:31,294 INFO Request is queued\n"
     ]
    },
    {
     "name": "stdout",
     "output_type": "stream",
     "text": [
      "596\n"
     ]
    },
    {
     "name": "stderr",
     "output_type": "stream",
     "text": [
      "2023-05-19 20:47:32,369 INFO Request is running\n",
      "2023-05-19 20:47:39,704 INFO Request is completed\n",
      "2023-05-19 20:47:40,063 INFO Welcome to the CDS\n",
      "2023-05-19 20:47:40,064 INFO Sending request to https://cds.climate.copernicus.eu/api/v2/resources/reanalysis-era5-pressure-levels\n",
      "2023-05-19 20:47:40,139 INFO Request is queued\n"
     ]
    },
    {
     "name": "stdout",
     "output_type": "stream",
     "text": [
      "597\n"
     ]
    },
    {
     "name": "stderr",
     "output_type": "stream",
     "text": [
      "2023-05-19 20:47:41,213 INFO Request is running\n",
      "2023-05-19 20:47:48,725 INFO Request is completed\n",
      "2023-05-19 20:47:49,074 INFO Welcome to the CDS\n",
      "2023-05-19 20:47:49,075 INFO Sending request to https://cds.climate.copernicus.eu/api/v2/resources/reanalysis-era5-pressure-levels\n",
      "2023-05-19 20:47:49,153 INFO Request is queued\n"
     ]
    },
    {
     "name": "stdout",
     "output_type": "stream",
     "text": [
      "598\n"
     ]
    },
    {
     "name": "stderr",
     "output_type": "stream",
     "text": [
      "2023-05-19 20:47:50,220 INFO Request is running\n",
      "2023-05-19 20:47:57,571 INFO Request is completed\n",
      "2023-05-19 20:47:57,865 INFO Welcome to the CDS\n",
      "2023-05-19 20:47:57,866 INFO Sending request to https://cds.climate.copernicus.eu/api/v2/resources/reanalysis-era5-pressure-levels\n",
      "2023-05-19 20:47:57,922 INFO Request is queued\n"
     ]
    },
    {
     "name": "stdout",
     "output_type": "stream",
     "text": [
      "599\n"
     ]
    },
    {
     "name": "stderr",
     "output_type": "stream",
     "text": [
      "2023-05-19 20:47:58,996 INFO Request is running\n",
      "2023-05-19 20:48:06,357 INFO Request is completed\n",
      "2023-05-19 20:48:06,830 INFO Welcome to the CDS\n",
      "2023-05-19 20:48:06,831 INFO Sending request to https://cds.climate.copernicus.eu/api/v2/resources/reanalysis-era5-pressure-levels\n",
      "2023-05-19 20:48:06,889 INFO Request is queued\n"
     ]
    },
    {
     "name": "stdout",
     "output_type": "stream",
     "text": [
      "600\n"
     ]
    },
    {
     "name": "stderr",
     "output_type": "stream",
     "text": [
      "2023-05-19 20:48:07,965 INFO Request is running\n",
      "2023-05-19 20:48:15,308 INFO Request is completed\n",
      "2023-05-19 20:48:15,638 INFO Welcome to the CDS\n",
      "2023-05-19 20:48:15,640 INFO Sending request to https://cds.climate.copernicus.eu/api/v2/resources/reanalysis-era5-pressure-levels\n",
      "2023-05-19 20:48:15,698 INFO Request is queued\n"
     ]
    },
    {
     "name": "stdout",
     "output_type": "stream",
     "text": [
      "601\n"
     ]
    },
    {
     "name": "stderr",
     "output_type": "stream",
     "text": [
      "2023-05-19 20:48:16,775 INFO Request is running\n",
      "2023-05-19 20:48:24,128 INFO Request is completed\n",
      "2023-05-19 20:48:24,602 INFO Welcome to the CDS\n",
      "2023-05-19 20:48:24,604 INFO Sending request to https://cds.climate.copernicus.eu/api/v2/resources/reanalysis-era5-pressure-levels\n",
      "2023-05-19 20:48:24,663 INFO Request is queued\n"
     ]
    },
    {
     "name": "stdout",
     "output_type": "stream",
     "text": [
      "602\n"
     ]
    },
    {
     "name": "stderr",
     "output_type": "stream",
     "text": [
      "2023-05-19 20:48:25,737 INFO Request is running\n",
      "2023-05-19 20:48:33,070 INFO Request is completed\n",
      "2023-05-19 20:48:33,561 INFO Welcome to the CDS\n",
      "2023-05-19 20:48:33,562 INFO Sending request to https://cds.climate.copernicus.eu/api/v2/resources/reanalysis-era5-pressure-levels\n",
      "2023-05-19 20:48:33,620 INFO Request is queued\n"
     ]
    },
    {
     "name": "stdout",
     "output_type": "stream",
     "text": [
      "603\n"
     ]
    },
    {
     "name": "stderr",
     "output_type": "stream",
     "text": [
      "2023-05-19 20:48:34,696 INFO Request is running\n",
      "2023-05-19 20:48:42,028 INFO Request is completed\n",
      "2023-05-19 20:48:42,352 INFO Welcome to the CDS\n",
      "2023-05-19 20:48:42,354 INFO Sending request to https://cds.climate.copernicus.eu/api/v2/resources/reanalysis-era5-pressure-levels\n",
      "2023-05-19 20:48:42,419 INFO Request is queued\n"
     ]
    },
    {
     "name": "stdout",
     "output_type": "stream",
     "text": [
      "604\n"
     ]
    },
    {
     "name": "stderr",
     "output_type": "stream",
     "text": [
      "2023-05-19 20:48:43,489 INFO Request is running\n",
      "2023-05-19 20:48:50,827 INFO Request is completed\n",
      "2023-05-19 20:48:51,169 INFO Welcome to the CDS\n",
      "2023-05-19 20:48:51,171 INFO Sending request to https://cds.climate.copernicus.eu/api/v2/resources/reanalysis-era5-pressure-levels\n",
      "2023-05-19 20:48:51,232 INFO Request is queued\n"
     ]
    },
    {
     "name": "stdout",
     "output_type": "stream",
     "text": [
      "605\n"
     ]
    },
    {
     "name": "stderr",
     "output_type": "stream",
     "text": [
      "2023-05-19 20:48:52,311 INFO Request is running\n",
      "2023-05-19 20:48:59,646 INFO Request is completed\n",
      "2023-05-19 20:49:00,019 INFO Welcome to the CDS\n",
      "2023-05-19 20:49:00,022 INFO Sending request to https://cds.climate.copernicus.eu/api/v2/resources/reanalysis-era5-pressure-levels\n",
      "2023-05-19 20:49:00,081 INFO Request is queued\n"
     ]
    },
    {
     "name": "stdout",
     "output_type": "stream",
     "text": [
      "606\n"
     ]
    },
    {
     "name": "stderr",
     "output_type": "stream",
     "text": [
      "2023-05-19 20:49:01,144 INFO Request is running\n",
      "2023-05-19 20:49:08,476 INFO Request is completed\n",
      "2023-05-19 20:49:08,952 INFO Welcome to the CDS\n",
      "2023-05-19 20:49:08,953 INFO Sending request to https://cds.climate.copernicus.eu/api/v2/resources/reanalysis-era5-pressure-levels\n",
      "2023-05-19 20:49:09,014 INFO Request is queued\n"
     ]
    },
    {
     "name": "stdout",
     "output_type": "stream",
     "text": [
      "607\n"
     ]
    },
    {
     "name": "stderr",
     "output_type": "stream",
     "text": [
      "2023-05-19 20:49:10,084 INFO Request is running\n",
      "2023-05-19 20:49:22,740 INFO Request is completed\n",
      "2023-05-19 20:49:23,298 INFO Welcome to the CDS\n",
      "2023-05-19 20:49:23,299 INFO Sending request to https://cds.climate.copernicus.eu/api/v2/resources/reanalysis-era5-pressure-levels\n",
      "2023-05-19 20:49:23,358 INFO Request is queued\n"
     ]
    },
    {
     "name": "stdout",
     "output_type": "stream",
     "text": [
      "608\n"
     ]
    },
    {
     "name": "stderr",
     "output_type": "stream",
     "text": [
      "2023-05-19 20:49:24,424 INFO Request is running\n",
      "2023-05-19 20:49:31,757 INFO Request is completed\n",
      "2023-05-19 20:49:32,106 INFO Welcome to the CDS\n",
      "2023-05-19 20:49:32,108 INFO Sending request to https://cds.climate.copernicus.eu/api/v2/resources/reanalysis-era5-pressure-levels\n",
      "2023-05-19 20:49:32,172 INFO Request is queued\n"
     ]
    },
    {
     "name": "stdout",
     "output_type": "stream",
     "text": [
      "609\n"
     ]
    },
    {
     "name": "stderr",
     "output_type": "stream",
     "text": [
      "2023-05-19 20:49:33,242 INFO Request is running\n",
      "2023-05-19 20:49:40,566 INFO Request is completed\n",
      "2023-05-19 20:49:40,915 INFO Welcome to the CDS\n",
      "2023-05-19 20:49:40,916 INFO Sending request to https://cds.climate.copernicus.eu/api/v2/resources/reanalysis-era5-pressure-levels\n"
     ]
    },
    {
     "name": "stdout",
     "output_type": "stream",
     "text": [
      "610\n"
     ]
    },
    {
     "name": "stderr",
     "output_type": "stream",
     "text": [
      "2023-05-19 20:49:41,472 INFO Request is queued\n",
      "2023-05-19 20:49:42,543 INFO Request is running\n",
      "2023-05-19 20:49:49,871 INFO Request is completed\n",
      "2023-05-19 20:49:50,211 INFO Welcome to the CDS\n",
      "2023-05-19 20:49:50,212 INFO Sending request to https://cds.climate.copernicus.eu/api/v2/resources/reanalysis-era5-pressure-levels\n",
      "2023-05-19 20:49:50,292 INFO Request is queued\n"
     ]
    },
    {
     "name": "stdout",
     "output_type": "stream",
     "text": [
      "611\n"
     ]
    },
    {
     "name": "stderr",
     "output_type": "stream",
     "text": [
      "2023-05-19 20:49:51,365 INFO Request is running\n",
      "2023-05-19 20:49:58,692 INFO Request is completed\n",
      "2023-05-19 20:49:59,349 INFO Welcome to the CDS\n",
      "2023-05-19 20:49:59,350 INFO Sending request to https://cds.climate.copernicus.eu/api/v2/resources/reanalysis-era5-pressure-levels\n",
      "2023-05-19 20:49:59,426 INFO Request is queued\n"
     ]
    },
    {
     "name": "stdout",
     "output_type": "stream",
     "text": [
      "612\n"
     ]
    },
    {
     "name": "stderr",
     "output_type": "stream",
     "text": [
      "2023-05-19 20:50:00,501 INFO Request is running\n",
      "2023-05-19 20:50:07,843 INFO Request is completed\n",
      "2023-05-19 20:50:08,426 INFO Welcome to the CDS\n",
      "2023-05-19 20:50:08,430 INFO Sending request to https://cds.climate.copernicus.eu/api/v2/resources/reanalysis-era5-pressure-levels\n",
      "2023-05-19 20:50:08,494 INFO Request is queued\n"
     ]
    },
    {
     "name": "stdout",
     "output_type": "stream",
     "text": [
      "613\n"
     ]
    },
    {
     "name": "stderr",
     "output_type": "stream",
     "text": [
      "2023-05-19 20:50:09,561 INFO Request is running\n",
      "2023-05-19 20:50:17,061 INFO Request is completed\n",
      "2023-05-19 20:50:17,407 INFO Welcome to the CDS\n",
      "2023-05-19 20:50:17,408 INFO Sending request to https://cds.climate.copernicus.eu/api/v2/resources/reanalysis-era5-pressure-levels\n",
      "2023-05-19 20:50:17,469 INFO Request is queued\n"
     ]
    },
    {
     "name": "stdout",
     "output_type": "stream",
     "text": [
      "614\n"
     ]
    },
    {
     "name": "stderr",
     "output_type": "stream",
     "text": [
      "2023-05-19 20:50:18,540 INFO Request is running\n",
      "2023-05-19 20:50:25,923 INFO Request is completed\n",
      "2023-05-19 20:50:26,299 INFO Welcome to the CDS\n",
      "2023-05-19 20:50:26,301 INFO Sending request to https://cds.climate.copernicus.eu/api/v2/resources/reanalysis-era5-pressure-levels\n",
      "2023-05-19 20:50:26,374 INFO Request is queued\n"
     ]
    },
    {
     "name": "stdout",
     "output_type": "stream",
     "text": [
      "615\n"
     ]
    },
    {
     "name": "stderr",
     "output_type": "stream",
     "text": [
      "2023-05-19 20:50:27,453 INFO Request is running\n",
      "2023-05-19 20:50:34,798 INFO Request is completed\n",
      "2023-05-19 20:50:35,131 INFO Welcome to the CDS\n",
      "2023-05-19 20:50:35,132 INFO Sending request to https://cds.climate.copernicus.eu/api/v2/resources/reanalysis-era5-pressure-levels\n",
      "2023-05-19 20:50:35,191 INFO Request is queued\n"
     ]
    },
    {
     "name": "stdout",
     "output_type": "stream",
     "text": [
      "616\n"
     ]
    },
    {
     "name": "stderr",
     "output_type": "stream",
     "text": [
      "2023-05-19 20:50:36,266 INFO Request is running\n",
      "2023-05-19 20:50:43,596 INFO Request is completed\n",
      "2023-05-19 20:50:43,927 INFO Welcome to the CDS\n",
      "2023-05-19 20:50:43,930 INFO Sending request to https://cds.climate.copernicus.eu/api/v2/resources/reanalysis-era5-pressure-levels\n",
      "2023-05-19 20:50:43,987 INFO Request is queued\n"
     ]
    },
    {
     "name": "stdout",
     "output_type": "stream",
     "text": [
      "617\n"
     ]
    },
    {
     "name": "stderr",
     "output_type": "stream",
     "text": [
      "2023-05-19 20:50:45,080 INFO Request is running\n",
      "2023-05-19 20:50:52,416 INFO Request is completed\n",
      "2023-05-19 20:50:52,771 INFO Welcome to the CDS\n",
      "2023-05-19 20:50:52,772 INFO Sending request to https://cds.climate.copernicus.eu/api/v2/resources/reanalysis-era5-pressure-levels\n",
      "2023-05-19 20:50:52,831 INFO Request is queued\n"
     ]
    },
    {
     "name": "stdout",
     "output_type": "stream",
     "text": [
      "618\n"
     ]
    },
    {
     "name": "stderr",
     "output_type": "stream",
     "text": [
      "2023-05-19 20:50:53,900 INFO Request is running\n",
      "2023-05-19 20:51:01,244 INFO Request is completed\n",
      "2023-05-19 20:51:01,612 INFO Welcome to the CDS\n",
      "2023-05-19 20:51:01,614 INFO Sending request to https://cds.climate.copernicus.eu/api/v2/resources/reanalysis-era5-pressure-levels\n",
      "2023-05-19 20:51:01,692 INFO Request is queued\n"
     ]
    },
    {
     "name": "stdout",
     "output_type": "stream",
     "text": [
      "619\n"
     ]
    },
    {
     "name": "stderr",
     "output_type": "stream",
     "text": [
      "2023-05-19 20:51:02,769 INFO Request is running\n",
      "2023-05-19 20:51:10,123 INFO Request is completed\n",
      "2023-05-19 20:51:10,698 INFO Welcome to the CDS\n",
      "2023-05-19 20:51:10,700 INFO Sending request to https://cds.climate.copernicus.eu/api/v2/resources/reanalysis-era5-pressure-levels\n",
      "2023-05-19 20:51:10,792 INFO Request is queued\n"
     ]
    },
    {
     "name": "stdout",
     "output_type": "stream",
     "text": [
      "620\n"
     ]
    },
    {
     "name": "stderr",
     "output_type": "stream",
     "text": [
      "2023-05-19 20:51:11,870 INFO Request is running\n",
      "2023-05-19 20:51:19,209 INFO Request is completed\n",
      "2023-05-19 20:51:19,544 INFO Welcome to the CDS\n",
      "2023-05-19 20:51:19,546 INFO Sending request to https://cds.climate.copernicus.eu/api/v2/resources/reanalysis-era5-pressure-levels\n",
      "2023-05-19 20:51:19,634 INFO Request is queued\n"
     ]
    },
    {
     "name": "stdout",
     "output_type": "stream",
     "text": [
      "621\n"
     ]
    },
    {
     "name": "stderr",
     "output_type": "stream",
     "text": [
      "2023-05-19 20:51:20,707 INFO Request is running\n",
      "2023-05-19 20:51:28,056 INFO Request is completed\n",
      "2023-05-19 20:51:28,544 INFO Welcome to the CDS\n",
      "2023-05-19 20:51:28,546 INFO Sending request to https://cds.climate.copernicus.eu/api/v2/resources/reanalysis-era5-pressure-levels\n",
      "2023-05-19 20:51:28,606 INFO Request is queued\n"
     ]
    },
    {
     "name": "stdout",
     "output_type": "stream",
     "text": [
      "622\n"
     ]
    },
    {
     "name": "stderr",
     "output_type": "stream",
     "text": [
      "2023-05-19 20:51:29,680 INFO Request is running\n",
      "2023-05-19 20:51:37,012 INFO Request is completed\n",
      "2023-05-19 20:51:37,342 INFO Welcome to the CDS\n",
      "2023-05-19 20:51:37,344 INFO Sending request to https://cds.climate.copernicus.eu/api/v2/resources/reanalysis-era5-pressure-levels\n",
      "2023-05-19 20:51:37,404 INFO Request is queued\n"
     ]
    },
    {
     "name": "stdout",
     "output_type": "stream",
     "text": [
      "623\n"
     ]
    },
    {
     "name": "stderr",
     "output_type": "stream",
     "text": [
      "2023-05-19 20:51:38,471 INFO Request is running\n",
      "2023-05-19 20:51:45,795 INFO Request is completed\n",
      "2023-05-19 20:51:46,143 INFO Welcome to the CDS\n",
      "2023-05-19 20:51:46,145 INFO Sending request to https://cds.climate.copernicus.eu/api/v2/resources/reanalysis-era5-pressure-levels\n",
      "2023-05-19 20:51:46,204 INFO Request is queued\n"
     ]
    },
    {
     "name": "stdout",
     "output_type": "stream",
     "text": [
      "624\n"
     ]
    },
    {
     "name": "stderr",
     "output_type": "stream",
     "text": [
      "2023-05-19 20:51:47,271 INFO Request is running\n",
      "2023-05-19 20:51:54,588 INFO Request is completed\n",
      "2023-05-19 20:51:55,140 INFO Welcome to the CDS\n",
      "2023-05-19 20:51:55,142 INFO Sending request to https://cds.climate.copernicus.eu/api/v2/resources/reanalysis-era5-pressure-levels\n",
      "2023-05-19 20:51:55,228 INFO Request is queued\n"
     ]
    },
    {
     "name": "stdout",
     "output_type": "stream",
     "text": [
      "625\n"
     ]
    },
    {
     "name": "stderr",
     "output_type": "stream",
     "text": [
      "2023-05-19 20:51:56,296 INFO Request is running\n",
      "2023-05-19 20:52:00,185 INFO Request is completed\n",
      "2023-05-19 20:52:00,653 INFO Welcome to the CDS\n",
      "2023-05-19 20:52:00,655 INFO Sending request to https://cds.climate.copernicus.eu/api/v2/resources/reanalysis-era5-pressure-levels\n",
      "2023-05-19 20:52:00,729 INFO Request is queued\n"
     ]
    },
    {
     "name": "stdout",
     "output_type": "stream",
     "text": [
      "626\n"
     ]
    },
    {
     "name": "stderr",
     "output_type": "stream",
     "text": [
      "2023-05-19 20:52:01,964 INFO Request is running\n",
      "2023-05-19 20:52:09,302 INFO Request is completed\n",
      "2023-05-19 20:52:09,777 INFO Welcome to the CDS\n",
      "2023-05-19 20:52:09,777 INFO Sending request to https://cds.climate.copernicus.eu/api/v2/resources/reanalysis-era5-pressure-levels\n",
      "2023-05-19 20:52:09,837 INFO Request is queued\n"
     ]
    },
    {
     "name": "stdout",
     "output_type": "stream",
     "text": [
      "627\n"
     ]
    },
    {
     "name": "stderr",
     "output_type": "stream",
     "text": [
      "2023-05-19 20:52:10,905 INFO Request is running\n",
      "2023-05-19 20:52:14,809 INFO Request is completed\n",
      "2023-05-19 20:52:15,138 INFO Welcome to the CDS\n",
      "2023-05-19 20:52:15,139 INFO Sending request to https://cds.climate.copernicus.eu/api/v2/resources/reanalysis-era5-pressure-levels\n",
      "2023-05-19 20:52:15,220 INFO Request is queued\n"
     ]
    },
    {
     "name": "stdout",
     "output_type": "stream",
     "text": [
      "628\n"
     ]
    },
    {
     "name": "stderr",
     "output_type": "stream",
     "text": [
      "2023-05-19 20:52:16,292 INFO Request is running\n",
      "2023-05-19 20:52:20,204 INFO Request is completed\n",
      "2023-05-19 20:52:20,694 INFO Welcome to the CDS\n",
      "2023-05-19 20:52:20,695 INFO Sending request to https://cds.climate.copernicus.eu/api/v2/resources/reanalysis-era5-pressure-levels\n",
      "2023-05-19 20:52:20,771 INFO Request is queued\n"
     ]
    },
    {
     "name": "stdout",
     "output_type": "stream",
     "text": [
      "629\n"
     ]
    },
    {
     "name": "stderr",
     "output_type": "stream",
     "text": [
      "2023-05-19 20:52:21,858 INFO Request is running\n",
      "2023-05-19 20:52:29,185 INFO Request is completed\n",
      "2023-05-19 20:52:29,557 INFO Welcome to the CDS\n",
      "2023-05-19 20:52:29,558 INFO Sending request to https://cds.climate.copernicus.eu/api/v2/resources/reanalysis-era5-pressure-levels\n",
      "2023-05-19 20:52:29,621 INFO Request is queued\n"
     ]
    },
    {
     "name": "stdout",
     "output_type": "stream",
     "text": [
      "630\n"
     ]
    },
    {
     "name": "stderr",
     "output_type": "stream",
     "text": [
      "2023-05-19 20:52:30,697 INFO Request is running\n",
      "2023-05-19 20:52:38,039 INFO Request is completed\n",
      "2023-05-19 20:52:38,687 INFO Welcome to the CDS\n",
      "2023-05-19 20:52:38,688 INFO Sending request to https://cds.climate.copernicus.eu/api/v2/resources/reanalysis-era5-pressure-levels\n",
      "2023-05-19 20:52:38,756 INFO Request is queued\n"
     ]
    },
    {
     "name": "stdout",
     "output_type": "stream",
     "text": [
      "631\n"
     ]
    },
    {
     "name": "stderr",
     "output_type": "stream",
     "text": [
      "2023-05-19 20:52:39,825 INFO Request is running\n",
      "2023-05-19 20:52:47,164 INFO Request is completed\n",
      "2023-05-19 20:52:47,528 INFO Welcome to the CDS\n",
      "2023-05-19 20:52:47,529 INFO Sending request to https://cds.climate.copernicus.eu/api/v2/resources/reanalysis-era5-pressure-levels\n",
      "2023-05-19 20:52:47,602 INFO Request is queued\n"
     ]
    },
    {
     "name": "stdout",
     "output_type": "stream",
     "text": [
      "632\n"
     ]
    },
    {
     "name": "stderr",
     "output_type": "stream",
     "text": [
      "2023-05-19 20:52:48,670 INFO Request is running\n",
      "2023-05-19 20:52:56,002 INFO Request is completed\n",
      "2023-05-19 20:52:56,476 INFO Welcome to the CDS\n",
      "2023-05-19 20:52:56,478 INFO Sending request to https://cds.climate.copernicus.eu/api/v2/resources/reanalysis-era5-pressure-levels\n",
      "2023-05-19 20:52:56,568 INFO Request is queued\n"
     ]
    },
    {
     "name": "stdout",
     "output_type": "stream",
     "text": [
      "633\n"
     ]
    },
    {
     "name": "stderr",
     "output_type": "stream",
     "text": [
      "2023-05-19 20:52:57,643 INFO Request is running\n",
      "2023-05-19 20:53:04,985 INFO Request is completed\n",
      "2023-05-19 20:53:05,722 INFO Welcome to the CDS\n",
      "2023-05-19 20:53:05,727 INFO Sending request to https://cds.climate.copernicus.eu/api/v2/resources/reanalysis-era5-pressure-levels\n",
      "2023-05-19 20:53:05,813 INFO Request is queued\n"
     ]
    },
    {
     "name": "stdout",
     "output_type": "stream",
     "text": [
      "634\n"
     ]
    },
    {
     "name": "stderr",
     "output_type": "stream",
     "text": [
      "2023-05-19 20:53:06,886 INFO Request is running\n",
      "2023-05-19 20:53:14,226 INFO Request is completed\n",
      "2023-05-19 20:53:14,593 INFO Welcome to the CDS\n",
      "2023-05-19 20:53:14,597 INFO Sending request to https://cds.climate.copernicus.eu/api/v2/resources/reanalysis-era5-pressure-levels\n",
      "2023-05-19 20:53:14,658 INFO Request is queued\n"
     ]
    },
    {
     "name": "stdout",
     "output_type": "stream",
     "text": [
      "635\n"
     ]
    },
    {
     "name": "stderr",
     "output_type": "stream",
     "text": [
      "2023-05-19 20:53:15,729 INFO Request is running\n",
      "2023-05-19 20:53:23,058 INFO Request is completed\n",
      "2023-05-19 20:53:23,541 INFO Welcome to the CDS\n",
      "2023-05-19 20:53:23,543 INFO Sending request to https://cds.climate.copernicus.eu/api/v2/resources/reanalysis-era5-pressure-levels\n",
      "2023-05-19 20:53:23,616 INFO Request is queued\n"
     ]
    },
    {
     "name": "stdout",
     "output_type": "stream",
     "text": [
      "636\n"
     ]
    },
    {
     "name": "stderr",
     "output_type": "stream",
     "text": [
      "2023-05-19 20:53:24,686 INFO Request is running\n",
      "2023-05-19 20:53:32,044 INFO Request is completed\n",
      "2023-05-19 20:53:32,542 INFO Welcome to the CDS\n",
      "2023-05-19 20:53:32,545 INFO Sending request to https://cds.climate.copernicus.eu/api/v2/resources/reanalysis-era5-pressure-levels\n",
      "2023-05-19 20:53:32,633 INFO Request is queued\n"
     ]
    },
    {
     "name": "stdout",
     "output_type": "stream",
     "text": [
      "637\n"
     ]
    },
    {
     "name": "stderr",
     "output_type": "stream",
     "text": [
      "2023-05-19 20:53:33,701 INFO Request is running\n",
      "2023-05-19 20:53:41,028 INFO Request is completed\n",
      "2023-05-19 20:53:41,359 INFO Welcome to the CDS\n",
      "2023-05-19 20:53:41,360 INFO Sending request to https://cds.climate.copernicus.eu/api/v2/resources/reanalysis-era5-pressure-levels\n",
      "2023-05-19 20:53:41,425 INFO Request is queued\n"
     ]
    },
    {
     "name": "stdout",
     "output_type": "stream",
     "text": [
      "638\n"
     ]
    },
    {
     "name": "stderr",
     "output_type": "stream",
     "text": [
      "2023-05-19 20:53:42,496 INFO Request is running\n",
      "2023-05-19 20:53:49,829 INFO Request is completed\n",
      "2023-05-19 20:53:50,169 INFO Welcome to the CDS\n",
      "2023-05-19 20:53:50,171 INFO Sending request to https://cds.climate.copernicus.eu/api/v2/resources/reanalysis-era5-pressure-levels\n",
      "2023-05-19 20:53:50,238 INFO Request is queued\n"
     ]
    },
    {
     "name": "stdout",
     "output_type": "stream",
     "text": [
      "639\n"
     ]
    },
    {
     "name": "stderr",
     "output_type": "stream",
     "text": [
      "2023-05-19 20:53:51,311 INFO Request is running\n",
      "2023-05-19 20:53:55,200 INFO Request is completed\n",
      "2023-05-19 20:53:55,515 INFO Welcome to the CDS\n",
      "2023-05-19 20:53:55,517 INFO Sending request to https://cds.climate.copernicus.eu/api/v2/resources/reanalysis-era5-pressure-levels\n",
      "2023-05-19 20:53:55,575 INFO Request is queued\n"
     ]
    },
    {
     "name": "stdout",
     "output_type": "stream",
     "text": [
      "640\n"
     ]
    },
    {
     "name": "stderr",
     "output_type": "stream",
     "text": [
      "2023-05-19 20:53:56,651 INFO Request is running\n",
      "2023-05-19 20:54:03,983 INFO Request is completed\n"
     ]
    },
    {
     "name": "stdout",
     "output_type": "stream",
     "text": [
      "641\n"
     ]
    },
    {
     "name": "stderr",
     "output_type": "stream",
     "text": [
      "2023-05-19 20:54:04,602 INFO Welcome to the CDS\n",
      "2023-05-19 20:54:04,603 INFO Sending request to https://cds.climate.copernicus.eu/api/v2/resources/reanalysis-era5-pressure-levels\n",
      "2023-05-19 20:54:04,662 INFO Request is queued\n",
      "2023-05-19 20:54:05,733 INFO Request is running\n",
      "2023-05-19 20:54:13,076 INFO Request is completed\n",
      "2023-05-19 20:54:13,420 INFO Welcome to the CDS\n",
      "2023-05-19 20:54:13,420 INFO Sending request to https://cds.climate.copernicus.eu/api/v2/resources/reanalysis-era5-pressure-levels\n",
      "2023-05-19 20:54:13,529 INFO Request is queued\n"
     ]
    },
    {
     "name": "stdout",
     "output_type": "stream",
     "text": [
      "642\n"
     ]
    },
    {
     "name": "stderr",
     "output_type": "stream",
     "text": [
      "2023-05-19 20:54:14,611 INFO Request is running\n",
      "2023-05-19 20:54:21,950 INFO Request is completed\n",
      "2023-05-19 20:54:22,306 INFO Welcome to the CDS\n",
      "2023-05-19 20:54:22,308 INFO Sending request to https://cds.climate.copernicus.eu/api/v2/resources/reanalysis-era5-pressure-levels\n",
      "2023-05-19 20:54:22,400 INFO Request is queued\n"
     ]
    },
    {
     "name": "stdout",
     "output_type": "stream",
     "text": [
      "643\n"
     ]
    },
    {
     "name": "stderr",
     "output_type": "stream",
     "text": [
      "2023-05-19 20:54:23,480 INFO Request is running\n",
      "2023-05-19 20:54:30,815 INFO Request is completed\n",
      "2023-05-19 20:54:31,142 INFO Welcome to the CDS\n",
      "2023-05-19 20:54:31,143 INFO Sending request to https://cds.climate.copernicus.eu/api/v2/resources/reanalysis-era5-pressure-levels\n",
      "2023-05-19 20:54:31,223 INFO Request is queued\n"
     ]
    },
    {
     "name": "stdout",
     "output_type": "stream",
     "text": [
      "644\n"
     ]
    },
    {
     "name": "stderr",
     "output_type": "stream",
     "text": [
      "2023-05-19 20:54:32,300 INFO Request is running\n",
      "2023-05-19 20:54:39,636 INFO Request is completed\n",
      "2023-05-19 20:54:40,178 INFO Welcome to the CDS\n",
      "2023-05-19 20:54:40,190 INFO Sending request to https://cds.climate.copernicus.eu/api/v2/resources/reanalysis-era5-pressure-levels\n",
      "2023-05-19 20:54:40,275 INFO Request is queued\n"
     ]
    },
    {
     "name": "stdout",
     "output_type": "stream",
     "text": [
      "645\n"
     ]
    },
    {
     "name": "stderr",
     "output_type": "stream",
     "text": [
      "2023-05-19 20:54:41,345 INFO Request is running\n",
      "2023-05-19 20:54:48,669 INFO Request is completed\n",
      "2023-05-19 20:54:49,011 INFO Welcome to the CDS\n",
      "2023-05-19 20:54:49,012 INFO Sending request to https://cds.climate.copernicus.eu/api/v2/resources/reanalysis-era5-pressure-levels\n",
      "2023-05-19 20:54:49,085 INFO Request is queued\n"
     ]
    },
    {
     "name": "stdout",
     "output_type": "stream",
     "text": [
      "646\n"
     ]
    },
    {
     "name": "stderr",
     "output_type": "stream",
     "text": [
      "2023-05-19 20:54:50,160 INFO Request is running\n",
      "2023-05-19 20:55:02,609 INFO Request is completed\n",
      "2023-05-19 20:55:02,932 INFO Welcome to the CDS\n",
      "2023-05-19 20:55:02,933 INFO Sending request to https://cds.climate.copernicus.eu/api/v2/resources/reanalysis-era5-pressure-levels\n",
      "2023-05-19 20:55:03,031 INFO Request is queued\n"
     ]
    },
    {
     "name": "stdout",
     "output_type": "stream",
     "text": [
      "647\n"
     ]
    },
    {
     "name": "stderr",
     "output_type": "stream",
     "text": [
      "2023-05-19 20:55:04,085 INFO Request is running\n",
      "2023-05-19 20:55:11,381 INFO Request is completed\n",
      "2023-05-19 20:55:11,892 INFO Welcome to the CDS\n",
      "2023-05-19 20:55:11,892 INFO Sending request to https://cds.climate.copernicus.eu/api/v2/resources/reanalysis-era5-pressure-levels\n",
      "2023-05-19 20:55:11,960 INFO Request is queued\n"
     ]
    },
    {
     "name": "stdout",
     "output_type": "stream",
     "text": [
      "648\n"
     ]
    },
    {
     "name": "stderr",
     "output_type": "stream",
     "text": [
      "2023-05-19 20:55:13,029 INFO Request is running\n",
      "2023-05-19 20:55:20,495 INFO Request is completed\n",
      "2023-05-19 20:55:20,814 INFO Welcome to the CDS\n",
      "2023-05-19 20:55:20,814 INFO Sending request to https://cds.climate.copernicus.eu/api/v2/resources/reanalysis-era5-pressure-levels\n",
      "2023-05-19 20:55:20,871 INFO Request is queued\n"
     ]
    },
    {
     "name": "stdout",
     "output_type": "stream",
     "text": [
      "649\n"
     ]
    },
    {
     "name": "stderr",
     "output_type": "stream",
     "text": [
      "2023-05-19 20:55:21,929 INFO Request is running\n",
      "2023-05-19 20:55:29,245 INFO Request is completed\n",
      "2023-05-19 20:55:29,567 INFO Welcome to the CDS\n",
      "2023-05-19 20:55:29,567 INFO Sending request to https://cds.climate.copernicus.eu/api/v2/resources/reanalysis-era5-pressure-levels\n",
      "2023-05-19 20:55:29,654 INFO Request is queued\n"
     ]
    },
    {
     "name": "stdout",
     "output_type": "stream",
     "text": [
      "650\n"
     ]
    },
    {
     "name": "stderr",
     "output_type": "stream",
     "text": [
      "2023-05-19 20:55:30,711 INFO Request is running\n",
      "2023-05-19 20:55:38,013 INFO Request is completed\n",
      "2023-05-19 20:55:38,313 INFO Welcome to the CDS\n",
      "2023-05-19 20:55:38,314 INFO Sending request to https://cds.climate.copernicus.eu/api/v2/resources/reanalysis-era5-pressure-levels\n",
      "2023-05-19 20:55:38,369 INFO Request is queued\n"
     ]
    },
    {
     "name": "stdout",
     "output_type": "stream",
     "text": [
      "651\n"
     ]
    },
    {
     "name": "stderr",
     "output_type": "stream",
     "text": [
      "2023-05-19 20:55:39,427 INFO Request is running\n",
      "2023-05-19 20:55:46,709 INFO Request is completed\n",
      "2023-05-19 20:55:47,209 INFO Welcome to the CDS\n",
      "2023-05-19 20:55:47,210 INFO Sending request to https://cds.climate.copernicus.eu/api/v2/resources/reanalysis-era5-pressure-levels\n",
      "2023-05-19 20:55:47,272 INFO Request is queued\n"
     ]
    },
    {
     "name": "stdout",
     "output_type": "stream",
     "text": [
      "652\n"
     ]
    },
    {
     "name": "stderr",
     "output_type": "stream",
     "text": [
      "2023-05-19 20:55:48,324 INFO Request is running\n",
      "2023-05-19 20:55:55,619 INFO Request is completed\n",
      "2023-05-19 20:55:55,935 INFO Welcome to the CDS\n",
      "2023-05-19 20:55:55,936 INFO Sending request to https://cds.climate.copernicus.eu/api/v2/resources/reanalysis-era5-pressure-levels\n",
      "2023-05-19 20:55:56,017 INFO Request is queued\n"
     ]
    },
    {
     "name": "stdout",
     "output_type": "stream",
     "text": [
      "653\n"
     ]
    },
    {
     "name": "stderr",
     "output_type": "stream",
     "text": [
      "2023-05-19 20:55:57,073 INFO Request is running\n",
      "2023-05-19 20:56:04,394 INFO Request is completed\n",
      "2023-05-19 20:56:04,706 INFO Welcome to the CDS\n",
      "2023-05-19 20:56:04,707 INFO Sending request to https://cds.climate.copernicus.eu/api/v2/resources/reanalysis-era5-pressure-levels\n",
      "2023-05-19 20:56:04,764 INFO Request is queued\n"
     ]
    },
    {
     "name": "stdout",
     "output_type": "stream",
     "text": [
      "654\n"
     ]
    },
    {
     "name": "stderr",
     "output_type": "stream",
     "text": [
      "2023-05-19 20:56:05,825 INFO Request is running\n",
      "2023-05-19 20:56:13,125 INFO Request is completed\n",
      "2023-05-19 20:56:13,640 INFO Welcome to the CDS\n",
      "2023-05-19 20:56:13,640 INFO Sending request to https://cds.climate.copernicus.eu/api/v2/resources/reanalysis-era5-pressure-levels\n"
     ]
    },
    {
     "name": "stdout",
     "output_type": "stream",
     "text": [
      "655\n"
     ]
    },
    {
     "name": "stderr",
     "output_type": "stream",
     "text": [
      "2023-05-19 20:56:13,852 INFO Request is queued\n",
      "2023-05-19 20:56:14,904 INFO Request is running\n",
      "2023-05-19 20:56:22,202 INFO Request is completed\n",
      "2023-05-19 20:56:22,666 INFO Welcome to the CDS\n",
      "2023-05-19 20:56:22,666 INFO Sending request to https://cds.climate.copernicus.eu/api/v2/resources/reanalysis-era5-pressure-levels\n",
      "2023-05-19 20:56:22,720 INFO Request is queued\n"
     ]
    },
    {
     "name": "stdout",
     "output_type": "stream",
     "text": [
      "656\n"
     ]
    },
    {
     "name": "stderr",
     "output_type": "stream",
     "text": [
      "2023-05-19 20:56:23,785 INFO Request is running\n",
      "2023-05-19 20:56:31,102 INFO Request is completed\n",
      "2023-05-19 20:56:31,677 INFO Welcome to the CDS\n",
      "2023-05-19 20:56:31,678 INFO Sending request to https://cds.climate.copernicus.eu/api/v2/resources/reanalysis-era5-pressure-levels\n",
      "2023-05-19 20:56:31,732 INFO Request is queued\n"
     ]
    },
    {
     "name": "stdout",
     "output_type": "stream",
     "text": [
      "657\n"
     ]
    },
    {
     "name": "stderr",
     "output_type": "stream",
     "text": [
      "2023-05-19 20:56:32,788 INFO Request is running\n",
      "2023-05-19 20:56:40,258 INFO Request is completed\n",
      "2023-05-19 20:56:40,542 INFO Welcome to the CDS\n",
      "2023-05-19 20:56:40,543 INFO Sending request to https://cds.climate.copernicus.eu/api/v2/resources/reanalysis-era5-pressure-levels\n",
      "2023-05-19 20:56:40,619 INFO Request is queued\n"
     ]
    },
    {
     "name": "stdout",
     "output_type": "stream",
     "text": [
      "658\n"
     ]
    },
    {
     "name": "stderr",
     "output_type": "stream",
     "text": [
      "2023-05-19 20:56:41,669 INFO Request is running\n",
      "2023-05-19 20:56:48,961 INFO Request is completed\n",
      "2023-05-19 20:56:49,258 INFO Welcome to the CDS\n",
      "2023-05-19 20:56:49,258 INFO Sending request to https://cds.climate.copernicus.eu/api/v2/resources/reanalysis-era5-pressure-levels\n",
      "2023-05-19 20:56:49,382 INFO Request is queued\n"
     ]
    },
    {
     "name": "stdout",
     "output_type": "stream",
     "text": [
      "659\n"
     ]
    },
    {
     "name": "stderr",
     "output_type": "stream",
     "text": [
      "2023-05-19 20:56:50,436 INFO Request is running\n",
      "2023-05-19 20:56:57,728 INFO Request is completed\n",
      "2023-05-19 20:56:58,058 INFO Welcome to the CDS\n",
      "2023-05-19 20:56:58,058 INFO Sending request to https://cds.climate.copernicus.eu/api/v2/resources/reanalysis-era5-pressure-levels\n",
      "2023-05-19 20:56:58,116 INFO Request is queued\n"
     ]
    },
    {
     "name": "stdout",
     "output_type": "stream",
     "text": [
      "660\n"
     ]
    },
    {
     "name": "stderr",
     "output_type": "stream",
     "text": [
      "2023-05-19 20:56:59,185 INFO Request is running\n",
      "2023-05-19 20:57:06,590 INFO Request is completed\n",
      "2023-05-19 20:57:07,065 INFO Welcome to the CDS\n",
      "2023-05-19 20:57:07,066 INFO Sending request to https://cds.climate.copernicus.eu/api/v2/resources/reanalysis-era5-pressure-levels\n",
      "2023-05-19 20:57:07,122 INFO Request is queued\n"
     ]
    },
    {
     "name": "stdout",
     "output_type": "stream",
     "text": [
      "661\n"
     ]
    },
    {
     "name": "stderr",
     "output_type": "stream",
     "text": [
      "2023-05-19 20:57:08,188 INFO Request is running\n",
      "2023-05-19 20:57:15,506 INFO Request is completed\n",
      "2023-05-19 20:57:15,812 INFO Welcome to the CDS\n",
      "2023-05-19 20:57:15,813 INFO Sending request to https://cds.climate.copernicus.eu/api/v2/resources/reanalysis-era5-pressure-levels\n",
      "2023-05-19 20:57:15,900 INFO Request is queued\n"
     ]
    },
    {
     "name": "stdout",
     "output_type": "stream",
     "text": [
      "662\n"
     ]
    },
    {
     "name": "stderr",
     "output_type": "stream",
     "text": [
      "2023-05-19 20:57:16,954 INFO Request is running\n",
      "2023-05-19 20:57:24,267 INFO Request is completed\n",
      "2023-05-19 20:57:24,609 INFO Welcome to the CDS\n",
      "2023-05-19 20:57:24,610 INFO Sending request to https://cds.climate.copernicus.eu/api/v2/resources/reanalysis-era5-pressure-levels\n",
      "2023-05-19 20:57:24,666 INFO Request is queued\n"
     ]
    },
    {
     "name": "stdout",
     "output_type": "stream",
     "text": [
      "663\n"
     ]
    },
    {
     "name": "stderr",
     "output_type": "stream",
     "text": [
      "2023-05-19 20:57:25,735 INFO Request is running\n",
      "2023-05-19 20:57:33,028 INFO Request is completed\n",
      "2023-05-19 20:57:33,351 INFO Welcome to the CDS\n",
      "2023-05-19 20:57:33,352 INFO Sending request to https://cds.climate.copernicus.eu/api/v2/resources/reanalysis-era5-pressure-levels\n",
      "2023-05-19 20:57:33,405 INFO Request is queued\n"
     ]
    },
    {
     "name": "stdout",
     "output_type": "stream",
     "text": [
      "664\n"
     ]
    },
    {
     "name": "stderr",
     "output_type": "stream",
     "text": [
      "2023-05-19 20:57:34,467 INFO Request is running\n",
      "2023-05-19 20:57:41,761 INFO Request is completed\n",
      "2023-05-19 20:57:42,199 INFO Welcome to the CDS\n",
      "2023-05-19 20:57:42,199 INFO Sending request to https://cds.climate.copernicus.eu/api/v2/resources/reanalysis-era5-pressure-levels\n",
      "2023-05-19 20:57:42,273 INFO Request is queued\n"
     ]
    },
    {
     "name": "stdout",
     "output_type": "stream",
     "text": [
      "665\n"
     ]
    },
    {
     "name": "stderr",
     "output_type": "stream",
     "text": [
      "2023-05-19 20:57:43,330 INFO Request is running\n",
      "2023-05-19 20:57:50,616 INFO Request is completed\n",
      "2023-05-19 20:57:50,927 INFO Welcome to the CDS\n",
      "2023-05-19 20:57:50,928 INFO Sending request to https://cds.climate.copernicus.eu/api/v2/resources/reanalysis-era5-pressure-levels\n",
      "2023-05-19 20:57:51,002 INFO Request is queued\n"
     ]
    },
    {
     "name": "stdout",
     "output_type": "stream",
     "text": [
      "666\n"
     ]
    },
    {
     "name": "stderr",
     "output_type": "stream",
     "text": [
      "2023-05-19 20:57:52,057 INFO Request is running\n",
      "2023-05-19 20:57:55,918 INFO Request is completed\n",
      "2023-05-19 20:57:56,225 INFO Welcome to the CDS\n",
      "2023-05-19 20:57:56,225 INFO Sending request to https://cds.climate.copernicus.eu/api/v2/resources/reanalysis-era5-pressure-levels\n",
      "2023-05-19 20:57:56,278 INFO Request is queued\n"
     ]
    },
    {
     "name": "stdout",
     "output_type": "stream",
     "text": [
      "667\n"
     ]
    },
    {
     "name": "stderr",
     "output_type": "stream",
     "text": [
      "2023-05-19 20:57:57,333 INFO Request is running\n",
      "2023-05-19 20:58:04,633 INFO Request is completed\n",
      "2023-05-19 20:58:04,973 INFO Welcome to the CDS\n",
      "2023-05-19 20:58:04,973 INFO Sending request to https://cds.climate.copernicus.eu/api/v2/resources/reanalysis-era5-pressure-levels\n",
      "2023-05-19 20:58:05,031 INFO Request is queued\n"
     ]
    },
    {
     "name": "stdout",
     "output_type": "stream",
     "text": [
      "668\n"
     ]
    },
    {
     "name": "stderr",
     "output_type": "stream",
     "text": [
      "2023-05-19 20:58:06,084 INFO Request is running\n",
      "2023-05-19 20:58:13,367 INFO Request is completed\n",
      "2023-05-19 20:58:13,672 INFO Welcome to the CDS\n",
      "2023-05-19 20:58:13,672 INFO Sending request to https://cds.climate.copernicus.eu/api/v2/resources/reanalysis-era5-pressure-levels\n",
      "2023-05-19 20:58:13,743 INFO Request is queued\n"
     ]
    },
    {
     "name": "stdout",
     "output_type": "stream",
     "text": [
      "669\n"
     ]
    },
    {
     "name": "stderr",
     "output_type": "stream",
     "text": [
      "2023-05-19 20:58:14,794 INFO Request is running\n",
      "2023-05-19 20:58:22,231 INFO Request is completed\n",
      "2023-05-19 20:58:22,536 INFO Welcome to the CDS\n",
      "2023-05-19 20:58:22,536 INFO Sending request to https://cds.climate.copernicus.eu/api/v2/resources/reanalysis-era5-pressure-levels\n",
      "2023-05-19 20:58:22,610 INFO Request is queued\n"
     ]
    },
    {
     "name": "stdout",
     "output_type": "stream",
     "text": [
      "670\n"
     ]
    },
    {
     "name": "stderr",
     "output_type": "stream",
     "text": [
      "2023-05-19 20:58:23,663 INFO Request is running\n",
      "2023-05-19 20:58:43,724 INFO Request is completed\n",
      "2023-05-19 20:58:44,030 INFO Welcome to the CDS\n",
      "2023-05-19 20:58:44,031 INFO Sending request to https://cds.climate.copernicus.eu/api/v2/resources/reanalysis-era5-pressure-levels\n",
      "2023-05-19 20:58:44,091 INFO Request is queued\n"
     ]
    },
    {
     "name": "stdout",
     "output_type": "stream",
     "text": [
      "671\n"
     ]
    },
    {
     "name": "stderr",
     "output_type": "stream",
     "text": [
      "2023-05-19 20:58:45,146 INFO Request is running\n",
      "2023-05-19 20:58:52,437 INFO Request is completed\n",
      "2023-05-19 20:58:52,856 INFO Welcome to the CDS\n",
      "2023-05-19 20:58:52,856 INFO Sending request to https://cds.climate.copernicus.eu/api/v2/resources/reanalysis-era5-pressure-levels\n",
      "2023-05-19 20:58:52,927 INFO Request is queued\n"
     ]
    },
    {
     "name": "stdout",
     "output_type": "stream",
     "text": [
      "672\n"
     ]
    },
    {
     "name": "stderr",
     "output_type": "stream",
     "text": [
      "2023-05-19 20:58:53,978 INFO Request is running\n",
      "2023-05-19 20:59:01,288 INFO Request is completed\n",
      "2023-05-19 20:59:01,734 INFO Welcome to the CDS\n",
      "2023-05-19 20:59:01,734 INFO Sending request to https://cds.climate.copernicus.eu/api/v2/resources/reanalysis-era5-pressure-levels\n",
      "2023-05-19 20:59:01,789 INFO Request is queued\n"
     ]
    },
    {
     "name": "stdout",
     "output_type": "stream",
     "text": [
      "673\n"
     ]
    },
    {
     "name": "stderr",
     "output_type": "stream",
     "text": [
      "2023-05-19 20:59:02,862 INFO Request is running\n",
      "2023-05-19 20:59:10,161 INFO Request is completed\n",
      "2023-05-19 20:59:10,577 INFO Welcome to the CDS\n",
      "2023-05-19 20:59:10,578 INFO Sending request to https://cds.climate.copernicus.eu/api/v2/resources/reanalysis-era5-pressure-levels\n",
      "2023-05-19 20:59:10,632 INFO Request is queued\n"
     ]
    },
    {
     "name": "stdout",
     "output_type": "stream",
     "text": [
      "674\n"
     ]
    },
    {
     "name": "stderr",
     "output_type": "stream",
     "text": [
      "2023-05-19 20:59:11,686 INFO Request is running\n",
      "2023-05-19 20:59:18,982 INFO Request is completed\n",
      "2023-05-19 20:59:19,313 INFO Welcome to the CDS\n",
      "2023-05-19 20:59:19,314 INFO Sending request to https://cds.climate.copernicus.eu/api/v2/resources/reanalysis-era5-pressure-levels\n",
      "2023-05-19 20:59:19,438 INFO Request is queued\n"
     ]
    },
    {
     "name": "stdout",
     "output_type": "stream",
     "text": [
      "675\n"
     ]
    },
    {
     "name": "stderr",
     "output_type": "stream",
     "text": [
      "2023-05-19 20:59:20,493 INFO Request is running\n",
      "2023-05-19 20:59:27,791 INFO Request is completed\n",
      "2023-05-19 20:59:28,223 INFO Welcome to the CDS\n",
      "2023-05-19 20:59:28,224 INFO Sending request to https://cds.climate.copernicus.eu/api/v2/resources/reanalysis-era5-pressure-levels\n",
      "2023-05-19 20:59:28,321 INFO Request is queued\n"
     ]
    },
    {
     "name": "stdout",
     "output_type": "stream",
     "text": [
      "676\n"
     ]
    },
    {
     "name": "stderr",
     "output_type": "stream",
     "text": [
      "2023-05-19 20:59:29,377 INFO Request is running\n",
      "2023-05-19 20:59:36,738 INFO Request is completed\n",
      "2023-05-19 20:59:37,244 INFO Welcome to the CDS\n",
      "2023-05-19 20:59:37,244 INFO Sending request to https://cds.climate.copernicus.eu/api/v2/resources/reanalysis-era5-pressure-levels\n",
      "2023-05-19 20:59:37,342 INFO Request is queued\n"
     ]
    },
    {
     "name": "stdout",
     "output_type": "stream",
     "text": [
      "677\n"
     ]
    },
    {
     "name": "stderr",
     "output_type": "stream",
     "text": [
      "2023-05-19 20:59:38,399 INFO Request is running\n",
      "2023-05-19 20:59:45,696 INFO Request is completed\n",
      "2023-05-19 20:59:46,012 INFO Welcome to the CDS\n",
      "2023-05-19 20:59:46,012 INFO Sending request to https://cds.climate.copernicus.eu/api/v2/resources/reanalysis-era5-pressure-levels\n",
      "2023-05-19 20:59:46,092 INFO Request is queued\n"
     ]
    },
    {
     "name": "stdout",
     "output_type": "stream",
     "text": [
      "678\n"
     ]
    },
    {
     "name": "stderr",
     "output_type": "stream",
     "text": [
      "2023-05-19 20:59:47,149 INFO Request is running\n",
      "2023-05-19 20:59:59,595 INFO Request is completed\n",
      "2023-05-19 20:59:59,895 INFO Welcome to the CDS\n",
      "2023-05-19 20:59:59,896 INFO Sending request to https://cds.climate.copernicus.eu/api/v2/resources/reanalysis-era5-pressure-levels\n",
      "2023-05-19 20:59:59,998 INFO Request is queued\n"
     ]
    },
    {
     "name": "stdout",
     "output_type": "stream",
     "text": [
      "679\n"
     ]
    },
    {
     "name": "stderr",
     "output_type": "stream",
     "text": [
      "2023-05-19 21:00:01,070 INFO Request is running\n",
      "2023-05-19 21:00:08,378 INFO Request is completed\n",
      "2023-05-19 21:00:08,934 INFO Welcome to the CDS\n",
      "2023-05-19 21:00:08,935 INFO Sending request to https://cds.climate.copernicus.eu/api/v2/resources/reanalysis-era5-pressure-levels\n",
      "2023-05-19 21:00:09,010 INFO Request is queued\n"
     ]
    },
    {
     "name": "stdout",
     "output_type": "stream",
     "text": [
      "680\n"
     ]
    },
    {
     "name": "stderr",
     "output_type": "stream",
     "text": [
      "2023-05-19 21:00:10,073 INFO Request is running\n",
      "2023-05-19 21:00:17,518 INFO Request is completed\n",
      "2023-05-19 21:00:17,824 INFO Welcome to the CDS\n",
      "2023-05-19 21:00:17,824 INFO Sending request to https://cds.climate.copernicus.eu/api/v2/resources/reanalysis-era5-pressure-levels\n",
      "2023-05-19 21:00:17,883 INFO Request is queued\n"
     ]
    },
    {
     "name": "stdout",
     "output_type": "stream",
     "text": [
      "681\n"
     ]
    },
    {
     "name": "stderr",
     "output_type": "stream",
     "text": [
      "2023-05-19 21:00:18,949 INFO Request is running\n",
      "2023-05-19 21:00:26,272 INFO Request is completed\n",
      "2023-05-19 21:00:26,583 INFO Welcome to the CDS\n",
      "2023-05-19 21:00:26,584 INFO Sending request to https://cds.climate.copernicus.eu/api/v2/resources/reanalysis-era5-pressure-levels\n",
      "2023-05-19 21:00:26,707 INFO Request is queued\n"
     ]
    },
    {
     "name": "stdout",
     "output_type": "stream",
     "text": [
      "682\n"
     ]
    },
    {
     "name": "stderr",
     "output_type": "stream",
     "text": [
      "2023-05-19 21:00:27,764 INFO Request is running\n",
      "2023-05-19 21:00:35,073 INFO Request is completed\n",
      "2023-05-19 21:00:35,538 INFO Welcome to the CDS\n",
      "2023-05-19 21:00:35,539 INFO Sending request to https://cds.climate.copernicus.eu/api/v2/resources/reanalysis-era5-pressure-levels\n",
      "2023-05-19 21:00:35,666 INFO Request is queued\n"
     ]
    },
    {
     "name": "stdout",
     "output_type": "stream",
     "text": [
      "683\n"
     ]
    },
    {
     "name": "stderr",
     "output_type": "stream",
     "text": [
      "2023-05-19 21:00:36,728 INFO Request is running\n",
      "2023-05-19 21:00:44,046 INFO Request is completed\n",
      "2023-05-19 21:00:44,369 INFO Welcome to the CDS\n",
      "2023-05-19 21:00:44,370 INFO Sending request to https://cds.climate.copernicus.eu/api/v2/resources/reanalysis-era5-pressure-levels\n",
      "2023-05-19 21:00:44,455 INFO Request is queued\n"
     ]
    },
    {
     "name": "stdout",
     "output_type": "stream",
     "text": [
      "684\n"
     ]
    },
    {
     "name": "stderr",
     "output_type": "stream",
     "text": [
      "2023-05-19 21:00:45,528 INFO Request is running\n",
      "2023-05-19 21:00:52,855 INFO Request is completed\n",
      "2023-05-19 21:00:53,195 INFO Welcome to the CDS\n",
      "2023-05-19 21:00:53,196 INFO Sending request to https://cds.climate.copernicus.eu/api/v2/resources/reanalysis-era5-pressure-levels\n",
      "2023-05-19 21:00:53,257 INFO Request is queued\n"
     ]
    },
    {
     "name": "stdout",
     "output_type": "stream",
     "text": [
      "685\n"
     ]
    },
    {
     "name": "stderr",
     "output_type": "stream",
     "text": [
      "2023-05-19 21:00:54,323 INFO Request is running\n",
      "2023-05-19 21:01:01,666 INFO Request is completed\n",
      "2023-05-19 21:01:02,220 INFO Welcome to the CDS\n",
      "2023-05-19 21:01:02,222 INFO Sending request to https://cds.climate.copernicus.eu/api/v2/resources/reanalysis-era5-pressure-levels\n",
      "2023-05-19 21:01:02,333 INFO Request is queued\n"
     ]
    },
    {
     "name": "stdout",
     "output_type": "stream",
     "text": [
      "686\n"
     ]
    },
    {
     "name": "stderr",
     "output_type": "stream",
     "text": [
      "2023-05-19 21:01:03,397 INFO Request is running\n",
      "2023-05-19 21:01:10,716 INFO Request is completed\n",
      "2023-05-19 21:01:11,052 INFO Welcome to the CDS\n",
      "2023-05-19 21:01:11,055 INFO Sending request to https://cds.climate.copernicus.eu/api/v2/resources/reanalysis-era5-pressure-levels\n",
      "2023-05-19 21:01:11,116 INFO Request is queued\n"
     ]
    },
    {
     "name": "stdout",
     "output_type": "stream",
     "text": [
      "687\n"
     ]
    },
    {
     "name": "stderr",
     "output_type": "stream",
     "text": [
      "2023-05-19 21:01:12,182 INFO Request is running\n",
      "2023-05-19 21:01:19,503 INFO Request is completed\n",
      "2023-05-19 21:01:19,866 INFO Welcome to the CDS\n",
      "2023-05-19 21:01:19,867 INFO Sending request to https://cds.climate.copernicus.eu/api/v2/resources/reanalysis-era5-pressure-levels\n",
      "2023-05-19 21:01:19,942 INFO Request is queued\n"
     ]
    },
    {
     "name": "stdout",
     "output_type": "stream",
     "text": [
      "688\n"
     ]
    },
    {
     "name": "stderr",
     "output_type": "stream",
     "text": [
      "2023-05-19 21:01:21,007 INFO Request is running\n",
      "2023-05-19 21:01:28,321 INFO Request is completed\n",
      "2023-05-19 21:01:28,673 INFO Welcome to the CDS\n",
      "2023-05-19 21:01:28,674 INFO Sending request to https://cds.climate.copernicus.eu/api/v2/resources/reanalysis-era5-pressure-levels\n",
      "2023-05-19 21:01:28,754 INFO Request is queued\n"
     ]
    },
    {
     "name": "stdout",
     "output_type": "stream",
     "text": [
      "689\n"
     ]
    },
    {
     "name": "stderr",
     "output_type": "stream",
     "text": [
      "2023-05-19 21:01:29,821 INFO Request is running\n",
      "2023-05-19 21:01:37,137 INFO Request is completed\n",
      "2023-05-19 21:01:37,468 INFO Welcome to the CDS\n",
      "2023-05-19 21:01:37,469 INFO Sending request to https://cds.climate.copernicus.eu/api/v2/resources/reanalysis-era5-pressure-levels\n",
      "2023-05-19 21:01:37,540 INFO Request is queued\n"
     ]
    },
    {
     "name": "stdout",
     "output_type": "stream",
     "text": [
      "690\n"
     ]
    },
    {
     "name": "stderr",
     "output_type": "stream",
     "text": [
      "2023-05-19 21:01:38,606 INFO Request is running\n",
      "2023-05-19 21:01:45,930 INFO Request is completed\n",
      "2023-05-19 21:01:46,289 INFO Welcome to the CDS\n",
      "2023-05-19 21:01:46,294 INFO Sending request to https://cds.climate.copernicus.eu/api/v2/resources/reanalysis-era5-pressure-levels\n",
      "2023-05-19 21:01:46,355 INFO Request is queued\n"
     ]
    },
    {
     "name": "stdout",
     "output_type": "stream",
     "text": [
      "691\n"
     ]
    },
    {
     "name": "stderr",
     "output_type": "stream",
     "text": [
      "2023-05-19 21:01:47,421 INFO Request is running\n",
      "2023-05-19 21:01:54,751 INFO Request is completed\n",
      "2023-05-19 21:01:55,092 INFO Welcome to the CDS\n",
      "2023-05-19 21:01:55,094 INFO Sending request to https://cds.climate.copernicus.eu/api/v2/resources/reanalysis-era5-pressure-levels\n",
      "2023-05-19 21:01:55,161 INFO Request is queued\n"
     ]
    },
    {
     "name": "stdout",
     "output_type": "stream",
     "text": [
      "692\n"
     ]
    },
    {
     "name": "stderr",
     "output_type": "stream",
     "text": [
      "2023-05-19 21:01:56,230 INFO Request is running\n",
      "2023-05-19 21:02:03,575 INFO Request is completed\n",
      "2023-05-19 21:02:04,067 INFO Welcome to the CDS\n",
      "2023-05-19 21:02:04,068 INFO Sending request to https://cds.climate.copernicus.eu/api/v2/resources/reanalysis-era5-pressure-levels\n",
      "2023-05-19 21:02:04,144 INFO Request is queued\n"
     ]
    },
    {
     "name": "stdout",
     "output_type": "stream",
     "text": [
      "693\n"
     ]
    },
    {
     "name": "stderr",
     "output_type": "stream",
     "text": [
      "2023-05-19 21:02:05,215 INFO Request is running\n",
      "2023-05-19 21:02:12,533 INFO Request is completed\n",
      "2023-05-19 21:02:12,875 INFO Welcome to the CDS\n",
      "2023-05-19 21:02:12,876 INFO Sending request to https://cds.climate.copernicus.eu/api/v2/resources/reanalysis-era5-pressure-levels\n",
      "2023-05-19 21:02:12,936 INFO Request is queued\n"
     ]
    },
    {
     "name": "stdout",
     "output_type": "stream",
     "text": [
      "694\n"
     ]
    },
    {
     "name": "stderr",
     "output_type": "stream",
     "text": [
      "2023-05-19 21:02:14,001 INFO Request is running\n",
      "2023-05-19 21:02:21,333 INFO Request is completed\n"
     ]
    },
    {
     "name": "stdout",
     "output_type": "stream",
     "text": [
      "695\n"
     ]
    },
    {
     "name": "stderr",
     "output_type": "stream",
     "text": [
      "2023-05-19 21:02:21,853 INFO Welcome to the CDS\n",
      "2023-05-19 21:02:21,854 INFO Sending request to https://cds.climate.copernicus.eu/api/v2/resources/reanalysis-era5-pressure-levels\n",
      "2023-05-19 21:02:21,932 INFO Request is queued\n",
      "2023-05-19 21:02:22,999 INFO Request is running\n",
      "2023-05-19 21:02:30,322 INFO Request is completed\n",
      "2023-05-19 21:02:30,669 INFO Welcome to the CDS\n",
      "2023-05-19 21:02:30,669 INFO Sending request to https://cds.climate.copernicus.eu/api/v2/resources/reanalysis-era5-pressure-levels\n",
      "2023-05-19 21:02:30,741 INFO Request is queued\n"
     ]
    },
    {
     "name": "stdout",
     "output_type": "stream",
     "text": [
      "696\n"
     ]
    },
    {
     "name": "stderr",
     "output_type": "stream",
     "text": [
      "2023-05-19 21:02:31,809 INFO Request is running\n",
      "2023-05-19 21:02:39,120 INFO Request is completed\n",
      "2023-05-19 21:02:39,452 INFO Welcome to the CDS\n",
      "2023-05-19 21:02:39,453 INFO Sending request to https://cds.climate.copernicus.eu/api/v2/resources/reanalysis-era5-pressure-levels\n",
      "2023-05-19 21:02:39,544 INFO Request is queued\n"
     ]
    },
    {
     "name": "stdout",
     "output_type": "stream",
     "text": [
      "697\n"
     ]
    },
    {
     "name": "stderr",
     "output_type": "stream",
     "text": [
      "2023-05-19 21:02:40,611 INFO Request is running\n",
      "2023-05-19 21:02:47,935 INFO Request is completed\n",
      "2023-05-19 21:02:48,255 INFO Welcome to the CDS\n",
      "2023-05-19 21:02:48,256 INFO Sending request to https://cds.climate.copernicus.eu/api/v2/resources/reanalysis-era5-pressure-levels\n",
      "2023-05-19 21:02:48,334 INFO Request is queued\n"
     ]
    },
    {
     "name": "stdout",
     "output_type": "stream",
     "text": [
      "698\n"
     ]
    },
    {
     "name": "stderr",
     "output_type": "stream",
     "text": [
      "2023-05-19 21:02:49,404 INFO Request is running\n",
      "2023-05-19 21:02:56,880 INFO Request is completed\n",
      "2023-05-19 21:02:57,219 INFO Welcome to the CDS\n",
      "2023-05-19 21:02:57,220 INFO Sending request to https://cds.climate.copernicus.eu/api/v2/resources/reanalysis-era5-pressure-levels\n",
      "2023-05-19 21:02:57,302 INFO Request is queued\n"
     ]
    },
    {
     "name": "stdout",
     "output_type": "stream",
     "text": [
      "699\n"
     ]
    },
    {
     "name": "stderr",
     "output_type": "stream",
     "text": [
      "2023-05-19 21:02:58,371 INFO Request is running\n",
      "2023-05-19 21:03:05,729 INFO Request is completed\n",
      "2023-05-19 21:03:06,069 INFO Welcome to the CDS\n",
      "2023-05-19 21:03:06,069 INFO Sending request to https://cds.climate.copernicus.eu/api/v2/resources/reanalysis-era5-pressure-levels\n",
      "2023-05-19 21:03:06,129 INFO Request is queued\n"
     ]
    },
    {
     "name": "stdout",
     "output_type": "stream",
     "text": [
      "700\n"
     ]
    },
    {
     "name": "stderr",
     "output_type": "stream",
     "text": [
      "2023-05-19 21:03:07,197 INFO Request is running\n",
      "2023-05-19 21:03:14,520 INFO Request is completed\n",
      "2023-05-19 21:03:14,866 INFO Welcome to the CDS\n",
      "2023-05-19 21:03:14,870 INFO Sending request to https://cds.climate.copernicus.eu/api/v2/resources/reanalysis-era5-pressure-levels\n",
      "2023-05-19 21:03:14,982 INFO Request is queued\n"
     ]
    },
    {
     "name": "stdout",
     "output_type": "stream",
     "text": [
      "701\n"
     ]
    },
    {
     "name": "stderr",
     "output_type": "stream",
     "text": [
      "2023-05-19 21:03:16,054 INFO Request is running\n",
      "2023-05-19 21:03:23,357 INFO Request is completed\n",
      "2023-05-19 21:03:23,726 INFO Welcome to the CDS\n",
      "2023-05-19 21:03:23,727 INFO Sending request to https://cds.climate.copernicus.eu/api/v2/resources/reanalysis-era5-pressure-levels\n",
      "2023-05-19 21:03:23,797 INFO Request is queued\n"
     ]
    },
    {
     "name": "stdout",
     "output_type": "stream",
     "text": [
      "702\n"
     ]
    },
    {
     "name": "stderr",
     "output_type": "stream",
     "text": [
      "2023-05-19 21:03:24,861 INFO Request is running\n",
      "2023-05-19 21:03:32,221 INFO Request is completed\n",
      "2023-05-19 21:03:32,562 INFO Welcome to the CDS\n",
      "2023-05-19 21:03:32,563 INFO Sending request to https://cds.climate.copernicus.eu/api/v2/resources/reanalysis-era5-pressure-levels\n"
     ]
    },
    {
     "name": "stdout",
     "output_type": "stream",
     "text": [
      "703\n"
     ]
    },
    {
     "name": "stderr",
     "output_type": "stream",
     "text": [
      "2023-05-19 21:03:32,711 INFO Request is queued\n",
      "2023-05-19 21:03:33,773 INFO Request is running\n",
      "2023-05-19 21:03:41,102 INFO Request is completed\n",
      "2023-05-19 21:03:41,650 INFO Welcome to the CDS\n",
      "2023-05-19 21:03:41,651 INFO Sending request to https://cds.climate.copernicus.eu/api/v2/resources/reanalysis-era5-pressure-levels\n",
      "2023-05-19 21:03:41,710 INFO Request is queued\n"
     ]
    },
    {
     "name": "stdout",
     "output_type": "stream",
     "text": [
      "704\n"
     ]
    },
    {
     "name": "stderr",
     "output_type": "stream",
     "text": [
      "2023-05-19 21:03:42,774 INFO Request is running\n",
      "2023-05-19 21:03:50,089 INFO Request is completed\n",
      "2023-05-19 21:03:50,421 INFO Welcome to the CDS\n",
      "2023-05-19 21:03:50,423 INFO Sending request to https://cds.climate.copernicus.eu/api/v2/resources/reanalysis-era5-pressure-levels\n",
      "2023-05-19 21:03:50,486 INFO Request is queued\n"
     ]
    },
    {
     "name": "stdout",
     "output_type": "stream",
     "text": [
      "705\n"
     ]
    },
    {
     "name": "stderr",
     "output_type": "stream",
     "text": [
      "2023-05-19 21:03:51,546 INFO Request is running\n",
      "2023-05-19 21:03:58,868 INFO Request is completed\n",
      "2023-05-19 21:03:59,428 INFO Welcome to the CDS\n",
      "2023-05-19 21:03:59,432 INFO Sending request to https://cds.climate.copernicus.eu/api/v2/resources/reanalysis-era5-pressure-levels\n",
      "2023-05-19 21:03:59,514 INFO Request is queued\n"
     ]
    },
    {
     "name": "stdout",
     "output_type": "stream",
     "text": [
      "706\n"
     ]
    },
    {
     "name": "stderr",
     "output_type": "stream",
     "text": [
      "2023-05-19 21:04:00,585 INFO Request is running\n",
      "2023-05-19 21:04:07,926 INFO Request is completed\n",
      "2023-05-19 21:04:08,273 INFO Welcome to the CDS\n",
      "2023-05-19 21:04:08,274 INFO Sending request to https://cds.climate.copernicus.eu/api/v2/resources/reanalysis-era5-pressure-levels\n",
      "2023-05-19 21:04:08,348 INFO Request is queued\n"
     ]
    },
    {
     "name": "stdout",
     "output_type": "stream",
     "text": [
      "707\n"
     ]
    },
    {
     "name": "stderr",
     "output_type": "stream",
     "text": [
      "2023-05-19 21:04:09,414 INFO Request is running\n",
      "2023-05-19 21:04:16,734 INFO Request is completed\n",
      "2023-05-19 21:04:17,237 INFO Welcome to the CDS\n",
      "2023-05-19 21:04:17,241 INFO Sending request to https://cds.climate.copernicus.eu/api/v2/resources/reanalysis-era5-pressure-levels\n",
      "2023-05-19 21:04:17,317 INFO Request is queued\n"
     ]
    },
    {
     "name": "stdout",
     "output_type": "stream",
     "text": [
      "708\n"
     ]
    },
    {
     "name": "stderr",
     "output_type": "stream",
     "text": [
      "2023-05-19 21:04:18,389 INFO Request is running\n",
      "2023-05-19 21:04:25,705 INFO Request is completed\n",
      "2023-05-19 21:04:26,191 INFO Welcome to the CDS\n",
      "2023-05-19 21:04:26,194 INFO Sending request to https://cds.climate.copernicus.eu/api/v2/resources/reanalysis-era5-pressure-levels\n",
      "2023-05-19 21:04:26,270 INFO Request is queued\n"
     ]
    },
    {
     "name": "stdout",
     "output_type": "stream",
     "text": [
      "709\n"
     ]
    },
    {
     "name": "stderr",
     "output_type": "stream",
     "text": [
      "2023-05-19 21:04:27,493 INFO Request is running\n",
      "2023-05-19 21:04:34,823 INFO Request is completed\n",
      "2023-05-19 21:04:35,331 INFO Welcome to the CDS\n",
      "2023-05-19 21:04:35,332 INFO Sending request to https://cds.climate.copernicus.eu/api/v2/resources/reanalysis-era5-pressure-levels\n",
      "2023-05-19 21:04:35,413 INFO Request is queued\n"
     ]
    },
    {
     "name": "stdout",
     "output_type": "stream",
     "text": [
      "710\n"
     ]
    },
    {
     "name": "stderr",
     "output_type": "stream",
     "text": [
      "2023-05-19 21:04:36,481 INFO Request is running\n",
      "2023-05-19 21:04:43,794 INFO Request is completed\n",
      "2023-05-19 21:04:44,280 INFO Welcome to the CDS\n",
      "2023-05-19 21:04:44,287 INFO Sending request to https://cds.climate.copernicus.eu/api/v2/resources/reanalysis-era5-pressure-levels\n",
      "2023-05-19 21:04:44,406 INFO Request is queued\n"
     ]
    },
    {
     "name": "stdout",
     "output_type": "stream",
     "text": [
      "711\n"
     ]
    },
    {
     "name": "stderr",
     "output_type": "stream",
     "text": [
      "2023-05-19 21:04:45,473 INFO Request is running\n",
      "2023-05-19 21:04:52,807 INFO Request is completed\n",
      "2023-05-19 21:04:53,186 INFO Welcome to the CDS\n",
      "2023-05-19 21:04:53,188 INFO Sending request to https://cds.climate.copernicus.eu/api/v2/resources/reanalysis-era5-pressure-levels\n",
      "2023-05-19 21:04:53,248 INFO Request is queued\n"
     ]
    },
    {
     "name": "stdout",
     "output_type": "stream",
     "text": [
      "712\n"
     ]
    },
    {
     "name": "stderr",
     "output_type": "stream",
     "text": [
      "2023-05-19 21:04:54,315 INFO Request is running\n",
      "2023-05-19 21:05:01,629 INFO Request is completed\n",
      "2023-05-19 21:05:01,987 INFO Welcome to the CDS\n",
      "2023-05-19 21:05:01,988 INFO Sending request to https://cds.climate.copernicus.eu/api/v2/resources/reanalysis-era5-pressure-levels\n",
      "2023-05-19 21:05:02,048 INFO Request is queued\n"
     ]
    },
    {
     "name": "stdout",
     "output_type": "stream",
     "text": [
      "713\n"
     ]
    },
    {
     "name": "stderr",
     "output_type": "stream",
     "text": [
      "2023-05-19 21:05:03,122 INFO Request is running\n",
      "2023-05-19 21:05:10,436 INFO Request is completed\n",
      "2023-05-19 21:05:10,943 INFO Welcome to the CDS\n",
      "2023-05-19 21:05:10,944 INFO Sending request to https://cds.climate.copernicus.eu/api/v2/resources/reanalysis-era5-pressure-levels\n",
      "2023-05-19 21:05:11,017 INFO Request is queued\n"
     ]
    },
    {
     "name": "stdout",
     "output_type": "stream",
     "text": [
      "714\n"
     ]
    },
    {
     "name": "stderr",
     "output_type": "stream",
     "text": [
      "2023-05-19 21:05:12,079 INFO Request is running\n",
      "2023-05-19 21:05:19,396 INFO Request is completed\n",
      "2023-05-19 21:05:19,695 INFO Welcome to the CDS\n",
      "2023-05-19 21:05:19,701 INFO Sending request to https://cds.climate.copernicus.eu/api/v2/resources/reanalysis-era5-pressure-levels\n",
      "2023-05-19 21:05:19,775 INFO Request is queued\n"
     ]
    },
    {
     "name": "stdout",
     "output_type": "stream",
     "text": [
      "715\n"
     ]
    },
    {
     "name": "stderr",
     "output_type": "stream",
     "text": [
      "2023-05-19 21:05:20,842 INFO Request is running\n",
      "2023-05-19 21:05:28,168 INFO Request is completed\n",
      "2023-05-19 21:05:28,502 INFO Welcome to the CDS\n",
      "2023-05-19 21:05:28,504 INFO Sending request to https://cds.climate.copernicus.eu/api/v2/resources/reanalysis-era5-pressure-levels\n",
      "2023-05-19 21:05:28,593 INFO Request is queued\n"
     ]
    },
    {
     "name": "stdout",
     "output_type": "stream",
     "text": [
      "716\n"
     ]
    },
    {
     "name": "stderr",
     "output_type": "stream",
     "text": [
      "2023-05-19 21:05:29,674 INFO Request is running\n",
      "2023-05-19 21:05:42,122 INFO Request is completed\n",
      "2023-05-19 21:05:42,701 INFO Welcome to the CDS\n",
      "2023-05-19 21:05:42,701 INFO Sending request to https://cds.climate.copernicus.eu/api/v2/resources/reanalysis-era5-pressure-levels\n",
      "2023-05-19 21:05:42,757 INFO Request is queued\n"
     ]
    },
    {
     "name": "stdout",
     "output_type": "stream",
     "text": [
      "717\n"
     ]
    },
    {
     "name": "stderr",
     "output_type": "stream",
     "text": [
      "2023-05-19 21:05:43,830 INFO Request is running\n",
      "2023-05-19 21:05:51,173 INFO Request is completed\n",
      "2023-05-19 21:05:51,511 INFO Welcome to the CDS\n",
      "2023-05-19 21:05:51,513 INFO Sending request to https://cds.climate.copernicus.eu/api/v2/resources/reanalysis-era5-pressure-levels\n",
      "2023-05-19 21:05:51,575 INFO Request is queued\n"
     ]
    },
    {
     "name": "stdout",
     "output_type": "stream",
     "text": [
      "718\n"
     ]
    },
    {
     "name": "stderr",
     "output_type": "stream",
     "text": [
      "2023-05-19 21:05:52,655 INFO Request is running\n",
      "2023-05-19 21:05:59,983 INFO Request is completed\n",
      "2023-05-19 21:06:00,397 INFO Welcome to the CDS\n",
      "2023-05-19 21:06:00,398 INFO Sending request to https://cds.climate.copernicus.eu/api/v2/resources/reanalysis-era5-pressure-levels\n",
      "2023-05-19 21:06:00,455 INFO Request is queued\n"
     ]
    },
    {
     "name": "stdout",
     "output_type": "stream",
     "text": [
      "719\n"
     ]
    },
    {
     "name": "stderr",
     "output_type": "stream",
     "text": [
      "2023-05-19 21:06:02,044 INFO Request is running\n",
      "2023-05-19 21:06:09,379 INFO Request is completed\n",
      "2023-05-19 21:06:09,941 INFO Welcome to the CDS\n",
      "2023-05-19 21:06:09,942 INFO Sending request to https://cds.climate.copernicus.eu/api/v2/resources/reanalysis-era5-pressure-levels\n",
      "2023-05-19 21:06:10,011 INFO Request is queued\n"
     ]
    },
    {
     "name": "stdout",
     "output_type": "stream",
     "text": [
      "720\n"
     ]
    },
    {
     "name": "stderr",
     "output_type": "stream",
     "text": [
      "2023-05-19 21:06:11,078 INFO Request is running\n",
      "2023-05-19 21:06:18,443 INFO Request is completed\n",
      "2023-05-19 21:06:18,926 INFO Welcome to the CDS\n",
      "2023-05-19 21:06:18,927 INFO Sending request to https://cds.climate.copernicus.eu/api/v2/resources/reanalysis-era5-pressure-levels\n",
      "2023-05-19 21:06:19,002 INFO Request is queued\n"
     ]
    },
    {
     "name": "stdout",
     "output_type": "stream",
     "text": [
      "721\n"
     ]
    },
    {
     "name": "stderr",
     "output_type": "stream",
     "text": [
      "2023-05-19 21:06:20,067 INFO Request is running\n",
      "2023-05-19 21:06:27,403 INFO Request is completed\n",
      "2023-05-19 21:06:27,850 INFO Welcome to the CDS\n",
      "2023-05-19 21:06:27,851 INFO Sending request to https://cds.climate.copernicus.eu/api/v2/resources/reanalysis-era5-pressure-levels\n",
      "2023-05-19 21:06:27,944 INFO Request is queued\n"
     ]
    },
    {
     "name": "stdout",
     "output_type": "stream",
     "text": [
      "722\n"
     ]
    },
    {
     "name": "stderr",
     "output_type": "stream",
     "text": [
      "2023-05-19 21:06:29,010 INFO Request is running\n",
      "2023-05-19 21:06:36,346 INFO Request is completed\n",
      "2023-05-19 21:06:36,724 INFO Welcome to the CDS\n",
      "2023-05-19 21:06:36,727 INFO Sending request to https://cds.climate.copernicus.eu/api/v2/resources/reanalysis-era5-pressure-levels\n",
      "2023-05-19 21:06:36,807 INFO Request is queued\n"
     ]
    },
    {
     "name": "stdout",
     "output_type": "stream",
     "text": [
      "723\n"
     ]
    },
    {
     "name": "stderr",
     "output_type": "stream",
     "text": [
      "2023-05-19 21:06:37,876 INFO Request is running\n",
      "2023-05-19 21:06:45,354 INFO Request is completed\n",
      "2023-05-19 21:06:45,705 INFO Welcome to the CDS\n",
      "2023-05-19 21:06:45,705 INFO Sending request to https://cds.climate.copernicus.eu/api/v2/resources/reanalysis-era5-pressure-levels\n",
      "2023-05-19 21:06:45,795 INFO Request is queued\n"
     ]
    },
    {
     "name": "stdout",
     "output_type": "stream",
     "text": [
      "724\n"
     ]
    },
    {
     "name": "stderr",
     "output_type": "stream",
     "text": [
      "2023-05-19 21:06:46,867 INFO Request is running\n",
      "2023-05-19 21:06:54,204 INFO Request is completed\n",
      "2023-05-19 21:06:54,652 INFO Welcome to the CDS\n",
      "2023-05-19 21:06:54,653 INFO Sending request to https://cds.climate.copernicus.eu/api/v2/resources/reanalysis-era5-pressure-levels\n",
      "2023-05-19 21:06:54,715 INFO Request is queued\n"
     ]
    },
    {
     "name": "stdout",
     "output_type": "stream",
     "text": [
      "725\n"
     ]
    },
    {
     "name": "stderr",
     "output_type": "stream",
     "text": [
      "2023-05-19 21:06:55,786 INFO Request is running\n",
      "2023-05-19 21:07:03,122 INFO Request is completed\n",
      "2023-05-19 21:07:03,589 INFO Welcome to the CDS\n",
      "2023-05-19 21:07:03,591 INFO Sending request to https://cds.climate.copernicus.eu/api/v2/resources/reanalysis-era5-pressure-levels\n",
      "2023-05-19 21:07:03,685 INFO Request is queued\n"
     ]
    },
    {
     "name": "stdout",
     "output_type": "stream",
     "text": [
      "726\n"
     ]
    },
    {
     "name": "stderr",
     "output_type": "stream",
     "text": [
      "2023-05-19 21:07:04,762 INFO Request is running\n",
      "2023-05-19 21:07:12,124 INFO Request is completed\n",
      "2023-05-19 21:07:12,489 INFO Welcome to the CDS\n",
      "2023-05-19 21:07:12,490 INFO Sending request to https://cds.climate.copernicus.eu/api/v2/resources/reanalysis-era5-pressure-levels\n",
      "2023-05-19 21:07:12,562 INFO Request is queued\n"
     ]
    },
    {
     "name": "stdout",
     "output_type": "stream",
     "text": [
      "727\n"
     ]
    },
    {
     "name": "stderr",
     "output_type": "stream",
     "text": [
      "2023-05-19 21:07:13,639 INFO Request is running\n",
      "2023-05-19 21:07:20,972 INFO Request is completed\n",
      "2023-05-19 21:07:21,313 INFO Welcome to the CDS\n",
      "2023-05-19 21:07:21,314 INFO Sending request to https://cds.climate.copernicus.eu/api/v2/resources/reanalysis-era5-pressure-levels\n",
      "2023-05-19 21:07:21,375 INFO Request is queued\n"
     ]
    },
    {
     "name": "stdout",
     "output_type": "stream",
     "text": [
      "728\n"
     ]
    },
    {
     "name": "stderr",
     "output_type": "stream",
     "text": [
      "2023-05-19 21:07:22,442 INFO Request is running\n",
      "2023-05-19 21:07:29,800 INFO Request is completed\n",
      "2023-05-19 21:07:30,129 INFO Welcome to the CDS\n",
      "2023-05-19 21:07:30,130 INFO Sending request to https://cds.climate.copernicus.eu/api/v2/resources/reanalysis-era5-pressure-levels\n",
      "2023-05-19 21:07:30,190 INFO Request is queued\n"
     ]
    },
    {
     "name": "stdout",
     "output_type": "stream",
     "text": [
      "729\n"
     ]
    },
    {
     "name": "stderr",
     "output_type": "stream",
     "text": [
      "2023-05-19 21:07:31,259 INFO Request is running\n",
      "2023-05-19 21:07:38,605 INFO Request is completed\n",
      "2023-05-19 21:07:39,097 INFO Welcome to the CDS\n",
      "2023-05-19 21:07:39,099 INFO Sending request to https://cds.climate.copernicus.eu/api/v2/resources/reanalysis-era5-pressure-levels\n",
      "2023-05-19 21:07:39,179 INFO Request is queued\n"
     ]
    },
    {
     "name": "stdout",
     "output_type": "stream",
     "text": [
      "730\n"
     ]
    },
    {
     "name": "stderr",
     "output_type": "stream",
     "text": [
      "2023-05-19 21:07:40,258 INFO Request is running\n",
      "2023-05-19 21:07:47,590 INFO Request is completed\n",
      "2023-05-19 21:07:47,930 INFO Welcome to the CDS\n",
      "2023-05-19 21:07:47,935 INFO Sending request to https://cds.climate.copernicus.eu/api/v2/resources/reanalysis-era5-pressure-levels\n"
     ]
    },
    {
     "name": "stdout",
     "output_type": "stream",
     "text": [
      "731\n"
     ]
    },
    {
     "name": "stderr",
     "output_type": "stream",
     "text": [
      "2023-05-19 21:07:48,091 INFO Request is queued\n",
      "2023-05-19 21:07:49,165 INFO Request is running\n",
      "2023-05-19 21:07:56,505 INFO Request is completed\n",
      "2023-05-19 21:07:56,975 INFO Welcome to the CDS\n",
      "2023-05-19 21:07:56,979 INFO Sending request to https://cds.climate.copernicus.eu/api/v2/resources/reanalysis-era5-pressure-levels\n",
      "2023-05-19 21:07:57,074 INFO Request is queued\n"
     ]
    },
    {
     "name": "stdout",
     "output_type": "stream",
     "text": [
      "732\n"
     ]
    },
    {
     "name": "stderr",
     "output_type": "stream",
     "text": [
      "2023-05-19 21:07:58,149 INFO Request is running\n",
      "2023-05-19 21:08:05,487 INFO Request is completed\n",
      "2023-05-19 21:08:05,834 INFO Welcome to the CDS\n",
      "2023-05-19 21:08:05,836 INFO Sending request to https://cds.climate.copernicus.eu/api/v2/resources/reanalysis-era5-pressure-levels\n"
     ]
    },
    {
     "name": "stdout",
     "output_type": "stream",
     "text": [
      "733\n"
     ]
    },
    {
     "name": "stderr",
     "output_type": "stream",
     "text": [
      "2023-05-19 21:08:05,987 INFO Request is queued\n",
      "2023-05-19 21:08:07,055 INFO Request is running\n",
      "2023-05-19 21:08:14,382 INFO Request is completed\n",
      "2023-05-19 21:08:14,853 INFO Welcome to the CDS\n",
      "2023-05-19 21:08:14,854 INFO Sending request to https://cds.climate.copernicus.eu/api/v2/resources/reanalysis-era5-pressure-levels\n",
      "2023-05-19 21:08:14,938 INFO Request is queued\n"
     ]
    },
    {
     "name": "stdout",
     "output_type": "stream",
     "text": [
      "734\n"
     ]
    },
    {
     "name": "stderr",
     "output_type": "stream",
     "text": [
      "2023-05-19 21:08:16,010 INFO Request is running\n",
      "2023-05-19 21:08:23,349 INFO Request is completed\n",
      "2023-05-19 21:08:23,704 INFO Welcome to the CDS\n",
      "2023-05-19 21:08:23,705 INFO Sending request to https://cds.climate.copernicus.eu/api/v2/resources/reanalysis-era5-pressure-levels\n",
      "2023-05-19 21:08:23,789 INFO Request is queued\n"
     ]
    },
    {
     "name": "stdout",
     "output_type": "stream",
     "text": [
      "735\n"
     ]
    },
    {
     "name": "stderr",
     "output_type": "stream",
     "text": [
      "2023-05-19 21:08:24,872 INFO Request is running\n",
      "2023-05-19 21:08:32,304 INFO Request is completed\n",
      "2023-05-19 21:08:32,684 INFO Welcome to the CDS\n",
      "2023-05-19 21:08:32,685 INFO Sending request to https://cds.climate.copernicus.eu/api/v2/resources/reanalysis-era5-pressure-levels\n",
      "2023-05-19 21:08:32,770 INFO Request is queued\n"
     ]
    },
    {
     "name": "stdout",
     "output_type": "stream",
     "text": [
      "736\n"
     ]
    },
    {
     "name": "stderr",
     "output_type": "stream",
     "text": [
      "2023-05-19 21:08:33,844 INFO Request is running\n",
      "2023-05-19 21:08:41,170 INFO Request is completed\n",
      "2023-05-19 21:08:41,650 INFO Welcome to the CDS\n",
      "2023-05-19 21:08:41,652 INFO Sending request to https://cds.climate.copernicus.eu/api/v2/resources/reanalysis-era5-pressure-levels\n",
      "2023-05-19 21:08:41,725 INFO Request is queued\n"
     ]
    },
    {
     "name": "stdout",
     "output_type": "stream",
     "text": [
      "737\n"
     ]
    },
    {
     "name": "stderr",
     "output_type": "stream",
     "text": [
      "2023-05-19 21:08:42,797 INFO Request is running\n",
      "2023-05-19 21:08:50,314 INFO Request is completed\n",
      "2023-05-19 21:08:50,852 INFO Welcome to the CDS\n",
      "2023-05-19 21:08:50,854 INFO Sending request to https://cds.climate.copernicus.eu/api/v2/resources/reanalysis-era5-pressure-levels\n",
      "2023-05-19 21:08:50,919 INFO Request is queued\n"
     ]
    },
    {
     "name": "stdout",
     "output_type": "stream",
     "text": [
      "738\n"
     ]
    },
    {
     "name": "stderr",
     "output_type": "stream",
     "text": [
      "2023-05-19 21:08:51,991 INFO Request is running\n",
      "2023-05-19 21:08:59,335 INFO Request is completed\n",
      "2023-05-19 21:08:59,808 INFO Welcome to the CDS\n",
      "2023-05-19 21:08:59,808 INFO Sending request to https://cds.climate.copernicus.eu/api/v2/resources/reanalysis-era5-pressure-levels\n",
      "2023-05-19 21:08:59,894 INFO Request is queued\n"
     ]
    },
    {
     "name": "stdout",
     "output_type": "stream",
     "text": [
      "739\n"
     ]
    },
    {
     "name": "stderr",
     "output_type": "stream",
     "text": [
      "2023-05-19 21:09:00,970 INFO Request is running\n",
      "2023-05-19 21:09:04,877 INFO Request is completed\n",
      "2023-05-19 21:09:05,364 INFO Welcome to the CDS\n",
      "2023-05-19 21:09:05,365 INFO Sending request to https://cds.climate.copernicus.eu/api/v2/resources/reanalysis-era5-pressure-levels\n",
      "2023-05-19 21:09:05,444 INFO Request is queued\n"
     ]
    },
    {
     "name": "stdout",
     "output_type": "stream",
     "text": [
      "740\n"
     ]
    },
    {
     "name": "stderr",
     "output_type": "stream",
     "text": [
      "2023-05-19 21:09:06,523 INFO Request is running\n",
      "2023-05-19 21:09:13,998 INFO Request is completed\n",
      "2023-05-19 21:09:14,645 INFO Welcome to the CDS\n",
      "2023-05-19 21:09:14,646 INFO Sending request to https://cds.climate.copernicus.eu/api/v2/resources/reanalysis-era5-pressure-levels\n"
     ]
    },
    {
     "name": "stdout",
     "output_type": "stream",
     "text": [
      "741\n"
     ]
    },
    {
     "name": "stderr",
     "output_type": "stream",
     "text": [
      "2023-05-19 21:09:14,779 INFO Request is queued\n",
      "2023-05-19 21:09:15,855 INFO Request is running\n",
      "2023-05-19 21:09:23,212 INFO Request is completed\n",
      "2023-05-19 21:09:23,560 INFO Welcome to the CDS\n",
      "2023-05-19 21:09:23,561 INFO Sending request to https://cds.climate.copernicus.eu/api/v2/resources/reanalysis-era5-pressure-levels\n",
      "2023-05-19 21:09:23,661 INFO Request is queued\n"
     ]
    },
    {
     "name": "stdout",
     "output_type": "stream",
     "text": [
      "742\n"
     ]
    },
    {
     "name": "stderr",
     "output_type": "stream",
     "text": [
      "2023-05-19 21:09:24,743 INFO Request is running\n",
      "2023-05-19 21:09:32,090 INFO Request is completed\n",
      "2023-05-19 21:09:32,431 INFO Welcome to the CDS\n",
      "2023-05-19 21:09:32,433 INFO Sending request to https://cds.climate.copernicus.eu/api/v2/resources/reanalysis-era5-pressure-levels\n",
      "2023-05-19 21:09:32,520 INFO Request is queued\n"
     ]
    },
    {
     "name": "stdout",
     "output_type": "stream",
     "text": [
      "743\n"
     ]
    },
    {
     "name": "stderr",
     "output_type": "stream",
     "text": [
      "2023-05-19 21:09:33,592 INFO Request is running\n",
      "2023-05-19 21:09:40,925 INFO Request is completed\n",
      "2023-05-19 21:09:41,243 INFO Welcome to the CDS\n",
      "2023-05-19 21:09:41,244 INFO Sending request to https://cds.climate.copernicus.eu/api/v2/resources/reanalysis-era5-pressure-levels\n",
      "2023-05-19 21:09:41,368 INFO Request is queued\n"
     ]
    },
    {
     "name": "stdout",
     "output_type": "stream",
     "text": [
      "744\n"
     ]
    },
    {
     "name": "stderr",
     "output_type": "stream",
     "text": [
      "2023-05-19 21:09:42,444 INFO Request is running\n",
      "2023-05-19 21:09:49,796 INFO Request is completed\n",
      "2023-05-19 21:09:50,144 INFO Welcome to the CDS\n",
      "2023-05-19 21:09:50,145 INFO Sending request to https://cds.climate.copernicus.eu/api/v2/resources/reanalysis-era5-pressure-levels\n",
      "2023-05-19 21:09:50,234 INFO Request is queued\n"
     ]
    },
    {
     "name": "stdout",
     "output_type": "stream",
     "text": [
      "745\n"
     ]
    },
    {
     "name": "stderr",
     "output_type": "stream",
     "text": [
      "2023-05-19 21:09:51,310 INFO Request is running\n",
      "2023-05-19 21:09:55,194 INFO Request is completed\n",
      "2023-05-19 21:09:55,705 INFO Welcome to the CDS\n",
      "2023-05-19 21:09:55,712 INFO Sending request to https://cds.climate.copernicus.eu/api/v2/resources/reanalysis-era5-pressure-levels\n",
      "2023-05-19 21:09:55,799 INFO Request is queued\n"
     ]
    },
    {
     "name": "stdout",
     "output_type": "stream",
     "text": [
      "746\n"
     ]
    },
    {
     "name": "stderr",
     "output_type": "stream",
     "text": [
      "2023-05-19 21:09:56,867 INFO Request is running\n",
      "2023-05-19 21:10:00,769 INFO Request is completed\n",
      "2023-05-19 21:10:01,111 INFO Welcome to the CDS\n",
      "2023-05-19 21:10:01,112 INFO Sending request to https://cds.climate.copernicus.eu/api/v2/resources/reanalysis-era5-pressure-levels\n",
      "2023-05-19 21:10:01,205 INFO Request is queued\n"
     ]
    },
    {
     "name": "stdout",
     "output_type": "stream",
     "text": [
      "747\n"
     ]
    },
    {
     "name": "stderr",
     "output_type": "stream",
     "text": [
      "2023-05-19 21:10:02,277 INFO Request is running\n",
      "2023-05-19 21:10:09,619 INFO Request is completed\n",
      "2023-05-19 21:10:09,968 INFO Welcome to the CDS\n",
      "2023-05-19 21:10:09,969 INFO Sending request to https://cds.climate.copernicus.eu/api/v2/resources/reanalysis-era5-pressure-levels\n",
      "2023-05-19 21:10:10,062 INFO Request is queued\n"
     ]
    },
    {
     "name": "stdout",
     "output_type": "stream",
     "text": [
      "748\n"
     ]
    },
    {
     "name": "stderr",
     "output_type": "stream",
     "text": [
      "2023-05-19 21:10:11,136 INFO Request is running\n",
      "2023-05-19 21:10:18,470 INFO Request is completed\n",
      "2023-05-19 21:10:18,820 INFO Welcome to the CDS\n",
      "2023-05-19 21:10:18,821 INFO Sending request to https://cds.climate.copernicus.eu/api/v2/resources/reanalysis-era5-pressure-levels\n",
      "2023-05-19 21:10:18,885 INFO Request is queued\n"
     ]
    },
    {
     "name": "stdout",
     "output_type": "stream",
     "text": [
      "749\n"
     ]
    },
    {
     "name": "stderr",
     "output_type": "stream",
     "text": [
      "2023-05-19 21:10:19,950 INFO Request is running\n",
      "2023-05-19 21:10:27,302 INFO Request is completed\n",
      "2023-05-19 21:10:27,622 INFO Welcome to the CDS\n",
      "2023-05-19 21:10:27,627 INFO Sending request to https://cds.climate.copernicus.eu/api/v2/resources/reanalysis-era5-pressure-levels\n",
      "2023-05-19 21:10:27,713 INFO Request is queued\n"
     ]
    },
    {
     "name": "stdout",
     "output_type": "stream",
     "text": [
      "750\n"
     ]
    },
    {
     "name": "stderr",
     "output_type": "stream",
     "text": [
      "2023-05-19 21:10:28,794 INFO Request is running\n",
      "2023-05-19 21:10:36,149 INFO Request is completed\n",
      "2023-05-19 21:10:36,456 INFO Welcome to the CDS\n",
      "2023-05-19 21:10:36,456 INFO Sending request to https://cds.climate.copernicus.eu/api/v2/resources/reanalysis-era5-pressure-levels\n",
      "2023-05-19 21:10:36,537 INFO Request is queued\n"
     ]
    },
    {
     "name": "stdout",
     "output_type": "stream",
     "text": [
      "751\n"
     ]
    },
    {
     "name": "stderr",
     "output_type": "stream",
     "text": [
      "2023-05-19 21:10:37,613 INFO Request is running\n",
      "2023-05-19 21:10:44,963 INFO Request is completed\n",
      "2023-05-19 21:10:45,307 INFO Welcome to the CDS\n",
      "2023-05-19 21:10:45,308 INFO Sending request to https://cds.climate.copernicus.eu/api/v2/resources/reanalysis-era5-pressure-levels\n",
      "2023-05-19 21:10:45,391 INFO Request is queued\n"
     ]
    },
    {
     "name": "stdout",
     "output_type": "stream",
     "text": [
      "752\n"
     ]
    },
    {
     "name": "stderr",
     "output_type": "stream",
     "text": [
      "2023-05-19 21:10:46,480 INFO Request is running\n",
      "2023-05-19 21:10:53,986 INFO Request is completed\n",
      "2023-05-19 21:10:54,320 INFO Welcome to the CDS\n",
      "2023-05-19 21:10:54,322 INFO Sending request to https://cds.climate.copernicus.eu/api/v2/resources/reanalysis-era5-pressure-levels\n",
      "2023-05-19 21:10:54,391 INFO Request is queued\n"
     ]
    },
    {
     "name": "stdout",
     "output_type": "stream",
     "text": [
      "753\n"
     ]
    },
    {
     "name": "stderr",
     "output_type": "stream",
     "text": [
      "2023-05-19 21:10:55,462 INFO Request is running\n",
      "2023-05-19 21:11:02,786 INFO Request is completed\n",
      "2023-05-19 21:11:03,133 INFO Welcome to the CDS\n",
      "2023-05-19 21:11:03,134 INFO Sending request to https://cds.climate.copernicus.eu/api/v2/resources/reanalysis-era5-pressure-levels\n",
      "2023-05-19 21:11:03,212 INFO Request is queued\n"
     ]
    },
    {
     "name": "stdout",
     "output_type": "stream",
     "text": [
      "754\n"
     ]
    },
    {
     "name": "stderr",
     "output_type": "stream",
     "text": [
      "2023-05-19 21:11:04,285 INFO Request is running\n",
      "2023-05-19 21:11:11,617 INFO Request is completed\n",
      "2023-05-19 21:11:11,948 INFO Welcome to the CDS\n",
      "2023-05-19 21:11:11,949 INFO Sending request to https://cds.climate.copernicus.eu/api/v2/resources/reanalysis-era5-pressure-levels\n",
      "2023-05-19 21:11:12,041 INFO Request is queued\n"
     ]
    },
    {
     "name": "stdout",
     "output_type": "stream",
     "text": [
      "755\n"
     ]
    },
    {
     "name": "stderr",
     "output_type": "stream",
     "text": [
      "2023-05-19 21:11:13,109 INFO Request is running\n",
      "2023-05-19 21:11:20,486 INFO Request is completed\n",
      "2023-05-19 21:11:20,808 INFO Welcome to the CDS\n",
      "2023-05-19 21:11:20,809 INFO Sending request to https://cds.climate.copernicus.eu/api/v2/resources/reanalysis-era5-pressure-levels\n",
      "2023-05-19 21:11:20,909 INFO Request is queued\n"
     ]
    },
    {
     "name": "stdout",
     "output_type": "stream",
     "text": [
      "756\n"
     ]
    },
    {
     "name": "stderr",
     "output_type": "stream",
     "text": [
      "2023-05-19 21:11:21,979 INFO Request is running\n",
      "2023-05-19 21:11:29,331 INFO Request is completed\n",
      "2023-05-19 21:11:29,873 INFO Welcome to the CDS\n",
      "2023-05-19 21:11:29,874 INFO Sending request to https://cds.climate.copernicus.eu/api/v2/resources/reanalysis-era5-pressure-levels\n",
      "2023-05-19 21:11:29,975 INFO Request is queued\n"
     ]
    },
    {
     "name": "stdout",
     "output_type": "stream",
     "text": [
      "757\n"
     ]
    },
    {
     "name": "stderr",
     "output_type": "stream",
     "text": [
      "2023-05-19 21:11:31,054 INFO Request is running\n",
      "2023-05-19 21:11:38,387 INFO Request is completed\n",
      "2023-05-19 21:11:38,744 INFO Welcome to the CDS\n",
      "2023-05-19 21:11:38,745 INFO Sending request to https://cds.climate.copernicus.eu/api/v2/resources/reanalysis-era5-pressure-levels\n",
      "2023-05-19 21:11:38,811 INFO Request is queued\n"
     ]
    },
    {
     "name": "stdout",
     "output_type": "stream",
     "text": [
      "758\n"
     ]
    },
    {
     "name": "stderr",
     "output_type": "stream",
     "text": [
      "2023-05-19 21:11:39,887 INFO Request is running\n",
      "2023-05-19 21:11:47,219 INFO Request is completed\n",
      "2023-05-19 21:11:47,605 INFO Welcome to the CDS\n",
      "2023-05-19 21:11:47,605 INFO Sending request to https://cds.climate.copernicus.eu/api/v2/resources/reanalysis-era5-pressure-levels\n",
      "2023-05-19 21:11:47,670 INFO Request is queued\n"
     ]
    },
    {
     "name": "stdout",
     "output_type": "stream",
     "text": [
      "759\n"
     ]
    },
    {
     "name": "stderr",
     "output_type": "stream",
     "text": [
      "2023-05-19 21:11:48,744 INFO Request is running\n",
      "2023-05-19 21:11:56,078 INFO Request is completed\n",
      "2023-05-19 21:11:56,413 INFO Welcome to the CDS\n",
      "2023-05-19 21:11:56,414 INFO Sending request to https://cds.climate.copernicus.eu/api/v2/resources/reanalysis-era5-pressure-levels\n",
      "2023-05-19 21:11:56,484 INFO Request is queued\n"
     ]
    },
    {
     "name": "stdout",
     "output_type": "stream",
     "text": [
      "760\n"
     ]
    },
    {
     "name": "stderr",
     "output_type": "stream",
     "text": [
      "2023-05-19 21:11:57,553 INFO Request is running\n",
      "2023-05-19 21:12:04,881 INFO Request is completed\n",
      "2023-05-19 21:12:05,330 INFO Welcome to the CDS\n",
      "2023-05-19 21:12:05,332 INFO Sending request to https://cds.climate.copernicus.eu/api/v2/resources/reanalysis-era5-pressure-levels\n",
      "2023-05-19 21:12:05,423 INFO Request is queued\n"
     ]
    },
    {
     "name": "stdout",
     "output_type": "stream",
     "text": [
      "761\n"
     ]
    },
    {
     "name": "stderr",
     "output_type": "stream",
     "text": [
      "2023-05-19 21:12:06,490 INFO Request is running\n",
      "2023-05-19 21:12:13,803 INFO Request is completed\n",
      "2023-05-19 21:12:14,166 INFO Welcome to the CDS\n",
      "2023-05-19 21:12:14,168 INFO Sending request to https://cds.climate.copernicus.eu/api/v2/resources/reanalysis-era5-pressure-levels\n"
     ]
    },
    {
     "name": "stdout",
     "output_type": "stream",
     "text": [
      "762\n"
     ]
    },
    {
     "name": "stderr",
     "output_type": "stream",
     "text": [
      "2023-05-19 21:12:14,319 INFO Request is queued\n",
      "2023-05-19 21:12:15,384 INFO Request is running\n",
      "2023-05-19 21:12:22,743 INFO Request is completed\n",
      "2023-05-19 21:12:23,124 INFO Welcome to the CDS\n",
      "2023-05-19 21:12:23,124 INFO Sending request to https://cds.climate.copernicus.eu/api/v2/resources/reanalysis-era5-pressure-levels\n",
      "2023-05-19 21:12:23,192 INFO Request is queued\n"
     ]
    },
    {
     "name": "stdout",
     "output_type": "stream",
     "text": [
      "763\n"
     ]
    },
    {
     "name": "stderr",
     "output_type": "stream",
     "text": [
      "2023-05-19 21:12:24,267 INFO Request is running\n",
      "2023-05-19 21:12:31,602 INFO Request is completed\n",
      "2023-05-19 21:12:31,951 INFO Welcome to the CDS\n",
      "2023-05-19 21:12:31,952 INFO Sending request to https://cds.climate.copernicus.eu/api/v2/resources/reanalysis-era5-pressure-levels\n",
      "2023-05-19 21:12:32,024 INFO Request is queued\n"
     ]
    },
    {
     "name": "stdout",
     "output_type": "stream",
     "text": [
      "764\n"
     ]
    },
    {
     "name": "stderr",
     "output_type": "stream",
     "text": [
      "2023-05-19 21:12:33,099 INFO Request is running\n",
      "2023-05-19 21:12:40,430 INFO Request is completed\n",
      "2023-05-19 21:12:40,751 INFO Welcome to the CDS\n",
      "2023-05-19 21:12:40,756 INFO Sending request to https://cds.climate.copernicus.eu/api/v2/resources/reanalysis-era5-pressure-levels\n",
      "2023-05-19 21:12:40,849 INFO Request is queued\n"
     ]
    },
    {
     "name": "stdout",
     "output_type": "stream",
     "text": [
      "765\n"
     ]
    },
    {
     "name": "stderr",
     "output_type": "stream",
     "text": [
      "2023-05-19 21:12:41,931 INFO Request is running\n",
      "2023-05-19 21:12:49,282 INFO Request is completed\n",
      "2023-05-19 21:12:49,742 INFO Welcome to the CDS\n",
      "2023-05-19 21:12:49,744 INFO Sending request to https://cds.climate.copernicus.eu/api/v2/resources/reanalysis-era5-pressure-levels\n",
      "2023-05-19 21:12:49,806 INFO Request is queued\n"
     ]
    },
    {
     "name": "stdout",
     "output_type": "stream",
     "text": [
      "766\n"
     ]
    },
    {
     "name": "stderr",
     "output_type": "stream",
     "text": [
      "2023-05-19 21:12:50,866 INFO Request is running\n",
      "2023-05-19 21:12:58,365 INFO Request is completed\n",
      "2023-05-19 21:12:58,713 INFO Welcome to the CDS\n",
      "2023-05-19 21:12:58,714 INFO Sending request to https://cds.climate.copernicus.eu/api/v2/resources/reanalysis-era5-pressure-levels\n",
      "2023-05-19 21:12:58,788 INFO Request is queued\n"
     ]
    },
    {
     "name": "stdout",
     "output_type": "stream",
     "text": [
      "767\n"
     ]
    },
    {
     "name": "stderr",
     "output_type": "stream",
     "text": [
      "2023-05-19 21:12:59,865 INFO Request is running\n",
      "2023-05-19 21:13:07,202 INFO Request is completed\n",
      "2023-05-19 21:13:07,694 INFO Welcome to the CDS\n",
      "2023-05-19 21:13:07,695 INFO Sending request to https://cds.climate.copernicus.eu/api/v2/resources/reanalysis-era5-pressure-levels\n",
      "2023-05-19 21:13:07,760 INFO Request is queued\n"
     ]
    },
    {
     "name": "stdout",
     "output_type": "stream",
     "text": [
      "768\n"
     ]
    },
    {
     "name": "stderr",
     "output_type": "stream",
     "text": [
      "2023-05-19 21:13:08,834 INFO Request is running\n",
      "2023-05-19 21:13:16,180 INFO Request is completed\n",
      "2023-05-19 21:13:16,530 INFO Welcome to the CDS\n",
      "2023-05-19 21:13:16,532 INFO Sending request to https://cds.climate.copernicus.eu/api/v2/resources/reanalysis-era5-pressure-levels\n",
      "2023-05-19 21:13:16,612 INFO Request is queued\n"
     ]
    },
    {
     "name": "stdout",
     "output_type": "stream",
     "text": [
      "769\n"
     ]
    },
    {
     "name": "stderr",
     "output_type": "stream",
     "text": [
      "2023-05-19 21:13:17,688 INFO Request is running\n",
      "2023-05-19 21:13:25,037 INFO Request is completed\n",
      "2023-05-19 21:13:25,520 INFO Welcome to the CDS\n",
      "2023-05-19 21:13:25,522 INFO Sending request to https://cds.climate.copernicus.eu/api/v2/resources/reanalysis-era5-pressure-levels\n",
      "2023-05-19 21:13:25,658 INFO Request is queued\n"
     ]
    },
    {
     "name": "stdout",
     "output_type": "stream",
     "text": [
      "770\n"
     ]
    },
    {
     "name": "stderr",
     "output_type": "stream",
     "text": [
      "2023-05-19 21:13:26,731 INFO Request is running\n",
      "2023-05-19 21:13:34,064 INFO Request is completed\n",
      "2023-05-19 21:13:34,391 INFO Welcome to the CDS\n",
      "2023-05-19 21:13:34,392 INFO Sending request to https://cds.climate.copernicus.eu/api/v2/resources/reanalysis-era5-pressure-levels\n",
      "2023-05-19 21:13:34,458 INFO Request is queued\n"
     ]
    },
    {
     "name": "stdout",
     "output_type": "stream",
     "text": [
      "771\n"
     ]
    },
    {
     "name": "stderr",
     "output_type": "stream",
     "text": [
      "2023-05-19 21:13:35,535 INFO Request is running\n",
      "2023-05-19 21:13:42,882 INFO Request is completed\n",
      "2023-05-19 21:13:43,442 INFO Welcome to the CDS\n",
      "2023-05-19 21:13:43,443 INFO Sending request to https://cds.climate.copernicus.eu/api/v2/resources/reanalysis-era5-pressure-levels\n",
      "2023-05-19 21:13:43,553 INFO Request is queued\n"
     ]
    },
    {
     "name": "stdout",
     "output_type": "stream",
     "text": [
      "772\n"
     ]
    },
    {
     "name": "stderr",
     "output_type": "stream",
     "text": [
      "2023-05-19 21:13:44,624 INFO Request is running\n",
      "2023-05-19 21:13:51,957 INFO Request is completed\n",
      "2023-05-19 21:13:52,301 INFO Welcome to the CDS\n",
      "2023-05-19 21:13:52,303 INFO Sending request to https://cds.climate.copernicus.eu/api/v2/resources/reanalysis-era5-pressure-levels\n",
      "2023-05-19 21:13:52,417 INFO Request is queued\n"
     ]
    },
    {
     "name": "stdout",
     "output_type": "stream",
     "text": [
      "773\n"
     ]
    },
    {
     "name": "stderr",
     "output_type": "stream",
     "text": [
      "2023-05-19 21:13:53,498 INFO Request is running\n",
      "2023-05-19 21:14:00,850 INFO Request is completed\n",
      "2023-05-19 21:14:01,350 INFO Welcome to the CDS\n",
      "2023-05-19 21:14:01,352 INFO Sending request to https://cds.climate.copernicus.eu/api/v2/resources/reanalysis-era5-pressure-levels\n",
      "2023-05-19 21:14:01,442 INFO Request is queued\n"
     ]
    },
    {
     "name": "stdout",
     "output_type": "stream",
     "text": [
      "774\n"
     ]
    },
    {
     "name": "stderr",
     "output_type": "stream",
     "text": [
      "2023-05-19 21:14:02,510 INFO Request is running\n",
      "2023-05-19 21:14:09,850 INFO Request is completed\n",
      "2023-05-19 21:14:10,194 INFO Welcome to the CDS\n",
      "2023-05-19 21:14:10,199 INFO Sending request to https://cds.climate.copernicus.eu/api/v2/resources/reanalysis-era5-pressure-levels\n",
      "2023-05-19 21:14:10,308 INFO Request is queued\n"
     ]
    },
    {
     "name": "stdout",
     "output_type": "stream",
     "text": [
      "775\n"
     ]
    },
    {
     "name": "stderr",
     "output_type": "stream",
     "text": [
      "2023-05-19 21:14:11,382 INFO Request is running\n",
      "2023-05-19 21:14:18,719 INFO Request is completed\n",
      "2023-05-19 21:14:19,056 INFO Welcome to the CDS\n",
      "2023-05-19 21:14:19,057 INFO Sending request to https://cds.climate.copernicus.eu/api/v2/resources/reanalysis-era5-pressure-levels\n",
      "2023-05-19 21:14:19,113 INFO Request is queued\n"
     ]
    },
    {
     "name": "stdout",
     "output_type": "stream",
     "text": [
      "776\n"
     ]
    },
    {
     "name": "stderr",
     "output_type": "stream",
     "text": [
      "2023-05-19 21:14:20,191 INFO Request is running\n",
      "2023-05-19 21:14:27,549 INFO Request is completed\n",
      "2023-05-19 21:14:27,898 INFO Welcome to the CDS\n",
      "2023-05-19 21:14:27,899 INFO Sending request to https://cds.climate.copernicus.eu/api/v2/resources/reanalysis-era5-pressure-levels\n",
      "2023-05-19 21:14:27,985 INFO Request is queued\n"
     ]
    },
    {
     "name": "stdout",
     "output_type": "stream",
     "text": [
      "777\n"
     ]
    },
    {
     "name": "stderr",
     "output_type": "stream",
     "text": [
      "2023-05-19 21:14:29,067 INFO Request is running\n",
      "2023-05-19 21:14:36,406 INFO Request is completed\n",
      "2023-05-19 21:14:36,766 INFO Welcome to the CDS\n",
      "2023-05-19 21:14:36,767 INFO Sending request to https://cds.climate.copernicus.eu/api/v2/resources/reanalysis-era5-pressure-levels\n",
      "2023-05-19 21:14:36,868 INFO Request is queued\n"
     ]
    },
    {
     "name": "stdout",
     "output_type": "stream",
     "text": [
      "778\n"
     ]
    },
    {
     "name": "stderr",
     "output_type": "stream",
     "text": [
      "2023-05-19 21:14:37,943 INFO Request is running\n",
      "2023-05-19 21:14:45,290 INFO Request is completed\n",
      "2023-05-19 21:14:45,751 INFO Welcome to the CDS\n",
      "2023-05-19 21:14:45,752 INFO Sending request to https://cds.climate.copernicus.eu/api/v2/resources/reanalysis-era5-pressure-levels\n"
     ]
    },
    {
     "name": "stdout",
     "output_type": "stream",
     "text": [
      "779\n"
     ]
    },
    {
     "name": "stderr",
     "output_type": "stream",
     "text": [
      "2023-05-19 21:14:45,926 INFO Request is queued\n",
      "2023-05-19 21:14:46,999 INFO Request is running\n",
      "2023-05-19 21:14:54,349 INFO Request is completed\n",
      "2023-05-19 21:14:54,841 INFO Welcome to the CDS\n",
      "2023-05-19 21:14:54,844 INFO Sending request to https://cds.climate.copernicus.eu/api/v2/resources/reanalysis-era5-pressure-levels\n",
      "2023-05-19 21:14:54,907 INFO Request is queued\n"
     ]
    },
    {
     "name": "stdout",
     "output_type": "stream",
     "text": [
      "780\n"
     ]
    },
    {
     "name": "stderr",
     "output_type": "stream",
     "text": [
      "2023-05-19 21:14:55,984 INFO Request is running\n",
      "2023-05-19 21:15:03,356 INFO Request is completed\n"
     ]
    },
    {
     "name": "stdout",
     "output_type": "stream",
     "text": [
      "781\n"
     ]
    },
    {
     "name": "stderr",
     "output_type": "stream",
     "text": [
      "2023-05-19 21:15:03,928 INFO Welcome to the CDS\n",
      "2023-05-19 21:15:03,929 INFO Sending request to https://cds.climate.copernicus.eu/api/v2/resources/reanalysis-era5-pressure-levels\n",
      "2023-05-19 21:15:04,004 INFO Request is queued\n",
      "2023-05-19 21:15:05,078 INFO Request is running\n",
      "2023-05-19 21:15:12,406 INFO Request is completed\n",
      "2023-05-19 21:15:12,878 INFO Welcome to the CDS\n",
      "2023-05-19 21:15:12,879 INFO Sending request to https://cds.climate.copernicus.eu/api/v2/resources/reanalysis-era5-pressure-levels\n",
      "2023-05-19 21:15:12,965 INFO Request is queued\n"
     ]
    },
    {
     "name": "stdout",
     "output_type": "stream",
     "text": [
      "782\n"
     ]
    },
    {
     "name": "stderr",
     "output_type": "stream",
     "text": [
      "2023-05-19 21:15:14,039 INFO Request is running\n",
      "2023-05-19 21:15:21,378 INFO Request is completed\n",
      "2023-05-19 21:15:21,710 INFO Welcome to the CDS\n",
      "2023-05-19 21:15:21,712 INFO Sending request to https://cds.climate.copernicus.eu/api/v2/resources/reanalysis-era5-pressure-levels\n",
      "2023-05-19 21:15:21,800 INFO Request is queued\n"
     ]
    },
    {
     "name": "stdout",
     "output_type": "stream",
     "text": [
      "783\n"
     ]
    },
    {
     "name": "stderr",
     "output_type": "stream",
     "text": [
      "2023-05-19 21:15:22,872 INFO Request is running\n",
      "2023-05-19 21:15:30,342 INFO Request is completed\n",
      "2023-05-19 21:15:30,686 INFO Welcome to the CDS\n",
      "2023-05-19 21:15:30,686 INFO Sending request to https://cds.climate.copernicus.eu/api/v2/resources/reanalysis-era5-pressure-levels\n",
      "2023-05-19 21:15:30,766 INFO Request is queued\n"
     ]
    },
    {
     "name": "stdout",
     "output_type": "stream",
     "text": [
      "784\n"
     ]
    },
    {
     "name": "stderr",
     "output_type": "stream",
     "text": [
      "2023-05-19 21:15:31,839 INFO Request is running\n",
      "2023-05-19 21:15:39,163 INFO Request is completed\n",
      "2023-05-19 21:15:39,482 INFO Welcome to the CDS\n",
      "2023-05-19 21:15:39,485 INFO Sending request to https://cds.climate.copernicus.eu/api/v2/resources/reanalysis-era5-pressure-levels\n",
      "2023-05-19 21:15:39,563 INFO Request is queued\n"
     ]
    },
    {
     "name": "stdout",
     "output_type": "stream",
     "text": [
      "785\n"
     ]
    },
    {
     "name": "stderr",
     "output_type": "stream",
     "text": [
      "2023-05-19 21:15:40,632 INFO Request is running\n",
      "2023-05-19 21:15:47,989 INFO Request is completed\n",
      "2023-05-19 21:15:48,319 INFO Welcome to the CDS\n",
      "2023-05-19 21:15:48,320 INFO Sending request to https://cds.climate.copernicus.eu/api/v2/resources/reanalysis-era5-pressure-levels\n",
      "2023-05-19 21:15:48,451 INFO Request is queued\n"
     ]
    },
    {
     "name": "stdout",
     "output_type": "stream",
     "text": [
      "786\n"
     ]
    },
    {
     "name": "stderr",
     "output_type": "stream",
     "text": [
      "2023-05-19 21:15:49,521 INFO Request is running\n",
      "2023-05-19 21:15:53,412 INFO Request is completed\n",
      "2023-05-19 21:15:53,782 INFO Welcome to the CDS\n",
      "2023-05-19 21:15:53,786 INFO Sending request to https://cds.climate.copernicus.eu/api/v2/resources/reanalysis-era5-pressure-levels\n",
      "2023-05-19 21:15:53,882 INFO Request is queued\n"
     ]
    },
    {
     "name": "stdout",
     "output_type": "stream",
     "text": [
      "787\n"
     ]
    },
    {
     "name": "stderr",
     "output_type": "stream",
     "text": [
      "2023-05-19 21:15:54,954 INFO Request is running\n",
      "2023-05-19 21:16:02,302 INFO Request is completed\n",
      "2023-05-19 21:16:02,785 INFO Welcome to the CDS\n",
      "2023-05-19 21:16:02,786 INFO Sending request to https://cds.climate.copernicus.eu/api/v2/resources/reanalysis-era5-pressure-levels\n",
      "2023-05-19 21:16:02,873 INFO Request is queued\n"
     ]
    },
    {
     "name": "stdout",
     "output_type": "stream",
     "text": [
      "788\n"
     ]
    },
    {
     "name": "stderr",
     "output_type": "stream",
     "text": [
      "2023-05-19 21:16:03,940 INFO Request is running\n",
      "2023-05-19 21:16:11,276 INFO Request is completed\n",
      "2023-05-19 21:16:11,601 INFO Welcome to the CDS\n",
      "2023-05-19 21:16:11,605 INFO Sending request to https://cds.climate.copernicus.eu/api/v2/resources/reanalysis-era5-pressure-levels\n",
      "2023-05-19 21:16:11,681 INFO Request is queued\n"
     ]
    },
    {
     "name": "stdout",
     "output_type": "stream",
     "text": [
      "789\n"
     ]
    },
    {
     "name": "stderr",
     "output_type": "stream",
     "text": [
      "2023-05-19 21:16:12,759 INFO Request is running\n",
      "2023-05-19 21:16:25,228 INFO Request is completed\n",
      "2023-05-19 21:16:25,597 INFO Welcome to the CDS\n",
      "2023-05-19 21:16:25,598 INFO Sending request to https://cds.climate.copernicus.eu/api/v2/resources/reanalysis-era5-pressure-levels\n"
     ]
    },
    {
     "name": "stdout",
     "output_type": "stream",
     "text": [
      "790\n"
     ]
    },
    {
     "name": "stderr",
     "output_type": "stream",
     "text": [
      "2023-05-19 21:16:25,720 INFO Request is queued\n",
      "2023-05-19 21:16:26,797 INFO Request is running\n",
      "2023-05-19 21:16:34,131 INFO Request is completed\n",
      "2023-05-19 21:16:34,468 INFO Welcome to the CDS\n",
      "2023-05-19 21:16:34,470 INFO Sending request to https://cds.climate.copernicus.eu/api/v2/resources/reanalysis-era5-pressure-levels\n",
      "2023-05-19 21:16:34,540 INFO Request is queued\n"
     ]
    },
    {
     "name": "stdout",
     "output_type": "stream",
     "text": [
      "791\n"
     ]
    },
    {
     "name": "stderr",
     "output_type": "stream",
     "text": [
      "2023-05-19 21:16:35,624 INFO Request is running\n",
      "2023-05-19 21:16:42,943 INFO Request is completed\n",
      "2023-05-19 21:16:43,408 INFO Welcome to the CDS\n",
      "2023-05-19 21:16:43,408 INFO Sending request to https://cds.climate.copernicus.eu/api/v2/resources/reanalysis-era5-pressure-levels\n",
      "2023-05-19 21:16:43,507 INFO Request is queued\n"
     ]
    },
    {
     "name": "stdout",
     "output_type": "stream",
     "text": [
      "792\n"
     ]
    },
    {
     "name": "stderr",
     "output_type": "stream",
     "text": [
      "2023-05-19 21:16:44,567 INFO Request is running\n",
      "2023-05-19 21:16:48,461 INFO Request is completed\n",
      "2023-05-19 21:16:48,808 INFO Welcome to the CDS\n",
      "2023-05-19 21:16:48,809 INFO Sending request to https://cds.climate.copernicus.eu/api/v2/resources/reanalysis-era5-pressure-levels\n",
      "2023-05-19 21:16:48,884 INFO Request is queued\n"
     ]
    },
    {
     "name": "stdout",
     "output_type": "stream",
     "text": [
      "793\n"
     ]
    },
    {
     "name": "stderr",
     "output_type": "stream",
     "text": [
      "2023-05-19 21:16:49,957 INFO Request is running\n",
      "2023-05-19 21:16:57,310 INFO Request is completed\n",
      "2023-05-19 21:16:57,636 INFO Welcome to the CDS\n",
      "2023-05-19 21:16:57,638 INFO Sending request to https://cds.climate.copernicus.eu/api/v2/resources/reanalysis-era5-pressure-levels\n",
      "2023-05-19 21:16:57,735 INFO Request is queued\n"
     ]
    },
    {
     "name": "stdout",
     "output_type": "stream",
     "text": [
      "794\n"
     ]
    },
    {
     "name": "stderr",
     "output_type": "stream",
     "text": [
      "2023-05-19 21:16:58,805 INFO Request is running\n",
      "2023-05-19 21:17:06,147 INFO Request is completed\n",
      "2023-05-19 21:17:06,673 INFO Welcome to the CDS\n",
      "2023-05-19 21:17:06,674 INFO Sending request to https://cds.climate.copernicus.eu/api/v2/resources/reanalysis-era5-pressure-levels\n",
      "2023-05-19 21:17:06,739 INFO Request is queued\n"
     ]
    },
    {
     "name": "stdout",
     "output_type": "stream",
     "text": [
      "795\n"
     ]
    },
    {
     "name": "stderr",
     "output_type": "stream",
     "text": [
      "2023-05-19 21:17:07,814 INFO Request is running\n",
      "2023-05-19 21:17:15,313 INFO Request is completed\n",
      "2023-05-19 21:17:15,644 INFO Welcome to the CDS\n",
      "2023-05-19 21:17:15,645 INFO Sending request to https://cds.climate.copernicus.eu/api/v2/resources/reanalysis-era5-pressure-levels\n",
      "2023-05-19 21:17:15,773 INFO Request is queued\n"
     ]
    },
    {
     "name": "stdout",
     "output_type": "stream",
     "text": [
      "796\n"
     ]
    },
    {
     "name": "stderr",
     "output_type": "stream",
     "text": [
      "2023-05-19 21:17:16,864 INFO Request is running\n",
      "2023-05-19 21:17:24,195 INFO Request is completed\n",
      "2023-05-19 21:17:24,535 INFO Welcome to the CDS\n",
      "2023-05-19 21:17:24,537 INFO Sending request to https://cds.climate.copernicus.eu/api/v2/resources/reanalysis-era5-pressure-levels\n",
      "2023-05-19 21:17:24,671 INFO Request is queued\n"
     ]
    },
    {
     "name": "stdout",
     "output_type": "stream",
     "text": [
      "797\n"
     ]
    },
    {
     "name": "stderr",
     "output_type": "stream",
     "text": [
      "2023-05-19 21:17:25,737 INFO Request is running\n",
      "2023-05-19 21:17:33,071 INFO Request is completed\n",
      "2023-05-19 21:17:33,636 INFO Welcome to the CDS\n",
      "2023-05-19 21:17:33,636 INFO Sending request to https://cds.climate.copernicus.eu/api/v2/resources/reanalysis-era5-pressure-levels\n",
      "2023-05-19 21:17:33,739 INFO Request is queued\n"
     ]
    },
    {
     "name": "stdout",
     "output_type": "stream",
     "text": [
      "798\n"
     ]
    },
    {
     "name": "stderr",
     "output_type": "stream",
     "text": [
      "2023-05-19 21:17:34,814 INFO Request is running\n",
      "2023-05-19 21:17:42,156 INFO Request is completed\n",
      "2023-05-19 21:17:42,515 INFO Welcome to the CDS\n",
      "2023-05-19 21:17:42,518 INFO Sending request to https://cds.climate.copernicus.eu/api/v2/resources/reanalysis-era5-pressure-levels\n",
      "2023-05-19 21:17:42,578 INFO Request is queued\n"
     ]
    },
    {
     "name": "stdout",
     "output_type": "stream",
     "text": [
      "799\n"
     ]
    },
    {
     "name": "stderr",
     "output_type": "stream",
     "text": [
      "2023-05-19 21:17:43,662 INFO Request is running\n",
      "2023-05-19 21:17:51,003 INFO Request is completed\n",
      "2023-05-19 21:17:51,347 INFO Welcome to the CDS\n",
      "2023-05-19 21:17:51,348 INFO Sending request to https://cds.climate.copernicus.eu/api/v2/resources/reanalysis-era5-pressure-levels\n",
      "2023-05-19 21:17:51,438 INFO Request is queued\n"
     ]
    },
    {
     "name": "stdout",
     "output_type": "stream",
     "text": [
      "800\n"
     ]
    },
    {
     "name": "stderr",
     "output_type": "stream",
     "text": [
      "2023-05-19 21:17:52,505 INFO Request is running\n",
      "2023-05-19 21:17:59,840 INFO Request is completed\n",
      "2023-05-19 21:18:00,190 INFO Welcome to the CDS\n",
      "2023-05-19 21:18:00,191 INFO Sending request to https://cds.climate.copernicus.eu/api/v2/resources/reanalysis-era5-pressure-levels\n",
      "2023-05-19 21:18:00,292 INFO Request is queued\n"
     ]
    },
    {
     "name": "stdout",
     "output_type": "stream",
     "text": [
      "801\n"
     ]
    },
    {
     "name": "stderr",
     "output_type": "stream",
     "text": [
      "2023-05-19 21:18:01,358 INFO Request is running\n",
      "2023-05-19 21:18:08,687 INFO Request is completed\n",
      "2023-05-19 21:18:09,005 INFO Welcome to the CDS\n",
      "2023-05-19 21:18:09,006 INFO Sending request to https://cds.climate.copernicus.eu/api/v2/resources/reanalysis-era5-pressure-levels\n",
      "2023-05-19 21:18:09,080 INFO Request is queued\n"
     ]
    },
    {
     "name": "stdout",
     "output_type": "stream",
     "text": [
      "802\n"
     ]
    },
    {
     "name": "stderr",
     "output_type": "stream",
     "text": [
      "2023-05-19 21:18:10,147 INFO Request is running\n",
      "2023-05-19 21:18:17,477 INFO Request is completed\n",
      "2023-05-19 21:18:17,808 INFO Welcome to the CDS\n",
      "2023-05-19 21:18:17,809 INFO Sending request to https://cds.climate.copernicus.eu/api/v2/resources/reanalysis-era5-pressure-levels\n",
      "2023-05-19 21:18:17,922 INFO Request is queued\n"
     ]
    },
    {
     "name": "stdout",
     "output_type": "stream",
     "text": [
      "803\n"
     ]
    },
    {
     "name": "stderr",
     "output_type": "stream",
     "text": [
      "2023-05-19 21:18:18,993 INFO Request is running\n",
      "2023-05-19 21:18:26,325 INFO Request is completed\n",
      "2023-05-19 21:18:26,792 INFO Welcome to the CDS\n",
      "2023-05-19 21:18:26,795 INFO Sending request to https://cds.climate.copernicus.eu/api/v2/resources/reanalysis-era5-pressure-levels\n",
      "2023-05-19 21:18:26,875 INFO Request is queued\n"
     ]
    },
    {
     "name": "stdout",
     "output_type": "stream",
     "text": [
      "804\n"
     ]
    },
    {
     "name": "stderr",
     "output_type": "stream",
     "text": [
      "2023-05-19 21:18:27,945 INFO Request is running\n",
      "2023-05-19 21:18:40,408 INFO Request is completed\n",
      "2023-05-19 21:18:40,890 INFO Welcome to the CDS\n",
      "2023-05-19 21:18:40,890 INFO Sending request to https://cds.climate.copernicus.eu/api/v2/resources/reanalysis-era5-pressure-levels\n",
      "2023-05-19 21:18:40,966 INFO Request is queued\n"
     ]
    },
    {
     "name": "stdout",
     "output_type": "stream",
     "text": [
      "805\n"
     ]
    },
    {
     "name": "stderr",
     "output_type": "stream",
     "text": [
      "2023-05-19 21:18:42,042 INFO Request is running\n",
      "2023-05-19 21:18:49,374 INFO Request is completed\n",
      "2023-05-19 21:18:49,815 INFO Welcome to the CDS\n",
      "2023-05-19 21:18:49,816 INFO Sending request to https://cds.climate.copernicus.eu/api/v2/resources/reanalysis-era5-pressure-levels\n",
      "2023-05-19 21:18:49,873 INFO Request is queued\n"
     ]
    },
    {
     "name": "stdout",
     "output_type": "stream",
     "text": [
      "806\n"
     ]
    },
    {
     "name": "stderr",
     "output_type": "stream",
     "text": [
      "2023-05-19 21:18:50,938 INFO Request is running\n",
      "2023-05-19 21:18:58,275 INFO Request is completed\n",
      "2023-05-19 21:18:58,600 INFO Welcome to the CDS\n",
      "2023-05-19 21:18:58,601 INFO Sending request to https://cds.climate.copernicus.eu/api/v2/resources/reanalysis-era5-pressure-levels\n",
      "2023-05-19 21:18:58,717 INFO Request is queued\n"
     ]
    },
    {
     "name": "stdout",
     "output_type": "stream",
     "text": [
      "807\n"
     ]
    },
    {
     "name": "stderr",
     "output_type": "stream",
     "text": [
      "2023-05-19 21:18:59,791 INFO Request is running\n",
      "2023-05-19 21:19:12,250 INFO Request is completed\n",
      "2023-05-19 21:19:12,735 INFO Welcome to the CDS\n",
      "2023-05-19 21:19:12,735 INFO Sending request to https://cds.climate.copernicus.eu/api/v2/resources/reanalysis-era5-pressure-levels\n",
      "2023-05-19 21:19:12,850 INFO Request is queued\n"
     ]
    },
    {
     "name": "stdout",
     "output_type": "stream",
     "text": [
      "808\n"
     ]
    },
    {
     "name": "stderr",
     "output_type": "stream",
     "text": [
      "2023-05-19 21:19:13,918 INFO Request is running\n",
      "2023-05-19 21:19:21,239 INFO Request is completed\n",
      "2023-05-19 21:19:21,584 INFO Welcome to the CDS\n",
      "2023-05-19 21:19:21,585 INFO Sending request to https://cds.climate.copernicus.eu/api/v2/resources/reanalysis-era5-pressure-levels\n",
      "2023-05-19 21:19:21,642 INFO Request is queued\n"
     ]
    },
    {
     "name": "stdout",
     "output_type": "stream",
     "text": [
      "809\n"
     ]
    },
    {
     "name": "stderr",
     "output_type": "stream",
     "text": [
      "2023-05-19 21:19:22,719 INFO Request is running\n",
      "2023-05-19 21:19:30,201 INFO Request is completed\n",
      "2023-05-19 21:19:30,701 INFO Welcome to the CDS\n",
      "2023-05-19 21:19:30,706 INFO Sending request to https://cds.climate.copernicus.eu/api/v2/resources/reanalysis-era5-pressure-levels\n",
      "2023-05-19 21:19:30,778 INFO Request is queued\n"
     ]
    },
    {
     "name": "stdout",
     "output_type": "stream",
     "text": [
      "810\n"
     ]
    },
    {
     "name": "stderr",
     "output_type": "stream",
     "text": [
      "2023-05-19 21:19:31,841 INFO Request is running\n",
      "2023-05-19 21:19:39,170 INFO Request is completed\n",
      "2023-05-19 21:19:39,712 INFO Welcome to the CDS\n",
      "2023-05-19 21:19:39,714 INFO Sending request to https://cds.climate.copernicus.eu/api/v2/resources/reanalysis-era5-pressure-levels\n",
      "2023-05-19 21:19:39,772 INFO Request is queued\n"
     ]
    },
    {
     "name": "stdout",
     "output_type": "stream",
     "text": [
      "811\n"
     ]
    },
    {
     "name": "stderr",
     "output_type": "stream",
     "text": [
      "2023-05-19 21:19:40,846 INFO Request is running\n",
      "2023-05-19 21:19:48,175 INFO Request is completed\n",
      "2023-05-19 21:19:48,516 INFO Welcome to the CDS\n",
      "2023-05-19 21:19:48,517 INFO Sending request to https://cds.climate.copernicus.eu/api/v2/resources/reanalysis-era5-pressure-levels\n",
      "2023-05-19 21:19:48,626 INFO Request is queued\n"
     ]
    },
    {
     "name": "stdout",
     "output_type": "stream",
     "text": [
      "812\n"
     ]
    },
    {
     "name": "stderr",
     "output_type": "stream",
     "text": [
      "2023-05-19 21:19:49,711 INFO Request is running\n",
      "2023-05-19 21:19:57,043 INFO Request is completed\n",
      "2023-05-19 21:19:57,390 INFO Welcome to the CDS\n",
      "2023-05-19 21:19:57,392 INFO Sending request to https://cds.climate.copernicus.eu/api/v2/resources/reanalysis-era5-pressure-levels\n",
      "2023-05-19 21:19:57,467 INFO Request is queued\n"
     ]
    },
    {
     "name": "stdout",
     "output_type": "stream",
     "text": [
      "813\n"
     ]
    },
    {
     "name": "stderr",
     "output_type": "stream",
     "text": [
      "2023-05-19 21:19:58,547 INFO Request is running\n",
      "2023-05-19 21:20:05,883 INFO Request is completed\n",
      "2023-05-19 21:20:06,234 INFO Welcome to the CDS\n",
      "2023-05-19 21:20:06,235 INFO Sending request to https://cds.climate.copernicus.eu/api/v2/resources/reanalysis-era5-pressure-levels\n",
      "2023-05-19 21:20:06,301 INFO Request is queued\n"
     ]
    },
    {
     "name": "stdout",
     "output_type": "stream",
     "text": [
      "814\n"
     ]
    },
    {
     "name": "stderr",
     "output_type": "stream",
     "text": [
      "2023-05-19 21:20:07,373 INFO Request is running\n",
      "2023-05-19 21:20:14,720 INFO Request is completed\n",
      "2023-05-19 21:20:15,063 INFO Welcome to the CDS\n",
      "2023-05-19 21:20:15,066 INFO Sending request to https://cds.climate.copernicus.eu/api/v2/resources/reanalysis-era5-pressure-levels\n",
      "2023-05-19 21:20:15,157 INFO Request is queued\n"
     ]
    },
    {
     "name": "stdout",
     "output_type": "stream",
     "text": [
      "815\n"
     ]
    },
    {
     "name": "stderr",
     "output_type": "stream",
     "text": [
      "2023-05-19 21:20:16,232 INFO Request is running\n",
      "2023-05-19 21:20:23,558 INFO Request is completed\n",
      "2023-05-19 21:20:24,045 INFO Welcome to the CDS\n",
      "2023-05-19 21:20:24,046 INFO Sending request to https://cds.climate.copernicus.eu/api/v2/resources/reanalysis-era5-pressure-levels\n",
      "2023-05-19 21:20:24,136 INFO Request is queued\n"
     ]
    },
    {
     "name": "stdout",
     "output_type": "stream",
     "text": [
      "816\n"
     ]
    },
    {
     "name": "stderr",
     "output_type": "stream",
     "text": [
      "2023-05-19 21:20:25,213 INFO Request is running\n",
      "2023-05-19 21:20:32,566 INFO Request is completed\n",
      "2023-05-19 21:20:33,027 INFO Welcome to the CDS\n",
      "2023-05-19 21:20:33,028 INFO Sending request to https://cds.climate.copernicus.eu/api/v2/resources/reanalysis-era5-pressure-levels\n",
      "2023-05-19 21:20:33,127 INFO Request is queued\n"
     ]
    },
    {
     "name": "stdout",
     "output_type": "stream",
     "text": [
      "817\n"
     ]
    },
    {
     "name": "stderr",
     "output_type": "stream",
     "text": [
      "2023-05-19 21:20:34,199 INFO Request is running\n",
      "2023-05-19 21:20:41,526 INFO Request is completed\n",
      "2023-05-19 21:20:41,844 INFO Welcome to the CDS\n",
      "2023-05-19 21:20:41,845 INFO Sending request to https://cds.climate.copernicus.eu/api/v2/resources/reanalysis-era5-pressure-levels\n",
      "2023-05-19 21:20:41,903 INFO Request is queued\n"
     ]
    },
    {
     "name": "stdout",
     "output_type": "stream",
     "text": [
      "818\n"
     ]
    },
    {
     "name": "stderr",
     "output_type": "stream",
     "text": [
      "2023-05-19 21:20:42,974 INFO Request is running\n",
      "2023-05-19 21:20:50,313 INFO Request is completed\n",
      "2023-05-19 21:20:50,777 INFO Welcome to the CDS\n",
      "2023-05-19 21:20:50,778 INFO Sending request to https://cds.climate.copernicus.eu/api/v2/resources/reanalysis-era5-pressure-levels\n",
      "2023-05-19 21:20:50,835 INFO Request is queued\n"
     ]
    },
    {
     "name": "stdout",
     "output_type": "stream",
     "text": [
      "819\n"
     ]
    },
    {
     "name": "stderr",
     "output_type": "stream",
     "text": [
      "2023-05-19 21:20:51,906 INFO Request is running\n",
      "2023-05-19 21:20:59,239 INFO Request is completed\n",
      "2023-05-19 21:20:59,616 INFO Welcome to the CDS\n",
      "2023-05-19 21:20:59,617 INFO Sending request to https://cds.climate.copernicus.eu/api/v2/resources/reanalysis-era5-pressure-levels\n",
      "2023-05-19 21:20:59,703 INFO Request is queued\n"
     ]
    },
    {
     "name": "stdout",
     "output_type": "stream",
     "text": [
      "820\n"
     ]
    },
    {
     "name": "stderr",
     "output_type": "stream",
     "text": [
      "2023-05-19 21:21:00,771 INFO Request is running\n",
      "2023-05-19 21:21:08,109 INFO Request is completed\n",
      "2023-05-19 21:21:08,449 INFO Welcome to the CDS\n",
      "2023-05-19 21:21:08,450 INFO Sending request to https://cds.climate.copernicus.eu/api/v2/resources/reanalysis-era5-pressure-levels\n",
      "2023-05-19 21:21:08,535 INFO Request is queued\n"
     ]
    },
    {
     "name": "stdout",
     "output_type": "stream",
     "text": [
      "821\n"
     ]
    },
    {
     "name": "stderr",
     "output_type": "stream",
     "text": [
      "2023-05-19 21:21:09,608 INFO Request is running\n",
      "2023-05-19 21:21:16,949 INFO Request is completed\n",
      "2023-05-19 21:21:17,307 INFO Welcome to the CDS\n",
      "2023-05-19 21:21:17,308 INFO Sending request to https://cds.climate.copernicus.eu/api/v2/resources/reanalysis-era5-pressure-levels\n",
      "2023-05-19 21:21:17,374 INFO Request is queued\n"
     ]
    },
    {
     "name": "stdout",
     "output_type": "stream",
     "text": [
      "822\n"
     ]
    },
    {
     "name": "stderr",
     "output_type": "stream",
     "text": [
      "2023-05-19 21:21:18,433 INFO Request is running\n",
      "2023-05-19 21:21:25,748 INFO Request is completed\n",
      "2023-05-19 21:21:26,093 INFO Welcome to the CDS\n",
      "2023-05-19 21:21:26,094 INFO Sending request to https://cds.climate.copernicus.eu/api/v2/resources/reanalysis-era5-pressure-levels\n",
      "2023-05-19 21:21:26,176 INFO Request is queued\n"
     ]
    },
    {
     "name": "stdout",
     "output_type": "stream",
     "text": [
      "823\n"
     ]
    },
    {
     "name": "stderr",
     "output_type": "stream",
     "text": [
      "2023-05-19 21:21:27,256 INFO Request is running\n",
      "2023-05-19 21:21:34,747 INFO Request is completed\n",
      "2023-05-19 21:21:35,216 INFO Welcome to the CDS\n",
      "2023-05-19 21:21:35,217 INFO Sending request to https://cds.climate.copernicus.eu/api/v2/resources/reanalysis-era5-pressure-levels\n",
      "2023-05-19 21:21:35,295 INFO Request is queued\n"
     ]
    },
    {
     "name": "stdout",
     "output_type": "stream",
     "text": [
      "824\n"
     ]
    },
    {
     "name": "stderr",
     "output_type": "stream",
     "text": [
      "2023-05-19 21:21:36,365 INFO Request is running\n",
      "2023-05-19 21:21:43,717 INFO Request is completed\n",
      "2023-05-19 21:21:44,259 INFO Welcome to the CDS\n",
      "2023-05-19 21:21:44,261 INFO Sending request to https://cds.climate.copernicus.eu/api/v2/resources/reanalysis-era5-pressure-levels\n",
      "2023-05-19 21:21:44,326 INFO Request is queued\n"
     ]
    },
    {
     "name": "stdout",
     "output_type": "stream",
     "text": [
      "825\n"
     ]
    },
    {
     "name": "stderr",
     "output_type": "stream",
     "text": [
      "2023-05-19 21:21:45,391 INFO Request is running\n",
      "2023-05-19 21:21:49,407 INFO Request is completed\n",
      "2023-05-19 21:21:49,760 INFO Welcome to the CDS\n",
      "2023-05-19 21:21:49,765 INFO Sending request to https://cds.climate.copernicus.eu/api/v2/resources/reanalysis-era5-pressure-levels\n",
      "2023-05-19 21:21:49,856 INFO Request is queued\n"
     ]
    },
    {
     "name": "stdout",
     "output_type": "stream",
     "text": [
      "826\n"
     ]
    },
    {
     "name": "stderr",
     "output_type": "stream",
     "text": [
      "2023-05-19 21:21:50,932 INFO Request is running\n",
      "2023-05-19 21:21:58,265 INFO Request is completed\n",
      "2023-05-19 21:21:58,584 INFO Welcome to the CDS\n",
      "2023-05-19 21:21:58,590 INFO Sending request to https://cds.climate.copernicus.eu/api/v2/resources/reanalysis-era5-pressure-levels\n",
      "2023-05-19 21:21:58,648 INFO Request is queued\n"
     ]
    },
    {
     "name": "stdout",
     "output_type": "stream",
     "text": [
      "827\n"
     ]
    },
    {
     "name": "stderr",
     "output_type": "stream",
     "text": [
      "2023-05-19 21:21:59,701 INFO Request is running\n",
      "2023-05-19 21:22:07,028 INFO Request is completed\n",
      "2023-05-19 21:22:07,353 INFO Welcome to the CDS\n",
      "2023-05-19 21:22:07,355 INFO Sending request to https://cds.climate.copernicus.eu/api/v2/resources/reanalysis-era5-pressure-levels\n",
      "2023-05-19 21:22:07,415 INFO Request is queued\n"
     ]
    },
    {
     "name": "stdout",
     "output_type": "stream",
     "text": [
      "828\n"
     ]
    },
    {
     "name": "stderr",
     "output_type": "stream",
     "text": [
      "2023-05-19 21:22:08,486 INFO Request is running\n",
      "2023-05-19 21:22:15,820 INFO Request is completed\n",
      "2023-05-19 21:22:16,288 INFO Welcome to the CDS\n",
      "2023-05-19 21:22:16,289 INFO Sending request to https://cds.climate.copernicus.eu/api/v2/resources/reanalysis-era5-pressure-levels\n",
      "2023-05-19 21:22:16,354 INFO Request is queued\n"
     ]
    },
    {
     "name": "stdout",
     "output_type": "stream",
     "text": [
      "829\n"
     ]
    },
    {
     "name": "stderr",
     "output_type": "stream",
     "text": [
      "2023-05-19 21:22:17,422 INFO Request is running\n",
      "2023-05-19 21:22:29,897 INFO Request is completed\n",
      "2023-05-19 21:22:30,357 INFO Welcome to the CDS\n",
      "2023-05-19 21:22:30,359 INFO Sending request to https://cds.climate.copernicus.eu/api/v2/resources/reanalysis-era5-pressure-levels\n",
      "2023-05-19 21:22:30,432 INFO Request is queued\n"
     ]
    },
    {
     "name": "stdout",
     "output_type": "stream",
     "text": [
      "830\n"
     ]
    },
    {
     "name": "stderr",
     "output_type": "stream",
     "text": [
      "2023-05-19 21:22:31,493 INFO Request is running\n",
      "2023-05-19 21:22:38,807 INFO Request is completed\n",
      "2023-05-19 21:22:39,150 INFO Welcome to the CDS\n",
      "2023-05-19 21:22:39,151 INFO Sending request to https://cds.climate.copernicus.eu/api/v2/resources/reanalysis-era5-pressure-levels\n",
      "2023-05-19 21:22:39,249 INFO Request is queued\n"
     ]
    },
    {
     "name": "stdout",
     "output_type": "stream",
     "text": [
      "831\n"
     ]
    },
    {
     "name": "stderr",
     "output_type": "stream",
     "text": [
      "2023-05-19 21:22:40,316 INFO Request is running\n",
      "2023-05-19 21:22:47,642 INFO Request is completed\n",
      "2023-05-19 21:22:48,123 INFO Welcome to the CDS\n",
      "2023-05-19 21:22:48,123 INFO Sending request to https://cds.climate.copernicus.eu/api/v2/resources/reanalysis-era5-pressure-levels\n",
      "2023-05-19 21:22:48,176 INFO Request is queued\n"
     ]
    },
    {
     "name": "stdout",
     "output_type": "stream",
     "text": [
      "832\n"
     ]
    },
    {
     "name": "stderr",
     "output_type": "stream",
     "text": [
      "2023-05-19 21:22:49,248 INFO Request is running\n",
      "2023-05-19 21:22:56,570 INFO Request is completed\n",
      "2023-05-19 21:22:57,060 INFO Welcome to the CDS\n",
      "2023-05-19 21:22:57,062 INFO Sending request to https://cds.climate.copernicus.eu/api/v2/resources/reanalysis-era5-pressure-levels\n",
      "2023-05-19 21:22:57,147 INFO Request is queued\n"
     ]
    },
    {
     "name": "stdout",
     "output_type": "stream",
     "text": [
      "833\n"
     ]
    },
    {
     "name": "stderr",
     "output_type": "stream",
     "text": [
      "2023-05-19 21:22:58,216 INFO Request is running\n",
      "2023-05-19 21:23:05,550 INFO Request is completed\n",
      "2023-05-19 21:23:06,022 INFO Welcome to the CDS\n",
      "2023-05-19 21:23:06,024 INFO Sending request to https://cds.climate.copernicus.eu/api/v2/resources/reanalysis-era5-pressure-levels\n",
      "2023-05-19 21:23:06,081 INFO Request is queued\n"
     ]
    },
    {
     "name": "stdout",
     "output_type": "stream",
     "text": [
      "834\n"
     ]
    },
    {
     "name": "stderr",
     "output_type": "stream",
     "text": [
      "2023-05-19 21:23:07,149 INFO Request is running\n",
      "2023-05-19 21:23:14,474 INFO Request is completed\n",
      "2023-05-19 21:23:14,832 INFO Welcome to the CDS\n",
      "2023-05-19 21:23:14,834 INFO Sending request to https://cds.climate.copernicus.eu/api/v2/resources/reanalysis-era5-pressure-levels\n",
      "2023-05-19 21:23:14,908 INFO Request is queued\n"
     ]
    },
    {
     "name": "stdout",
     "output_type": "stream",
     "text": [
      "835\n"
     ]
    },
    {
     "name": "stderr",
     "output_type": "stream",
     "text": [
      "2023-05-19 21:23:15,979 INFO Request is running\n",
      "2023-05-19 21:23:23,318 INFO Request is completed\n",
      "2023-05-19 21:23:23,650 INFO Welcome to the CDS\n",
      "2023-05-19 21:23:23,652 INFO Sending request to https://cds.climate.copernicus.eu/api/v2/resources/reanalysis-era5-pressure-levels\n",
      "2023-05-19 21:23:23,725 INFO Request is queued\n"
     ]
    },
    {
     "name": "stdout",
     "output_type": "stream",
     "text": [
      "836\n"
     ]
    },
    {
     "name": "stderr",
     "output_type": "stream",
     "text": [
      "2023-05-19 21:23:24,792 INFO Request is running\n",
      "2023-05-19 21:23:32,128 INFO Request is completed\n",
      "2023-05-19 21:23:32,438 INFO Welcome to the CDS\n",
      "2023-05-19 21:23:32,438 INFO Sending request to https://cds.climate.copernicus.eu/api/v2/resources/reanalysis-era5-pressure-levels\n",
      "2023-05-19 21:23:32,495 INFO Request is queued\n"
     ]
    },
    {
     "name": "stdout",
     "output_type": "stream",
     "text": [
      "837\n"
     ]
    },
    {
     "name": "stderr",
     "output_type": "stream",
     "text": [
      "2023-05-19 21:23:33,568 INFO Request is running\n",
      "2023-05-19 21:23:40,896 INFO Request is completed\n"
     ]
    },
    {
     "name": "stdout",
     "output_type": "stream",
     "text": [
      "838\n"
     ]
    },
    {
     "name": "stderr",
     "output_type": "stream",
     "text": [
      "2023-05-19 21:23:41,397 INFO Welcome to the CDS\n",
      "2023-05-19 21:23:41,399 INFO Sending request to https://cds.climate.copernicus.eu/api/v2/resources/reanalysis-era5-pressure-levels\n",
      "2023-05-19 21:23:41,478 INFO Request is queued\n",
      "2023-05-19 21:23:42,550 INFO Request is running\n",
      "2023-05-19 21:23:49,924 INFO Request is completed\n",
      "2023-05-19 21:23:50,235 INFO Welcome to the CDS\n",
      "2023-05-19 21:23:50,237 INFO Sending request to https://cds.climate.copernicus.eu/api/v2/resources/reanalysis-era5-pressure-levels\n",
      "2023-05-19 21:23:50,312 INFO Request is queued\n"
     ]
    },
    {
     "name": "stdout",
     "output_type": "stream",
     "text": [
      "839\n"
     ]
    },
    {
     "name": "stderr",
     "output_type": "stream",
     "text": [
      "2023-05-19 21:23:51,387 INFO Request is running\n",
      "2023-05-19 21:24:03,869 INFO Request is completed\n",
      "2023-05-19 21:24:04,351 INFO Welcome to the CDS\n",
      "2023-05-19 21:24:04,351 INFO Sending request to https://cds.climate.copernicus.eu/api/v2/resources/reanalysis-era5-pressure-levels\n",
      "2023-05-19 21:24:04,437 INFO Request is queued\n"
     ]
    },
    {
     "name": "stdout",
     "output_type": "stream",
     "text": [
      "840\n"
     ]
    },
    {
     "name": "stderr",
     "output_type": "stream",
     "text": [
      "2023-05-19 21:24:05,509 INFO Request is running\n",
      "2023-05-19 21:24:12,834 INFO Request is completed\n",
      "2023-05-19 21:24:13,175 INFO Welcome to the CDS\n",
      "2023-05-19 21:24:13,176 INFO Sending request to https://cds.climate.copernicus.eu/api/v2/resources/reanalysis-era5-pressure-levels\n",
      "2023-05-19 21:24:13,237 INFO Request is queued\n"
     ]
    },
    {
     "name": "stdout",
     "output_type": "stream",
     "text": [
      "841\n"
     ]
    },
    {
     "name": "stderr",
     "output_type": "stream",
     "text": [
      "2023-05-19 21:24:14,306 INFO Request is running\n",
      "2023-05-19 21:24:21,641 INFO Request is completed\n",
      "2023-05-19 21:24:22,107 INFO Welcome to the CDS\n",
      "2023-05-19 21:24:22,108 INFO Sending request to https://cds.climate.copernicus.eu/api/v2/resources/reanalysis-era5-pressure-levels\n",
      "2023-05-19 21:24:22,222 INFO Request is queued\n"
     ]
    },
    {
     "name": "stdout",
     "output_type": "stream",
     "text": [
      "842\n"
     ]
    },
    {
     "name": "stderr",
     "output_type": "stream",
     "text": [
      "2023-05-19 21:24:23,292 INFO Request is running\n",
      "2023-05-19 21:24:30,622 INFO Request is completed\n",
      "2023-05-19 21:24:30,950 INFO Welcome to the CDS\n",
      "2023-05-19 21:24:30,951 INFO Sending request to https://cds.climate.copernicus.eu/api/v2/resources/reanalysis-era5-pressure-levels\n",
      "2023-05-19 21:24:31,025 INFO Request is queued\n"
     ]
    },
    {
     "name": "stdout",
     "output_type": "stream",
     "text": [
      "843\n"
     ]
    },
    {
     "name": "stderr",
     "output_type": "stream",
     "text": [
      "2023-05-19 21:24:32,101 INFO Request is running\n",
      "2023-05-19 21:24:39,433 INFO Request is completed\n",
      "2023-05-19 21:24:39,772 INFO Welcome to the CDS\n",
      "2023-05-19 21:24:39,775 INFO Sending request to https://cds.climate.copernicus.eu/api/v2/resources/reanalysis-era5-pressure-levels\n",
      "2023-05-19 21:24:39,834 INFO Request is queued\n"
     ]
    },
    {
     "name": "stdout",
     "output_type": "stream",
     "text": [
      "844\n"
     ]
    },
    {
     "name": "stderr",
     "output_type": "stream",
     "text": [
      "2023-05-19 21:24:40,897 INFO Request is running\n",
      "2023-05-19 21:24:48,228 INFO Request is completed\n",
      "2023-05-19 21:24:48,769 INFO Welcome to the CDS\n",
      "2023-05-19 21:24:48,770 INFO Sending request to https://cds.climate.copernicus.eu/api/v2/resources/reanalysis-era5-pressure-levels\n",
      "2023-05-19 21:24:48,845 INFO Request is queued\n"
     ]
    },
    {
     "name": "stdout",
     "output_type": "stream",
     "text": [
      "845\n"
     ]
    },
    {
     "name": "stderr",
     "output_type": "stream",
     "text": [
      "2023-05-19 21:24:49,913 INFO Request is running\n",
      "2023-05-19 21:24:57,244 INFO Request is completed\n",
      "2023-05-19 21:24:57,605 INFO Welcome to the CDS\n",
      "2023-05-19 21:24:57,608 INFO Sending request to https://cds.climate.copernicus.eu/api/v2/resources/reanalysis-era5-pressure-levels\n",
      "2023-05-19 21:24:57,688 INFO Request is queued\n"
     ]
    },
    {
     "name": "stdout",
     "output_type": "stream",
     "text": [
      "846\n"
     ]
    },
    {
     "name": "stderr",
     "output_type": "stream",
     "text": [
      "2023-05-19 21:24:58,745 INFO Request is running\n",
      "2023-05-19 21:25:06,083 INFO Request is completed\n",
      "2023-05-19 21:25:06,407 INFO Welcome to the CDS\n",
      "2023-05-19 21:25:06,408 INFO Sending request to https://cds.climate.copernicus.eu/api/v2/resources/reanalysis-era5-pressure-levels\n",
      "2023-05-19 21:25:06,465 INFO Request is queued\n"
     ]
    },
    {
     "name": "stdout",
     "output_type": "stream",
     "text": [
      "847\n"
     ]
    },
    {
     "name": "stderr",
     "output_type": "stream",
     "text": [
      "2023-05-19 21:25:07,535 INFO Request is running\n",
      "2023-05-19 21:25:14,859 INFO Request is completed\n",
      "2023-05-19 21:25:15,399 INFO Welcome to the CDS\n",
      "2023-05-19 21:25:15,400 INFO Sending request to https://cds.climate.copernicus.eu/api/v2/resources/reanalysis-era5-pressure-levels\n",
      "2023-05-19 21:25:15,460 INFO Request is queued\n"
     ]
    },
    {
     "name": "stdout",
     "output_type": "stream",
     "text": [
      "848\n"
     ]
    },
    {
     "name": "stderr",
     "output_type": "stream",
     "text": [
      "2023-05-19 21:25:16,538 INFO Request is running\n",
      "2023-05-19 21:25:23,867 INFO Request is completed\n",
      "2023-05-19 21:25:24,196 INFO Welcome to the CDS\n",
      "2023-05-19 21:25:24,197 INFO Sending request to https://cds.climate.copernicus.eu/api/v2/resources/reanalysis-era5-pressure-levels\n",
      "2023-05-19 21:25:24,307 INFO Request is queued\n"
     ]
    },
    {
     "name": "stdout",
     "output_type": "stream",
     "text": [
      "849\n"
     ]
    },
    {
     "name": "stderr",
     "output_type": "stream",
     "text": [
      "2023-05-19 21:25:25,383 INFO Request is running\n",
      "2023-05-19 21:25:32,717 INFO Request is completed\n",
      "2023-05-19 21:25:33,282 INFO Welcome to the CDS\n",
      "2023-05-19 21:25:33,283 INFO Sending request to https://cds.climate.copernicus.eu/api/v2/resources/reanalysis-era5-pressure-levels\n",
      "2023-05-19 21:25:33,350 INFO Request is queued\n"
     ]
    },
    {
     "name": "stdout",
     "output_type": "stream",
     "text": [
      "850\n"
     ]
    },
    {
     "name": "stderr",
     "output_type": "stream",
     "text": [
      "2023-05-19 21:25:34,416 INFO Request is running\n",
      "2023-05-19 21:25:41,774 INFO Request is completed\n",
      "2023-05-19 21:25:42,114 INFO Welcome to the CDS\n",
      "2023-05-19 21:25:42,115 INFO Sending request to https://cds.climate.copernicus.eu/api/v2/resources/reanalysis-era5-pressure-levels\n",
      "2023-05-19 21:25:42,184 INFO Request is queued\n"
     ]
    },
    {
     "name": "stdout",
     "output_type": "stream",
     "text": [
      "851\n"
     ]
    },
    {
     "name": "stderr",
     "output_type": "stream",
     "text": [
      "2023-05-19 21:25:43,258 INFO Request is running\n",
      "2023-05-19 21:25:50,597 INFO Request is completed\n",
      "2023-05-19 21:25:50,916 INFO Welcome to the CDS\n",
      "2023-05-19 21:25:50,917 INFO Sending request to https://cds.climate.copernicus.eu/api/v2/resources/reanalysis-era5-pressure-levels\n"
     ]
    },
    {
     "name": "stdout",
     "output_type": "stream",
     "text": [
      "852\n"
     ]
    },
    {
     "name": "stderr",
     "output_type": "stream",
     "text": [
      "2023-05-19 21:25:51,151 INFO Request is queued\n",
      "2023-05-19 21:25:52,225 INFO Request is running\n",
      "2023-05-19 21:25:59,564 INFO Request is completed\n",
      "2023-05-19 21:26:00,123 INFO Welcome to the CDS\n",
      "2023-05-19 21:26:00,124 INFO Sending request to https://cds.climate.copernicus.eu/api/v2/resources/reanalysis-era5-pressure-levels\n",
      "2023-05-19 21:26:00,217 INFO Request is queued\n"
     ]
    },
    {
     "name": "stdout",
     "output_type": "stream",
     "text": [
      "853\n"
     ]
    },
    {
     "name": "stderr",
     "output_type": "stream",
     "text": [
      "2023-05-19 21:26:01,701 INFO Request is running\n",
      "2023-05-19 21:26:09,029 INFO Request is completed\n",
      "2023-05-19 21:26:09,354 INFO Welcome to the CDS\n",
      "2023-05-19 21:26:09,356 INFO Sending request to https://cds.climate.copernicus.eu/api/v2/resources/reanalysis-era5-pressure-levels\n",
      "2023-05-19 21:26:09,466 INFO Request is queued\n"
     ]
    },
    {
     "name": "stdout",
     "output_type": "stream",
     "text": [
      "854\n"
     ]
    },
    {
     "name": "stderr",
     "output_type": "stream",
     "text": [
      "2023-05-19 21:26:10,526 INFO Request is running\n",
      "2023-05-19 21:26:17,870 INFO Request is completed\n",
      "2023-05-19 21:26:18,218 INFO Welcome to the CDS\n",
      "2023-05-19 21:26:18,219 INFO Sending request to https://cds.climate.copernicus.eu/api/v2/resources/reanalysis-era5-pressure-levels\n",
      "2023-05-19 21:26:18,339 INFO Request is queued\n"
     ]
    },
    {
     "name": "stdout",
     "output_type": "stream",
     "text": [
      "855\n"
     ]
    },
    {
     "name": "stderr",
     "output_type": "stream",
     "text": [
      "2023-05-19 21:26:19,403 INFO Request is running\n",
      "2023-05-19 21:26:26,741 INFO Request is completed\n",
      "2023-05-19 21:26:27,080 INFO Welcome to the CDS\n",
      "2023-05-19 21:26:27,081 INFO Sending request to https://cds.climate.copernicus.eu/api/v2/resources/reanalysis-era5-pressure-levels\n",
      "2023-05-19 21:26:27,158 INFO Request is queued\n"
     ]
    },
    {
     "name": "stdout",
     "output_type": "stream",
     "text": [
      "856\n"
     ]
    },
    {
     "name": "stderr",
     "output_type": "stream",
     "text": [
      "2023-05-19 21:26:28,241 INFO Request is running\n",
      "2023-05-19 21:26:35,570 INFO Request is completed\n",
      "2023-05-19 21:26:36,056 INFO Welcome to the CDS\n",
      "2023-05-19 21:26:36,058 INFO Sending request to https://cds.climate.copernicus.eu/api/v2/resources/reanalysis-era5-pressure-levels\n",
      "2023-05-19 21:26:36,134 INFO Request is queued\n"
     ]
    },
    {
     "name": "stdout",
     "output_type": "stream",
     "text": [
      "857\n"
     ]
    },
    {
     "name": "stderr",
     "output_type": "stream",
     "text": [
      "2023-05-19 21:26:37,200 INFO Request is running\n",
      "2023-05-19 21:26:44,549 INFO Request is completed\n",
      "2023-05-19 21:26:44,932 INFO Welcome to the CDS\n",
      "2023-05-19 21:26:44,932 INFO Sending request to https://cds.climate.copernicus.eu/api/v2/resources/reanalysis-era5-pressure-levels\n",
      "2023-05-19 21:26:44,992 INFO Request is queued\n"
     ]
    },
    {
     "name": "stdout",
     "output_type": "stream",
     "text": [
      "858\n"
     ]
    },
    {
     "name": "stderr",
     "output_type": "stream",
     "text": [
      "2023-05-19 21:26:46,106 INFO Request is running\n",
      "2023-05-19 21:26:53,438 INFO Request is completed\n",
      "2023-05-19 21:26:53,804 INFO Welcome to the CDS\n",
      "2023-05-19 21:26:53,805 INFO Sending request to https://cds.climate.copernicus.eu/api/v2/resources/reanalysis-era5-pressure-levels\n",
      "2023-05-19 21:26:53,867 INFO Request is queued\n"
     ]
    },
    {
     "name": "stdout",
     "output_type": "stream",
     "text": [
      "859\n"
     ]
    },
    {
     "name": "stderr",
     "output_type": "stream",
     "text": [
      "2023-05-19 21:26:54,934 INFO Request is running\n",
      "2023-05-19 21:27:02,271 INFO Request is completed\n",
      "2023-05-19 21:27:02,620 INFO Welcome to the CDS\n",
      "2023-05-19 21:27:02,621 INFO Sending request to https://cds.climate.copernicus.eu/api/v2/resources/reanalysis-era5-pressure-levels\n",
      "2023-05-19 21:27:02,720 INFO Request is queued\n"
     ]
    },
    {
     "name": "stdout",
     "output_type": "stream",
     "text": [
      "860\n"
     ]
    },
    {
     "name": "stderr",
     "output_type": "stream",
     "text": [
      "2023-05-19 21:27:03,794 INFO Request is running\n",
      "2023-05-19 21:27:11,112 INFO Request is completed\n",
      "2023-05-19 21:27:11,512 INFO Welcome to the CDS\n",
      "2023-05-19 21:27:11,513 INFO Sending request to https://cds.climate.copernicus.eu/api/v2/resources/reanalysis-era5-pressure-levels\n",
      "2023-05-19 21:27:11,579 INFO Request is queued\n"
     ]
    },
    {
     "name": "stdout",
     "output_type": "stream",
     "text": [
      "861\n"
     ]
    },
    {
     "name": "stderr",
     "output_type": "stream",
     "text": [
      "2023-05-19 21:27:12,655 INFO Request is running\n",
      "2023-05-19 21:27:19,972 INFO Request is completed\n",
      "2023-05-19 21:27:20,459 INFO Welcome to the CDS\n",
      "2023-05-19 21:27:20,460 INFO Sending request to https://cds.climate.copernicus.eu/api/v2/resources/reanalysis-era5-pressure-levels\n",
      "2023-05-19 21:27:20,519 INFO Request is queued\n"
     ]
    },
    {
     "name": "stdout",
     "output_type": "stream",
     "text": [
      "862\n"
     ]
    },
    {
     "name": "stderr",
     "output_type": "stream",
     "text": [
      "2023-05-19 21:27:21,617 INFO Request is running\n",
      "2023-05-19 21:27:28,955 INFO Request is completed\n",
      "2023-05-19 21:27:29,295 INFO Welcome to the CDS\n",
      "2023-05-19 21:27:29,296 INFO Sending request to https://cds.climate.copernicus.eu/api/v2/resources/reanalysis-era5-pressure-levels\n"
     ]
    },
    {
     "name": "stdout",
     "output_type": "stream",
     "text": [
      "863\n"
     ]
    },
    {
     "name": "stderr",
     "output_type": "stream",
     "text": [
      "2023-05-19 21:27:29,448 INFO Request is queued\n",
      "2023-05-19 21:27:30,516 INFO Request is running\n",
      "2023-05-19 21:27:37,851 INFO Request is completed\n",
      "2023-05-19 21:27:38,206 INFO Welcome to the CDS\n",
      "2023-05-19 21:27:38,208 INFO Sending request to https://cds.climate.copernicus.eu/api/v2/resources/reanalysis-era5-pressure-levels\n",
      "2023-05-19 21:27:38,313 INFO Request is queued\n"
     ]
    },
    {
     "name": "stdout",
     "output_type": "stream",
     "text": [
      "864\n"
     ]
    },
    {
     "name": "stderr",
     "output_type": "stream",
     "text": [
      "2023-05-19 21:27:39,377 INFO Request is running\n",
      "2023-05-19 21:27:46,749 INFO Request is completed\n",
      "2023-05-19 21:27:47,106 INFO Welcome to the CDS\n",
      "2023-05-19 21:27:47,108 INFO Sending request to https://cds.climate.copernicus.eu/api/v2/resources/reanalysis-era5-pressure-levels\n",
      "2023-05-19 21:27:47,184 INFO Request is queued\n"
     ]
    },
    {
     "name": "stdout",
     "output_type": "stream",
     "text": [
      "865\n"
     ]
    },
    {
     "name": "stderr",
     "output_type": "stream",
     "text": [
      "2023-05-19 21:27:48,266 INFO Request is running\n",
      "2023-05-19 21:27:55,606 INFO Request is completed\n",
      "2023-05-19 21:27:55,966 INFO Welcome to the CDS\n",
      "2023-05-19 21:27:55,967 INFO Sending request to https://cds.climate.copernicus.eu/api/v2/resources/reanalysis-era5-pressure-levels\n",
      "2023-05-19 21:27:56,063 INFO Request is queued\n"
     ]
    },
    {
     "name": "stdout",
     "output_type": "stream",
     "text": [
      "866\n"
     ]
    },
    {
     "name": "stderr",
     "output_type": "stream",
     "text": [
      "2023-05-19 21:27:57,126 INFO Request is running\n",
      "2023-05-19 21:28:04,636 INFO Request is completed\n",
      "2023-05-19 21:28:04,982 INFO Welcome to the CDS\n",
      "2023-05-19 21:28:04,983 INFO Sending request to https://cds.climate.copernicus.eu/api/v2/resources/reanalysis-era5-pressure-levels\n",
      "2023-05-19 21:28:05,044 INFO Request is queued\n"
     ]
    },
    {
     "name": "stdout",
     "output_type": "stream",
     "text": [
      "867\n"
     ]
    },
    {
     "name": "stderr",
     "output_type": "stream",
     "text": [
      "2023-05-19 21:28:06,121 INFO Request is running\n",
      "2023-05-19 21:28:13,451 INFO Request is completed\n",
      "2023-05-19 21:28:13,934 INFO Welcome to the CDS\n",
      "2023-05-19 21:28:13,936 INFO Sending request to https://cds.climate.copernicus.eu/api/v2/resources/reanalysis-era5-pressure-levels\n",
      "2023-05-19 21:28:14,028 INFO Request is queued\n"
     ]
    },
    {
     "name": "stdout",
     "output_type": "stream",
     "text": [
      "868\n"
     ]
    },
    {
     "name": "stderr",
     "output_type": "stream",
     "text": [
      "2023-05-19 21:28:15,108 INFO Request is running\n",
      "2023-05-19 21:28:22,444 INFO Request is completed\n",
      "2023-05-19 21:28:22,941 INFO Welcome to the CDS\n",
      "2023-05-19 21:28:22,943 INFO Sending request to https://cds.climate.copernicus.eu/api/v2/resources/reanalysis-era5-pressure-levels\n",
      "2023-05-19 21:28:23,052 INFO Request is queued\n"
     ]
    },
    {
     "name": "stdout",
     "output_type": "stream",
     "text": [
      "869\n"
     ]
    },
    {
     "name": "stderr",
     "output_type": "stream",
     "text": [
      "2023-05-19 21:28:24,134 INFO Request is running\n",
      "2023-05-19 21:28:31,483 INFO Request is completed\n",
      "2023-05-19 21:28:31,841 INFO Welcome to the CDS\n",
      "2023-05-19 21:28:31,842 INFO Sending request to https://cds.climate.copernicus.eu/api/v2/resources/reanalysis-era5-pressure-levels\n",
      "2023-05-19 21:28:31,929 INFO Request is queued\n"
     ]
    },
    {
     "name": "stdout",
     "output_type": "stream",
     "text": [
      "870\n"
     ]
    },
    {
     "name": "stderr",
     "output_type": "stream",
     "text": [
      "2023-05-19 21:28:33,000 INFO Request is running\n",
      "2023-05-19 21:28:40,341 INFO Request is completed\n",
      "2023-05-19 21:28:41,268 INFO Welcome to the CDS\n",
      "2023-05-19 21:28:41,270 INFO Sending request to https://cds.climate.copernicus.eu/api/v2/resources/reanalysis-era5-pressure-levels\n",
      "2023-05-19 21:28:41,350 INFO Request is queued\n"
     ]
    },
    {
     "name": "stdout",
     "output_type": "stream",
     "text": [
      "871\n"
     ]
    },
    {
     "name": "stderr",
     "output_type": "stream",
     "text": [
      "2023-05-19 21:28:42,424 INFO Request is running\n",
      "2023-05-19 21:28:49,767 INFO Request is completed\n",
      "2023-05-19 21:28:50,116 INFO Welcome to the CDS\n",
      "2023-05-19 21:28:50,117 INFO Sending request to https://cds.climate.copernicus.eu/api/v2/resources/reanalysis-era5-pressure-levels\n",
      "2023-05-19 21:28:50,207 INFO Request is queued\n"
     ]
    },
    {
     "name": "stdout",
     "output_type": "stream",
     "text": [
      "872\n"
     ]
    },
    {
     "name": "stderr",
     "output_type": "stream",
     "text": [
      "2023-05-19 21:28:51,289 INFO Request is running\n",
      "2023-05-19 21:28:58,626 INFO Request is completed\n",
      "2023-05-19 21:28:58,984 INFO Welcome to the CDS\n",
      "2023-05-19 21:28:58,985 INFO Sending request to https://cds.climate.copernicus.eu/api/v2/resources/reanalysis-era5-pressure-levels\n",
      "2023-05-19 21:28:59,084 INFO Request is queued\n"
     ]
    },
    {
     "name": "stdout",
     "output_type": "stream",
     "text": [
      "873\n"
     ]
    },
    {
     "name": "stderr",
     "output_type": "stream",
     "text": [
      "2023-05-19 21:29:00,155 INFO Request is running\n",
      "2023-05-19 21:29:07,492 INFO Request is completed\n",
      "2023-05-19 21:29:07,949 INFO Welcome to the CDS\n",
      "2023-05-19 21:29:07,950 INFO Sending request to https://cds.climate.copernicus.eu/api/v2/resources/reanalysis-era5-pressure-levels\n",
      "2023-05-19 21:29:08,036 INFO Request is queued\n"
     ]
    },
    {
     "name": "stdout",
     "output_type": "stream",
     "text": [
      "874\n"
     ]
    },
    {
     "name": "stderr",
     "output_type": "stream",
     "text": [
      "2023-05-19 21:29:09,107 INFO Request is running\n",
      "2023-05-19 21:29:16,446 INFO Request is completed\n",
      "2023-05-19 21:29:17,010 INFO Welcome to the CDS\n",
      "2023-05-19 21:29:17,013 INFO Sending request to https://cds.climate.copernicus.eu/api/v2/resources/reanalysis-era5-pressure-levels\n",
      "2023-05-19 21:29:17,117 INFO Request is queued\n"
     ]
    },
    {
     "name": "stdout",
     "output_type": "stream",
     "text": [
      "875\n"
     ]
    },
    {
     "name": "stderr",
     "output_type": "stream",
     "text": [
      "2023-05-19 21:29:18,191 INFO Request is running\n",
      "2023-05-19 21:29:25,533 INFO Request is completed\n",
      "2023-05-19 21:29:25,877 INFO Welcome to the CDS\n",
      "2023-05-19 21:29:25,879 INFO Sending request to https://cds.climate.copernicus.eu/api/v2/resources/reanalysis-era5-pressure-levels\n",
      "2023-05-19 21:29:25,941 INFO Request is queued\n"
     ]
    },
    {
     "name": "stdout",
     "output_type": "stream",
     "text": [
      "876\n"
     ]
    },
    {
     "name": "stderr",
     "output_type": "stream",
     "text": [
      "2023-05-19 21:29:27,016 INFO Request is running\n",
      "2023-05-19 21:29:34,360 INFO Request is completed\n",
      "2023-05-19 21:29:34,713 INFO Welcome to the CDS\n",
      "2023-05-19 21:29:34,713 INFO Sending request to https://cds.climate.copernicus.eu/api/v2/resources/reanalysis-era5-pressure-levels\n",
      "2023-05-19 21:29:34,789 INFO Request is queued\n"
     ]
    },
    {
     "name": "stdout",
     "output_type": "stream",
     "text": [
      "877\n"
     ]
    },
    {
     "name": "stderr",
     "output_type": "stream",
     "text": [
      "2023-05-19 21:29:35,856 INFO Request is running\n",
      "2023-05-19 21:29:43,191 INFO Request is completed\n",
      "2023-05-19 21:29:43,741 INFO Welcome to the CDS\n",
      "2023-05-19 21:29:43,747 INFO Sending request to https://cds.climate.copernicus.eu/api/v2/resources/reanalysis-era5-pressure-levels\n",
      "2023-05-19 21:29:43,835 INFO Request is queued\n"
     ]
    },
    {
     "name": "stdout",
     "output_type": "stream",
     "text": [
      "878\n"
     ]
    },
    {
     "name": "stderr",
     "output_type": "stream",
     "text": [
      "2023-05-19 21:29:44,910 INFO Request is running\n",
      "2023-05-19 21:29:48,806 INFO Request is completed\n",
      "2023-05-19 21:29:49,132 INFO Welcome to the CDS\n",
      "2023-05-19 21:29:49,135 INFO Sending request to https://cds.climate.copernicus.eu/api/v2/resources/reanalysis-era5-pressure-levels\n",
      "2023-05-19 21:29:49,238 INFO Request is queued\n"
     ]
    },
    {
     "name": "stdout",
     "output_type": "stream",
     "text": [
      "879\n"
     ]
    },
    {
     "name": "stderr",
     "output_type": "stream",
     "text": [
      "2023-05-19 21:29:50,312 INFO Request is running\n",
      "2023-05-19 21:29:57,646 INFO Request is completed\n",
      "2023-05-19 21:29:58,014 INFO Welcome to the CDS\n",
      "2023-05-19 21:29:58,015 INFO Sending request to https://cds.climate.copernicus.eu/api/v2/resources/reanalysis-era5-pressure-levels\n",
      "2023-05-19 21:29:58,091 INFO Request is queued\n"
     ]
    },
    {
     "name": "stdout",
     "output_type": "stream",
     "text": [
      "880\n"
     ]
    },
    {
     "name": "stderr",
     "output_type": "stream",
     "text": [
      "2023-05-19 21:29:59,165 INFO Request is running\n",
      "2023-05-19 21:30:06,506 INFO Request is completed\n",
      "2023-05-19 21:30:06,986 INFO Welcome to the CDS\n",
      "2023-05-19 21:30:06,987 INFO Sending request to https://cds.climate.copernicus.eu/api/v2/resources/reanalysis-era5-pressure-levels\n",
      "2023-05-19 21:30:07,081 INFO Request is queued\n"
     ]
    },
    {
     "name": "stdout",
     "output_type": "stream",
     "text": [
      "881\n"
     ]
    },
    {
     "name": "stderr",
     "output_type": "stream",
     "text": [
      "2023-05-19 21:30:08,153 INFO Request is running\n",
      "2023-05-19 21:30:15,477 INFO Request is completed\n",
      "2023-05-19 21:30:15,979 INFO Welcome to the CDS\n",
      "2023-05-19 21:30:15,981 INFO Sending request to https://cds.climate.copernicus.eu/api/v2/resources/reanalysis-era5-pressure-levels\n",
      "2023-05-19 21:30:16,044 INFO Request is queued\n"
     ]
    },
    {
     "name": "stdout",
     "output_type": "stream",
     "text": [
      "882\n"
     ]
    },
    {
     "name": "stderr",
     "output_type": "stream",
     "text": [
      "2023-05-19 21:30:17,114 INFO Request is running\n",
      "2023-05-19 21:30:24,457 INFO Request is completed\n",
      "2023-05-19 21:30:24,781 INFO Welcome to the CDS\n",
      "2023-05-19 21:30:24,783 INFO Sending request to https://cds.climate.copernicus.eu/api/v2/resources/reanalysis-era5-pressure-levels\n",
      "2023-05-19 21:30:24,847 INFO Request is queued\n"
     ]
    },
    {
     "name": "stdout",
     "output_type": "stream",
     "text": [
      "883\n"
     ]
    },
    {
     "name": "stderr",
     "output_type": "stream",
     "text": [
      "2023-05-19 21:30:25,915 INFO Request is running\n",
      "2023-05-19 21:30:33,246 INFO Request is completed\n",
      "2023-05-19 21:30:33,594 INFO Welcome to the CDS\n",
      "2023-05-19 21:30:33,595 INFO Sending request to https://cds.climate.copernicus.eu/api/v2/resources/reanalysis-era5-pressure-levels\n",
      "2023-05-19 21:30:33,672 INFO Request is queued\n"
     ]
    },
    {
     "name": "stdout",
     "output_type": "stream",
     "text": [
      "884\n"
     ]
    },
    {
     "name": "stderr",
     "output_type": "stream",
     "text": [
      "2023-05-19 21:30:34,736 INFO Request is running\n",
      "2023-05-19 21:30:47,192 INFO Request is completed\n",
      "2023-05-19 21:30:47,529 INFO Welcome to the CDS\n",
      "2023-05-19 21:30:47,532 INFO Sending request to https://cds.climate.copernicus.eu/api/v2/resources/reanalysis-era5-pressure-levels\n",
      "2023-05-19 21:30:47,640 INFO Request is queued\n"
     ]
    },
    {
     "name": "stdout",
     "output_type": "stream",
     "text": [
      "885\n"
     ]
    },
    {
     "name": "stderr",
     "output_type": "stream",
     "text": [
      "2023-05-19 21:30:48,726 INFO Request is running\n",
      "2023-05-19 21:30:56,063 INFO Request is completed\n",
      "2023-05-19 21:30:56,554 INFO Welcome to the CDS\n",
      "2023-05-19 21:30:56,555 INFO Sending request to https://cds.climate.copernicus.eu/api/v2/resources/reanalysis-era5-pressure-levels\n",
      "2023-05-19 21:30:56,613 INFO Request is queued\n"
     ]
    },
    {
     "name": "stdout",
     "output_type": "stream",
     "text": [
      "886\n"
     ]
    },
    {
     "name": "stderr",
     "output_type": "stream",
     "text": [
      "2023-05-19 21:30:57,687 INFO Request is running\n",
      "2023-05-19 21:31:05,001 INFO Request is completed\n",
      "2023-05-19 21:31:05,327 INFO Welcome to the CDS\n",
      "2023-05-19 21:31:05,334 INFO Sending request to https://cds.climate.copernicus.eu/api/v2/resources/reanalysis-era5-pressure-levels\n",
      "2023-05-19 21:31:05,421 INFO Request is queued\n"
     ]
    },
    {
     "name": "stdout",
     "output_type": "stream",
     "text": [
      "887\n"
     ]
    },
    {
     "name": "stderr",
     "output_type": "stream",
     "text": [
      "2023-05-19 21:31:06,492 INFO Request is running\n",
      "2023-05-19 21:31:13,830 INFO Request is completed\n",
      "2023-05-19 21:31:14,313 INFO Welcome to the CDS\n",
      "2023-05-19 21:31:14,315 INFO Sending request to https://cds.climate.copernicus.eu/api/v2/resources/reanalysis-era5-pressure-levels\n"
     ]
    },
    {
     "name": "stdout",
     "output_type": "stream",
     "text": [
      "888\n"
     ]
    },
    {
     "name": "stderr",
     "output_type": "stream",
     "text": [
      "2023-05-19 21:31:14,470 INFO Request is queued\n",
      "2023-05-19 21:31:15,538 INFO Request is running\n",
      "2023-05-19 21:31:22,877 INFO Request is completed\n",
      "2023-05-19 21:31:23,213 INFO Welcome to the CDS\n",
      "2023-05-19 21:31:23,215 INFO Sending request to https://cds.climate.copernicus.eu/api/v2/resources/reanalysis-era5-pressure-levels\n",
      "2023-05-19 21:31:23,314 INFO Request is queued\n"
     ]
    },
    {
     "name": "stdout",
     "output_type": "stream",
     "text": [
      "889\n"
     ]
    },
    {
     "name": "stderr",
     "output_type": "stream",
     "text": [
      "2023-05-19 21:31:24,388 INFO Request is running\n",
      "2023-05-19 21:31:31,718 INFO Request is completed\n",
      "2023-05-19 21:31:32,049 INFO Welcome to the CDS\n",
      "2023-05-19 21:31:32,050 INFO Sending request to https://cds.climate.copernicus.eu/api/v2/resources/reanalysis-era5-pressure-levels\n",
      "2023-05-19 21:31:32,122 INFO Request is queued\n"
     ]
    },
    {
     "name": "stdout",
     "output_type": "stream",
     "text": [
      "890\n"
     ]
    },
    {
     "name": "stderr",
     "output_type": "stream",
     "text": [
      "2023-05-19 21:31:33,188 INFO Request is running\n",
      "2023-05-19 21:31:40,532 INFO Request is completed\n",
      "2023-05-19 21:31:40,992 INFO Welcome to the CDS\n",
      "2023-05-19 21:31:40,992 INFO Sending request to https://cds.climate.copernicus.eu/api/v2/resources/reanalysis-era5-pressure-levels\n",
      "2023-05-19 21:31:41,084 INFO Request is queued\n"
     ]
    },
    {
     "name": "stdout",
     "output_type": "stream",
     "text": [
      "891\n"
     ]
    },
    {
     "name": "stderr",
     "output_type": "stream",
     "text": [
      "2023-05-19 21:31:42,150 INFO Request is running\n",
      "2023-05-19 21:31:49,478 INFO Request is completed\n",
      "2023-05-19 21:31:49,935 INFO Welcome to the CDS\n",
      "2023-05-19 21:31:49,941 INFO Sending request to https://cds.climate.copernicus.eu/api/v2/resources/reanalysis-era5-pressure-levels\n",
      "2023-05-19 21:31:50,017 INFO Request is queued\n"
     ]
    },
    {
     "name": "stdout",
     "output_type": "stream",
     "text": [
      "892\n"
     ]
    },
    {
     "name": "stderr",
     "output_type": "stream",
     "text": [
      "2023-05-19 21:31:51,092 INFO Request is running\n",
      "2023-05-19 21:31:58,424 INFO Request is completed\n",
      "2023-05-19 21:31:58,777 INFO Welcome to the CDS\n",
      "2023-05-19 21:31:58,779 INFO Sending request to https://cds.climate.copernicus.eu/api/v2/resources/reanalysis-era5-pressure-levels\n",
      "2023-05-19 21:31:58,849 INFO Request is queued\n"
     ]
    },
    {
     "name": "stdout",
     "output_type": "stream",
     "text": [
      "893\n"
     ]
    },
    {
     "name": "stderr",
     "output_type": "stream",
     "text": [
      "2023-05-19 21:31:59,924 INFO Request is running\n",
      "2023-05-19 21:32:07,285 INFO Request is completed\n",
      "2023-05-19 21:32:07,642 INFO Welcome to the CDS\n",
      "2023-05-19 21:32:07,647 INFO Sending request to https://cds.climate.copernicus.eu/api/v2/resources/reanalysis-era5-pressure-levels\n",
      "2023-05-19 21:32:07,707 INFO Request is queued\n"
     ]
    },
    {
     "name": "stdout",
     "output_type": "stream",
     "text": [
      "894\n"
     ]
    },
    {
     "name": "stderr",
     "output_type": "stream",
     "text": [
      "2023-05-19 21:32:08,776 INFO Request is running\n",
      "2023-05-19 21:32:16,101 INFO Request is completed\n"
     ]
    },
    {
     "name": "stdout",
     "output_type": "stream",
     "text": [
      "895\n"
     ]
    },
    {
     "name": "stderr",
     "output_type": "stream",
     "text": [
      "2023-05-19 21:32:16,615 INFO Welcome to the CDS\n",
      "2023-05-19 21:32:16,618 INFO Sending request to https://cds.climate.copernicus.eu/api/v2/resources/reanalysis-era5-pressure-levels\n",
      "2023-05-19 21:32:16,714 INFO Request is queued\n",
      "2023-05-19 21:32:17,785 INFO Request is running\n",
      "2023-05-19 21:32:25,110 INFO Request is completed\n",
      "2023-05-19 21:32:25,595 INFO Welcome to the CDS\n",
      "2023-05-19 21:32:25,596 INFO Sending request to https://cds.climate.copernicus.eu/api/v2/resources/reanalysis-era5-pressure-levels\n",
      "2023-05-19 21:32:25,680 INFO Request is queued\n"
     ]
    },
    {
     "name": "stdout",
     "output_type": "stream",
     "text": [
      "896\n"
     ]
    },
    {
     "name": "stderr",
     "output_type": "stream",
     "text": [
      "2023-05-19 21:32:26,760 INFO Request is running\n",
      "2023-05-19 21:32:34,129 INFO Request is completed\n",
      "2023-05-19 21:32:34,448 INFO Welcome to the CDS\n",
      "2023-05-19 21:32:34,450 INFO Sending request to https://cds.climate.copernicus.eu/api/v2/resources/reanalysis-era5-pressure-levels\n",
      "2023-05-19 21:32:34,512 INFO Request is queued\n"
     ]
    },
    {
     "name": "stdout",
     "output_type": "stream",
     "text": [
      "897\n"
     ]
    },
    {
     "name": "stderr",
     "output_type": "stream",
     "text": [
      "2023-05-19 21:32:35,596 INFO Request is running\n",
      "2023-05-19 21:32:42,928 INFO Request is completed\n",
      "2023-05-19 21:32:43,280 INFO Welcome to the CDS\n",
      "2023-05-19 21:32:43,281 INFO Sending request to https://cds.climate.copernicus.eu/api/v2/resources/reanalysis-era5-pressure-levels\n",
      "2023-05-19 21:32:43,420 INFO Request is queued\n"
     ]
    },
    {
     "name": "stdout",
     "output_type": "stream",
     "text": [
      "898\n"
     ]
    },
    {
     "name": "stderr",
     "output_type": "stream",
     "text": [
      "2023-05-19 21:32:44,497 INFO Request is running\n",
      "2023-05-19 21:32:51,826 INFO Request is completed\n",
      "2023-05-19 21:32:52,162 INFO Welcome to the CDS\n",
      "2023-05-19 21:32:52,163 INFO Sending request to https://cds.climate.copernicus.eu/api/v2/resources/reanalysis-era5-pressure-levels\n",
      "2023-05-19 21:32:52,242 INFO Request is queued\n"
     ]
    },
    {
     "name": "stdout",
     "output_type": "stream",
     "text": [
      "899\n"
     ]
    },
    {
     "name": "stderr",
     "output_type": "stream",
     "text": [
      "2023-05-19 21:32:53,315 INFO Request is running\n",
      "2023-05-19 21:33:00,687 INFO Request is completed\n",
      "2023-05-19 21:33:01,180 INFO Welcome to the CDS\n",
      "2023-05-19 21:33:01,187 INFO Sending request to https://cds.climate.copernicus.eu/api/v2/resources/reanalysis-era5-pressure-levels\n",
      "2023-05-19 21:33:01,298 INFO Request is queued\n"
     ]
    },
    {
     "name": "stdout",
     "output_type": "stream",
     "text": [
      "900\n"
     ]
    },
    {
     "name": "stderr",
     "output_type": "stream",
     "text": [
      "2023-05-19 21:33:02,369 INFO Request is running\n",
      "2023-05-19 21:33:09,713 INFO Request is completed\n",
      "2023-05-19 21:33:10,203 INFO Welcome to the CDS\n",
      "2023-05-19 21:33:10,204 INFO Sending request to https://cds.climate.copernicus.eu/api/v2/resources/reanalysis-era5-pressure-levels\n",
      "2023-05-19 21:33:10,273 INFO Request is queued\n"
     ]
    },
    {
     "name": "stdout",
     "output_type": "stream",
     "text": [
      "901\n"
     ]
    },
    {
     "name": "stderr",
     "output_type": "stream",
     "text": [
      "2023-05-19 21:33:11,344 INFO Request is running\n",
      "2023-05-19 21:33:18,694 INFO Request is completed\n",
      "2023-05-19 21:33:19,253 INFO Welcome to the CDS\n",
      "2023-05-19 21:33:19,255 INFO Sending request to https://cds.climate.copernicus.eu/api/v2/resources/reanalysis-era5-pressure-levels\n",
      "2023-05-19 21:33:19,338 INFO Request is queued\n"
     ]
    },
    {
     "name": "stdout",
     "output_type": "stream",
     "text": [
      "902\n"
     ]
    },
    {
     "name": "stderr",
     "output_type": "stream",
     "text": [
      "2023-05-19 21:33:20,413 INFO Request is running\n",
      "2023-05-19 21:33:27,768 INFO Request is completed\n",
      "2023-05-19 21:33:28,246 INFO Welcome to the CDS\n",
      "2023-05-19 21:33:28,247 INFO Sending request to https://cds.climate.copernicus.eu/api/v2/resources/reanalysis-era5-pressure-levels\n",
      "2023-05-19 21:33:28,312 INFO Request is queued\n"
     ]
    },
    {
     "name": "stdout",
     "output_type": "stream",
     "text": [
      "903\n"
     ]
    },
    {
     "name": "stderr",
     "output_type": "stream",
     "text": [
      "2023-05-19 21:33:29,392 INFO Request is running\n",
      "2023-05-19 21:33:36,709 INFO Request is completed\n",
      "2023-05-19 21:33:37,048 INFO Welcome to the CDS\n",
      "2023-05-19 21:33:37,050 INFO Sending request to https://cds.climate.copernicus.eu/api/v2/resources/reanalysis-era5-pressure-levels\n",
      "2023-05-19 21:33:37,134 INFO Request is queued\n"
     ]
    },
    {
     "name": "stdout",
     "output_type": "stream",
     "text": [
      "904\n"
     ]
    },
    {
     "name": "stderr",
     "output_type": "stream",
     "text": [
      "2023-05-19 21:33:38,206 INFO Request is running\n",
      "2023-05-19 21:33:45,542 INFO Request is completed\n",
      "2023-05-19 21:33:46,091 INFO Welcome to the CDS\n",
      "2023-05-19 21:33:46,092 INFO Sending request to https://cds.climate.copernicus.eu/api/v2/resources/reanalysis-era5-pressure-levels\n",
      "2023-05-19 21:33:46,166 INFO Request is queued\n"
     ]
    },
    {
     "name": "stdout",
     "output_type": "stream",
     "text": [
      "905\n"
     ]
    },
    {
     "name": "stderr",
     "output_type": "stream",
     "text": [
      "2023-05-19 21:33:47,242 INFO Request is running\n",
      "2023-05-19 21:33:54,576 INFO Request is completed\n",
      "2023-05-19 21:33:54,924 INFO Welcome to the CDS\n",
      "2023-05-19 21:33:54,925 INFO Sending request to https://cds.climate.copernicus.eu/api/v2/resources/reanalysis-era5-pressure-levels\n",
      "2023-05-19 21:33:55,008 INFO Request is queued\n"
     ]
    },
    {
     "name": "stdout",
     "output_type": "stream",
     "text": [
      "906\n"
     ]
    },
    {
     "name": "stderr",
     "output_type": "stream",
     "text": [
      "2023-05-19 21:33:56,082 INFO Request is running\n",
      "2023-05-19 21:33:59,982 INFO Request is completed\n",
      "2023-05-19 21:34:00,325 INFO Welcome to the CDS\n",
      "2023-05-19 21:34:00,326 INFO Sending request to https://cds.climate.copernicus.eu/api/v2/resources/reanalysis-era5-pressure-levels\n",
      "2023-05-19 21:34:00,400 INFO Request is queued\n"
     ]
    },
    {
     "name": "stdout",
     "output_type": "stream",
     "text": [
      "907\n"
     ]
    },
    {
     "name": "stderr",
     "output_type": "stream",
     "text": [
      "2023-05-19 21:34:01,478 INFO Request is running\n",
      "2023-05-19 21:34:08,813 INFO Request is completed\n",
      "2023-05-19 21:34:09,163 INFO Welcome to the CDS\n",
      "2023-05-19 21:34:09,165 INFO Sending request to https://cds.climate.copernicus.eu/api/v2/resources/reanalysis-era5-pressure-levels\n",
      "2023-05-19 21:34:09,254 INFO Request is queued\n"
     ]
    },
    {
     "name": "stdout",
     "output_type": "stream",
     "text": [
      "908\n"
     ]
    },
    {
     "name": "stderr",
     "output_type": "stream",
     "text": [
      "2023-05-19 21:34:10,328 INFO Request is running\n",
      "2023-05-19 21:34:17,798 INFO Request is completed\n",
      "2023-05-19 21:34:18,163 INFO Welcome to the CDS\n",
      "2023-05-19 21:34:18,171 INFO Sending request to https://cds.climate.copernicus.eu/api/v2/resources/reanalysis-era5-pressure-levels\n"
     ]
    },
    {
     "name": "stdout",
     "output_type": "stream",
     "text": [
      "909\n"
     ]
    },
    {
     "name": "stderr",
     "output_type": "stream",
     "text": [
      "2023-05-19 21:34:18,314 INFO Request is queued\n",
      "2023-05-19 21:34:19,386 INFO Request is running\n",
      "2023-05-19 21:34:26,865 INFO Request is completed\n",
      "2023-05-19 21:34:27,192 INFO Welcome to the CDS\n",
      "2023-05-19 21:34:27,195 INFO Sending request to https://cds.climate.copernicus.eu/api/v2/resources/reanalysis-era5-pressure-levels\n",
      "2023-05-19 21:34:27,253 INFO Request is queued\n"
     ]
    },
    {
     "name": "stdout",
     "output_type": "stream",
     "text": [
      "910\n"
     ]
    },
    {
     "name": "stderr",
     "output_type": "stream",
     "text": [
      "2023-05-19 21:34:28,319 INFO Request is running\n",
      "2023-05-19 21:34:35,657 INFO Request is completed\n",
      "2023-05-19 21:34:35,995 INFO Welcome to the CDS\n",
      "2023-05-19 21:34:35,996 INFO Sending request to https://cds.climate.copernicus.eu/api/v2/resources/reanalysis-era5-pressure-levels\n",
      "2023-05-19 21:34:36,055 INFO Request is queued\n"
     ]
    },
    {
     "name": "stdout",
     "output_type": "stream",
     "text": [
      "911\n"
     ]
    },
    {
     "name": "stderr",
     "output_type": "stream",
     "text": [
      "2023-05-19 21:34:37,128 INFO Request is running\n",
      "2023-05-19 21:34:44,453 INFO Request is completed\n",
      "2023-05-19 21:34:45,014 INFO Welcome to the CDS\n",
      "2023-05-19 21:34:45,018 INFO Sending request to https://cds.climate.copernicus.eu/api/v2/resources/reanalysis-era5-pressure-levels\n",
      "2023-05-19 21:34:45,095 INFO Request is queued\n"
     ]
    },
    {
     "name": "stdout",
     "output_type": "stream",
     "text": [
      "912\n"
     ]
    },
    {
     "name": "stderr",
     "output_type": "stream",
     "text": [
      "2023-05-19 21:34:46,165 INFO Request is running\n",
      "2023-05-19 21:34:53,504 INFO Request is completed\n",
      "2023-05-19 21:34:53,837 INFO Welcome to the CDS\n",
      "2023-05-19 21:34:53,837 INFO Sending request to https://cds.climate.copernicus.eu/api/v2/resources/reanalysis-era5-pressure-levels\n",
      "2023-05-19 21:34:53,913 INFO Request is queued\n"
     ]
    },
    {
     "name": "stdout",
     "output_type": "stream",
     "text": [
      "913\n"
     ]
    },
    {
     "name": "stderr",
     "output_type": "stream",
     "text": [
      "2023-05-19 21:34:54,986 INFO Request is running\n",
      "2023-05-19 21:35:02,313 INFO Request is completed\n",
      "2023-05-19 21:35:02,839 INFO Welcome to the CDS\n",
      "2023-05-19 21:35:02,843 INFO Sending request to https://cds.climate.copernicus.eu/api/v2/resources/reanalysis-era5-pressure-levels\n",
      "2023-05-19 21:35:02,912 INFO Request is queued\n"
     ]
    },
    {
     "name": "stdout",
     "output_type": "stream",
     "text": [
      "914\n"
     ]
    },
    {
     "name": "stderr",
     "output_type": "stream",
     "text": [
      "2023-05-19 21:35:03,987 INFO Request is running\n",
      "2023-05-19 21:35:11,297 INFO Request is completed\n",
      "2023-05-19 21:35:11,635 INFO Welcome to the CDS\n",
      "2023-05-19 21:35:11,636 INFO Sending request to https://cds.climate.copernicus.eu/api/v2/resources/reanalysis-era5-pressure-levels\n",
      "2023-05-19 21:35:11,740 INFO Request is queued\n"
     ]
    },
    {
     "name": "stdout",
     "output_type": "stream",
     "text": [
      "915\n"
     ]
    },
    {
     "name": "stderr",
     "output_type": "stream",
     "text": [
      "2023-05-19 21:35:12,803 INFO Request is running\n",
      "2023-05-19 21:35:20,120 INFO Request is completed\n",
      "2023-05-19 21:35:20,469 INFO Welcome to the CDS\n",
      "2023-05-19 21:35:20,471 INFO Sending request to https://cds.climate.copernicus.eu/api/v2/resources/reanalysis-era5-pressure-levels\n",
      "2023-05-19 21:35:20,594 INFO Request is queued\n"
     ]
    },
    {
     "name": "stdout",
     "output_type": "stream",
     "text": [
      "916\n"
     ]
    },
    {
     "name": "stderr",
     "output_type": "stream",
     "text": [
      "2023-05-19 21:35:21,664 INFO Request is running\n",
      "2023-05-19 21:35:29,033 INFO Request is completed\n",
      "2023-05-19 21:35:29,509 INFO Welcome to the CDS\n",
      "2023-05-19 21:35:29,515 INFO Sending request to https://cds.climate.copernicus.eu/api/v2/resources/reanalysis-era5-pressure-levels\n",
      "2023-05-19 21:35:29,641 INFO Request is queued\n"
     ]
    },
    {
     "name": "stdout",
     "output_type": "stream",
     "text": [
      "917\n"
     ]
    },
    {
     "name": "stderr",
     "output_type": "stream",
     "text": [
      "2023-05-19 21:35:30,708 INFO Request is running\n",
      "2023-05-19 21:35:38,033 INFO Request is completed\n",
      "2023-05-19 21:35:38,362 INFO Welcome to the CDS\n",
      "2023-05-19 21:35:38,364 INFO Sending request to https://cds.climate.copernicus.eu/api/v2/resources/reanalysis-era5-pressure-levels\n",
      "2023-05-19 21:35:38,431 INFO Request is queued\n"
     ]
    },
    {
     "name": "stdout",
     "output_type": "stream",
     "text": [
      "918\n"
     ]
    },
    {
     "name": "stderr",
     "output_type": "stream",
     "text": [
      "2023-05-19 21:35:39,499 INFO Request is running\n",
      "2023-05-19 21:35:46,830 INFO Request is completed\n",
      "2023-05-19 21:35:47,160 INFO Welcome to the CDS\n",
      "2023-05-19 21:35:47,164 INFO Sending request to https://cds.climate.copernicus.eu/api/v2/resources/reanalysis-era5-pressure-levels\n",
      "2023-05-19 21:35:47,257 INFO Request is queued\n"
     ]
    },
    {
     "name": "stdout",
     "output_type": "stream",
     "text": [
      "919\n"
     ]
    },
    {
     "name": "stderr",
     "output_type": "stream",
     "text": [
      "2023-05-19 21:35:48,325 INFO Request is running\n",
      "2023-05-19 21:35:55,648 INFO Request is completed\n",
      "2023-05-19 21:35:55,976 INFO Welcome to the CDS\n",
      "2023-05-19 21:35:55,979 INFO Sending request to https://cds.climate.copernicus.eu/api/v2/resources/reanalysis-era5-pressure-levels\n",
      "2023-05-19 21:35:56,060 INFO Request is queued\n"
     ]
    },
    {
     "name": "stdout",
     "output_type": "stream",
     "text": [
      "920\n"
     ]
    },
    {
     "name": "stderr",
     "output_type": "stream",
     "text": [
      "2023-05-19 21:35:57,132 INFO Request is running\n",
      "2023-05-19 21:36:04,448 INFO Request is completed\n",
      "2023-05-19 21:36:04,949 INFO Welcome to the CDS\n",
      "2023-05-19 21:36:04,950 INFO Sending request to https://cds.climate.copernicus.eu/api/v2/resources/reanalysis-era5-pressure-levels\n",
      "2023-05-19 21:36:05,047 INFO Request is queued\n"
     ]
    },
    {
     "name": "stdout",
     "output_type": "stream",
     "text": [
      "921\n"
     ]
    },
    {
     "name": "stderr",
     "output_type": "stream",
     "text": [
      "2023-05-19 21:36:06,116 INFO Request is running\n",
      "2023-05-19 21:36:13,456 INFO Request is completed\n",
      "2023-05-19 21:36:13,787 INFO Welcome to the CDS\n",
      "2023-05-19 21:36:13,789 INFO Sending request to https://cds.climate.copernicus.eu/api/v2/resources/reanalysis-era5-pressure-levels\n",
      "2023-05-19 21:36:13,872 INFO Request is queued\n"
     ]
    },
    {
     "name": "stdout",
     "output_type": "stream",
     "text": [
      "922\n"
     ]
    },
    {
     "name": "stderr",
     "output_type": "stream",
     "text": [
      "2023-05-19 21:36:14,941 INFO Request is running\n",
      "2023-05-19 21:36:22,270 INFO Request is completed\n",
      "2023-05-19 21:36:22,607 INFO Welcome to the CDS\n",
      "2023-05-19 21:36:22,611 INFO Sending request to https://cds.climate.copernicus.eu/api/v2/resources/reanalysis-era5-pressure-levels\n",
      "2023-05-19 21:36:22,717 INFO Request is queued\n"
     ]
    },
    {
     "name": "stdout",
     "output_type": "stream",
     "text": [
      "923\n"
     ]
    },
    {
     "name": "stderr",
     "output_type": "stream",
     "text": [
      "2023-05-19 21:36:23,778 INFO Request is running\n",
      "2023-05-19 21:36:31,247 INFO Request is completed\n",
      "2023-05-19 21:36:31,604 INFO Welcome to the CDS\n",
      "2023-05-19 21:36:31,606 INFO Sending request to https://cds.climate.copernicus.eu/api/v2/resources/reanalysis-era5-pressure-levels\n",
      "2023-05-19 21:36:31,687 INFO Request is queued\n"
     ]
    },
    {
     "name": "stdout",
     "output_type": "stream",
     "text": [
      "924\n"
     ]
    },
    {
     "name": "stderr",
     "output_type": "stream",
     "text": [
      "2023-05-19 21:36:32,761 INFO Request is running\n",
      "2023-05-19 21:36:40,088 INFO Request is completed\n",
      "2023-05-19 21:36:40,430 INFO Welcome to the CDS\n",
      "2023-05-19 21:36:40,431 INFO Sending request to https://cds.climate.copernicus.eu/api/v2/resources/reanalysis-era5-pressure-levels\n",
      "2023-05-19 21:36:40,507 INFO Request is queued\n"
     ]
    },
    {
     "name": "stdout",
     "output_type": "stream",
     "text": [
      "925\n"
     ]
    },
    {
     "name": "stderr",
     "output_type": "stream",
     "text": [
      "2023-05-19 21:36:41,574 INFO Request is running\n",
      "2023-05-19 21:36:48,897 INFO Request is completed\n",
      "2023-05-19 21:36:49,235 INFO Welcome to the CDS\n",
      "2023-05-19 21:36:49,243 INFO Sending request to https://cds.climate.copernicus.eu/api/v2/resources/reanalysis-era5-pressure-levels\n",
      "2023-05-19 21:36:49,315 INFO Request is queued\n"
     ]
    },
    {
     "name": "stdout",
     "output_type": "stream",
     "text": [
      "926\n"
     ]
    },
    {
     "name": "stderr",
     "output_type": "stream",
     "text": [
      "2023-05-19 21:36:50,390 INFO Request is running\n",
      "2023-05-19 21:36:57,724 INFO Request is completed\n",
      "2023-05-19 21:36:58,054 INFO Welcome to the CDS\n",
      "2023-05-19 21:36:58,058 INFO Sending request to https://cds.climate.copernicus.eu/api/v2/resources/reanalysis-era5-pressure-levels\n",
      "2023-05-19 21:36:58,120 INFO Request is queued\n"
     ]
    },
    {
     "name": "stdout",
     "output_type": "stream",
     "text": [
      "927\n"
     ]
    },
    {
     "name": "stderr",
     "output_type": "stream",
     "text": [
      "2023-05-19 21:36:59,187 INFO Request is running\n",
      "2023-05-19 21:37:06,527 INFO Request is completed\n",
      "2023-05-19 21:37:07,071 INFO Welcome to the CDS\n",
      "2023-05-19 21:37:07,073 INFO Sending request to https://cds.climate.copernicus.eu/api/v2/resources/reanalysis-era5-pressure-levels\n",
      "2023-05-19 21:37:07,148 INFO Request is queued\n"
     ]
    },
    {
     "name": "stdout",
     "output_type": "stream",
     "text": [
      "928\n"
     ]
    },
    {
     "name": "stderr",
     "output_type": "stream",
     "text": [
      "2023-05-19 21:37:08,220 INFO Request is running\n",
      "2023-05-19 21:37:15,545 INFO Request is completed\n",
      "2023-05-19 21:37:15,887 INFO Welcome to the CDS\n",
      "2023-05-19 21:37:15,888 INFO Sending request to https://cds.climate.copernicus.eu/api/v2/resources/reanalysis-era5-pressure-levels\n",
      "2023-05-19 21:37:15,995 INFO Request is queued\n"
     ]
    },
    {
     "name": "stdout",
     "output_type": "stream",
     "text": [
      "929\n"
     ]
    },
    {
     "name": "stderr",
     "output_type": "stream",
     "text": [
      "2023-05-19 21:37:17,064 INFO Request is running\n",
      "2023-05-19 21:37:24,394 INFO Request is completed\n",
      "2023-05-19 21:37:24,728 INFO Welcome to the CDS\n",
      "2023-05-19 21:37:24,729 INFO Sending request to https://cds.climate.copernicus.eu/api/v2/resources/reanalysis-era5-pressure-levels\n",
      "2023-05-19 21:37:24,846 INFO Request is queued\n"
     ]
    },
    {
     "name": "stdout",
     "output_type": "stream",
     "text": [
      "930\n"
     ]
    },
    {
     "name": "stderr",
     "output_type": "stream",
     "text": [
      "2023-05-19 21:37:25,919 INFO Request is running\n",
      "2023-05-19 21:37:33,243 INFO Request is completed\n",
      "2023-05-19 21:37:33,578 INFO Welcome to the CDS\n",
      "2023-05-19 21:37:33,579 INFO Sending request to https://cds.climate.copernicus.eu/api/v2/resources/reanalysis-era5-pressure-levels\n",
      "2023-05-19 21:37:33,636 INFO Request is queued\n"
     ]
    },
    {
     "name": "stdout",
     "output_type": "stream",
     "text": [
      "931\n"
     ]
    },
    {
     "name": "stderr",
     "output_type": "stream",
     "text": [
      "2023-05-19 21:37:34,707 INFO Request is running\n",
      "2023-05-19 21:37:42,049 INFO Request is completed\n",
      "2023-05-19 21:37:42,443 INFO Welcome to the CDS\n",
      "2023-05-19 21:37:42,446 INFO Sending request to https://cds.climate.copernicus.eu/api/v2/resources/reanalysis-era5-pressure-levels\n",
      "2023-05-19 21:37:42,515 INFO Request is queued\n"
     ]
    },
    {
     "name": "stdout",
     "output_type": "stream",
     "text": [
      "932\n"
     ]
    },
    {
     "name": "stderr",
     "output_type": "stream",
     "text": [
      "2023-05-19 21:37:43,584 INFO Request is running\n",
      "2023-05-19 21:37:50,916 INFO Request is completed\n",
      "2023-05-19 21:37:51,263 INFO Welcome to the CDS\n",
      "2023-05-19 21:37:51,265 INFO Sending request to https://cds.climate.copernicus.eu/api/v2/resources/reanalysis-era5-pressure-levels\n",
      "2023-05-19 21:37:51,325 INFO Request is queued\n"
     ]
    },
    {
     "name": "stdout",
     "output_type": "stream",
     "text": [
      "933\n"
     ]
    },
    {
     "name": "stderr",
     "output_type": "stream",
     "text": [
      "2023-05-19 21:37:52,390 INFO Request is running\n",
      "2023-05-19 21:37:59,749 INFO Request is completed\n",
      "2023-05-19 21:38:00,250 INFO Welcome to the CDS\n",
      "2023-05-19 21:38:00,256 INFO Sending request to https://cds.climate.copernicus.eu/api/v2/resources/reanalysis-era5-pressure-levels\n",
      "2023-05-19 21:38:00,325 INFO Request is queued\n"
     ]
    },
    {
     "name": "stdout",
     "output_type": "stream",
     "text": [
      "934\n"
     ]
    },
    {
     "name": "stderr",
     "output_type": "stream",
     "text": [
      "2023-05-19 21:38:01,397 INFO Request is running\n",
      "2023-05-19 21:38:08,779 INFO Request is completed\n",
      "2023-05-19 21:38:09,097 INFO Welcome to the CDS\n",
      "2023-05-19 21:38:09,097 INFO Sending request to https://cds.climate.copernicus.eu/api/v2/resources/reanalysis-era5-pressure-levels\n",
      "2023-05-19 21:38:09,187 INFO Request is queued\n"
     ]
    },
    {
     "name": "stdout",
     "output_type": "stream",
     "text": [
      "935\n"
     ]
    },
    {
     "name": "stderr",
     "output_type": "stream",
     "text": [
      "2023-05-19 21:38:10,254 INFO Request is running\n",
      "2023-05-19 21:38:17,573 INFO Request is completed\n",
      "2023-05-19 21:38:18,046 INFO Welcome to the CDS\n",
      "2023-05-19 21:38:18,051 INFO Sending request to https://cds.climate.copernicus.eu/api/v2/resources/reanalysis-era5-pressure-levels\n",
      "2023-05-19 21:38:18,108 INFO Request is queued\n"
     ]
    },
    {
     "name": "stdout",
     "output_type": "stream",
     "text": [
      "936\n"
     ]
    },
    {
     "name": "stderr",
     "output_type": "stream",
     "text": [
      "2023-05-19 21:38:19,178 INFO Request is running\n",
      "2023-05-19 21:38:26,508 INFO Request is completed\n",
      "2023-05-19 21:38:27,049 INFO Welcome to the CDS\n",
      "2023-05-19 21:38:27,050 INFO Sending request to https://cds.climate.copernicus.eu/api/v2/resources/reanalysis-era5-pressure-levels\n",
      "2023-05-19 21:38:27,155 INFO Request is queued\n"
     ]
    },
    {
     "name": "stdout",
     "output_type": "stream",
     "text": [
      "937\n"
     ]
    },
    {
     "name": "stderr",
     "output_type": "stream",
     "text": [
      "2023-05-19 21:38:28,231 INFO Request is running\n",
      "2023-05-19 21:38:35,553 INFO Request is completed\n"
     ]
    },
    {
     "name": "stdout",
     "output_type": "stream",
     "text": [
      "938\n"
     ]
    },
    {
     "name": "stderr",
     "output_type": "stream",
     "text": [
      "2023-05-19 21:38:36,077 INFO Welcome to the CDS\n",
      "2023-05-19 21:38:36,079 INFO Sending request to https://cds.climate.copernicus.eu/api/v2/resources/reanalysis-era5-pressure-levels\n",
      "2023-05-19 21:38:36,154 INFO Request is queued\n",
      "2023-05-19 21:38:37,229 INFO Request is running\n",
      "2023-05-19 21:38:44,548 INFO Request is completed\n",
      "2023-05-19 21:38:45,050 INFO Welcome to the CDS\n",
      "2023-05-19 21:38:45,051 INFO Sending request to https://cds.climate.copernicus.eu/api/v2/resources/reanalysis-era5-pressure-levels\n",
      "2023-05-19 21:38:45,106 INFO Request is queued\n"
     ]
    },
    {
     "name": "stdout",
     "output_type": "stream",
     "text": [
      "939\n"
     ]
    },
    {
     "name": "stderr",
     "output_type": "stream",
     "text": [
      "2023-05-19 21:38:46,183 INFO Request is running\n",
      "2023-05-19 21:38:53,518 INFO Request is completed\n",
      "2023-05-19 21:38:53,994 INFO Welcome to the CDS\n",
      "2023-05-19 21:38:53,995 INFO Sending request to https://cds.climate.copernicus.eu/api/v2/resources/reanalysis-era5-pressure-levels\n",
      "2023-05-19 21:38:54,054 INFO Request is queued\n"
     ]
    },
    {
     "name": "stdout",
     "output_type": "stream",
     "text": [
      "940\n"
     ]
    },
    {
     "name": "stderr",
     "output_type": "stream",
     "text": [
      "2023-05-19 21:38:55,122 INFO Request is running\n",
      "2023-05-19 21:39:02,452 INFO Request is completed\n",
      "2023-05-19 21:39:02,795 INFO Welcome to the CDS\n",
      "2023-05-19 21:39:02,795 INFO Sending request to https://cds.climate.copernicus.eu/api/v2/resources/reanalysis-era5-pressure-levels\n",
      "2023-05-19 21:39:02,868 INFO Request is queued\n"
     ]
    },
    {
     "name": "stdout",
     "output_type": "stream",
     "text": [
      "941\n"
     ]
    },
    {
     "name": "stderr",
     "output_type": "stream",
     "text": [
      "2023-05-19 21:39:03,945 INFO Request is running\n",
      "2023-05-19 21:39:11,280 INFO Request is completed\n",
      "2023-05-19 21:39:11,604 INFO Welcome to the CDS\n",
      "2023-05-19 21:39:11,605 INFO Sending request to https://cds.climate.copernicus.eu/api/v2/resources/reanalysis-era5-pressure-levels\n",
      "2023-05-19 21:39:11,696 INFO Request is queued\n"
     ]
    },
    {
     "name": "stdout",
     "output_type": "stream",
     "text": [
      "942\n"
     ]
    },
    {
     "name": "stderr",
     "output_type": "stream",
     "text": [
      "2023-05-19 21:39:12,761 INFO Request is running\n",
      "2023-05-19 21:39:20,086 INFO Request is completed\n",
      "2023-05-19 21:39:20,421 INFO Welcome to the CDS\n",
      "2023-05-19 21:39:20,422 INFO Sending request to https://cds.climate.copernicus.eu/api/v2/resources/reanalysis-era5-pressure-levels\n",
      "2023-05-19 21:39:20,529 INFO Request is queued\n"
     ]
    },
    {
     "name": "stdout",
     "output_type": "stream",
     "text": [
      "943\n"
     ]
    },
    {
     "name": "stderr",
     "output_type": "stream",
     "text": [
      "2023-05-19 21:39:21,601 INFO Request is running\n",
      "2023-05-19 21:39:28,920 INFO Request is completed\n",
      "2023-05-19 21:39:29,462 INFO Welcome to the CDS\n",
      "2023-05-19 21:39:29,467 INFO Sending request to https://cds.climate.copernicus.eu/api/v2/resources/reanalysis-era5-pressure-levels\n",
      "2023-05-19 21:39:29,529 INFO Request is queued\n"
     ]
    },
    {
     "name": "stdout",
     "output_type": "stream",
     "text": [
      "944\n"
     ]
    },
    {
     "name": "stderr",
     "output_type": "stream",
     "text": [
      "2023-05-19 21:39:30,597 INFO Request is running\n",
      "2023-05-19 21:39:37,933 INFO Request is completed\n",
      "2023-05-19 21:39:38,465 INFO Welcome to the CDS\n",
      "2023-05-19 21:39:38,466 INFO Sending request to https://cds.climate.copernicus.eu/api/v2/resources/reanalysis-era5-pressure-levels\n",
      "2023-05-19 21:39:38,534 INFO Request is queued\n"
     ]
    },
    {
     "name": "stdout",
     "output_type": "stream",
     "text": [
      "945\n"
     ]
    },
    {
     "name": "stderr",
     "output_type": "stream",
     "text": [
      "2023-05-19 21:39:39,620 INFO Request is running\n",
      "2023-05-19 21:39:46,953 INFO Request is completed\n",
      "2023-05-19 21:39:47,414 INFO Welcome to the CDS\n",
      "2023-05-19 21:39:47,415 INFO Sending request to https://cds.climate.copernicus.eu/api/v2/resources/reanalysis-era5-pressure-levels\n",
      "2023-05-19 21:39:47,484 INFO Request is queued\n"
     ]
    },
    {
     "name": "stdout",
     "output_type": "stream",
     "text": [
      "946\n"
     ]
    },
    {
     "name": "stderr",
     "output_type": "stream",
     "text": [
      "2023-05-19 21:39:48,552 INFO Request is running\n",
      "2023-05-19 21:40:01,035 INFO Request is completed\n",
      "2023-05-19 21:40:01,353 INFO Welcome to the CDS\n",
      "2023-05-19 21:40:01,354 INFO Sending request to https://cds.climate.copernicus.eu/api/v2/resources/reanalysis-era5-pressure-levels\n",
      "2023-05-19 21:40:01,435 INFO Request is queued\n"
     ]
    },
    {
     "name": "stdout",
     "output_type": "stream",
     "text": [
      "947\n"
     ]
    },
    {
     "name": "stderr",
     "output_type": "stream",
     "text": [
      "2023-05-19 21:40:02,501 INFO Request is running\n",
      "2023-05-19 21:40:09,828 INFO Request is completed\n",
      "2023-05-19 21:40:10,272 INFO Welcome to the CDS\n",
      "2023-05-19 21:40:10,273 INFO Sending request to https://cds.climate.copernicus.eu/api/v2/resources/reanalysis-era5-pressure-levels\n",
      "2023-05-19 21:40:10,367 INFO Request is queued\n"
     ]
    },
    {
     "name": "stdout",
     "output_type": "stream",
     "text": [
      "948\n"
     ]
    },
    {
     "name": "stderr",
     "output_type": "stream",
     "text": [
      "2023-05-19 21:40:11,429 INFO Request is running\n",
      "2023-05-19 21:40:18,754 INFO Request is completed\n",
      "2023-05-19 21:40:19,238 INFO Welcome to the CDS\n",
      "2023-05-19 21:40:19,238 INFO Sending request to https://cds.climate.copernicus.eu/api/v2/resources/reanalysis-era5-pressure-levels\n",
      "2023-05-19 21:40:19,302 INFO Request is queued\n"
     ]
    },
    {
     "name": "stdout",
     "output_type": "stream",
     "text": [
      "949\n"
     ]
    },
    {
     "name": "stderr",
     "output_type": "stream",
     "text": [
      "2023-05-19 21:40:20,370 INFO Request is running\n",
      "2023-05-19 21:40:27,698 INFO Request is completed\n",
      "2023-05-19 21:40:28,026 INFO Welcome to the CDS\n",
      "2023-05-19 21:40:28,027 INFO Sending request to https://cds.climate.copernicus.eu/api/v2/resources/reanalysis-era5-pressure-levels\n",
      "2023-05-19 21:40:28,097 INFO Request is queued\n"
     ]
    },
    {
     "name": "stdout",
     "output_type": "stream",
     "text": [
      "950\n"
     ]
    },
    {
     "name": "stderr",
     "output_type": "stream",
     "text": [
      "2023-05-19 21:40:29,163 INFO Request is running\n",
      "2023-05-19 21:40:36,486 INFO Request is completed\n",
      "2023-05-19 21:40:36,829 INFO Welcome to the CDS\n",
      "2023-05-19 21:40:36,830 INFO Sending request to https://cds.climate.copernicus.eu/api/v2/resources/reanalysis-era5-pressure-levels\n",
      "2023-05-19 21:40:36,902 INFO Request is queued\n"
     ]
    },
    {
     "name": "stdout",
     "output_type": "stream",
     "text": [
      "951\n"
     ]
    },
    {
     "name": "stderr",
     "output_type": "stream",
     "text": [
      "2023-05-19 21:40:37,969 INFO Request is running\n",
      "2023-05-19 21:40:45,295 INFO Request is completed\n",
      "2023-05-19 21:40:45,621 INFO Welcome to the CDS\n",
      "2023-05-19 21:40:45,622 INFO Sending request to https://cds.climate.copernicus.eu/api/v2/resources/reanalysis-era5-pressure-levels\n"
     ]
    },
    {
     "name": "stdout",
     "output_type": "stream",
     "text": [
      "952\n"
     ]
    },
    {
     "name": "stderr",
     "output_type": "stream",
     "text": [
      "2023-05-19 21:40:45,856 INFO Request is queued\n",
      "2023-05-19 21:40:46,936 INFO Request is running\n",
      "2023-05-19 21:40:54,281 INFO Request is completed\n",
      "2023-05-19 21:40:54,616 INFO Welcome to the CDS\n",
      "2023-05-19 21:40:54,617 INFO Sending request to https://cds.climate.copernicus.eu/api/v2/resources/reanalysis-era5-pressure-levels\n",
      "2023-05-19 21:40:54,715 INFO Request is queued\n"
     ]
    },
    {
     "name": "stdout",
     "output_type": "stream",
     "text": [
      "953\n"
     ]
    },
    {
     "name": "stderr",
     "output_type": "stream",
     "text": [
      "2023-05-19 21:40:55,797 INFO Request is running\n",
      "2023-05-19 21:41:03,136 INFO Request is completed\n",
      "2023-05-19 21:41:03,618 INFO Welcome to the CDS\n",
      "2023-05-19 21:41:03,620 INFO Sending request to https://cds.climate.copernicus.eu/api/v2/resources/reanalysis-era5-pressure-levels\n",
      "2023-05-19 21:41:03,718 INFO Request is queued\n"
     ]
    },
    {
     "name": "stdout",
     "output_type": "stream",
     "text": [
      "954\n"
     ]
    },
    {
     "name": "stderr",
     "output_type": "stream",
     "text": [
      "2023-05-19 21:41:04,788 INFO Request is running\n",
      "2023-05-19 21:41:12,128 INFO Request is completed\n",
      "2023-05-19 21:41:12,681 INFO Welcome to the CDS\n",
      "2023-05-19 21:41:12,684 INFO Sending request to https://cds.climate.copernicus.eu/api/v2/resources/reanalysis-era5-pressure-levels\n",
      "2023-05-19 21:41:12,809 INFO Request is queued\n"
     ]
    },
    {
     "name": "stdout",
     "output_type": "stream",
     "text": [
      "955\n"
     ]
    },
    {
     "name": "stderr",
     "output_type": "stream",
     "text": [
      "2023-05-19 21:41:13,894 INFO Request is running\n",
      "2023-05-19 21:41:21,248 INFO Request is completed\n",
      "2023-05-19 21:41:21,581 INFO Welcome to the CDS\n",
      "2023-05-19 21:41:21,583 INFO Sending request to https://cds.climate.copernicus.eu/api/v2/resources/reanalysis-era5-pressure-levels\n",
      "2023-05-19 21:41:21,645 INFO Request is queued\n"
     ]
    },
    {
     "name": "stdout",
     "output_type": "stream",
     "text": [
      "956\n"
     ]
    },
    {
     "name": "stderr",
     "output_type": "stream",
     "text": [
      "2023-05-19 21:41:22,722 INFO Request is running\n",
      "2023-05-19 21:41:30,048 INFO Request is completed\n",
      "2023-05-19 21:41:30,388 INFO Welcome to the CDS\n",
      "2023-05-19 21:41:30,389 INFO Sending request to https://cds.climate.copernicus.eu/api/v2/resources/reanalysis-era5-pressure-levels\n",
      "2023-05-19 21:41:30,465 INFO Request is queued\n"
     ]
    },
    {
     "name": "stdout",
     "output_type": "stream",
     "text": [
      "957\n"
     ]
    },
    {
     "name": "stderr",
     "output_type": "stream",
     "text": [
      "2023-05-19 21:41:31,529 INFO Request is running\n",
      "2023-05-19 21:41:38,846 INFO Request is completed\n",
      "2023-05-19 21:41:39,184 INFO Welcome to the CDS\n",
      "2023-05-19 21:41:39,186 INFO Sending request to https://cds.climate.copernicus.eu/api/v2/resources/reanalysis-era5-pressure-levels\n",
      "2023-05-19 21:41:39,261 INFO Request is queued\n"
     ]
    },
    {
     "name": "stdout",
     "output_type": "stream",
     "text": [
      "958\n"
     ]
    },
    {
     "name": "stderr",
     "output_type": "stream",
     "text": [
      "2023-05-19 21:41:40,329 INFO Request is running\n",
      "2023-05-19 21:41:47,910 INFO Request is completed\n",
      "2023-05-19 21:41:48,424 INFO Welcome to the CDS\n",
      "2023-05-19 21:41:48,430 INFO Sending request to https://cds.climate.copernicus.eu/api/v2/resources/reanalysis-era5-pressure-levels\n",
      "2023-05-19 21:41:48,491 INFO Request is queued\n"
     ]
    },
    {
     "name": "stdout",
     "output_type": "stream",
     "text": [
      "959\n"
     ]
    },
    {
     "name": "stderr",
     "output_type": "stream",
     "text": [
      "2023-05-19 21:41:49,557 INFO Request is running\n",
      "2023-05-19 21:41:56,887 INFO Request is completed\n",
      "2023-05-19 21:41:57,199 INFO Welcome to the CDS\n",
      "2023-05-19 21:41:57,201 INFO Sending request to https://cds.climate.copernicus.eu/api/v2/resources/reanalysis-era5-pressure-levels\n",
      "2023-05-19 21:41:57,282 INFO Request is queued\n"
     ]
    },
    {
     "name": "stdout",
     "output_type": "stream",
     "text": [
      "960\n"
     ]
    },
    {
     "name": "stderr",
     "output_type": "stream",
     "text": [
      "2023-05-19 21:41:58,366 INFO Request is running\n",
      "2023-05-19 21:42:05,699 INFO Request is completed\n",
      "2023-05-19 21:42:06,055 INFO Welcome to the CDS\n",
      "2023-05-19 21:42:06,055 INFO Sending request to https://cds.climate.copernicus.eu/api/v2/resources/reanalysis-era5-pressure-levels\n",
      "2023-05-19 21:42:06,153 INFO Request is queued\n"
     ]
    },
    {
     "name": "stdout",
     "output_type": "stream",
     "text": [
      "961\n"
     ]
    },
    {
     "name": "stderr",
     "output_type": "stream",
     "text": [
      "2023-05-19 21:42:07,237 INFO Request is running\n",
      "2023-05-19 21:42:14,812 INFO Request is completed\n",
      "2023-05-19 21:42:15,285 INFO Welcome to the CDS\n",
      "2023-05-19 21:42:15,287 INFO Sending request to https://cds.climate.copernicus.eu/api/v2/resources/reanalysis-era5-pressure-levels\n",
      "2023-05-19 21:42:15,373 INFO Request is queued\n"
     ]
    },
    {
     "name": "stdout",
     "output_type": "stream",
     "text": [
      "962\n"
     ]
    },
    {
     "name": "stderr",
     "output_type": "stream",
     "text": [
      "2023-05-19 21:42:16,437 INFO Request is running\n",
      "2023-05-19 21:42:23,763 INFO Request is completed\n",
      "2023-05-19 21:42:24,081 INFO Welcome to the CDS\n",
      "2023-05-19 21:42:24,083 INFO Sending request to https://cds.climate.copernicus.eu/api/v2/resources/reanalysis-era5-pressure-levels\n",
      "2023-05-19 21:42:24,178 INFO Request is queued\n"
     ]
    },
    {
     "name": "stdout",
     "output_type": "stream",
     "text": [
      "963\n"
     ]
    },
    {
     "name": "stderr",
     "output_type": "stream",
     "text": [
      "2023-05-19 21:42:25,259 INFO Request is running\n",
      "2023-05-19 21:42:32,650 INFO Request is completed\n",
      "2023-05-19 21:42:32,987 INFO Welcome to the CDS\n",
      "2023-05-19 21:42:32,988 INFO Sending request to https://cds.climate.copernicus.eu/api/v2/resources/reanalysis-era5-pressure-levels\n",
      "2023-05-19 21:42:33,056 INFO Request is queued\n"
     ]
    },
    {
     "name": "stdout",
     "output_type": "stream",
     "text": [
      "964\n"
     ]
    },
    {
     "name": "stderr",
     "output_type": "stream",
     "text": [
      "2023-05-19 21:42:34,128 INFO Request is running\n",
      "2023-05-19 21:42:41,470 INFO Request is completed\n",
      "2023-05-19 21:42:41,811 INFO Welcome to the CDS\n",
      "2023-05-19 21:42:41,813 INFO Sending request to https://cds.climate.copernicus.eu/api/v2/resources/reanalysis-era5-pressure-levels\n",
      "2023-05-19 21:42:41,890 INFO Request is queued\n"
     ]
    },
    {
     "name": "stdout",
     "output_type": "stream",
     "text": [
      "965\n"
     ]
    },
    {
     "name": "stderr",
     "output_type": "stream",
     "text": [
      "2023-05-19 21:42:42,962 INFO Request is running\n",
      "2023-05-19 21:42:50,297 INFO Request is completed\n",
      "2023-05-19 21:42:50,641 INFO Welcome to the CDS\n",
      "2023-05-19 21:42:50,641 INFO Sending request to https://cds.climate.copernicus.eu/api/v2/resources/reanalysis-era5-pressure-levels\n",
      "2023-05-19 21:42:50,740 INFO Request is queued\n"
     ]
    },
    {
     "name": "stdout",
     "output_type": "stream",
     "text": [
      "966\n"
     ]
    },
    {
     "name": "stderr",
     "output_type": "stream",
     "text": [
      "2023-05-19 21:42:51,807 INFO Request is running\n",
      "2023-05-19 21:42:59,541 INFO Request is completed\n",
      "2023-05-19 21:43:00,039 INFO Welcome to the CDS\n",
      "2023-05-19 21:43:00,040 INFO Sending request to https://cds.climate.copernicus.eu/api/v2/resources/reanalysis-era5-pressure-levels\n",
      "2023-05-19 21:43:00,098 INFO Request is queued\n"
     ]
    },
    {
     "name": "stdout",
     "output_type": "stream",
     "text": [
      "967\n"
     ]
    },
    {
     "name": "stderr",
     "output_type": "stream",
     "text": [
      "2023-05-19 21:43:01,163 INFO Request is running\n",
      "2023-05-19 21:43:08,488 INFO Request is completed\n"
     ]
    },
    {
     "name": "stdout",
     "output_type": "stream",
     "text": [
      "968\n"
     ]
    },
    {
     "name": "stderr",
     "output_type": "stream",
     "text": [
      "2023-05-19 21:43:09,082 INFO Welcome to the CDS\n",
      "2023-05-19 21:43:09,082 INFO Sending request to https://cds.climate.copernicus.eu/api/v2/resources/reanalysis-era5-pressure-levels\n",
      "2023-05-19 21:43:09,138 INFO Request is queued\n",
      "2023-05-19 21:43:10,207 INFO Request is running\n",
      "2023-05-19 21:43:17,561 INFO Request is completed\n",
      "2023-05-19 21:43:17,918 INFO Welcome to the CDS\n",
      "2023-05-19 21:43:17,920 INFO Sending request to https://cds.climate.copernicus.eu/api/v2/resources/reanalysis-era5-pressure-levels\n",
      "2023-05-19 21:43:17,985 INFO Request is queued\n"
     ]
    },
    {
     "name": "stdout",
     "output_type": "stream",
     "text": [
      "969\n"
     ]
    },
    {
     "name": "stderr",
     "output_type": "stream",
     "text": [
      "2023-05-19 21:43:19,054 INFO Request is running\n",
      "2023-05-19 21:43:26,385 INFO Request is completed\n",
      "2023-05-19 21:43:26,734 INFO Welcome to the CDS\n",
      "2023-05-19 21:43:26,736 INFO Sending request to https://cds.climate.copernicus.eu/api/v2/resources/reanalysis-era5-pressure-levels\n",
      "2023-05-19 21:43:26,798 INFO Request is queued\n"
     ]
    },
    {
     "name": "stdout",
     "output_type": "stream",
     "text": [
      "970\n"
     ]
    },
    {
     "name": "stderr",
     "output_type": "stream",
     "text": [
      "2023-05-19 21:43:27,876 INFO Request is running\n",
      "2023-05-19 21:43:35,220 INFO Request is completed\n",
      "2023-05-19 21:43:35,774 INFO Welcome to the CDS\n",
      "2023-05-19 21:43:35,778 INFO Sending request to https://cds.climate.copernicus.eu/api/v2/resources/reanalysis-era5-pressure-levels\n",
      "2023-05-19 21:43:35,839 INFO Request is queued\n"
     ]
    },
    {
     "name": "stdout",
     "output_type": "stream",
     "text": [
      "971\n"
     ]
    },
    {
     "name": "stderr",
     "output_type": "stream",
     "text": [
      "2023-05-19 21:43:36,913 INFO Request is running\n",
      "2023-05-19 21:43:44,243 INFO Request is completed\n",
      "2023-05-19 21:43:44,591 INFO Welcome to the CDS\n",
      "2023-05-19 21:43:44,593 INFO Sending request to https://cds.climate.copernicus.eu/api/v2/resources/reanalysis-era5-pressure-levels\n",
      "2023-05-19 21:43:44,669 INFO Request is queued\n"
     ]
    },
    {
     "name": "stdout",
     "output_type": "stream",
     "text": [
      "972\n"
     ]
    },
    {
     "name": "stderr",
     "output_type": "stream",
     "text": [
      "2023-05-19 21:43:45,745 INFO Request is running\n",
      "2023-05-19 21:43:53,076 INFO Request is completed\n",
      "2023-05-19 21:43:53,549 INFO Welcome to the CDS\n",
      "2023-05-19 21:43:53,551 INFO Sending request to https://cds.climate.copernicus.eu/api/v2/resources/reanalysis-era5-pressure-levels\n",
      "2023-05-19 21:43:53,616 INFO Request is queued\n"
     ]
    },
    {
     "name": "stdout",
     "output_type": "stream",
     "text": [
      "973\n"
     ]
    },
    {
     "name": "stderr",
     "output_type": "stream",
     "text": [
      "2023-05-19 21:43:54,693 INFO Request is running\n",
      "2023-05-19 21:44:02,040 INFO Request is completed\n",
      "2023-05-19 21:44:02,400 INFO Welcome to the CDS\n",
      "2023-05-19 21:44:02,401 INFO Sending request to https://cds.climate.copernicus.eu/api/v2/resources/reanalysis-era5-pressure-levels\n",
      "2023-05-19 21:44:02,466 INFO Request is queued\n"
     ]
    },
    {
     "name": "stdout",
     "output_type": "stream",
     "text": [
      "974\n"
     ]
    },
    {
     "name": "stderr",
     "output_type": "stream",
     "text": [
      "2023-05-19 21:44:03,556 INFO Request is running\n",
      "2023-05-19 21:44:10,890 INFO Request is completed\n",
      "2023-05-19 21:44:11,364 INFO Welcome to the CDS\n",
      "2023-05-19 21:44:11,366 INFO Sending request to https://cds.climate.copernicus.eu/api/v2/resources/reanalysis-era5-pressure-levels\n"
     ]
    },
    {
     "name": "stdout",
     "output_type": "stream",
     "text": [
      "975\n"
     ]
    },
    {
     "name": "stderr",
     "output_type": "stream",
     "text": [
      "2023-05-19 21:44:11,515 INFO Request is queued\n",
      "2023-05-19 21:44:12,590 INFO Request is running\n",
      "2023-05-19 21:44:19,931 INFO Request is completed\n",
      "2023-05-19 21:44:21,270 INFO Welcome to the CDS\n",
      "2023-05-19 21:44:21,272 INFO Sending request to https://cds.climate.copernicus.eu/api/v2/resources/reanalysis-era5-pressure-levels\n",
      "2023-05-19 21:44:21,332 INFO Request is queued\n"
     ]
    },
    {
     "name": "stdout",
     "output_type": "stream",
     "text": [
      "976\n"
     ]
    },
    {
     "name": "stderr",
     "output_type": "stream",
     "text": [
      "2023-05-19 21:44:22,403 INFO Request is running\n",
      "2023-05-19 21:44:29,739 INFO Request is completed\n",
      "2023-05-19 21:44:30,220 INFO Welcome to the CDS\n",
      "2023-05-19 21:44:30,221 INFO Sending request to https://cds.climate.copernicus.eu/api/v2/resources/reanalysis-era5-pressure-levels\n",
      "2023-05-19 21:44:30,288 INFO Request is queued\n"
     ]
    },
    {
     "name": "stdout",
     "output_type": "stream",
     "text": [
      "977\n"
     ]
    },
    {
     "name": "stderr",
     "output_type": "stream",
     "text": [
      "2023-05-19 21:44:31,360 INFO Request is running\n",
      "2023-05-19 21:44:38,727 INFO Request is completed\n",
      "2023-05-19 21:44:39,051 INFO Welcome to the CDS\n",
      "2023-05-19 21:44:39,053 INFO Sending request to https://cds.climate.copernicus.eu/api/v2/resources/reanalysis-era5-pressure-levels\n",
      "2023-05-19 21:44:39,151 INFO Request is queued\n"
     ]
    },
    {
     "name": "stdout",
     "output_type": "stream",
     "text": [
      "978\n"
     ]
    },
    {
     "name": "stderr",
     "output_type": "stream",
     "text": [
      "2023-05-19 21:44:40,235 INFO Request is running\n",
      "2023-05-19 21:44:47,578 INFO Request is completed\n",
      "2023-05-19 21:44:48,134 INFO Welcome to the CDS\n",
      "2023-05-19 21:44:48,135 INFO Sending request to https://cds.climate.copernicus.eu/api/v2/resources/reanalysis-era5-pressure-levels\n",
      "2023-05-19 21:44:48,200 INFO Request is queued\n"
     ]
    },
    {
     "name": "stdout",
     "output_type": "stream",
     "text": [
      "979\n"
     ]
    },
    {
     "name": "stderr",
     "output_type": "stream",
     "text": [
      "2023-05-19 21:44:49,268 INFO Request is running\n",
      "2023-05-19 21:44:56,603 INFO Request is completed\n",
      "2023-05-19 21:44:57,172 INFO Welcome to the CDS\n",
      "2023-05-19 21:44:57,174 INFO Sending request to https://cds.climate.copernicus.eu/api/v2/resources/reanalysis-era5-pressure-levels\n",
      "2023-05-19 21:44:57,239 INFO Request is queued\n"
     ]
    },
    {
     "name": "stdout",
     "output_type": "stream",
     "text": [
      "980\n"
     ]
    },
    {
     "name": "stderr",
     "output_type": "stream",
     "text": [
      "2023-05-19 21:44:58,321 INFO Request is running\n",
      "2023-05-19 21:45:05,813 INFO Request is completed\n",
      "2023-05-19 21:45:06,144 INFO Welcome to the CDS\n",
      "2023-05-19 21:45:06,144 INFO Sending request to https://cds.climate.copernicus.eu/api/v2/resources/reanalysis-era5-pressure-levels\n",
      "2023-05-19 21:45:06,221 INFO Request is queued\n"
     ]
    },
    {
     "name": "stdout",
     "output_type": "stream",
     "text": [
      "981\n"
     ]
    },
    {
     "name": "stderr",
     "output_type": "stream",
     "text": [
      "2023-05-19 21:45:07,285 INFO Request is running\n",
      "2023-05-19 21:45:14,635 INFO Request is completed\n",
      "2023-05-19 21:45:14,961 INFO Welcome to the CDS\n",
      "2023-05-19 21:45:14,965 INFO Sending request to https://cds.climate.copernicus.eu/api/v2/resources/reanalysis-era5-pressure-levels\n",
      "2023-05-19 21:45:15,020 INFO Request is queued\n"
     ]
    },
    {
     "name": "stdout",
     "output_type": "stream",
     "text": [
      "982\n"
     ]
    },
    {
     "name": "stderr",
     "output_type": "stream",
     "text": [
      "2023-05-19 21:45:16,080 INFO Request is running\n",
      "2023-05-19 21:45:23,406 INFO Request is completed\n",
      "2023-05-19 21:45:23,745 INFO Welcome to the CDS\n",
      "2023-05-19 21:45:23,747 INFO Sending request to https://cds.climate.copernicus.eu/api/v2/resources/reanalysis-era5-pressure-levels\n"
     ]
    },
    {
     "name": "stdout",
     "output_type": "stream",
     "text": [
      "983\n"
     ]
    },
    {
     "name": "stderr",
     "output_type": "stream",
     "text": [
      "2023-05-19 21:45:24,047 INFO Request is queued\n",
      "2023-05-19 21:45:25,120 INFO Request is running\n",
      "2023-05-19 21:45:32,432 INFO Request is completed\n",
      "2023-05-19 21:45:32,764 INFO Welcome to the CDS\n",
      "2023-05-19 21:45:32,765 INFO Sending request to https://cds.climate.copernicus.eu/api/v2/resources/reanalysis-era5-pressure-levels\n",
      "2023-05-19 21:45:32,823 INFO Request is queued\n"
     ]
    },
    {
     "name": "stdout",
     "output_type": "stream",
     "text": [
      "984\n"
     ]
    },
    {
     "name": "stderr",
     "output_type": "stream",
     "text": [
      "2023-05-19 21:45:33,887 INFO Request is running\n",
      "2023-05-19 21:45:41,210 INFO Request is completed\n",
      "2023-05-19 21:45:41,537 INFO Welcome to the CDS\n",
      "2023-05-19 21:45:41,539 INFO Sending request to https://cds.climate.copernicus.eu/api/v2/resources/reanalysis-era5-pressure-levels\n",
      "2023-05-19 21:45:41,618 INFO Request is queued\n"
     ]
    },
    {
     "name": "stdout",
     "output_type": "stream",
     "text": [
      "985\n"
     ]
    },
    {
     "name": "stderr",
     "output_type": "stream",
     "text": [
      "2023-05-19 21:45:42,688 INFO Request is running\n",
      "2023-05-19 21:45:50,020 INFO Request is completed\n",
      "2023-05-19 21:45:50,354 INFO Welcome to the CDS\n",
      "2023-05-19 21:45:50,355 INFO Sending request to https://cds.climate.copernicus.eu/api/v2/resources/reanalysis-era5-pressure-levels\n"
     ]
    },
    {
     "name": "stdout",
     "output_type": "stream",
     "text": [
      "986\n"
     ]
    },
    {
     "name": "stderr",
     "output_type": "stream",
     "text": [
      "2023-05-19 21:45:50,722 INFO Request is queued\n",
      "2023-05-19 21:45:51,788 INFO Request is running\n",
      "2023-05-19 21:45:59,118 INFO Request is completed\n",
      "2023-05-19 21:45:59,708 INFO Welcome to the CDS\n",
      "2023-05-19 21:45:59,709 INFO Sending request to https://cds.climate.copernicus.eu/api/v2/resources/reanalysis-era5-pressure-levels\n",
      "2023-05-19 21:45:59,809 INFO Request is queued\n"
     ]
    },
    {
     "name": "stdout",
     "output_type": "stream",
     "text": [
      "987\n"
     ]
    },
    {
     "name": "stderr",
     "output_type": "stream",
     "text": [
      "2023-05-19 21:46:00,875 INFO Request is running\n",
      "2023-05-19 21:46:08,458 INFO Request is completed\n",
      "2023-05-19 21:46:08,793 INFO Welcome to the CDS\n",
      "2023-05-19 21:46:08,794 INFO Sending request to https://cds.climate.copernicus.eu/api/v2/resources/reanalysis-era5-pressure-levels\n",
      "2023-05-19 21:46:08,868 INFO Request is queued\n"
     ]
    },
    {
     "name": "stdout",
     "output_type": "stream",
     "text": [
      "988\n"
     ]
    },
    {
     "name": "stderr",
     "output_type": "stream",
     "text": [
      "2023-05-19 21:46:09,933 INFO Request is running\n",
      "2023-05-19 21:46:17,261 INFO Request is completed\n",
      "2023-05-19 21:46:17,710 INFO Welcome to the CDS\n",
      "2023-05-19 21:46:17,710 INFO Sending request to https://cds.climate.copernicus.eu/api/v2/resources/reanalysis-era5-pressure-levels\n",
      "2023-05-19 21:46:17,775 INFO Request is queued\n"
     ]
    },
    {
     "name": "stdout",
     "output_type": "stream",
     "text": [
      "989\n"
     ]
    },
    {
     "name": "stderr",
     "output_type": "stream",
     "text": [
      "2023-05-19 21:46:18,842 INFO Request is running\n",
      "2023-05-19 21:46:26,167 INFO Request is completed\n",
      "2023-05-19 21:46:26,502 INFO Welcome to the CDS\n",
      "2023-05-19 21:46:26,503 INFO Sending request to https://cds.climate.copernicus.eu/api/v2/resources/reanalysis-era5-pressure-levels\n",
      "2023-05-19 21:46:26,565 INFO Request is queued\n"
     ]
    },
    {
     "name": "stdout",
     "output_type": "stream",
     "text": [
      "990\n"
     ]
    },
    {
     "name": "stderr",
     "output_type": "stream",
     "text": [
      "2023-05-19 21:46:27,634 INFO Request is running\n",
      "2023-05-19 21:46:34,966 INFO Request is completed\n",
      "2023-05-19 21:46:35,543 INFO Welcome to the CDS\n",
      "2023-05-19 21:46:35,545 INFO Sending request to https://cds.climate.copernicus.eu/api/v2/resources/reanalysis-era5-pressure-levels\n",
      "2023-05-19 21:46:35,635 INFO Request is queued\n"
     ]
    },
    {
     "name": "stdout",
     "output_type": "stream",
     "text": [
      "991\n"
     ]
    },
    {
     "name": "stderr",
     "output_type": "stream",
     "text": [
      "2023-05-19 21:46:36,707 INFO Request is running\n",
      "2023-05-19 21:46:44,290 INFO Request is completed\n",
      "2023-05-19 21:46:44,616 INFO Welcome to the CDS\n",
      "2023-05-19 21:46:44,617 INFO Sending request to https://cds.climate.copernicus.eu/api/v2/resources/reanalysis-era5-pressure-levels\n",
      "2023-05-19 21:46:44,734 INFO Request is queued\n"
     ]
    },
    {
     "name": "stdout",
     "output_type": "stream",
     "text": [
      "992\n"
     ]
    },
    {
     "name": "stderr",
     "output_type": "stream",
     "text": [
      "2023-05-19 21:46:45,808 INFO Request is running\n",
      "2023-05-19 21:46:53,266 INFO Request is completed\n",
      "2023-05-19 21:46:53,743 INFO Welcome to the CDS\n",
      "2023-05-19 21:46:53,745 INFO Sending request to https://cds.climate.copernicus.eu/api/v2/resources/reanalysis-era5-pressure-levels\n",
      "2023-05-19 21:46:53,810 INFO Request is queued\n"
     ]
    },
    {
     "name": "stdout",
     "output_type": "stream",
     "text": [
      "993\n"
     ]
    },
    {
     "name": "stderr",
     "output_type": "stream",
     "text": [
      "2023-05-19 21:46:54,884 INFO Request is running\n",
      "2023-05-19 21:47:02,234 INFO Request is completed\n",
      "2023-05-19 21:47:02,552 INFO Welcome to the CDS\n",
      "2023-05-19 21:47:02,558 INFO Sending request to https://cds.climate.copernicus.eu/api/v2/resources/reanalysis-era5-pressure-levels\n",
      "2023-05-19 21:47:02,632 INFO Request is queued\n"
     ]
    },
    {
     "name": "stdout",
     "output_type": "stream",
     "text": [
      "994\n"
     ]
    },
    {
     "name": "stderr",
     "output_type": "stream",
     "text": [
      "2023-05-19 21:47:03,694 INFO Request is running\n",
      "2023-05-19 21:47:11,011 INFO Request is completed\n"
     ]
    },
    {
     "name": "stdout",
     "output_type": "stream",
     "text": [
      "995\n"
     ]
    },
    {
     "name": "stderr",
     "output_type": "stream",
     "text": [
      "2023-05-19 21:47:11,493 INFO Welcome to the CDS\n",
      "2023-05-19 21:47:11,495 INFO Sending request to https://cds.climate.copernicus.eu/api/v2/resources/reanalysis-era5-pressure-levels\n",
      "2023-05-19 21:47:11,550 INFO Request is queued\n",
      "2023-05-19 21:47:12,626 INFO Request is running\n",
      "2023-05-19 21:47:16,508 INFO Request is completed\n",
      "2023-05-19 21:47:16,992 INFO Welcome to the CDS\n",
      "2023-05-19 21:47:16,994 INFO Sending request to https://cds.climate.copernicus.eu/api/v2/resources/reanalysis-era5-pressure-levels\n",
      "2023-05-19 21:47:17,115 INFO Request is queued\n"
     ]
    },
    {
     "name": "stdout",
     "output_type": "stream",
     "text": [
      "996\n"
     ]
    },
    {
     "name": "stderr",
     "output_type": "stream",
     "text": [
      "2023-05-19 21:47:18,190 INFO Request is running\n",
      "2023-05-19 21:47:25,503 INFO Request is completed\n",
      "2023-05-19 21:47:25,867 INFO Welcome to the CDS\n",
      "2023-05-19 21:47:25,868 INFO Sending request to https://cds.climate.copernicus.eu/api/v2/resources/reanalysis-era5-pressure-levels\n",
      "2023-05-19 21:47:25,974 INFO Request is queued\n"
     ]
    },
    {
     "name": "stdout",
     "output_type": "stream",
     "text": [
      "997\n"
     ]
    },
    {
     "name": "stderr",
     "output_type": "stream",
     "text": [
      "2023-05-19 21:47:27,035 INFO Request is running\n",
      "2023-05-19 21:47:34,357 INFO Request is completed\n",
      "2023-05-19 21:47:34,675 INFO Welcome to the CDS\n",
      "2023-05-19 21:47:34,676 INFO Sending request to https://cds.climate.copernicus.eu/api/v2/resources/reanalysis-era5-pressure-levels\n"
     ]
    },
    {
     "name": "stdout",
     "output_type": "stream",
     "text": [
      "998\n"
     ]
    },
    {
     "name": "stderr",
     "output_type": "stream",
     "text": [
      "2023-05-19 21:47:34,976 INFO Request is queued\n",
      "2023-05-19 21:47:36,052 INFO Request is running\n",
      "2023-05-19 21:47:43,429 INFO Request is completed\n",
      "2023-05-19 21:47:43,756 INFO Welcome to the CDS\n",
      "2023-05-19 21:47:43,759 INFO Sending request to https://cds.climate.copernicus.eu/api/v2/resources/reanalysis-era5-pressure-levels\n",
      "2023-05-19 21:47:43,814 INFO Request is queued\n"
     ]
    },
    {
     "name": "stdout",
     "output_type": "stream",
     "text": [
      "999\n"
     ]
    },
    {
     "name": "stderr",
     "output_type": "stream",
     "text": [
      "2023-05-19 21:47:44,887 INFO Request is running\n",
      "2023-05-19 21:47:52,220 INFO Request is completed\n"
     ]
    }
   ],
   "source": [
    "# Get meteo data\n",
    "dataset = 'reanalysis-era5-pressure-levels'\n",
    "download_flag = False\n",
    "\n",
    "points_df.to_crs(4326, inplace=True)\n",
    "\n",
    "for r in points_df_head_100.iterrows():\n",
    "    print(r[0])\n",
    "    \n",
    "    params = {\n",
    "         'format': 'netcdf',\n",
    "         'product_type': 'reanalysis',\n",
    "         'variable': ['temperature', 'u_component_of_wind', 'v_component_of_wind', 'specific_humidity', 'relative_humidity'],\n",
    "         'pressure_level':'1000',\n",
    "         'year':str(r[1][\"date\"].year),\n",
    "         'month':str(r[1][\"date\"].month),\n",
    "         'day': str(r[1][\"date\"].day),\n",
    "         'time': [str(x) for x in range(0,24)],\n",
    "         'grid': [0.25, 0.25],\n",
    "         'area': [r[1][\"geometry\"].y, r[1][\"geometry\"].x, r[1][\"geometry\"].y, r[1][\"geometry\"].x],\n",
    "         }\n",
    "     \n",
    "    # Download and load into memory    \n",
    "    fl = c.retrieve(dataset, params)\n",
    "    if download_flag:\n",
    "         fl.download(\"./output.nc\")\n",
    "         \n",
    "    with urlopen(fl.location) as f:\n",
    "         ds = xr.open_dataset(f.read())         \n",
    "    df = ds.to_dataframe()\n",
    "    # Write values of interestintopoints datafrafe\n",
    "    points_df.loc[r[0], [\"t_max\", \"u\", \"v\", 'specific_humidity', 'relative_humidity']] = df['t'].max(), df['u'].mean(), df['v'].mean(), df['q'].min(), df['r'].min()"
   ]
  },
  {
   "cell_type": "code",
   "execution_count": 82,
   "metadata": {},
   "outputs": [],
   "source": [
    "points_df.to_csv(\"data/points_data.csv\", index=False)"
   ]
  }
 ],
 "metadata": {
  "kernelspec": {
   "display_name": "TFM_env",
   "language": "python",
   "name": "python3"
  },
  "language_info": {
   "codemirror_mode": {
    "name": "ipython",
    "version": 3
   },
   "file_extension": ".py",
   "mimetype": "text/x-python",
   "name": "python",
   "nbconvert_exporter": "python",
   "pygments_lexer": "ipython3",
   "version": "3.8.15"
  },
  "orig_nbformat": 4
 },
 "nbformat": 4,
 "nbformat_minor": 2
}
